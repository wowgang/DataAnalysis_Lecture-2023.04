{
 "cells": [
  {
   "attachments": {},
   "cell_type": "markdown",
   "metadata": {},
   "source": [
    "### 수원인근대학교"
   ]
  },
  {
   "cell_type": "code",
   "execution_count": 1,
   "metadata": {},
   "outputs": [],
   "source": [
    "import folium\n",
    "import pandas as pd\n",
    "import requests, json\n",
    "from urllib.parse import quote "
   ]
  },
  {
   "cell_type": "code",
   "execution_count": 2,
   "metadata": {},
   "outputs": [],
   "source": [
    "with open('data/roadapikey.txt') as f:\n",
    "    road_key = f.read()"
   ]
  },
  {
   "cell_type": "code",
   "execution_count": 4,
   "metadata": {},
   "outputs": [
    {
     "data": {
      "text/plain": [
       "'%EC%95%84%EC%A3%BC%EB%8C%80%ED%95%99%EA%B5%90'"
      ]
     },
     "execution_count": 4,
     "metadata": {},
     "output_type": "execute_result"
    }
   ],
   "source": [
    "# 한글은 반드시 인코딩해서 보내야 함\n",
    "quote('아주대학교')"
   ]
  },
  {
   "cell_type": "code",
   "execution_count": 5,
   "metadata": {},
   "outputs": [],
   "source": [
    "# url 만들기\n",
    "base_url = 'https://www.juso.go.kr/addrlink/addrLinkApiJsonp.do' #가이드에있는 API기본정보 get호출\n",
    "params1 = f'confmKey={road_key}&currentPage=1&countPerPage=10' # currentPage, countPerPage 는 기본값\n",
    "params2 = f\"keyword={quote('아주대학교')}&resultType=json\" # 인코딩된 키 넣어주기\n",
    "url = f'{base_url}?{params1}&{params2}'"
   ]
  },
  {
   "cell_type": "code",
   "execution_count": 6,
   "metadata": {},
   "outputs": [
    {
     "data": {
      "text/plain": [
       "200"
      ]
     },
     "execution_count": 6,
     "metadata": {},
     "output_type": "execute_result"
    }
   ],
   "source": [
    "# 200 출력되면 잘된것\n",
    "result = requests.get(url)\n",
    "result.status_code # 코드상태확인"
   ]
  },
  {
   "cell_type": "code",
   "execution_count": 7,
   "metadata": {},
   "outputs": [
    {
     "data": {
      "text/plain": [
       "'({\"results\":{\"common\":{\"errorMessage\":\"정상\",\"countPerPage\":\"10\",\"totalCount\":\"13\",\"errorCode\":\"0\",\"currentPage\":\"1\"},\"juso\":[{\"detBdNmList\":\"\",\"engAddr\":\"199 World cup-ro, Yeongtong-gu, Suwon-si, Gyeon'"
      ]
     },
     "execution_count": 7,
     "metadata": {},
     "output_type": "execute_result"
    }
   ],
   "source": [
    "# ({}) JSON \n",
    "result.text[:200] # data 출력확인"
   ]
  },
  {
   "cell_type": "code",
   "execution_count": 8,
   "metadata": {},
   "outputs": [],
   "source": [
    "# res = json.loads(result.text) #괄호 땜에 에러남 괄호없애기\n",
    "# 시작과 끝에 ( )가 있어, 이것을 없애주어야 함\n",
    "res = json.loads(result.text[1:-1])"
   ]
  },
  {
   "cell_type": "code",
   "execution_count": 9,
   "metadata": {},
   "outputs": [
    {
     "data": {
      "text/plain": [
       "dict_keys(['results'])"
      ]
     },
     "execution_count": 9,
     "metadata": {},
     "output_type": "execute_result"
    }
   ],
   "source": [
    "res.keys()"
   ]
  },
  {
   "cell_type": "code",
   "execution_count": 10,
   "metadata": {},
   "outputs": [
    {
     "data": {
      "text/plain": [
       "dict_keys(['common', 'juso'])"
      ]
     },
     "execution_count": 10,
     "metadata": {},
     "output_type": "execute_result"
    }
   ],
   "source": [
    "res['results'].keys()"
   ]
  },
  {
   "cell_type": "code",
   "execution_count": 11,
   "metadata": {},
   "outputs": [
    {
     "data": {
      "text/plain": [
       "'경기도 수원시 영통구 월드컵로 199 (원천동)'"
      ]
     },
     "execution_count": 11,
     "metadata": {},
     "output_type": "execute_result"
    }
   ],
   "source": [
    "res['results']['juso'][0]['roadAddr']"
   ]
  },
  {
   "attachments": {},
   "cell_type": "markdown",
   "metadata": {},
   "source": [
    "#### 아주대학교,동남보건대학,수원 경기대학교,수원 성균관대학교,수원여자대학교,용인 경희대학교,수원과학대학,수원대학교"
   ]
  },
  {
   "cell_type": "code",
   "execution_count": 12,
   "metadata": {},
   "outputs": [
    {
     "data": {
      "text/plain": [
       "['아주대학교',\n",
       " '동남보건대학',\n",
       " '수원 경기대학교',\n",
       " '수원 성균관대학교',\n",
       " '수원여자대학',\n",
       " '용인 경희대학교',\n",
       " '수원과학대학',\n",
       " '수원대학교']"
      ]
     },
     "execution_count": 12,
     "metadata": {},
     "output_type": "execute_result"
    }
   ],
   "source": [
    "# 도로명주소 가져오기 응용\n",
    "unv_list = '아주대학교,동남보건대학,수원 경기대학교,수원 성균관대학교,수원여자대학,용인 경희대학교,수원과학대학,수원대학교'.split(',')\n",
    "unv_list"
   ]
  },
  {
   "cell_type": "code",
   "execution_count": 13,
   "metadata": {},
   "outputs": [],
   "source": [
    "road_addr_list = []\n",
    "for unv in unv_list:\n",
    "    params2 = f\"keyword={quote(unv)}&resultType=json\" \n",
    "    url = f'{base_url}?{params1}&{params2}'\n",
    "    result = requests.get(url)\n",
    "    if result.status_code == 200:\n",
    "        res = json.loads(result.text[1:-1])\n",
    "        road_addr_list.append(res['results']['juso'][0]['roadAddr'])\n",
    "    else:\n",
    "        print(result.status_code)"
   ]
  },
  {
   "cell_type": "code",
   "execution_count": 14,
   "metadata": {},
   "outputs": [
    {
     "data": {
      "text/plain": [
       "['경기도 수원시 영통구 월드컵로 199 (원천동)',\n",
       " '경기도 수원시 장안구 천천로74번길 50 (정자동)',\n",
       " '경기도 수원시 영통구 광교산로 154-42 (이의동)',\n",
       " '경기도 수원시 장안구 서부로 2066 (천천동)',\n",
       " '경기도 수원시 권선구 온정로 72 (오목천동)',\n",
       " '경기도 용인시 기흥구 덕영대로 1732 (서천동)',\n",
       " '경기도 화성시 정남면 세자로 288',\n",
       " '경기도 화성시 봉담읍 와우안길 17']"
      ]
     },
     "execution_count": 14,
     "metadata": {},
     "output_type": "execute_result"
    }
   ],
   "source": [
    "road_addr_list"
   ]
  },
  {
   "cell_type": "code",
   "execution_count": 15,
   "metadata": {},
   "outputs": [
    {
     "data": {
      "text/html": [
       "<div>\n",
       "<style scoped>\n",
       "    .dataframe tbody tr th:only-of-type {\n",
       "        vertical-align: middle;\n",
       "    }\n",
       "\n",
       "    .dataframe tbody tr th {\n",
       "        vertical-align: top;\n",
       "    }\n",
       "\n",
       "    .dataframe thead th {\n",
       "        text-align: right;\n",
       "    }\n",
       "</style>\n",
       "<table border=\"1\" class=\"dataframe\">\n",
       "  <thead>\n",
       "    <tr style=\"text-align: right;\">\n",
       "      <th></th>\n",
       "      <th>대학교</th>\n",
       "      <th>주소</th>\n",
       "    </tr>\n",
       "  </thead>\n",
       "  <tbody>\n",
       "    <tr>\n",
       "      <th>0</th>\n",
       "      <td>아주대학교</td>\n",
       "      <td>경기도 수원시 영통구 월드컵로 199 (원천동)</td>\n",
       "    </tr>\n",
       "    <tr>\n",
       "      <th>1</th>\n",
       "      <td>동남보건대학</td>\n",
       "      <td>경기도 수원시 장안구 천천로74번길 50 (정자동)</td>\n",
       "    </tr>\n",
       "    <tr>\n",
       "      <th>2</th>\n",
       "      <td>수원 경기대학교</td>\n",
       "      <td>경기도 수원시 영통구 광교산로 154-42 (이의동)</td>\n",
       "    </tr>\n",
       "    <tr>\n",
       "      <th>3</th>\n",
       "      <td>수원 성균관대학교</td>\n",
       "      <td>경기도 수원시 장안구 서부로 2066 (천천동)</td>\n",
       "    </tr>\n",
       "    <tr>\n",
       "      <th>4</th>\n",
       "      <td>수원여자대학</td>\n",
       "      <td>경기도 수원시 권선구 온정로 72 (오목천동)</td>\n",
       "    </tr>\n",
       "    <tr>\n",
       "      <th>5</th>\n",
       "      <td>용인 경희대학교</td>\n",
       "      <td>경기도 용인시 기흥구 덕영대로 1732 (서천동)</td>\n",
       "    </tr>\n",
       "    <tr>\n",
       "      <th>6</th>\n",
       "      <td>수원과학대학</td>\n",
       "      <td>경기도 화성시 정남면 세자로 288</td>\n",
       "    </tr>\n",
       "    <tr>\n",
       "      <th>7</th>\n",
       "      <td>수원대학교</td>\n",
       "      <td>경기도 화성시 봉담읍 와우안길 17</td>\n",
       "    </tr>\n",
       "  </tbody>\n",
       "</table>\n",
       "</div>"
      ],
      "text/plain": [
       "         대학교                             주소\n",
       "0      아주대학교     경기도 수원시 영통구 월드컵로 199 (원천동)\n",
       "1     동남보건대학   경기도 수원시 장안구 천천로74번길 50 (정자동)\n",
       "2   수원 경기대학교  경기도 수원시 영통구 광교산로 154-42 (이의동)\n",
       "3  수원 성균관대학교     경기도 수원시 장안구 서부로 2066 (천천동)\n",
       "4     수원여자대학      경기도 수원시 권선구 온정로 72 (오목천동)\n",
       "5   용인 경희대학교    경기도 용인시 기흥구 덕영대로 1732 (서천동)\n",
       "6     수원과학대학            경기도 화성시 정남면 세자로 288\n",
       "7      수원대학교            경기도 화성시 봉담읍 와우안길 17"
      ]
     },
     "execution_count": 15,
     "metadata": {},
     "output_type": "execute_result"
    }
   ],
   "source": [
    "import pandas as pd\n",
    "\n",
    "df1 = pd.DataFrame({\n",
    "    '대학교': unv_list, '주소': road_addr_list\n",
    "})\n",
    "df1"
   ]
  },
  {
   "cell_type": "code",
   "execution_count": 16,
   "metadata": {},
   "outputs": [],
   "source": [
    "df1.to_csv('data/수원근처대학교.csv' ,index=False)\n",
    "df2 = pd.read_csv('data/수원근처대학교.csv')"
   ]
  },
  {
   "cell_type": "code",
   "execution_count": 17,
   "metadata": {},
   "outputs": [
    {
     "data": {
      "text/html": [
       "<div>\n",
       "<style scoped>\n",
       "    .dataframe tbody tr th:only-of-type {\n",
       "        vertical-align: middle;\n",
       "    }\n",
       "\n",
       "    .dataframe tbody tr th {\n",
       "        vertical-align: top;\n",
       "    }\n",
       "\n",
       "    .dataframe thead th {\n",
       "        text-align: right;\n",
       "    }\n",
       "</style>\n",
       "<table border=\"1\" class=\"dataframe\">\n",
       "  <thead>\n",
       "    <tr style=\"text-align: right;\">\n",
       "      <th></th>\n",
       "      <th>대학교</th>\n",
       "      <th>주소</th>\n",
       "    </tr>\n",
       "  </thead>\n",
       "  <tbody>\n",
       "    <tr>\n",
       "      <th>0</th>\n",
       "      <td>아주대학교</td>\n",
       "      <td>경기도 수원시 영통구 월드컵로 199 (원천동)</td>\n",
       "    </tr>\n",
       "    <tr>\n",
       "      <th>1</th>\n",
       "      <td>동남보건대학</td>\n",
       "      <td>경기도 수원시 장안구 천천로74번길 50 (정자동)</td>\n",
       "    </tr>\n",
       "    <tr>\n",
       "      <th>2</th>\n",
       "      <td>수원 경기대학교</td>\n",
       "      <td>경기도 수원시 영통구 광교산로 154-42 (이의동)</td>\n",
       "    </tr>\n",
       "    <tr>\n",
       "      <th>3</th>\n",
       "      <td>수원 성균관대학교</td>\n",
       "      <td>경기도 수원시 장안구 서부로 2066 (천천동)</td>\n",
       "    </tr>\n",
       "    <tr>\n",
       "      <th>4</th>\n",
       "      <td>수원여자대학</td>\n",
       "      <td>경기도 수원시 권선구 온정로 72 (오목천동)</td>\n",
       "    </tr>\n",
       "    <tr>\n",
       "      <th>5</th>\n",
       "      <td>용인 경희대학교</td>\n",
       "      <td>경기도 용인시 기흥구 덕영대로 1732 (서천동)</td>\n",
       "    </tr>\n",
       "    <tr>\n",
       "      <th>6</th>\n",
       "      <td>수원과학대학</td>\n",
       "      <td>경기도 화성시 정남면 세자로 288</td>\n",
       "    </tr>\n",
       "    <tr>\n",
       "      <th>7</th>\n",
       "      <td>수원대학교</td>\n",
       "      <td>경기도 화성시 봉담읍 와우안길 17</td>\n",
       "    </tr>\n",
       "  </tbody>\n",
       "</table>\n",
       "</div>"
      ],
      "text/plain": [
       "         대학교                             주소\n",
       "0      아주대학교     경기도 수원시 영통구 월드컵로 199 (원천동)\n",
       "1     동남보건대학   경기도 수원시 장안구 천천로74번길 50 (정자동)\n",
       "2   수원 경기대학교  경기도 수원시 영통구 광교산로 154-42 (이의동)\n",
       "3  수원 성균관대학교     경기도 수원시 장안구 서부로 2066 (천천동)\n",
       "4     수원여자대학      경기도 수원시 권선구 온정로 72 (오목천동)\n",
       "5   용인 경희대학교    경기도 용인시 기흥구 덕영대로 1732 (서천동)\n",
       "6     수원과학대학            경기도 화성시 정남면 세자로 288\n",
       "7      수원대학교            경기도 화성시 봉담읍 와우안길 17"
      ]
     },
     "execution_count": 17,
     "metadata": {},
     "output_type": "execute_result"
    }
   ],
   "source": [
    "df2"
   ]
  },
  {
   "attachments": {},
   "cell_type": "markdown",
   "metadata": {},
   "source": [
    "- 카카오api"
   ]
  },
  {
   "cell_type": "code",
   "execution_count": 18,
   "metadata": {},
   "outputs": [],
   "source": [
    "with open('data/kakaoapikey.txt') as f:\n",
    "    kakao_key = f.read()"
   ]
  },
  {
   "cell_type": "code",
   "execution_count": 19,
   "metadata": {},
   "outputs": [
    {
     "data": {
      "text/plain": [
       "'https://dapi.kakao.com/v2/local/search/address.json?query=%EA%B2%BD%EA%B8%B0%EB%8F%84%20%EC%88%98%EC%9B%90%EC%8B%9C%20%EC%98%81%ED%86%B5%EA%B5%AC%20%EC%9B%94%EB%93%9C%EC%BB%B5%EB%A1%9C%20199%20%28%EC%9B%90%EC%B2%9C%EB%8F%99%29'"
      ]
     },
     "execution_count": 19,
     "metadata": {},
     "output_type": "execute_result"
    }
   ],
   "source": [
    "base_url = 'https://dapi.kakao.com/v2/local/search/address.json' # 카카오 Request get\n",
    "addr = '경기도 수원시 영통구 월드컵로 199 (원천동)'\n",
    "url = f'{base_url}?query={quote(addr)}'\n",
    "url"
   ]
  },
  {
   "cell_type": "code",
   "execution_count": 20,
   "metadata": {},
   "outputs": [],
   "source": [
    "header = {'Authorization': f'KakaoAK {kakao_key}'}"
   ]
  },
  {
   "cell_type": "code",
   "execution_count": 21,
   "metadata": {},
   "outputs": [
    {
     "data": {
      "text/plain": [
       "{'documents': [{'address': {'address_name': '경기 수원시 영통구 원천동 13-4',\n",
       "    'b_code': '4111710200',\n",
       "    'h_code': '4111755000',\n",
       "    'main_address_no': '13',\n",
       "    'mountain_yn': 'N',\n",
       "    'region_1depth_name': '경기',\n",
       "    'region_2depth_name': '수원시 영통구',\n",
       "    'region_3depth_h_name': '원천동',\n",
       "    'region_3depth_name': '원천동',\n",
       "    'sub_address_no': '4',\n",
       "    'x': '127.044142224462',\n",
       "    'y': '37.279204703544'},\n",
       "   'address_name': '경기 수원시 영통구 월드컵로 199',\n",
       "   'address_type': 'ROAD_ADDR',\n",
       "   'road_address': {'address_name': '경기 수원시 영통구 월드컵로 199',\n",
       "    'building_name': '아주대학교어학교육원',\n",
       "    'main_building_no': '199',\n",
       "    'region_1depth_name': '경기',\n",
       "    'region_2depth_name': '수원시 영통구',\n",
       "    'region_3depth_name': '원천동',\n",
       "    'road_name': '월드컵로',\n",
       "    'sub_building_no': '',\n",
       "    'underground_yn': 'N',\n",
       "    'x': '127.044142224462',\n",
       "    'y': '37.279204703544',\n",
       "    'zone_no': '16502'},\n",
       "   'x': '127.044142224462',\n",
       "   'y': '37.279204703544'}],\n",
       " 'meta': {'is_end': True, 'pageable_count': 1, 'total_count': 1}}"
      ]
     },
     "execution_count": 21,
     "metadata": {},
     "output_type": "execute_result"
    }
   ],
   "source": [
    "result = requests.get(url, headers=header).json() \n",
    "result"
   ]
  },
  {
   "cell_type": "code",
   "execution_count": 22,
   "metadata": {},
   "outputs": [
    {
     "data": {
      "text/plain": [
       "dict_keys(['documents', 'meta'])"
      ]
     },
     "execution_count": 22,
     "metadata": {},
     "output_type": "execute_result"
    }
   ],
   "source": [
    "result.keys()"
   ]
  },
  {
   "cell_type": "code",
   "execution_count": 23,
   "metadata": {},
   "outputs": [
    {
     "data": {
      "text/plain": [
       "dict_keys(['address', 'address_name', 'address_type', 'road_address', 'x', 'y'])"
      ]
     },
     "execution_count": 23,
     "metadata": {},
     "output_type": "execute_result"
    }
   ],
   "source": [
    "result['documents'][0].keys()"
   ]
  },
  {
   "cell_type": "code",
   "execution_count": 24,
   "metadata": {},
   "outputs": [
    {
     "data": {
      "text/plain": [
       "(37.279204703544, 127.044142224462)"
      ]
     },
     "execution_count": 24,
     "metadata": {},
     "output_type": "execute_result"
    }
   ],
   "source": [
    "lat = float(result['documents'][0]['y']) # 경도 문자열로나와서 float\n",
    "lng = float(result['documents'][0]['x']) # 위도\n",
    "lat, lng"
   ]
  },
  {
   "cell_type": "code",
   "execution_count": 25,
   "metadata": {},
   "outputs": [
    {
     "data": {
      "text/html": [
       "<div>\n",
       "<style scoped>\n",
       "    .dataframe tbody tr th:only-of-type {\n",
       "        vertical-align: middle;\n",
       "    }\n",
       "\n",
       "    .dataframe tbody tr th {\n",
       "        vertical-align: top;\n",
       "    }\n",
       "\n",
       "    .dataframe thead th {\n",
       "        text-align: right;\n",
       "    }\n",
       "</style>\n",
       "<table border=\"1\" class=\"dataframe\">\n",
       "  <thead>\n",
       "    <tr style=\"text-align: right;\">\n",
       "      <th></th>\n",
       "      <th>대학교</th>\n",
       "      <th>주소</th>\n",
       "    </tr>\n",
       "  </thead>\n",
       "  <tbody>\n",
       "    <tr>\n",
       "      <th>0</th>\n",
       "      <td>아주대학교</td>\n",
       "      <td>경기도 수원시 영통구 월드컵로 199 (원천동)</td>\n",
       "    </tr>\n",
       "    <tr>\n",
       "      <th>1</th>\n",
       "      <td>동남보건대학</td>\n",
       "      <td>경기도 수원시 장안구 천천로74번길 50 (정자동)</td>\n",
       "    </tr>\n",
       "    <tr>\n",
       "      <th>2</th>\n",
       "      <td>수원 경기대학교</td>\n",
       "      <td>경기도 수원시 영통구 광교산로 154-42 (이의동)</td>\n",
       "    </tr>\n",
       "    <tr>\n",
       "      <th>3</th>\n",
       "      <td>수원 성균관대학교</td>\n",
       "      <td>경기도 수원시 장안구 서부로 2066 (천천동)</td>\n",
       "    </tr>\n",
       "    <tr>\n",
       "      <th>4</th>\n",
       "      <td>수원여자대학</td>\n",
       "      <td>경기도 수원시 권선구 온정로 72 (오목천동)</td>\n",
       "    </tr>\n",
       "    <tr>\n",
       "      <th>5</th>\n",
       "      <td>용인 경희대학교</td>\n",
       "      <td>경기도 용인시 기흥구 덕영대로 1732 (서천동)</td>\n",
       "    </tr>\n",
       "    <tr>\n",
       "      <th>6</th>\n",
       "      <td>수원과학대학</td>\n",
       "      <td>경기도 화성시 정남면 세자로 288</td>\n",
       "    </tr>\n",
       "    <tr>\n",
       "      <th>7</th>\n",
       "      <td>수원대학교</td>\n",
       "      <td>경기도 화성시 봉담읍 와우안길 17</td>\n",
       "    </tr>\n",
       "  </tbody>\n",
       "</table>\n",
       "</div>"
      ],
      "text/plain": [
       "         대학교                             주소\n",
       "0      아주대학교     경기도 수원시 영통구 월드컵로 199 (원천동)\n",
       "1     동남보건대학   경기도 수원시 장안구 천천로74번길 50 (정자동)\n",
       "2   수원 경기대학교  경기도 수원시 영통구 광교산로 154-42 (이의동)\n",
       "3  수원 성균관대학교     경기도 수원시 장안구 서부로 2066 (천천동)\n",
       "4     수원여자대학      경기도 수원시 권선구 온정로 72 (오목천동)\n",
       "5   용인 경희대학교    경기도 용인시 기흥구 덕영대로 1732 (서천동)\n",
       "6     수원과학대학            경기도 화성시 정남면 세자로 288\n",
       "7      수원대학교            경기도 화성시 봉담읍 와우안길 17"
      ]
     },
     "execution_count": 25,
     "metadata": {},
     "output_type": "execute_result"
    }
   ],
   "source": [
    "df2"
   ]
  },
  {
   "cell_type": "code",
   "execution_count": 26,
   "metadata": {},
   "outputs": [],
   "source": [
    "# 반복문으로 위도,경도\n",
    "lat_list, lng_list = [], []\n",
    "for i in df2.index:\n",
    "    url = f'{base_url}?query={quote(df2.주소[i])}' \n",
    "    result = requests.get(url, headers=header).json() \n",
    "    lat_list.append(float(result['documents'][0]['y']))\n",
    "    lng_list.append(float(result['documents'][0]['x']))"
   ]
  },
  {
   "cell_type": "code",
   "execution_count": 27,
   "metadata": {},
   "outputs": [
    {
     "data": {
      "text/html": [
       "<div>\n",
       "<style scoped>\n",
       "    .dataframe tbody tr th:only-of-type {\n",
       "        vertical-align: middle;\n",
       "    }\n",
       "\n",
       "    .dataframe tbody tr th {\n",
       "        vertical-align: top;\n",
       "    }\n",
       "\n",
       "    .dataframe thead th {\n",
       "        text-align: right;\n",
       "    }\n",
       "</style>\n",
       "<table border=\"1\" class=\"dataframe\">\n",
       "  <thead>\n",
       "    <tr style=\"text-align: right;\">\n",
       "      <th></th>\n",
       "      <th>대학교</th>\n",
       "      <th>주소</th>\n",
       "      <th>위도</th>\n",
       "      <th>경도</th>\n",
       "    </tr>\n",
       "  </thead>\n",
       "  <tbody>\n",
       "    <tr>\n",
       "      <th>0</th>\n",
       "      <td>아주대학교</td>\n",
       "      <td>경기도 수원시 영통구 월드컵로 199 (원천동)</td>\n",
       "      <td>37.279205</td>\n",
       "      <td>127.044142</td>\n",
       "    </tr>\n",
       "    <tr>\n",
       "      <th>1</th>\n",
       "      <td>동남보건대학</td>\n",
       "      <td>경기도 수원시 장안구 천천로74번길 50 (정자동)</td>\n",
       "      <td>37.296938</td>\n",
       "      <td>126.987000</td>\n",
       "    </tr>\n",
       "    <tr>\n",
       "      <th>2</th>\n",
       "      <td>수원 경기대학교</td>\n",
       "      <td>경기도 수원시 영통구 광교산로 154-42 (이의동)</td>\n",
       "      <td>37.298014</td>\n",
       "      <td>127.033117</td>\n",
       "    </tr>\n",
       "    <tr>\n",
       "      <th>3</th>\n",
       "      <td>수원 성균관대학교</td>\n",
       "      <td>경기도 수원시 장안구 서부로 2066 (천천동)</td>\n",
       "      <td>37.295976</td>\n",
       "      <td>126.974209</td>\n",
       "    </tr>\n",
       "    <tr>\n",
       "      <th>4</th>\n",
       "      <td>수원여자대학</td>\n",
       "      <td>경기도 수원시 권선구 온정로 72 (오목천동)</td>\n",
       "      <td>37.252705</td>\n",
       "      <td>126.963307</td>\n",
       "    </tr>\n",
       "    <tr>\n",
       "      <th>5</th>\n",
       "      <td>용인 경희대학교</td>\n",
       "      <td>경기도 용인시 기흥구 덕영대로 1732 (서천동)</td>\n",
       "      <td>37.239800</td>\n",
       "      <td>127.081199</td>\n",
       "    </tr>\n",
       "    <tr>\n",
       "      <th>6</th>\n",
       "      <td>수원과학대학</td>\n",
       "      <td>경기도 화성시 정남면 세자로 288</td>\n",
       "      <td>37.192033</td>\n",
       "      <td>126.983927</td>\n",
       "    </tr>\n",
       "    <tr>\n",
       "      <th>7</th>\n",
       "      <td>수원대학교</td>\n",
       "      <td>경기도 화성시 봉담읍 와우안길 17</td>\n",
       "      <td>37.210117</td>\n",
       "      <td>126.979480</td>\n",
       "    </tr>\n",
       "  </tbody>\n",
       "</table>\n",
       "</div>"
      ],
      "text/plain": [
       "         대학교                             주소         위도          경도\n",
       "0      아주대학교     경기도 수원시 영통구 월드컵로 199 (원천동)  37.279205  127.044142\n",
       "1     동남보건대학   경기도 수원시 장안구 천천로74번길 50 (정자동)  37.296938  126.987000\n",
       "2   수원 경기대학교  경기도 수원시 영통구 광교산로 154-42 (이의동)  37.298014  127.033117\n",
       "3  수원 성균관대학교     경기도 수원시 장안구 서부로 2066 (천천동)  37.295976  126.974209\n",
       "4     수원여자대학      경기도 수원시 권선구 온정로 72 (오목천동)  37.252705  126.963307\n",
       "5   용인 경희대학교    경기도 용인시 기흥구 덕영대로 1732 (서천동)  37.239800  127.081199\n",
       "6     수원과학대학            경기도 화성시 정남면 세자로 288  37.192033  126.983927\n",
       "7      수원대학교            경기도 화성시 봉담읍 와우안길 17  37.210117  126.979480"
      ]
     },
     "execution_count": 27,
     "metadata": {},
     "output_type": "execute_result"
    }
   ],
   "source": [
    "# 위도,경도 열 만들기\n",
    "df2['위도'] = lat_list\n",
    "df2['경도'] = lng_list\n",
    "df2"
   ]
  },
  {
   "cell_type": "code",
   "execution_count": 28,
   "metadata": {},
   "outputs": [],
   "source": [
    "df2.to_csv('data/수원근처대학2.csv', index=False)\n",
    "df3 = pd.read_csv('data/수원근처대학2.csv') # 위랑 맞아 떨어지는지"
   ]
  },
  {
   "cell_type": "code",
   "execution_count": 29,
   "metadata": {},
   "outputs": [
    {
     "data": {
      "text/html": [
       "<div>\n",
       "<style scoped>\n",
       "    .dataframe tbody tr th:only-of-type {\n",
       "        vertical-align: middle;\n",
       "    }\n",
       "\n",
       "    .dataframe tbody tr th {\n",
       "        vertical-align: top;\n",
       "    }\n",
       "\n",
       "    .dataframe thead th {\n",
       "        text-align: right;\n",
       "    }\n",
       "</style>\n",
       "<table border=\"1\" class=\"dataframe\">\n",
       "  <thead>\n",
       "    <tr style=\"text-align: right;\">\n",
       "      <th></th>\n",
       "      <th>대학교</th>\n",
       "      <th>주소</th>\n",
       "      <th>위도</th>\n",
       "      <th>경도</th>\n",
       "    </tr>\n",
       "  </thead>\n",
       "  <tbody>\n",
       "    <tr>\n",
       "      <th>0</th>\n",
       "      <td>아주대학교</td>\n",
       "      <td>경기도 수원시 영통구 월드컵로 199 (원천동)</td>\n",
       "      <td>37.279205</td>\n",
       "      <td>127.044142</td>\n",
       "    </tr>\n",
       "    <tr>\n",
       "      <th>1</th>\n",
       "      <td>동남보건대학</td>\n",
       "      <td>경기도 수원시 장안구 천천로74번길 50 (정자동)</td>\n",
       "      <td>37.296938</td>\n",
       "      <td>126.987000</td>\n",
       "    </tr>\n",
       "    <tr>\n",
       "      <th>2</th>\n",
       "      <td>수원 경기대학교</td>\n",
       "      <td>경기도 수원시 영통구 광교산로 154-42 (이의동)</td>\n",
       "      <td>37.298014</td>\n",
       "      <td>127.033117</td>\n",
       "    </tr>\n",
       "    <tr>\n",
       "      <th>3</th>\n",
       "      <td>수원 성균관대학교</td>\n",
       "      <td>경기도 수원시 장안구 서부로 2066 (천천동)</td>\n",
       "      <td>37.295976</td>\n",
       "      <td>126.974209</td>\n",
       "    </tr>\n",
       "    <tr>\n",
       "      <th>4</th>\n",
       "      <td>수원여자대학</td>\n",
       "      <td>경기도 수원시 권선구 온정로 72 (오목천동)</td>\n",
       "      <td>37.252705</td>\n",
       "      <td>126.963307</td>\n",
       "    </tr>\n",
       "    <tr>\n",
       "      <th>5</th>\n",
       "      <td>용인 경희대학교</td>\n",
       "      <td>경기도 용인시 기흥구 덕영대로 1732 (서천동)</td>\n",
       "      <td>37.239800</td>\n",
       "      <td>127.081199</td>\n",
       "    </tr>\n",
       "    <tr>\n",
       "      <th>6</th>\n",
       "      <td>수원과학대학</td>\n",
       "      <td>경기도 화성시 정남면 세자로 288</td>\n",
       "      <td>37.192033</td>\n",
       "      <td>126.983927</td>\n",
       "    </tr>\n",
       "    <tr>\n",
       "      <th>7</th>\n",
       "      <td>수원대학교</td>\n",
       "      <td>경기도 화성시 봉담읍 와우안길 17</td>\n",
       "      <td>37.210117</td>\n",
       "      <td>126.979480</td>\n",
       "    </tr>\n",
       "  </tbody>\n",
       "</table>\n",
       "</div>"
      ],
      "text/plain": [
       "         대학교                             주소         위도          경도\n",
       "0      아주대학교     경기도 수원시 영통구 월드컵로 199 (원천동)  37.279205  127.044142\n",
       "1     동남보건대학   경기도 수원시 장안구 천천로74번길 50 (정자동)  37.296938  126.987000\n",
       "2   수원 경기대학교  경기도 수원시 영통구 광교산로 154-42 (이의동)  37.298014  127.033117\n",
       "3  수원 성균관대학교     경기도 수원시 장안구 서부로 2066 (천천동)  37.295976  126.974209\n",
       "4     수원여자대학      경기도 수원시 권선구 온정로 72 (오목천동)  37.252705  126.963307\n",
       "5   용인 경희대학교    경기도 용인시 기흥구 덕영대로 1732 (서천동)  37.239800  127.081199\n",
       "6     수원과학대학            경기도 화성시 정남면 세자로 288  37.192033  126.983927\n",
       "7      수원대학교            경기도 화성시 봉담읍 와우안길 17  37.210117  126.979480"
      ]
     },
     "execution_count": 29,
     "metadata": {},
     "output_type": "execute_result"
    }
   ],
   "source": [
    "df3"
   ]
  },
  {
   "cell_type": "code",
   "execution_count": 33,
   "metadata": {},
   "outputs": [],
   "source": [
    "df3['color'] = ['red','green','blue','orange','brown','violet','yellow','aqua']"
   ]
  },
  {
   "cell_type": "code",
   "execution_count": 35,
   "metadata": {},
   "outputs": [
    {
     "data": {
      "text/html": [
       "<div style=\"width:100%;\"><div style=\"position:relative;width:100%;height:0;padding-bottom:60%;\"><span style=\"color:#565656\">Make this Notebook Trusted to load map: File -> Trust Notebook</span><iframe srcdoc=\"&lt;!DOCTYPE html&gt;\n",
       "&lt;html&gt;\n",
       "&lt;head&gt;\n",
       "    \n",
       "    &lt;meta http-equiv=&quot;content-type&quot; content=&quot;text/html; charset=UTF-8&quot; /&gt;\n",
       "    \n",
       "        &lt;script&gt;\n",
       "            L_NO_TOUCH = false;\n",
       "            L_DISABLE_3D = false;\n",
       "        &lt;/script&gt;\n",
       "    \n",
       "    &lt;style&gt;html, body {width: 100%;height: 100%;margin: 0;padding: 0;}&lt;/style&gt;\n",
       "    &lt;style&gt;#map {position:absolute;top:0;bottom:0;right:0;left:0;}&lt;/style&gt;\n",
       "    &lt;script src=&quot;https://cdn.jsdelivr.net/npm/leaflet@1.9.3/dist/leaflet.js&quot;&gt;&lt;/script&gt;\n",
       "    &lt;script src=&quot;https://code.jquery.com/jquery-1.12.4.min.js&quot;&gt;&lt;/script&gt;\n",
       "    &lt;script src=&quot;https://cdn.jsdelivr.net/npm/bootstrap@5.2.2/dist/js/bootstrap.bundle.min.js&quot;&gt;&lt;/script&gt;\n",
       "    &lt;script src=&quot;https://cdnjs.cloudflare.com/ajax/libs/Leaflet.awesome-markers/2.0.2/leaflet.awesome-markers.js&quot;&gt;&lt;/script&gt;\n",
       "    &lt;link rel=&quot;stylesheet&quot; href=&quot;https://cdn.jsdelivr.net/npm/leaflet@1.9.3/dist/leaflet.css&quot;/&gt;\n",
       "    &lt;link rel=&quot;stylesheet&quot; href=&quot;https://cdn.jsdelivr.net/npm/bootstrap@5.2.2/dist/css/bootstrap.min.css&quot;/&gt;\n",
       "    &lt;link rel=&quot;stylesheet&quot; href=&quot;https://netdna.bootstrapcdn.com/bootstrap/3.0.0/css/bootstrap.min.css&quot;/&gt;\n",
       "    &lt;link rel=&quot;stylesheet&quot; href=&quot;https://cdn.jsdelivr.net/npm/@fortawesome/fontawesome-free@6.2.0/css/all.min.css&quot;/&gt;\n",
       "    &lt;link rel=&quot;stylesheet&quot; href=&quot;https://cdnjs.cloudflare.com/ajax/libs/Leaflet.awesome-markers/2.0.2/leaflet.awesome-markers.css&quot;/&gt;\n",
       "    &lt;link rel=&quot;stylesheet&quot; href=&quot;https://cdn.jsdelivr.net/gh/python-visualization/folium/folium/templates/leaflet.awesome.rotate.min.css&quot;/&gt;\n",
       "    \n",
       "            &lt;meta name=&quot;viewport&quot; content=&quot;width=device-width,\n",
       "                initial-scale=1.0, maximum-scale=1.0, user-scalable=no&quot; /&gt;\n",
       "            &lt;style&gt;\n",
       "                #map_ea34ea5aff77b4814a0d0df6304a9778 {\n",
       "                    position: relative;\n",
       "                    width: 100.0%;\n",
       "                    height: 100.0%;\n",
       "                    left: 0.0%;\n",
       "                    top: 0.0%;\n",
       "                }\n",
       "                .leaflet-container { font-size: 1rem; }\n",
       "            &lt;/style&gt;\n",
       "        \n",
       "&lt;/head&gt;\n",
       "&lt;body&gt;\n",
       "    \n",
       "    &lt;h3 align=&quot;center&quot; style=&quot;font-size:20px&quot;&gt;수원 근처 대학교&lt;/h3&gt;\n",
       "    \n",
       "            &lt;div class=&quot;folium-map&quot; id=&quot;map_ea34ea5aff77b4814a0d0df6304a9778&quot; &gt;&lt;/div&gt;\n",
       "        \n",
       "&lt;/body&gt;\n",
       "&lt;script&gt;\n",
       "    \n",
       "    \n",
       "            var map_ea34ea5aff77b4814a0d0df6304a9778 = L.map(\n",
       "                &quot;map_ea34ea5aff77b4814a0d0df6304a9778&quot;,\n",
       "                {\n",
       "                    center: [37.25809854723925, 127.00579758059187],\n",
       "                    crs: L.CRS.EPSG3857,\n",
       "                    zoom: 12,\n",
       "                    zoomControl: true,\n",
       "                    preferCanvas: false,\n",
       "                }\n",
       "            );\n",
       "\n",
       "            \n",
       "\n",
       "        \n",
       "    \n",
       "            var tile_layer_51c1a932fca57e40e45fcbb0af0bf8c9 = L.tileLayer(\n",
       "                &quot;https://{s}.tile.openstreetmap.org/{z}/{x}/{y}.png&quot;,\n",
       "                {&quot;attribution&quot;: &quot;Data by \\u0026copy; \\u003ca target=\\&quot;_blank\\&quot; href=\\&quot;http://openstreetmap.org\\&quot;\\u003eOpenStreetMap\\u003c/a\\u003e, under \\u003ca target=\\&quot;_blank\\&quot; href=\\&quot;http://www.openstreetmap.org/copyright\\&quot;\\u003eODbL\\u003c/a\\u003e.&quot;, &quot;detectRetina&quot;: false, &quot;maxNativeZoom&quot;: 18, &quot;maxZoom&quot;: 18, &quot;minZoom&quot;: 0, &quot;noWrap&quot;: false, &quot;opacity&quot;: 1, &quot;subdomains&quot;: &quot;abc&quot;, &quot;tms&quot;: false}\n",
       "            ).addTo(map_ea34ea5aff77b4814a0d0df6304a9778);\n",
       "        \n",
       "    \n",
       "            var circle_marker_a947d1f95635b10e83b16a718e2a91ad = L.circleMarker(\n",
       "                [37.279204703544, 127.044142224462],\n",
       "                {&quot;bubblingMouseEvents&quot;: true, &quot;color&quot;: &quot;red&quot;, &quot;dashArray&quot;: null, &quot;dashOffset&quot;: null, &quot;fill&quot;: true, &quot;fillColor&quot;: &quot;#3186cc&quot;, &quot;fillOpacity&quot;: 0.2, &quot;fillRule&quot;: &quot;evenodd&quot;, &quot;lineCap&quot;: &quot;round&quot;, &quot;lineJoin&quot;: &quot;round&quot;, &quot;opacity&quot;: 1.0, &quot;radius&quot;: 15, &quot;stroke&quot;: true, &quot;weight&quot;: 3}\n",
       "            ).addTo(map_ea34ea5aff77b4814a0d0df6304a9778);\n",
       "        \n",
       "    \n",
       "        var popup_b4e2ee2cf97e78fd0270b2d19f91fda2 = L.popup({&quot;maxWidth&quot;: 200});\n",
       "\n",
       "        \n",
       "            \n",
       "                var html_afd5b4d4c5abd9ddcab97da59d962738 = $(`&lt;div id=&quot;html_afd5b4d4c5abd9ddcab97da59d962738&quot; style=&quot;width: 100.0%; height: 100.0%;&quot;&gt;경기도 수원시 영통구 월드컵로 199 (원천동)&lt;/div&gt;`)[0];\n",
       "                popup_b4e2ee2cf97e78fd0270b2d19f91fda2.setContent(html_afd5b4d4c5abd9ddcab97da59d962738);\n",
       "            \n",
       "        \n",
       "\n",
       "        circle_marker_a947d1f95635b10e83b16a718e2a91ad.bindPopup(popup_b4e2ee2cf97e78fd0270b2d19f91fda2)\n",
       "        ;\n",
       "\n",
       "        \n",
       "    \n",
       "    \n",
       "            circle_marker_a947d1f95635b10e83b16a718e2a91ad.bindTooltip(\n",
       "                `&lt;div&gt;\n",
       "                     아주대학교\n",
       "                 &lt;/div&gt;`,\n",
       "                {&quot;sticky&quot;: true}\n",
       "            );\n",
       "        \n",
       "    \n",
       "            var circle_marker_bd53103ab63727eda85693da027150c7 = L.circleMarker(\n",
       "                [37.2969384402553, 126.987000072709],\n",
       "                {&quot;bubblingMouseEvents&quot;: true, &quot;color&quot;: &quot;green&quot;, &quot;dashArray&quot;: null, &quot;dashOffset&quot;: null, &quot;fill&quot;: true, &quot;fillColor&quot;: &quot;#3186cc&quot;, &quot;fillOpacity&quot;: 0.2, &quot;fillRule&quot;: &quot;evenodd&quot;, &quot;lineCap&quot;: &quot;round&quot;, &quot;lineJoin&quot;: &quot;round&quot;, &quot;opacity&quot;: 1.0, &quot;radius&quot;: 15, &quot;stroke&quot;: true, &quot;weight&quot;: 3}\n",
       "            ).addTo(map_ea34ea5aff77b4814a0d0df6304a9778);\n",
       "        \n",
       "    \n",
       "        var popup_a8a59068627fec30f14f8db364a18127 = L.popup({&quot;maxWidth&quot;: 200});\n",
       "\n",
       "        \n",
       "            \n",
       "                var html_5511c64bd64313cb019c6227d239e381 = $(`&lt;div id=&quot;html_5511c64bd64313cb019c6227d239e381&quot; style=&quot;width: 100.0%; height: 100.0%;&quot;&gt;경기도 수원시 장안구 천천로74번길 50 (정자동)&lt;/div&gt;`)[0];\n",
       "                popup_a8a59068627fec30f14f8db364a18127.setContent(html_5511c64bd64313cb019c6227d239e381);\n",
       "            \n",
       "        \n",
       "\n",
       "        circle_marker_bd53103ab63727eda85693da027150c7.bindPopup(popup_a8a59068627fec30f14f8db364a18127)\n",
       "        ;\n",
       "\n",
       "        \n",
       "    \n",
       "    \n",
       "            circle_marker_bd53103ab63727eda85693da027150c7.bindTooltip(\n",
       "                `&lt;div&gt;\n",
       "                     동남보건대학\n",
       "                 &lt;/div&gt;`,\n",
       "                {&quot;sticky&quot;: true}\n",
       "            );\n",
       "        \n",
       "    \n",
       "            var circle_marker_2653d6beff208ef08580979eaab69f44 = L.circleMarker(\n",
       "                [37.2980136931725, 127.033116715137],\n",
       "                {&quot;bubblingMouseEvents&quot;: true, &quot;color&quot;: &quot;blue&quot;, &quot;dashArray&quot;: null, &quot;dashOffset&quot;: null, &quot;fill&quot;: true, &quot;fillColor&quot;: &quot;#3186cc&quot;, &quot;fillOpacity&quot;: 0.2, &quot;fillRule&quot;: &quot;evenodd&quot;, &quot;lineCap&quot;: &quot;round&quot;, &quot;lineJoin&quot;: &quot;round&quot;, &quot;opacity&quot;: 1.0, &quot;radius&quot;: 15, &quot;stroke&quot;: true, &quot;weight&quot;: 3}\n",
       "            ).addTo(map_ea34ea5aff77b4814a0d0df6304a9778);\n",
       "        \n",
       "    \n",
       "        var popup_7e37d4da9213a0ac053de1533069bf06 = L.popup({&quot;maxWidth&quot;: 200});\n",
       "\n",
       "        \n",
       "            \n",
       "                var html_c0fbf8fb7d6d9f69841e65201fa70d7a = $(`&lt;div id=&quot;html_c0fbf8fb7d6d9f69841e65201fa70d7a&quot; style=&quot;width: 100.0%; height: 100.0%;&quot;&gt;경기도 수원시 영통구 광교산로 154-42 (이의동)&lt;/div&gt;`)[0];\n",
       "                popup_7e37d4da9213a0ac053de1533069bf06.setContent(html_c0fbf8fb7d6d9f69841e65201fa70d7a);\n",
       "            \n",
       "        \n",
       "\n",
       "        circle_marker_2653d6beff208ef08580979eaab69f44.bindPopup(popup_7e37d4da9213a0ac053de1533069bf06)\n",
       "        ;\n",
       "\n",
       "        \n",
       "    \n",
       "    \n",
       "            circle_marker_2653d6beff208ef08580979eaab69f44.bindTooltip(\n",
       "                `&lt;div&gt;\n",
       "                     수원 경기대학교\n",
       "                 &lt;/div&gt;`,\n",
       "                {&quot;sticky&quot;: true}\n",
       "            );\n",
       "        \n",
       "    \n",
       "            var circle_marker_7761f5e1bc7263e0e626cf5e2f4765af = L.circleMarker(\n",
       "                [37.2959755681328, 126.974208675283],\n",
       "                {&quot;bubblingMouseEvents&quot;: true, &quot;color&quot;: &quot;orange&quot;, &quot;dashArray&quot;: null, &quot;dashOffset&quot;: null, &quot;fill&quot;: true, &quot;fillColor&quot;: &quot;#3186cc&quot;, &quot;fillOpacity&quot;: 0.2, &quot;fillRule&quot;: &quot;evenodd&quot;, &quot;lineCap&quot;: &quot;round&quot;, &quot;lineJoin&quot;: &quot;round&quot;, &quot;opacity&quot;: 1.0, &quot;radius&quot;: 15, &quot;stroke&quot;: true, &quot;weight&quot;: 3}\n",
       "            ).addTo(map_ea34ea5aff77b4814a0d0df6304a9778);\n",
       "        \n",
       "    \n",
       "        var popup_25fbe92709e7b6bee8728f4674077158 = L.popup({&quot;maxWidth&quot;: 200});\n",
       "\n",
       "        \n",
       "            \n",
       "                var html_4014e0f23ab976f30e2429fecd099d45 = $(`&lt;div id=&quot;html_4014e0f23ab976f30e2429fecd099d45&quot; style=&quot;width: 100.0%; height: 100.0%;&quot;&gt;경기도 수원시 장안구 서부로 2066 (천천동)&lt;/div&gt;`)[0];\n",
       "                popup_25fbe92709e7b6bee8728f4674077158.setContent(html_4014e0f23ab976f30e2429fecd099d45);\n",
       "            \n",
       "        \n",
       "\n",
       "        circle_marker_7761f5e1bc7263e0e626cf5e2f4765af.bindPopup(popup_25fbe92709e7b6bee8728f4674077158)\n",
       "        ;\n",
       "\n",
       "        \n",
       "    \n",
       "    \n",
       "            circle_marker_7761f5e1bc7263e0e626cf5e2f4765af.bindTooltip(\n",
       "                `&lt;div&gt;\n",
       "                     수원 성균관대학교\n",
       "                 &lt;/div&gt;`,\n",
       "                {&quot;sticky&quot;: true}\n",
       "            );\n",
       "        \n",
       "    \n",
       "            var circle_marker_b1b18c10788ad1501fcf7ed80c52ef0f = L.circleMarker(\n",
       "                [37.2527054444737, 126.963307279503],\n",
       "                {&quot;bubblingMouseEvents&quot;: true, &quot;color&quot;: &quot;brown&quot;, &quot;dashArray&quot;: null, &quot;dashOffset&quot;: null, &quot;fill&quot;: true, &quot;fillColor&quot;: &quot;#3186cc&quot;, &quot;fillOpacity&quot;: 0.2, &quot;fillRule&quot;: &quot;evenodd&quot;, &quot;lineCap&quot;: &quot;round&quot;, &quot;lineJoin&quot;: &quot;round&quot;, &quot;opacity&quot;: 1.0, &quot;radius&quot;: 15, &quot;stroke&quot;: true, &quot;weight&quot;: 3}\n",
       "            ).addTo(map_ea34ea5aff77b4814a0d0df6304a9778);\n",
       "        \n",
       "    \n",
       "        var popup_0788aad7f92621f9bbfe82b200789bdc = L.popup({&quot;maxWidth&quot;: 200});\n",
       "\n",
       "        \n",
       "            \n",
       "                var html_a166a6a01ebbe8cc7127a0de8e46172e = $(`&lt;div id=&quot;html_a166a6a01ebbe8cc7127a0de8e46172e&quot; style=&quot;width: 100.0%; height: 100.0%;&quot;&gt;경기도 수원시 권선구 온정로 72 (오목천동)&lt;/div&gt;`)[0];\n",
       "                popup_0788aad7f92621f9bbfe82b200789bdc.setContent(html_a166a6a01ebbe8cc7127a0de8e46172e);\n",
       "            \n",
       "        \n",
       "\n",
       "        circle_marker_b1b18c10788ad1501fcf7ed80c52ef0f.bindPopup(popup_0788aad7f92621f9bbfe82b200789bdc)\n",
       "        ;\n",
       "\n",
       "        \n",
       "    \n",
       "    \n",
       "            circle_marker_b1b18c10788ad1501fcf7ed80c52ef0f.bindTooltip(\n",
       "                `&lt;div&gt;\n",
       "                     수원여자대학\n",
       "                 &lt;/div&gt;`,\n",
       "                {&quot;sticky&quot;: true}\n",
       "            );\n",
       "        \n",
       "    \n",
       "            var circle_marker_3c0422f699511d17a3f5579b1e5c39aa = L.circleMarker(\n",
       "                [37.2398001522416, 127.081198790803],\n",
       "                {&quot;bubblingMouseEvents&quot;: true, &quot;color&quot;: &quot;violet&quot;, &quot;dashArray&quot;: null, &quot;dashOffset&quot;: null, &quot;fill&quot;: true, &quot;fillColor&quot;: &quot;#3186cc&quot;, &quot;fillOpacity&quot;: 0.2, &quot;fillRule&quot;: &quot;evenodd&quot;, &quot;lineCap&quot;: &quot;round&quot;, &quot;lineJoin&quot;: &quot;round&quot;, &quot;opacity&quot;: 1.0, &quot;radius&quot;: 15, &quot;stroke&quot;: true, &quot;weight&quot;: 3}\n",
       "            ).addTo(map_ea34ea5aff77b4814a0d0df6304a9778);\n",
       "        \n",
       "    \n",
       "        var popup_5f661602d4fecfc60be0d07161d98498 = L.popup({&quot;maxWidth&quot;: 200});\n",
       "\n",
       "        \n",
       "            \n",
       "                var html_cd6e6c0bbc251e13ea4c4e442f12800c = $(`&lt;div id=&quot;html_cd6e6c0bbc251e13ea4c4e442f12800c&quot; style=&quot;width: 100.0%; height: 100.0%;&quot;&gt;경기도 용인시 기흥구 덕영대로 1732 (서천동)&lt;/div&gt;`)[0];\n",
       "                popup_5f661602d4fecfc60be0d07161d98498.setContent(html_cd6e6c0bbc251e13ea4c4e442f12800c);\n",
       "            \n",
       "        \n",
       "\n",
       "        circle_marker_3c0422f699511d17a3f5579b1e5c39aa.bindPopup(popup_5f661602d4fecfc60be0d07161d98498)\n",
       "        ;\n",
       "\n",
       "        \n",
       "    \n",
       "    \n",
       "            circle_marker_3c0422f699511d17a3f5579b1e5c39aa.bindTooltip(\n",
       "                `&lt;div&gt;\n",
       "                     용인 경희대학교\n",
       "                 &lt;/div&gt;`,\n",
       "                {&quot;sticky&quot;: true}\n",
       "            );\n",
       "        \n",
       "    \n",
       "            var circle_marker_d20fce601d105d949b0687ff780f5ca6 = L.circleMarker(\n",
       "                [37.1920328913299, 126.983926534359],\n",
       "                {&quot;bubblingMouseEvents&quot;: true, &quot;color&quot;: &quot;yellow&quot;, &quot;dashArray&quot;: null, &quot;dashOffset&quot;: null, &quot;fill&quot;: true, &quot;fillColor&quot;: &quot;#3186cc&quot;, &quot;fillOpacity&quot;: 0.2, &quot;fillRule&quot;: &quot;evenodd&quot;, &quot;lineCap&quot;: &quot;round&quot;, &quot;lineJoin&quot;: &quot;round&quot;, &quot;opacity&quot;: 1.0, &quot;radius&quot;: 15, &quot;stroke&quot;: true, &quot;weight&quot;: 3}\n",
       "            ).addTo(map_ea34ea5aff77b4814a0d0df6304a9778);\n",
       "        \n",
       "    \n",
       "        var popup_d7f9beea14dc57fea6ecc72ec0c0a7b1 = L.popup({&quot;maxWidth&quot;: 200});\n",
       "\n",
       "        \n",
       "            \n",
       "                var html_65e31984100ae78a59465b8946b78624 = $(`&lt;div id=&quot;html_65e31984100ae78a59465b8946b78624&quot; style=&quot;width: 100.0%; height: 100.0%;&quot;&gt;경기도 화성시 정남면 세자로 288&lt;/div&gt;`)[0];\n",
       "                popup_d7f9beea14dc57fea6ecc72ec0c0a7b1.setContent(html_65e31984100ae78a59465b8946b78624);\n",
       "            \n",
       "        \n",
       "\n",
       "        circle_marker_d20fce601d105d949b0687ff780f5ca6.bindPopup(popup_d7f9beea14dc57fea6ecc72ec0c0a7b1)\n",
       "        ;\n",
       "\n",
       "        \n",
       "    \n",
       "    \n",
       "            circle_marker_d20fce601d105d949b0687ff780f5ca6.bindTooltip(\n",
       "                `&lt;div&gt;\n",
       "                     수원과학대학\n",
       "                 &lt;/div&gt;`,\n",
       "                {&quot;sticky&quot;: true}\n",
       "            );\n",
       "        \n",
       "    \n",
       "            var circle_marker_d2df78ea5fa9797c4740af2cb6890904 = L.circleMarker(\n",
       "                [37.2101174847642, 126.979480352479],\n",
       "                {&quot;bubblingMouseEvents&quot;: true, &quot;color&quot;: &quot;aqua&quot;, &quot;dashArray&quot;: null, &quot;dashOffset&quot;: null, &quot;fill&quot;: true, &quot;fillColor&quot;: &quot;#3186cc&quot;, &quot;fillOpacity&quot;: 0.2, &quot;fillRule&quot;: &quot;evenodd&quot;, &quot;lineCap&quot;: &quot;round&quot;, &quot;lineJoin&quot;: &quot;round&quot;, &quot;opacity&quot;: 1.0, &quot;radius&quot;: 15, &quot;stroke&quot;: true, &quot;weight&quot;: 3}\n",
       "            ).addTo(map_ea34ea5aff77b4814a0d0df6304a9778);\n",
       "        \n",
       "    \n",
       "        var popup_b74e640b2d228471bd60d6b97b03102d = L.popup({&quot;maxWidth&quot;: 200});\n",
       "\n",
       "        \n",
       "            \n",
       "                var html_4f15ebb475639b0b1efa12837a222c60 = $(`&lt;div id=&quot;html_4f15ebb475639b0b1efa12837a222c60&quot; style=&quot;width: 100.0%; height: 100.0%;&quot;&gt;경기도 화성시 봉담읍 와우안길 17&lt;/div&gt;`)[0];\n",
       "                popup_b74e640b2d228471bd60d6b97b03102d.setContent(html_4f15ebb475639b0b1efa12837a222c60);\n",
       "            \n",
       "        \n",
       "\n",
       "        circle_marker_d2df78ea5fa9797c4740af2cb6890904.bindPopup(popup_b74e640b2d228471bd60d6b97b03102d)\n",
       "        ;\n",
       "\n",
       "        \n",
       "    \n",
       "    \n",
       "            circle_marker_d2df78ea5fa9797c4740af2cb6890904.bindTooltip(\n",
       "                `&lt;div&gt;\n",
       "                     수원대학교\n",
       "                 &lt;/div&gt;`,\n",
       "                {&quot;sticky&quot;: true}\n",
       "            );\n",
       "        \n",
       "&lt;/script&gt;\n",
       "&lt;/html&gt;\" style=\"position:absolute;width:100%;height:100%;left:0;top:0;border:none !important;\" allowfullscreen webkitallowfullscreen mozallowfullscreen></iframe></div></div>"
      ],
      "text/plain": [
       "<folium.folium.Map at 0x268289d7a60>"
      ]
     },
     "execution_count": 35,
     "metadata": {},
     "output_type": "execute_result"
    }
   ],
   "source": [
    "map = folium.Map(location=[df3.위도.mean(), df3.경도.mean()], zoom_start=12)\n",
    "\n",
    "for i in df3.index:\n",
    "    folium.CircleMarker(\n",
    "    radius=15,\n",
    "    color=df3.color[i],\n",
    "    fill=True,\n",
    "    fill_color=\"#3186cc\",\n",
    "    location=[df3.위도[i], df3.경도[i]], \n",
    "    popup=folium.Popup(df3.주소[i], max_width=200), \n",
    "    tooltip=df3.대학교[i]\n",
    ").add_to(map)\n",
    "title_html = '<h3 align=\"center\" style=\"font-size:20px\">수원 근처 대학교</h3>' # 지도 제목달기\n",
    "map.get_root().html.add_child(folium.Element(title_html))\n",
    "map"
   ]
  }
 ],
 "metadata": {
  "kernelspec": {
   "display_name": "base",
   "language": "python",
   "name": "python3"
  },
  "language_info": {
   "codemirror_mode": {
    "name": "ipython",
    "version": 3
   },
   "file_extension": ".py",
   "mimetype": "text/x-python",
   "name": "python",
   "nbconvert_exporter": "python",
   "pygments_lexer": "ipython3",
   "version": "3.10.9"
  },
  "orig_nbformat": 4
 },
 "nbformat": 4,
 "nbformat_minor": 2
}
