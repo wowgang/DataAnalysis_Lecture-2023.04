{
 "cells": [
  {
   "cell_type": "code",
   "execution_count": null,
   "metadata": {},
   "outputs": [],
   "source": [
    "''' \n",
    " 1) 열의 개수와 행의 개수가 각각 5개 이상이고, 데이터는 10에서 99까지 임의의\n",
    "     정수인 데이터프레임을 만드세요.\n",
    "  2) 열의 이름은 V, W, X, Y, Z 이고 행의 이름은 a, b, c, d, e 으로 만든다.\n",
    "  3) 정 가운데에 있는 데이터를 인덱싱하려고 한다. \n",
    "     10개 이상의 방법으로 인덱싱하세요.\n",
    "'''"
   ]
  },
  {
   "cell_type": "code",
   "execution_count": null,
   "metadata": {},
   "outputs": [],
   "source": [
    "#  1) 열의 개수와 행의 개수가 각각 5개 이상이고, 데이터는 10에서 99까지 임의의\n",
    "#      정수인 데이터프레임을 만드세요.\n",
    "'''\n",
    "python = random.randint(이상,이하)\n",
    "numpy = np.random.randint(이상,초과)\n",
    "'''"
   ]
  },
  {
   "cell_type": "code",
   "execution_count": null,
   "metadata": {},
   "outputs": [],
   "source": [
    "#  2) 열의 이름은 V, W, X, Y, Z 이고 행의 이름은 a, b, c, d, e 으로 만든다."
   ]
  },
  {
   "cell_type": "code",
   "execution_count": null,
   "metadata": {},
   "outputs": [],
   "source": [
    "#   3) 정 가운데에 있는 데이터를 인덱싱하려고 한다. \n",
    "#      10개 이상의 방법으로 인덱싱하세요."
   ]
  },
  {
   "cell_type": "code",
   "execution_count": null,
   "metadata": {},
   "outputs": [],
   "source": [
    "'''\n",
    "  1) 법정동코드 전체자료.txt를 파일로부터 읽어서 데이터프레임으로 만드세요.\n",
    "  2) 현재 존재하는 경기도 수원시 데이터만 추출하세요.\n",
    "  3) 수원시 장안구에 있는 동의 이름을 추출하세요.\n",
    "'''"
   ]
  },
  {
   "cell_type": "code",
   "execution_count": 2,
   "metadata": {},
   "outputs": [],
   "source": [
    "import numpy as np\n",
    "import pandas as pd"
   ]
  },
  {
   "cell_type": "code",
   "execution_count": 3,
   "metadata": {},
   "outputs": [
    {
     "data": {
      "text/html": [
       "<div>\n",
       "<style scoped>\n",
       "    .dataframe tbody tr th:only-of-type {\n",
       "        vertical-align: middle;\n",
       "    }\n",
       "\n",
       "    .dataframe tbody tr th {\n",
       "        vertical-align: top;\n",
       "    }\n",
       "\n",
       "    .dataframe thead th {\n",
       "        text-align: right;\n",
       "    }\n",
       "</style>\n",
       "<table border=\"1\" class=\"dataframe\">\n",
       "  <thead>\n",
       "    <tr style=\"text-align: right;\">\n",
       "      <th></th>\n",
       "      <th>법정동코드</th>\n",
       "      <th>법정동명</th>\n",
       "      <th>폐지여부</th>\n",
       "    </tr>\n",
       "  </thead>\n",
       "  <tbody>\n",
       "    <tr>\n",
       "      <th>0</th>\n",
       "      <td>1100000000</td>\n",
       "      <td>서울특별시</td>\n",
       "      <td>존재</td>\n",
       "    </tr>\n",
       "    <tr>\n",
       "      <th>1</th>\n",
       "      <td>1111000000</td>\n",
       "      <td>서울특별시 종로구</td>\n",
       "      <td>존재</td>\n",
       "    </tr>\n",
       "    <tr>\n",
       "      <th>2</th>\n",
       "      <td>1111010100</td>\n",
       "      <td>서울특별시 종로구 청운동</td>\n",
       "      <td>존재</td>\n",
       "    </tr>\n",
       "    <tr>\n",
       "      <th>3</th>\n",
       "      <td>1111010200</td>\n",
       "      <td>서울특별시 종로구 신교동</td>\n",
       "      <td>존재</td>\n",
       "    </tr>\n",
       "    <tr>\n",
       "      <th>4</th>\n",
       "      <td>1111010300</td>\n",
       "      <td>서울특별시 종로구 궁정동</td>\n",
       "      <td>존재</td>\n",
       "    </tr>\n",
       "    <tr>\n",
       "      <th>...</th>\n",
       "      <td>...</td>\n",
       "      <td>...</td>\n",
       "      <td>...</td>\n",
       "    </tr>\n",
       "    <tr>\n",
       "      <th>46323</th>\n",
       "      <td>5013032022</td>\n",
       "      <td>제주특별자치도 서귀포시 표선면 하천리</td>\n",
       "      <td>존재</td>\n",
       "    </tr>\n",
       "    <tr>\n",
       "      <th>46324</th>\n",
       "      <td>5013032023</td>\n",
       "      <td>제주특별자치도 서귀포시 표선면 성읍리</td>\n",
       "      <td>존재</td>\n",
       "    </tr>\n",
       "    <tr>\n",
       "      <th>46325</th>\n",
       "      <td>5013032024</td>\n",
       "      <td>제주특별자치도 서귀포시 표선면 가시리</td>\n",
       "      <td>존재</td>\n",
       "    </tr>\n",
       "    <tr>\n",
       "      <th>46326</th>\n",
       "      <td>5013032025</td>\n",
       "      <td>제주특별자치도 서귀포시 표선면 세화리</td>\n",
       "      <td>존재</td>\n",
       "    </tr>\n",
       "    <tr>\n",
       "      <th>46327</th>\n",
       "      <td>5013032026</td>\n",
       "      <td>제주특별자치도 서귀포시 표선면 토산리</td>\n",
       "      <td>존재</td>\n",
       "    </tr>\n",
       "  </tbody>\n",
       "</table>\n",
       "<p>46328 rows × 3 columns</p>\n",
       "</div>"
      ],
      "text/plain": [
       "            법정동코드                  법정동명 폐지여부\n",
       "0      1100000000                 서울특별시   존재\n",
       "1      1111000000             서울특별시 종로구   존재\n",
       "2      1111010100         서울특별시 종로구 청운동   존재\n",
       "3      1111010200         서울특별시 종로구 신교동   존재\n",
       "4      1111010300         서울특별시 종로구 궁정동   존재\n",
       "...           ...                   ...  ...\n",
       "46323  5013032022  제주특별자치도 서귀포시 표선면 하천리   존재\n",
       "46324  5013032023  제주특별자치도 서귀포시 표선면 성읍리   존재\n",
       "46325  5013032024  제주특별자치도 서귀포시 표선면 가시리   존재\n",
       "46326  5013032025  제주특별자치도 서귀포시 표선면 세화리   존재\n",
       "46327  5013032026  제주특별자치도 서귀포시 표선면 토산리   존재\n",
       "\n",
       "[46328 rows x 3 columns]"
      ]
     },
     "execution_count": 3,
     "metadata": {},
     "output_type": "execute_result"
    }
   ],
   "source": [
    "#   1) 법정동코드 전체자료.txt를 파일로부터 읽어서 데이터프레임으로 만드세요.\n",
    "pe = pd.read_csv('data/법정동코드 전체자료.txt', encoding='euc-kr', sep='\\t')\n",
    "pe"
   ]
  },
  {
   "cell_type": "code",
   "execution_count": 3,
   "metadata": {},
   "outputs": [
    {
     "data": {
      "text/plain": [
       "법정동코드    0\n",
       "법정동명     0\n",
       "폐지여부     0\n",
       "dtype: int64"
      ]
     },
     "execution_count": 3,
     "metadata": {},
     "output_type": "execute_result"
    }
   ],
   "source": [
    "pe.isna().sum()"
   ]
  },
  {
   "cell_type": "code",
   "execution_count": 4,
   "metadata": {},
   "outputs": [
    {
     "data": {
      "text/plain": [
       "폐지여부\n",
       "폐지    25777\n",
       "존재    20551\n",
       "Name: count, dtype: int64"
      ]
     },
     "execution_count": 4,
     "metadata": {},
     "output_type": "execute_result"
    }
   ],
   "source": [
    "pe.폐지여부.value_counts()"
   ]
  },
  {
   "cell_type": "code",
   "execution_count": 4,
   "metadata": {},
   "outputs": [
    {
     "data": {
      "text/html": [
       "<div>\n",
       "<style scoped>\n",
       "    .dataframe tbody tr th:only-of-type {\n",
       "        vertical-align: middle;\n",
       "    }\n",
       "\n",
       "    .dataframe tbody tr th {\n",
       "        vertical-align: top;\n",
       "    }\n",
       "\n",
       "    .dataframe thead th {\n",
       "        text-align: right;\n",
       "    }\n",
       "</style>\n",
       "<table border=\"1\" class=\"dataframe\">\n",
       "  <thead>\n",
       "    <tr style=\"text-align: right;\">\n",
       "      <th></th>\n",
       "      <th>법정동코드</th>\n",
       "      <th>법정동명</th>\n",
       "      <th>폐지여부</th>\n",
       "    </tr>\n",
       "  </thead>\n",
       "  <tbody>\n",
       "    <tr>\n",
       "      <th>0</th>\n",
       "      <td>1100000000</td>\n",
       "      <td>서울특별시</td>\n",
       "      <td>존재</td>\n",
       "    </tr>\n",
       "    <tr>\n",
       "      <th>1</th>\n",
       "      <td>1111000000</td>\n",
       "      <td>서울특별시 종로구</td>\n",
       "      <td>존재</td>\n",
       "    </tr>\n",
       "    <tr>\n",
       "      <th>2</th>\n",
       "      <td>1111010100</td>\n",
       "      <td>서울특별시 종로구 청운동</td>\n",
       "      <td>존재</td>\n",
       "    </tr>\n",
       "    <tr>\n",
       "      <th>3</th>\n",
       "      <td>1111010200</td>\n",
       "      <td>서울특별시 종로구 신교동</td>\n",
       "      <td>존재</td>\n",
       "    </tr>\n",
       "    <tr>\n",
       "      <th>4</th>\n",
       "      <td>1111010300</td>\n",
       "      <td>서울특별시 종로구 궁정동</td>\n",
       "      <td>존재</td>\n",
       "    </tr>\n",
       "    <tr>\n",
       "      <th>...</th>\n",
       "      <td>...</td>\n",
       "      <td>...</td>\n",
       "      <td>...</td>\n",
       "    </tr>\n",
       "    <tr>\n",
       "      <th>46323</th>\n",
       "      <td>5013032022</td>\n",
       "      <td>제주특별자치도 서귀포시 표선면 하천리</td>\n",
       "      <td>존재</td>\n",
       "    </tr>\n",
       "    <tr>\n",
       "      <th>46324</th>\n",
       "      <td>5013032023</td>\n",
       "      <td>제주특별자치도 서귀포시 표선면 성읍리</td>\n",
       "      <td>존재</td>\n",
       "    </tr>\n",
       "    <tr>\n",
       "      <th>46325</th>\n",
       "      <td>5013032024</td>\n",
       "      <td>제주특별자치도 서귀포시 표선면 가시리</td>\n",
       "      <td>존재</td>\n",
       "    </tr>\n",
       "    <tr>\n",
       "      <th>46326</th>\n",
       "      <td>5013032025</td>\n",
       "      <td>제주특별자치도 서귀포시 표선면 세화리</td>\n",
       "      <td>존재</td>\n",
       "    </tr>\n",
       "    <tr>\n",
       "      <th>46327</th>\n",
       "      <td>5013032026</td>\n",
       "      <td>제주특별자치도 서귀포시 표선면 토산리</td>\n",
       "      <td>존재</td>\n",
       "    </tr>\n",
       "  </tbody>\n",
       "</table>\n",
       "<p>20551 rows × 3 columns</p>\n",
       "</div>"
      ],
      "text/plain": [
       "            법정동코드                  법정동명 폐지여부\n",
       "0      1100000000                 서울특별시   존재\n",
       "1      1111000000             서울특별시 종로구   존재\n",
       "2      1111010100         서울특별시 종로구 청운동   존재\n",
       "3      1111010200         서울특별시 종로구 신교동   존재\n",
       "4      1111010300         서울특별시 종로구 궁정동   존재\n",
       "...           ...                   ...  ...\n",
       "46323  5013032022  제주특별자치도 서귀포시 표선면 하천리   존재\n",
       "46324  5013032023  제주특별자치도 서귀포시 표선면 성읍리   존재\n",
       "46325  5013032024  제주특별자치도 서귀포시 표선면 가시리   존재\n",
       "46326  5013032025  제주특별자치도 서귀포시 표선면 세화리   존재\n",
       "46327  5013032026  제주특별자치도 서귀포시 표선면 토산리   존재\n",
       "\n",
       "[20551 rows x 3 columns]"
      ]
     },
     "execution_count": 4,
     "metadata": {},
     "output_type": "execute_result"
    }
   ],
   "source": [
    "pe = pe[pe.폐지여부 == '존재']\n",
    "pe"
   ]
  },
  {
   "cell_type": "code",
   "execution_count": 5,
   "metadata": {},
   "outputs": [
    {
     "data": {
      "text/html": [
       "<div>\n",
       "<style scoped>\n",
       "    .dataframe tbody tr th:only-of-type {\n",
       "        vertical-align: middle;\n",
       "    }\n",
       "\n",
       "    .dataframe tbody tr th {\n",
       "        vertical-align: top;\n",
       "    }\n",
       "\n",
       "    .dataframe thead th {\n",
       "        text-align: right;\n",
       "    }\n",
       "</style>\n",
       "<table border=\"1\" class=\"dataframe\">\n",
       "  <thead>\n",
       "    <tr style=\"text-align: right;\">\n",
       "      <th></th>\n",
       "      <th>법정동코드</th>\n",
       "      <th>법정동명</th>\n",
       "      <th>폐지여부</th>\n",
       "    </tr>\n",
       "  </thead>\n",
       "  <tbody>\n",
       "    <tr>\n",
       "      <th>4819</th>\n",
       "      <td>4111000000</td>\n",
       "      <td>경기도 수원시</td>\n",
       "      <td>존재</td>\n",
       "    </tr>\n",
       "    <tr>\n",
       "      <th>4884</th>\n",
       "      <td>4111100000</td>\n",
       "      <td>경기도 수원시 장안구</td>\n",
       "      <td>존재</td>\n",
       "    </tr>\n",
       "    <tr>\n",
       "      <th>4913</th>\n",
       "      <td>4111112900</td>\n",
       "      <td>경기도 수원시 장안구 파장동</td>\n",
       "      <td>존재</td>\n",
       "    </tr>\n",
       "    <tr>\n",
       "      <th>4914</th>\n",
       "      <td>4111113000</td>\n",
       "      <td>경기도 수원시 장안구 정자동</td>\n",
       "      <td>존재</td>\n",
       "    </tr>\n",
       "    <tr>\n",
       "      <th>4915</th>\n",
       "      <td>4111113100</td>\n",
       "      <td>경기도 수원시 장안구 이목동</td>\n",
       "      <td>존재</td>\n",
       "    </tr>\n",
       "    <tr>\n",
       "      <th>...</th>\n",
       "      <td>...</td>\n",
       "      <td>...</td>\n",
       "      <td>...</td>\n",
       "    </tr>\n",
       "    <tr>\n",
       "      <th>5023</th>\n",
       "      <td>4111710300</td>\n",
       "      <td>경기도 수원시 영통구 이의동</td>\n",
       "      <td>존재</td>\n",
       "    </tr>\n",
       "    <tr>\n",
       "      <th>5024</th>\n",
       "      <td>4111710400</td>\n",
       "      <td>경기도 수원시 영통구 하동</td>\n",
       "      <td>존재</td>\n",
       "    </tr>\n",
       "    <tr>\n",
       "      <th>5025</th>\n",
       "      <td>4111710500</td>\n",
       "      <td>경기도 수원시 영통구 영통동</td>\n",
       "      <td>존재</td>\n",
       "    </tr>\n",
       "    <tr>\n",
       "      <th>5026</th>\n",
       "      <td>4111710600</td>\n",
       "      <td>경기도 수원시 영통구 신동</td>\n",
       "      <td>존재</td>\n",
       "    </tr>\n",
       "    <tr>\n",
       "      <th>5027</th>\n",
       "      <td>4111710700</td>\n",
       "      <td>경기도 수원시 영통구 망포동</td>\n",
       "      <td>존재</td>\n",
       "    </tr>\n",
       "  </tbody>\n",
       "</table>\n",
       "<p>61 rows × 3 columns</p>\n",
       "</div>"
      ],
      "text/plain": [
       "           법정동코드             법정동명 폐지여부\n",
       "4819  4111000000          경기도 수원시   존재\n",
       "4884  4111100000      경기도 수원시 장안구   존재\n",
       "4913  4111112900  경기도 수원시 장안구 파장동   존재\n",
       "4914  4111113000  경기도 수원시 장안구 정자동   존재\n",
       "4915  4111113100  경기도 수원시 장안구 이목동   존재\n",
       "...          ...              ...  ...\n",
       "5023  4111710300  경기도 수원시 영통구 이의동   존재\n",
       "5024  4111710400   경기도 수원시 영통구 하동   존재\n",
       "5025  4111710500  경기도 수원시 영통구 영통동   존재\n",
       "5026  4111710600   경기도 수원시 영통구 신동   존재\n",
       "5027  4111710700  경기도 수원시 영통구 망포동   존재\n",
       "\n",
       "[61 rows x 3 columns]"
      ]
     },
     "execution_count": 5,
     "metadata": {},
     "output_type": "execute_result"
    }
   ],
   "source": [
    "#   2) 현재 존재하는 경기도 수원시 데이터만 추출하세요.\n",
    "pe = pe[pe['법정동명'].str.contains('경기도 수원시')]\n",
    "pe"
   ]
  },
  {
   "cell_type": "code",
   "execution_count": 66,
   "metadata": {},
   "outputs": [],
   "source": [
    "#   3) 수원시 장안구에 있는 동의 이름을 추출하세요.\n",
    "p2 = pe[pe['법정동명'].str.contains('경기도 수원시 장안구')]"
   ]
  },
  {
   "cell_type": "code",
   "execution_count": 67,
   "metadata": {},
   "outputs": [
    {
     "data": {
      "text/html": [
       "<div>\n",
       "<style scoped>\n",
       "    .dataframe tbody tr th:only-of-type {\n",
       "        vertical-align: middle;\n",
       "    }\n",
       "\n",
       "    .dataframe tbody tr th {\n",
       "        vertical-align: top;\n",
       "    }\n",
       "\n",
       "    .dataframe thead th {\n",
       "        text-align: right;\n",
       "    }\n",
       "</style>\n",
       "<table border=\"1\" class=\"dataframe\">\n",
       "  <thead>\n",
       "    <tr style=\"text-align: right;\">\n",
       "      <th></th>\n",
       "      <th>법정동코드</th>\n",
       "      <th>법정동명</th>\n",
       "      <th>폐지여부</th>\n",
       "    </tr>\n",
       "  </thead>\n",
       "  <tbody>\n",
       "    <tr>\n",
       "      <th>4913</th>\n",
       "      <td>4111112900</td>\n",
       "      <td>경기도 수원시 장안구 파장동</td>\n",
       "      <td>존재</td>\n",
       "    </tr>\n",
       "    <tr>\n",
       "      <th>4914</th>\n",
       "      <td>4111113000</td>\n",
       "      <td>경기도 수원시 장안구 정자동</td>\n",
       "      <td>존재</td>\n",
       "    </tr>\n",
       "    <tr>\n",
       "      <th>4915</th>\n",
       "      <td>4111113100</td>\n",
       "      <td>경기도 수원시 장안구 이목동</td>\n",
       "      <td>존재</td>\n",
       "    </tr>\n",
       "    <tr>\n",
       "      <th>4916</th>\n",
       "      <td>4111113200</td>\n",
       "      <td>경기도 수원시 장안구 율전동</td>\n",
       "      <td>존재</td>\n",
       "    </tr>\n",
       "    <tr>\n",
       "      <th>4917</th>\n",
       "      <td>4111113300</td>\n",
       "      <td>경기도 수원시 장안구 천천동</td>\n",
       "      <td>존재</td>\n",
       "    </tr>\n",
       "    <tr>\n",
       "      <th>4918</th>\n",
       "      <td>4111113400</td>\n",
       "      <td>경기도 수원시 장안구 영화동</td>\n",
       "      <td>존재</td>\n",
       "    </tr>\n",
       "    <tr>\n",
       "      <th>4919</th>\n",
       "      <td>4111113500</td>\n",
       "      <td>경기도 수원시 장안구 송죽동</td>\n",
       "      <td>존재</td>\n",
       "    </tr>\n",
       "    <tr>\n",
       "      <th>4920</th>\n",
       "      <td>4111113600</td>\n",
       "      <td>경기도 수원시 장안구 조원동</td>\n",
       "      <td>존재</td>\n",
       "    </tr>\n",
       "    <tr>\n",
       "      <th>4921</th>\n",
       "      <td>4111113700</td>\n",
       "      <td>경기도 수원시 장안구 연무동</td>\n",
       "      <td>존재</td>\n",
       "    </tr>\n",
       "    <tr>\n",
       "      <th>4922</th>\n",
       "      <td>4111113800</td>\n",
       "      <td>경기도 수원시 장안구 상광교동</td>\n",
       "      <td>존재</td>\n",
       "    </tr>\n",
       "    <tr>\n",
       "      <th>4923</th>\n",
       "      <td>4111113900</td>\n",
       "      <td>경기도 수원시 장안구 하광교동</td>\n",
       "      <td>존재</td>\n",
       "    </tr>\n",
       "  </tbody>\n",
       "</table>\n",
       "</div>"
      ],
      "text/plain": [
       "           법정동코드              법정동명 폐지여부\n",
       "4913  4111112900   경기도 수원시 장안구 파장동   존재\n",
       "4914  4111113000   경기도 수원시 장안구 정자동   존재\n",
       "4915  4111113100   경기도 수원시 장안구 이목동   존재\n",
       "4916  4111113200   경기도 수원시 장안구 율전동   존재\n",
       "4917  4111113300   경기도 수원시 장안구 천천동   존재\n",
       "4918  4111113400   경기도 수원시 장안구 영화동   존재\n",
       "4919  4111113500   경기도 수원시 장안구 송죽동   존재\n",
       "4920  4111113600   경기도 수원시 장안구 조원동   존재\n",
       "4921  4111113700   경기도 수원시 장안구 연무동   존재\n",
       "4922  4111113800  경기도 수원시 장안구 상광교동   존재\n",
       "4923  4111113900  경기도 수원시 장안구 하광교동   존재"
      ]
     },
     "execution_count": 67,
     "metadata": {},
     "output_type": "execute_result"
    }
   ],
   "source": [
    "p2"
   ]
  },
  {
   "cell_type": "code",
   "execution_count": 60,
   "metadata": {},
   "outputs": [],
   "source": [
    "p2 = p2.drop(p2[p2['법정동명'] == '경기도 수원시 장안구'].index)"
   ]
  },
  {
   "cell_type": "code",
   "execution_count": 74,
   "metadata": {},
   "outputs": [
    {
     "data": {
      "text/html": [
       "<div>\n",
       "<style scoped>\n",
       "    .dataframe tbody tr th:only-of-type {\n",
       "        vertical-align: middle;\n",
       "    }\n",
       "\n",
       "    .dataframe tbody tr th {\n",
       "        vertical-align: top;\n",
       "    }\n",
       "\n",
       "    .dataframe thead th {\n",
       "        text-align: right;\n",
       "    }\n",
       "</style>\n",
       "<table border=\"1\" class=\"dataframe\">\n",
       "  <thead>\n",
       "    <tr style=\"text-align: right;\">\n",
       "      <th></th>\n",
       "      <th>법정동명</th>\n",
       "    </tr>\n",
       "  </thead>\n",
       "  <tbody>\n",
       "    <tr>\n",
       "      <th>4913</th>\n",
       "      <td>경기도 수원시 장안구 파장동</td>\n",
       "    </tr>\n",
       "    <tr>\n",
       "      <th>4914</th>\n",
       "      <td>경기도 수원시 장안구 정자동</td>\n",
       "    </tr>\n",
       "    <tr>\n",
       "      <th>4915</th>\n",
       "      <td>경기도 수원시 장안구 이목동</td>\n",
       "    </tr>\n",
       "    <tr>\n",
       "      <th>4916</th>\n",
       "      <td>경기도 수원시 장안구 율전동</td>\n",
       "    </tr>\n",
       "    <tr>\n",
       "      <th>4917</th>\n",
       "      <td>경기도 수원시 장안구 천천동</td>\n",
       "    </tr>\n",
       "    <tr>\n",
       "      <th>4918</th>\n",
       "      <td>경기도 수원시 장안구 영화동</td>\n",
       "    </tr>\n",
       "    <tr>\n",
       "      <th>4919</th>\n",
       "      <td>경기도 수원시 장안구 송죽동</td>\n",
       "    </tr>\n",
       "    <tr>\n",
       "      <th>4920</th>\n",
       "      <td>경기도 수원시 장안구 조원동</td>\n",
       "    </tr>\n",
       "    <tr>\n",
       "      <th>4921</th>\n",
       "      <td>경기도 수원시 장안구 연무동</td>\n",
       "    </tr>\n",
       "    <tr>\n",
       "      <th>4922</th>\n",
       "      <td>경기도 수원시 장안구 상광교동</td>\n",
       "    </tr>\n",
       "    <tr>\n",
       "      <th>4923</th>\n",
       "      <td>경기도 수원시 장안구 하광교동</td>\n",
       "    </tr>\n",
       "  </tbody>\n",
       "</table>\n",
       "</div>"
      ],
      "text/plain": [
       "                  법정동명\n",
       "4913   경기도 수원시 장안구 파장동\n",
       "4914   경기도 수원시 장안구 정자동\n",
       "4915   경기도 수원시 장안구 이목동\n",
       "4916   경기도 수원시 장안구 율전동\n",
       "4917   경기도 수원시 장안구 천천동\n",
       "4918   경기도 수원시 장안구 영화동\n",
       "4919   경기도 수원시 장안구 송죽동\n",
       "4920   경기도 수원시 장안구 조원동\n",
       "4921   경기도 수원시 장안구 연무동\n",
       "4922  경기도 수원시 장안구 상광교동\n",
       "4923  경기도 수원시 장안구 하광교동"
      ]
     },
     "execution_count": 74,
     "metadata": {},
     "output_type": "execute_result"
    }
   ],
   "source": [
    "p2.iloc[:,1:2]"
   ]
  },
  {
   "cell_type": "code",
   "execution_count": 112,
   "metadata": {},
   "outputs": [
    {
     "data": {
      "text/plain": [
       "(                  법정동명\n",
       " 4913   경기도 수원시 장안구 파장동\n",
       " 4914   경기도 수원시 장안구 정자동\n",
       " 4915   경기도 수원시 장안구 이목동\n",
       " 4916   경기도 수원시 장안구 율전동\n",
       " 4917   경기도 수원시 장안구 천천동\n",
       " 4918   경기도 수원시 장안구 영화동\n",
       " 4919   경기도 수원시 장안구 송죽동\n",
       " 4920   경기도 수원시 장안구 조원동\n",
       " 4921   경기도 수원시 장안구 연무동\n",
       " 4922  경기도 수원시 장안구 상광교동\n",
       " 4923  경기도 수원시 장안구 하광교동,\n",
       " [])"
      ]
     },
     "execution_count": 112,
     "metadata": {},
     "output_type": "execute_result"
    }
   ],
   "source": [
    "p2.iloc[:,1:2],str.split(' ')"
   ]
  },
  {
   "cell_type": "code",
   "execution_count": null,
   "metadata": {},
   "outputs": [],
   "source": [
    "p2.법정동명,str.split()"
   ]
  },
  {
   "cell_type": "code",
   "execution_count": 83,
   "metadata": {},
   "outputs": [
    {
     "data": {
      "text/plain": [
       "4913     경기도 수원시 장안구 파장동\n",
       "4914     경기도 수원시 장안구 정자동\n",
       "4915     경기도 수원시 장안구 이목동\n",
       "4916     경기도 수원시 장안구 율전동\n",
       "4917     경기도 수원시 장안구 천천동\n",
       "4918     경기도 수원시 장안구 영화동\n",
       "4919     경기도 수원시 장안구 송죽동\n",
       "4920     경기도 수원시 장안구 조원동\n",
       "4921     경기도 수원시 장안구 연무동\n",
       "4922    경기도 수원시 장안구 상광교동\n",
       "4923    경기도 수원시 장안구 하광교동\n",
       "Name: 법정동명, dtype: object"
      ]
     },
     "execution_count": 83,
     "metadata": {},
     "output_type": "execute_result"
    }
   ],
   "source": [
    "p2.법정동명"
   ]
  },
  {
   "cell_type": "code",
   "execution_count": 113,
   "metadata": {},
   "outputs": [
    {
     "data": {
      "text/plain": [
       "(4913     경기도 수원시 장안구 파장동\n",
       " 4914     경기도 수원시 장안구 정자동\n",
       " 4915     경기도 수원시 장안구 이목동\n",
       " 4916     경기도 수원시 장안구 율전동\n",
       " 4917     경기도 수원시 장안구 천천동\n",
       " 4918     경기도 수원시 장안구 영화동\n",
       " 4919     경기도 수원시 장안구 송죽동\n",
       " 4920     경기도 수원시 장안구 조원동\n",
       " 4921     경기도 수원시 장안구 연무동\n",
       " 4922    경기도 수원시 장안구 상광교동\n",
       " 4923    경기도 수원시 장안구 하광교동\n",
       " Name: 법정동명, dtype: object,\n",
       " [])"
      ]
     },
     "execution_count": 113,
     "metadata": {},
     "output_type": "execute_result"
    }
   ],
   "source": [
    "p2.법정동명,str.split(' ')"
   ]
  },
  {
   "cell_type": "code",
   "execution_count": 110,
   "metadata": {},
   "outputs": [
    {
     "data": {
      "text/plain": [
       "4913    14\n",
       "4914    14\n",
       "4915    14\n",
       "4916    14\n",
       "4917    14\n",
       "4918    14\n",
       "4919    14\n",
       "4920    14\n",
       "4921    14\n",
       "4922    15\n",
       "4923    15\n",
       "Name: 법정동명, dtype: int64"
      ]
     },
     "execution_count": 110,
     "metadata": {},
     "output_type": "execute_result"
    }
   ],
   "source": [
    "p2.법정동명.str.find('동')# 스트링 -1은 없다는것 6번째부터 (index번호) 종로구이라는 단어가 있다는 의미\n",
    "# 0보다크면 내가 찾는글자가 있다 /0보자 작은 -1 이 나오면 없다"
   ]
  },
  {
   "cell_type": "code",
   "execution_count": 124,
   "metadata": {},
   "outputs": [
    {
     "data": {
      "text/plain": [
       "4913      파장동\n",
       "4914      정자동\n",
       "4915      이목동\n",
       "4916      율전동\n",
       "4917      천천동\n",
       "4918      영화동\n",
       "4919      송죽동\n",
       "4920      조원동\n",
       "4921      연무동\n",
       "4922     상광교동\n",
       "4923     하광교동\n",
       "Name: 법정동명, dtype: object"
      ]
     },
     "execution_count": 124,
     "metadata": {},
     "output_type": "execute_result"
    }
   ],
   "source": [
    "p2['법정동명'].str[11:]"
   ]
  },
  {
   "cell_type": "code",
   "execution_count": 116,
   "metadata": {},
   "outputs": [
    {
     "data": {
      "text/plain": [
       "4913     [경기도, 수원시, 장안구, 파장동]\n",
       "4914     [경기도, 수원시, 장안구, 정자동]\n",
       "4915     [경기도, 수원시, 장안구, 이목동]\n",
       "4916     [경기도, 수원시, 장안구, 율전동]\n",
       "4917     [경기도, 수원시, 장안구, 천천동]\n",
       "4918     [경기도, 수원시, 장안구, 영화동]\n",
       "4919     [경기도, 수원시, 장안구, 송죽동]\n",
       "4920     [경기도, 수원시, 장안구, 조원동]\n",
       "4921     [경기도, 수원시, 장안구, 연무동]\n",
       "4922    [경기도, 수원시, 장안구, 상광교동]\n",
       "4923    [경기도, 수원시, 장안구, 하광교동]\n",
       "Name: 법정동명, dtype: object"
      ]
     },
     "execution_count": 116,
     "metadata": {},
     "output_type": "execute_result"
    }
   ],
   "source": [
    "p3 = p2['법정동명'].str.split(' ')\n",
    "p3"
   ]
  },
  {
   "cell_type": "code",
   "execution_count": 121,
   "metadata": {},
   "outputs": [],
   "source": [
    "p3 = p2['법정동명'].str.split(' ',expand=True)"
   ]
  },
  {
   "cell_type": "code",
   "execution_count": 123,
   "metadata": {},
   "outputs": [
    {
     "data": {
      "text/plain": [
       "4913     파장동\n",
       "4914     정자동\n",
       "4915     이목동\n",
       "4916     율전동\n",
       "4917     천천동\n",
       "4918     영화동\n",
       "4919     송죽동\n",
       "4920     조원동\n",
       "4921     연무동\n",
       "4922    상광교동\n",
       "4923    하광교동\n",
       "Name: 3, dtype: object"
      ]
     },
     "execution_count": 123,
     "metadata": {},
     "output_type": "execute_result"
    }
   ],
   "source": [
    "p3[3]"
   ]
  },
  {
   "cell_type": "code",
   "execution_count": 7,
   "metadata": {},
   "outputs": [
    {
     "data": {
      "text/html": [
       "<div>\n",
       "<style scoped>\n",
       "    .dataframe tbody tr th:only-of-type {\n",
       "        vertical-align: middle;\n",
       "    }\n",
       "\n",
       "    .dataframe tbody tr th {\n",
       "        vertical-align: top;\n",
       "    }\n",
       "\n",
       "    .dataframe thead th {\n",
       "        text-align: right;\n",
       "    }\n",
       "</style>\n",
       "<table border=\"1\" class=\"dataframe\">\n",
       "  <thead>\n",
       "    <tr style=\"text-align: right;\">\n",
       "      <th></th>\n",
       "      <th>법정동코드</th>\n",
       "      <th>법정동명</th>\n",
       "      <th>폐지여부</th>\n",
       "    </tr>\n",
       "  </thead>\n",
       "  <tbody>\n",
       "    <tr>\n",
       "      <th>4913</th>\n",
       "      <td>4111112900</td>\n",
       "      <td>경기도 수원시 장안구 파장동</td>\n",
       "      <td>존재</td>\n",
       "    </tr>\n",
       "    <tr>\n",
       "      <th>4914</th>\n",
       "      <td>4111113000</td>\n",
       "      <td>경기도 수원시 장안구 정자동</td>\n",
       "      <td>존재</td>\n",
       "    </tr>\n",
       "    <tr>\n",
       "      <th>4915</th>\n",
       "      <td>4111113100</td>\n",
       "      <td>경기도 수원시 장안구 이목동</td>\n",
       "      <td>존재</td>\n",
       "    </tr>\n",
       "    <tr>\n",
       "      <th>4916</th>\n",
       "      <td>4111113200</td>\n",
       "      <td>경기도 수원시 장안구 율전동</td>\n",
       "      <td>존재</td>\n",
       "    </tr>\n",
       "    <tr>\n",
       "      <th>4917</th>\n",
       "      <td>4111113300</td>\n",
       "      <td>경기도 수원시 장안구 천천동</td>\n",
       "      <td>존재</td>\n",
       "    </tr>\n",
       "  </tbody>\n",
       "</table>\n",
       "</div>"
      ],
      "text/plain": [
       "           법정동코드             법정동명 폐지여부\n",
       "4913  4111112900  경기도 수원시 장안구 파장동   존재\n",
       "4914  4111113000  경기도 수원시 장안구 정자동   존재\n",
       "4915  4111113100  경기도 수원시 장안구 이목동   존재\n",
       "4916  4111113200  경기도 수원시 장안구 율전동   존재\n",
       "4917  4111113300  경기도 수원시 장안구 천천동   존재"
      ]
     },
     "execution_count": 7,
     "metadata": {},
     "output_type": "execute_result"
    }
   ],
   "source": [
    "dong_list = []\n",
    "pe = pe[pe.법정동명.str.contains('장안구') & pe.법정동명.str.contains('동')]\n",
    "pe.head()"
   ]
  },
  {
   "cell_type": "code",
   "execution_count": 8,
   "metadata": {},
   "outputs": [
    {
     "data": {
      "text/plain": [
       "['파장동', '정자동', '이목동', '율전동', '천천동', '영화동', '송죽동', '조원동', '연무동', '상광교동', '하광교동']"
      ]
     },
     "execution_count": 8,
     "metadata": {},
     "output_type": "execute_result"
    }
   ],
   "source": [
    "dong_list = []\n",
    "for line in pe.법정동명:\n",
    "    dong = line.split()[-1].strip()\n",
    "    dong_list.append(dong)\n",
    "dong_list"
   ]
  },
  {
   "cell_type": "code",
   "execution_count": null,
   "metadata": {},
   "outputs": [],
   "source": [
    "'''\n",
    "Titanic 데이터를 로드한 후 다음에 답하세요.\n",
    "  1) 결측치를 찾아서 결측치를 제거 또는 대체하고, 그 이유를 간단히 적으세요.\n",
    "  2) 나이의 결측치를 중앙값으로 대체한 후 qcut을 이용하여 나이에 따라 \n",
    "     3개의 그룹으로 나누세요.\n",
    "  3) 성별과 embark_town에 따른 생존율을 구하세요.\n",
    "  4) 타이타닉 탑승객의 성별에 따른 평균 나이를 구하세요.\n",
    "'''"
   ]
  },
  {
   "cell_type": "code",
   "execution_count": 10,
   "metadata": {},
   "outputs": [
    {
     "data": {
      "text/html": [
       "<div>\n",
       "<style scoped>\n",
       "    .dataframe tbody tr th:only-of-type {\n",
       "        vertical-align: middle;\n",
       "    }\n",
       "\n",
       "    .dataframe tbody tr th {\n",
       "        vertical-align: top;\n",
       "    }\n",
       "\n",
       "    .dataframe thead th {\n",
       "        text-align: right;\n",
       "    }\n",
       "</style>\n",
       "<table border=\"1\" class=\"dataframe\">\n",
       "  <thead>\n",
       "    <tr style=\"text-align: right;\">\n",
       "      <th></th>\n",
       "      <th>survived</th>\n",
       "      <th>pclass</th>\n",
       "      <th>sex</th>\n",
       "      <th>age</th>\n",
       "      <th>sibsp</th>\n",
       "      <th>parch</th>\n",
       "      <th>fare</th>\n",
       "      <th>embarked</th>\n",
       "      <th>class</th>\n",
       "      <th>who</th>\n",
       "      <th>adult_male</th>\n",
       "      <th>deck</th>\n",
       "      <th>embark_town</th>\n",
       "      <th>alive</th>\n",
       "      <th>alone</th>\n",
       "    </tr>\n",
       "  </thead>\n",
       "  <tbody>\n",
       "    <tr>\n",
       "      <th>0</th>\n",
       "      <td>0</td>\n",
       "      <td>3</td>\n",
       "      <td>male</td>\n",
       "      <td>22.0</td>\n",
       "      <td>1</td>\n",
       "      <td>0</td>\n",
       "      <td>7.2500</td>\n",
       "      <td>S</td>\n",
       "      <td>Third</td>\n",
       "      <td>man</td>\n",
       "      <td>True</td>\n",
       "      <td>NaN</td>\n",
       "      <td>Southampton</td>\n",
       "      <td>no</td>\n",
       "      <td>False</td>\n",
       "    </tr>\n",
       "    <tr>\n",
       "      <th>1</th>\n",
       "      <td>1</td>\n",
       "      <td>1</td>\n",
       "      <td>female</td>\n",
       "      <td>38.0</td>\n",
       "      <td>1</td>\n",
       "      <td>0</td>\n",
       "      <td>71.2833</td>\n",
       "      <td>C</td>\n",
       "      <td>First</td>\n",
       "      <td>woman</td>\n",
       "      <td>False</td>\n",
       "      <td>C</td>\n",
       "      <td>Cherbourg</td>\n",
       "      <td>yes</td>\n",
       "      <td>False</td>\n",
       "    </tr>\n",
       "    <tr>\n",
       "      <th>2</th>\n",
       "      <td>1</td>\n",
       "      <td>3</td>\n",
       "      <td>female</td>\n",
       "      <td>26.0</td>\n",
       "      <td>0</td>\n",
       "      <td>0</td>\n",
       "      <td>7.9250</td>\n",
       "      <td>S</td>\n",
       "      <td>Third</td>\n",
       "      <td>woman</td>\n",
       "      <td>False</td>\n",
       "      <td>NaN</td>\n",
       "      <td>Southampton</td>\n",
       "      <td>yes</td>\n",
       "      <td>True</td>\n",
       "    </tr>\n",
       "  </tbody>\n",
       "</table>\n",
       "</div>"
      ],
      "text/plain": [
       "   survived  pclass     sex   age  sibsp  parch     fare embarked  class   \n",
       "0         0       3    male  22.0      1      0   7.2500        S  Third  \\\n",
       "1         1       1  female  38.0      1      0  71.2833        C  First   \n",
       "2         1       3  female  26.0      0      0   7.9250        S  Third   \n",
       "\n",
       "     who  adult_male deck  embark_town alive  alone  \n",
       "0    man        True  NaN  Southampton    no  False  \n",
       "1  woman       False    C    Cherbourg   yes  False  \n",
       "2  woman       False  NaN  Southampton   yes   True  "
      ]
     },
     "execution_count": 10,
     "metadata": {},
     "output_type": "execute_result"
    }
   ],
   "source": [
    "import seaborn as sns\n",
    "titanic = sns.load_dataset('titanic')\n",
    "titanic.head(3)"
   ]
  },
  {
   "cell_type": "code",
   "execution_count": 8,
   "metadata": {},
   "outputs": [
    {
     "data": {
      "text/plain": [
       "survived         0\n",
       "pclass           0\n",
       "sex              0\n",
       "age            177\n",
       "sibsp            0\n",
       "parch            0\n",
       "fare             0\n",
       "embarked         2\n",
       "class            0\n",
       "who              0\n",
       "adult_male       0\n",
       "deck           688\n",
       "embark_town      2\n",
       "alive            0\n",
       "alone            0\n",
       "dtype: int64"
      ]
     },
     "execution_count": 8,
     "metadata": {},
     "output_type": "execute_result"
    }
   ],
   "source": [
    "#   1) 결측치를 찾아서 결측치를 제거 또는 대체하고, 그 이유를 간단히 적으세요.\n",
    "titanic.isna().sum()"
   ]
  },
  {
   "cell_type": "code",
   "execution_count": 11,
   "metadata": {},
   "outputs": [],
   "source": [
    "# deck는 결측치가 너무 많아서 컬럼 삭제 할것\n",
    "titanic.drop(columns=['deck'],inplace=True)"
   ]
  },
  {
   "cell_type": "code",
   "execution_count": null,
   "metadata": {},
   "outputs": [],
   "source": [
    "df.drop(columns=['deck'],inplace=True) # 결측치가 너무 많아 열 삭제\n",
    "dt.embarked.fillna('S', inplace=True) # 결측치가 별로 없어서 최빈값으로 대체\n",
    "dt.embarked_town.fillna('Southampton',inplace=True) # 상동\n",
    "dt.age.fillna(dt.age.median().round(1),inplace=True) # 중앙값으로 대체\n",
    "dt.isna().sum().sum()"
   ]
  },
  {
   "cell_type": "code",
   "execution_count": 12,
   "metadata": {},
   "outputs": [
    {
     "data": {
      "text/plain": [
       "embarked\n",
       "S    644\n",
       "C    168\n",
       "Q     77\n",
       "Name: count, dtype: int64"
      ]
     },
     "execution_count": 12,
     "metadata": {},
     "output_type": "execute_result"
    }
   ],
   "source": [
    "# embarked 결측치는 최빈값으로 대체 embarked는 카테고리형 가장 많이 나오는 유형\n",
    "titanic.embarked.value_counts()"
   ]
  },
  {
   "cell_type": "code",
   "execution_count": 13,
   "metadata": {},
   "outputs": [
    {
     "data": {
      "text/plain": [
       "embarked\n",
       "S    646\n",
       "C    168\n",
       "Q     77\n",
       "Name: count, dtype: int64"
      ]
     },
     "execution_count": 13,
     "metadata": {},
     "output_type": "execute_result"
    }
   ],
   "source": [
    "titanic.embarked.fillna('S', inplace=True)\n",
    "titanic.embarked.value_counts()"
   ]
  },
  {
   "cell_type": "code",
   "execution_count": 14,
   "metadata": {},
   "outputs": [
    {
     "data": {
      "text/plain": [
       "177"
      ]
     },
     "execution_count": 14,
     "metadata": {},
     "output_type": "execute_result"
    }
   ],
   "source": [
    "# embarked_town 결측치는 행 삭제\n",
    "titanic.dropna(subset=['embark_town'], inplace=True) # embark_town에 NaN이 있는 행을 날려라\n",
    "titanic.isna().sum().sum() # titanic안에 더이상 결측치가 나마있찌 않음"
   ]
  },
  {
   "cell_type": "code",
   "execution_count": 15,
   "metadata": {},
   "outputs": [
    {
     "data": {
      "text/plain": [
       "survived         0\n",
       "pclass           0\n",
       "sex              0\n",
       "age            177\n",
       "sibsp            0\n",
       "parch            0\n",
       "fare             0\n",
       "embarked         0\n",
       "class            0\n",
       "who              0\n",
       "adult_male       0\n",
       "embark_town      0\n",
       "alive            0\n",
       "alone            0\n",
       "dtype: int64"
      ]
     },
     "execution_count": 15,
     "metadata": {},
     "output_type": "execute_result"
    }
   ],
   "source": [
    "titanic.isna().sum()"
   ]
  },
  {
   "cell_type": "code",
   "execution_count": null,
   "metadata": {},
   "outputs": [],
   "source": [
    "#   2) 나이의 결측치를 중앙값으로 대체한 후 qcut을 이용하여 나이에 따라 \n",
    "#      3개의 그룹으로 나누세요."
   ]
  },
  {
   "cell_type": "code",
   "execution_count": 16,
   "metadata": {},
   "outputs": [],
   "source": [
    "# age 결측치는 평균으로 대체\n",
    "titanic.age.fillna(titanic.age.mean().round(2), inplace=True) # age column을 fillna  NaN을 평균으로"
   ]
  },
  {
   "cell_type": "code",
   "execution_count": 17,
   "metadata": {},
   "outputs": [
    {
     "data": {
      "text/html": [
       "<div>\n",
       "<style scoped>\n",
       "    .dataframe tbody tr th:only-of-type {\n",
       "        vertical-align: middle;\n",
       "    }\n",
       "\n",
       "    .dataframe tbody tr th {\n",
       "        vertical-align: top;\n",
       "    }\n",
       "\n",
       "    .dataframe thead th {\n",
       "        text-align: right;\n",
       "    }\n",
       "</style>\n",
       "<table border=\"1\" class=\"dataframe\">\n",
       "  <thead>\n",
       "    <tr style=\"text-align: right;\">\n",
       "      <th></th>\n",
       "      <th>survived</th>\n",
       "      <th>pclass</th>\n",
       "      <th>sex</th>\n",
       "      <th>age</th>\n",
       "      <th>sibsp</th>\n",
       "      <th>parch</th>\n",
       "      <th>fare</th>\n",
       "      <th>embarked</th>\n",
       "      <th>class</th>\n",
       "      <th>who</th>\n",
       "      <th>adult_male</th>\n",
       "      <th>embark_town</th>\n",
       "      <th>alive</th>\n",
       "      <th>alone</th>\n",
       "      <th>cat</th>\n",
       "    </tr>\n",
       "  </thead>\n",
       "  <tbody>\n",
       "    <tr>\n",
       "      <th>0</th>\n",
       "      <td>0</td>\n",
       "      <td>3</td>\n",
       "      <td>male</td>\n",
       "      <td>22.0</td>\n",
       "      <td>1</td>\n",
       "      <td>0</td>\n",
       "      <td>7.2500</td>\n",
       "      <td>S</td>\n",
       "      <td>Third</td>\n",
       "      <td>man</td>\n",
       "      <td>True</td>\n",
       "      <td>Southampton</td>\n",
       "      <td>no</td>\n",
       "      <td>False</td>\n",
       "      <td>A1</td>\n",
       "    </tr>\n",
       "    <tr>\n",
       "      <th>1</th>\n",
       "      <td>1</td>\n",
       "      <td>1</td>\n",
       "      <td>female</td>\n",
       "      <td>38.0</td>\n",
       "      <td>1</td>\n",
       "      <td>0</td>\n",
       "      <td>71.2833</td>\n",
       "      <td>C</td>\n",
       "      <td>First</td>\n",
       "      <td>woman</td>\n",
       "      <td>False</td>\n",
       "      <td>Cherbourg</td>\n",
       "      <td>yes</td>\n",
       "      <td>False</td>\n",
       "      <td>A3</td>\n",
       "    </tr>\n",
       "    <tr>\n",
       "      <th>2</th>\n",
       "      <td>1</td>\n",
       "      <td>3</td>\n",
       "      <td>female</td>\n",
       "      <td>26.0</td>\n",
       "      <td>0</td>\n",
       "      <td>0</td>\n",
       "      <td>7.9250</td>\n",
       "      <td>S</td>\n",
       "      <td>Third</td>\n",
       "      <td>woman</td>\n",
       "      <td>False</td>\n",
       "      <td>Southampton</td>\n",
       "      <td>yes</td>\n",
       "      <td>True</td>\n",
       "      <td>A2</td>\n",
       "    </tr>\n",
       "    <tr>\n",
       "      <th>3</th>\n",
       "      <td>1</td>\n",
       "      <td>1</td>\n",
       "      <td>female</td>\n",
       "      <td>35.0</td>\n",
       "      <td>1</td>\n",
       "      <td>0</td>\n",
       "      <td>53.1000</td>\n",
       "      <td>S</td>\n",
       "      <td>First</td>\n",
       "      <td>woman</td>\n",
       "      <td>False</td>\n",
       "      <td>Southampton</td>\n",
       "      <td>yes</td>\n",
       "      <td>False</td>\n",
       "      <td>A3</td>\n",
       "    </tr>\n",
       "    <tr>\n",
       "      <th>4</th>\n",
       "      <td>0</td>\n",
       "      <td>3</td>\n",
       "      <td>male</td>\n",
       "      <td>35.0</td>\n",
       "      <td>0</td>\n",
       "      <td>0</td>\n",
       "      <td>8.0500</td>\n",
       "      <td>S</td>\n",
       "      <td>Third</td>\n",
       "      <td>man</td>\n",
       "      <td>True</td>\n",
       "      <td>Southampton</td>\n",
       "      <td>no</td>\n",
       "      <td>True</td>\n",
       "      <td>A3</td>\n",
       "    </tr>\n",
       "  </tbody>\n",
       "</table>\n",
       "</div>"
      ],
      "text/plain": [
       "   survived  pclass     sex   age  sibsp  parch     fare embarked  class   \n",
       "0         0       3    male  22.0      1      0   7.2500        S  Third  \\\n",
       "1         1       1  female  38.0      1      0  71.2833        C  First   \n",
       "2         1       3  female  26.0      0      0   7.9250        S  Third   \n",
       "3         1       1  female  35.0      1      0  53.1000        S  First   \n",
       "4         0       3    male  35.0      0      0   8.0500        S  Third   \n",
       "\n",
       "     who  adult_male  embark_town alive  alone cat  \n",
       "0    man        True  Southampton    no  False  A1  \n",
       "1  woman       False    Cherbourg   yes  False  A3  \n",
       "2  woman       False  Southampton   yes   True  A2  \n",
       "3  woman       False  Southampton   yes  False  A3  \n",
       "4    man        True  Southampton    no   True  A3  "
      ]
     },
     "execution_count": 17,
     "metadata": {},
     "output_type": "execute_result"
    }
   ],
   "source": [
    "# qcut 명령으로 세 개의 나이 그룹을 만든다.\n",
    "titanic['cat'] = pd.qcut(titanic.age, 3, labels=['A1','A2','A3'])\n",
    "titanic.head()"
   ]
  },
  {
   "cell_type": "code",
   "execution_count": 18,
   "metadata": {},
   "outputs": [
    {
     "data": {
      "text/html": [
       "<div>\n",
       "<style scoped>\n",
       "    .dataframe tbody tr th:only-of-type {\n",
       "        vertical-align: middle;\n",
       "    }\n",
       "\n",
       "    .dataframe tbody tr th {\n",
       "        vertical-align: top;\n",
       "    }\n",
       "\n",
       "    .dataframe thead th {\n",
       "        text-align: right;\n",
       "    }\n",
       "</style>\n",
       "<table border=\"1\" class=\"dataframe\">\n",
       "  <thead>\n",
       "    <tr style=\"text-align: right;\">\n",
       "      <th></th>\n",
       "      <th></th>\n",
       "      <th>survived</th>\n",
       "    </tr>\n",
       "    <tr>\n",
       "      <th>sex</th>\n",
       "      <th>embark_town</th>\n",
       "      <th></th>\n",
       "    </tr>\n",
       "  </thead>\n",
       "  <tbody>\n",
       "    <tr>\n",
       "      <th rowspan=\"3\" valign=\"top\">female</th>\n",
       "      <th>Cherbourg</th>\n",
       "      <td>0.876712</td>\n",
       "    </tr>\n",
       "    <tr>\n",
       "      <th>Queenstown</th>\n",
       "      <td>0.750000</td>\n",
       "    </tr>\n",
       "    <tr>\n",
       "      <th>Southampton</th>\n",
       "      <td>0.689655</td>\n",
       "    </tr>\n",
       "    <tr>\n",
       "      <th rowspan=\"3\" valign=\"top\">male</th>\n",
       "      <th>Cherbourg</th>\n",
       "      <td>0.305263</td>\n",
       "    </tr>\n",
       "    <tr>\n",
       "      <th>Queenstown</th>\n",
       "      <td>0.073171</td>\n",
       "    </tr>\n",
       "    <tr>\n",
       "      <th>Southampton</th>\n",
       "      <td>0.174603</td>\n",
       "    </tr>\n",
       "  </tbody>\n",
       "</table>\n",
       "</div>"
      ],
      "text/plain": [
       "                    survived\n",
       "sex    embark_town          \n",
       "female Cherbourg    0.876712\n",
       "       Queenstown   0.750000\n",
       "       Southampton  0.689655\n",
       "male   Cherbourg    0.305263\n",
       "       Queenstown   0.073171\n",
       "       Southampton  0.174603"
      ]
     },
     "execution_count": 18,
     "metadata": {},
     "output_type": "execute_result"
    }
   ],
   "source": [
    "#   3) 성별과 embark_town에 따른 생존율을 구하세요.\n",
    "titanic.pivot_table('survived',['sex', 'embark_town'], aggfunc='mean')"
   ]
  },
  {
   "cell_type": "code",
   "execution_count": 19,
   "metadata": {},
   "outputs": [
    {
     "data": {
      "text/html": [
       "<div>\n",
       "<style scoped>\n",
       "    .dataframe tbody tr th:only-of-type {\n",
       "        vertical-align: middle;\n",
       "    }\n",
       "\n",
       "    .dataframe tbody tr th {\n",
       "        vertical-align: top;\n",
       "    }\n",
       "\n",
       "    .dataframe thead th {\n",
       "        text-align: right;\n",
       "    }\n",
       "</style>\n",
       "<table border=\"1\" class=\"dataframe\">\n",
       "  <thead>\n",
       "    <tr style=\"text-align: right;\">\n",
       "      <th>embark_town</th>\n",
       "      <th>Cherbourg</th>\n",
       "      <th>Queenstown</th>\n",
       "      <th>Southampton</th>\n",
       "    </tr>\n",
       "    <tr>\n",
       "      <th>sex</th>\n",
       "      <th></th>\n",
       "      <th></th>\n",
       "      <th></th>\n",
       "    </tr>\n",
       "  </thead>\n",
       "  <tbody>\n",
       "    <tr>\n",
       "      <th>female</th>\n",
       "      <td>0.876712</td>\n",
       "      <td>0.750000</td>\n",
       "      <td>0.689655</td>\n",
       "    </tr>\n",
       "    <tr>\n",
       "      <th>male</th>\n",
       "      <td>0.305263</td>\n",
       "      <td>0.073171</td>\n",
       "      <td>0.174603</td>\n",
       "    </tr>\n",
       "  </tbody>\n",
       "</table>\n",
       "</div>"
      ],
      "text/plain": [
       "embark_town  Cherbourg  Queenstown  Southampton\n",
       "sex                                            \n",
       "female        0.876712    0.750000     0.689655\n",
       "male          0.305263    0.073171     0.174603"
      ]
     },
     "execution_count": 19,
     "metadata": {},
     "output_type": "execute_result"
    }
   ],
   "source": [
    "# 정답\n",
    "titanic.pivot_table('survived','sex', 'embark_town', aggfunc='mean')"
   ]
  },
  {
   "cell_type": "code",
   "execution_count": 16,
   "metadata": {},
   "outputs": [
    {
     "data": {
      "text/html": [
       "<div>\n",
       "<style scoped>\n",
       "    .dataframe tbody tr th:only-of-type {\n",
       "        vertical-align: middle;\n",
       "    }\n",
       "\n",
       "    .dataframe tbody tr th {\n",
       "        vertical-align: top;\n",
       "    }\n",
       "\n",
       "    .dataframe thead th {\n",
       "        text-align: right;\n",
       "    }\n",
       "</style>\n",
       "<table border=\"1\" class=\"dataframe\">\n",
       "  <thead>\n",
       "    <tr style=\"text-align: right;\">\n",
       "      <th></th>\n",
       "      <th></th>\n",
       "      <th>age</th>\n",
       "    </tr>\n",
       "    <tr>\n",
       "      <th>survived</th>\n",
       "      <th>sex</th>\n",
       "      <th></th>\n",
       "    </tr>\n",
       "  </thead>\n",
       "  <tbody>\n",
       "    <tr>\n",
       "      <th rowspan=\"2\" valign=\"top\">0</th>\n",
       "      <th>female</th>\n",
       "      <td>26.010864</td>\n",
       "    </tr>\n",
       "    <tr>\n",
       "      <th>male</th>\n",
       "      <td>31.161581</td>\n",
       "    </tr>\n",
       "    <tr>\n",
       "      <th rowspan=\"2\" valign=\"top\">1</th>\n",
       "      <th>female</th>\n",
       "      <td>28.788052</td>\n",
       "    </tr>\n",
       "    <tr>\n",
       "      <th>male</th>\n",
       "      <td>27.623028</td>\n",
       "    </tr>\n",
       "  </tbody>\n",
       "</table>\n",
       "</div>"
      ],
      "text/plain": [
       "                       age\n",
       "survived sex              \n",
       "0        female  26.010864\n",
       "         male    31.161581\n",
       "1        female  28.788052\n",
       "         male    27.623028"
      ]
     },
     "execution_count": 16,
     "metadata": {},
     "output_type": "execute_result"
    }
   ],
   "source": [
    "# 4) 타이타닉 탑승객의 성별에 따른 평균 나이를 구하세요. /난독이네..\n",
    "titanic.pivot_table('age',['survived', 'sex'], aggfunc='mean')"
   ]
  },
  {
   "cell_type": "code",
   "execution_count": 21,
   "metadata": {},
   "outputs": [
    {
     "data": {
      "text/html": [
       "<div>\n",
       "<style scoped>\n",
       "    .dataframe tbody tr th:only-of-type {\n",
       "        vertical-align: middle;\n",
       "    }\n",
       "\n",
       "    .dataframe tbody tr th {\n",
       "        vertical-align: top;\n",
       "    }\n",
       "\n",
       "    .dataframe thead th {\n",
       "        text-align: right;\n",
       "    }\n",
       "</style>\n",
       "<table border=\"1\" class=\"dataframe\">\n",
       "  <thead>\n",
       "    <tr style=\"text-align: right;\">\n",
       "      <th></th>\n",
       "      <th>age</th>\n",
       "    </tr>\n",
       "    <tr>\n",
       "      <th>sex</th>\n",
       "      <th></th>\n",
       "    </tr>\n",
       "  </thead>\n",
       "  <tbody>\n",
       "    <tr>\n",
       "      <th>female</th>\n",
       "      <td>28.067051</td>\n",
       "    </tr>\n",
       "    <tr>\n",
       "      <th>male</th>\n",
       "      <td>30.493120</td>\n",
       "    </tr>\n",
       "  </tbody>\n",
       "</table>\n",
       "</div>"
      ],
      "text/plain": [
       "              age\n",
       "sex              \n",
       "female  28.067051\n",
       "male    30.493120"
      ]
     },
     "execution_count": 21,
     "metadata": {},
     "output_type": "execute_result"
    }
   ],
   "source": [
    "# 정답\n",
    "titanic.pivot_table('age', 'sex', aggfunc='mean')"
   ]
  },
  {
   "cell_type": "code",
   "execution_count": null,
   "metadata": {},
   "outputs": [],
   "source": []
  }
 ],
 "metadata": {
  "kernelspec": {
   "display_name": "base",
   "language": "python",
   "name": "python3"
  },
  "language_info": {
   "codemirror_mode": {
    "name": "ipython",
    "version": 3
   },
   "file_extension": ".py",
   "mimetype": "text/x-python",
   "name": "python",
   "nbconvert_exporter": "python",
   "pygments_lexer": "ipython3",
   "version": "3.10.9"
  },
  "orig_nbformat": 4
 },
 "nbformat": 4,
 "nbformat_minor": 2
}
