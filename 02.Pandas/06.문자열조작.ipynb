{
 "cells": [
  {
   "attachments": {},
   "cell_type": "markdown",
   "metadata": {},
   "source": [
    "### 문자열 조작"
   ]
  },
  {
   "attachments": {},
   "cell_type": "markdown",
   "metadata": {},
   "source": [
    "- 데이터탐색 info,shape\n",
    "- 숫자일경우 subcribe\n",
    "- filtering"
   ]
  },
  {
   "cell_type": "code",
   "execution_count": 1,
   "metadata": {},
   "outputs": [],
   "source": [
    "import numpy as np\n",
    "import pandas as pd"
   ]
  },
  {
   "attachments": {},
   "cell_type": "markdown",
   "metadata": {},
   "source": [
    "- 데이터 탐색"
   ]
  },
  {
   "cell_type": "code",
   "execution_count": 2,
   "metadata": {},
   "outputs": [
    {
     "data": {
      "text/html": [
       "<div>\n",
       "<style scoped>\n",
       "    .dataframe tbody tr th:only-of-type {\n",
       "        vertical-align: middle;\n",
       "    }\n",
       "\n",
       "    .dataframe tbody tr th {\n",
       "        vertical-align: top;\n",
       "    }\n",
       "\n",
       "    .dataframe thead th {\n",
       "        text-align: right;\n",
       "    }\n",
       "</style>\n",
       "<table border=\"1\" class=\"dataframe\">\n",
       "  <thead>\n",
       "    <tr style=\"text-align: right;\">\n",
       "      <th></th>\n",
       "      <th>법정동코드</th>\n",
       "      <th>법정동명</th>\n",
       "      <th>폐지여부</th>\n",
       "    </tr>\n",
       "  </thead>\n",
       "  <tbody>\n",
       "    <tr>\n",
       "      <th>0</th>\n",
       "      <td>1100000000</td>\n",
       "      <td>서울특별시</td>\n",
       "      <td>존재</td>\n",
       "    </tr>\n",
       "    <tr>\n",
       "      <th>1</th>\n",
       "      <td>1111000000</td>\n",
       "      <td>서울특별시 종로구</td>\n",
       "      <td>존재</td>\n",
       "    </tr>\n",
       "    <tr>\n",
       "      <th>2</th>\n",
       "      <td>1111010100</td>\n",
       "      <td>서울특별시 종로구 청운동</td>\n",
       "      <td>존재</td>\n",
       "    </tr>\n",
       "    <tr>\n",
       "      <th>3</th>\n",
       "      <td>1111010200</td>\n",
       "      <td>서울특별시 종로구 신교동</td>\n",
       "      <td>존재</td>\n",
       "    </tr>\n",
       "    <tr>\n",
       "      <th>4</th>\n",
       "      <td>1111010300</td>\n",
       "      <td>서울특별시 종로구 궁정동</td>\n",
       "      <td>존재</td>\n",
       "    </tr>\n",
       "  </tbody>\n",
       "</table>\n",
       "</div>"
      ],
      "text/plain": [
       "        법정동코드           법정동명 폐지여부\n",
       "0  1100000000          서울특별시   존재\n",
       "1  1111000000      서울특별시 종로구   존재\n",
       "2  1111010100  서울특별시 종로구 청운동   존재\n",
       "3  1111010200  서울특별시 종로구 신교동   존재\n",
       "4  1111010300  서울특별시 종로구 궁정동   존재"
      ]
     },
     "execution_count": 2,
     "metadata": {},
     "output_type": "execute_result"
    }
   ],
   "source": [
    "df = pd.read_csv('data/법정동코드 전체자료.txt', sep='\\t', encoding='euc-kr') # 인코딩이euc-kr파일이라 \n",
    "df.head()"
   ]
  },
  {
   "cell_type": "code",
   "execution_count": 3,
   "metadata": {},
   "outputs": [
    {
     "data": {
      "text/plain": [
       "(46328, 3)"
      ]
     },
     "execution_count": 3,
     "metadata": {},
     "output_type": "execute_result"
    }
   ],
   "source": [
    "df.shape # 46328의 열은 3개"
   ]
  },
  {
   "cell_type": "code",
   "execution_count": 4,
   "metadata": {},
   "outputs": [
    {
     "name": "stdout",
     "output_type": "stream",
     "text": [
      "<class 'pandas.core.frame.DataFrame'>\n",
      "RangeIndex: 46328 entries, 0 to 46327\n",
      "Data columns (total 3 columns):\n",
      " #   Column  Non-Null Count  Dtype \n",
      "---  ------  --------------  ----- \n",
      " 0   법정동코드   46328 non-null  int64 \n",
      " 1   법정동명    46328 non-null  object\n",
      " 2   폐지여부    46328 non-null  object\n",
      "dtypes: int64(1), object(2)\n",
      "memory usage: 1.1+ MB\n"
     ]
    }
   ],
   "source": [
    "df.info()"
   ]
  },
  {
   "cell_type": "code",
   "execution_count": 5,
   "metadata": {},
   "outputs": [
    {
     "ename": "SyntaxError",
     "evalue": "invalid syntax (1136461924.py, line 1)",
     "output_type": "error",
     "traceback": [
      "\u001b[1;36m  Cell \u001b[1;32mIn[5], line 1\u001b[1;36m\u001b[0m\n\u001b[1;33m    <class 'pandas.core.frame.DataFrame'>\u001b[0m\n\u001b[1;37m    ^\u001b[0m\n\u001b[1;31mSyntaxError\u001b[0m\u001b[1;31m:\u001b[0m invalid syntax\n"
     ]
    }
   ],
   "source": [
    "<class 'pandas.core.frame.DataFrame'>\n",
    "RangeIndex: 46328 entries, 0 to 46327\n",
    "Data columns (total 3 columns):\n",
    " #   Column  Non-Null Count  Dtype \n",
    "---  ------  --------------  ----- \n",
    " 0   법정동코드   46328 non-null  int64 \n",
    " 1   법정동명    46328 non-null  object\n",
    " 2   폐지여부    46328 non-null  object\n",
    "dtypes: int64(1), object(2)\n",
    "memory usage: 1.1+ MB"
   ]
  },
  {
   "cell_type": "code",
   "execution_count": null,
   "metadata": {},
   "outputs": [
    {
     "data": {
      "text/plain": [
       "폐지여부\n",
       "폐지    25777\n",
       "존재    20551\n",
       "Name: count, dtype: int64"
      ]
     },
     "execution_count": 6,
     "metadata": {},
     "output_type": "execute_result"
    }
   ],
   "source": [
    "df.폐지여부.value_counts()"
   ]
  },
  {
   "attachments": {},
   "cell_type": "markdown",
   "metadata": {},
   "source": [
    "- Filtering / Selection(열선택)"
   ]
  },
  {
   "cell_type": "code",
   "execution_count": null,
   "metadata": {},
   "outputs": [
    {
     "data": {
      "text/plain": [
       "법정동코드    0\n",
       "법정동명     0\n",
       "폐지여부     0\n",
       "dtype: int64"
      ]
     },
     "execution_count": 8,
     "metadata": {},
     "output_type": "execute_result"
    }
   ],
   "source": [
    "# 폐지된 주소는 삭제하도록 필터링\n",
    "df.isna().sum()"
   ]
  },
  {
   "cell_type": "code",
   "execution_count": null,
   "metadata": {},
   "outputs": [
    {
     "data": {
      "text/plain": [
       "폐지여부\n",
       "존재    20551\n",
       "Name: count, dtype: int64"
      ]
     },
     "execution_count": 15,
     "metadata": {},
     "output_type": "execute_result"
    }
   ],
   "source": [
    "df.폐지여부.value_counts()"
   ]
  },
  {
   "cell_type": "code",
   "execution_count": null,
   "metadata": {},
   "outputs": [
    {
     "data": {
      "text/html": [
       "<div>\n",
       "<style scoped>\n",
       "    .dataframe tbody tr th:only-of-type {\n",
       "        vertical-align: middle;\n",
       "    }\n",
       "\n",
       "    .dataframe tbody tr th {\n",
       "        vertical-align: top;\n",
       "    }\n",
       "\n",
       "    .dataframe thead th {\n",
       "        text-align: right;\n",
       "    }\n",
       "</style>\n",
       "<table border=\"1\" class=\"dataframe\">\n",
       "  <thead>\n",
       "    <tr style=\"text-align: right;\">\n",
       "      <th></th>\n",
       "      <th>법정동코드</th>\n",
       "      <th>법정동명</th>\n",
       "      <th>폐지여부</th>\n",
       "    </tr>\n",
       "  </thead>\n",
       "  <tbody>\n",
       "    <tr>\n",
       "      <th>0</th>\n",
       "      <td>1100000000</td>\n",
       "      <td>서울특별시</td>\n",
       "      <td>존재</td>\n",
       "    </tr>\n",
       "    <tr>\n",
       "      <th>1</th>\n",
       "      <td>1111000000</td>\n",
       "      <td>서울특별시 종로구</td>\n",
       "      <td>존재</td>\n",
       "    </tr>\n",
       "    <tr>\n",
       "      <th>2</th>\n",
       "      <td>1111010100</td>\n",
       "      <td>서울특별시 종로구 청운동</td>\n",
       "      <td>존재</td>\n",
       "    </tr>\n",
       "    <tr>\n",
       "      <th>3</th>\n",
       "      <td>1111010200</td>\n",
       "      <td>서울특별시 종로구 신교동</td>\n",
       "      <td>존재</td>\n",
       "    </tr>\n",
       "    <tr>\n",
       "      <th>4</th>\n",
       "      <td>1111010300</td>\n",
       "      <td>서울특별시 종로구 궁정동</td>\n",
       "      <td>존재</td>\n",
       "    </tr>\n",
       "    <tr>\n",
       "      <th>...</th>\n",
       "      <td>...</td>\n",
       "      <td>...</td>\n",
       "      <td>...</td>\n",
       "    </tr>\n",
       "    <tr>\n",
       "      <th>46323</th>\n",
       "      <td>5013032022</td>\n",
       "      <td>제주특별자치도 서귀포시 표선면 하천리</td>\n",
       "      <td>존재</td>\n",
       "    </tr>\n",
       "    <tr>\n",
       "      <th>46324</th>\n",
       "      <td>5013032023</td>\n",
       "      <td>제주특별자치도 서귀포시 표선면 성읍리</td>\n",
       "      <td>존재</td>\n",
       "    </tr>\n",
       "    <tr>\n",
       "      <th>46325</th>\n",
       "      <td>5013032024</td>\n",
       "      <td>제주특별자치도 서귀포시 표선면 가시리</td>\n",
       "      <td>존재</td>\n",
       "    </tr>\n",
       "    <tr>\n",
       "      <th>46326</th>\n",
       "      <td>5013032025</td>\n",
       "      <td>제주특별자치도 서귀포시 표선면 세화리</td>\n",
       "      <td>존재</td>\n",
       "    </tr>\n",
       "    <tr>\n",
       "      <th>46327</th>\n",
       "      <td>5013032026</td>\n",
       "      <td>제주특별자치도 서귀포시 표선면 토산리</td>\n",
       "      <td>존재</td>\n",
       "    </tr>\n",
       "  </tbody>\n",
       "</table>\n",
       "<p>20551 rows × 3 columns</p>\n",
       "</div>"
      ],
      "text/plain": [
       "            법정동코드                  법정동명 폐지여부\n",
       "0      1100000000                 서울특별시   존재\n",
       "1      1111000000             서울특별시 종로구   존재\n",
       "2      1111010100         서울특별시 종로구 청운동   존재\n",
       "3      1111010200         서울특별시 종로구 신교동   존재\n",
       "4      1111010300         서울특별시 종로구 궁정동   존재\n",
       "...           ...                   ...  ...\n",
       "46323  5013032022  제주특별자치도 서귀포시 표선면 하천리   존재\n",
       "46324  5013032023  제주특별자치도 서귀포시 표선면 성읍리   존재\n",
       "46325  5013032024  제주특별자치도 서귀포시 표선면 가시리   존재\n",
       "46326  5013032025  제주특별자치도 서귀포시 표선면 세화리   존재\n",
       "46327  5013032026  제주특별자치도 서귀포시 표선면 토산리   존재\n",
       "\n",
       "[20551 rows x 3 columns]"
      ]
     },
     "execution_count": 16,
     "metadata": {},
     "output_type": "execute_result"
    }
   ],
   "source": [
    "# 폐지된 주소는 삭제하도록 필터링\n",
    "df = df[df.폐지여부 == '존재']\n",
    "df"
   ]
  },
  {
   "cell_type": "code",
   "execution_count": null,
   "metadata": {},
   "outputs": [
    {
     "data": {
      "text/plain": [
       "(20551, 3)"
      ]
     },
     "execution_count": 17,
     "metadata": {},
     "output_type": "execute_result"
    }
   ],
   "source": [
    "df.shape"
   ]
  },
  {
   "attachments": {},
   "cell_type": "markdown",
   "metadata": {},
   "source": [
    "- 문자열 인덱싱"
   ]
  },
  {
   "cell_type": "code",
   "execution_count": null,
   "metadata": {},
   "outputs": [
    {
     "data": {
      "text/plain": [
       "0    서울특별시\n",
       "1    서울특별시\n",
       "2    서울특별시\n",
       "3    서울특별시\n",
       "4    서울특별시\n",
       "Name: 법정동명, dtype: object"
      ]
     },
     "execution_count": 18,
     "metadata": {},
     "output_type": "execute_result"
    }
   ],
   "source": [
    "df.법정동명.str[:5].head()  # 스트링으로 앞에서 다섯개만 끄집어낸것임"
   ]
  },
  {
   "cell_type": "code",
   "execution_count": null,
   "metadata": {},
   "outputs": [
    {
     "data": {
      "text/html": [
       "<div>\n",
       "<style scoped>\n",
       "    .dataframe tbody tr th:only-of-type {\n",
       "        vertical-align: middle;\n",
       "    }\n",
       "\n",
       "    .dataframe tbody tr th {\n",
       "        vertical-align: top;\n",
       "    }\n",
       "\n",
       "    .dataframe thead th {\n",
       "        text-align: right;\n",
       "    }\n",
       "</style>\n",
       "<table border=\"1\" class=\"dataframe\">\n",
       "  <thead>\n",
       "    <tr style=\"text-align: right;\">\n",
       "      <th></th>\n",
       "      <th>법정동코드</th>\n",
       "      <th>법정동명</th>\n",
       "      <th>폐지여부</th>\n",
       "    </tr>\n",
       "  </thead>\n",
       "  <tbody>\n",
       "    <tr>\n",
       "      <th>0</th>\n",
       "      <td>1100000000</td>\n",
       "      <td>서울특별시</td>\n",
       "      <td>존재</td>\n",
       "    </tr>\n",
       "    <tr>\n",
       "      <th>1</th>\n",
       "      <td>1111000000</td>\n",
       "      <td>서울특별시 종로구</td>\n",
       "      <td>존재</td>\n",
       "    </tr>\n",
       "    <tr>\n",
       "      <th>2</th>\n",
       "      <td>1111010100</td>\n",
       "      <td>서울특별시 종로구 청운동</td>\n",
       "      <td>존재</td>\n",
       "    </tr>\n",
       "    <tr>\n",
       "      <th>3</th>\n",
       "      <td>1111010200</td>\n",
       "      <td>서울특별시 종로구 신교동</td>\n",
       "      <td>존재</td>\n",
       "    </tr>\n",
       "    <tr>\n",
       "      <th>4</th>\n",
       "      <td>1111010300</td>\n",
       "      <td>서울특별시 종로구 궁정동</td>\n",
       "      <td>존재</td>\n",
       "    </tr>\n",
       "  </tbody>\n",
       "</table>\n",
       "</div>"
      ],
      "text/plain": [
       "        법정동코드           법정동명 폐지여부\n",
       "0  1100000000          서울특별시   존재\n",
       "1  1111000000      서울특별시 종로구   존재\n",
       "2  1111010100  서울특별시 종로구 청운동   존재\n",
       "3  1111010200  서울특별시 종로구 신교동   존재\n",
       "4  1111010300  서울특별시 종로구 궁정동   존재"
      ]
     },
     "execution_count": 19,
     "metadata": {},
     "output_type": "execute_result"
    }
   ],
   "source": [
    "df.head()"
   ]
  },
  {
   "attachments": {},
   "cell_type": "markdown",
   "metadata": {},
   "source": [
    "- 찾기: find, contains"
   ]
  },
  {
   "cell_type": "code",
   "execution_count": null,
   "metadata": {},
   "outputs": [
    {
     "data": {
      "text/plain": [
       "0    0\n",
       "1    0\n",
       "2    0\n",
       "3    0\n",
       "4    0\n",
       "Name: 법정동명, dtype: int64"
      ]
     },
     "execution_count": 20,
     "metadata": {},
     "output_type": "execute_result"
    }
   ],
   "source": [
    "df.법정동명.str.find('서울').head() # 스트링 0번째부터(index번호) 서울이라는 단어가 있다는 의미"
   ]
  },
  {
   "cell_type": "code",
   "execution_count": null,
   "metadata": {},
   "outputs": [
    {
     "data": {
      "text/plain": [
       "0   -1\n",
       "1    6\n",
       "2    6\n",
       "3    6\n",
       "4    6\n",
       "Name: 법정동명, dtype: int64"
      ]
     },
     "execution_count": 21,
     "metadata": {},
     "output_type": "execute_result"
    }
   ],
   "source": [
    "df.법정동명.str.find('종로구').head()# 스트링 -1은 없다는것 6번째부터 (index번호) 종로구이라는 단어가 있다는 의미\n",
    "# 0보다크면 내가 찾는글자가 있다 /0보자 작은 -1 이 나오면 없다"
   ]
  },
  {
   "cell_type": "code",
   "execution_count": null,
   "metadata": {},
   "outputs": [
    {
     "data": {
      "text/plain": [
       "0    False\n",
       "1     True\n",
       "2     True\n",
       "3     True\n",
       "4     True\n",
       "Name: 법정동명, dtype: bool"
      ]
     },
     "execution_count": 24,
     "metadata": {},
     "output_type": "execute_result"
    }
   ],
   "source": [
    "df.법정동명.str.contains('종로구').head()\n",
    "# True,False로 찾는 글자가 있는지 알려줌"
   ]
  },
  {
   "cell_type": "code",
   "execution_count": null,
   "metadata": {},
   "outputs": [
    {
     "data": {
      "text/html": [
       "<div>\n",
       "<style scoped>\n",
       "    .dataframe tbody tr th:only-of-type {\n",
       "        vertical-align: middle;\n",
       "    }\n",
       "\n",
       "    .dataframe tbody tr th {\n",
       "        vertical-align: top;\n",
       "    }\n",
       "\n",
       "    .dataframe thead th {\n",
       "        text-align: right;\n",
       "    }\n",
       "</style>\n",
       "<table border=\"1\" class=\"dataframe\">\n",
       "  <thead>\n",
       "    <tr style=\"text-align: right;\">\n",
       "      <th></th>\n",
       "      <th>법정동코드</th>\n",
       "      <th>법정동명</th>\n",
       "      <th>폐지여부</th>\n",
       "    </tr>\n",
       "  </thead>\n",
       "  <tbody>\n",
       "    <tr>\n",
       "      <th>0</th>\n",
       "      <td>1100000000</td>\n",
       "      <td>서울특별시</td>\n",
       "      <td>존재</td>\n",
       "    </tr>\n",
       "    <tr>\n",
       "      <th>1</th>\n",
       "      <td>1111000000</td>\n",
       "      <td>서울특별시 종로구</td>\n",
       "      <td>존재</td>\n",
       "    </tr>\n",
       "    <tr>\n",
       "      <th>2</th>\n",
       "      <td>1111010100</td>\n",
       "      <td>서울특별시 종로구 청운동</td>\n",
       "      <td>존재</td>\n",
       "    </tr>\n",
       "    <tr>\n",
       "      <th>3</th>\n",
       "      <td>1111010200</td>\n",
       "      <td>서울특별시 종로구 신교동</td>\n",
       "      <td>존재</td>\n",
       "    </tr>\n",
       "    <tr>\n",
       "      <th>4</th>\n",
       "      <td>1111010300</td>\n",
       "      <td>서울특별시 종로구 궁정동</td>\n",
       "      <td>존재</td>\n",
       "    </tr>\n",
       "    <tr>\n",
       "      <th>...</th>\n",
       "      <td>...</td>\n",
       "      <td>...</td>\n",
       "      <td>...</td>\n",
       "    </tr>\n",
       "    <tr>\n",
       "      <th>46323</th>\n",
       "      <td>5013032022</td>\n",
       "      <td>제주특별자치도 서귀포시 표선면 하천리</td>\n",
       "      <td>존재</td>\n",
       "    </tr>\n",
       "    <tr>\n",
       "      <th>46324</th>\n",
       "      <td>5013032023</td>\n",
       "      <td>제주특별자치도 서귀포시 표선면 성읍리</td>\n",
       "      <td>존재</td>\n",
       "    </tr>\n",
       "    <tr>\n",
       "      <th>46325</th>\n",
       "      <td>5013032024</td>\n",
       "      <td>제주특별자치도 서귀포시 표선면 가시리</td>\n",
       "      <td>존재</td>\n",
       "    </tr>\n",
       "    <tr>\n",
       "      <th>46326</th>\n",
       "      <td>5013032025</td>\n",
       "      <td>제주특별자치도 서귀포시 표선면 세화리</td>\n",
       "      <td>존재</td>\n",
       "    </tr>\n",
       "    <tr>\n",
       "      <th>46327</th>\n",
       "      <td>5013032026</td>\n",
       "      <td>제주특별자치도 서귀포시 표선면 토산리</td>\n",
       "      <td>존재</td>\n",
       "    </tr>\n",
       "  </tbody>\n",
       "</table>\n",
       "<p>20551 rows × 3 columns</p>\n",
       "</div>"
      ],
      "text/plain": [
       "            법정동코드                  법정동명 폐지여부\n",
       "0      1100000000                 서울특별시   존재\n",
       "1      1111000000             서울특별시 종로구   존재\n",
       "2      1111010100         서울특별시 종로구 청운동   존재\n",
       "3      1111010200         서울특별시 종로구 신교동   존재\n",
       "4      1111010300         서울특별시 종로구 궁정동   존재\n",
       "...           ...                   ...  ...\n",
       "46323  5013032022  제주특별자치도 서귀포시 표선면 하천리   존재\n",
       "46324  5013032023  제주특별자치도 서귀포시 표선면 성읍리   존재\n",
       "46325  5013032024  제주특별자치도 서귀포시 표선면 가시리   존재\n",
       "46326  5013032025  제주특별자치도 서귀포시 표선면 세화리   존재\n",
       "46327  5013032026  제주특별자치도 서귀포시 표선면 토산리   존재\n",
       "\n",
       "[20551 rows x 3 columns]"
      ]
     },
     "execution_count": 27,
     "metadata": {},
     "output_type": "execute_result"
    }
   ],
   "source": [
    "df"
   ]
  },
  {
   "cell_type": "code",
   "execution_count": null,
   "metadata": {},
   "outputs": [
    {
     "name": "stdout",
     "output_type": "stream",
     "text": [
      "(2211, 3)\n"
     ]
    },
    {
     "data": {
      "text/html": [
       "<div>\n",
       "<style scoped>\n",
       "    .dataframe tbody tr th:only-of-type {\n",
       "        vertical-align: middle;\n",
       "    }\n",
       "\n",
       "    .dataframe tbody tr th {\n",
       "        vertical-align: top;\n",
       "    }\n",
       "\n",
       "    .dataframe thead th {\n",
       "        text-align: right;\n",
       "    }\n",
       "</style>\n",
       "<table border=\"1\" class=\"dataframe\">\n",
       "  <thead>\n",
       "    <tr style=\"text-align: right;\">\n",
       "      <th></th>\n",
       "      <th>법정동코드</th>\n",
       "      <th>법정동명</th>\n",
       "      <th>폐지여부</th>\n",
       "    </tr>\n",
       "  </thead>\n",
       "  <tbody>\n",
       "    <tr>\n",
       "      <th>4470</th>\n",
       "      <td>4100000000</td>\n",
       "      <td>경기도</td>\n",
       "      <td>존재</td>\n",
       "    </tr>\n",
       "    <tr>\n",
       "      <th>4819</th>\n",
       "      <td>4111000000</td>\n",
       "      <td>경기도 수원시</td>\n",
       "      <td>존재</td>\n",
       "    </tr>\n",
       "    <tr>\n",
       "      <th>4884</th>\n",
       "      <td>4111100000</td>\n",
       "      <td>경기도 수원시 장안구</td>\n",
       "      <td>존재</td>\n",
       "    </tr>\n",
       "    <tr>\n",
       "      <th>4913</th>\n",
       "      <td>4111112900</td>\n",
       "      <td>경기도 수원시 장안구 파장동</td>\n",
       "      <td>존재</td>\n",
       "    </tr>\n",
       "    <tr>\n",
       "      <th>4914</th>\n",
       "      <td>4111113000</td>\n",
       "      <td>경기도 수원시 장안구 정자동</td>\n",
       "      <td>존재</td>\n",
       "    </tr>\n",
       "  </tbody>\n",
       "</table>\n",
       "</div>"
      ],
      "text/plain": [
       "           법정동코드             법정동명 폐지여부\n",
       "4470  4100000000              경기도   존재\n",
       "4819  4111000000          경기도 수원시   존재\n",
       "4884  4111100000      경기도 수원시 장안구   존재\n",
       "4913  4111112900  경기도 수원시 장안구 파장동   존재\n",
       "4914  4111113000  경기도 수원시 장안구 정자동   존재"
      ]
     },
     "execution_count": 35,
     "metadata": {},
     "output_type": "execute_result"
    }
   ],
   "source": [
    "# 법정동에서 경기도만 추출\n",
    "df1 = df[df.법정동명.str.contains('경기도')] # contains으로 true 또는 flase를 줘서 하면된다는데\n",
    "print(df1.shape)\n",
    "df1.head()"
   ]
  },
  {
   "cell_type": "code",
   "execution_count": null,
   "metadata": {},
   "outputs": [
    {
     "data": {
      "text/plain": [
       "0        False\n",
       "1        False\n",
       "2        False\n",
       "3        False\n",
       "4        False\n",
       "         ...  \n",
       "46323    False\n",
       "46324    False\n",
       "46325    False\n",
       "46326    False\n",
       "46327    False\n",
       "Name: 법정동명, Length: 20551, dtype: bool"
      ]
     },
     "execution_count": 26,
     "metadata": {},
     "output_type": "execute_result"
    }
   ],
   "source": [
    "df1 = df.법정동명.str.contains('경기도')\n",
    "폐지여부는 폐지 , 존재 두개가 ture false였고\n",
    "여기서는 경기도가 있는게 true이고 아닌게 false라는?"
   ]
  },
  {
   "cell_type": "code",
   "execution_count": null,
   "metadata": {},
   "outputs": [
    {
     "name": "stdout",
     "output_type": "stream",
     "text": [
      "(61, 3)\n"
     ]
    },
    {
     "data": {
      "text/html": [
       "<div>\n",
       "<style scoped>\n",
       "    .dataframe tbody tr th:only-of-type {\n",
       "        vertical-align: middle;\n",
       "    }\n",
       "\n",
       "    .dataframe tbody tr th {\n",
       "        vertical-align: top;\n",
       "    }\n",
       "\n",
       "    .dataframe thead th {\n",
       "        text-align: right;\n",
       "    }\n",
       "</style>\n",
       "<table border=\"1\" class=\"dataframe\">\n",
       "  <thead>\n",
       "    <tr style=\"text-align: right;\">\n",
       "      <th></th>\n",
       "      <th>법정동코드</th>\n",
       "      <th>법정동명</th>\n",
       "      <th>폐지여부</th>\n",
       "    </tr>\n",
       "  </thead>\n",
       "  <tbody>\n",
       "    <tr>\n",
       "      <th>4819</th>\n",
       "      <td>4111000000</td>\n",
       "      <td>경기도 수원시</td>\n",
       "      <td>존재</td>\n",
       "    </tr>\n",
       "    <tr>\n",
       "      <th>4884</th>\n",
       "      <td>4111100000</td>\n",
       "      <td>경기도 수원시 장안구</td>\n",
       "      <td>존재</td>\n",
       "    </tr>\n",
       "    <tr>\n",
       "      <th>4913</th>\n",
       "      <td>4111112900</td>\n",
       "      <td>경기도 수원시 장안구 파장동</td>\n",
       "      <td>존재</td>\n",
       "    </tr>\n",
       "    <tr>\n",
       "      <th>4914</th>\n",
       "      <td>4111113000</td>\n",
       "      <td>경기도 수원시 장안구 정자동</td>\n",
       "      <td>존재</td>\n",
       "    </tr>\n",
       "    <tr>\n",
       "      <th>4915</th>\n",
       "      <td>4111113100</td>\n",
       "      <td>경기도 수원시 장안구 이목동</td>\n",
       "      <td>존재</td>\n",
       "    </tr>\n",
       "  </tbody>\n",
       "</table>\n",
       "</div>"
      ],
      "text/plain": [
       "           법정동코드             법정동명 폐지여부\n",
       "4819  4111000000          경기도 수원시   존재\n",
       "4884  4111100000      경기도 수원시 장안구   존재\n",
       "4913  4111112900  경기도 수원시 장안구 파장동   존재\n",
       "4914  4111113000  경기도 수원시 장안구 정자동   존재\n",
       "4915  4111113100  경기도 수원시 장안구 이목동   존재"
      ]
     },
     "execution_count": 37,
     "metadata": {},
     "output_type": "execute_result"
    }
   ],
   "source": [
    "# 경기도만 추출한 data에서 수원시만 추출\n",
    "df2 = df1[df1.법정동명.str.contains('수원시')]\n",
    "print(df2.shape)\n",
    "df2.head()"
   ]
  },
  {
   "cell_type": "code",
   "execution_count": null,
   "metadata": {},
   "outputs": [
    {
     "data": {
      "text/plain": [
       "('경기도 수원시 장안구 파장동', '경기도 수원시 장안구 파장동')"
      ]
     },
     "execution_count": 38,
     "metadata": {},
     "output_type": "execute_result"
    }
   ],
   "source": [
    "# 파장동 인덱싱 방법 \n",
    "# df[열이름][행인덱스] 행인덱스이름이 4913인것임 df.iloc[행숫자, 열숫자]\n",
    "df2.법정동명[4913], df2.iloc[2,1]"
   ]
  },
  {
   "attachments": {},
   "cell_type": "markdown",
   "metadata": {},
   "source": [
    "- 분할: split"
   ]
  },
  {
   "cell_type": "code",
   "execution_count": null,
   "metadata": {},
   "outputs": [
    {
     "data": {
      "text/plain": [
       "4819              [경기도, 수원시]\n",
       "4884         [경기도, 수원시, 장안구]\n",
       "4913    [경기도, 수원시, 장안구, 파장동]\n",
       "4914    [경기도, 수원시, 장안구, 정자동]\n",
       "4915    [경기도, 수원시, 장안구, 이목동]\n",
       "Name: 법정동명, dtype: object"
      ]
     },
     "execution_count": 39,
     "metadata": {},
     "output_type": "execute_result"
    }
   ],
   "source": [
    "df2.법정동명.str.split().head()"
   ]
  },
  {
   "attachments": {},
   "cell_type": "markdown",
   "metadata": {},
   "source": [
    "- 대체: replace, 문자열의 replace method와는 달리 정규표현식 사용 가능\n",
    "\n",
    "    - \"regex\"는 \"Regular Expression\"의 줄임말입니다. 정규 표현식은 문자열에서 특정 패턴을 검색하거나 일치하는 문자열을 대체하거나 추출하는 데 사용되는 텍스트 처리 도구입니다. 정규 표현식은 텍스트 처리, 데이터 검증, 자연어 처리, 웹 스크래핑 등 다양한 분야에서 사용됩니다. 정규 표현식은 일반적으로 특정 문자나 문자열을 대체하거나 검색하는 데 사용되는 패턴 매칭을 지원합니다."
   ]
  },
  {
   "cell_type": "code",
   "execution_count": null,
   "metadata": {},
   "outputs": [
    {
     "data": {
      "text/plain": [
       "4819            경기도_수원시\n",
       "4884        경기도_수원시_장안구\n",
       "4913    경기도_수원시_장안구_파장동\n",
       "4914    경기도_수원시_장안구_정자동\n",
       "4915    경기도_수원시_장안구_이목동\n",
       "Name: 법정동명, dtype: object"
      ]
     },
     "execution_count": 40,
     "metadata": {},
     "output_type": "execute_result"
    }
   ],
   "source": [
    "df2.법정동명.str.replace(' ', '_').head() # 공백을 언더바로 바꿈"
   ]
  },
  {
   "cell_type": "code",
   "execution_count": null,
   "metadata": {},
   "outputs": [
    {
     "data": {
      "text/plain": [
       "4819            경기도    \n",
       "4884        경기도     장 구\n",
       "4913    경기도     장 구 파장동\n",
       "4914    경기도     장 구 정자동\n",
       "4915    경기도     장 구  목동\n",
       "Name: 법정동명, dtype: object"
      ]
     },
     "execution_count": 43,
     "metadata": {},
     "output_type": "execute_result"
    }
   ],
   "source": [
    "df2.법정동명.str.replace('[사-잏]', ' ',regex=True).head()  # 초성이 ㅅ,ㅇ인 데이터를 공백으로"
   ]
  },
  {
   "attachments": {},
   "cell_type": "markdown",
   "metadata": {},
   "source": [
    "- cctv 데이터"
   ]
  },
  {
   "cell_type": "code",
   "execution_count": null,
   "metadata": {},
   "outputs": [
    {
     "data": {
      "text/html": [
       "<div>\n",
       "<style scoped>\n",
       "    .dataframe tbody tr th:only-of-type {\n",
       "        vertical-align: middle;\n",
       "    }\n",
       "\n",
       "    .dataframe tbody tr th {\n",
       "        vertical-align: top;\n",
       "    }\n",
       "\n",
       "    .dataframe thead th {\n",
       "        text-align: right;\n",
       "    }\n",
       "</style>\n",
       "<table border=\"1\" class=\"dataframe\">\n",
       "  <thead>\n",
       "    <tr style=\"text-align: right;\">\n",
       "      <th></th>\n",
       "      <th>구분</th>\n",
       "      <th>총계</th>\n",
       "      <th>2013년 이전\\n설치된 CCTV</th>\n",
       "      <th>2013년</th>\n",
       "      <th>2014년</th>\n",
       "      <th>2015년</th>\n",
       "      <th>2016년</th>\n",
       "      <th>2017년</th>\n",
       "      <th>2018년</th>\n",
       "      <th>2019년</th>\n",
       "      <th>2020년</th>\n",
       "      <th>2021년</th>\n",
       "      <th>2022년</th>\n",
       "    </tr>\n",
       "  </thead>\n",
       "  <tbody>\n",
       "    <tr>\n",
       "      <th>0</th>\n",
       "      <td>계</td>\n",
       "      <td>91,341</td>\n",
       "      <td>2,804</td>\n",
       "      <td>3,097</td>\n",
       "      <td>3,981</td>\n",
       "      <td>6,576</td>\n",
       "      <td>8,850</td>\n",
       "      <td>11,566</td>\n",
       "      <td>11,024</td>\n",
       "      <td>13,151</td>\n",
       "      <td>11,912</td>\n",
       "      <td>9,144</td>\n",
       "      <td>9,236</td>\n",
       "    </tr>\n",
       "    <tr>\n",
       "      <th>1</th>\n",
       "      <td>종로구</td>\n",
       "      <td>1,980</td>\n",
       "      <td>36</td>\n",
       "      <td>540</td>\n",
       "      <td>107</td>\n",
       "      <td>161</td>\n",
       "      <td>131</td>\n",
       "      <td>158</td>\n",
       "      <td>152</td>\n",
       "      <td>69</td>\n",
       "      <td>250</td>\n",
       "      <td>85</td>\n",
       "      <td>291</td>\n",
       "    </tr>\n",
       "    <tr>\n",
       "      <th>2</th>\n",
       "      <td>중 구</td>\n",
       "      <td>2,584</td>\n",
       "      <td>130</td>\n",
       "      <td>87</td>\n",
       "      <td>77</td>\n",
       "      <td>236</td>\n",
       "      <td>240</td>\n",
       "      <td>372</td>\n",
       "      <td>386</td>\n",
       "      <td>155</td>\n",
       "      <td>361</td>\n",
       "      <td>403</td>\n",
       "      <td>137</td>\n",
       "    </tr>\n",
       "    <tr>\n",
       "      <th>3</th>\n",
       "      <td>용산구</td>\n",
       "      <td>2,847</td>\n",
       "      <td>44</td>\n",
       "      <td>50</td>\n",
       "      <td>68</td>\n",
       "      <td>83</td>\n",
       "      <td>295</td>\n",
       "      <td>491</td>\n",
       "      <td>115</td>\n",
       "      <td>322</td>\n",
       "      <td>623</td>\n",
       "      <td>422</td>\n",
       "      <td>334</td>\n",
       "    </tr>\n",
       "    <tr>\n",
       "      <th>4</th>\n",
       "      <td>성동구</td>\n",
       "      <td>4,047</td>\n",
       "      <td>58</td>\n",
       "      <td>99</td>\n",
       "      <td>110</td>\n",
       "      <td>366</td>\n",
       "      <td>279</td>\n",
       "      <td>945</td>\n",
       "      <td>459</td>\n",
       "      <td>647</td>\n",
       "      <td>485</td>\n",
       "      <td>367</td>\n",
       "      <td>232</td>\n",
       "    </tr>\n",
       "  </tbody>\n",
       "</table>\n",
       "</div>"
      ],
      "text/plain": [
       "    구분      총계 2013년 이전\\n설치된 CCTV  2013년  2014년  2015년  2016년   2017년   2018년   \n",
       "0    계  91,341              2,804  3,097  3,981  6,576  8,850  11,566  11,024  \\\n",
       "1  종로구   1,980                 36    540    107    161    131     158     152   \n",
       "2  중 구   2,584                130     87     77    236    240     372     386   \n",
       "3  용산구   2,847                 44     50     68     83    295     491     115   \n",
       "4  성동구   4,047                 58     99    110    366    279     945     459   \n",
       "\n",
       "    2019년   2020년  2021년  2022년  \n",
       "0  13,151  11,912  9,144  9,236  \n",
       "1      69     250     85    291  \n",
       "2     155     361    403    137  \n",
       "3     322     623    422    334  \n",
       "4     647     485    367    232  "
      ]
     },
     "execution_count": 60,
     "metadata": {},
     "output_type": "execute_result"
    }
   ],
   "source": [
    "filename = 'data/1서울시 자치구 년도별 CCTV 설치 현황_221231기준 (1).csv'\n",
    "cctv3 = pd.read_csv(filename, encoding='euc-kr')\n",
    "cctv3.head()"
   ]
  },
  {
   "cell_type": "code",
   "execution_count": null,
   "metadata": {},
   "outputs": [
    {
     "data": {
      "text/html": [
       "<div>\n",
       "<style scoped>\n",
       "    .dataframe tbody tr th:only-of-type {\n",
       "        vertical-align: middle;\n",
       "    }\n",
       "\n",
       "    .dataframe tbody tr th {\n",
       "        vertical-align: top;\n",
       "    }\n",
       "\n",
       "    .dataframe thead th {\n",
       "        text-align: right;\n",
       "    }\n",
       "</style>\n",
       "<table border=\"1\" class=\"dataframe\">\n",
       "  <thead>\n",
       "    <tr style=\"text-align: right;\">\n",
       "      <th></th>\n",
       "      <th>구분</th>\n",
       "      <th>총계</th>\n",
       "      <th>2013년 이전\\n설치된 CCTV</th>\n",
       "      <th>2013년</th>\n",
       "      <th>2014년</th>\n",
       "      <th>2015년</th>\n",
       "      <th>2016년</th>\n",
       "      <th>2017년</th>\n",
       "      <th>2018년</th>\n",
       "      <th>2019년</th>\n",
       "      <th>...</th>\n",
       "      <th>Unnamed: 16374</th>\n",
       "      <th>Unnamed: 16375</th>\n",
       "      <th>Unnamed: 16376</th>\n",
       "      <th>Unnamed: 16377</th>\n",
       "      <th>Unnamed: 16378</th>\n",
       "      <th>Unnamed: 16379</th>\n",
       "      <th>Unnamed: 16380</th>\n",
       "      <th>Unnamed: 16381</th>\n",
       "      <th>Unnamed: 16382</th>\n",
       "      <th>Unnamed: 16383</th>\n",
       "    </tr>\n",
       "  </thead>\n",
       "  <tbody>\n",
       "    <tr>\n",
       "      <th>0</th>\n",
       "      <td>계</td>\n",
       "      <td>91,341</td>\n",
       "      <td>2,804</td>\n",
       "      <td>3,097</td>\n",
       "      <td>3,981</td>\n",
       "      <td>6,576</td>\n",
       "      <td>8,850</td>\n",
       "      <td>11,566</td>\n",
       "      <td>11,024</td>\n",
       "      <td>13,151</td>\n",
       "      <td>...</td>\n",
       "      <td>NaN</td>\n",
       "      <td>NaN</td>\n",
       "      <td>NaN</td>\n",
       "      <td>NaN</td>\n",
       "      <td>NaN</td>\n",
       "      <td>NaN</td>\n",
       "      <td>NaN</td>\n",
       "      <td>NaN</td>\n",
       "      <td>NaN</td>\n",
       "      <td>NaN</td>\n",
       "    </tr>\n",
       "    <tr>\n",
       "      <th>1</th>\n",
       "      <td>종로구</td>\n",
       "      <td>1,980</td>\n",
       "      <td>36</td>\n",
       "      <td>540</td>\n",
       "      <td>107</td>\n",
       "      <td>161</td>\n",
       "      <td>131</td>\n",
       "      <td>158</td>\n",
       "      <td>152</td>\n",
       "      <td>69</td>\n",
       "      <td>...</td>\n",
       "      <td>NaN</td>\n",
       "      <td>NaN</td>\n",
       "      <td>NaN</td>\n",
       "      <td>NaN</td>\n",
       "      <td>NaN</td>\n",
       "      <td>NaN</td>\n",
       "      <td>NaN</td>\n",
       "      <td>NaN</td>\n",
       "      <td>NaN</td>\n",
       "      <td>NaN</td>\n",
       "    </tr>\n",
       "    <tr>\n",
       "      <th>2</th>\n",
       "      <td>중 구</td>\n",
       "      <td>2,584</td>\n",
       "      <td>130</td>\n",
       "      <td>87</td>\n",
       "      <td>77</td>\n",
       "      <td>236</td>\n",
       "      <td>240</td>\n",
       "      <td>372</td>\n",
       "      <td>386</td>\n",
       "      <td>155</td>\n",
       "      <td>...</td>\n",
       "      <td>NaN</td>\n",
       "      <td>NaN</td>\n",
       "      <td>NaN</td>\n",
       "      <td>NaN</td>\n",
       "      <td>NaN</td>\n",
       "      <td>NaN</td>\n",
       "      <td>NaN</td>\n",
       "      <td>NaN</td>\n",
       "      <td>NaN</td>\n",
       "      <td>NaN</td>\n",
       "    </tr>\n",
       "    <tr>\n",
       "      <th>3</th>\n",
       "      <td>용산구</td>\n",
       "      <td>2,847</td>\n",
       "      <td>44</td>\n",
       "      <td>50</td>\n",
       "      <td>68</td>\n",
       "      <td>83</td>\n",
       "      <td>295</td>\n",
       "      <td>491</td>\n",
       "      <td>115</td>\n",
       "      <td>322</td>\n",
       "      <td>...</td>\n",
       "      <td>NaN</td>\n",
       "      <td>NaN</td>\n",
       "      <td>NaN</td>\n",
       "      <td>NaN</td>\n",
       "      <td>NaN</td>\n",
       "      <td>NaN</td>\n",
       "      <td>NaN</td>\n",
       "      <td>NaN</td>\n",
       "      <td>NaN</td>\n",
       "      <td>NaN</td>\n",
       "    </tr>\n",
       "    <tr>\n",
       "      <th>4</th>\n",
       "      <td>성동구</td>\n",
       "      <td>4,047</td>\n",
       "      <td>58</td>\n",
       "      <td>99</td>\n",
       "      <td>110</td>\n",
       "      <td>366</td>\n",
       "      <td>279</td>\n",
       "      <td>945</td>\n",
       "      <td>459</td>\n",
       "      <td>647</td>\n",
       "      <td>...</td>\n",
       "      <td>NaN</td>\n",
       "      <td>NaN</td>\n",
       "      <td>NaN</td>\n",
       "      <td>NaN</td>\n",
       "      <td>NaN</td>\n",
       "      <td>NaN</td>\n",
       "      <td>NaN</td>\n",
       "      <td>NaN</td>\n",
       "      <td>NaN</td>\n",
       "      <td>NaN</td>\n",
       "    </tr>\n",
       "  </tbody>\n",
       "</table>\n",
       "<p>5 rows × 16384 columns</p>\n",
       "</div>"
      ],
      "text/plain": [
       "    구분      총계 2013년 이전\\n설치된 CCTV  2013년  2014년  2015년  2016년   2017년   2018년   \n",
       "0    계  91,341              2,804  3,097  3,981  6,576  8,850  11,566  11,024  \\\n",
       "1  종로구   1,980                 36    540    107    161    131     158     152   \n",
       "2  중 구   2,584                130     87     77    236    240     372     386   \n",
       "3  용산구   2,847                 44     50     68     83    295     491     115   \n",
       "4  성동구   4,047                 58     99    110    366    279     945     459   \n",
       "\n",
       "    2019년  ... Unnamed: 16374 Unnamed: 16375 Unnamed: 16376  Unnamed: 16377   \n",
       "0  13,151  ...            NaN            NaN            NaN             NaN  \\\n",
       "1      69  ...            NaN            NaN            NaN             NaN   \n",
       "2     155  ...            NaN            NaN            NaN             NaN   \n",
       "3     322  ...            NaN            NaN            NaN             NaN   \n",
       "4     647  ...            NaN            NaN            NaN             NaN   \n",
       "\n",
       "   Unnamed: 16378  Unnamed: 16379  Unnamed: 16380  Unnamed: 16381   \n",
       "0             NaN             NaN             NaN             NaN  \\\n",
       "1             NaN             NaN             NaN             NaN   \n",
       "2             NaN             NaN             NaN             NaN   \n",
       "3             NaN             NaN             NaN             NaN   \n",
       "4             NaN             NaN             NaN             NaN   \n",
       "\n",
       "   Unnamed: 16382  Unnamed: 16383  \n",
       "0             NaN             NaN  \n",
       "1             NaN             NaN  \n",
       "2             NaN             NaN  \n",
       "3             NaN             NaN  \n",
       "4             NaN             NaN  \n",
       "\n",
       "[5 rows x 16384 columns]"
      ]
     },
     "execution_count": 45,
     "metadata": {},
     "output_type": "execute_result"
    }
   ],
   "source": [
    "filename = 'data/서울시 자치구 년도별 CCTV 설치 현황_221231기준.csv'\n",
    "cctv = pd.read_csv(filename, encoding='euc-kr')\n",
    "cctv.head()"
   ]
  },
  {
   "cell_type": "code",
   "execution_count": null,
   "metadata": {},
   "outputs": [
    {
     "ename": "KeyError",
     "evalue": "\"['2013년 이전\\\\n설치된 CCTV'] not in index\"",
     "output_type": "error",
     "traceback": [
      "\u001b[1;31m---------------------------------------------------------------------------\u001b[0m",
      "\u001b[1;31mKeyError\u001b[0m                                  Traceback (most recent call last)",
      "Cell \u001b[1;32mIn[66], line 2\u001b[0m\n\u001b[0;32m      1\u001b[0m columns \u001b[39m=\u001b[39m [\u001b[39m'\u001b[39m\u001b[39m구분\u001b[39m\u001b[39m'\u001b[39m,\u001b[39m'\u001b[39m\u001b[39m총계\u001b[39m\u001b[39m'\u001b[39m,\u001b[39m\"\u001b[39m\u001b[39m2013년 이전\u001b[39m\u001b[39m\\n\u001b[39;00m\u001b[39m설치된 CCTV\u001b[39m\u001b[39m\"\u001b[39m,\u001b[39m'\u001b[39m\u001b[39m2013년\u001b[39m\u001b[39m'\u001b[39m,\u001b[39m'\u001b[39m\u001b[39m2014년\u001b[39m\u001b[39m'\u001b[39m,\u001b[39m'\u001b[39m\u001b[39m2015년\u001b[39m\u001b[39m'\u001b[39m,\u001b[39m'\u001b[39m\u001b[39m2016년\u001b[39m\u001b[39m'\u001b[39m,\u001b[39m'\u001b[39m\u001b[39m2017년\u001b[39m\u001b[39m'\u001b[39m,\u001b[39m'\u001b[39m\u001b[39m2018년\u001b[39m\u001b[39m'\u001b[39m,\u001b[39m'\u001b[39m\u001b[39m2019년\u001b[39m\u001b[39m'\u001b[39m,\u001b[39m'\u001b[39m\u001b[39m2020년\u001b[39m\u001b[39m'\u001b[39m,\u001b[39m'\u001b[39m\u001b[39m2021년\u001b[39m\u001b[39m'\u001b[39m,\u001b[39m'\u001b[39m\u001b[39m2022년\u001b[39m\u001b[39m'\u001b[39m]\n\u001b[1;32m----> 2\u001b[0m cctv \u001b[39m=\u001b[39m cctv[columns]\n\u001b[0;32m      3\u001b[0m cctv\u001b[39m.\u001b[39mhead()\n",
      "File \u001b[1;32mc:\\Users\\YONSAI\\anaconda3\\lib\\site-packages\\pandas\\core\\frame.py:3766\u001b[0m, in \u001b[0;36mDataFrame.__getitem__\u001b[1;34m(self, key)\u001b[0m\n\u001b[0;32m   3764\u001b[0m     \u001b[39mif\u001b[39;00m is_iterator(key):\n\u001b[0;32m   3765\u001b[0m         key \u001b[39m=\u001b[39m \u001b[39mlist\u001b[39m(key)\n\u001b[1;32m-> 3766\u001b[0m     indexer \u001b[39m=\u001b[39m \u001b[39mself\u001b[39;49m\u001b[39m.\u001b[39;49mcolumns\u001b[39m.\u001b[39;49m_get_indexer_strict(key, \u001b[39m\"\u001b[39;49m\u001b[39mcolumns\u001b[39;49m\u001b[39m\"\u001b[39;49m)[\u001b[39m1\u001b[39m]\n\u001b[0;32m   3768\u001b[0m \u001b[39m# take() does not accept boolean indexers\u001b[39;00m\n\u001b[0;32m   3769\u001b[0m \u001b[39mif\u001b[39;00m \u001b[39mgetattr\u001b[39m(indexer, \u001b[39m\"\u001b[39m\u001b[39mdtype\u001b[39m\u001b[39m\"\u001b[39m, \u001b[39mNone\u001b[39;00m) \u001b[39m==\u001b[39m \u001b[39mbool\u001b[39m:\n",
      "File \u001b[1;32mc:\\Users\\YONSAI\\anaconda3\\lib\\site-packages\\pandas\\core\\indexes\\base.py:5876\u001b[0m, in \u001b[0;36mIndex._get_indexer_strict\u001b[1;34m(self, key, axis_name)\u001b[0m\n\u001b[0;32m   5873\u001b[0m \u001b[39melse\u001b[39;00m:\n\u001b[0;32m   5874\u001b[0m     keyarr, indexer, new_indexer \u001b[39m=\u001b[39m \u001b[39mself\u001b[39m\u001b[39m.\u001b[39m_reindex_non_unique(keyarr)\n\u001b[1;32m-> 5876\u001b[0m \u001b[39mself\u001b[39;49m\u001b[39m.\u001b[39;49m_raise_if_missing(keyarr, indexer, axis_name)\n\u001b[0;32m   5878\u001b[0m keyarr \u001b[39m=\u001b[39m \u001b[39mself\u001b[39m\u001b[39m.\u001b[39mtake(indexer)\n\u001b[0;32m   5879\u001b[0m \u001b[39mif\u001b[39;00m \u001b[39misinstance\u001b[39m(key, Index):\n\u001b[0;32m   5880\u001b[0m     \u001b[39m# GH 42790 - Preserve name from an Index\u001b[39;00m\n",
      "File \u001b[1;32mc:\\Users\\YONSAI\\anaconda3\\lib\\site-packages\\pandas\\core\\indexes\\base.py:5938\u001b[0m, in \u001b[0;36mIndex._raise_if_missing\u001b[1;34m(self, key, indexer, axis_name)\u001b[0m\n\u001b[0;32m   5935\u001b[0m     \u001b[39mraise\u001b[39;00m \u001b[39mKeyError\u001b[39;00m(\u001b[39mf\u001b[39m\u001b[39m\"\u001b[39m\u001b[39mNone of [\u001b[39m\u001b[39m{\u001b[39;00mkey\u001b[39m}\u001b[39;00m\u001b[39m] are in the [\u001b[39m\u001b[39m{\u001b[39;00maxis_name\u001b[39m}\u001b[39;00m\u001b[39m]\u001b[39m\u001b[39m\"\u001b[39m)\n\u001b[0;32m   5937\u001b[0m not_found \u001b[39m=\u001b[39m \u001b[39mlist\u001b[39m(ensure_index(key)[missing_mask\u001b[39m.\u001b[39mnonzero()[\u001b[39m0\u001b[39m]]\u001b[39m.\u001b[39munique())\n\u001b[1;32m-> 5938\u001b[0m \u001b[39mraise\u001b[39;00m \u001b[39mKeyError\u001b[39;00m(\u001b[39mf\u001b[39m\u001b[39m\"\u001b[39m\u001b[39m{\u001b[39;00mnot_found\u001b[39m}\u001b[39;00m\u001b[39m not in index\u001b[39m\u001b[39m\"\u001b[39m)\n",
      "\u001b[1;31mKeyError\u001b[0m: \"['2013년 이전\\\\n설치된 CCTV'] not in index\""
     ]
    }
   ],
   "source": [
    "columns = ['구분','총계',\"2013년 이전\\n설치된 CCTV\",'2013년','2014년','2015년','2016년','2017년','2018년','2019년','2020년','2021년','2022년']\n",
    "cctv = cctv[columns]\n",
    "cctv.head()"
   ]
  },
  {
   "cell_type": "code",
   "execution_count": null,
   "metadata": {},
   "outputs": [
    {
     "data": {
      "text/html": [
       "<div>\n",
       "<style scoped>\n",
       "    .dataframe tbody tr th:only-of-type {\n",
       "        vertical-align: middle;\n",
       "    }\n",
       "\n",
       "    .dataframe tbody tr th {\n",
       "        vertical-align: top;\n",
       "    }\n",
       "\n",
       "    .dataframe thead th {\n",
       "        text-align: right;\n",
       "    }\n",
       "</style>\n",
       "<table border=\"1\" class=\"dataframe\">\n",
       "  <thead>\n",
       "    <tr style=\"text-align: right;\">\n",
       "      <th></th>\n",
       "      <th>구분</th>\n",
       "      <th>총계</th>\n",
       "      <th>2013년</th>\n",
       "      <th>2014년</th>\n",
       "      <th>2015년</th>\n",
       "      <th>2016년</th>\n",
       "      <th>2017년</th>\n",
       "      <th>2018년</th>\n",
       "      <th>2019년</th>\n",
       "      <th>2020년</th>\n",
       "      <th>2021년</th>\n",
       "      <th>2022년</th>\n",
       "    </tr>\n",
       "  </thead>\n",
       "  <tbody>\n",
       "    <tr>\n",
       "      <th>0</th>\n",
       "      <td>계</td>\n",
       "      <td>91,341</td>\n",
       "      <td>3,097</td>\n",
       "      <td>3,981</td>\n",
       "      <td>6,576</td>\n",
       "      <td>8,850</td>\n",
       "      <td>11,566</td>\n",
       "      <td>11,024</td>\n",
       "      <td>13,151</td>\n",
       "      <td>11,912</td>\n",
       "      <td>9,144</td>\n",
       "      <td>9,236</td>\n",
       "    </tr>\n",
       "    <tr>\n",
       "      <th>1</th>\n",
       "      <td>종로구</td>\n",
       "      <td>1,980</td>\n",
       "      <td>540</td>\n",
       "      <td>107</td>\n",
       "      <td>161</td>\n",
       "      <td>131</td>\n",
       "      <td>158</td>\n",
       "      <td>152</td>\n",
       "      <td>69</td>\n",
       "      <td>250</td>\n",
       "      <td>85</td>\n",
       "      <td>291</td>\n",
       "    </tr>\n",
       "    <tr>\n",
       "      <th>2</th>\n",
       "      <td>중 구</td>\n",
       "      <td>2,584</td>\n",
       "      <td>87</td>\n",
       "      <td>77</td>\n",
       "      <td>236</td>\n",
       "      <td>240</td>\n",
       "      <td>372</td>\n",
       "      <td>386</td>\n",
       "      <td>155</td>\n",
       "      <td>361</td>\n",
       "      <td>403</td>\n",
       "      <td>137</td>\n",
       "    </tr>\n",
       "    <tr>\n",
       "      <th>3</th>\n",
       "      <td>용산구</td>\n",
       "      <td>2,847</td>\n",
       "      <td>50</td>\n",
       "      <td>68</td>\n",
       "      <td>83</td>\n",
       "      <td>295</td>\n",
       "      <td>491</td>\n",
       "      <td>115</td>\n",
       "      <td>322</td>\n",
       "      <td>623</td>\n",
       "      <td>422</td>\n",
       "      <td>334</td>\n",
       "    </tr>\n",
       "    <tr>\n",
       "      <th>4</th>\n",
       "      <td>성동구</td>\n",
       "      <td>4,047</td>\n",
       "      <td>99</td>\n",
       "      <td>110</td>\n",
       "      <td>366</td>\n",
       "      <td>279</td>\n",
       "      <td>945</td>\n",
       "      <td>459</td>\n",
       "      <td>647</td>\n",
       "      <td>485</td>\n",
       "      <td>367</td>\n",
       "      <td>232</td>\n",
       "    </tr>\n",
       "  </tbody>\n",
       "</table>\n",
       "</div>"
      ],
      "text/plain": [
       "    구분      총계  2013년  2014년  2015년  2016년   2017년   2018년   2019년   2020년   \n",
       "0    계  91,341  3,097  3,981  6,576  8,850  11,566  11,024  13,151  11,912  \\\n",
       "1  종로구   1,980    540    107    161    131     158     152      69     250   \n",
       "2  중 구   2,584     87     77    236    240     372     386     155     361   \n",
       "3  용산구   2,847     50     68     83    295     491     115     322     623   \n",
       "4  성동구   4,047     99    110    366    279     945     459     647     485   \n",
       "\n",
       "   2021년  2022년  \n",
       "0  9,144  9,236  \n",
       "1     85    291  \n",
       "2    403    137  \n",
       "3    422    334  \n",
       "4    367    232  "
      ]
     },
     "execution_count": 56,
     "metadata": {},
     "output_type": "execute_result"
    }
   ],
   "source": [
    "columns = '구분,총계,2013년,2014년,2015년,2016년,2017년,2018년,2019년,2020년,2021년,2022년'.split(',')\n",
    "cctv = cctv[columns]\n",
    "cctv.head()"
   ]
  },
  {
   "cell_type": "code",
   "execution_count": null,
   "metadata": {},
   "outputs": [
    {
     "data": {
      "text/html": [
       "<div>\n",
       "<style scoped>\n",
       "    .dataframe tbody tr th:only-of-type {\n",
       "        vertical-align: middle;\n",
       "    }\n",
       "\n",
       "    .dataframe tbody tr th {\n",
       "        vertical-align: top;\n",
       "    }\n",
       "\n",
       "    .dataframe thead th {\n",
       "        text-align: right;\n",
       "    }\n",
       "</style>\n",
       "<table border=\"1\" class=\"dataframe\">\n",
       "  <thead>\n",
       "    <tr style=\"text-align: right;\">\n",
       "      <th></th>\n",
       "      <th>구분</th>\n",
       "      <th>총계</th>\n",
       "      <th>2013년</th>\n",
       "      <th>2014년</th>\n",
       "      <th>2015년</th>\n",
       "      <th>2016년</th>\n",
       "      <th>2017년</th>\n",
       "      <th>2018년</th>\n",
       "      <th>2019년</th>\n",
       "      <th>2020년</th>\n",
       "      <th>2021년</th>\n",
       "      <th>2022년</th>\n",
       "    </tr>\n",
       "  </thead>\n",
       "  <tbody>\n",
       "    <tr>\n",
       "      <th>0</th>\n",
       "      <td>계</td>\n",
       "      <td>91341</td>\n",
       "      <td>3,097</td>\n",
       "      <td>3,981</td>\n",
       "      <td>6,576</td>\n",
       "      <td>8,850</td>\n",
       "      <td>11,566</td>\n",
       "      <td>11,024</td>\n",
       "      <td>13,151</td>\n",
       "      <td>11,912</td>\n",
       "      <td>9,144</td>\n",
       "      <td>9,236</td>\n",
       "    </tr>\n",
       "    <tr>\n",
       "      <th>1</th>\n",
       "      <td>종로구</td>\n",
       "      <td>1980</td>\n",
       "      <td>540</td>\n",
       "      <td>107</td>\n",
       "      <td>161</td>\n",
       "      <td>131</td>\n",
       "      <td>158</td>\n",
       "      <td>152</td>\n",
       "      <td>69</td>\n",
       "      <td>250</td>\n",
       "      <td>85</td>\n",
       "      <td>291</td>\n",
       "    </tr>\n",
       "    <tr>\n",
       "      <th>2</th>\n",
       "      <td>중 구</td>\n",
       "      <td>2584</td>\n",
       "      <td>87</td>\n",
       "      <td>77</td>\n",
       "      <td>236</td>\n",
       "      <td>240</td>\n",
       "      <td>372</td>\n",
       "      <td>386</td>\n",
       "      <td>155</td>\n",
       "      <td>361</td>\n",
       "      <td>403</td>\n",
       "      <td>137</td>\n",
       "    </tr>\n",
       "    <tr>\n",
       "      <th>3</th>\n",
       "      <td>용산구</td>\n",
       "      <td>2847</td>\n",
       "      <td>50</td>\n",
       "      <td>68</td>\n",
       "      <td>83</td>\n",
       "      <td>295</td>\n",
       "      <td>491</td>\n",
       "      <td>115</td>\n",
       "      <td>322</td>\n",
       "      <td>623</td>\n",
       "      <td>422</td>\n",
       "      <td>334</td>\n",
       "    </tr>\n",
       "    <tr>\n",
       "      <th>4</th>\n",
       "      <td>성동구</td>\n",
       "      <td>4047</td>\n",
       "      <td>99</td>\n",
       "      <td>110</td>\n",
       "      <td>366</td>\n",
       "      <td>279</td>\n",
       "      <td>945</td>\n",
       "      <td>459</td>\n",
       "      <td>647</td>\n",
       "      <td>485</td>\n",
       "      <td>367</td>\n",
       "      <td>232</td>\n",
       "    </tr>\n",
       "  </tbody>\n",
       "</table>\n",
       "</div>"
      ],
      "text/plain": [
       "    구분     총계  2013년  2014년  2015년  2016년   2017년   2018년   2019년   2020년   \n",
       "0    계  91341  3,097  3,981  6,576  8,850  11,566  11,024  13,151  11,912  \\\n",
       "1  종로구   1980    540    107    161    131     158     152      69     250   \n",
       "2  중 구   2584     87     77    236    240     372     386     155     361   \n",
       "3  용산구   2847     50     68     83    295     491     115     322     623   \n",
       "4  성동구   4047     99    110    366    279     945     459     647     485   \n",
       "\n",
       "   2021년  2022년  \n",
       "0  9,144  9,236  \n",
       "1     85    291  \n",
       "2    403    137  \n",
       "3    422    334  \n",
       "4    367    232  "
      ]
     },
     "execution_count": 61,
     "metadata": {},
     "output_type": "execute_result"
    }
   ],
   "source": [
    "# 총계 데이터를 정수로 변환\n",
    "cctv['총계'] = cctv.총계.str.replace(',','').astype(int)\n",
    "cctv.head()"
   ]
  },
  {
   "cell_type": "code",
   "execution_count": null,
   "metadata": {},
   "outputs": [
    {
     "data": {
      "text/html": [
       "<div>\n",
       "<style scoped>\n",
       "    .dataframe tbody tr th:only-of-type {\n",
       "        vertical-align: middle;\n",
       "    }\n",
       "\n",
       "    .dataframe tbody tr th {\n",
       "        vertical-align: top;\n",
       "    }\n",
       "\n",
       "    .dataframe thead th {\n",
       "        text-align: right;\n",
       "    }\n",
       "</style>\n",
       "<table border=\"1\" class=\"dataframe\">\n",
       "  <thead>\n",
       "    <tr style=\"text-align: right;\">\n",
       "      <th></th>\n",
       "      <th>구분</th>\n",
       "      <th>총계</th>\n",
       "      <th>2013년</th>\n",
       "      <th>2014년</th>\n",
       "      <th>2015년</th>\n",
       "      <th>2016년</th>\n",
       "      <th>2017년</th>\n",
       "      <th>2018년</th>\n",
       "      <th>2019년</th>\n",
       "      <th>2020년</th>\n",
       "      <th>2021년</th>\n",
       "      <th>2022년</th>\n",
       "    </tr>\n",
       "  </thead>\n",
       "  <tbody>\n",
       "    <tr>\n",
       "      <th>0</th>\n",
       "      <td>계</td>\n",
       "      <td>91341</td>\n",
       "      <td>3,097</td>\n",
       "      <td>3,981</td>\n",
       "      <td>6,576</td>\n",
       "      <td>8,850</td>\n",
       "      <td>11,566</td>\n",
       "      <td>11,024</td>\n",
       "      <td>13,151</td>\n",
       "      <td>11,912</td>\n",
       "      <td>9,144</td>\n",
       "      <td>9,236</td>\n",
       "    </tr>\n",
       "    <tr>\n",
       "      <th>1</th>\n",
       "      <td>종로구</td>\n",
       "      <td>1980</td>\n",
       "      <td>540</td>\n",
       "      <td>107</td>\n",
       "      <td>161</td>\n",
       "      <td>131</td>\n",
       "      <td>158</td>\n",
       "      <td>152</td>\n",
       "      <td>69</td>\n",
       "      <td>250</td>\n",
       "      <td>85</td>\n",
       "      <td>291</td>\n",
       "    </tr>\n",
       "    <tr>\n",
       "      <th>2</th>\n",
       "      <td>중 구</td>\n",
       "      <td>2584</td>\n",
       "      <td>87</td>\n",
       "      <td>77</td>\n",
       "      <td>236</td>\n",
       "      <td>240</td>\n",
       "      <td>372</td>\n",
       "      <td>386</td>\n",
       "      <td>155</td>\n",
       "      <td>361</td>\n",
       "      <td>403</td>\n",
       "      <td>137</td>\n",
       "    </tr>\n",
       "    <tr>\n",
       "      <th>3</th>\n",
       "      <td>용산구</td>\n",
       "      <td>2847</td>\n",
       "      <td>50</td>\n",
       "      <td>68</td>\n",
       "      <td>83</td>\n",
       "      <td>295</td>\n",
       "      <td>491</td>\n",
       "      <td>115</td>\n",
       "      <td>322</td>\n",
       "      <td>623</td>\n",
       "      <td>422</td>\n",
       "      <td>334</td>\n",
       "    </tr>\n",
       "    <tr>\n",
       "      <th>4</th>\n",
       "      <td>성동구</td>\n",
       "      <td>4047</td>\n",
       "      <td>99</td>\n",
       "      <td>110</td>\n",
       "      <td>366</td>\n",
       "      <td>279</td>\n",
       "      <td>945</td>\n",
       "      <td>459</td>\n",
       "      <td>647</td>\n",
       "      <td>485</td>\n",
       "      <td>367</td>\n",
       "      <td>232</td>\n",
       "    </tr>\n",
       "  </tbody>\n",
       "</table>\n",
       "</div>"
      ],
      "text/plain": [
       "    구분     총계  2013년  2014년  2015년  2016년   2017년   2018년   2019년   2020년   \n",
       "0    계  91341  3,097  3,981  6,576  8,850  11,566  11,024  13,151  11,912  \\\n",
       "1  종로구   1980    540    107    161    131     158     152      69     250   \n",
       "2  중 구   2584     87     77    236    240     372     386     155     361   \n",
       "3  용산구   2847     50     68     83    295     491     115     322     623   \n",
       "4  성동구   4047     99    110    366    279     945     459     647     485   \n",
       "\n",
       "   2021년  2022년  \n",
       "0  9,144  9,236  \n",
       "1     85    291  \n",
       "2    403    137  \n",
       "3    422    334  \n",
       "4    367    232  "
      ]
     },
     "execution_count": 62,
     "metadata": {},
     "output_type": "execute_result"
    }
   ],
   "source": [
    "cctv.head()"
   ]
  },
  {
   "cell_type": "code",
   "execution_count": null,
   "metadata": {},
   "outputs": [
    {
     "data": {
      "text/html": [
       "<div>\n",
       "<style scoped>\n",
       "    .dataframe tbody tr th:only-of-type {\n",
       "        vertical-align: middle;\n",
       "    }\n",
       "\n",
       "    .dataframe tbody tr th {\n",
       "        vertical-align: top;\n",
       "    }\n",
       "\n",
       "    .dataframe thead th {\n",
       "        text-align: right;\n",
       "    }\n",
       "</style>\n",
       "<table border=\"1\" class=\"dataframe\">\n",
       "  <thead>\n",
       "    <tr style=\"text-align: right;\">\n",
       "      <th></th>\n",
       "      <th>구분</th>\n",
       "      <th>총계</th>\n",
       "      <th>2013년</th>\n",
       "      <th>2014년</th>\n",
       "      <th>2015년</th>\n",
       "      <th>2016년</th>\n",
       "      <th>2017년</th>\n",
       "      <th>2018년</th>\n",
       "      <th>2019년</th>\n",
       "      <th>2020년</th>\n",
       "      <th>2021년</th>\n",
       "      <th>2022년</th>\n",
       "    </tr>\n",
       "  </thead>\n",
       "  <tbody>\n",
       "    <tr>\n",
       "      <th>0</th>\n",
       "      <td>계</td>\n",
       "      <td>91341</td>\n",
       "      <td>3097</td>\n",
       "      <td>3981</td>\n",
       "      <td>6576</td>\n",
       "      <td>8850</td>\n",
       "      <td>11566</td>\n",
       "      <td>11024</td>\n",
       "      <td>13151</td>\n",
       "      <td>11912</td>\n",
       "      <td>9144</td>\n",
       "      <td>9236</td>\n",
       "    </tr>\n",
       "    <tr>\n",
       "      <th>1</th>\n",
       "      <td>종로구</td>\n",
       "      <td>1980</td>\n",
       "      <td>540</td>\n",
       "      <td>107</td>\n",
       "      <td>161</td>\n",
       "      <td>131</td>\n",
       "      <td>158</td>\n",
       "      <td>152</td>\n",
       "      <td>69</td>\n",
       "      <td>250</td>\n",
       "      <td>85</td>\n",
       "      <td>291</td>\n",
       "    </tr>\n",
       "    <tr>\n",
       "      <th>2</th>\n",
       "      <td>중 구</td>\n",
       "      <td>2584</td>\n",
       "      <td>87</td>\n",
       "      <td>77</td>\n",
       "      <td>236</td>\n",
       "      <td>240</td>\n",
       "      <td>372</td>\n",
       "      <td>386</td>\n",
       "      <td>155</td>\n",
       "      <td>361</td>\n",
       "      <td>403</td>\n",
       "      <td>137</td>\n",
       "    </tr>\n",
       "    <tr>\n",
       "      <th>3</th>\n",
       "      <td>용산구</td>\n",
       "      <td>2847</td>\n",
       "      <td>50</td>\n",
       "      <td>68</td>\n",
       "      <td>83</td>\n",
       "      <td>295</td>\n",
       "      <td>491</td>\n",
       "      <td>115</td>\n",
       "      <td>322</td>\n",
       "      <td>623</td>\n",
       "      <td>422</td>\n",
       "      <td>334</td>\n",
       "    </tr>\n",
       "    <tr>\n",
       "      <th>4</th>\n",
       "      <td>성동구</td>\n",
       "      <td>4047</td>\n",
       "      <td>99</td>\n",
       "      <td>110</td>\n",
       "      <td>366</td>\n",
       "      <td>279</td>\n",
       "      <td>945</td>\n",
       "      <td>459</td>\n",
       "      <td>647</td>\n",
       "      <td>485</td>\n",
       "      <td>367</td>\n",
       "      <td>232</td>\n",
       "    </tr>\n",
       "  </tbody>\n",
       "</table>\n",
       "</div>"
      ],
      "text/plain": [
       "    구분     총계  2013년  2014년  2015년  2016년  2017년  2018년  2019년  2020년  2021년   \n",
       "0    계  91341   3097   3981   6576   8850  11566  11024  13151  11912   9144  \\\n",
       "1  종로구   1980    540    107    161    131    158    152     69    250     85   \n",
       "2  중 구   2584     87     77    236    240    372    386    155    361    403   \n",
       "3  용산구   2847     50     68     83    295    491    115    322    623    422   \n",
       "4  성동구   4047     99    110    366    279    945    459    647    485    367   \n",
       "\n",
       "   2022년  \n",
       "0   9236  \n",
       "1    291  \n",
       "2    137  \n",
       "3    334  \n",
       "4    232  "
      ]
     },
     "execution_count": 63,
     "metadata": {},
     "output_type": "execute_result"
    }
   ],
   "source": [
    "# 나머지 칼럼도 천단위 구분기호 없애고 정수로 변환\n",
    "for col in columns[2:]:\n",
    "    cctv[col] = cctv[col].str.replace(',','').astype(int)\n",
    "cctv.head()"
   ]
  },
  {
   "cell_type": "code",
   "execution_count": null,
   "metadata": {},
   "outputs": [
    {
     "name": "stdout",
     "output_type": "stream",
     "text": [
      "계 1\n",
      "종로구 3\n",
      "중 구 3\n",
      "용산구 3\n",
      "성동구 3\n",
      "광진구 3\n",
      "동대문구 4\n",
      "중랑구 3\n",
      "성북구 3\n",
      "강북구 3\n",
      "도봉구 3\n",
      "노원구 3\n",
      "은평구 3\n",
      "서대문구 4\n",
      "마포구 3\n",
      "양천구 3\n",
      "강서구 3\n",
      "구로구 3\n",
      "금천구 3\n",
      "영등포구 4\n",
      "동작구 3\n",
      "관악구 3\n",
      "서초구 3\n",
      "강남구 3\n",
      "송파구 3\n",
      "강동구 3\n"
     ]
    }
   ],
   "source": [
    "for i in cctv.index:\n",
    "    print(cctv.구분[i], len(cctv.구분[i]))"
   ]
  }
 ],
 "metadata": {
  "kernelspec": {
   "display_name": "base",
   "language": "python",
   "name": "python3"
  },
  "language_info": {
   "codemirror_mode": {
    "name": "ipython",
    "version": 3
   },
   "file_extension": ".py",
   "mimetype": "text/x-python",
   "name": "python",
   "nbconvert_exporter": "python",
   "pygments_lexer": "ipython3",
   "version": "3.10.9"
  },
  "orig_nbformat": 4
 },
 "nbformat": 4,
 "nbformat_minor": 2
}
