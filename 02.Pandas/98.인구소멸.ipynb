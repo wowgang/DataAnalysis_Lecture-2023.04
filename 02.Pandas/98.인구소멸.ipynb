{
 "cells": [
  {
   "cell_type": "code",
   "execution_count": 1,
   "metadata": {},
   "outputs": [],
   "source": [
    "import numpy as np\n",
    "import pandas as pd"
   ]
  },
  {
   "cell_type": "code",
   "execution_count": null,
   "metadata": {},
   "outputs": [],
   "source": [
    "'''\n",
    "22.12. 기준\n",
    "인구소멸 위기지역 (기초자치단체(시,군) / 특례시(구):수원,고양,용인 행정구(구): 성남,안산,안양) top10\n",
    "가임기 여성인구(20-39) / 60세이상 노령인구\n",
    "'''"
   ]
  },
  {
   "cell_type": "code",
   "execution_count": 2,
   "metadata": {},
   "outputs": [
    {
     "data": {
      "text/html": [
       "<div>\n",
       "<style scoped>\n",
       "    .dataframe tbody tr th:only-of-type {\n",
       "        vertical-align: middle;\n",
       "    }\n",
       "\n",
       "    .dataframe tbody tr th {\n",
       "        vertical-align: top;\n",
       "    }\n",
       "\n",
       "    .dataframe thead th {\n",
       "        text-align: right;\n",
       "    }\n",
       "</style>\n",
       "<table border=\"1\" class=\"dataframe\">\n",
       "  <thead>\n",
       "    <tr style=\"text-align: right;\">\n",
       "      <th></th>\n",
       "      <th>연도</th>\n",
       "      <th>월</th>\n",
       "      <th>행정구역구분명</th>\n",
       "      <th>행정구역명</th>\n",
       "      <th>총 인구수</th>\n",
       "      <th>0~9세</th>\n",
       "      <th>10~19세</th>\n",
       "      <th>20~29세</th>\n",
       "      <th>30~39세</th>\n",
       "      <th>40~49세</th>\n",
       "      <th>...</th>\n",
       "      <th>10~19세 (여)</th>\n",
       "      <th>20~29세 (여)</th>\n",
       "      <th>30~39세 (여)</th>\n",
       "      <th>40~49세 (여)</th>\n",
       "      <th>50~59세 (여)</th>\n",
       "      <th>60~69세 (여)</th>\n",
       "      <th>70~79세 (여)</th>\n",
       "      <th>80~89세 (여)</th>\n",
       "      <th>90~99세 (여)</th>\n",
       "      <th>100세 이상 (여)</th>\n",
       "    </tr>\n",
       "  </thead>\n",
       "  <tbody>\n",
       "    <tr>\n",
       "      <th>0</th>\n",
       "      <td>2022</td>\n",
       "      <td>12</td>\n",
       "      <td>도</td>\n",
       "      <td>경기도</td>\n",
       "      <td>13589432</td>\n",
       "      <td>1040954</td>\n",
       "      <td>1327726</td>\n",
       "      <td>1737291</td>\n",
       "      <td>1882300</td>\n",
       "      <td>2284603</td>\n",
       "      <td>...</td>\n",
       "      <td>647283</td>\n",
       "      <td>821150</td>\n",
       "      <td>904073</td>\n",
       "      <td>1121889</td>\n",
       "      <td>1133428</td>\n",
       "      <td>878494</td>\n",
       "      <td>437251</td>\n",
       "      <td>252711</td>\n",
       "      <td>44184</td>\n",
       "      <td>1369</td>\n",
       "    </tr>\n",
       "    <tr>\n",
       "      <th>1</th>\n",
       "      <td>2022</td>\n",
       "      <td>12</td>\n",
       "      <td>시군</td>\n",
       "      <td>경기도 가평군</td>\n",
       "      <td>62197</td>\n",
       "      <td>2930</td>\n",
       "      <td>4463</td>\n",
       "      <td>5929</td>\n",
       "      <td>5397</td>\n",
       "      <td>7589</td>\n",
       "      <td>...</td>\n",
       "      <td>2186</td>\n",
       "      <td>2503</td>\n",
       "      <td>2433</td>\n",
       "      <td>3525</td>\n",
       "      <td>5090</td>\n",
       "      <td>6439</td>\n",
       "      <td>3653</td>\n",
       "      <td>2408</td>\n",
       "      <td>411</td>\n",
       "      <td>13</td>\n",
       "    </tr>\n",
       "    <tr>\n",
       "      <th>2</th>\n",
       "      <td>2022</td>\n",
       "      <td>12</td>\n",
       "      <td>읍면동</td>\n",
       "      <td>경기도 가평군 가평읍</td>\n",
       "      <td>19555</td>\n",
       "      <td>1020</td>\n",
       "      <td>1673</td>\n",
       "      <td>2094</td>\n",
       "      <td>1795</td>\n",
       "      <td>2630</td>\n",
       "      <td>...</td>\n",
       "      <td>778</td>\n",
       "      <td>937</td>\n",
       "      <td>848</td>\n",
       "      <td>1244</td>\n",
       "      <td>1583</td>\n",
       "      <td>1805</td>\n",
       "      <td>1054</td>\n",
       "      <td>739</td>\n",
       "      <td>126</td>\n",
       "      <td>6</td>\n",
       "    </tr>\n",
       "  </tbody>\n",
       "</table>\n",
       "<p>3 rows × 40 columns</p>\n",
       "</div>"
      ],
      "text/plain": [
       "     연도   월 행정구역구분명        행정구역명     총 인구수     0~9세   10~19세   20~29세   \n",
       "0  2022  12       도        경기도    13589432  1040954  1327726  1737291  \\\n",
       "1  2022  12      시군     경기도 가평군      62197     2930     4463     5929   \n",
       "2  2022  12     읍면동  경기도 가평군 가평읍     19555     1020     1673     2094   \n",
       "\n",
       "    30~39세   40~49세  ...  10~19세 (여)  20~29세 (여)  30~39세 (여)  40~49세 (여)   \n",
       "0  1882300  2284603  ...      647283      821150      904073     1121889  \\\n",
       "1     5397     7589  ...        2186        2503        2433        3525   \n",
       "2     1795     2630  ...         778         937         848        1244   \n",
       "\n",
       "   50~59세 (여)  60~69세 (여)  70~79세 (여)  80~89세 (여)  90~99세 (여)  100세 이상 (여)  \n",
       "0     1133428      878494      437251      252711       44184         1369  \n",
       "1        5090        6439        3653        2408         411           13  \n",
       "2        1583        1805        1054         739         126            6  \n",
       "\n",
       "[3 rows x 40 columns]"
      ]
     },
     "execution_count": 2,
     "metadata": {},
     "output_type": "execute_result"
    }
   ],
   "source": [
    "# 파일읽기\n",
    "pe = pd.read_csv('data/주민등록인구집계현황.csv', encoding='euc-kr', thousands=',')\n",
    "pe.head(3)"
   ]
  },
  {
   "cell_type": "code",
   "execution_count": 3,
   "metadata": {},
   "outputs": [
    {
     "data": {
      "text/plain": [
       "0"
      ]
     },
     "execution_count": 3,
     "metadata": {},
     "output_type": "execute_result"
    }
   ],
   "source": [
    "pe.isna().sum().sum()"
   ]
  },
  {
   "cell_type": "code",
   "execution_count": 4,
   "metadata": {},
   "outputs": [
    {
     "data": {
      "text/plain": [
       "Index(['연도', '월', '행정구역구분명', '행정구역명', '총 인구수', '0~9세', '10~19세', '20~29세',\n",
       "       '30~39세', '40~49세', '50~59세', '60~69세', '70~79세', '80~89세', '90~99세',\n",
       "       '100세 이상', '총 인구수 (남)', '0~9세 (남)', '10~19세 (남)', '20~29세 (남)',\n",
       "       '30~39세 (남)', '40~49세 (남)', '50~59세 (남)', '60~69세 (남)', '70~79세 (남)',\n",
       "       '80~89세 (남)', '90~99세 (남)', '100세 이상 (남)', '총 인구수 (여)', '0~9세 (여)',\n",
       "       '10~19세 (여)', '20~29세 (여)', '30~39세 (여)', '40~49세 (여)', '50~59세 (여)',\n",
       "       '60~69세 (여)', '70~79세 (여)', '80~89세 (여)', '90~99세 (여)', '100세 이상 (여)'],\n",
       "      dtype='object')"
      ]
     },
     "execution_count": 4,
     "metadata": {},
     "output_type": "execute_result"
    }
   ],
   "source": [
    "pe.columns"
   ]
  },
  {
   "cell_type": "code",
   "execution_count": 4,
   "metadata": {},
   "outputs": [],
   "source": [
    "# 인구소멸위기지역 column만들기\n",
    "pe['인구소멸위기지역'] = ((pe['20~29세 (여)']+pe['30~39세 (여)']) / (pe['60~69세']+pe['70~79세']+pe['80~89세']+pe['90~99세']+pe['100세 이상'])).round(2)"
   ]
  },
  {
   "cell_type": "code",
   "execution_count": 5,
   "metadata": {},
   "outputs": [
    {
     "data": {
      "text/html": [
       "<div>\n",
       "<style scoped>\n",
       "    .dataframe tbody tr th:only-of-type {\n",
       "        vertical-align: middle;\n",
       "    }\n",
       "\n",
       "    .dataframe tbody tr th {\n",
       "        vertical-align: top;\n",
       "    }\n",
       "\n",
       "    .dataframe thead th {\n",
       "        text-align: right;\n",
       "    }\n",
       "</style>\n",
       "<table border=\"1\" class=\"dataframe\">\n",
       "  <thead>\n",
       "    <tr style=\"text-align: right;\">\n",
       "      <th></th>\n",
       "      <th>행정구역구분명</th>\n",
       "      <th>행정구역명</th>\n",
       "      <th>인구소멸위기지역</th>\n",
       "    </tr>\n",
       "  </thead>\n",
       "  <tbody>\n",
       "    <tr>\n",
       "      <th>0</th>\n",
       "      <td>도</td>\n",
       "      <td>경기도</td>\n",
       "      <td>0.57</td>\n",
       "    </tr>\n",
       "    <tr>\n",
       "      <th>1</th>\n",
       "      <td>시군</td>\n",
       "      <td>경기도 가평군</td>\n",
       "      <td>0.20</td>\n",
       "    </tr>\n",
       "    <tr>\n",
       "      <th>2</th>\n",
       "      <td>읍면동</td>\n",
       "      <td>경기도 가평군 가평읍</td>\n",
       "      <td>0.26</td>\n",
       "    </tr>\n",
       "    <tr>\n",
       "      <th>3</th>\n",
       "      <td>읍면동</td>\n",
       "      <td>경기도 가평군 북면</td>\n",
       "      <td>0.09</td>\n",
       "    </tr>\n",
       "    <tr>\n",
       "      <th>4</th>\n",
       "      <td>읍면동</td>\n",
       "      <td>경기도 가평군 상면</td>\n",
       "      <td>0.11</td>\n",
       "    </tr>\n",
       "    <tr>\n",
       "      <th>...</th>\n",
       "      <td>...</td>\n",
       "      <td>...</td>\n",
       "      <td>...</td>\n",
       "    </tr>\n",
       "    <tr>\n",
       "      <th>615</th>\n",
       "      <td>읍면동</td>\n",
       "      <td>경기도 화성시 팔탄면</td>\n",
       "      <td>0.16</td>\n",
       "    </tr>\n",
       "    <tr>\n",
       "      <th>616</th>\n",
       "      <td>읍면동</td>\n",
       "      <td>경기도 화성시 향남읍</td>\n",
       "      <td>0.86</td>\n",
       "    </tr>\n",
       "    <tr>\n",
       "      <th>617</th>\n",
       "      <td>읍면동</td>\n",
       "      <td>경기도 화성시 화산동</td>\n",
       "      <td>0.47</td>\n",
       "    </tr>\n",
       "    <tr>\n",
       "      <th>618</th>\n",
       "      <td>읍면동</td>\n",
       "      <td>경기도 화성시동부출장소</td>\n",
       "      <td>NaN</td>\n",
       "    </tr>\n",
       "    <tr>\n",
       "      <th>619</th>\n",
       "      <td>읍면동</td>\n",
       "      <td>경기도 화성시동탄출장소</td>\n",
       "      <td>NaN</td>\n",
       "    </tr>\n",
       "  </tbody>\n",
       "</table>\n",
       "<p>620 rows × 3 columns</p>\n",
       "</div>"
      ],
      "text/plain": [
       "    행정구역구분명          행정구역명  인구소멸위기지역\n",
       "0         도          경기도        0.57\n",
       "1        시군       경기도 가평군       0.20\n",
       "2       읍면동    경기도 가평군 가평읍      0.26\n",
       "3       읍면동     경기도 가평군 북면      0.09\n",
       "4       읍면동     경기도 가평군 상면      0.11\n",
       "..      ...            ...       ...\n",
       "615     읍면동    경기도 화성시 팔탄면      0.16\n",
       "616     읍면동    경기도 화성시 향남읍      0.86\n",
       "617     읍면동    경기도 화성시 화산동      0.47\n",
       "618     읍면동  경기도 화성시동부출장소        NaN\n",
       "619     읍면동  경기도 화성시동탄출장소        NaN\n",
       "\n",
       "[620 rows x 3 columns]"
      ]
     },
     "execution_count": 5,
     "metadata": {},
     "output_type": "execute_result"
    }
   ],
   "source": [
    "# dataframe 만들기 컬럼선택\n",
    "pe = pe[['행정구역구분명','행정구역명','인구소멸위기지역']]\n",
    "pe"
   ]
  },
  {
   "cell_type": "code",
   "execution_count": null,
   "metadata": {},
   "outputs": [],
   "source": [
    "pe.isna().sum()"
   ]
  },
  {
   "cell_type": "code",
   "execution_count": null,
   "metadata": {},
   "outputs": [],
   "source": [
    "pe[pe['행정구역구분명'].str.contains('읍면동')]"
   ]
  },
  {
   "cell_type": "code",
   "execution_count": null,
   "metadata": {},
   "outputs": [],
   "source": [
    "# 읍면동 삭제\n",
    "# 특정 문자포함 행 삭제\n",
    "pe= pe.drop(pe[pe['행정구역구분명'] == '읍면동'].index)\n",
    "pe.head()\n",
    "# .index는 선택한 행들의 인덱스를 반환하는 속성"
   ]
  },
  {
   "cell_type": "code",
   "execution_count": null,
   "metadata": {},
   "outputs": [],
   "source": [
    "pe.index"
   ]
  },
  {
   "cell_type": "code",
   "execution_count": null,
   "metadata": {},
   "outputs": [],
   "source": [
    "pe['행정구역명'][231]"
   ]
  },
  {
   "cell_type": "code",
   "execution_count": null,
   "metadata": {},
   "outputs": [],
   "source": [
    "# 방법2\n",
    "# 원하는 행만 가져오기(filtering) / 도 빼기.\n",
    "pe = pe[pe.행정구역구분명.str.contains('시군') | pe.행정구역구분명.str.contains('구')]"
   ]
  },
  {
   "cell_type": "code",
   "execution_count": null,
   "metadata": {},
   "outputs": [],
   "source": [
    "# 특례시,행정구가 있는 도시(지방자치단체없는) 삭제\n",
    "# .index는 선택한 행들의 인덱스를 반환하는 속성\n",
    "# 방법1 이렇게는 하지말고\n",
    "pe = pe.drop(pe[pe['행정구역명'] == '경기도 수원시 '].index)\n",
    "pe = pe.drop(pe[pe['행정구역명'] == '경기도 고양시 '].index)\n",
    "pe = pe.drop(pe[pe['행정구역명'] == '경기도 용인시 '].index)\n",
    "pe = pe.drop(pe[pe['행정구역명'] == '경기도 성남시 '].index)\n",
    "pe = pe.drop(pe[pe['행정구역명'] == '경기도 안산시 '].index)\n",
    "pe = pe.drop(pe[pe['행정구역명'] == '경기도 안양시 '].index)"
   ]
  },
  {
   "cell_type": "code",
   "execution_count": null,
   "metadata": {},
   "outputs": [],
   "source": [
    "# 방법2\n",
    "# 수원시, 용인스 등 구가 있는 시는 제거\n",
    "gu_city= ['수원시', '고양시', '용인시', '성남시', '안산시', '안양시']\n",
    "pe.행정구역명 = pe.행정구역명.str.strip()\n",
    "gu_pop = pe[pe.행정구역명,str.split()[-1].isin(gu_city)]"
   ]
  },
  {
   "cell_type": "code",
   "execution_count": null,
   "metadata": {},
   "outputs": [],
   "source": [
    "# 방법2\n",
    "# 수원시, 용인스 등 구가 있는 시는 제거 \n",
    "# 인덱스 이름 반복문으로 가져오기\n",
    "drop_index = []\n",
    "for index in pe[pe.행정구역구분명 == '시군'].index:\n",
    "    if pe.행정구역명[index].split(-1) in gu_city:\n",
    "        drop_index.append(index)\n",
    "drop_index"
   ]
  },
  {
   "cell_type": "code",
   "execution_count": null,
   "metadata": {},
   "outputs": [],
   "source": [
    "# 방법2\n",
    "pe.drop(drop_index, inplace=True)"
   ]
  },
  {
   "cell_type": "code",
   "execution_count": null,
   "metadata": {},
   "outputs": [],
   "source": [
    "# 방법3\n",
    "except_city = ['경기도 수원시', '경기도 고양시', '경기도 용인시', '경기도 성남시', '경기도 안산시', '경기도 안양시']"
   ]
  },
  {
   "cell_type": "code",
   "execution_count": null,
   "metadata": {},
   "outputs": [],
   "source": [
    "# 방법3\n",
    "pe[((pe.행정구역구분명 == '시군') | (pe.행정구역구분명 == '구')) & ~(pe['행정구역명'].str.strip().isin(except_city))]"
   ]
  },
  {
   "cell_type": "code",
   "execution_count": null,
   "metadata": {},
   "outputs": [],
   "source": [
    "pe"
   ]
  },
  {
   "cell_type": "code",
   "execution_count": null,
   "metadata": {},
   "outputs": [],
   "source": [
    "# 경기도 삭제\n",
    "pe.drop([0], inplace=True) \n",
    "pe.head()"
   ]
  },
  {
   "cell_type": "code",
   "execution_count": null,
   "metadata": {},
   "outputs": [],
   "source": [
    "pe.isna().sum()"
   ]
  },
  {
   "cell_type": "code",
   "execution_count": null,
   "metadata": {},
   "outputs": [],
   "source": [
    "pe"
   ]
  },
  {
   "cell_type": "code",
   "execution_count": null,
   "metadata": {},
   "outputs": [],
   "source": [
    "pe.to_csv('data/주민등록인구집계현황2.csv',index=False)"
   ]
  },
  {
   "cell_type": "code",
   "execution_count": null,
   "metadata": {},
   "outputs": [],
   "source": [
    "# 0.5이하 인구소멸위기지역\n",
    "# 인구소멸top10\n",
    "sorted_pe = pe.sort_values(by='인구소멸위기지역')\n",
    "sorted_pe.head(10)"
   ]
  },
  {
   "cell_type": "code",
   "execution_count": null,
   "metadata": {},
   "outputs": [],
   "source": [
    "# 인구많은 top10\n",
    "sorted_pe2 = sorted_pe.sort_values(by='인구소멸위기지역', ascending=False)\n",
    "sorted_pe2.head(10)"
   ]
  },
  {
   "cell_type": "code",
   "execution_count": null,
   "metadata": {},
   "outputs": [],
   "source": []
  }
 ],
 "metadata": {
  "kernelspec": {
   "display_name": "base",
   "language": "python",
   "name": "python3"
  },
  "language_info": {
   "codemirror_mode": {
    "name": "ipython",
    "version": 3
   },
   "file_extension": ".py",
   "mimetype": "text/x-python",
   "name": "python",
   "nbconvert_exporter": "python",
   "pygments_lexer": "ipython3",
   "version": "3.10.9"
  },
  "orig_nbformat": 4
 },
 "nbformat": 4,
 "nbformat_minor": 2
}
