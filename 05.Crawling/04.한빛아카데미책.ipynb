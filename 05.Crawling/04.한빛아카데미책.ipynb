{
 "cells": [
  {
   "cell_type": "code",
   "execution_count": 1,
   "metadata": {},
   "outputs": [
    {
     "data": {
      "text/plain": [
       "'\\n새로나온책\\n제목\\n저자\\n가격\\n'"
      ]
     },
     "execution_count": 1,
     "metadata": {},
     "output_type": "execute_result"
    }
   ],
   "source": [
    "'''\n",
    "새로나온책\n",
    "제목\n",
    "저자\n",
    "가격\n",
    "'''"
   ]
  },
  {
   "cell_type": "code",
   "execution_count": 2,
   "metadata": {},
   "outputs": [],
   "source": [
    "import requests\n",
    "from urllib.parse import quote\n",
    "import pandas as pd\n",
    "from bs4 import BeautifulSoup"
   ]
  },
  {
   "cell_type": "code",
   "execution_count": 3,
   "metadata": {},
   "outputs": [
    {
     "data": {
      "text/plain": [
       "'<!DOCTYPE html>\\r\\n<html lang=\"ko\">\\r\\n<head>\\r\\n<!--[if lte IE 8]>\\r\\n<script>\\r\\n  location.replace(\\'/support/explorer_upgrade.html\\');\\r\\n</script>\\r\\n<![endif]-->\\r\\n<meta charset=\"utf-8\"/>\\r\\n<title>한빛아카데미</title>\\r\\n<link rel=\"shortcut icon\" href=\"https://www.hanbit.co.kr/images/common/hanbit.ico\"> \\r\\n<meta http-equiv=\"X-UA-Compatible\" content=\"IE=Edge\" />\\r\\n<meta property=\"og:type\" content=\"website\"/>\\r\\n<meta property=\"og:title\" content=\"한빛아카데미\"/>\\r\\n<meta property=\"og:description\" content=\"이공계 분야 종합 교재 출판사로, 독자의 신뢰를 최우선 원칙으로 삼고 가르치는 교수님들과 배우는 학생들에게 든든한 조력자가 되도록 노력하고 있습니다.\"/>\\r\\n<meta property=\"og:image\" content=\"https://www.hanbit.co.kr/images/hanbitpubnet_logo.jpg\" />\\r\\n<meta property=\"og:url\" content=\"https://www.hanbit.co.kr/academy/books/new_book_list.html\"/>\\r\\n<link rel=\"canonical\" href=\"https://www.hanbit.co.kr/academy/books/new_book_list.html\" />\\r\\n<meta name=\"keywords\" content=\"한빛아카데미,책,전자책,ebook,대학교재,교재출판사,강의교안,교수회원,자격증,정보교과서\" />\\r\\n<meta name=\"description\" content=\"이공계 분야 종합 교재 출판사로, 독자의 신뢰를 최우선 원칙으로 삼고 가르치는 교수님들과 배우는 학생들에게 든든한 조력자가 되도록 노력하고 있습니다.\" />\\r\\n<meta name=\"viewport\" content=\"width=device-width,initial-scale=1.0,minimum-scale=1.0,maximum-scale=1.0\">\\r\\n<meta name=\"viewport\" content=\"width=1260\">\\r\\n<meta name=\"apple-mobile-web-app-capable\" content=\"yes\" />\\r\\n<meta name=\"naver-site-verification\" content=\"01c29ed1852aecca7a48ac0c3e0869627bc512d8\"/>\\r\\n<link rel=\"stylesheet\" href=\"/css/common.css?20210603093421\" />\\r\\n<link href=\"/css/hover.css\" rel=\"stylesheet\" media=\"all\">\\r\\n<link rel=\"stylesheet\" href=\"/js/jquery.raty.css\" />\\r\\n<script type=\"text/javascript\" src=\"/js/jquery-latest.js\"></script>\\r\\n<script type=\"text/javascript\" src=\"/js/jquery-ui.js\"></script>\\r\\n<script type=\"text/javascript\" src=\"/js/jquery.event.drag-1.5.min.js\"></script>\\r\\n<script type=\"text/javascript\" src=\"/js/jquery.touchSlider.js\"></script>\\r\\n<script type=\"text/javascript\" src=\"/js/jquery.raty.js\"></script>\\r\\n<script type=\"text/javascript\" src=\"/js/main.js\"></script>\\r\\n<script type=\"text/javascript\" src=\"/lib/cheditor/cheditor.js\"></script>\\r\\n<script type=\"text/javascript\" src=\"/js/jquery.ui.datepicker-ko.js\"></script>\\r\\n<script type=\"text/javascript\" src=\"/js/engine.js\"></script>\\r\\n<script type=\"text/javascript\" src=\"/js/vue.js\"></script>\\r\\n\\r\\n<!-- Google Analytics -->\\r\\n<script>\\r\\n(function(i,s,o,g,r,a,m){i[\\'GoogleAnalyticsObject\\']=r;i[r]=i[r]||function(){\\r\\n(i[r].q=i[r].q||[]).push(arguments)},i[r].l=1*new Date();a=s.createElement(o),\\r\\nm=s.getElementsByTagName(o)[0];a.async=1;a.src=g;m.parentNode.insertBefore(a,m)\\r\\n})(window,document,\\'script\\',\\'//www.google-analytics.com/analytics.js\\',\\'ga\\');\\r\\nga(\\'create\\', \\'UA-47080738-1\\', \\'hanbit.co.kr\\');\\r\\nga(\\'require\\', \\'linkid\\', \\'linkid.js\\');\\r\\nga(\\'send\\', \\'pageview\\');\\r\\n</script>\\r\\n<!-- Google Analytics -->\\r\\n\\r\\n<!-- Facebook Pixel Code -->\\r\\n<script>\\r\\n  !function(f,b,e,v,n,t,s)\\r\\n  {if(f.fbq)return;n=f.fbq=function(){n.callMethod?\\r\\n  n.callMethod.apply(n,arguments):n.queue.push(arguments)};\\r\\n  if(!f._fbq)f._fbq=n;n.push=n;n.loaded=!0;n.version=\\'2.0\\';\\r\\n  n.queue=[];t=b.createElement(e);t.async=!0;\\r\\n  t.src=v;s=b.getElementsByTagName(e)[0];\\r\\n  s.parentNode.insertBefore(t,s)}(window, document,\\'script\\',\\r\\n  \\'https://connect.facebook.net/en_US/fbevents.js\\');\\r\\n  fbq(\\'init\\', \\'406459623338891\\');\\r\\n  fbq(\\'track\\', \\'PageView\\');\\r\\n</script>\\r\\n<noscript><img height=\"1\" width=\"1\" style=\"display:none\"\\r\\n  src=\"https://www.facebook.com/tr?id=406459623338891&ev=PageView&noscript=1\"\\r\\n/></noscript>\\r\\n<!-- End Facebook Pixel Code -->\\r\\n\\r\\n<!-- Google Tag Manager -->\\r\\n<script>(function(w,d,s,l,i){w[l]=w[l]||[];w[l].push({\\'gtm.start\\':\\r\\nnew Date().getTime(),event:\\'gtm.js\\'});var f=d.getElementsByTagName(s)[0],\\r\\nj=d.createElement(s),dl=l!=\\'dataLayer\\'?\\'&l=\\'+l:\\'\\';j.async=true;j.src=\\r\\n\\'https://www.googletagmanager.com/gtm.js?id=\\'+i+dl;f.parentNode.insertBefore(j,f);\\r\\n})(window,document,\\'script\\',\\'dataLayer\\',\\'GTM-W9D5PM3\\');</script>\\r\\n<!-- End Google Tag Manager -->\\r\\n\\r\\n<!-- Kakao Pixel Code -->\\r\\n<script type=\"text/javascript\" charset=\"UTF-8\" src=\"//t1.daumcdn.net/adfit/static/kp.js\"></script>\\r\\n<script type=\"text/javascript\">\\r\\n  kakaoPixel(\\'3011392806152551233\\').pageView();\\r\\n</script>\\r\\n<!-- //Kakao Pixel Code -->\\r\\n</head>\\r\\n<body>\\r\\n<!-- Google Tag Manager (noscript) -->\\r\\n<noscript><iframe src=\"https://www.googletagmanager.com/ns.html?id=GTM-W9D5PM3\"\\r\\nheight=\"0\" width=\"0\" style=\"display:none;visibility:hidden\"></iframe></noscript>\\r\\n<!-- End Google Tag Manager (noscript) -->\\r\\n<link rel=\"stylesheet\" href=\"/academy/css/layout-academy.css?202204141945\" />\\r\\n<link rel=\"stylesheet\" href=\"/academy/css/layout-books.css\" />\\r\\n<link rel=\"stylesheet\" href=\"/academy/css/layout-community.css\" />\\r\\n<link rel=\"stylesheet\" href=\"/academy/css/layout-network.css\" />\\r\\n<link rel=\"stylesheet\" href=\"/css/layout-member.css\" />\\r\\n\\r\\n<!-- 메뉴 바로가기 -->\\r\\n<div id=\"quick_skip_menu\">\\r\\n  <a href=\"#gnb\" onclick=\"document.getElementById(\\'gnb\\').tabIndex = -1;document.getElementById(\\'gnb\\').focus();return false;\"><span>메뉴 바로가기</span></a>\\r\\n  <a href=\"#top_search\" onclick=\"view_hover(\\'main_search_area\\',\\'\\',\\'show\\'), document.getElementById(\\'top_search\\').tabIndex = -1;document.getElementById(\\'top_search\\').focus();return false;\"><span>검색 및 카테고리 바로가기</span></a>\\r\\n  <a href=\"#main_top_box\" onclick=\"document.getElementById(\\'main_top_box\\').tabIndex = -1;document.getElementById(\\'main_top_box\\').focus();return false;\"><span>프로모션 바로가기</span></a>\\r\\n  <a href=\"#main_book_area\" onclick=\"document.getElementById(\\'main_book_area\\').tabIndex = -1;document.getElementById(\\'main_book_area\\').focus();return false;\"><span>책 바로가기</span></a>\\r\\n  <a href=\"#main_network_area\" onclick=\"document.getElementById(\\'main_network_area\\').tabIndex = -1;document.getElementById(\\'main_network_area\\').focus();return false;\"><span>네트워크 바로가기</span></a>\\r\\n</div>\\r\\n<!-- //메뉴 바로가기 -->\\r\\n\\r\\n<!-- header -->\\r\\n<header>\\r\\n  <!-- top menu -->\\r\\n    <nav>\\r\\n    <div id=\"wrap_nav\">\\r\\n      <ul class=\"top_brand\">\\r\\n        <li><a href=\"https://www.hanbit.co.kr/index.html\" name=\"hanbit_network\"><span>HOME</span></a></li>\\r\\n        <li><a href=\"https://www.hanbit.co.kr/media/\">한빛미디어</a></li>\\r\\n        <li><a href=\"https://www.hanbit.co.kr/academy/\">한빛아카데미</a></li>\\r\\n        <li><a href=\"https://www.hanbit.co.kr/biz/\">한빛비즈</a></li>\\r\\n        <li><a href=\"https://www.hanbit.co.kr/life/\">한빛라이프</a></li>\\r\\n        <li><a href=\"https://www.hanbit.co.kr/edu/\">한빛에듀</a></li>\\r\\n        <li><a href=\"https://www.hanbit.co.kr/realtime/\">리얼타임</a></li>\\r\\n        <li><a href=\"https://www.hanbit.co.kr/textbook/\" target=\"_blank\">한빛정보교과서</a></li>\\r\\n        <li><a href=\"https://www.hanbit.co.kr/rent/\" target=\"_blank\">한빛대관서비스</a></li>\\r\\n      </ul>\\r\\n      \\r\\n      <ul class=\"top_menu\">\\r\\n                <li><a href=\"https://www.hanbit.co.kr/member/login.html\" class=\"login\">로그인</a></li>\\r\\n        <li><a href=\"https://www.hanbit.co.kr/member/member_agree.html\" class=\"join\">회원가입</a></li>\\r\\n        <li><a href=\"https://www.hanbit.co.kr/myhanbit/myhanbit.html\" class=\"myhanbit\">마이한빛</a></li>\\r\\n        <li><a href=\"https://www.hanbit.co.kr/myhanbit/cart.html\" class=\"cart\">장바구니</a></li>\\r\\n                    <li class=\"top_menu_store\"><a href=\"https://www.hanbit.co.kr/publisher/foreignrights.html?lang=e\" target=\"_blank\">ENGLISH</a></li>\\r\\n      </ul>\\r\\n    </div>\\r\\n  </nav>\\r\\n  <!-- //top menu -->\\r\\n  \\r\\n  <div id=\"wrap_gnb\">\\r\\n    <!-- logo -->\\r\\n    <h1><a href=\"https://www.hanbit.co.kr/academy/\">한빛아카데미</a></h1>\\r\\n    <!-- //logo -->\\r\\n    \\r\\n    <!-- Menu -->\\r\\n    <div id=\"gnb\" name=\"gnb\">\\r\\n      <ul>\\r\\n        <li><a href=\"https://www.hanbit.co.kr/academy/info/info.html\" class=\"\">브랜드 소개</a></li>\\r\\n        <li><a href=\"https://www.hanbit.co.kr/academy/books/new_book_list.html\" class=\"curr\">책</a></li>\\r\\n        <li><a href=\"https://www.hanbit.co.kr/academy/channel/list.html\" class=\"\">채널.H</a></li>\\r\\n        <li><a href=\"https://www.hanbit.co.kr/academy/professor/index.html\" class=\"\">교수전용공간</a></li>\\r\\n        <!--\\r\\n        <li><a href=\"https://www.hanbit.co.kr/academy/electric/electric_book_list.html\" class=\"\">전기수험서</a></li>\\r\\n        -->\\r\\n        <!-- <li><a href=\"https://www.hanbit.co.kr/academy/community/index.html\" class=\"\">커뮤니티</a></li>-->\\r\\n        <li><a href=\"https://www.hanbit.co.kr/support/help_info.html\" target=\"_blank\" class=\"\">고객지원</a></li>\\r\\n        <li id=\"top_search\" class=\"search\"><a href=\"javascript:;\" onClick=\"view_hover(\\'main_search_area\\',\\'\\',\\'show\\'); $(\\'#keyword_str\\').focus();\"><span>SERACH</span></a></li>\\r\\n      </ul>\\r\\n    </div>\\r\\n    <!-- //Menu -->\\r\\n    \\r\\n    <!-- lnb -->\\r\\n    <div class=\"lnb\" style=\"top:92px;\">\\r\\n      <div class=\"lnb_area\">\\r\\n                <!-- 책 -->\\r\\n        <ul class=\"lnb_depth1_category\">\\r\\n          <li onmouseover=\"view_hover(\\'category_books\\',\\'\\',\\'show\\')\" onMouseOut=\"view_hover(\\'category_books\\',\\'\\',\\'hide\\')\"><a href=\"#\" onFocus=\"view_hover(\\'category_books\\',\\'\\',\\'show\\')\" class=\"gnb_category\">카테고리\\x1c</a>\\r\\n            <ul id=\"category_books\">\\r\\n            \\r\\n                              <li><a href=\"https://www.hanbit.co.kr/academy/books/category_list.html?cate_cd=004003\">수학/통계</a></li>\\r\\n                              <li><a href=\"https://www.hanbit.co.kr/academy/books/category_list.html?cate_cd=004010\">과학/공학일반</a></li>\\r\\n                              <li><a href=\"https://www.hanbit.co.kr/academy/books/category_list.html?cate_cd=004007\">컴퓨터공학</a></li>\\r\\n                              <li><a href=\"https://www.hanbit.co.kr/academy/books/category_list.html?cate_cd=004004\">프로그래밍</a></li>\\r\\n                              <li><a href=\"https://www.hanbit.co.kr/academy/books/category_list.html?cate_cd=004011\">데이터과학/인공지능</a></li>\\r\\n                              <li><a href=\"https://www.hanbit.co.kr/academy/books/category_list.html?cate_cd=004008\">전기/전자</a></li>\\r\\n                              <li><a href=\"https://www.hanbit.co.kr/academy/books/category_list.html?cate_cd=004009\">기계/자동차</a></li>\\r\\n                              <li><a href=\"https://www.hanbit.co.kr/academy/books/category_list.html?cate_cd=004006\">OA/그래픽</a></li>\\r\\n                              <li><a href=\"https://www.hanbit.co.kr/academy/books/category_list.html?cate_cd=004012\">경영/경제</a></li>\\r\\n                              <li><a href=\"https://www.hanbit.co.kr/academy/books/category_list.html?cate_cd=004005\">논문</a></li>\\r\\n                            <!--li onmouseover=\"view_hover(\\'category_books01\\',\\'\\',\\'show\\')\" onMouseOut=\"view_hover(\\'category_books01\\',\\'\\',\\'hide\\')\"><a href=\"#\" onFocus=\"view_hover(\\'category_books01\\',\\'\\',\\'show\\')\">1차 카테고리</a>\\r\\n                <ul id=\"category_books01\">\\r\\n                  <li><a href=\"#\">2차 카테고리 1</a></li>\\r\\n                  <li><a href=\"#\">2차 카테고리 2</a></li>\\r\\n                </ul>\\r\\n              </li>\\r\\n              <li onmouseover=\"view_hover(\\'category_books02\\',\\'\\',\\'show\\')\" onMouseOut=\"view_hover(\\'category_books02\\',\\'\\',\\'hide\\')\"><a href=\"#\" onFocus=\"view_hover(\\'category_books02\\',\\'\\',\\'show\\')\">1차 카테고리</a>\\r\\n                <ul id=\"category_books02\">\\r\\n                  <li><a href=\"#\">2차 카테고리 1</a></li>\\r\\n                  <li><a href=\"#\">2차 카테고리 2</a></li>\\r\\n                </ul>\\r\\n              </li-->\\r\\n              \\r\\n              <!-- 항상 노출 메뉴 -->\\r\\n              <!--\\r\\n              <li class=\"gnb_category_series\"><a href=\"https://www.hanbit.co.kr/academy/books/series_list.html\">시리즈</a></li>\\r\\n              <li class=\"gnb_category_full\"><a href=\"https://www.hanbit.co.kr/academy/books/full_book_list.html\">전체도서목록</a></li>\\r\\n              -->\\r\\n            </ul>\\r\\n          </li>\\r\\n        </ul>\\r\\n        <ul class=\"lnb_depth1\">\\r\\n          <li><a href=\"https://www.hanbit.co.kr/academy/books/new_book_list.html\">새로나온책</a></li><span>l</span>\\r\\n          <li><a href=\"https://www.hanbit.co.kr/academy/books/bestseller_list.html\">베스트셀러</a></li><span>l</span>\\r\\n          <li><a href=\"https://www.hanbit.co.kr/academy/books/series_list.html\">시리즈</a></li><span>l</span>\\r\\n          <li><a href=\"https://www.hanbit.co.kr/academy/books/full_book_list.html\">전체도서목록</a></li>\\r\\n          <!--\\r\\n          <li><a href=\"https://www.hanbit.co.kr/academy/books/forthcoming_list.html\">출간예정도서</a></li>\\r\\n          -->\\r\\n          <!-- add by coffin, 2016-04-25\\r\\n          <li><a href=\"https://www.hanbit.co.kr/academy/books/road_map.html\">학습로드맵</a></li>\\r\\n          -->\\r\\n        </ul>\\r\\n        <!-- //책 -->\\r\\n        \\r\\n              </div>\\r\\n    </div>\\r\\n    <!-- //lnb -->\\r\\n    \\r\\n  </div>\\r\\n  \\r\\n</header>\\r\\n<!-- //header -->\\r\\n\\r\\n<!-- 메인 검색 및 카테고리 영역 -->\\r\\n<div id=\"main_search_area\" class=\"fixed\" style=\"display:none;\">\\n  <div class=\"msa_wrap\">\\n\\n    <!-- 검색 -->\\n    <div class=\"msa_srch_wrap\">\\n      <form onsubmit=\"return false;\">\\n      <fieldset class=\"msa_srch_field\">\\n        <legend>한빛출판네트워크 검색</legend>\\n        <input title=\"검색어\" autocomplete=\"off\" class=\"srch_keyword\" accesskey=\"s\" type=\"text\" name=\"keyword_str\" id=\"keyword_str\" v-model=\"keyword\" @input=\"typeKeyword\">\\n        <input type=\"submit\" class=\"srch_btn\" style=\"cursor:pointer;\" @click=\"clickSearch\">\\n      </fieldset>\\n      </form>\\n    </div>\\n    <!-- //검색 -->\\n\\n    <!-- ① 인기검색어 -->\\n    <div class=\"msa_srch_polular\" v-if=\"showPopularKeyword === true\">\\n      <h2 class=\"tit\">인기 검색어 <span>(최근 1개월간)</span></h2>\\n        <div class=\"popula_box\">\\n          <ul class=\"left\">\\n            <li v-for=\"keyword in leftPopularKeywordList\">\\n              <a :class=\"keyword.bold\" @click=\"clickPopularKeyword(keyword)\">\\n                  {{ keyword.number }} {{ keyword.bookName }}\\n              </a>\\n            </li>\\n          </ul>\\n          <ul class=\"right\">\\n            <li v-for=\"keyword in rightPopularKeywordList\">\\n              <a :class=\"keyword.bold\" @click=\"clickPopularKeyword(keyword)\">\\n                  {{ keyword.number }} {{ keyword.bookName }}\\n              </a>\\n            </li>\\n          </ul>\\n        </div>\\n    </div>\\n    <!-- ① 인기검색어 -->\\n\\n    <!-- ② 검색결과/검색서제스쳔 -->\\n    <div class=\"msa_srch_suggestion\" v-if=\"showPopularKeyword === false\">\\n      <div class=\"sugg_left\" v-if=\"bookList.length !== 0\">\\n        <h3 class=\"tit\">BOOK</h3>\\n        <ul class=\"books_list\">\\n          <li v-for=\"book in bookList\" @mouseover=\"mouseOverBook(book.id)\"><a @click=\"clickBookKeyword(book)\"><p v-html=\"book.name\"></p></a></li>\\n        </ul>\\n      </div>\\n\\n      <div class=\"sugg_right\">\\n        <div class=\"sugg_book\" v-if=\"bookList.length !== 0\">\\n          <table class=\"sugg_book_detail\">\\n            <tr>\\n              <td class=\"cover\">\\n                <a @click=\"clickBookKeyword(bookSummary)\">\\n                  <img :src=\"bookSummary.imgUrl\" class=\"b_cover\">\\n                </a>\\n              </td>\\n              <td class=\"draft\">\\n                <a @click=\"clickBookKeyword(bookSummary)\" class=\"b_title\"><strong v-html=\"bookSummary.originName\"></strong></a>\\n                <p class=\"b_int\">\\n                {{ bookSummary.author }} 지음<br />\\n                {{ bookSummary.publishingCompany }} | {{ bookSummary.date }}\\n                </p>\\n                <p class=\"b_type\">\\n                <span>{{ bookSummary.bookType }}</span>\\n                </p>\\n              </td>\\n            </tr>\\n          </table>\\n        </div>\\n\\n        <!--\\n        <div class=\"sugg_edu\" v-if=\"educationList.length !== 0\">\\n          <h3 class=\"tit\">EDUCATION</h3>\\n          <ul class=\"edu_list\">\\n            <li v-for=\"education in educationList\">&#149; <a @click=\"clickEducationKeyword(education)\"><span v-html=\"education.title\"></span></a></li>\\n          </ul>\\n        </div>\\n        -->\\n        \\n        <div class=\"sugg_cont\" v-if=\"contentList.length !== 0\">\\n          <h3 class=\"tit\">CONTENTS</h3>\\n          <ul class=\"cont_list\">\\n            <li v-for=\"content in contentList\">&#149; <a @click=\"clickContentKeyword(content)\"><span v-html=\"content.title\"></span></a></li>\\n          </ul>\\n        </div>\\n      </div>\\n    </div>\\n    <!-- //② 검색결과/검색서제스쳔 -->\\n\\n  <!-- 닫기 -->\\n  <div class=\"msa_wrap_close\">\\n    <a href=\"javascript:;\" onclick=\"view_hover(\\'main_search_area\\',\\'\\',\\'hide\\')\">닫기</a>\\n  </div>\\n  <!-- //닫기 -->\\n\\n  </div>\\n</div>\\n\\n<script type=\"text/javascript\">\\n    \"use strict\";\\n\\n    var common_top_search_vue = new Vue({\\n        el: \\'#main_search_area\\',\\n        data: {\\n            //검색엔진 URL\\n            searchProxyURL: \"https://search.hanbit.co.kr\",\\n            //인기 검색어 show 여부\\n            showPopularKeyword: true,\\n            //사용자 검색 키워드\\n            keyword: \\'\\',\\n            //인기 검색어 리스트\\n            popularKeywordList: [],\\n            // 인기 검색어 리스트 (왼쪽)\\n            leftPopularKeywordList: [],\\n            // 인기 검색어 리스트 (오른쪽)\\n            rightPopularKeywordList: [],\\n            // 자동완성에서의 책 리스트\\n            bookList: [],\\n            // 자동완성에서의 책 정보\\n            bookSummary: {\\n                \\'imgUrl\\': \\'\\',\\n                \\'link\\': \\'\\',\\n                \\'name\\': \\'\\',\\n                \\'author\\': \\'\\',\\n                \\'publishingCompany\\': \\'\\',\\n                \\'date\\': \\'\\',\\n                \\'bookType\\': \\'\\'\\n            },\\n            //에듀케이션 리스트\\n            educationList: [],\\n            //컨텐츠 리스트\\n            contentList: []\\n        },\\n        created: function created() {\\n            // 인기 검색어 조회\\n            this.getPopularKeyword();\\n        },\\n        methods: {\\n            /**\\n             * 사용자가 검색 키워드를 입력할때 발생하는 이벤트\\n             */\\n            typeKeyword: function typeKeyword() {\\n                var self = this;\\n                var keyword = $(\"#keyword_str\").val();\\n\\n                if (keyword.length !== 0) {\\n                    //자동완성어\\n                    this.findAutocompleteResult(keyword);\\n                } else {\\n                    //인기검색어\\n                    self.showPopularKeyword = true;\\n                }\\n            },\\n\\n            /**\\n             * 인기검색어 조회\\n             */\\n            getPopularKeyword: function getPopularKeyword() {\\n                var self = this;\\n                this.popularKeywordList = [];\\n                $.get(this.searchProxyURL + \"/querylog/popularKeyword\").done(function (data) {\\n                    if (data != null) {\\n                        self.drawPopularKeyword(data);\\n                    }\\n                });\\n            },\\n\\n            /**\\n             * 인기 검색어 그리기\\n             */\\n            drawPopularKeyword: function drawPopularKeyword(popularBooks) {\\n                var self = this;\\n                popularBooks.forEach(function (item) {\\n                    var popularBook = {\\n                        bookName: item.keyword\\n                    };\\n                    self.popularKeywordList.push(popularBook);\\n                });\\n                var number = 0;\\n\\n                for (var _iterator = this.popularKeywordList, _isArray = Array.isArray(_iterator), _i = 0, _iterator = _isArray ? _iterator : _iterator[Symbol.iterator]();;) {\\n                    var _ref;\\n\\n                    if (_isArray) {\\n                        if (_i >= _iterator.length) break;\\n                        _ref = _iterator[_i++];\\n                    } else {\\n                        _i = _iterator.next();\\n                        if (_i.done) break;\\n                        _ref = _i.value;\\n                    }\\n\\n                    var keyword = _ref;\\n                    number = number + 1;\\n                    keyword.number = number.toString().length < 2 ? \"0\" + number : number;\\n\\n                    if (number > 5) {\\n                        keyword.direction = \"right\";\\n                        self.rightPopularKeywordList.push(keyword);\\n                    } else {\\n                        keyword.direction = \"left\";\\n\\n                        if (number < 4) {\\n                            keyword.bold = \\'active\\';\\n                        }\\n\\n                        self.leftPopularKeywordList.push(keyword);\\n                    }\\n                }\\n            },\\n\\n            /**\\n             * 자동완성 검색 결과\\n             */\\n            findAutocompleteResult: function findAutocompleteResult(keyword) {\\n                var self = this;\\n                var param = {\\n                    q: keyword,\\n                    types: \"education,book,contents\",\\n                    fq: keyword\\n                };\\n                $.post(this.searchProxyURL + \"/autocomplete/search\", param).done(function (data) {\\n                    if (data != null) {\\n                        var bookResult = data.booksResults;\\n                        self.changeBookList(keyword, bookResult);\\n                        var contentResult = data.contentsResults;\\n                        self.changeContentList(keyword, contentResult);\\n                        var educationResult = data.educationResults;\\n                        self.changeEducationList(keyword, educationResult);\\n                    }\\n                });\\n                this.showPopularKeyword = false;\\n            },\\n\\n            /**\\n             * 자동완성어에서 BOOK 부분에서 마우스를 올렸을 시에 발생하는 이벤트\\n             * @param bookId\\n             */\\n            mouseOverBook: function mouseOverBook(bookId) {\\n                var currentBook = this.bookList.filter(function (book) {\\n                    return book.id === bookId;\\n                });\\n                this.changeBookSummary(currentBook[0]);\\n            },\\n\\n            /**\\n             * 책 소개 변경\\n             * @param book\\n             */\\n            changeBookSummary: function changeBookSummary(book) {\\n                if (book !== {}) {\\n                    this.bookSummary.name = book.name;\\n                    this.bookSummary.originName = book.originName;\\n                    this.bookSummary.author = book.author;\\n                    this.bookSummary.bookType = book.bookType;\\n                    this.bookSummary.imgUrl = book.imgUrl;\\n                    this.bookSummary.link = book.link;\\n                    this.bookSummary.publishingCompany = book.publishingCompany;\\n                    this.bookSummary.date = book.date;\\n                    this.bookSummary.bookType = book.bookType;\\n                }\\n            },\\n\\n            /**\\n             * BOOK 리스트 변경\\n             */\\n            changeBookList: function changeBookList(keyword, bookResultList) {\\n                var self = this;\\n                self.bookList = [];\\n                var index = 0;\\n\\n                if (bookResultList != null) {\\n                    for (var _iterator2 = bookResultList, _isArray2 = Array.isArray(_iterator2), _i2 = 0, _iterator2 = _isArray2 ? _iterator2 : _iterator2[Symbol.iterator]();;) {\\n                        var _ref2;\\n\\n                        if (_isArray2) {\\n                            if (_i2 >= _iterator2.length) break;\\n                            _ref2 = _iterator2[_i2++];\\n                        } else {\\n                            _i2 = _iterator2.next();\\n                            if (_i2.done) break;\\n                            _ref2 = _i2.value;\\n                        }\\n\\n                        var result = _ref2;\\n\\n                        if (index < 10) {\\n                            var book = {};\\n                            book.id = result.code;\\n                            book.originName = result.title;\\n                            book.name = JSON.parse(JSON.stringify(self.replaceHighlightWord(result.title, keyword)));\\n                            book.link = result.code;\\n                            book.imgUrl = self.getBookImageURL(result.code);\\n                            book.author = result.author;\\n                            book.publishingCompany = result.brand;\\n                            book.date = result.pubDate;\\n                            book.bookType = result.bookType;\\n                            self.bookList.push(book); //책 미리보기 변경\\n\\n                            self.changeBookSummary(self.bookList[0]);\\n                        }\\n                    }\\n                } else {\\n                    self.initBookSummary();\\n                }\\n            },\\n\\n            /**\\n             * 책 이미지 주소 가져오기\\n             */\\n            getBookImageURL: function getBookImageURL(bookCode) {\\n                var imgURL;\\n\\n                if (bookCode.substr(0, 1) === \"E\") {\\n                    imgURL = \\'/data/ebook/\\' + bookCode + \\'_m.jpg\\';\\n                } else {\\n                    imgURL = \\'/data/books/\\' + bookCode + \"_m.jpg\";\\n                }\\n\\n                return imgURL;\\n            },\\n\\n            /**\\n             * 검색 결과가 없을 경우 책 미리보기 초기화\\n             */\\n            initBookSummary: function initBookSummary() {\\n                this.bookSummary = {\\n                    \\'imgUrl\\': \\'\\',\\n                    \\'link\\': \\'\\',\\n                    \\'name\\': \\'\\',\\n                    \\'author\\': \\'\\',\\n                    \\'publishingCompany\\': \\'\\',\\n                    \\'date\\': \\'\\',\\n                    \\'bookType\\': \\'\\'\\n                };\\n            },\\n\\n            /**\\n             * education 리스트 변경\\n             */\\n            changeEducationList: function changeEducationList(keyword, educationResultList) {\\n                var self = this;\\n                self.educationList = [];\\n                var index = 0;\\n\\n                if (educationResultList != null) {\\n                    for (var _iterator3 = educationResultList, _isArray3 = Array.isArray(_iterator3), _i3 = 0, _iterator3 = _isArray3 ? _iterator3 : _iterator3[Symbol.iterator]();;) {\\n                        var _ref3;\\n\\n                        if (_isArray3) {\\n                            if (_i3 >= _iterator3.length) break;\\n                            _ref3 = _iterator3[_i3++];\\n                        } else {\\n                            _i3 = _iterator3.next();\\n                            if (_i3.done) break;\\n                            _ref3 = _i3.value;\\n                        }\\n\\n                        var result = _ref3;\\n\\n                        if (index < 3) {\\n                            var content = {};\\n                            content.title = JSON.parse(JSON.stringify(self.replaceHighlightWord(result.title, keyword)));\\n                            content.link = result.code;\\n                            self.educationList.push(content);\\n                            index = index + 1;\\n                        }\\n                    }\\n                }\\n            },\\n\\n            /**\\n             * contents 리스트 변경\\n             */\\n            changeContentList: function changeContentList(keyword, contentResult) {\\n                var self = this;\\n                self.contentList = [];\\n                var index = 0;\\n\\n                if (contentResult != null) {\\n                    for (var _iterator4 = contentResult, _isArray4 = Array.isArray(_iterator4), _i4 = 0, _iterator4 = _isArray4 ? _iterator4 : _iterator4[Symbol.iterator]();;) {\\n                        var _ref4;\\n\\n                        if (_isArray4) {\\n                            if (_i4 >= _iterator4.length) break;\\n                            _ref4 = _iterator4[_i4++];\\n                        } else {\\n                            _i4 = _iterator4.next();\\n                            if (_i4.done) break;\\n                            _ref4 = _i4.value;\\n                        }\\n\\n                        var result = _ref4;\\n\\n                        if (index < 7) {\\n                            var content = {};\\n                            content.title = JSON.parse(JSON.stringify(self.replaceHighlightWord(result.title, keyword)));\\n                            content.link = result.code;\\n                            self.contentList.push(content);\\n                            index = index + 1;\\n                        }\\n                    }\\n                }\\n            },\\n\\n            /**\\n             * 하이라이트 표시\\n             */\\n            replaceHighlightWord: function replaceHighlightWord(str, highlightKeyword) {\\n                var replaceHighlightKeyword = highlightKeyword.replace(/[^a-z0-9가-힣_ ]/gi, \\'\\');\\n                var regEx = new RegExp(replaceHighlightKeyword, \"gi\");\\n                str = str.replace(regEx, function (a) {\\n                    return \\'<span class=\"keysel\">\\' + a + \\'</span>\\';\\n                });\\n                return str;\\n            },\\n\\n            /**\\n             * 검색 버튼 클릭 시\\n             * @param e\\n             */\\n            clickSearch: function clickSearch(e) {\\n                if (!this.keyword || this.keyword.length === 0) {\\n                    alert(\"검색어를 입력하세요\");\\n                    $(\"#keyword_str\").focus();\\n                    e.preventDefault();\\n                } else {\\n                    location.href = \"/search/search_list.html?keyword=\" + this.keyword;\\n                }\\n            },\\n\\n            /**\\n             * 인기 검색어 클릭시\\n             * @param book\\n             */\\n            clickPopularKeyword: function clickPopularKeyword(book) {\\n                var searchKeyword = book.bookName;\\n                location.href = \"/search/search_list.html?keyword=\" + searchKeyword;\\n            },\\n\\n            /**\\n             * 책 검색어 클릭시 책 상세로 이동\\n             * @param book\\n             */\\n            clickBookKeyword: function clickBookKeyword(book) {\\n                location.href = \"/store/books/look.php?p_code=\" + book.link;\\n            },\\n\\n            /**\\n             * 교육 클릭시 교육 상세로 이동\\n             * @param education\\n             */\\n            clickEducationKeyword: function clickEducationKeyword(education) {\\n                location.href = \"/store/education/edu_view.html?p_code=\" + education.link;\\n            },\\n\\n            /**\\n             * 컨텐츠 클릭시 컨텐츠 상세로 이동\\n             * @param contents\\n             */\\n            clickContentKeyword: function clickContentKeyword(content) {\\n                location.href = \"/channel/category/category_view.html?cms_code=\" + content.link;\\n            }\\n        }\\n    });\\n</script>\\n<!-- //메인 검색 및 카테고리 영역 -->\\r\\n\\r\\n\\r\\n<!-- Contents -->\\r\\n<div id=\"container\">\\r\\n  <div class=\"docu_title\">\\r\\n    <h2>새로나온책</h2>\\r\\n  </div>\\r\\n  \\r\\n  <!-- 새로나온 책 wrap -->\\r\\n  <div class=\"new_book_list_wrap\">\\r\\n    \\r\\n    <!-- 검색창 -->\\r\\n    <form name=\"frm\" id=\"frm\" action=\"./new_book_list.html\">\\r\\n    <fieldset class=\"hbs_new_srch\">\\r\\n      <legend>새로나온 책 검색영역</legend>\\r\\n      <input title=\"검색어\" class=\"hbs_new_srch_keyword\" accesskey=\"s\" type=\"text\" name=\"keyWord\" id=\"keyWord\" value=\"\">\\r\\n      <input type=\"submit\" alt=\"\" class=\"hbs_new_srch_btn\" onclick=\"document.frm.submit();\">\\r\\n    </fieldset>\\r\\n    <!-- //검색창 -->\\r\\n    \\r\\n    <!-- 항목선택 -->\\r\\n    <div class=\"list_srch\">\\r\\n      <label>\\r\\n        <select id=\"searchKey\" name=\"searchKey\" class=\"i_select2\">  \\r\\n          <option value=\"all\">전체</option>  \\r\\n          <option value=\"p_title\" >도서명</option>  \\r\\n          <option value=\"p_author\" >저자/역자</option>\\r\\n        </select>  \\r\\n      </label>\\r\\n    </div>\\r\\n    </form>\\r\\n    <!-- //항목선택 -->\\r\\n    \\r\\n    <!-- 책 리스트 -->\\r\\n    <div class=\"sub_book_list_area\">\\r\\n            \\r\\n        <li class=\"sub_book_list\">\\r\\n          <div class=\"view_box\">\\r\\n            <span class=\"view_box_block\">\\r\\n              <span class=\"img_hidden_a\">\\r\\n                <span class=\"pop_quick_menu\">                \\r\\n                    <a href=\"/academy/books/book_view.html?p_code=B7192437175\"><img src=\"https://www.hanbit.co.kr/images/common/icon_view_detail.png\" alt=\"상세보기\" /></a>\\r\\n                                    </span>\\r\\n                <span class=\"price\">30,000<span>원</span></span>\\r\\n                <span class=\"pop_quick_bg\" onClick=\"location=\\'/academy/books/book_view.html?p_code=B7192437175\\'\"></span>\\r\\n              </span>\\r\\n              <!-- 예약도서인 경우 -->\\r\\n                            <!-- ebook이 도서인 경우 -->\\r\\n              <img src=\"/data/books/B7192437175_m.jpg\" alt=\"\" class=\"thumb\" />\\r\\n            </span>\\r\\n            <div class=\"info\">\\r\\n              <p class=\"book_tit\"><a href=\"/academy/books/book_view.html?p_code=B7192437175\">처음 배우는 매트랩</a></p>\\r\\n              <p class=\"book_writer\">방성완 </p>\\r\\n            </div>\\r\\n          </div>\\r\\n        </li>\\r\\n        <!--\\r\\n        <li class=\"sub_book_list\">\\r\\n          <div class=\"view_box\">\\r\\n            <span class=\"view_box_block\">\\r\\n              <span class=\"img_hidden_a\">\\r\\n                <span class=\"pop_quick_menu\">\\r\\n                  <a href=\"book_view.html\"><img src=\"/images/common/icon_view_detail.png\" alt=\"상세보기\" /></a><a href=\"javascript:;\" onClick=\"add_cart_layer_open(\\'layer_add_cart\\');return false;\"><img src=\"/images/common/icon_add_cart.png\" alt=\"장바구니 담기\" /></a>\\r\\n                </span>\\r\\n                <span class=\"price\">\\\\12,500</span>\\r\\n                <span class=\"star_rate\"></span>\\r\\n                <span style=\"display:none;\">3.5</span>\\r\\n              </span>\\r\\n              <img src=\"https://www.hanbit.co.kr/images/temp/book_life1.jpg\" alt=\"\" class=\"thumb\" />\\r\\n            </span>\\r\\n            <div class=\"info\">\\r\\n              <p class=\"book_tit\"><a href=\"book_view.html\">만들면서 배우는 Git+GitHub 입문</a></p>\\r\\n              <p class=\"book_writer\">마리코 나카무라</p>\\r\\n            </div>\\r\\n          </div>\\r\\n        </li>  \\r\\n        -->\\r\\n            \\r\\n        <li class=\"sub_book_list\">\\r\\n          <div class=\"view_box\">\\r\\n            <span class=\"view_box_block\">\\r\\n              <span class=\"img_hidden_a\">\\r\\n                <span class=\"pop_quick_menu\">                \\r\\n                    <a href=\"/academy/books/book_view.html?p_code=B9111135793\"><img src=\"https://www.hanbit.co.kr/images/common/icon_view_detail.png\" alt=\"상세보기\" /></a>\\r\\n                                    </span>\\r\\n                <span class=\"price\">34,000<span>원</span></span>\\r\\n                <span class=\"pop_quick_bg\" onClick=\"location=\\'/academy/books/book_view.html?p_code=B9111135793\\'\"></span>\\r\\n              </span>\\r\\n              <!-- 예약도서인 경우 -->\\r\\n                            <!-- ebook이 도서인 경우 -->\\r\\n              <img src=\"/data/books/B9111135793_m.jpg\" alt=\"\" class=\"thumb\" />\\r\\n            </span>\\r\\n            <div class=\"info\">\\r\\n              <p class=\"book_tit\"><a href=\"/academy/books/book_view.html?p_code=B9111135793\">SAS와 메타분석을 활용한 한번에 적용하는 의학보건통계</a></p>\\r\\n              <p class=\"book_writer\">히든그레이스 데이터분석팀 </p>\\r\\n            </div>\\r\\n          </div>\\r\\n        </li>\\r\\n        <!--\\r\\n        <li class=\"sub_book_list\">\\r\\n          <div class=\"view_box\">\\r\\n            <span class=\"view_box_block\">\\r\\n              <span class=\"img_hidden_a\">\\r\\n                <span class=\"pop_quick_menu\">\\r\\n                  <a href=\"book_view.html\"><img src=\"/images/common/icon_view_detail.png\" alt=\"상세보기\" /></a><a href=\"javascript:;\" onClick=\"add_cart_layer_open(\\'layer_add_cart\\');return false;\"><img src=\"/images/common/icon_add_cart.png\" alt=\"장바구니 담기\" /></a>\\r\\n                </span>\\r\\n                <span class=\"price\">\\\\12,500</span>\\r\\n                <span class=\"star_rate\"></span>\\r\\n                <span style=\"display:none;\">3.5</span>\\r\\n              </span>\\r\\n              <img src=\"https://www.hanbit.co.kr/images/temp/book_life1.jpg\" alt=\"\" class=\"thumb\" />\\r\\n            </span>\\r\\n            <div class=\"info\">\\r\\n              <p class=\"book_tit\"><a href=\"book_view.html\">만들면서 배우는 Git+GitHub 입문</a></p>\\r\\n              <p class=\"book_writer\">마리코 나카무라</p>\\r\\n            </div>\\r\\n          </div>\\r\\n        </li>  \\r\\n        -->\\r\\n            \\r\\n        <li class=\"sub_book_list\">\\r\\n          <div class=\"view_box\">\\r\\n            <span class=\"view_box_block\">\\r\\n              <span class=\"img_hidden_a\">\\r\\n                <span class=\"pop_quick_menu\">                \\r\\n                    <a href=\"/academy/books/book_view.html?p_code=B6983226439\"><img src=\"https://www.hanbit.co.kr/images/common/icon_view_detail.png\" alt=\"상세보기\" /></a>\\r\\n                                    </span>\\r\\n                <span class=\"price\">30,000<span>원</span></span>\\r\\n                <span class=\"pop_quick_bg\" onClick=\"location=\\'/academy/books/book_view.html?p_code=B6983226439\\'\"></span>\\r\\n              </span>\\r\\n              <!-- 예약도서인 경우 -->\\r\\n                            <!-- ebook이 도서인 경우 -->\\r\\n              <img src=\"/data/books/B6983226439_m.jpg\" alt=\"\" class=\"thumb\" />\\r\\n            </span>\\r\\n            <div class=\"info\">\\r\\n              <p class=\"book_tit\"><a href=\"/academy/books/book_view.html?p_code=B6983226439\">정보교과교육론&#40;3판&#41;</a></p>\\r\\n              <p class=\"book_writer\">최현종 , 전용주 </p>\\r\\n            </div>\\r\\n          </div>\\r\\n        </li>\\r\\n        <!--\\r\\n        <li class=\"sub_book_list\">\\r\\n          <div class=\"view_box\">\\r\\n            <span class=\"view_box_block\">\\r\\n              <span class=\"img_hidden_a\">\\r\\n                <span class=\"pop_quick_menu\">\\r\\n                  <a href=\"book_view.html\"><img src=\"/images/common/icon_view_detail.png\" alt=\"상세보기\" /></a><a href=\"javascript:;\" onClick=\"add_cart_layer_open(\\'layer_add_cart\\');return false;\"><img src=\"/images/common/icon_add_cart.png\" alt=\"장바구니 담기\" /></a>\\r\\n                </span>\\r\\n                <span class=\"price\">\\\\12,500</span>\\r\\n                <span class=\"star_rate\"></span>\\r\\n                <span style=\"display:none;\">3.5</span>\\r\\n              </span>\\r\\n              <img src=\"https://www.hanbit.co.kr/images/temp/book_life1.jpg\" alt=\"\" class=\"thumb\" />\\r\\n            </span>\\r\\n            <div class=\"info\">\\r\\n              <p class=\"book_tit\"><a href=\"book_view.html\">만들면서 배우는 Git+GitHub 입문</a></p>\\r\\n              <p class=\"book_writer\">마리코 나카무라</p>\\r\\n            </div>\\r\\n          </div>\\r\\n        </li>  \\r\\n        -->\\r\\n            \\r\\n        <li class=\"sub_book_list\">\\r\\n          <div class=\"view_box\">\\r\\n            <span class=\"view_box_block\">\\r\\n              <span class=\"img_hidden_a\">\\r\\n                <span class=\"pop_quick_menu\">                \\r\\n                    <a href=\"/academy/books/book_view.html?p_code=B5432656562\"><img src=\"https://www.hanbit.co.kr/images/common/icon_view_detail.png\" alt=\"상세보기\" /></a>\\r\\n                                    </span>\\r\\n                <span class=\"price\">22,000<span>원</span></span>\\r\\n                <span class=\"pop_quick_bg\" onClick=\"location=\\'/academy/books/book_view.html?p_code=B5432656562\\'\"></span>\\r\\n              </span>\\r\\n              <!-- 예약도서인 경우 -->\\r\\n                            <!-- ebook이 도서인 경우 -->\\r\\n              <img src=\"/data/books/B5432656562_m.jpg\" alt=\"\" class=\"thumb\" />\\r\\n            </span>\\r\\n            <div class=\"info\">\\r\\n              <p class=\"book_tit\"><a href=\"/academy/books/book_view.html?p_code=B5432656562\">IT CookBook, 기초전자실험 with PSpice&#40;3판&#41;</a></p>\\r\\n              <p class=\"book_writer\">홍순관 </p>\\r\\n            </div>\\r\\n          </div>\\r\\n        </li>\\r\\n        <!--\\r\\n        <li class=\"sub_book_list\">\\r\\n          <div class=\"view_box\">\\r\\n            <span class=\"view_box_block\">\\r\\n              <span class=\"img_hidden_a\">\\r\\n                <span class=\"pop_quick_menu\">\\r\\n                  <a href=\"book_view.html\"><img src=\"/images/common/icon_view_detail.png\" alt=\"상세보기\" /></a><a href=\"javascript:;\" onClick=\"add_cart_layer_open(\\'layer_add_cart\\');return false;\"><img src=\"/images/common/icon_add_cart.png\" alt=\"장바구니 담기\" /></a>\\r\\n                </span>\\r\\n                <span class=\"price\">\\\\12,500</span>\\r\\n                <span class=\"star_rate\"></span>\\r\\n                <span style=\"display:none;\">3.5</span>\\r\\n              </span>\\r\\n              <img src=\"https://www.hanbit.co.kr/images/temp/book_life1.jpg\" alt=\"\" class=\"thumb\" />\\r\\n            </span>\\r\\n            <div class=\"info\">\\r\\n              <p class=\"book_tit\"><a href=\"book_view.html\">만들면서 배우는 Git+GitHub 입문</a></p>\\r\\n              <p class=\"book_writer\">마리코 나카무라</p>\\r\\n            </div>\\r\\n          </div>\\r\\n        </li>  \\r\\n        -->\\r\\n            \\r\\n        <li class=\"sub_book_list\">\\r\\n          <div class=\"view_box\">\\r\\n            <span class=\"view_box_block\">\\r\\n              <span class=\"img_hidden_a\">\\r\\n                <span class=\"pop_quick_menu\">                \\r\\n                    <a href=\"/academy/books/book_view.html?p_code=B3469288289\"><img src=\"https://www.hanbit.co.kr/images/common/icon_view_detail.png\" alt=\"상세보기\" /></a>\\r\\n                                    </span>\\r\\n                <span class=\"price\">23,000<span>원</span></span>\\r\\n                <span class=\"pop_quick_bg\" onClick=\"location=\\'/academy/books/book_view.html?p_code=B3469288289\\'\"></span>\\r\\n              </span>\\r\\n              <!-- 예약도서인 경우 -->\\r\\n                            <!-- ebook이 도서인 경우 -->\\r\\n              <img src=\"/data/books/B3469288289_m.jpg\" alt=\"\" class=\"thumb\" />\\r\\n            </span>\\r\\n            <div class=\"info\">\\r\\n              <p class=\"book_tit\"><a href=\"/academy/books/book_view.html?p_code=B3469288289\">경제수학 강의&#40;3판&#41;</a></p>\\r\\n              <p class=\"book_writer\">김성현 </p>\\r\\n            </div>\\r\\n          </div>\\r\\n        </li>\\r\\n        <!--\\r\\n        <li class=\"sub_book_list\">\\r\\n          <div class=\"view_box\">\\r\\n            <span class=\"view_box_block\">\\r\\n              <span class=\"img_hidden_a\">\\r\\n                <span class=\"pop_quick_menu\">\\r\\n                  <a href=\"book_view.html\"><img src=\"/images/common/icon_view_detail.png\" alt=\"상세보기\" /></a><a href=\"javascript:;\" onClick=\"add_cart_layer_open(\\'layer_add_cart\\');return false;\"><img src=\"/images/common/icon_add_cart.png\" alt=\"장바구니 담기\" /></a>\\r\\n                </span>\\r\\n                <span class=\"price\">\\\\12,500</span>\\r\\n                <span class=\"star_rate\"></span>\\r\\n                <span style=\"display:none;\">3.5</span>\\r\\n              </span>\\r\\n              <img src=\"https://www.hanbit.co.kr/images/temp/book_life1.jpg\" alt=\"\" class=\"thumb\" />\\r\\n            </span>\\r\\n            <div class=\"info\">\\r\\n              <p class=\"book_tit\"><a href=\"book_view.html\">만들면서 배우는 Git+GitHub 입문</a></p>\\r\\n              <p class=\"book_writer\">마리코 나카무라</p>\\r\\n            </div>\\r\\n          </div>\\r\\n        </li>  \\r\\n        -->\\r\\n            \\r\\n        <li class=\"sub_book_list\">\\r\\n          <div class=\"view_box\">\\r\\n            <span class=\"view_box_block\">\\r\\n              <span class=\"img_hidden_a\">\\r\\n                <span class=\"pop_quick_menu\">                \\r\\n                    <a href=\"/academy/books/book_view.html?p_code=B7971953055\"><img src=\"https://www.hanbit.co.kr/images/common/icon_view_detail.png\" alt=\"상세보기\" /></a>\\r\\n                                    </span>\\r\\n                <span class=\"price\">28,000<span>원</span></span>\\r\\n                <span class=\"pop_quick_bg\" onClick=\"location=\\'/academy/books/book_view.html?p_code=B7971953055\\'\"></span>\\r\\n              </span>\\r\\n              <!-- 예약도서인 경우 -->\\r\\n                            <!-- ebook이 도서인 경우 -->\\r\\n              <img src=\"/data/books/B7971953055_m.jpg\" alt=\"\" class=\"thumb\" />\\r\\n            </span>\\r\\n            <div class=\"info\">\\r\\n              <p class=\"book_tit\"><a href=\"/academy/books/book_view.html?p_code=B7971953055\">글로벌 사회와 리더십&#40;2판&#41;</a></p>\\r\\n              <p class=\"book_writer\">안광현 </p>\\r\\n            </div>\\r\\n          </div>\\r\\n        </li>\\r\\n        <!--\\r\\n        <li class=\"sub_book_list\">\\r\\n          <div class=\"view_box\">\\r\\n            <span class=\"view_box_block\">\\r\\n              <span class=\"img_hidden_a\">\\r\\n                <span class=\"pop_quick_menu\">\\r\\n                  <a href=\"book_view.html\"><img src=\"/images/common/icon_view_detail.png\" alt=\"상세보기\" /></a><a href=\"javascript:;\" onClick=\"add_cart_layer_open(\\'layer_add_cart\\');return false;\"><img src=\"/images/common/icon_add_cart.png\" alt=\"장바구니 담기\" /></a>\\r\\n                </span>\\r\\n                <span class=\"price\">\\\\12,500</span>\\r\\n                <span class=\"star_rate\"></span>\\r\\n                <span style=\"display:none;\">3.5</span>\\r\\n              </span>\\r\\n              <img src=\"https://www.hanbit.co.kr/images/temp/book_life1.jpg\" alt=\"\" class=\"thumb\" />\\r\\n            </span>\\r\\n            <div class=\"info\">\\r\\n              <p class=\"book_tit\"><a href=\"book_view.html\">만들면서 배우는 Git+GitHub 입문</a></p>\\r\\n              <p class=\"book_writer\">마리코 나카무라</p>\\r\\n            </div>\\r\\n          </div>\\r\\n        </li>  \\r\\n        -->\\r\\n            \\r\\n        <li class=\"sub_book_list\">\\r\\n          <div class=\"view_box\">\\r\\n            <span class=\"view_box_block\">\\r\\n              <span class=\"img_hidden_a\">\\r\\n                <span class=\"pop_quick_menu\">                \\r\\n                    <a href=\"/academy/books/book_view.html?p_code=B9032308335\"><img src=\"https://www.hanbit.co.kr/images/common/icon_view_detail.png\" alt=\"상세보기\" /></a>\\r\\n                                    </span>\\r\\n                <span class=\"price\">32,000<span>원</span></span>\\r\\n                <span class=\"pop_quick_bg\" onClick=\"location=\\'/academy/books/book_view.html?p_code=B9032308335\\'\"></span>\\r\\n              </span>\\r\\n              <!-- 예약도서인 경우 -->\\r\\n                            <!-- ebook이 도서인 경우 -->\\r\\n              <img src=\"/data/books/B9032308335_m.jpg\" alt=\"\" class=\"thumb\" />\\r\\n            </span>\\r\\n            <div class=\"info\">\\r\\n              <p class=\"book_tit\"><a href=\"/academy/books/book_view.html?p_code=B9032308335\">행동 재무론</a></p>\\r\\n              <p class=\"book_writer\">고광수 </p>\\r\\n            </div>\\r\\n          </div>\\r\\n        </li>\\r\\n        <!--\\r\\n        <li class=\"sub_book_list\">\\r\\n          <div class=\"view_box\">\\r\\n            <span class=\"view_box_block\">\\r\\n              <span class=\"img_hidden_a\">\\r\\n                <span class=\"pop_quick_menu\">\\r\\n                  <a href=\"book_view.html\"><img src=\"/images/common/icon_view_detail.png\" alt=\"상세보기\" /></a><a href=\"javascript:;\" onClick=\"add_cart_layer_open(\\'layer_add_cart\\');return false;\"><img src=\"/images/common/icon_add_cart.png\" alt=\"장바구니 담기\" /></a>\\r\\n                </span>\\r\\n                <span class=\"price\">\\\\12,500</span>\\r\\n                <span class=\"star_rate\"></span>\\r\\n                <span style=\"display:none;\">3.5</span>\\r\\n              </span>\\r\\n              <img src=\"https://www.hanbit.co.kr/images/temp/book_life1.jpg\" alt=\"\" class=\"thumb\" />\\r\\n            </span>\\r\\n            <div class=\"info\">\\r\\n              <p class=\"book_tit\"><a href=\"book_view.html\">만들면서 배우는 Git+GitHub 입문</a></p>\\r\\n              <p class=\"book_writer\">마리코 나카무라</p>\\r\\n            </div>\\r\\n          </div>\\r\\n        </li>  \\r\\n        -->\\r\\n            \\r\\n        <li class=\"sub_book_list\">\\r\\n          <div class=\"view_box\">\\r\\n            <span class=\"view_box_block\">\\r\\n              <span class=\"img_hidden_a\">\\r\\n                <span class=\"pop_quick_menu\">                \\r\\n                    <a href=\"/academy/books/book_view.html?p_code=B7224713122\"><img src=\"https://www.hanbit.co.kr/images/common/icon_view_detail.png\" alt=\"상세보기\" /></a>\\r\\n                                    </span>\\r\\n                <span class=\"price\">24,000<span>원</span></span>\\r\\n                <span class=\"pop_quick_bg\" onClick=\"location=\\'/academy/books/book_view.html?p_code=B7224713122\\'\"></span>\\r\\n              </span>\\r\\n              <!-- 예약도서인 경우 -->\\r\\n                            <!-- ebook이 도서인 경우 -->\\r\\n              <img src=\"/data/books/B7224713122_m.jpg\" alt=\"\" class=\"thumb\" />\\r\\n            </span>\\r\\n            <div class=\"info\">\\r\\n              <p class=\"book_tit\"><a href=\"/academy/books/book_view.html?p_code=B7224713122\">IT CookBook, 알기 쉽게 해설한 파이썬 with 컴퓨팅 사고력</a></p>\\r\\n              <p class=\"book_writer\">김충석 , 김지연 </p>\\r\\n            </div>\\r\\n          </div>\\r\\n        </li>\\r\\n        <!--\\r\\n        <li class=\"sub_book_list\">\\r\\n          <div class=\"view_box\">\\r\\n            <span class=\"view_box_block\">\\r\\n              <span class=\"img_hidden_a\">\\r\\n                <span class=\"pop_quick_menu\">\\r\\n                  <a href=\"book_view.html\"><img src=\"/images/common/icon_view_detail.png\" alt=\"상세보기\" /></a><a href=\"javascript:;\" onClick=\"add_cart_layer_open(\\'layer_add_cart\\');return false;\"><img src=\"/images/common/icon_add_cart.png\" alt=\"장바구니 담기\" /></a>\\r\\n                </span>\\r\\n                <span class=\"price\">\\\\12,500</span>\\r\\n                <span class=\"star_rate\"></span>\\r\\n                <span style=\"display:none;\">3.5</span>\\r\\n              </span>\\r\\n              <img src=\"https://www.hanbit.co.kr/images/temp/book_life1.jpg\" alt=\"\" class=\"thumb\" />\\r\\n            </span>\\r\\n            <div class=\"info\">\\r\\n              <p class=\"book_tit\"><a href=\"book_view.html\">만들면서 배우는 Git+GitHub 입문</a></p>\\r\\n              <p class=\"book_writer\">마리코 나카무라</p>\\r\\n            </div>\\r\\n          </div>\\r\\n        </li>  \\r\\n        -->\\r\\n            \\r\\n        <li class=\"sub_book_list\">\\r\\n          <div class=\"view_box\">\\r\\n            <span class=\"view_box_block\">\\r\\n              <span class=\"img_hidden_a\">\\r\\n                <span class=\"pop_quick_menu\">                \\r\\n                    <a href=\"/academy/books/book_view.html?p_code=B2271641400\"><img src=\"https://www.hanbit.co.kr/images/common/icon_view_detail.png\" alt=\"상세보기\" /></a>\\r\\n                                    </span>\\r\\n                <span class=\"price\">28,000<span>원</span></span>\\r\\n                <span class=\"pop_quick_bg\" onClick=\"location=\\'/academy/books/book_view.html?p_code=B2271641400\\'\"></span>\\r\\n              </span>\\r\\n              <!-- 예약도서인 경우 -->\\r\\n                            <!-- ebook이 도서인 경우 -->\\r\\n              <img src=\"/data/books/B2271641400_m.jpg\" alt=\"\" class=\"thumb\" />\\r\\n            </span>\\r\\n            <div class=\"info\">\\r\\n              <p class=\"book_tit\"><a href=\"/academy/books/book_view.html?p_code=B2271641400\">MATLAB으로 배우는 공학 수치해석&#40;3판&#41;</a></p>\\r\\n              <p class=\"book_writer\">방성완 </p>\\r\\n            </div>\\r\\n          </div>\\r\\n        </li>\\r\\n        <!--\\r\\n        <li class=\"sub_book_list\">\\r\\n          <div class=\"view_box\">\\r\\n            <span class=\"view_box_block\">\\r\\n              <span class=\"img_hidden_a\">\\r\\n                <span class=\"pop_quick_menu\">\\r\\n                  <a href=\"book_view.html\"><img src=\"/images/common/icon_view_detail.png\" alt=\"상세보기\" /></a><a href=\"javascript:;\" onClick=\"add_cart_layer_open(\\'layer_add_cart\\');return false;\"><img src=\"/images/common/icon_add_cart.png\" alt=\"장바구니 담기\" /></a>\\r\\n                </span>\\r\\n                <span class=\"price\">\\\\12,500</span>\\r\\n                <span class=\"star_rate\"></span>\\r\\n                <span style=\"display:none;\">3.5</span>\\r\\n              </span>\\r\\n              <img src=\"https://www.hanbit.co.kr/images/temp/book_life1.jpg\" alt=\"\" class=\"thumb\" />\\r\\n            </span>\\r\\n            <div class=\"info\">\\r\\n              <p class=\"book_tit\"><a href=\"book_view.html\">만들면서 배우는 Git+GitHub 입문</a></p>\\r\\n              <p class=\"book_writer\">마리코 나카무라</p>\\r\\n            </div>\\r\\n          </div>\\r\\n        </li>  \\r\\n        -->\\r\\n            \\r\\n        <li class=\"sub_book_list\">\\r\\n          <div class=\"view_box\">\\r\\n            <span class=\"view_box_block\">\\r\\n              <span class=\"img_hidden_a\">\\r\\n                <span class=\"pop_quick_menu\">                \\r\\n                    <a href=\"/academy/books/book_view.html?p_code=B3411540576\"><img src=\"https://www.hanbit.co.kr/images/common/icon_view_detail.png\" alt=\"상세보기\" /></a>\\r\\n                                    </span>\\r\\n                <span class=\"price\">34,000<span>원</span></span>\\r\\n                <span class=\"pop_quick_bg\" onClick=\"location=\\'/academy/books/book_view.html?p_code=B3411540576\\'\"></span>\\r\\n              </span>\\r\\n              <!-- 예약도서인 경우 -->\\r\\n                            <!-- ebook이 도서인 경우 -->\\r\\n              <img src=\"/data/books/B3411540576_m.jpg\" alt=\"\" class=\"thumb\" />\\r\\n            </span>\\r\\n            <div class=\"info\">\\r\\n              <p class=\"book_tit\"><a href=\"/academy/books/book_view.html?p_code=B3411540576\">Cengel의 알기 쉬운 열역학&#40;6판&#41;</a></p>\\r\\n              <p class=\"book_writer\">Yunus A. Çengel , John M. Cimbala , Afshin J. Ghajar </p>\\r\\n            </div>\\r\\n          </div>\\r\\n        </li>\\r\\n        <!--\\r\\n        <li class=\"sub_book_list\">\\r\\n          <div class=\"view_box\">\\r\\n            <span class=\"view_box_block\">\\r\\n              <span class=\"img_hidden_a\">\\r\\n                <span class=\"pop_quick_menu\">\\r\\n                  <a href=\"book_view.html\"><img src=\"/images/common/icon_view_detail.png\" alt=\"상세보기\" /></a><a href=\"javascript:;\" onClick=\"add_cart_layer_open(\\'layer_add_cart\\');return false;\"><img src=\"/images/common/icon_add_cart.png\" alt=\"장바구니 담기\" /></a>\\r\\n                </span>\\r\\n                <span class=\"price\">\\\\12,500</span>\\r\\n                <span class=\"star_rate\"></span>\\r\\n                <span style=\"display:none;\">3.5</span>\\r\\n              </span>\\r\\n              <img src=\"https://www.hanbit.co.kr/images/temp/book_life1.jpg\" alt=\"\" class=\"thumb\" />\\r\\n            </span>\\r\\n            <div class=\"info\">\\r\\n              <p class=\"book_tit\"><a href=\"book_view.html\">만들면서 배우는 Git+GitHub 입문</a></p>\\r\\n              <p class=\"book_writer\">마리코 나카무라</p>\\r\\n            </div>\\r\\n          </div>\\r\\n        </li>  \\r\\n        -->\\r\\n            \\r\\n        <li class=\"sub_book_list\">\\r\\n          <div class=\"view_box\">\\r\\n            <span class=\"view_box_block\">\\r\\n              <span class=\"img_hidden_a\">\\r\\n                <span class=\"pop_quick_menu\">                \\r\\n                    <a href=\"/academy/books/book_view.html?p_code=B6426315656\"><img src=\"https://www.hanbit.co.kr/images/common/icon_view_detail.png\" alt=\"상세보기\" /></a>\\r\\n                                    </span>\\r\\n                <span class=\"price\">34,000<span>원</span></span>\\r\\n                <span class=\"pop_quick_bg\" onClick=\"location=\\'/academy/books/book_view.html?p_code=B6426315656\\'\"></span>\\r\\n              </span>\\r\\n              <!-- 예약도서인 경우 -->\\r\\n                            <!-- ebook이 도서인 경우 -->\\r\\n              <img src=\"/data/books/B6426315656_m.jpg\" alt=\"\" class=\"thumb\" />\\r\\n            </span>\\r\\n            <div class=\"info\">\\r\\n              <p class=\"book_tit\"><a href=\"/academy/books/book_view.html?p_code=B6426315656\">Cengel의 알기 쉬운 열전달&#40;6판&#41;</a></p>\\r\\n              <p class=\"book_writer\">Yunus A. Çengel , John M. Cimbala , Afshin J. Ghajar </p>\\r\\n            </div>\\r\\n          </div>\\r\\n        </li>\\r\\n        <!--\\r\\n        <li class=\"sub_book_list\">\\r\\n          <div class=\"view_box\">\\r\\n            <span class=\"view_box_block\">\\r\\n              <span class=\"img_hidden_a\">\\r\\n                <span class=\"pop_quick_menu\">\\r\\n                  <a href=\"book_view.html\"><img src=\"/images/common/icon_view_detail.png\" alt=\"상세보기\" /></a><a href=\"javascript:;\" onClick=\"add_cart_layer_open(\\'layer_add_cart\\');return false;\"><img src=\"/images/common/icon_add_cart.png\" alt=\"장바구니 담기\" /></a>\\r\\n                </span>\\r\\n                <span class=\"price\">\\\\12,500</span>\\r\\n                <span class=\"star_rate\"></span>\\r\\n                <span style=\"display:none;\">3.5</span>\\r\\n              </span>\\r\\n              <img src=\"https://www.hanbit.co.kr/images/temp/book_life1.jpg\" alt=\"\" class=\"thumb\" />\\r\\n            </span>\\r\\n            <div class=\"info\">\\r\\n              <p class=\"book_tit\"><a href=\"book_view.html\">만들면서 배우는 Git+GitHub 입문</a></p>\\r\\n              <p class=\"book_writer\">마리코 나카무라</p>\\r\\n            </div>\\r\\n          </div>\\r\\n        </li>  \\r\\n        -->\\r\\n            \\r\\n        <li class=\"sub_book_list\">\\r\\n          <div class=\"view_box\">\\r\\n            <span class=\"view_box_block\">\\r\\n              <span class=\"img_hidden_a\">\\r\\n                <span class=\"pop_quick_menu\">                \\r\\n                    <a href=\"/academy/books/book_view.html?p_code=B1299451650\"><img src=\"https://www.hanbit.co.kr/images/common/icon_view_detail.png\" alt=\"상세보기\" /></a>\\r\\n                                    </span>\\r\\n                <span class=\"price\">30,000<span>원</span></span>\\r\\n                <span class=\"pop_quick_bg\" onClick=\"location=\\'/academy/books/book_view.html?p_code=B1299451650\\'\"></span>\\r\\n              </span>\\r\\n              <!-- 예약도서인 경우 -->\\r\\n                            <!-- ebook이 도서인 경우 -->\\r\\n              <img src=\"/data/books/B1299451650_m.jpg\" alt=\"\" class=\"thumb\" />\\r\\n            </span>\\r\\n            <div class=\"info\">\\r\\n              <p class=\"book_tit\"><a href=\"/academy/books/book_view.html?p_code=B1299451650\">IT CookBook, 알기 쉽게 해설한 자바 프로그래밍&#40;10판&#41;</a></p>\\r\\n              <p class=\"book_writer\">김충석 </p>\\r\\n            </div>\\r\\n          </div>\\r\\n        </li>\\r\\n        <!--\\r\\n        <li class=\"sub_book_list\">\\r\\n          <div class=\"view_box\">\\r\\n            <span class=\"view_box_block\">\\r\\n              <span class=\"img_hidden_a\">\\r\\n                <span class=\"pop_quick_menu\">\\r\\n                  <a href=\"book_view.html\"><img src=\"/images/common/icon_view_detail.png\" alt=\"상세보기\" /></a><a href=\"javascript:;\" onClick=\"add_cart_layer_open(\\'layer_add_cart\\');return false;\"><img src=\"/images/common/icon_add_cart.png\" alt=\"장바구니 담기\" /></a>\\r\\n                </span>\\r\\n                <span class=\"price\">\\\\12,500</span>\\r\\n                <span class=\"star_rate\"></span>\\r\\n                <span style=\"display:none;\">3.5</span>\\r\\n              </span>\\r\\n              <img src=\"https://www.hanbit.co.kr/images/temp/book_life1.jpg\" alt=\"\" class=\"thumb\" />\\r\\n            </span>\\r\\n            <div class=\"info\">\\r\\n              <p class=\"book_tit\"><a href=\"book_view.html\">만들면서 배우는 Git+GitHub 입문</a></p>\\r\\n              <p class=\"book_writer\">마리코 나카무라</p>\\r\\n            </div>\\r\\n          </div>\\r\\n        </li>  \\r\\n        -->\\r\\n            \\r\\n        <li class=\"sub_book_list\">\\r\\n          <div class=\"view_box\">\\r\\n            <span class=\"view_box_block\">\\r\\n              <span class=\"img_hidden_a\">\\r\\n                <span class=\"pop_quick_menu\">                \\r\\n                    <a href=\"/academy/books/book_view.html?p_code=B6340643222\"><img src=\"https://www.hanbit.co.kr/images/common/icon_view_detail.png\" alt=\"상세보기\" /></a>\\r\\n                                    </span>\\r\\n                <span class=\"price\">39,000<span>원</span></span>\\r\\n                <span class=\"pop_quick_bg\" onClick=\"location=\\'/academy/books/book_view.html?p_code=B6340643222\\'\"></span>\\r\\n              </span>\\r\\n              <!-- 예약도서인 경우 -->\\r\\n                            <!-- ebook이 도서인 경우 -->\\r\\n              <img src=\"/data/books/B6340643222_m.jpg\" alt=\"\" class=\"thumb\" />\\r\\n            </span>\\r\\n            <div class=\"info\">\\r\\n              <p class=\"book_tit\"><a href=\"/academy/books/book_view.html?p_code=B6340643222\">IT CookBook, 비즈니스 애널리틱스를 위한 데이터 마이닝</a></p>\\r\\n              <p class=\"book_writer\">Galit Shmueli , Peter C. Bruce , Peter Gedeck , Nitin R. Patel </p>\\r\\n            </div>\\r\\n          </div>\\r\\n        </li>\\r\\n        <!--\\r\\n        <li class=\"sub_book_list\">\\r\\n          <div class=\"view_box\">\\r\\n            <span class=\"view_box_block\">\\r\\n              <span class=\"img_hidden_a\">\\r\\n                <span class=\"pop_quick_menu\">\\r\\n                  <a href=\"book_view.html\"><img src=\"/images/common/icon_view_detail.png\" alt=\"상세보기\" /></a><a href=\"javascript:;\" onClick=\"add_cart_layer_open(\\'layer_add_cart\\');return false;\"><img src=\"/images/common/icon_add_cart.png\" alt=\"장바구니 담기\" /></a>\\r\\n                </span>\\r\\n                <span class=\"price\">\\\\12,500</span>\\r\\n                <span class=\"star_rate\"></span>\\r\\n                <span style=\"display:none;\">3.5</span>\\r\\n              </span>\\r\\n              <img src=\"https://www.hanbit.co.kr/images/temp/book_life1.jpg\" alt=\"\" class=\"thumb\" />\\r\\n            </span>\\r\\n            <div class=\"info\">\\r\\n              <p class=\"book_tit\"><a href=\"book_view.html\">만들면서 배우는 Git+GitHub 입문</a></p>\\r\\n              <p class=\"book_writer\">마리코 나카무라</p>\\r\\n            </div>\\r\\n          </div>\\r\\n        </li>  \\r\\n        -->\\r\\n            \\r\\n        <li class=\"sub_book_list\">\\r\\n          <div class=\"view_box\">\\r\\n            <span class=\"view_box_block\">\\r\\n              <span class=\"img_hidden_a\">\\r\\n                <span class=\"pop_quick_menu\">                \\r\\n                    <a href=\"/academy/books/book_view.html?p_code=B7388617442\"><img src=\"https://www.hanbit.co.kr/images/common/icon_view_detail.png\" alt=\"상세보기\" /></a>\\r\\n                                    </span>\\r\\n                <span class=\"price\">35,000<span>원</span></span>\\r\\n                <span class=\"pop_quick_bg\" onClick=\"location=\\'/academy/books/book_view.html?p_code=B7388617442\\'\"></span>\\r\\n              </span>\\r\\n              <!-- 예약도서인 경우 -->\\r\\n                            <!-- ebook이 도서인 경우 -->\\r\\n              <img src=\"/data/books/B7388617442_m.jpg\" alt=\"\" class=\"thumb\" />\\r\\n            </span>\\r\\n            <div class=\"info\">\\r\\n              <p class=\"book_tit\"><a href=\"/academy/books/book_view.html?p_code=B7388617442\">현대경영과학&#40;9판&#41;</a></p>\\r\\n              <p class=\"book_writer\">김세헌 </p>\\r\\n            </div>\\r\\n          </div>\\r\\n        </li>\\r\\n        <!--\\r\\n        <li class=\"sub_book_list\">\\r\\n          <div class=\"view_box\">\\r\\n            <span class=\"view_box_block\">\\r\\n              <span class=\"img_hidden_a\">\\r\\n                <span class=\"pop_quick_menu\">\\r\\n                  <a href=\"book_view.html\"><img src=\"/images/common/icon_view_detail.png\" alt=\"상세보기\" /></a><a href=\"javascript:;\" onClick=\"add_cart_layer_open(\\'layer_add_cart\\');return false;\"><img src=\"/images/common/icon_add_cart.png\" alt=\"장바구니 담기\" /></a>\\r\\n                </span>\\r\\n                <span class=\"price\">\\\\12,500</span>\\r\\n                <span class=\"star_rate\"></span>\\r\\n                <span style=\"display:none;\">3.5</span>\\r\\n              </span>\\r\\n              <img src=\"https://www.hanbit.co.kr/images/temp/book_life1.jpg\" alt=\"\" class=\"thumb\" />\\r\\n            </span>\\r\\n            <div class=\"info\">\\r\\n              <p class=\"book_tit\"><a href=\"book_view.html\">만들면서 배우는 Git+GitHub 입문</a></p>\\r\\n              <p class=\"book_writer\">마리코 나카무라</p>\\r\\n            </div>\\r\\n          </div>\\r\\n        </li>  \\r\\n        -->\\r\\n            \\r\\n        <li class=\"sub_book_list\">\\r\\n          <div class=\"view_box\">\\r\\n            <span class=\"view_box_block\">\\r\\n              <span class=\"img_hidden_a\">\\r\\n                <span class=\"pop_quick_menu\">                \\r\\n                    <a href=\"/academy/books/book_view.html?p_code=B1626092786\"><img src=\"https://www.hanbit.co.kr/images/common/icon_view_detail.png\" alt=\"상세보기\" /></a>\\r\\n                                    </span>\\r\\n                <span class=\"price\">32,000<span>원</span></span>\\r\\n                <span class=\"pop_quick_bg\" onClick=\"location=\\'/academy/books/book_view.html?p_code=B1626092786\\'\"></span>\\r\\n              </span>\\r\\n              <!-- 예약도서인 경우 -->\\r\\n                            <!-- ebook이 도서인 경우 -->\\r\\n              <img src=\"/data/books/B1626092786_m.jpg\" alt=\"\" class=\"thumb\" />\\r\\n            </span>\\r\\n            <div class=\"info\">\\r\\n              <p class=\"book_tit\"><a href=\"/academy/books/book_view.html?p_code=B1626092786\">IT CookBook, 네트워크 해킹과 보안&#40;4판&#41;</a></p>\\r\\n              <p class=\"book_writer\">양대일 , 홍성혁 </p>\\r\\n            </div>\\r\\n          </div>\\r\\n        </li>\\r\\n        <!--\\r\\n        <li class=\"sub_book_list\">\\r\\n          <div class=\"view_box\">\\r\\n            <span class=\"view_box_block\">\\r\\n              <span class=\"img_hidden_a\">\\r\\n                <span class=\"pop_quick_menu\">\\r\\n                  <a href=\"book_view.html\"><img src=\"/images/common/icon_view_detail.png\" alt=\"상세보기\" /></a><a href=\"javascript:;\" onClick=\"add_cart_layer_open(\\'layer_add_cart\\');return false;\"><img src=\"/images/common/icon_add_cart.png\" alt=\"장바구니 담기\" /></a>\\r\\n                </span>\\r\\n                <span class=\"price\">\\\\12,500</span>\\r\\n                <span class=\"star_rate\"></span>\\r\\n                <span style=\"display:none;\">3.5</span>\\r\\n              </span>\\r\\n              <img src=\"https://www.hanbit.co.kr/images/temp/book_life1.jpg\" alt=\"\" class=\"thumb\" />\\r\\n            </span>\\r\\n            <div class=\"info\">\\r\\n              <p class=\"book_tit\"><a href=\"book_view.html\">만들면서 배우는 Git+GitHub 입문</a></p>\\r\\n              <p class=\"book_writer\">마리코 나카무라</p>\\r\\n            </div>\\r\\n          </div>\\r\\n        </li>  \\r\\n        -->\\r\\n            \\r\\n        <li class=\"sub_book_list\">\\r\\n          <div class=\"view_box\">\\r\\n            <span class=\"view_box_block\">\\r\\n              <span class=\"img_hidden_a\">\\r\\n                <span class=\"pop_quick_menu\">                \\r\\n                    <a href=\"/academy/books/book_view.html?p_code=B5351150617\"><img src=\"https://www.hanbit.co.kr/images/common/icon_view_detail.png\" alt=\"상세보기\" /></a>\\r\\n                                    </span>\\r\\n                <span class=\"price\">32,000<span>원</span></span>\\r\\n                <span class=\"pop_quick_bg\" onClick=\"location=\\'/academy/books/book_view.html?p_code=B5351150617\\'\"></span>\\r\\n              </span>\\r\\n              <!-- 예약도서인 경우 -->\\r\\n                            <!-- ebook이 도서인 경우 -->\\r\\n              <img src=\"/data/books/B5351150617_m.jpg\" alt=\"\" class=\"thumb\" />\\r\\n            </span>\\r\\n            <div class=\"info\">\\r\\n              <p class=\"book_tit\"><a href=\"/academy/books/book_view.html?p_code=B5351150617\">IT CookBook, 쉽게 배우는 운영체제&#40;2판&#41;</a></p>\\r\\n              <p class=\"book_writer\">조성호 </p>\\r\\n            </div>\\r\\n          </div>\\r\\n        </li>\\r\\n        <!--\\r\\n        <li class=\"sub_book_list\">\\r\\n          <div class=\"view_box\">\\r\\n            <span class=\"view_box_block\">\\r\\n              <span class=\"img_hidden_a\">\\r\\n                <span class=\"pop_quick_menu\">\\r\\n                  <a href=\"book_view.html\"><img src=\"/images/common/icon_view_detail.png\" alt=\"상세보기\" /></a><a href=\"javascript:;\" onClick=\"add_cart_layer_open(\\'layer_add_cart\\');return false;\"><img src=\"/images/common/icon_add_cart.png\" alt=\"장바구니 담기\" /></a>\\r\\n                </span>\\r\\n                <span class=\"price\">\\\\12,500</span>\\r\\n                <span class=\"star_rate\"></span>\\r\\n                <span style=\"display:none;\">3.5</span>\\r\\n              </span>\\r\\n              <img src=\"https://www.hanbit.co.kr/images/temp/book_life1.jpg\" alt=\"\" class=\"thumb\" />\\r\\n            </span>\\r\\n            <div class=\"info\">\\r\\n              <p class=\"book_tit\"><a href=\"book_view.html\">만들면서 배우는 Git+GitHub 입문</a></p>\\r\\n              <p class=\"book_writer\">마리코 나카무라</p>\\r\\n            </div>\\r\\n          </div>\\r\\n        </li>  \\r\\n        -->\\r\\n            \\r\\n        <li class=\"sub_book_list\">\\r\\n          <div class=\"view_box\">\\r\\n            <span class=\"view_box_block\">\\r\\n              <span class=\"img_hidden_a\">\\r\\n                <span class=\"pop_quick_menu\">                \\r\\n                    <a href=\"/academy/books/book_view.html?p_code=B7099909363\"><img src=\"https://www.hanbit.co.kr/images/common/icon_view_detail.png\" alt=\"상세보기\" /></a>\\r\\n                                    </span>\\r\\n                <span class=\"price\">34,000<span>원</span></span>\\r\\n                <span class=\"pop_quick_bg\" onClick=\"location=\\'/academy/books/book_view.html?p_code=B7099909363\\'\"></span>\\r\\n              </span>\\r\\n              <!-- 예약도서인 경우 -->\\r\\n                            <!-- ebook이 도서인 경우 -->\\r\\n              <img src=\"/data/books/B7099909363_m.jpg\" alt=\"\" class=\"thumb\" />\\r\\n            </span>\\r\\n            <div class=\"info\">\\r\\n              <p class=\"book_tit\"><a href=\"/academy/books/book_view.html?p_code=B7099909363\">IT CookBook, Android Studio를 활용한 안드로이드 프로그래밍&#40;8판&#41;</a></p>\\r\\n              <p class=\"book_writer\">우재남 , 박길식 </p>\\r\\n            </div>\\r\\n          </div>\\r\\n        </li>\\r\\n        <!--\\r\\n        <li class=\"sub_book_list\">\\r\\n          <div class=\"view_box\">\\r\\n            <span class=\"view_box_block\">\\r\\n              <span class=\"img_hidden_a\">\\r\\n                <span class=\"pop_quick_menu\">\\r\\n                  <a href=\"book_view.html\"><img src=\"/images/common/icon_view_detail.png\" alt=\"상세보기\" /></a><a href=\"javascript:;\" onClick=\"add_cart_layer_open(\\'layer_add_cart\\');return false;\"><img src=\"/images/common/icon_add_cart.png\" alt=\"장바구니 담기\" /></a>\\r\\n                </span>\\r\\n                <span class=\"price\">\\\\12,500</span>\\r\\n                <span class=\"star_rate\"></span>\\r\\n                <span style=\"display:none;\">3.5</span>\\r\\n              </span>\\r\\n              <img src=\"https://www.hanbit.co.kr/images/temp/book_life1.jpg\" alt=\"\" class=\"thumb\" />\\r\\n            </span>\\r\\n            <div class=\"info\">\\r\\n              <p class=\"book_tit\"><a href=\"book_view.html\">만들면서 배우는 Git+GitHub 입문</a></p>\\r\\n              <p class=\"book_writer\">마리코 나카무라</p>\\r\\n            </div>\\r\\n          </div>\\r\\n        </li>  \\r\\n        -->\\r\\n            \\r\\n        <li class=\"sub_book_list\">\\r\\n          <div class=\"view_box\">\\r\\n            <span class=\"view_box_block\">\\r\\n              <span class=\"img_hidden_a\">\\r\\n                <span class=\"pop_quick_menu\">                \\r\\n                    <a href=\"/academy/books/book_view.html?p_code=B5620881464\"><img src=\"https://www.hanbit.co.kr/images/common/icon_view_detail.png\" alt=\"상세보기\" /></a>\\r\\n                                    </span>\\r\\n                <span class=\"price\">35,000<span>원</span></span>\\r\\n                <span class=\"pop_quick_bg\" onClick=\"location=\\'/academy/books/book_view.html?p_code=B5620881464\\'\"></span>\\r\\n              </span>\\r\\n              <!-- 예약도서인 경우 -->\\r\\n                            <!-- ebook이 도서인 경우 -->\\r\\n              <img src=\"/data/books/B5620881464_m.jpg\" alt=\"\" class=\"thumb\" />\\r\\n            </span>\\r\\n            <div class=\"info\">\\r\\n              <p class=\"book_tit\"><a href=\"/academy/books/book_view.html?p_code=B5620881464\">STEM CookBook, 전기 및 하이브리드 자동차&#40;3판&#41;</a></p>\\r\\n              <p class=\"book_writer\">Iqbal Husain </p>\\r\\n            </div>\\r\\n          </div>\\r\\n        </li>\\r\\n        <!--\\r\\n        <li class=\"sub_book_list\">\\r\\n          <div class=\"view_box\">\\r\\n            <span class=\"view_box_block\">\\r\\n              <span class=\"img_hidden_a\">\\r\\n                <span class=\"pop_quick_menu\">\\r\\n                  <a href=\"book_view.html\"><img src=\"/images/common/icon_view_detail.png\" alt=\"상세보기\" /></a><a href=\"javascript:;\" onClick=\"add_cart_layer_open(\\'layer_add_cart\\');return false;\"><img src=\"/images/common/icon_add_cart.png\" alt=\"장바구니 담기\" /></a>\\r\\n                </span>\\r\\n                <span class=\"price\">\\\\12,500</span>\\r\\n                <span class=\"star_rate\"></span>\\r\\n                <span style=\"display:none;\">3.5</span>\\r\\n              </span>\\r\\n              <img src=\"https://www.hanbit.co.kr/images/temp/book_life1.jpg\" alt=\"\" class=\"thumb\" />\\r\\n            </span>\\r\\n            <div class=\"info\">\\r\\n              <p class=\"book_tit\"><a href=\"book_view.html\">만들면서 배우는 Git+GitHub 입문</a></p>\\r\\n              <p class=\"book_writer\">마리코 나카무라</p>\\r\\n            </div>\\r\\n          </div>\\r\\n        </li>  \\r\\n        -->\\r\\n            \\r\\n        <li class=\"sub_book_list\">\\r\\n          <div class=\"view_box\">\\r\\n            <span class=\"view_box_block\">\\r\\n              <span class=\"img_hidden_a\">\\r\\n                <span class=\"pop_quick_menu\">                \\r\\n                    <a href=\"/academy/books/book_view.html?p_code=B8870109394\"><img src=\"https://www.hanbit.co.kr/images/common/icon_view_detail.png\" alt=\"상세보기\" /></a>\\r\\n                                    </span>\\r\\n                <span class=\"price\">39,000<span>원</span></span>\\r\\n                <span class=\"pop_quick_bg\" onClick=\"location=\\'/academy/books/book_view.html?p_code=B8870109394\\'\"></span>\\r\\n              </span>\\r\\n              <!-- 예약도서인 경우 -->\\r\\n                            <!-- ebook이 도서인 경우 -->\\r\\n              <img src=\"/data/books/B8870109394_m.jpg\" alt=\"\" class=\"thumb\" />\\r\\n            </span>\\r\\n            <div class=\"info\">\\r\\n              <p class=\"book_tit\"><a href=\"/academy/books/book_view.html?p_code=B8870109394\">IT CookBook, 컴퓨터 비전과 딥러닝</a></p>\\r\\n              <p class=\"book_writer\">오일석 </p>\\r\\n            </div>\\r\\n          </div>\\r\\n        </li>\\r\\n        <!--\\r\\n        <li class=\"sub_book_list\">\\r\\n          <div class=\"view_box\">\\r\\n            <span class=\"view_box_block\">\\r\\n              <span class=\"img_hidden_a\">\\r\\n                <span class=\"pop_quick_menu\">\\r\\n                  <a href=\"book_view.html\"><img src=\"/images/common/icon_view_detail.png\" alt=\"상세보기\" /></a><a href=\"javascript:;\" onClick=\"add_cart_layer_open(\\'layer_add_cart\\');return false;\"><img src=\"/images/common/icon_add_cart.png\" alt=\"장바구니 담기\" /></a>\\r\\n                </span>\\r\\n                <span class=\"price\">\\\\12,500</span>\\r\\n                <span class=\"star_rate\"></span>\\r\\n                <span style=\"display:none;\">3.5</span>\\r\\n              </span>\\r\\n              <img src=\"https://www.hanbit.co.kr/images/temp/book_life1.jpg\" alt=\"\" class=\"thumb\" />\\r\\n            </span>\\r\\n            <div class=\"info\">\\r\\n              <p class=\"book_tit\"><a href=\"book_view.html\">만들면서 배우는 Git+GitHub 입문</a></p>\\r\\n              <p class=\"book_writer\">마리코 나카무라</p>\\r\\n            </div>\\r\\n          </div>\\r\\n        </li>  \\r\\n        -->\\r\\n            \\r\\n        <li class=\"sub_book_list\">\\r\\n          <div class=\"view_box\">\\r\\n            <span class=\"view_box_block\">\\r\\n              <span class=\"img_hidden_a\">\\r\\n                <span class=\"pop_quick_menu\">                \\r\\n                    <a href=\"/academy/books/book_view.html?p_code=B1459262097\"><img src=\"https://www.hanbit.co.kr/images/common/icon_view_detail.png\" alt=\"상세보기\" /></a>\\r\\n                                    </span>\\r\\n                <span class=\"price\">36,000<span>원</span></span>\\r\\n                <span class=\"pop_quick_bg\" onClick=\"location=\\'/academy/books/book_view.html?p_code=B1459262097\\'\"></span>\\r\\n              </span>\\r\\n              <!-- 예약도서인 경우 -->\\r\\n                            <!-- ebook이 도서인 경우 -->\\r\\n              <img src=\"/data/books/B1459262097_m.jpg\" alt=\"\" class=\"thumb\" />\\r\\n            </span>\\r\\n            <div class=\"info\">\\r\\n              <p class=\"book_tit\"><a href=\"/academy/books/book_view.html?p_code=B1459262097\">리더십 : 이론과 실제 &#40;9판&#41;</a></p>\\r\\n              <p class=\"book_writer\">Peter G. Northouse </p>\\r\\n            </div>\\r\\n          </div>\\r\\n        </li>\\r\\n        <!--\\r\\n        <li class=\"sub_book_list\">\\r\\n          <div class=\"view_box\">\\r\\n            <span class=\"view_box_block\">\\r\\n              <span class=\"img_hidden_a\">\\r\\n                <span class=\"pop_quick_menu\">\\r\\n                  <a href=\"book_view.html\"><img src=\"/images/common/icon_view_detail.png\" alt=\"상세보기\" /></a><a href=\"javascript:;\" onClick=\"add_cart_layer_open(\\'layer_add_cart\\');return false;\"><img src=\"/images/common/icon_add_cart.png\" alt=\"장바구니 담기\" /></a>\\r\\n                </span>\\r\\n                <span class=\"price\">\\\\12,500</span>\\r\\n                <span class=\"star_rate\"></span>\\r\\n                <span style=\"display:none;\">3.5</span>\\r\\n              </span>\\r\\n              <img src=\"https://www.hanbit.co.kr/images/temp/book_life1.jpg\" alt=\"\" class=\"thumb\" />\\r\\n            </span>\\r\\n            <div class=\"info\">\\r\\n              <p class=\"book_tit\"><a href=\"book_view.html\">만들면서 배우는 Git+GitHub 입문</a></p>\\r\\n              <p class=\"book_writer\">마리코 나카무라</p>\\r\\n            </div>\\r\\n          </div>\\r\\n        </li>  \\r\\n        -->\\r\\n              </ul>\\r\\n    </div>\\r\\n    <!-- //책 리스트 -->\\r\\n    \\r\\n    <!-- 페이징 -->\\r\\n    <div class=\"paginate\">\\r\\n      <strong>1</strong>\\n<a href=\"/academy/books/new_book_list.html?page=2&cate_cd=&srt=&searchKey=&keyWord=\">2</a>\\n<a href=\"/academy/books/new_book_list.html?page=3&cate_cd=&srt=&searchKey=&keyWord=\">3</a>\\n<a href=\"/academy/books/new_book_list.html?page=4&cate_cd=&srt=&searchKey=&keyWord=\">4</a>\\n<a href=\"/academy/books/new_book_list.html?page=5&cate_cd=&srt=&searchKey=&keyWord=\">5</a>\\n<a href=\"/academy/books/new_book_list.html?page=6&cate_cd=&srt=&searchKey=&keyWord=\">6</a>\\n<a href=\"/academy/books/new_book_list.html?page=7&cate_cd=&srt=&searchKey=&keyWord=\">7</a>\\n<a href=\"/academy/books/new_book_list.html?page=8&cate_cd=&srt=&searchKey=&keyWord=\">8</a>\\n<a href=\"/academy/books/new_book_list.html?page=9&cate_cd=&srt=&searchKey=&keyWord=\">9</a>\\n<a href=\"/academy/books/new_book_list.html?page=10&cate_cd=&srt=&searchKey=&keyWord=\">10</a>\\n<a href=\"/academy/books/new_book_list.html?page=11&cate_cd=&srt=&searchKey=&keyWord=\" class=\"next\"><span>&gt;</span></a>\\n    </div>\\r\\n    <!-- //페이징 -->\\r\\n    \\r\\n  </div>\\r\\n  <!-- //새로나온 책 wrap -->\\r\\n  \\r\\n  <!-- 카트 담기 레이어 팝업 -->\\r\\n  \\t<div class=\"add_cart_layer\">\\r\\n\\t\\t<div class=\"bg\"></div>\\r\\n\\t\\t<div class=\"add_cart_pop-layer\" id=\"layer_add_cart\">\\r\\n\\t\\t\\t<div class=\"pop-container\">\\r\\n\\t\\t\\t\\t<div class=\"pop-conts\">\\r\\n\\t\\t\\t\\t\\t\\r\\n\\t\\t\\t\\t\\t<!--content //-->\\r\\n\\t\\t\\t\\t\\t<div class=\"close\"><a class=\"cbtn\" href=\"javascript:;\" onClick=\"\"><img src=\"https://www.hanbit.co.kr/images/common/icon_close.png\" width=\"38\" height=\"38\" alt=\"닫기\" /></a></div>\\r\\n\\t\\t\\t\\t\\t<p class=\"ctxt\"><span id=\\'cartmsg\\'>해당 상품을 장바구니에 담았습니다.</span><span id=\\'cartmsg2\\'>이미 장바구니에 추가된 상품입니다.</span><br />장바구니로 이동하시겠습니까?</p>\\r\\n\\t\\t\\t\\t\\t<div class=\"btn_layer\">\\r\\n\\t\\t\\t\\t\\t\\t<a href=\"/myhanbit/cart.html\">장바구니<br />이동</a>\\r\\n\\t\\t\\t\\t\\t\\t<!--<a href=\"javascript:;\" onClick=\"$(\\'.add_cart_layer\\').hide();\">쇼핑<br />계속</a>-->\\r\\n\\t\\t\\t\\t\\t\\t<a class=\"cbtn\" href=\"javascript:;\" onClick=\"\">쇼핑<br />계속</a>\\r\\n\\t\\t\\t\\t\\t</div>\\r\\n\\t\\t\\t\\t\\t<!--// content-->\\r\\n\\t\\t\\t\\t\\t\\r\\n\\t\\t\\t\\t</div>\\r\\n\\t\\t\\t</div>\\r\\n\\t\\t</div>\\r\\n\\t</div>  <!-- //카트 담기 레이어 팝업 --> \\r\\n</div>\\r\\n<!-- //Contents -->\\r\\n\\r\\n\\r\\n<!-- Footer -->\\r\\n<footer>\\r\\n  <!-- 공지사항 -->\\r\\n    <div class=\"foot_notice\" style=\"height:6px;\"></div>    <!-- //공지사항 -->\\r\\n  \\r\\n  <div class=\"foot_contents\">\\r\\n    <!-- 하단 메뉴 -->\\r\\n    <div class=\"foot_menu\">\\r\\n      <!-- added by coffin -->\\r\\n            <ul>\\r\\n        <li><a href=\"https://www.hanbit.co.kr/publisher/index.html\" target=\"_blank\">회사소개</a>(<a href=\"https://www.hanbit.co.kr/publisher/index.html\" target=\"_blank\">KOR</a> | <a href=\"https://www.hanbit.co.kr/publisher/index.html?lang=e\" target=\"_blank\">ENG</a>) &#149; <a href=\"https://www.hanbit.co.kr/publisher/contact.html?lang=k\" target=\"_blank\">약도</a></li>\\r\\n        <li><a href=\"https://www.hanbit.co.kr/publisher/write.html\" target=\"_blank\">기획 및 원고 모집</a></li>\\r\\n        <li><a href=\"https://www.hanbit.co.kr/publisher/career.html\" target=\"_blank\">채용</a> &#149; 입사지원 <a href=\"mailto:jobs@hanbit.co.kr\">jobs@hanbit.co.kr</a></li>\\r\\n        <li><a href=\"https://www.hanbit.co.kr/publisher/foreignrights.html\" target=\"_blank\">FOREIGN RIGHTS</a></li>\\r\\n        <li><a href=\"https://www.hanbit.co.kr/member/use_agreement.html\">이용약관</a> &#149; <a href=\"https://www.hanbit.co.kr/member/privacy_policy.html\"><strong>개인정보처리방침</strong></a></li>\\r\\n        <li><a href=\"https://www.hanbit.co.kr/sitemap/sitemap.html\">사이트맵</a></li>\\r\\n      </ul>\\r\\n          </div>\\r\\n    <!-- //하단 메뉴 -->\\r\\n\\r\\n    <!-- SNS -->\\r\\n    <div class=\"foot_sns\">\\r\\n            \\r\\n      <ul>\\r\\n        <li class=\"foot_facebook\"><a href=\"https://www.facebook.com/hanbitacademy/\" target=\"_blank\"><span>페이스북</span></a></li>\\r\\n        <li class=\"foot_youtube\"><a href=\"https://www.youtube.com/channel/UCHfxmM0R8HZDJQoBOFkpDKA\" target=\"_blank\"><span>유튜브</span></a></li>\\r\\n      </ul>\\r\\n      \\r\\n           \\r\\n     \\r\\n        <fieldset class=\"foot_srch\">\\r\\n          <legend>하단 검색영역</legend>\\r\\n          <input title=\"검색어\" class=\"foot_srch_keyword\" accesskey=\"s\" type=\"text\" value=\"\"  id=\"foot_keyword_str\" style=\"font-size:16px;\">\\r\\n          <input type=\"button\" alt=\"\" class=\"foot_srch_btn\" onclick=\"foot_sch_smit();\" style=\"cursor: pointer;\">\\r\\n        </fieldset>\\r\\n\\r\\n      <script>\\r\\n        $(document).ready(function() {       \\r\\n          $(\\'#foot_keyword_str\\').keyup(function(e) {\\r\\n            if (e.keyCode == 13) \\r\\n              foot_sch_smit();\\r\\n          });        \\r\\n        });\\r\\n\\r\\n        function foot_sch_smit(){            \\r\\n          var foot_keyword_str = $(\"#foot_keyword_str\").val();      \\r\\n          var searchUrl = \"/search/search_list.html?keyword=\"+foot_keyword_str;\\r\\n\\r\\n          if(!foot_keyword_str){\\r\\n            alert(\"검색어를 입력해주세요\");\\r\\n            $(\"#foot_keyword_str\").focus();\\r\\n          }else{\\r\\n            location.href = searchUrl;\\r\\n          }\\r\\n        }\\r\\n      </script>  \\r\\n          </div>\\r\\n    <!-- //SNS -->\\r\\n    \\r\\n    <!-- 한빛 정보 -->\\r\\n    <div class=\"foot_about\">\\r\\n      <div class=\"foot_about_area\">\\r\\n        \\r\\n      \\r\\n        <p>한빛아카데미㈜</p>\\r\\n        <p>(03785) 서울 서대문구 연희로2길 62 2층</p>\\r\\n        <p>TEL : 02-336-7112 / FAX : 02-336-7199</p>\\r\\n        <p>대표이사 : 전태호</p>\\r\\n        <p>사업자등록번호 : 105-87-81648</p>\\r\\n\\r\\n        \\r\\n\\r\\n      </div>\\r\\n    </div>\\r\\n    <!-- //한빛 정보 -->\\r\\n  </div>\\r\\n  \\r\\n  <div class=\"copyright\">&copy;1993-2023 Hanbit Publishing Network, Inc. All rights reserved.</div>\\r\\n</footer>\\r\\n<!-- //푸터 -->\\r\\n<div class=\"foot_download_btn\"><a href=\"https://www.hanbit.co.kr/support/supplement_list.html\">자료실</a></div>\\r\\n\\r\\n<!-- 공통 JS 호출 -->\\r\\n<script type=\"text/javascript\" src=\"/js/common.js\"></script>\\r\\n<!-- //공통 JS 호출 -->\\r\\n\\r\\n</body>\\r\\n</html>\\r\\n'"
      ]
     },
     "execution_count": 3,
     "metadata": {},
     "output_type": "execute_result"
    }
   ],
   "source": [
    "url = 'https://www.hanbit.co.kr/academy/books/new_book_list.html'\n",
    "result = requests.get(url)\n",
    "result.text"
   ]
  },
  {
   "cell_type": "code",
   "execution_count": 4,
   "metadata": {},
   "outputs": [],
   "source": [
    "soup = BeautifulSoup(result.text, 'html.parser')"
   ]
  },
  {
   "cell_type": "code",
   "execution_count": 5,
   "metadata": {},
   "outputs": [
    {
     "data": {
      "text/plain": [
       "20"
      ]
     },
     "execution_count": 5,
     "metadata": {},
     "output_type": "execute_result"
    }
   ],
   "source": [
    "lis = soup.select('li.sub_book_list')\n",
    "len(lis)"
   ]
  },
  {
   "cell_type": "code",
   "execution_count": 34,
   "metadata": {},
   "outputs": [
    {
     "data": {
      "text/plain": [
       "20"
      ]
     },
     "execution_count": 34,
     "metadata": {},
     "output_type": "execute_result"
    }
   ],
   "source": [
    "# #container > div.new_book_list_wrap > div.sub_book_list_area > li:nth-child(1)\n",
    "lis = soup.select('#container > div.new_book_list_wrap > div.sub_book_list_area > li')\n",
    "len(lis)"
   ]
  },
  {
   "cell_type": "code",
   "execution_count": 37,
   "metadata": {},
   "outputs": [
    {
     "data": {
      "text/plain": [
       "[<li class=\"sub_book_list\">\n",
       " <div class=\"view_box\">\n",
       " <span class=\"view_box_block\">\n",
       " <span class=\"img_hidden_a\">\n",
       " <span class=\"pop_quick_menu\">\n",
       " <a href=\"/academy/books/book_view.html?p_code=B6297351572\"><img alt=\"상세보기\" src=\"https://www.hanbit.co.kr/images/common/icon_view_detail.png\"/></a>\n",
       " </span>\n",
       " <span class=\"price\">24,800<span>원</span></span>\n",
       " <span class=\"pop_quick_bg\" onclick=\"location='/academy/books/book_view.html?p_code=B6297351572'\"></span>\n",
       " </span>\n",
       " <!-- 예약도서인 경우 -->\n",
       " <!-- ebook이 도서인 경우 -->\n",
       " <img alt=\"\" class=\"thumb\" src=\"/data/books/B6297351572_m.jpg\"/>\n",
       " </span>\n",
       " <div class=\"info\">\n",
       " <p class=\"book_tit\"><a href=\"/academy/books/book_view.html?p_code=B6297351572\">IT CookBook, 자바로 배우는 쉬운 자료구조</a></p>\n",
       " <p class=\"book_writer\">이지영 </p>\n",
       " </div>\n",
       " </div>\n",
       " </li>,\n",
       " <li class=\"sub_book_list\">\n",
       " <div class=\"view_box\">\n",
       " <span class=\"view_box_block\">\n",
       " <span class=\"img_hidden_a\">\n",
       " <span class=\"pop_quick_menu\">\n",
       " <a href=\"/academy/books/book_view.html?p_code=B2476698303\"><img alt=\"상세보기\" src=\"https://www.hanbit.co.kr/images/common/icon_view_detail.png\"/></a>\n",
       " </span>\n",
       " <span class=\"price\">20,000<span>원</span></span>\n",
       " <span class=\"pop_quick_bg\" onclick=\"location='/academy/books/book_view.html?p_code=B2476698303'\"></span>\n",
       " </span>\n",
       " <!-- 예약도서인 경우 -->\n",
       " <!-- ebook이 도서인 경우 -->\n",
       " <img alt=\"\" class=\"thumb\" src=\"/data/books/B2476698303_m.jpg\"/>\n",
       " </span>\n",
       " <div class=\"info\">\n",
       " <p class=\"book_tit\"><a href=\"/academy/books/book_view.html?p_code=B2476698303\">IT CookBook, 프로그래밍 언어론 : 쉽게 배우는 언어의 원리와 구조</a></p>\n",
       " <p class=\"book_writer\">김종훈 , 김종진 </p>\n",
       " </div>\n",
       " </div>\n",
       " </li>,\n",
       " <li class=\"sub_book_list\">\n",
       " <div class=\"view_box\">\n",
       " <span class=\"view_box_block\">\n",
       " <span class=\"img_hidden_a\">\n",
       " <span class=\"pop_quick_menu\">\n",
       " <a href=\"/academy/books/book_view.html?p_code=B6899203363\"><img alt=\"상세보기\" src=\"https://www.hanbit.co.kr/images/common/icon_view_detail.png\"/></a>\n",
       " </span>\n",
       " <span class=\"price\">25,000<span>원</span></span>\n",
       " <span class=\"pop_quick_bg\" onclick=\"location='/academy/books/book_view.html?p_code=B6899203363'\"></span>\n",
       " </span>\n",
       " <!-- 예약도서인 경우 -->\n",
       " <!-- ebook이 도서인 경우 -->\n",
       " <img alt=\"\" class=\"thumb\" src=\"/data/books/B6899203363_m.jpg\"/>\n",
       " </span>\n",
       " <div class=\"info\">\n",
       " <p class=\"book_tit\"><a href=\"/academy/books/book_view.html?p_code=B6899203363\">IT CookBook, C++ 하이킹 : 객체지향과 만나는 여행</a></p>\n",
       " <p class=\"book_writer\">성윤정 , 김태은 </p>\n",
       " </div>\n",
       " </div>\n",
       " </li>,\n",
       " <li class=\"sub_book_list\">\n",
       " <div class=\"view_box\">\n",
       " <span class=\"view_box_block\">\n",
       " <span class=\"img_hidden_a\">\n",
       " <span class=\"pop_quick_menu\">\n",
       " <a href=\"/academy/books/book_view.html?p_code=B6109161061\"><img alt=\"상세보기\" src=\"https://www.hanbit.co.kr/images/common/icon_view_detail.png\"/></a>\n",
       " </span>\n",
       " <span class=\"price\">22,000<span>원</span></span>\n",
       " <span class=\"pop_quick_bg\" onclick=\"location='/academy/books/book_view.html?p_code=B6109161061'\"></span>\n",
       " </span>\n",
       " <!-- 예약도서인 경우 -->\n",
       " <!-- ebook이 도서인 경우 -->\n",
       " <img alt=\"\" class=\"thumb\" src=\"/data/books/B6109161061_m.jpg\"/>\n",
       " </span>\n",
       " <div class=\"info\">\n",
       " <p class=\"book_tit\"><a href=\"/academy/books/book_view.html?p_code=B6109161061\">IT CookBook, 반도체 공학 연습문제 풀이집</a></p>\n",
       " <p class=\"book_writer\">김동명 </p>\n",
       " </div>\n",
       " </div>\n",
       " </li>,\n",
       " <li class=\"sub_book_list\">\n",
       " <div class=\"view_box\">\n",
       " <span class=\"view_box_block\">\n",
       " <span class=\"img_hidden_a\">\n",
       " <span class=\"pop_quick_menu\">\n",
       " <a href=\"/academy/books/book_view.html?p_code=B9501089911\"><img alt=\"상세보기\" src=\"https://www.hanbit.co.kr/images/common/icon_view_detail.png\"/></a>\n",
       " </span>\n",
       " <span class=\"price\">24,000<span>원</span></span>\n",
       " <span class=\"pop_quick_bg\" onclick=\"location='/academy/books/book_view.html?p_code=B9501089911'\"></span>\n",
       " </span>\n",
       " <!-- 예약도서인 경우 -->\n",
       " <!-- ebook이 도서인 경우 -->\n",
       " <img alt=\"\" class=\"thumb\" src=\"/data/books/B9501089911_m.jpg\"/>\n",
       " </span>\n",
       " <div class=\"info\">\n",
       " <p class=\"book_tit\"><a href=\"/academy/books/book_view.html?p_code=B9501089911\">IT CookBook, C 프로그래밍</a></p>\n",
       " <p class=\"book_writer\">강동진, 하숙정, 임수연, 송무희, 박보석 </p>\n",
       " </div>\n",
       " </div>\n",
       " </li>,\n",
       " <li class=\"sub_book_list\">\n",
       " <div class=\"view_box\">\n",
       " <span class=\"view_box_block\">\n",
       " <span class=\"img_hidden_a\">\n",
       " <span class=\"pop_quick_menu\">\n",
       " <a href=\"/academy/books/book_view.html?p_code=B6265294795\"><img alt=\"상세보기\" src=\"https://www.hanbit.co.kr/images/common/icon_view_detail.png\"/></a>\n",
       " </span>\n",
       " <span class=\"price\">21,000<span>원</span></span>\n",
       " <span class=\"pop_quick_bg\" onclick=\"location='/academy/books/book_view.html?p_code=B6265294795'\"></span>\n",
       " </span>\n",
       " <!-- 예약도서인 경우 -->\n",
       " <!-- ebook이 도서인 경우 -->\n",
       " <img alt=\"\" class=\"thumb\" src=\"/data/books/B6265294795_m.jpg\"/>\n",
       " </span>\n",
       " <div class=\"info\">\n",
       " <p class=\"book_tit\"><a href=\"/academy/books/book_view.html?p_code=B6265294795\">IT CookBook, 컴퓨터 활용 : 윈도우 7, 한글 2010, 엑셀 2010, 파워포인트 2010</a></p>\n",
       " <p class=\"book_writer\">김주영 , 정영준 </p>\n",
       " </div>\n",
       " </div>\n",
       " </li>,\n",
       " <li class=\"sub_book_list\">\n",
       " <div class=\"view_box\">\n",
       " <span class=\"view_box_block\">\n",
       " <span class=\"img_hidden_a\">\n",
       " <span class=\"pop_quick_menu\">\n",
       " <a href=\"/academy/books/book_view.html?p_code=B9471588416\"><img alt=\"상세보기\" src=\"https://www.hanbit.co.kr/images/common/icon_view_detail.png\"/></a>\n",
       " </span>\n",
       " <span class=\"price\">10,000<span>원</span></span>\n",
       " <span class=\"pop_quick_bg\" onclick=\"location='/academy/books/book_view.html?p_code=B9471588416'\"></span>\n",
       " </span>\n",
       " <!-- 예약도서인 경우 -->\n",
       " <!-- ebook이 도서인 경우 -->\n",
       " <img alt=\"\" class=\"thumb\" src=\"/data/books/B9471588416_m.jpg\"/>\n",
       " </span>\n",
       " <div class=\"info\">\n",
       " <p class=\"book_tit\"><a href=\"/academy/books/book_view.html?p_code=B9471588416\">IT CookBook, 초보자의 첫 번째 엑셀 2010</a></p>\n",
       " <p class=\"book_writer\">양숙희 </p>\n",
       " </div>\n",
       " </div>\n",
       " </li>,\n",
       " <li class=\"sub_book_list\">\n",
       " <div class=\"view_box\">\n",
       " <span class=\"view_box_block\">\n",
       " <span class=\"img_hidden_a\">\n",
       " <span class=\"pop_quick_menu\">\n",
       " <a href=\"/academy/books/book_view.html?p_code=B5626730084\"><img alt=\"상세보기\" src=\"https://www.hanbit.co.kr/images/common/icon_view_detail.png\"/></a>\n",
       " </span>\n",
       " <span class=\"price\">24,000<span>원</span></span>\n",
       " <span class=\"pop_quick_bg\" onclick=\"location='/academy/books/book_view.html?p_code=B5626730084'\"></span>\n",
       " </span>\n",
       " <!-- 예약도서인 경우 -->\n",
       " <!-- ebook이 도서인 경우 -->\n",
       " <img alt=\"\" class=\"thumb\" src=\"/data/books/B5626730084_m.jpg\"/>\n",
       " </span>\n",
       " <div class=\"info\">\n",
       " <p class=\"book_tit\"><a href=\"/academy/books/book_view.html?p_code=B5626730084\">IT CookBook, 개념이 보이는 물리전자공학</a></p>\n",
       " <p class=\"book_writer\">이현용 </p>\n",
       " </div>\n",
       " </div>\n",
       " </li>,\n",
       " <li class=\"sub_book_list\">\n",
       " <div class=\"view_box\">\n",
       " <span class=\"view_box_block\">\n",
       " <span class=\"img_hidden_a\">\n",
       " <span class=\"pop_quick_menu\">\n",
       " <a href=\"/academy/books/book_view.html?p_code=B5468706684\"><img alt=\"상세보기\" src=\"https://www.hanbit.co.kr/images/common/icon_view_detail.png\"/></a>\n",
       " </span>\n",
       " <span class=\"price\">18,000<span>원</span></span>\n",
       " <span class=\"pop_quick_bg\" onclick=\"location='/academy/books/book_view.html?p_code=B5468706684'\"></span>\n",
       " </span>\n",
       " <!-- 예약도서인 경우 -->\n",
       " <!-- ebook이 도서인 경우 -->\n",
       " <img alt=\"\" class=\"thumb\" src=\"/data/books/B5468706684_m.jpg\"/>\n",
       " </span>\n",
       " <div class=\"info\">\n",
       " <p class=\"book_tit\"><a href=\"/academy/books/book_view.html?p_code=B5468706684\">문제해결력을 키우는 이공계 글쓰기 : 발표와 토론까지</a></p>\n",
       " <p class=\"book_writer\">한성우 </p>\n",
       " </div>\n",
       " </div>\n",
       " </li>,\n",
       " <li class=\"sub_book_list\">\n",
       " <div class=\"view_box\">\n",
       " <span class=\"view_box_block\">\n",
       " <span class=\"img_hidden_a\">\n",
       " <span class=\"pop_quick_menu\">\n",
       " <a href=\"/academy/books/book_view.html?p_code=B4698900723\"><img alt=\"상세보기\" src=\"https://www.hanbit.co.kr/images/common/icon_view_detail.png\"/></a>\n",
       " </span>\n",
       " <span class=\"price\">36,000<span>원</span></span>\n",
       " <span class=\"pop_quick_bg\" onclick=\"location='/academy/books/book_view.html?p_code=B4698900723'\"></span>\n",
       " </span>\n",
       " <!-- 예약도서인 경우 -->\n",
       " <!-- ebook이 도서인 경우 -->\n",
       " <img alt=\"\" class=\"thumb\" src=\"/data/books/B4698900723_m.jpg\"/>\n",
       " </span>\n",
       " <div class=\"info\">\n",
       " <p class=\"book_tit\"><a href=\"/academy/books/book_view.html?p_code=B4698900723\">Essential Calculus</a></p>\n",
       " <p class=\"book_writer\">James Stewart </p>\n",
       " </div>\n",
       " </div>\n",
       " </li>,\n",
       " <li class=\"sub_book_list\">\n",
       " <div class=\"view_box\">\n",
       " <span class=\"view_box_block\">\n",
       " <span class=\"img_hidden_a\">\n",
       " <span class=\"pop_quick_menu\">\n",
       " <a href=\"/academy/books/book_view.html?p_code=B3046770846\"><img alt=\"상세보기\" src=\"https://www.hanbit.co.kr/images/common/icon_view_detail.png\"/></a>\n",
       " </span>\n",
       " <span class=\"price\">28,000<span>원</span></span>\n",
       " <span class=\"pop_quick_bg\" onclick=\"location='/academy/books/book_view.html?p_code=B3046770846'\"></span>\n",
       " </span>\n",
       " <!-- 예약도서인 경우 -->\n",
       " <!-- ebook이 도서인 경우 -->\n",
       " <img alt=\"\" class=\"thumb\" src=\"/data/books/B3046770846_m.jpg\"/>\n",
       " </span>\n",
       " <div class=\"info\">\n",
       " <p class=\"book_tit\"><a href=\"/academy/books/book_view.html?p_code=B3046770846\">의사결정회계</a></p>\n",
       " <p class=\"book_writer\">정재권 </p>\n",
       " </div>\n",
       " </div>\n",
       " </li>,\n",
       " <li class=\"sub_book_list\">\n",
       " <div class=\"view_box\">\n",
       " <span class=\"view_box_block\">\n",
       " <span class=\"img_hidden_a\">\n",
       " <span class=\"pop_quick_menu\">\n",
       " <a href=\"/academy/books/book_view.html?p_code=B2947348985\"><img alt=\"상세보기\" src=\"https://www.hanbit.co.kr/images/common/icon_view_detail.png\"/></a>\n",
       " </span>\n",
       " <span class=\"price\">25,000<span>원</span></span>\n",
       " <span class=\"pop_quick_bg\" onclick=\"location='/academy/books/book_view.html?p_code=B2947348985'\"></span>\n",
       " </span>\n",
       " <!-- 예약도서인 경우 -->\n",
       " <!-- ebook이 도서인 경우 -->\n",
       " <img alt=\"\" class=\"thumb\" src=\"/data/books/B2947348985_m.jpg\"/>\n",
       " </span>\n",
       " <div class=\"info\">\n",
       " <p class=\"book_tit\"><a href=\"/academy/books/book_view.html?p_code=B2947348985\">IT CookBook, 디지털 통신 시스템 : Digital Communication Systems</a></p>\n",
       " <p class=\"book_writer\">정호영 , 임승각 </p>\n",
       " </div>\n",
       " </div>\n",
       " </li>,\n",
       " <li class=\"sub_book_list\">\n",
       " <div class=\"view_box\">\n",
       " <span class=\"view_box_block\">\n",
       " <span class=\"img_hidden_a\">\n",
       " <span class=\"pop_quick_menu\">\n",
       " <a href=\"/academy/books/book_view.html?p_code=B2518997770\"><img alt=\"상세보기\" src=\"https://www.hanbit.co.kr/images/common/icon_view_detail.png\"/></a>\n",
       " </span>\n",
       " <span class=\"price\">25,000<span>원</span></span>\n",
       " <span class=\"pop_quick_bg\" onclick=\"location='/academy/books/book_view.html?p_code=B2518997770'\"></span>\n",
       " </span>\n",
       " <!-- 예약도서인 경우 -->\n",
       " <!-- ebook이 도서인 경우 -->\n",
       " <img alt=\"\" class=\"thumb\" src=\"/data/books/B2518997770_m.jpg\"/>\n",
       " </span>\n",
       " <div class=\"info\">\n",
       " <p class=\"book_tit\"><a href=\"/academy/books/book_view.html?p_code=B2518997770\">인간관계론</a></p>\n",
       " <p class=\"book_writer\">유기현 , 송병선 , 권용만 </p>\n",
       " </div>\n",
       " </div>\n",
       " </li>]"
      ]
     },
     "execution_count": 37,
     "metadata": {},
     "output_type": "execute_result"
    }
   ],
   "source": [
    "lis"
   ]
  },
  {
   "cell_type": "code",
   "execution_count": 32,
   "metadata": {},
   "outputs": [
    {
     "data": {
      "text/plain": [
       "<li class=\"sub_book_list\">\n",
       "<div class=\"view_box\">\n",
       "<span class=\"view_box_block\">\n",
       "<span class=\"img_hidden_a\">\n",
       "<span class=\"pop_quick_menu\">\n",
       "<a href=\"/academy/books/book_view.html?p_code=B4622884510\"><img alt=\"상세보기\" src=\"https://www.hanbit.co.kr/images/common/icon_view_detail.png\"/></a>\n",
       "</span>\n",
       "<span class=\"price\">30,000<span>원</span></span>\n",
       "<span class=\"pop_quick_bg\" onclick=\"location='/academy/books/book_view.html?p_code=B4622884510'\"></span>\n",
       "</span>\n",
       "<!-- 예약도서인 경우 -->\n",
       "<!-- ebook이 도서인 경우 -->\n",
       "<img alt=\"\" class=\"thumb\" src=\"/data/books/B4622884510_m.jpg\"/>\n",
       "</span>\n",
       "<div class=\"info\">\n",
       "<p class=\"book_tit\"><a href=\"/academy/books/book_view.html?p_code=B4622884510\">IT CookBook, UI/UX 디자인 이론과 실무 with 어도비 XD</a></p>\n",
       "<p class=\"book_writer\">이영주 </p>\n",
       "</div>\n",
       "</div>\n",
       "</li>"
      ]
     },
     "execution_count": 32,
     "metadata": {},
     "output_type": "execute_result"
    }
   ],
   "source": [
    "li = lis[0]\n",
    "li"
   ]
  },
  {
   "cell_type": "code",
   "execution_count": 14,
   "metadata": {},
   "outputs": [
    {
     "data": {
      "text/plain": [
       "'30,000원'"
      ]
     },
     "execution_count": 14,
     "metadata": {},
     "output_type": "execute_result"
    }
   ],
   "source": [
    "# price\n",
    "price = li.select_one('.img_hidden_a>.price').get_text()\n",
    "price"
   ]
  },
  {
   "cell_type": "code",
   "execution_count": 18,
   "metadata": {},
   "outputs": [
    {
     "data": {
      "text/plain": [
       "'방성완'"
      ]
     },
     "execution_count": 18,
     "metadata": {},
     "output_type": "execute_result"
    }
   ],
   "source": [
    "# 저자\n",
    "writer = li.select_one('.book_writer').get_text().strip()\n",
    "writer"
   ]
  },
  {
   "cell_type": "code",
   "execution_count": 20,
   "metadata": {},
   "outputs": [
    {
     "data": {
      "text/plain": [
       "'https://www.hanbit.co.kr/images/common/icon_view_detail.png'"
      ]
     },
     "execution_count": 20,
     "metadata": {},
     "output_type": "execute_result"
    }
   ],
   "source": [
    "# img\n",
    "img = li.select_one('img')['src']\n",
    "img"
   ]
  },
  {
   "cell_type": "code",
   "execution_count": 23,
   "metadata": {},
   "outputs": [
    {
     "data": {
      "text/plain": [
       "'처음 배우는 매트랩'"
      ]
     },
     "execution_count": 23,
     "metadata": {},
     "output_type": "execute_result"
    }
   ],
   "source": [
    "# title\n",
    "title = li.select_one('.book_tit > a').string.strip()\n",
    "title"
   ]
  },
  {
   "cell_type": "code",
   "execution_count": 24,
   "metadata": {},
   "outputs": [],
   "source": [
    "line = []\n",
    "for li in lis:\n",
    "    title = li.select_one('.book_tit > a').string.strip()\n",
    "    writer = li.select_one('.book_writer').get_text().strip()\n",
    "    price = li.select_one('.img_hidden_a>.price').get_text()\n",
    "    line.append({'title':title, 'writer':writer, 'price':price})\n"
   ]
  },
  {
   "cell_type": "code",
   "execution_count": 25,
   "metadata": {},
   "outputs": [
    {
     "data": {
      "text/html": [
       "<div>\n",
       "<style scoped>\n",
       "    .dataframe tbody tr th:only-of-type {\n",
       "        vertical-align: middle;\n",
       "    }\n",
       "\n",
       "    .dataframe tbody tr th {\n",
       "        vertical-align: top;\n",
       "    }\n",
       "\n",
       "    .dataframe thead th {\n",
       "        text-align: right;\n",
       "    }\n",
       "</style>\n",
       "<table border=\"1\" class=\"dataframe\">\n",
       "  <thead>\n",
       "    <tr style=\"text-align: right;\">\n",
       "      <th></th>\n",
       "      <th>title</th>\n",
       "      <th>writer</th>\n",
       "      <th>price</th>\n",
       "    </tr>\n",
       "  </thead>\n",
       "  <tbody>\n",
       "    <tr>\n",
       "      <th>0</th>\n",
       "      <td>처음 배우는 매트랩</td>\n",
       "      <td>방성완</td>\n",
       "      <td>30,000원</td>\n",
       "    </tr>\n",
       "    <tr>\n",
       "      <th>1</th>\n",
       "      <td>SAS와 메타분석을 활용한 한번에 적용하는 의학보건통계</td>\n",
       "      <td>히든그레이스 데이터분석팀</td>\n",
       "      <td>34,000원</td>\n",
       "    </tr>\n",
       "    <tr>\n",
       "      <th>2</th>\n",
       "      <td>정보교과교육론(3판)</td>\n",
       "      <td>최현종 , 전용주</td>\n",
       "      <td>30,000원</td>\n",
       "    </tr>\n",
       "    <tr>\n",
       "      <th>3</th>\n",
       "      <td>IT CookBook, 기초전자실험 with PSpice(3판)</td>\n",
       "      <td>홍순관</td>\n",
       "      <td>22,000원</td>\n",
       "    </tr>\n",
       "    <tr>\n",
       "      <th>4</th>\n",
       "      <td>경제수학 강의(3판)</td>\n",
       "      <td>김성현</td>\n",
       "      <td>23,000원</td>\n",
       "    </tr>\n",
       "    <tr>\n",
       "      <th>5</th>\n",
       "      <td>글로벌 사회와 리더십(2판)</td>\n",
       "      <td>안광현</td>\n",
       "      <td>28,000원</td>\n",
       "    </tr>\n",
       "    <tr>\n",
       "      <th>6</th>\n",
       "      <td>행동 재무론</td>\n",
       "      <td>고광수</td>\n",
       "      <td>32,000원</td>\n",
       "    </tr>\n",
       "    <tr>\n",
       "      <th>7</th>\n",
       "      <td>IT CookBook, 알기 쉽게 해설한 파이썬 with 컴퓨팅 사고력</td>\n",
       "      <td>김충석 , 김지연</td>\n",
       "      <td>24,000원</td>\n",
       "    </tr>\n",
       "    <tr>\n",
       "      <th>8</th>\n",
       "      <td>MATLAB으로 배우는 공학 수치해석(3판)</td>\n",
       "      <td>방성완</td>\n",
       "      <td>28,000원</td>\n",
       "    </tr>\n",
       "    <tr>\n",
       "      <th>9</th>\n",
       "      <td>Cengel의 알기 쉬운 열역학(6판)</td>\n",
       "      <td>Yunus A. Çengel , John M. Cimbala , Afshin J. ...</td>\n",
       "      <td>34,000원</td>\n",
       "    </tr>\n",
       "    <tr>\n",
       "      <th>10</th>\n",
       "      <td>Cengel의 알기 쉬운 열전달(6판)</td>\n",
       "      <td>Yunus A. Çengel , John M. Cimbala , Afshin J. ...</td>\n",
       "      <td>34,000원</td>\n",
       "    </tr>\n",
       "    <tr>\n",
       "      <th>11</th>\n",
       "      <td>IT CookBook, 알기 쉽게 해설한 자바 프로그래밍(10판)</td>\n",
       "      <td>김충석</td>\n",
       "      <td>30,000원</td>\n",
       "    </tr>\n",
       "    <tr>\n",
       "      <th>12</th>\n",
       "      <td>IT CookBook, 비즈니스 애널리틱스를 위한 데이터 마이닝</td>\n",
       "      <td>Galit Shmueli , Peter C. Bruce , Peter Gedeck ...</td>\n",
       "      <td>39,000원</td>\n",
       "    </tr>\n",
       "    <tr>\n",
       "      <th>13</th>\n",
       "      <td>현대경영과학(9판)</td>\n",
       "      <td>김세헌</td>\n",
       "      <td>35,000원</td>\n",
       "    </tr>\n",
       "    <tr>\n",
       "      <th>14</th>\n",
       "      <td>IT CookBook, 네트워크 해킹과 보안(4판)</td>\n",
       "      <td>양대일 , 홍성혁</td>\n",
       "      <td>32,000원</td>\n",
       "    </tr>\n",
       "    <tr>\n",
       "      <th>15</th>\n",
       "      <td>IT CookBook, 쉽게 배우는 운영체제(2판)</td>\n",
       "      <td>조성호</td>\n",
       "      <td>32,000원</td>\n",
       "    </tr>\n",
       "    <tr>\n",
       "      <th>16</th>\n",
       "      <td>IT CookBook, Android Studio를 활용한 안드로이드 프로그래밍(8판)</td>\n",
       "      <td>우재남 , 박길식</td>\n",
       "      <td>34,000원</td>\n",
       "    </tr>\n",
       "    <tr>\n",
       "      <th>17</th>\n",
       "      <td>STEM CookBook, 전기 및 하이브리드 자동차(3판)</td>\n",
       "      <td>Iqbal Husain</td>\n",
       "      <td>35,000원</td>\n",
       "    </tr>\n",
       "    <tr>\n",
       "      <th>18</th>\n",
       "      <td>IT CookBook, 컴퓨터 비전과 딥러닝</td>\n",
       "      <td>오일석</td>\n",
       "      <td>39,000원</td>\n",
       "    </tr>\n",
       "    <tr>\n",
       "      <th>19</th>\n",
       "      <td>리더십 : 이론과 실제 (9판)</td>\n",
       "      <td>Peter G. Northouse</td>\n",
       "      <td>36,000원</td>\n",
       "    </tr>\n",
       "  </tbody>\n",
       "</table>\n",
       "</div>"
      ],
      "text/plain": [
       "                                               title   \n",
       "0                                         처음 배우는 매트랩  \\\n",
       "1                     SAS와 메타분석을 활용한 한번에 적용하는 의학보건통계   \n",
       "2                                        정보교과교육론(3판)   \n",
       "3                IT CookBook, 기초전자실험 with PSpice(3판)   \n",
       "4                                        경제수학 강의(3판)   \n",
       "5                                    글로벌 사회와 리더십(2판)   \n",
       "6                                             행동 재무론   \n",
       "7            IT CookBook, 알기 쉽게 해설한 파이썬 with 컴퓨팅 사고력   \n",
       "8                           MATLAB으로 배우는 공학 수치해석(3판)   \n",
       "9                              Cengel의 알기 쉬운 열역학(6판)   \n",
       "10                             Cengel의 알기 쉬운 열전달(6판)   \n",
       "11              IT CookBook, 알기 쉽게 해설한 자바 프로그래밍(10판)   \n",
       "12               IT CookBook, 비즈니스 애널리틱스를 위한 데이터 마이닝   \n",
       "13                                        현대경영과학(9판)   \n",
       "14                      IT CookBook, 네트워크 해킹과 보안(4판)   \n",
       "15                      IT CookBook, 쉽게 배우는 운영체제(2판)   \n",
       "16  IT CookBook, Android Studio를 활용한 안드로이드 프로그래밍(8판)   \n",
       "17                 STEM CookBook, 전기 및 하이브리드 자동차(3판)   \n",
       "18                          IT CookBook, 컴퓨터 비전과 딥러닝   \n",
       "19                                 리더십 : 이론과 실제 (9판)   \n",
       "\n",
       "                                               writer    price  \n",
       "0                                                 방성완  30,000원  \n",
       "1                                       히든그레이스 데이터분석팀  34,000원  \n",
       "2                                           최현종 , 전용주  30,000원  \n",
       "3                                                 홍순관  22,000원  \n",
       "4                                                 김성현  23,000원  \n",
       "5                                                 안광현  28,000원  \n",
       "6                                                 고광수  32,000원  \n",
       "7                                           김충석 , 김지연  24,000원  \n",
       "8                                                 방성완  28,000원  \n",
       "9   Yunus A. Çengel , John M. Cimbala , Afshin J. ...  34,000원  \n",
       "10  Yunus A. Çengel , John M. Cimbala , Afshin J. ...  34,000원  \n",
       "11                                                김충석  30,000원  \n",
       "12  Galit Shmueli , Peter C. Bruce , Peter Gedeck ...  39,000원  \n",
       "13                                                김세헌  35,000원  \n",
       "14                                          양대일 , 홍성혁  32,000원  \n",
       "15                                                조성호  32,000원  \n",
       "16                                          우재남 , 박길식  34,000원  \n",
       "17                                       Iqbal Husain  35,000원  \n",
       "18                                                오일석  39,000원  \n",
       "19                                 Peter G. Northouse  36,000원  "
      ]
     },
     "execution_count": 25,
     "metadata": {},
     "output_type": "execute_result"
    }
   ],
   "source": [
    "df = pd.DataFrame(line)\n",
    "df"
   ]
  },
  {
   "cell_type": "code",
   "execution_count": 27,
   "metadata": {},
   "outputs": [],
   "source": [
    "# https://www.hanbit.co.kr/academy/books/new_book_list.html?page=1&cate_cd=&srt=&searchKey=&keyWord=\n",
    "# https://www.hanbit.co.kr/academy/books/new_book_list.html?page=2&cate_cd=&srt=&searchKey=&keyWord=\n",
    "base_url = 'https://www.hanbit.co.kr/academy/books/new_book_list.html?page='\n",
    "base_url2 = '&cate_cd=&srt=&searchKey=&keyWord='"
   ]
  },
  {
   "attachments": {},
   "cell_type": "markdown",
   "metadata": {},
   "source": [
    "base_url 메인\n",
    "base_url2  서브\n",
    "<span class=\"pop_quick_bg\" onclick=\"location='/academy/books/book_view.html?p_code=B7192437175'\"></span>"
   ]
  },
  {
   "cell_type": "markdown",
   "metadata": {},
   "source": [
    "base_url = 'https://www.hanbit.co.kr'\n",
    "main_url = '/academy/books/book_view.html'\n",
    "url = f'{base_url}{main_url}?page=1'"
   ]
  },
  {
   "cell_type": "code",
   "execution_count": 35,
   "metadata": {},
   "outputs": [
    {
     "name": "stderr",
     "output_type": "stream",
     "text": [
      "100%|██████████| 23/23 [00:03<00:00,  6.45it/s]\n"
     ]
    }
   ],
   "source": [
    "from tqdm import tqdm # 진척률\n",
    "lines = []\n",
    "for page in tqdm(range(1, 24)): # 진척률 4페이지 반복\n",
    "    url = f'{base_url}{page}{base_url2}'\n",
    "    result = requests.get(url)\n",
    "    soup = BeautifulSoup(result.text, 'html.parser')\n",
    "    lis = soup.select('li.sub_book_list')\n",
    "    for li in lis:\n",
    "        title = li.select_one('.book_tit > a').string.strip()\n",
    "        writer = li.select_one('.book_writer').get_text().strip()\n",
    "        price = li.select_one('.img_hidden_a>.price').get_text()\n",
    "        lines.append({'title':title, 'writer':writer, 'price':price})"
   ]
  },
  {
   "cell_type": "code",
   "execution_count": 36,
   "metadata": {},
   "outputs": [
    {
     "data": {
      "text/html": [
       "<div>\n",
       "<style scoped>\n",
       "    .dataframe tbody tr th:only-of-type {\n",
       "        vertical-align: middle;\n",
       "    }\n",
       "\n",
       "    .dataframe tbody tr th {\n",
       "        vertical-align: top;\n",
       "    }\n",
       "\n",
       "    .dataframe thead th {\n",
       "        text-align: right;\n",
       "    }\n",
       "</style>\n",
       "<table border=\"1\" class=\"dataframe\">\n",
       "  <thead>\n",
       "    <tr style=\"text-align: right;\">\n",
       "      <th></th>\n",
       "      <th>title</th>\n",
       "      <th>writer</th>\n",
       "      <th>price</th>\n",
       "    </tr>\n",
       "  </thead>\n",
       "  <tbody>\n",
       "    <tr>\n",
       "      <th>448</th>\n",
       "      <td>문제해결력을 키우는 이공계 글쓰기 : 발표와 토론까지</td>\n",
       "      <td>한성우</td>\n",
       "      <td>18,000원</td>\n",
       "    </tr>\n",
       "    <tr>\n",
       "      <th>449</th>\n",
       "      <td>Essential Calculus</td>\n",
       "      <td>James Stewart</td>\n",
       "      <td>36,000원</td>\n",
       "    </tr>\n",
       "    <tr>\n",
       "      <th>450</th>\n",
       "      <td>의사결정회계</td>\n",
       "      <td>정재권</td>\n",
       "      <td>28,000원</td>\n",
       "    </tr>\n",
       "    <tr>\n",
       "      <th>451</th>\n",
       "      <td>IT CookBook, 디지털 통신 시스템 : Digital Communicatio...</td>\n",
       "      <td>정호영 , 임승각</td>\n",
       "      <td>25,000원</td>\n",
       "    </tr>\n",
       "    <tr>\n",
       "      <th>452</th>\n",
       "      <td>인간관계론</td>\n",
       "      <td>유기현 , 송병선 , 권용만</td>\n",
       "      <td>25,000원</td>\n",
       "    </tr>\n",
       "  </tbody>\n",
       "</table>\n",
       "</div>"
      ],
      "text/plain": [
       "                                                 title           writer   \n",
       "448                      문제해결력을 키우는 이공계 글쓰기 : 발표와 토론까지              한성우  \\\n",
       "449                                 Essential Calculus    James Stewart   \n",
       "450                                             의사결정회계              정재권   \n",
       "451  IT CookBook, 디지털 통신 시스템 : Digital Communicatio...        정호영 , 임승각   \n",
       "452                                              인간관계론  유기현 , 송병선 , 권용만   \n",
       "\n",
       "       price  \n",
       "448  18,000원  \n",
       "449  36,000원  \n",
       "450  28,000원  \n",
       "451  25,000원  \n",
       "452  25,000원  "
      ]
     },
     "execution_count": 36,
     "metadata": {},
     "output_type": "execute_result"
    }
   ],
   "source": [
    "df3 = pd.DataFrame(lines)\n",
    "df3.tail()"
   ]
  },
  {
   "cell_type": "code",
   "execution_count": null,
   "metadata": {},
   "outputs": [],
   "source": []
  }
 ],
 "metadata": {
  "kernelspec": {
   "display_name": "base",
   "language": "python",
   "name": "python3"
  },
  "language_info": {
   "codemirror_mode": {
    "name": "ipython",
    "version": 3
   },
   "file_extension": ".py",
   "mimetype": "text/x-python",
   "name": "python",
   "nbconvert_exporter": "python",
   "pygments_lexer": "ipython3",
   "version": "3.10.9"
  },
  "orig_nbformat": 4
 },
 "nbformat": 4,
 "nbformat_minor": 2
}
