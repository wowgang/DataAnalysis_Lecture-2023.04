{
 "cells": [
  {
   "attachments": {},
   "cell_type": "markdown",
   "metadata": {},
   "source": [
    "### 소방청 - 경기도 소방기관 추출"
   ]
  },
  {
   "cell_type": "code",
   "execution_count": 1,
   "metadata": {},
   "outputs": [],
   "source": [
    "import time \n",
    "import pandas as pd\n",
    "from selenium import webdriver \n",
    "from selenium.webdriver.common.by import By\n",
    "from selenium.webdriver.common.keys import Keys \n",
    "from bs4 import BeautifulSoup\n",
    "import warnings\n",
    "warnings.filterwarnings('ignore')"
   ]
  },
  {
   "cell_type": "code",
   "execution_count": 2,
   "metadata": {},
   "outputs": [],
   "source": [
    "url = 'https://www.nfa.go.kr/nfa/introduce/status/firestationidfo/?searchDistance=10&searchMode=distance&myX=37.2967198&myY=127.0078127&searchKeyword='\n",
    "\n",
    "driver = webdriver.Chrome('C:/Users/YONSAI/Downloads/chromedriver.exe') # chromedriver 위치\n",
    "# driver = webdriver.Chrome(r'C:\\Users\\user\\Downloads\\chromedriver.exe')  # 집에서\n",
    "driver.get(url)"
   ]
  },
  {
   "cell_type": "code",
   "execution_count": 3,
   "metadata": {},
   "outputs": [],
   "source": [
    "# 검색 입력상자 찾아서 경기도 입력하기\n",
    "driver.find_element(By.ID, 'searchKeyword').send_keys('경기도')"
   ]
  },
  {
   "cell_type": "code",
   "execution_count": 4,
   "metadata": {},
   "outputs": [],
   "source": [
    "# 검색 버튼 찾아서 클릭하기\n",
    "driver.find_element(By.ID, 'fsSearchBtn').click()"
   ]
  },
  {
   "cell_type": "code",
   "execution_count": 5,
   "metadata": {},
   "outputs": [
    {
     "data": {
      "text/plain": [
       "10"
      ]
     },
     "execution_count": 5,
     "metadata": {},
     "output_type": "execute_result"
    }
   ],
   "source": [
    "#페이지 이동해서 HTML 코드를 BeautifulSoup으로 parsing\n",
    "soup =BeautifulSoup(driver.page_source,'html.parser')\n",
    "lis = soup.select('.stations-list > li')\n",
    "len(lis) # 10건"
   ]
  },
  {
   "cell_type": "code",
   "execution_count": 6,
   "metadata": {},
   "outputs": [
    {
     "data": {
      "text/plain": [
       "'군포소방서-송정-119 안전센터'"
      ]
     },
     "execution_count": 6,
     "metadata": {},
     "output_type": "execute_result"
    }
   ],
   "source": [
    "li = lis[0]\n",
    "name = li.select_one('.title').get_text().strip()\n",
    "name"
   ]
  },
  {
   "cell_type": "code",
   "execution_count": 7,
   "metadata": {},
   "outputs": [
    {
     "data": {
      "text/plain": [
       "'경기도 군포시 산본동1156'"
      ]
     },
     "execution_count": 7,
     "metadata": {},
     "output_type": "execute_result"
    }
   ],
   "source": [
    "addr = li.select_one('address').get_text().strip()\n",
    "addr"
   ]
  },
  {
   "cell_type": "code",
   "execution_count": 8,
   "metadata": {},
   "outputs": [
    {
     "data": {
      "text/plain": [
       "'031-479-8503'"
      ]
     },
     "execution_count": 8,
     "metadata": {},
     "output_type": "execute_result"
    }
   ],
   "source": [
    "tel = li.select_one('.tel').get_text().strip()\n",
    "tel"
   ]
  },
  {
   "cell_type": "code",
   "execution_count": 12,
   "metadata": {},
   "outputs": [
    {
     "data": {
      "text/html": [
       "<div>\n",
       "<style scoped>\n",
       "    .dataframe tbody tr th:only-of-type {\n",
       "        vertical-align: middle;\n",
       "    }\n",
       "\n",
       "    .dataframe tbody tr th {\n",
       "        vertical-align: top;\n",
       "    }\n",
       "\n",
       "    .dataframe thead th {\n",
       "        text-align: right;\n",
       "    }\n",
       "</style>\n",
       "<table border=\"1\" class=\"dataframe\">\n",
       "  <thead>\n",
       "    <tr style=\"text-align: right;\">\n",
       "      <th></th>\n",
       "      <th>관서명</th>\n",
       "      <th>주소</th>\n",
       "      <th>전화번호</th>\n",
       "    </tr>\n",
       "  </thead>\n",
       "  <tbody>\n",
       "    <tr>\n",
       "      <th>0</th>\n",
       "      <td>군포소방서-송정-119 안전센터</td>\n",
       "      <td>경기도 군포시 산본동1156</td>\n",
       "      <td>031-479-8503</td>\n",
       "    </tr>\n",
       "    <tr>\n",
       "      <th>1</th>\n",
       "      <td>부천소방서-원종-119 안전센터</td>\n",
       "      <td>경기도 부천시 원종로79번길 41 (원종동)</td>\n",
       "      <td>032-650-4554</td>\n",
       "    </tr>\n",
       "    <tr>\n",
       "      <th>2</th>\n",
       "      <td>부천소방서-괴안-119 안전센터</td>\n",
       "      <td>경기도 부천시 부광로8번길 49 (괴안동)</td>\n",
       "      <td>032-650-4544</td>\n",
       "    </tr>\n",
       "    <tr>\n",
       "      <th>3</th>\n",
       "      <td>부천소방서-중동-119 안전센터</td>\n",
       "      <td>경기도 부천시 부일로 346 (중동)</td>\n",
       "      <td>032-650-4534</td>\n",
       "    </tr>\n",
       "    <tr>\n",
       "      <th>4</th>\n",
       "      <td>부천소방서-내동-119 안전센터</td>\n",
       "      <td>경기도 부천시 신흥로 364 (내동)</td>\n",
       "      <td>032-650-4524</td>\n",
       "    </tr>\n",
       "    <tr>\n",
       "      <th>5</th>\n",
       "      <td>부천소방서-중앙-119 안전센터</td>\n",
       "      <td>경기도 부천시 신흥로 115 (중동)</td>\n",
       "      <td>032-650-4504</td>\n",
       "    </tr>\n",
       "    <tr>\n",
       "      <th>6</th>\n",
       "      <td>분당소방서-구미-119 안전센터</td>\n",
       "      <td>경기도 성남시 분당구 돌마로 138 (구미동)</td>\n",
       "      <td>031-8018-3551</td>\n",
       "    </tr>\n",
       "    <tr>\n",
       "      <th>7</th>\n",
       "      <td>분당소방서-야탑-119 안전센터</td>\n",
       "      <td>경기도 성남시 분당구 양현로 485 (야탑4동)</td>\n",
       "      <td>031-8018-3531</td>\n",
       "    </tr>\n",
       "    <tr>\n",
       "      <th>8</th>\n",
       "      <td>분당소방서-수내-119 안전센터</td>\n",
       "      <td>경기도 성남시 분당구 백현로 241 (수내동)</td>\n",
       "      <td>031-8018-3521</td>\n",
       "    </tr>\n",
       "    <tr>\n",
       "      <th>9</th>\n",
       "      <td>분당소방서-판교-119 안전센터</td>\n",
       "      <td>경기도 성남시 분당구 대왕판교로644번길 62 (삼평동)</td>\n",
       "      <td>031-8018-3511</td>\n",
       "    </tr>\n",
       "  </tbody>\n",
       "</table>\n",
       "</div>"
      ],
      "text/plain": [
       "                 관서명                               주소           전화번호\n",
       "0  군포소방서-송정-119 안전센터                  경기도 군포시 산본동1156   031-479-8503\n",
       "1  부천소방서-원종-119 안전센터         경기도 부천시 원종로79번길 41 (원종동)   032-650-4554\n",
       "2  부천소방서-괴안-119 안전센터          경기도 부천시 부광로8번길 49 (괴안동)   032-650-4544\n",
       "3  부천소방서-중동-119 안전센터             경기도 부천시 부일로 346 (중동)   032-650-4534\n",
       "4  부천소방서-내동-119 안전센터             경기도 부천시 신흥로 364 (내동)   032-650-4524\n",
       "5  부천소방서-중앙-119 안전센터             경기도 부천시 신흥로 115 (중동)   032-650-4504\n",
       "6  분당소방서-구미-119 안전센터        경기도 성남시 분당구 돌마로 138 (구미동)  031-8018-3551\n",
       "7  분당소방서-야탑-119 안전센터       경기도 성남시 분당구 양현로 485 (야탑4동)  031-8018-3531\n",
       "8  분당소방서-수내-119 안전센터        경기도 성남시 분당구 백현로 241 (수내동)  031-8018-3521\n",
       "9  분당소방서-판교-119 안전센터  경기도 성남시 분당구 대왕판교로644번길 62 (삼평동)  031-8018-3511"
      ]
     },
     "execution_count": 12,
     "metadata": {},
     "output_type": "execute_result"
    }
   ],
   "source": [
    "lines = []\n",
    "for li in lis:\n",
    "    name = li.select_one('.title').get_text().strip()\n",
    "    addr = li.select_one('address').get_text().strip()\n",
    "    tel = li.select_one('.tel').get_text().strip()\n",
    "    lines.append({'관서명':name, '주소':addr, '전화번호':tel})\n",
    "df = pd.DataFrame(lines)\n",
    "df"
   ]
  },
  {
   "attachments": {},
   "cell_type": "markdown",
   "metadata": {},
   "source": [
    "- 두번째 페이지로 이동"
   ]
  },
  {
   "cell_type": "code",
   "execution_count": 13,
   "metadata": {},
   "outputs": [],
   "source": [
    "# copy xpath\n",
    "# //*[@id=\"listForm\"]/div/section/ul/li[1]/div/div/ul/li[4]/a\n",
    "driver.find_element(By.XPATH, '//*[@id=\"listForm\"]/div/section/ul/li[1]/div/div/ul/li[4]/a').click()"
   ]
  },
  {
   "attachments": {},
   "cell_type": "markdown",
   "metadata": {},
   "source": [
    "- next(>) page로 이동"
   ]
  },
  {
   "cell_type": "code",
   "execution_count": 14,
   "metadata": {},
   "outputs": [],
   "source": [
    "driver.find_element(By.CLASS_NAME, 'next_page').click()"
   ]
  },
  {
   "attachments": {},
   "cell_type": "markdown",
   "metadata": {},
   "source": [
    "- 모든 페이지에 대해서 적용(단, 이동은 selenium으로)"
   ]
  },
  {
   "cell_type": "code",
   "execution_count": 15,
   "metadata": {},
   "outputs": [],
   "source": [
    "# 첫번째 페이지\n",
    "driver.get(url)\n",
    "time.sleep(1) # 페이지 이동시 필요\n",
    "driver.find_element(By.ID, 'searchKeyword').send_keys('경기도')\n",
    "driver.find_element(By.ID, 'fsSearchBtn').click()"
   ]
  },
  {
   "cell_type": "code",
   "execution_count": 17,
   "metadata": {},
   "outputs": [
    {
     "data": {
      "text/plain": [
       "100"
      ]
     },
     "execution_count": 17,
     "metadata": {},
     "output_type": "execute_result"
    }
   ],
   "source": [
    "# 검색결과 건수 확인\n",
    "count = driver.find_element(By.XPATH, '//*[@id=\"listForm\"]/div/section/div/p/strong[2]').text\n",
    "count = int(count[:-1])\n",
    "count"
   ]
  },
  {
   "cell_type": "code",
   "execution_count": null,
   "metadata": {},
   "outputs": [],
   "source": [
    "# 100건이라 10번인거는\n",
    "# 한페이지에 10건이 있어서\n",
    "# 100건이 있으니까 10 # i는 0~10 0은 skip,1은 두번째페이지,2는 넥스트,3은 두번째,4는 넥스트"
   ]
  },
  {
   "cell_type": "code",
   "execution_count": 18,
   "metadata": {},
   "outputs": [
    {
     "data": {
      "text/plain": [
       "10"
      ]
     },
     "execution_count": 18,
     "metadata": {},
     "output_type": "execute_result"
    }
   ],
   "source": [
    "import math\n",
    "total_page = int(math.ceil(count / 10)) # 100/10 = 10\n",
    "total_page"
   ]
  },
  {
   "cell_type": "code",
   "execution_count": 19,
   "metadata": {},
   "outputs": [],
   "source": [
    "lines = []\n",
    "for i in range(total_page): # 100건이 있으니까 10 # i는 0~10 0은 skip,1은 두번째페이지,2는 넥스트,3은 두번째,4는 넥스트\n",
    "    if i % 2 == 1: # 페이지이동 (1,3,5,.. 두번째페이지 코드)\n",
    "        driver.find_element(By.XPATH, '//*[@id=\"listForm\"]/div/section/ul/li[1]/div/div/ul/li[4]/a').click()\n",
    "        time.sleep(2)\n",
    "    if i > 0 and i % 2 == 0:  # 페이지이동 (0은 skip) and (2,4,6,.. next 코드)\n",
    "        driver.find_element(By.CLASS_NAME, 'next_page').click()\n",
    "        time.sleep(2)\n",
    "\n",
    "    # 페이지 이동후 페이지 소스 가져오기\n",
    "    soup =BeautifulSoup(driver.page_source,'html.parser')  # 이동한 페이지 소스\n",
    "    lis = soup.select('.stations-list > li')    # 이동한 페이지소스에서 li선택\n",
    "    for li in lis:\n",
    "        name = li.select_one('.title').get_text().strip()\n",
    "        addr = li.select_one('address').get_text().strip()\n",
    "        tel = li.select_one('.tel').get_text().strip()\n",
    "        lines.append({'관서명':name, '주소':addr, '전화번호':tel})\n"
   ]
  },
  {
   "cell_type": "code",
   "execution_count": 21,
   "metadata": {},
   "outputs": [],
   "source": [
    "driver.close()"
   ]
  },
  {
   "cell_type": "code",
   "execution_count": 20,
   "metadata": {},
   "outputs": [
    {
     "data": {
      "text/html": [
       "<div>\n",
       "<style scoped>\n",
       "    .dataframe tbody tr th:only-of-type {\n",
       "        vertical-align: middle;\n",
       "    }\n",
       "\n",
       "    .dataframe tbody tr th {\n",
       "        vertical-align: top;\n",
       "    }\n",
       "\n",
       "    .dataframe thead th {\n",
       "        text-align: right;\n",
       "    }\n",
       "</style>\n",
       "<table border=\"1\" class=\"dataframe\">\n",
       "  <thead>\n",
       "    <tr style=\"text-align: right;\">\n",
       "      <th></th>\n",
       "      <th>관서명</th>\n",
       "      <th>주소</th>\n",
       "      <th>전화번호</th>\n",
       "    </tr>\n",
       "  </thead>\n",
       "  <tbody>\n",
       "    <tr>\n",
       "      <th>95</th>\n",
       "      <td>의정부소방서-금오-119 안전센터</td>\n",
       "      <td>경기도 의정부시 호국로 1434-14</td>\n",
       "      <td>031-849-7510</td>\n",
       "    </tr>\n",
       "    <tr>\n",
       "      <th>96</th>\n",
       "      <td>의정부소방서-중앙-119 안전센터</td>\n",
       "      <td>경기도 의정부시 의정로 48</td>\n",
       "      <td>031-849-7500</td>\n",
       "    </tr>\n",
       "    <tr>\n",
       "      <th>97</th>\n",
       "      <td>일산소방서-대화-119 안전센터</td>\n",
       "      <td>경기도 고양시 일산서구 대화동 2321-2</td>\n",
       "      <td>031-930-0572</td>\n",
       "    </tr>\n",
       "    <tr>\n",
       "      <th>98</th>\n",
       "      <td>일산소방서-고봉-119 안전센터</td>\n",
       "      <td>경기도 고양시 일산동구 성현로 429</td>\n",
       "      <td>031-930-0551</td>\n",
       "    </tr>\n",
       "    <tr>\n",
       "      <th>99</th>\n",
       "      <td>일산소방서-중산-119 안전센터</td>\n",
       "      <td>경기도 고양시 일산동구 중산로 218</td>\n",
       "      <td>031-930-0541</td>\n",
       "    </tr>\n",
       "  </tbody>\n",
       "</table>\n",
       "</div>"
      ],
      "text/plain": [
       "                   관서명                       주소          전화번호\n",
       "95  의정부소방서-금오-119 안전센터     경기도 의정부시 호국로 1434-14  031-849-7510\n",
       "96  의정부소방서-중앙-119 안전센터          경기도 의정부시 의정로 48  031-849-7500\n",
       "97   일산소방서-대화-119 안전센터  경기도 고양시 일산서구 대화동 2321-2  031-930-0572\n",
       "98   일산소방서-고봉-119 안전센터     경기도 고양시 일산동구 성현로 429  031-930-0551\n",
       "99   일산소방서-중산-119 안전센터     경기도 고양시 일산동구 중산로 218  031-930-0541"
      ]
     },
     "execution_count": 20,
     "metadata": {},
     "output_type": "execute_result"
    }
   ],
   "source": [
    "df = pd.DataFrame(lines)\n",
    "df.tail()"
   ]
  },
  {
   "cell_type": "code",
   "execution_count": 30,
   "metadata": {},
   "outputs": [
    {
     "data": {
      "text/html": [
       "<div>\n",
       "<style scoped>\n",
       "    .dataframe tbody tr th:only-of-type {\n",
       "        vertical-align: middle;\n",
       "    }\n",
       "\n",
       "    .dataframe tbody tr th {\n",
       "        vertical-align: top;\n",
       "    }\n",
       "\n",
       "    .dataframe thead th {\n",
       "        text-align: right;\n",
       "    }\n",
       "</style>\n",
       "<table border=\"1\" class=\"dataframe\">\n",
       "  <thead>\n",
       "    <tr style=\"text-align: right;\">\n",
       "      <th></th>\n",
       "      <th>관서명</th>\n",
       "      <th>주소</th>\n",
       "      <th>전화번호</th>\n",
       "    </tr>\n",
       "  </thead>\n",
       "  <tbody>\n",
       "    <tr>\n",
       "      <th>80</th>\n",
       "      <td>파주소방서-월롱-119 안전센터</td>\n",
       "      <td>경기도 파주시 월롱면 엘씨디로 310</td>\n",
       "      <td>031-956-9551</td>\n",
       "    </tr>\n",
       "    <tr>\n",
       "      <th>81</th>\n",
       "      <td>파주소방서-탄현-119 안전센터</td>\n",
       "      <td>경기도 파주시 탄현면 필승로 458</td>\n",
       "      <td>031-956-9541</td>\n",
       "    </tr>\n",
       "    <tr>\n",
       "      <th>82</th>\n",
       "      <td>파주소방서-광탄-119 안전센터</td>\n",
       "      <td>경기도 파주시 광탄면 혜음로 1040</td>\n",
       "      <td>031-956-9531</td>\n",
       "    </tr>\n",
       "    <tr>\n",
       "      <th>83</th>\n",
       "      <td>파주소방서-법원-119 안전센터</td>\n",
       "      <td>경기도 파주시 법원읍 화합로 141</td>\n",
       "      <td>031-956-9521</td>\n",
       "    </tr>\n",
       "    <tr>\n",
       "      <th>84</th>\n",
       "      <td>파주소방서-금촌-119 안전센터</td>\n",
       "      <td>경기도 파주시 가나무로 136</td>\n",
       "      <td>031-956-9511</td>\n",
       "    </tr>\n",
       "    <tr>\n",
       "      <th>85</th>\n",
       "      <td>남양주소방서-가운-119 안전센터</td>\n",
       "      <td>경기도 남양주시 가운로 16</td>\n",
       "      <td>031-590-0572</td>\n",
       "    </tr>\n",
       "    <tr>\n",
       "      <th>86</th>\n",
       "      <td>남양주소방서-오남-119 안전센터</td>\n",
       "      <td>경기도 남양주시 오남읍 진건오남로 772</td>\n",
       "      <td>031-590-0592</td>\n",
       "    </tr>\n",
       "    <tr>\n",
       "      <th>87</th>\n",
       "      <td>남양주소방서-별내-119 안전센터</td>\n",
       "      <td>경기도 남양주시 송산로 41</td>\n",
       "      <td>031-590-0562</td>\n",
       "    </tr>\n",
       "    <tr>\n",
       "      <th>88</th>\n",
       "      <td>남양주소방서-와부-119 안전센터</td>\n",
       "      <td>경기도 남양주시 와부읍 덕소로 97번길 34-2</td>\n",
       "      <td>031-590-0532</td>\n",
       "    </tr>\n",
       "    <tr>\n",
       "      <th>89</th>\n",
       "      <td>남양주소방서-화도-119 안전센터</td>\n",
       "      <td>경기도 남양주시 화도읍 수레로 1260번길 25</td>\n",
       "      <td>031-590-0542</td>\n",
       "    </tr>\n",
       "  </tbody>\n",
       "</table>\n",
       "</div>"
      ],
      "text/plain": [
       "                   관서명                          주소          전화번호\n",
       "80   파주소방서-월롱-119 안전센터        경기도 파주시 월롱면 엘씨디로 310  031-956-9551\n",
       "81   파주소방서-탄현-119 안전센터         경기도 파주시 탄현면 필승로 458  031-956-9541\n",
       "82   파주소방서-광탄-119 안전센터        경기도 파주시 광탄면 혜음로 1040  031-956-9531\n",
       "83   파주소방서-법원-119 안전센터         경기도 파주시 법원읍 화합로 141  031-956-9521\n",
       "84   파주소방서-금촌-119 안전센터            경기도 파주시 가나무로 136  031-956-9511\n",
       "85  남양주소방서-가운-119 안전센터             경기도 남양주시 가운로 16  031-590-0572\n",
       "86  남양주소방서-오남-119 안전센터      경기도 남양주시 오남읍 진건오남로 772  031-590-0592\n",
       "87  남양주소방서-별내-119 안전센터             경기도 남양주시 송산로 41  031-590-0562\n",
       "88  남양주소방서-와부-119 안전센터  경기도 남양주시 와부읍 덕소로 97번길 34-2  031-590-0532\n",
       "89  남양주소방서-화도-119 안전센터  경기도 남양주시 화도읍 수레로 1260번길 25  031-590-0542"
      ]
     },
     "execution_count": 30,
     "metadata": {},
     "output_type": "execute_result"
    }
   ],
   "source": [
    "df.head(90).tail(10)"
   ]
  },
  {
   "cell_type": "code",
   "execution_count": null,
   "metadata": {},
   "outputs": [],
   "source": []
  }
 ],
 "metadata": {
  "kernelspec": {
   "display_name": "base",
   "language": "python",
   "name": "python3"
  },
  "language_info": {
   "codemirror_mode": {
    "name": "ipython",
    "version": 3
   },
   "file_extension": ".py",
   "mimetype": "text/x-python",
   "name": "python",
   "nbconvert_exporter": "python",
   "pygments_lexer": "ipython3",
   "version": "3.10.9"
  },
  "orig_nbformat": 4
 },
 "nbformat": 4,
 "nbformat_minor": 2
}
