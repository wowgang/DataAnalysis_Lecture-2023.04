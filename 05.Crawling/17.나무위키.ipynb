{
 "cells": [
  {
   "attachments": {},
   "cell_type": "markdown",
   "metadata": {},
   "source": [
    "### 나무위키 - 최근 변경내역 말뭉치(corpus) 만들기"
   ]
  },
  {
   "cell_type": "code",
   "execution_count": 1,
   "metadata": {},
   "outputs": [],
   "source": [
    "import time \n",
    "import pandas as pd\n",
    "from selenium import webdriver \n",
    "from selenium.webdriver.common.by import By\n",
    "from selenium.webdriver.common.keys import Keys \n",
    "from bs4 import BeautifulSoup\n",
    "import warnings\n",
    "warnings.filterwarnings('ignore')"
   ]
  },
  {
   "attachments": {},
   "cell_type": "markdown",
   "metadata": {},
   "source": [
    "##### 1. 페이지의 URL정보 추출"
   ]
  },
  {
   "cell_type": "code",
   "execution_count": 2,
   "metadata": {},
   "outputs": [],
   "source": [
    "url = 'https://namu.wiki/RecentChanges'\n",
    "driver = webdriver.Chrome('C:/Users/YONSAI/Downloads/chromedriver.exe') # chromedriver 위치\n",
    "# driver = webdriver.Chrome(r'C:\\Users\\user\\Downloads\\chromedriver.exe')  # 집에서\n",
    "driver.get(url)\n",
    "time.sleep(2)"
   ]
  },
  {
   "cell_type": "code",
   "execution_count": 3,
   "metadata": {},
   "outputs": [
    {
     "data": {
      "text/plain": [
       "121"
      ]
     },
     "execution_count": 3,
     "metadata": {},
     "output_type": "execute_result"
    }
   ],
   "source": [
    "# //*[@id=\"QD8sx38qa\"]/div[2]/div/article/div[2]/div/div[1]/div/div/table/tbody\n",
    "# //*[@id=\"QD8sx38qa\"]/div[2]/div/article/div[2]/div/div[1]/div/div/table/tbody/tr[1]\n",
    "trs = driver.find_elements(By.XPATH, '//*[@id=\"QD8sx38qa\"]/div[2]/div/article/div[2]/div/div[1]/div/div/table/tbody/tr')\n",
    "len(trs)"
   ]
  },
  {
   "cell_type": "code",
   "execution_count": 4,
   "metadata": {},
   "outputs": [
    {
     "data": {
      "text/plain": [
       "<selenium.webdriver.remote.webelement.WebElement (session=\"8dd7ddf31c3eab8701bb089dfc8f5a31\", element=\"99ec8593-8fa7-4c96-85b7-279560c3f74c\")>"
      ]
     },
     "execution_count": 4,
     "metadata": {},
     "output_type": "execute_result"
    }
   ],
   "source": [
    "trs[0]"
   ]
  },
  {
   "cell_type": "code",
   "execution_count": 5,
   "metadata": {},
   "outputs": [
    {
     "data": {
      "text/plain": [
       "'김정일/여담'"
      ]
     },
     "execution_count": 5,
     "metadata": {},
     "output_type": "execute_result"
    }
   ],
   "source": [
    "tr = trs[0]\n",
    "tr.find_element(By.CSS_SELECTOR, 'td > a').text.strip()"
   ]
  },
  {
   "cell_type": "code",
   "execution_count": 6,
   "metadata": {},
   "outputs": [
    {
     "data": {
      "text/plain": [
       "'https://namu.wiki/w/%EA%B9%80%EC%A0%95%EC%9D%BC/%EC%97%AC%EB%8B%B4'"
      ]
     },
     "execution_count": 6,
     "metadata": {},
     "output_type": "execute_result"
    }
   ],
   "source": [
    "tr.find_element(By.CSS_SELECTOR, 'td > a').get_attribute('href')"
   ]
  },
  {
   "cell_type": "code",
   "execution_count": 7,
   "metadata": {},
   "outputs": [],
   "source": [
    "page_urls = []\n",
    "for tr in trs:\n",
    "    try:\n",
    "     page_urls.append(tr.find_element(By.CSS_SELECTOR, 'td > a').get_attribute('href'))\n",
    "    except:\n",
    "       continue"
   ]
  },
  {
   "cell_type": "code",
   "execution_count": 8,
   "metadata": {},
   "outputs": [
    {
     "data": {
      "text/plain": [
       "100"
      ]
     },
     "execution_count": 8,
     "metadata": {},
     "output_type": "execute_result"
    }
   ],
   "source": [
    "len(page_urls)"
   ]
  },
  {
   "cell_type": "code",
   "execution_count": 9,
   "metadata": {},
   "outputs": [
    {
     "data": {
      "text/plain": [
       "92"
      ]
     },
     "execution_count": 9,
     "metadata": {},
     "output_type": "execute_result"
    }
   ],
   "source": [
    "# 중복 URL 제거\n",
    "page_urls = list(set(page_urls)) # set으로 중복없애고 다시 list로 만들기\n",
    "len(page_urls)"
   ]
  },
  {
   "cell_type": "code",
   "execution_count": 10,
   "metadata": {},
   "outputs": [
    {
     "data": {
      "text/plain": [
       "['https://namu.wiki/w/%EC%A0%9C21%EB%8C%80%20%EA%B5%AD%ED%9A%8C',\n",
       " 'https://namu.wiki/w/%EB%B0%B1%EC%83%81%EC%95%84%EB%A6%AC',\n",
       " 'https://namu.wiki/w/%EC%B9%B4%EB%A9%94%EB%9D%BC%20%EC%B6%9C%EB%8F%99']"
      ]
     },
     "execution_count": 10,
     "metadata": {},
     "output_type": "execute_result"
    }
   ],
   "source": [
    "page_urls[:3]"
   ]
  },
  {
   "cell_type": "code",
   "execution_count": 11,
   "metadata": {},
   "outputs": [],
   "source": [
    "driver.close()"
   ]
  },
  {
   "attachments": {},
   "cell_type": "markdown",
   "metadata": {},
   "source": [
    "##### 2. URL 페이지 정보를 기반으로 크롤링하기"
   ]
  },
  {
   "cell_type": "code",
   "execution_count": 12,
   "metadata": {},
   "outputs": [],
   "source": [
    "# driver.get(page_urls[1]) selnium으로 하려했는데 안됨"
   ]
  },
  {
   "cell_type": "code",
   "execution_count": 13,
   "metadata": {},
   "outputs": [],
   "source": [
    "# import requests\n",
    "\n",
    "# res = requests.get(page_urls[0])\n",
    "# soup = BeautifulSoup(res.text, 'html.parser')"
   ]
  },
  {
   "cell_type": "code",
   "execution_count": 14,
   "metadata": {},
   "outputs": [
    {
     "data": {
      "text/plain": [
       "'<!DOCTYPE html>\\n<html lang=\"en-US\">\\n<head>\\n    <title>Just a moment...</title>\\n    <meta http-equiv=\"Content-Type\" content=\"text/html; charset=UTF-8\">\\n    <meta http-equiv=\"X-UA-Compatible\" content=\"IE=Edge\">\\n    <meta name=\"robots\" content=\"noindex,nofollow\">\\n    <meta name=\"viewport\" content=\"width=device-width,initial-scale=1\">\\n    <link href=\"/cdn-cgi/styles/challenges.css\" rel=\"stylesheet\">\\n    \\n\\n</head>\\n<body class=\"no-js\">\\n    <div class=\"main-wrapper\" role=\"main\">\\n    <div class=\"main-content\">\\n        <noscript>\\n            <div id=\"challenge-error-title\">\\n                <div class=\"h2\">\\n                    <span class=\"icon-wrapper\">\\n                        <div class=\"heading-icon warning-icon\"></div>\\n                    </span>\\n                    <span id=\"challenge-error-text\">\\n                        Enable JavaScript and cookies to continue\\n                    </span>\\n                </div>\\n            </div>\\n        </noscript>\\n        <div id=\"trk_jschal_js\" style=\"display:none;background-image:url(\\'/cdn-cgi/images/trace/managed/nojs/transparent.gif?ray=7bdc6b4d4d33c053\\')\"></div>\\n        <form id=\"challenge-form\" action=\"/w/%EC%A0%9C21%EB%8C%80%20%EA%B5%AD%ED%9A%8C?__cf_chl_f_tk=Nyt7lFJwxm6EiDP8km5r1LrduPm8vg0gIJBWfEgnV2w-1682486873-0-gaNycGzNCrs\" method=\"POST\" enctype=\"application/x-www-form-urlencoded\">\\n            <input type=\"hidden\" name=\"md\" value=\"1dPxywPqALbBURYYlBprm_jvK1_5.29JV7jdSN_07j8-1682486873-0-AePbzHHD7qXszwLiRZ-rmjJT8jsF3TDa6vyxmZOTeFPqK-sE9qldEyJnjvAAncquanj7bteZlhQDTIuv2gqkrNTR1JIiT_0U1KJAWP8abVIIJYzqfWQfaDvkyEUcw3MVI9KdKet1oE-kPVl5AKsyy9wS_fSsU0Ud5ZkVlplgKx9FCz7nFfI9MkjnyPx7_fsqXOPIzULLu2zpfahx_DG4pH3XJYtM5SUECJcm5OSViZbgXdsBR2CLKUlXfnfx3wBGdyVYcAeREPkzlrPZYRml6S-HT-2Ss2NPzMcae_C4oANZteCKlrpANNn_xfp1x6M3gKA4ob-oGqKtyfgCanlXKcTCOM2iOPeiQkhJNTg8QwB9ZyyY3PbQgJ0ejmOiMMjffdszli1etlBWNWDJlWAQx2roCwI4i02XPhMjA3YAkD40Uwj5fEYs7FH0mTxxc4a2koqMKR80OA4NKqKRUaMf5dlkG8PGzTFWqZhXVLAJWyc6C4pg4-80-5jn0QmENI6SGJgfE_PK0eVh5agXQp_7bvU0yzJRlOYTgLJPlaNJ66ginIEv0yhiD2difB0CQ20eY2rfW-kMY9O2EZodUwP7b0aMQlKjsgmb5NF_FTeC3b1n79J_P0xD-mV6TuZG37ZqCzgmQU1sBa_ry-YXqHyM0OW1BpAykNu6JHioHI1sTo_pNp6HyoT5Uwax8XlFdWDQr7q1_inp803z3ZcjqYVqyFzMpvVuTfdsRyO0OLss_YdPMjVhE2mRJprUfd9uQY-2BmizJnSkjV-zLyzPSCo5NpjK7WIOLWU5rMH0KBfTO6b2GiJ8y10YpFUocfyjJq2SfUQ1JbH2fr0_NFOpD0nk6S6xD9uoHaztqAvXnX1NKkYrBs4DehGK9JIBlFN59y9uZrZhy03gN5QrXWyUhI8w2oYYPbiULgD4eoQHJp3Rw5DuVd02F_Oq8JaX9ZidPEhNsDupmOAbnkM-hzxMubpy4B63ICQlf0S2Z6tbfOFWxS_5-CCvlxlM_O4TQgmjTWRqRkFkBUT-ixYnE8kPND8uxAmszawZUzYIxn6_n4zMNtg2Ulc1Gga38qMjc8CwfXQPpCcDDr-gcz-XOUcfQ5Ydi7KI69u60Uwe7fpGS3RCsPk4QAVMRk6tZMjOBEoZLYwhr5wDYK0yt0zoF8fpxusTlJnGL1kFBoL4G8SK4iu74regUcEidbwnGoffPW3KL7X4WJN5-BSFgxk-gI9Q0ajOUuWYOdmOOgi_3K_M8M_WNEkfKAk0gm3-Ni9HBejNPvQdq7At1WQhQzn6TjZzkSpoiEph8GRRI_IJd8zX_4ziDmtE4VlEMOUWceH7KehwmSGOCTCojI3HJ8v7odA3HX1GIxP1fNolDtgN_yHkNIqjPZRw1UVOiLCaYXyAjN91Xoot2Gb8sII5c4me3Vvp2A0DNkycXh7mOt5-eaKzEM3j3AXwmjXXCJlXRhuGix_jNQwucejwYwEBOev1n_aUyYOmWjf4C_B72Leq0qr6L9fsxx3rKFNiyUAd9Bg3Ol_0Xi5q78PLbX1wBGVFpdayITqHIixVk6jzWSoTCzloLj85GnzPl06VVfXBj0B-Lz_2EX9e9JnB8fx6dqXIvGVRS9wx8oNLoZDehSv4jdfli9osDoxvo1fxld2rhmYjYTLzzd27s-fIykZS8710goPcpx5Ae13dsqyDsr79fs7Be5kWpXtzQpzheXGmhD-AjRrnamO4IGgTyPUhB_h_akQqmrpLlw0LCBh-TSHj8HBMNhpo_aQ0lKYSCfoxnnIZTTOEjg6uYsf7WJ8jdI8oKLDfNm0j2c4bgmfXcAG8i-0MwMtjmkL2KW7nDjRWfPhc-U6iuUT_tU7cZ15kBsNMKvcozMZ6EEzEvedf3XbZ8aaQchuEVnT0SuUxKCO1wIhMq1oVCMKFFdBHMku10vaThnYW80kC9bN6Ju3WGuUX-Du6HdM-VQQFPWG2jANJI4VuMBuyhTIeJogFfroRC2wd4Vt0qtrgG_97STJ6yOyusUzW0oVI8edNWCaCO8_3LngIWHI_Yj2XfPl9wde3GEN63WDCwE4gAASjTLAqSvrpr7VMm8uZSk0KfvBCY2td8YpXvRpm4Q4zze51-0fZIKLSAysTUuraczfBe2tyA5o9TqUmZb8dIjjUMQTSCuZYwPmEP-w5947e2gXuOj78iwXWT2J-87dRAiYMz5rV_H2lo3HMyTJK3_Q2ogUHfzV8b2RUu57AsfNdm7mv5BNi2lFWKvV9AtR8hDHcR0QxQeux1TGQZoM8gecP01HCpFOPjhjorUmif6CtzzbkE2yULliwAjcusKM3hYVXP-JPjssGcXq2lypEywIC9KKtZNzkpOq3ZEezrgC7G1ZTwPbE4zcC_U_joNM5RCg7gj1UvgqueSK-3SBYk-86379eYaR1ybJsfiWxe0b-i9Sjpe4rryfo-w7L0efYLtC6nlxMUmCc6zmp2cA8WYhdQ61xAqbqpvZPs-auE2CVEfWv6N4KZYK62dG5ESW5SMofKT2ZygOPx_gGL3rJ0lZfGLH0uzK4bs1uBL-l1ROKnm25Y-VYraoVPLuE_FMzEsT37hWQ7UN0tPfH9IO7Ye-w3SfJhSMlcttEHi-c32qq73AjIw1YEE7QZ84Px9xtwuX9cT9hjXMvUpBcIWHIZRWNMGyfLIYLlDB2Uz3_3IyO1g\">\\n        </form>\\n    </div>\\n</div>\\n<script>\\n    (function(){\\n        window._cf_chl_opt={\\n            cvId: \\'2\\',\\n            cZone: \\'namu.wiki\\',\\n            cType: \\'managed\\',\\n            cNounce: \\'72384\\',\\n            cRay: \\'7bdc6b4d4d33c053\\',\\n            cHash: \\'ce8d07df87c8ee9\\',\\n            cUPMDTk: \"\\\\/w\\\\/%EC%A0%9C21%EB%8C%80%20%EA%B5%AD%ED%9A%8C?__cf_chl_tk=Nyt7lFJwxm6EiDP8km5r1LrduPm8vg0gIJBWfEgnV2w-1682486873-0-gaNycGzNCrs\",\\n            cFPWv: \\'b\\',\\n            cTTimeMs: \\'1000\\',\\n            cMTimeMs: \\'0\\',\\n            cTplV: 5,\\n            cTplB: \\'cf\\',\\n            cK: \"\",\\n            cRq: {\\n                ru: \\'aHR0cHM6Ly9uYW11Lndpa2kvdy8lRUMlQTAlOUMyMSVFQiU4QyU4MCUyMCVFQSVCNSVBRCVFRCU5QSU4Qw==\\',\\n                ra: \\'cHl0aG9uLXJlcXVlc3RzLzIuMjguMQ==\\',\\n                rm: \\'R0VU\\',\\n                d: \\'sV1LhJa5jVZ9l+R9k0ULxwUrWqlMXpD095KE2xPxCfc+Q76KbnU71c+s0V6xZ+/8iGhXuBy6O5tdsZMaNluS4jIYTHnfQgNWTbuiDniaOn9rqYaczWks9CuFj7yXrYmb1XpL5z/Z4KX4rrOsrQOsvkbPC2cHq6OoobrbtJtTJQDZyaNHXNAmVcVNzS4XOKvxgLOKQr2momQUPHThUfXMFOeWdA9sdNlIi36r8656MxAHpsjXPTXAKKEwrpdk4GgzbcLxs8tl5uTZzBg2pFUqEXyrMomUcPjxjuyk7nXV+I8dnxzLzKQGIgtUct8SKgpIx50HwfwnwsJ2hDq7DK36Pvh5akXT2gdqORADTMq2ndw7BqH90pFCjp/XApV7FdQzLFHpQ8RqEZJYvZ0aVvEtbROMUAc2TVcIB0TnUODNXa+J1GqXdD5HIPBQgkibpb775/u7JzLMSppW9XNCZQvR/aWxPVBy3G3cb1niA1B6wbk9c+X74nNP2GvnUkcFVpHVV5m/tRxU2L8NxKj+dDkWXXqRlHtGzWl1kdT/+N7X9rv/b+HZ+qk/M2v0ZZxlLQBtUrpqX/V4EiNzYfc+nVS9KNlvAuZJygbh+CkxmPbq81LO9z8+XoXZ9X+LfSjbdgPv\\',\\n                t: \\'MTY4MjQ4Njg3My4xNzEwMDA=\\',\\n                m: \\'R/lkDbhoQI8L4JFoQjX0MnfMZDVkVzZuaCO04NTL9cQ=\\',\\n                i1: \\'F+q+sbE+iezXIYG6E9ppRQ==\\',\\n                i2: \\'uM8dgNzC+be2TNIxl6FuHA==\\',\\n                zh: \\'m8uLQymzcNrDBUWxIxJVRWWsai2gcUDknsM9ZyUGxkE=\\',\\n                uh: \\'SLdVolODg++SO356HusO5I/hbfOpiiOxQXj62i/MUkA=\\',\\n                hh: \\'jeNn0+60emESsWxgCwQYeRlqvrbki4H9y8kT5uzN11k=\\',\\n            }\\n        };\\n        var trkjs = document.createElement(\\'img\\');\\n        trkjs.setAttribute(\\'src\\', \\'/cdn-cgi/images/trace/managed/js/transparent.gif?ray=7bdc6b4d4d33c053\\');\\n        trkjs.setAttribute(\\'alt\\', \\'\\');\\n        trkjs.setAttribute(\\'style\\', \\'display: none\\');\\n        document.body.appendChild(trkjs);\\n        var cpo = document.createElement(\\'script\\');\\n        cpo.src = \\'/cdn-cgi/challenge-platform/h/b/orchestrate/managed/v1?ray=7bdc6b4d4d33c053\\';\\n        window._cf_chl_opt.cOgUHash = location.hash === \\'\\' && location.href.indexOf(\\'#\\') !== -1 ? \\'#\\' : location.hash;\\n        window._cf_chl_opt.cOgUQuery = location.search === \\'\\' && location.href.slice(0, location.href.length - window._cf_chl_opt.cOgUHash.length).indexOf(\\'?\\') !== -1 ? \\'?\\' : location.search;\\n        if (window.history && window.history.replaceState) {\\n            var ogU = location.pathname + window._cf_chl_opt.cOgUQuery + window._cf_chl_opt.cOgUHash;\\n            history.replaceState(null, null, \"\\\\/w\\\\/%EC%A0%9C21%EB%8C%80%20%EA%B5%AD%ED%9A%8C?__cf_chl_rt_tk=Nyt7lFJwxm6EiDP8km5r1LrduPm8vg0gIJBWfEgnV2w-1682486873-0-gaNycGzNCrs\" + window._cf_chl_opt.cOgUHash);\\n            cpo.onload = function() {\\n                history.replaceState(null, null, ogU);\\n            };\\n        }\\n        document.getElementsByTagName(\\'head\\')[0].appendChild(cpo);\\n    }());\\n</script>\\n\\n\\n</body>\\n</html>\\n'"
      ]
     },
     "execution_count": 14,
     "metadata": {},
     "output_type": "execute_result"
    }
   ],
   "source": [
    "# res.text"
   ]
  },
  {
   "cell_type": "code",
   "execution_count": 15,
   "metadata": {},
   "outputs": [],
   "source": [
    "driver = webdriver.Chrome('C:/Users/YONSAI/Downloads/chromedriver.exe')\n",
    "driver.get(page_urls[0])"
   ]
  },
  {
   "cell_type": "code",
   "execution_count": 16,
   "metadata": {},
   "outputs": [
    {
     "ename": "AttributeError",
     "evalue": "'NoneType' object has no attribute 'find'",
     "output_type": "error",
     "traceback": [
      "\u001b[1;31m---------------------------------------------------------------------------\u001b[0m",
      "\u001b[1;31mAttributeError\u001b[0m                            Traceback (most recent call last)",
      "Cell \u001b[1;32mIn[16], line 2\u001b[0m\n\u001b[0;32m      1\u001b[0m soup \u001b[39m=\u001b[39m BeautifulSoup(driver\u001b[39m.\u001b[39mpage_source, \u001b[39m'\u001b[39m\u001b[39mhtml.parser\u001b[39m\u001b[39m'\u001b[39m)\n\u001b[1;32m----> 2\u001b[0m title \u001b[39m=\u001b[39m soup\u001b[39m.\u001b[39;49mfind(\u001b[39m'\u001b[39;49m\u001b[39marticle\u001b[39;49m\u001b[39m'\u001b[39;49m)\u001b[39m.\u001b[39;49mfind(\u001b[39m'\u001b[39m\u001b[39mh1\u001b[39m\u001b[39m'\u001b[39m)\u001b[39m.\u001b[39mget_text()\u001b[39m.\u001b[39mstrip()\n\u001b[0;32m      3\u001b[0m title\n",
      "\u001b[1;31mAttributeError\u001b[0m: 'NoneType' object has no attribute 'find'"
     ]
    }
   ],
   "source": [
    "soup = BeautifulSoup(driver.page_source, 'html.parser')\n",
    "title = soup.find('article').find('h1').get_text().strip()\n",
    "title"
   ]
  },
  {
   "cell_type": "code",
   "execution_count": null,
   "metadata": {},
   "outputs": [],
   "source": []
  },
  {
   "cell_type": "code",
   "execution_count": null,
   "metadata": {},
   "outputs": [],
   "source": []
  }
 ],
 "metadata": {
  "kernelspec": {
   "display_name": "base",
   "language": "python",
   "name": "python3"
  },
  "language_info": {
   "codemirror_mode": {
    "name": "ipython",
    "version": 3
   },
   "file_extension": ".py",
   "mimetype": "text/x-python",
   "name": "python",
   "nbconvert_exporter": "python",
   "pygments_lexer": "ipython3",
   "version": "3.10.9"
  },
  "orig_nbformat": 4
 },
 "nbformat": 4,
 "nbformat_minor": 2
}
