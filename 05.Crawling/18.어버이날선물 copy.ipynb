{
 "cells": [
  {
   "cell_type": "code",
   "execution_count": 1,
   "metadata": {},
   "outputs": [],
   "source": [
    "import time \n",
    "import pandas as pd\n",
    "from selenium import webdriver \n",
    "from selenium.webdriver.common.by import By\n",
    "from selenium.webdriver.common.keys import Keys \n",
    "from bs4 import BeautifulSoup\n",
    "import requests\n",
    "from urllib.parse import quote\n",
    "import warnings\n",
    "warnings.filterwarnings('ignore')"
   ]
  },
  {
   "attachments": {},
   "cell_type": "markdown",
   "metadata": {},
   "source": [
    "##### 어버이날 선물 네이버지식인 100개 크롤링"
   ]
  },
  {
   "cell_type": "code",
   "execution_count": 2,
   "metadata": {},
   "outputs": [],
   "source": [
    "url = 'https://kin.naver.com/'\n",
    "driver = webdriver.Chrome('C:/Users/YONSAI/Downloads/chromedriver.exe') # chromedriver 위치\n",
    "# driver = webdriver.Chrome(r'C:\\Users\\user\\Downloads\\chromedriver.exe')  # 집에서\n",
    "driver.get(url)\n",
    "time.sleep(2)"
   ]
  },
  {
   "cell_type": "code",
   "execution_count": 3,
   "metadata": {},
   "outputs": [],
   "source": [
    "# 어버이날선물 입력\n",
    "driver.find_element(By.XPATH, '//*[@id=\"nx_query\"]').send_keys('어버이날선물')"
   ]
  },
  {
   "cell_type": "code",
   "execution_count": 4,
   "metadata": {},
   "outputs": [],
   "source": [
    "# 입력후 검색 클릭\n",
    "driver.find_element(By.CLASS_NAME, 'search_btn').click()"
   ]
  },
  {
   "cell_type": "code",
   "execution_count": 5,
   "metadata": {},
   "outputs": [],
   "source": [
    "# select는 css \n",
    "# find tagname\n",
    "# find_element By\n",
    "# answer 개수 확인 5개 단위\n",
    "# li \n",
    "# 더보기\n",
    "# 읽을글 7개 = 클릭1번\n",
    "# 읽을글 12개 = 클릭2번\n",
    "# soup =BeautifulSoup(driver.page_source,'html.parser')\n",
    "# lis = soup.select('.c-heading__title-inner > li')"
   ]
  },
  {
   "cell_type": "code",
   "execution_count": 5,
   "metadata": {},
   "outputs": [
    {
     "data": {
      "text/plain": [
       "([<selenium.webdriver.remote.webelement.WebElement (session=\"1845c4ae7e1a51bc87f13e80b847c5aa\", element=\"e8db0a12-2bb2-40b8-82c0-7014749a66b4\")>,\n",
       "  <selenium.webdriver.remote.webelement.WebElement (session=\"1845c4ae7e1a51bc87f13e80b847c5aa\", element=\"e0d5804e-5426-4896-8b28-18265b655b1a\")>,\n",
       "  <selenium.webdriver.remote.webelement.WebElement (session=\"1845c4ae7e1a51bc87f13e80b847c5aa\", element=\"af94cd3f-7714-4937-b862-6a08e4c95681\")>,\n",
       "  <selenium.webdriver.remote.webelement.WebElement (session=\"1845c4ae7e1a51bc87f13e80b847c5aa\", element=\"f4ea35d9-49cd-4cf6-93af-504bec63e6cd\")>,\n",
       "  <selenium.webdriver.remote.webelement.WebElement (session=\"1845c4ae7e1a51bc87f13e80b847c5aa\", element=\"37481762-86bd-4bb0-b33a-dab209b8f2c0\")>,\n",
       "  <selenium.webdriver.remote.webelement.WebElement (session=\"1845c4ae7e1a51bc87f13e80b847c5aa\", element=\"77ee86f5-f67d-46af-93c9-1984d55bdb49\")>,\n",
       "  <selenium.webdriver.remote.webelement.WebElement (session=\"1845c4ae7e1a51bc87f13e80b847c5aa\", element=\"ffcaf5ec-da1b-4ffb-8ee2-8df5beb01536\")>,\n",
       "  <selenium.webdriver.remote.webelement.WebElement (session=\"1845c4ae7e1a51bc87f13e80b847c5aa\", element=\"c93fa6a5-32b4-4323-acde-fbf716159b0d\")>,\n",
       "  <selenium.webdriver.remote.webelement.WebElement (session=\"1845c4ae7e1a51bc87f13e80b847c5aa\", element=\"02b4c57f-51ab-455c-96c6-50e358fbb622\")>,\n",
       "  <selenium.webdriver.remote.webelement.WebElement (session=\"1845c4ae7e1a51bc87f13e80b847c5aa\", element=\"a1e74e70-ac72-4af9-ba5f-afc26cdb2e1a\")>],\n",
       " 10)"
      ]
     },
     "execution_count": 5,
     "metadata": {},
     "output_type": "execute_result"
    }
   ],
   "source": [
    "# 질문 링크 가져오기\n",
    "question = driver.find_elements(By.CSS_SELECTOR, '.basic1 > li')\n",
    "question, len(question)"
   ]
  },
  {
   "cell_type": "code",
   "execution_count": 6,
   "metadata": {},
   "outputs": [
    {
     "data": {
      "text/plain": [
       "10"
      ]
     },
     "execution_count": 6,
     "metadata": {},
     "output_type": "execute_result"
    }
   ],
   "source": [
    "# 답변수 \n",
    "int(driver.find_element(By.CLASS_NAME, 'hit').text.split()[1])"
   ]
  },
  {
   "cell_type": "code",
   "execution_count": null,
   "metadata": {},
   "outputs": [],
   "source": [
    "# 페이지 넘기기\n",
    "driver.find_element(By.CSS_SELECTOR, '.s_paging > a').click()"
   ]
  },
  {
   "cell_type": "code",
   "execution_count": null,
   "metadata": {},
   "outputs": [],
   "source": [
    "purl = driver.find_element(By.CSS_SELECTOR, '.s_paging > a').click()"
   ]
  },
  {
   "cell_type": "code",
   "execution_count": 6,
   "metadata": {},
   "outputs": [
    {
     "data": {
      "text/plain": [
       "'2'"
      ]
     },
     "execution_count": 6,
     "metadata": {},
     "output_type": "execute_result"
    }
   ],
   "source": [
    "driver.find_element(By.CSS_SELECTOR, '.s_paging > a').text"
   ]
  },
  {
   "cell_type": "code",
   "execution_count": null,
   "metadata": {},
   "outputs": [],
   "source": [
    "urls = driver.find_elements(By.XPATH, '//*[@id=\"s_content\"]/div[3]/ul/li')"
   ]
  },
  {
   "cell_type": "code",
   "execution_count": null,
   "metadata": {},
   "outputs": [],
   "source": [
    "url_list = []\n",
    "for url in urls:\n",
    "    href = url.find_element(By.TAG_NAME, 'a')\n",
    "    url_list.append(href.get_attribute('href'))  "
   ]
  },
  {
   "cell_type": "code",
   "execution_count": null,
   "metadata": {},
   "outputs": [],
   "source": [
    "for url in urls:\n",
    "    href = url.find_element(By.TAG_NAME, 'a')\n",
    "    url_list.append(href.get_attribute('href'))  "
   ]
  },
  {
   "cell_type": "code",
   "execution_count": 5,
   "metadata": {},
   "outputs": [],
   "source": [
    "lines = []\n",
    "for i in range(30):\n",
    "    \n",
    "    question = driver.find_elements(By.CSS_SELECTOR, '.basic1 > li')\n",
    "    answer_count = int(driver.find_element(By.CLASS_NAME, 'hit').text.split()[1])\n",
    "    if i :\n",
    "        driver.find_element(By.CSS_SELECTOR, '.s_paging > a').click()\n",
    "    lines.append({'링크':question, '답변수':answer_count})"
   ]
  },
  {
   "cell_type": "code",
   "execution_count": null,
   "metadata": {},
   "outputs": [
    {
     "data": {
      "text/html": [
       "<div>\n",
       "<style scoped>\n",
       "    .dataframe tbody tr th:only-of-type {\n",
       "        vertical-align: middle;\n",
       "    }\n",
       "\n",
       "    .dataframe tbody tr th {\n",
       "        vertical-align: top;\n",
       "    }\n",
       "\n",
       "    .dataframe thead th {\n",
       "        text-align: right;\n",
       "    }\n",
       "</style>\n",
       "<table border=\"1\" class=\"dataframe\">\n",
       "  <thead>\n",
       "    <tr style=\"text-align: right;\">\n",
       "      <th></th>\n",
       "      <th>링크</th>\n",
       "      <th>답변수</th>\n",
       "    </tr>\n",
       "  </thead>\n",
       "  <tbody>\n",
       "    <tr>\n",
       "      <th>8</th>\n",
       "      <td>[&lt;selenium.webdriver.remote.webelement.WebElem...</td>\n",
       "      <td>6</td>\n",
       "    </tr>\n",
       "    <tr>\n",
       "      <th>9</th>\n",
       "      <td>[&lt;selenium.webdriver.remote.webelement.WebElem...</td>\n",
       "      <td>1</td>\n",
       "    </tr>\n",
       "    <tr>\n",
       "      <th>10</th>\n",
       "      <td>[&lt;selenium.webdriver.remote.webelement.WebElem...</td>\n",
       "      <td>6</td>\n",
       "    </tr>\n",
       "    <tr>\n",
       "      <th>11</th>\n",
       "      <td>[&lt;selenium.webdriver.remote.webelement.WebElem...</td>\n",
       "      <td>1</td>\n",
       "    </tr>\n",
       "    <tr>\n",
       "      <th>12</th>\n",
       "      <td>[&lt;selenium.webdriver.remote.webelement.WebElem...</td>\n",
       "      <td>6</td>\n",
       "    </tr>\n",
       "  </tbody>\n",
       "</table>\n",
       "</div>"
      ],
      "text/plain": [
       "                                                   링크  답변수\n",
       "8   [<selenium.webdriver.remote.webelement.WebElem...    6\n",
       "9   [<selenium.webdriver.remote.webelement.WebElem...    1\n",
       "10  [<selenium.webdriver.remote.webelement.WebElem...    6\n",
       "11  [<selenium.webdriver.remote.webelement.WebElem...    1\n",
       "12  [<selenium.webdriver.remote.webelement.WebElem...    6"
      ]
     },
     "execution_count": 32,
     "metadata": {},
     "output_type": "execute_result"
    }
   ],
   "source": [
    "df = pd.DataFrame(lines)\n",
    "df.tail()"
   ]
  }
 ],
 "metadata": {
  "kernelspec": {
   "display_name": "base",
   "language": "python",
   "name": "python3"
  },
  "language_info": {
   "codemirror_mode": {
    "name": "ipython",
    "version": 3
   },
   "file_extension": ".py",
   "mimetype": "text/x-python",
   "name": "python",
   "nbconvert_exporter": "python",
   "pygments_lexer": "ipython3",
   "version": "3.10.9"
  },
  "orig_nbformat": 4
 },
 "nbformat": 4,
 "nbformat_minor": 2
}
