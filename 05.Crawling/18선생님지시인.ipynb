{
 "cells": [
  {
   "cell_type": "code",
   "execution_count": 1,
   "metadata": {},
   "outputs": [],
   "source": [
    "import time \n",
    "import pandas as pd\n",
    "from selenium import webdriver \n",
    "from selenium.webdriver.common.by import By\n",
    "from selenium.webdriver.common.keys import Keys \n",
    "from bs4 import BeautifulSoup\n",
    "import requests\n",
    "from urllib.parse import quote\n",
    "import warnings\n",
    "warnings.filterwarnings('ignore')"
   ]
  },
  {
   "attachments": {},
   "cell_type": "markdown",
   "metadata": {},
   "source": [
    "##### 어버이날 선물 네이버지식인 100개 크롤링"
   ]
  },
  {
   "cell_type": "code",
   "execution_count": 2,
   "metadata": {},
   "outputs": [],
   "source": [
    "url = 'https://kin.naver.com/'\n",
    "driver = webdriver.Chrome('C:/Users/YONSAI/Downloads/chromedriver.exe') # chromedriver 위치\n",
    "# driver = webdriver.Chrome(r'C:\\Users\\user\\Downloads\\chromedriver.exe')  # 집에서\n",
    "driver.get(url)\n",
    "time.sleep(2)"
   ]
  },
  {
   "cell_type": "code",
   "execution_count": 3,
   "metadata": {},
   "outputs": [],
   "source": [
    "# 어버이날선물 입력\n",
    "driver.find_element(By.XPATH, '//*[@id=\"nx_query\"]').send_keys('어버이날선물')"
   ]
  },
  {
   "cell_type": "code",
   "execution_count": 4,
   "metadata": {},
   "outputs": [],
   "source": [
    "# 입력후 검색 클릭\n",
    "driver.find_element(By.CLASS_NAME, 'search_btn').click()"
   ]
  },
  {
   "cell_type": "code",
   "execution_count": 5,
   "metadata": {},
   "outputs": [],
   "source": [
    "# select는 css \n",
    "# find tagname\n",
    "# find_element By\n",
    "# answer 개수 확인 5개 단위\n",
    "# li \n",
    "# 더보기\n",
    "# 읽을글 7개 = 클릭1번\n",
    "# 읽을글 12개 = 클릭2번\n",
    "# soup =BeautifulSoup(driver.page_source,'html.parser')\n",
    "# lis = soup.select('.c-heading__title-inner > li')"
   ]
  },
  {
   "cell_type": "code",
   "execution_count": 5,
   "metadata": {},
   "outputs": [
    {
     "data": {
      "text/plain": [
       "([<selenium.webdriver.remote.webelement.WebElement (session=\"c445baaa5ffa1e4cabdbae3e7e186226\", element=\"2da0ddaa-212c-4896-9b4b-a11809c5685e\")>,\n",
       "  <selenium.webdriver.remote.webelement.WebElement (session=\"c445baaa5ffa1e4cabdbae3e7e186226\", element=\"7904cb9b-f61b-46e3-bdca-e713932ba023\")>,\n",
       "  <selenium.webdriver.remote.webelement.WebElement (session=\"c445baaa5ffa1e4cabdbae3e7e186226\", element=\"7f88f5e3-6c9c-4d8e-8902-0458eb3aec2a\")>,\n",
       "  <selenium.webdriver.remote.webelement.WebElement (session=\"c445baaa5ffa1e4cabdbae3e7e186226\", element=\"0b5e1a6c-50b3-4b97-9081-162d7cfdff38\")>,\n",
       "  <selenium.webdriver.remote.webelement.WebElement (session=\"c445baaa5ffa1e4cabdbae3e7e186226\", element=\"c8b3a806-cb05-412c-b285-6042e8826d49\")>,\n",
       "  <selenium.webdriver.remote.webelement.WebElement (session=\"c445baaa5ffa1e4cabdbae3e7e186226\", element=\"73c0f741-6032-4d17-8e24-d9610138f261\")>,\n",
       "  <selenium.webdriver.remote.webelement.WebElement (session=\"c445baaa5ffa1e4cabdbae3e7e186226\", element=\"60bf78e4-fedd-4671-84e8-cc3dded0913e\")>,\n",
       "  <selenium.webdriver.remote.webelement.WebElement (session=\"c445baaa5ffa1e4cabdbae3e7e186226\", element=\"3f0fbcdc-2be7-45dd-9650-1a2800d00f1b\")>,\n",
       "  <selenium.webdriver.remote.webelement.WebElement (session=\"c445baaa5ffa1e4cabdbae3e7e186226\", element=\"d0771ef9-b28c-4595-9546-5dd15b114111\")>,\n",
       "  <selenium.webdriver.remote.webelement.WebElement (session=\"c445baaa5ffa1e4cabdbae3e7e186226\", element=\"e6bac8ae-071b-4b47-8a61-3144e6af2d2f\")>],\n",
       " 10)"
      ]
     },
     "execution_count": 5,
     "metadata": {},
     "output_type": "execute_result"
    }
   ],
   "source": [
    "# 질문 링크 가져오기\n",
    "lis = driver.find_elements(By.CSS_SELECTOR, '.basic1 > li')\n",
    "lis, len(lis)"
   ]
  },
  {
   "cell_type": "code",
   "execution_count": 6,
   "metadata": {},
   "outputs": [
    {
     "data": {
      "text/plain": [
       "10"
      ]
     },
     "execution_count": 6,
     "metadata": {},
     "output_type": "execute_result"
    }
   ],
   "source": [
    "#페이지 이동해서 HTML 코드를 BeautifulSoup으로 parsing\n",
    "soup = BeautifulSoup(driver.page_source,'html.parser')\n",
    "lis = soup.select('.basic1 > li')\n",
    "len(lis) # 10건"
   ]
  },
  {
   "cell_type": "code",
   "execution_count": 12,
   "metadata": {},
   "outputs": [
    {
     "data": {
      "text/plain": [
       "'https://kin.naver.com/qna/detail.naver?d1id=8&dirId=801&docId=444244926&qb=7Ja067KE7J2064Kg7ISg66y8&enc=utf8&section=kin&rank=5&search_sort=0&spq=0'"
      ]
     },
     "execution_count": 12,
     "metadata": {},
     "output_type": "execute_result"
    }
   ],
   "source": [
    "li = lis[4]\n",
    "sub_url = li.select_one('a._searchListTitleAnchor')['href']\n",
    "sub_url # _nclicks:kin.txt _searchListTitleAnchor"
   ]
  },
  {
   "cell_type": "code",
   "execution_count": 13,
   "metadata": {},
   "outputs": [],
   "source": [
    "driver.get(sub_url)"
   ]
  },
  {
   "cell_type": "code",
   "execution_count": null,
   "metadata": {},
   "outputs": [],
   "source": [
    "_answerCount num\n",
    "#answerArea > div > div.c-classify.c-classify--sorting > div.c-classify__title-part > h3 > em"
   ]
  },
  {
   "cell_type": "code",
   "execution_count": 18,
   "metadata": {},
   "outputs": [
    {
     "ename": "AttributeError",
     "evalue": "'NoneType' object has no attribute 'get_text'",
     "output_type": "error",
     "traceback": [
      "\u001b[1;31m---------------------------------------------------------------------------\u001b[0m",
      "\u001b[1;31mAttributeError\u001b[0m                            Traceback (most recent call last)",
      "Cell \u001b[1;32mIn[18], line 1\u001b[0m\n\u001b[1;32m----> 1\u001b[0m li\u001b[39m.\u001b[39;49mselect_one(\u001b[39m'\u001b[39;49m\u001b[39mh3 >._answerCount.num\u001b[39;49m\u001b[39m'\u001b[39;49m)\u001b[39m.\u001b[39;49mget_text()\n",
      "\u001b[1;31mAttributeError\u001b[0m: 'NoneType' object has no attribute 'get_text'"
     ]
    }
   ],
   "source": [
    "li.select_one('h3 >._answerCount.num').get_text()"
   ]
  },
  {
   "cell_type": "code",
   "execution_count": null,
   "metadata": {},
   "outputs": [],
   "source": [
    "# 하나의 글에서 모든 답변을 추출하기\n",
    "lines = []\n",
    "for div in divs:\n",
    "    ps = div.select('p.se_text-paragraph')\n",
    "    for p in ps:\n",
    "        lines.append(p.get_text())"
   ]
  },
  {
   "cell_type": "code",
   "execution_count": 6,
   "metadata": {},
   "outputs": [
    {
     "data": {
      "text/plain": [
       "10"
      ]
     },
     "execution_count": 6,
     "metadata": {},
     "output_type": "execute_result"
    }
   ],
   "source": [
    "# 답변수 \n",
    "int(driver.find_element(By.CLASS_NAME, 'hit').text.split()[1])"
   ]
  },
  {
   "cell_type": "code",
   "execution_count": null,
   "metadata": {},
   "outputs": [],
   "source": [
    "# 페이지 넘기기\n",
    "driver.find_element(By.CSS_SELECTOR, '.s_paging > a').click()"
   ]
  },
  {
   "cell_type": "code",
   "execution_count": null,
   "metadata": {},
   "outputs": [],
   "source": [
    "purl = driver.find_element(By.CSS_SELECTOR, '.s_paging > a').click()"
   ]
  },
  {
   "cell_type": "code",
   "execution_count": 6,
   "metadata": {},
   "outputs": [
    {
     "data": {
      "text/plain": [
       "'2'"
      ]
     },
     "execution_count": 6,
     "metadata": {},
     "output_type": "execute_result"
    }
   ],
   "source": [
    "driver.find_element(By.CSS_SELECTOR, '.s_paging > a').text"
   ]
  },
  {
   "cell_type": "code",
   "execution_count": null,
   "metadata": {},
   "outputs": [],
   "source": [
    "urls = driver.find_elements(By.XPATH, '//*[@id=\"s_content\"]/div[3]/ul/li')"
   ]
  },
  {
   "cell_type": "code",
   "execution_count": null,
   "metadata": {},
   "outputs": [],
   "source": [
    "url_list = []\n",
    "for url in urls:\n",
    "    href = url.find_element(By.TAG_NAME, 'a')\n",
    "    url_list.append(href.get_attribute('href'))  "
   ]
  },
  {
   "cell_type": "code",
   "execution_count": null,
   "metadata": {},
   "outputs": [],
   "source": [
    "for url in urls:\n",
    "    href = url.find_element(By.TAG_NAME, 'a')\n",
    "    url_list.append(href.get_attribute('href'))  "
   ]
  },
  {
   "cell_type": "code",
   "execution_count": 5,
   "metadata": {},
   "outputs": [],
   "source": [
    "lines = []\n",
    "for i in range(30):\n",
    "    \n",
    "    question = driver.find_elements(By.CSS_SELECTOR, '.basic1 > li')\n",
    "    answer_count = int(driver.find_element(By.CLASS_NAME, 'hit').text.split()[1])\n",
    "    if i :\n",
    "        driver.find_element(By.CSS_SELECTOR, '.s_paging > a').click()\n",
    "    lines.append({'링크':question, '답변수':answer_count})"
   ]
  },
  {
   "cell_type": "code",
   "execution_count": null,
   "metadata": {},
   "outputs": [
    {
     "data": {
      "text/html": [
       "<div>\n",
       "<style scoped>\n",
       "    .dataframe tbody tr th:only-of-type {\n",
       "        vertical-align: middle;\n",
       "    }\n",
       "\n",
       "    .dataframe tbody tr th {\n",
       "        vertical-align: top;\n",
       "    }\n",
       "\n",
       "    .dataframe thead th {\n",
       "        text-align: right;\n",
       "    }\n",
       "</style>\n",
       "<table border=\"1\" class=\"dataframe\">\n",
       "  <thead>\n",
       "    <tr style=\"text-align: right;\">\n",
       "      <th></th>\n",
       "      <th>링크</th>\n",
       "      <th>답변수</th>\n",
       "    </tr>\n",
       "  </thead>\n",
       "  <tbody>\n",
       "    <tr>\n",
       "      <th>8</th>\n",
       "      <td>[&lt;selenium.webdriver.remote.webelement.WebElem...</td>\n",
       "      <td>6</td>\n",
       "    </tr>\n",
       "    <tr>\n",
       "      <th>9</th>\n",
       "      <td>[&lt;selenium.webdriver.remote.webelement.WebElem...</td>\n",
       "      <td>1</td>\n",
       "    </tr>\n",
       "    <tr>\n",
       "      <th>10</th>\n",
       "      <td>[&lt;selenium.webdriver.remote.webelement.WebElem...</td>\n",
       "      <td>6</td>\n",
       "    </tr>\n",
       "    <tr>\n",
       "      <th>11</th>\n",
       "      <td>[&lt;selenium.webdriver.remote.webelement.WebElem...</td>\n",
       "      <td>1</td>\n",
       "    </tr>\n",
       "    <tr>\n",
       "      <th>12</th>\n",
       "      <td>[&lt;selenium.webdriver.remote.webelement.WebElem...</td>\n",
       "      <td>6</td>\n",
       "    </tr>\n",
       "  </tbody>\n",
       "</table>\n",
       "</div>"
      ],
      "text/plain": [
       "                                                   링크  답변수\n",
       "8   [<selenium.webdriver.remote.webelement.WebElem...    6\n",
       "9   [<selenium.webdriver.remote.webelement.WebElem...    1\n",
       "10  [<selenium.webdriver.remote.webelement.WebElem...    6\n",
       "11  [<selenium.webdriver.remote.webelement.WebElem...    1\n",
       "12  [<selenium.webdriver.remote.webelement.WebElem...    6"
      ]
     },
     "execution_count": 32,
     "metadata": {},
     "output_type": "execute_result"
    }
   ],
   "source": [
    "df = pd.DataFrame(lines)\n",
    "df.tail()"
   ]
  }
 ],
 "metadata": {
  "kernelspec": {
   "display_name": "base",
   "language": "python",
   "name": "python3"
  },
  "language_info": {
   "codemirror_mode": {
    "name": "ipython",
    "version": 3
   },
   "file_extension": ".py",
   "mimetype": "text/x-python",
   "name": "python",
   "nbconvert_exporter": "python",
   "pygments_lexer": "ipython3",
   "version": "3.10.9"
  },
  "orig_nbformat": 4
 },
 "nbformat": 4,
 "nbformat_minor": 2
}
