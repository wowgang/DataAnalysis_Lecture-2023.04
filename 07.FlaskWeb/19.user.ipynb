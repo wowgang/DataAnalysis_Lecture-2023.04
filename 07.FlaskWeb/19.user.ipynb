{
 "cells": [
  {
   "cell_type": "code",
   "execution_count": 1,
   "metadata": {},
   "outputs": [],
   "source": [
    "import json"
   ]
  },
  {
   "cell_type": "code",
   "execution_count": 2,
   "metadata": {},
   "outputs": [
    {
     "name": "stdout",
     "output_type": "stream",
     "text": [
      "{\"admin\": \"A6xnQhbz4Vx2HuGl4lXwZ5U2I8iziLRFnhP5eNfIRvQ=\", \"james\": \"A6xnQhbz4Vx2HuGl4lXwZ5U2I8iziLRFnhP5eNfIRvQ=\", \"maria\": \"A6xnQhbz4Vx2HuGl4lXwZ5U2I8iziLRFnhP5eNfIRvQ=\"}\n"
     ]
    }
   ],
   "source": [
    "with open('static/data/password.txt') as f:\n",
    "    s = f.read()\n",
    "print(s)"
   ]
  },
  {
   "cell_type": "code",
   "execution_count": 3,
   "metadata": {},
   "outputs": [
    {
     "data": {
      "text/plain": [
       "{'admin': 'A6xnQhbz4Vx2HuGl4lXwZ5U2I8iziLRFnhP5eNfIRvQ=',\n",
       " 'james': 'A6xnQhbz4Vx2HuGl4lXwZ5U2I8iziLRFnhP5eNfIRvQ=',\n",
       " 'maria': 'A6xnQhbz4Vx2HuGl4lXwZ5U2I8iziLRFnhP5eNfIRvQ='}"
      ]
     },
     "execution_count": 3,
     "metadata": {},
     "output_type": "execute_result"
    }
   ],
   "source": [
    "pwd = json.loads(s)\n",
    "pwd"
   ]
  },
  {
   "cell_type": "code",
   "execution_count": 4,
   "metadata": {},
   "outputs": [],
   "source": [
    "import hashlib, base64"
   ]
  },
  {
   "cell_type": "code",
   "execution_count": 5,
   "metadata": {},
   "outputs": [
    {
     "data": {
      "text/plain": [
       "b'1234'"
      ]
     },
     "execution_count": 5,
     "metadata": {},
     "output_type": "execute_result"
    }
   ],
   "source": [
    "pwd = '1234'\n",
    "pwd.encode()"
   ]
  },
  {
   "cell_type": "code",
   "execution_count": 6,
   "metadata": {},
   "outputs": [
    {
     "data": {
      "text/plain": [
       "'A6xnQhbz4Vx2HuGl4lXwZ5U2I8iziLRFnhP5eNfIRvQ='"
      ]
     },
     "execution_count": 6,
     "metadata": {},
     "output_type": "execute_result"
    }
   ],
   "source": [
    "pwd_sha256 = hashlib.sha256(pwd.encode())\n",
    "hashed_pwd = base64.b64encode(pwd_sha256.digest()).decode('utf-8')\n",
    "hashed_pwd"
   ]
  },
  {
   "cell_type": "code",
   "execution_count": 7,
   "metadata": {},
   "outputs": [
    {
     "name": "stdout",
     "output_type": "stream",
     "text": [
      "{\"admin\": \"A6xnQhbz4Vx2HuGl4lXwZ5U2I8iziLRFnhP5eNfIRvQ=\", \"james\": \"A6xnQhbz4Vx2HuGl4lXwZ5U2I8iziLRFnhP5eNfIRvQ=\", \"maria\": \"A6xnQhbz4Vx2HuGl4lXwZ5U2I8iziLRFnhP5eNfIRvQ=\"}\n"
     ]
    }
   ],
   "source": [
    "with open('static/data/password.txt') as f:\n",
    "    s = f.read()\n",
    "print(s)"
   ]
  },
  {
   "cell_type": "code",
   "execution_count": 8,
   "metadata": {},
   "outputs": [
    {
     "data": {
      "text/plain": [
       "{'admin': 'A6xnQhbz4Vx2HuGl4lXwZ5U2I8iziLRFnhP5eNfIRvQ=',\n",
       " 'james': 'A6xnQhbz4Vx2HuGl4lXwZ5U2I8iziLRFnhP5eNfIRvQ=',\n",
       " 'maria': 'A6xnQhbz4Vx2HuGl4lXwZ5U2I8iziLRFnhP5eNfIRvQ='}"
      ]
     },
     "execution_count": 8,
     "metadata": {},
     "output_type": "execute_result"
    }
   ],
   "source": [
    "passwords = json.loads(s)\n",
    "passwords"
   ]
  },
  {
   "attachments": {},
   "cell_type": "markdown",
   "metadata": {},
   "source": [
    "- 로그인할 때 나타날 수 있는 세가지 케이스"
   ]
  },
  {
   "cell_type": "code",
   "execution_count": 16,
   "metadata": {},
   "outputs": [
    {
     "data": {
      "text/plain": [
       "True"
      ]
     },
     "execution_count": 16,
     "metadata": {},
     "output_type": "execute_result"
    }
   ],
   "source": [
    "# 사용자 id, pwd가 올바른 경우\n",
    "uid = 'james'\n",
    "pwd = '1234'\n",
    "pwd_sha256 = hashlib.sha256(pwd.encode())\n",
    "hashed_pwd = base64.b64encode(pwd_sha256.digest()).decode('utf-8')\n",
    "hashed_pwd == passwords[uid]"
   ]
  },
  {
   "cell_type": "code",
   "execution_count": 17,
   "metadata": {},
   "outputs": [
    {
     "data": {
      "text/plain": [
       "'A6xnQhbz4Vx2HuGl4lXwZ5U2I8iziLRFnhP5eNfIRvQ='"
      ]
     },
     "execution_count": 17,
     "metadata": {},
     "output_type": "execute_result"
    }
   ],
   "source": [
    "passwords[uid]"
   ]
  },
  {
   "cell_type": "code",
   "execution_count": 10,
   "metadata": {},
   "outputs": [
    {
     "ename": "KeyError",
     "evalue": "'hong'",
     "output_type": "error",
     "traceback": [
      "\u001b[1;31m---------------------------------------------------------------------------\u001b[0m",
      "\u001b[1;31mKeyError\u001b[0m                                  Traceback (most recent call last)",
      "Cell \u001b[1;32mIn[10], line 3\u001b[0m\n\u001b[0;32m      1\u001b[0m \u001b[39m# 사용 id가 잘못된 경우\u001b[39;00m\n\u001b[0;32m      2\u001b[0m uid \u001b[39m=\u001b[39m \u001b[39m'\u001b[39m\u001b[39mhong\u001b[39m\u001b[39m'\u001b[39m\n\u001b[1;32m----> 3\u001b[0m passweords[uid]\n",
      "\u001b[1;31mKeyError\u001b[0m: 'hong'"
     ]
    }
   ],
   "source": [
    "# 사용 id가 잘못된 경우\n",
    "uid = 'hong'\n",
    "passwords[uid]"
   ]
  },
  {
   "cell_type": "code",
   "execution_count": 12,
   "metadata": {},
   "outputs": [
    {
     "data": {
      "text/plain": [
       "False"
      ]
     },
     "execution_count": 12,
     "metadata": {},
     "output_type": "execute_result"
    }
   ],
   "source": [
    "# 암호가 잘못된 경우\n",
    "uid = 'james'\n",
    "pwd = '1111'\n",
    "pwd_sha256 = hashlib.sha256(pwd.encode())\n",
    "hashed_pwd = base64.b64encode(pwd_sha256.digest()).decode('utf-8')\n",
    "hashed_pwd == passwords[uid]"
   ]
  },
  {
   "cell_type": "code",
   "execution_count": 15,
   "metadata": {},
   "outputs": [
    {
     "name": "stdout",
     "output_type": "stream",
     "text": [
      "비번이 달라요\n"
     ]
    }
   ],
   "source": [
    "uid, pwd = input('uid와 암호를 입력하세요.').split()\n",
    "\n",
    "pwd_sha256 = hashlib.sha256(pwd.encode())\n",
    "hashed_pwd = base64.b64encode(pwd_sha256.digest()).decode('utf-8')\n",
    "\n",
    "if uid in passwords:\n",
    "    if hashed_pwd == passwords[uid]:\n",
    "        print('환영')\n",
    "    else: \n",
    "        print('비번이 달라요')\n",
    "else:\n",
    "    print('id,pwd 오류')"
   ]
  },
  {
   "cell_type": "code",
   "execution_count": 18,
   "metadata": {},
   "outputs": [
    {
     "name": "stdout",
     "output_type": "stream",
     "text": [
      "환영합니다\n"
     ]
    }
   ],
   "source": [
    "# 쌤방법\n",
    "uid, pwd = input('uid와 암호를 입력하세요.').split()\n",
    "try:\n",
    "    db_pwd = passwords[uid]\n",
    "    pwd_sha256 = hashlib.sha256(pwd.encode())\n",
    "    hashed_pwd = base64.b64encode(pwd_sha256.digest()).decode('utf-8')\n",
    "    if hashed_pwd == db_pwd:\n",
    "        print('환영합니다')     # 초기 화면으로 보내줌\n",
    "    else: \n",
    "        print('비밀번호가 틀립니다.')   # 로그인 화면을 다시 보내줌\n",
    "\n",
    "except:\n",
    "    print('사용자 ID가 잘못되었습니다.')    # 회원 가입 페이지로 안내"
   ]
  }
 ],
 "metadata": {
  "kernelspec": {
   "display_name": "base",
   "language": "python",
   "name": "python3"
  },
  "language_info": {
   "codemirror_mode": {
    "name": "ipython",
    "version": 3
   },
   "file_extension": ".py",
   "mimetype": "text/x-python",
   "name": "python",
   "nbconvert_exporter": "python",
   "pygments_lexer": "ipython3",
   "version": "3.10.9"
  },
  "orig_nbformat": 4
 },
 "nbformat": 4,
 "nbformat_minor": 2
}
