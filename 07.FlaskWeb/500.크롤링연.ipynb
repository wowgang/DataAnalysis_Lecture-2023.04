{
 "cells": [
  {
   "cell_type": "code",
   "execution_count": 2,
   "metadata": {},
   "outputs": [],
   "source": [
    "import requests\n",
    "from urllib.parse import quote\n",
    "import pandas as pd\n",
    "from bs4 import BeautifulSoup"
   ]
  },
  {
   "cell_type": "code",
   "execution_count": 47,
   "metadata": {},
   "outputs": [],
   "source": [
    "url = 'https://www.melon.com/chart/age/index.htm?chartType=YE&chartGenre=KPOP&chartDate=2000'\n",
    "header = {'User-Agent': 'Mozilla/5.0 (Windows NT 10.0; Win64; x64) AppleWebKit/537.36 (KHTML, like Gecko) Chrome/112.0.0.0 Safari/537.36'}\n",
    "# result = requests.get(url,headers=header)\n",
    "# result.text "
   ]
  },
  {
   "cell_type": "code",
   "execution_count": 48,
   "metadata": {},
   "outputs": [],
   "source": [
    "from selenium import webdriver\n",
    "import warnings\n",
    "warnings.filterwarnings('ignore')\n",
    "import time \n",
    "driver = webdriver.Chrome('C:/Users/YONSAI/Downloads/chromedriver.exe') # chromedriver 위치\n",
    "driver.get(url)\n",
    "time.sleep(1)"
   ]
  },
  {
   "cell_type": "code",
   "execution_count": 49,
   "metadata": {},
   "outputs": [],
   "source": [
    "soup = BeautifulSoup(driver.page_source,'html.parser')"
   ]
  },
  {
   "cell_type": "code",
   "execution_count": 51,
   "metadata": {},
   "outputs": [
    {
     "data": {
      "text/plain": [
       "28983"
      ]
     },
     "execution_count": 51,
     "metadata": {},
     "output_type": "execute_result"
    }
   ],
   "source": [
    "len(soup.text) "
   ]
  },
  {
   "cell_type": "code",
   "execution_count": 58,
   "metadata": {},
   "outputs": [
    {
     "data": {
      "text/plain": [
       "50"
      ]
     },
     "execution_count": 58,
     "metadata": {},
     "output_type": "execute_result"
    }
   ],
   "source": [
    "trs = soup.select('tbody > tr.lst50')\n",
    "len(trs)"
   ]
  },
  {
   "cell_type": "code",
   "execution_count": 59,
   "metadata": {},
   "outputs": [],
   "source": [
    "tr = trs[0]"
   ]
  },
  {
   "cell_type": "code",
   "execution_count": 99,
   "metadata": {},
   "outputs": [
    {
     "data": {
      "text/plain": [
       "'106212'"
      ]
     },
     "execution_count": 99,
     "metadata": {},
     "output_type": "execute_result"
    }
   ],
   "source": [
    "songId  = tr.select_one('.btn.btn_icon_detail')['onclick'].split(\"'\")[-2]\n",
    "songId "
   ]
  },
  {
   "cell_type": "code",
   "execution_count": 105,
   "metadata": {},
   "outputs": [
    {
     "data": {
      "text/plain": [
       "'아시나요 '"
      ]
     },
     "execution_count": 105,
     "metadata": {},
     "output_type": "execute_result"
    }
   ],
   "source": [
    "title = tr.select_one('.ellipsis.rank01 > span > strong > a').text\n",
    "title"
   ]
  },
  {
   "cell_type": "code",
   "execution_count": 108,
   "metadata": {},
   "outputs": [
    {
     "data": {
      "text/plain": [
       "'조성모'"
      ]
     },
     "execution_count": 108,
     "metadata": {},
     "output_type": "execute_result"
    }
   ],
   "source": [
    "# artist\n",
    "artist = tr.select_one('.ellipsis.rank02 > a').text\n",
    "artist"
   ]
  },
  {
   "cell_type": "code",
   "execution_count": 111,
   "metadata": {},
   "outputs": [
    {
     "data": {
      "text/plain": [
       "'Let Me Love'"
      ]
     },
     "execution_count": 111,
     "metadata": {},
     "output_type": "execute_result"
    }
   ],
   "source": [
    "# album\n",
    "album = tr.select_one('.ellipsis.rank03 > a').text\n",
    "album"
   ]
  },
  {
   "cell_type": "code",
   "execution_count": 113,
   "metadata": {},
   "outputs": [
    {
     "data": {
      "text/plain": [
       "'https://cdnimg.melon.co.kr/cm/album/images/000/04/801/4801_500.jpg/melon/resize/48/quality/80/optimize'"
      ]
     },
     "execution_count": 113,
     "metadata": {},
     "output_type": "execute_result"
    }
   ],
   "source": [
    "# img\n",
    "img = tr.select_one('#lst50 > td:nth-child(3) > div > a > img')['src']\n",
    "img"
   ]
  },
  {
   "cell_type": "code",
   "execution_count": 127,
   "metadata": {},
   "outputs": [
    {
     "data": {
      "text/plain": [
       "32201"
      ]
     },
     "execution_count": 127,
     "metadata": {},
     "output_type": "execute_result"
    }
   ],
   "source": [
    "# like\n",
    "like = tr.select_one('.cnt').contents[-1].strip()\n",
    "like = int(like.replace(',', ''))\n",
    "like\n"
   ]
  },
  {
   "cell_type": "code",
   "execution_count": 18,
   "metadata": {},
   "outputs": [
    {
     "name": "stderr",
     "output_type": "stream",
     "text": [
      " 45%|████▌     | 5/11 [00:39<00:45,  7.52s/it]"
     ]
    },
    {
     "name": "stdout",
     "output_type": "stream",
     "text": [
      "4582959\n"
     ]
    },
    {
     "name": "stderr",
     "output_type": "stream",
     "text": [
      "100%|██████████| 11/11 [01:22<00:00,  7.53s/it]\n"
     ]
    },
    {
     "data": {
      "text/html": [
       "<div>\n",
       "<style scoped>\n",
       "    .dataframe tbody tr th:only-of-type {\n",
       "        vertical-align: middle;\n",
       "    }\n",
       "\n",
       "    .dataframe tbody tr th {\n",
       "        vertical-align: top;\n",
       "    }\n",
       "\n",
       "    .dataframe thead th {\n",
       "        text-align: right;\n",
       "    }\n",
       "</style>\n",
       "<table border=\"1\" class=\"dataframe\">\n",
       "  <thead>\n",
       "    <tr style=\"text-align: right;\">\n",
       "      <th></th>\n",
       "      <th>songId</th>\n",
       "      <th>곡제목</th>\n",
       "      <th>아티스트</th>\n",
       "      <th>앨범명</th>\n",
       "      <th>곡이미지url</th>\n",
       "      <th>좋아요수</th>\n",
       "    </tr>\n",
       "  </thead>\n",
       "  <tbody>\n",
       "    <tr>\n",
       "      <th>45</th>\n",
       "      <td>32243273</td>\n",
       "      <td>Square (2017)</td>\n",
       "      <td>백예린 (Yerin Baek)</td>\n",
       "      <td>Every letter I sent you.</td>\n",
       "      <td>https://cdnimg.melon.co.kr/cm2/album/images/10...</td>\n",
       "      <td>276276</td>\n",
       "    </tr>\n",
       "    <tr>\n",
       "      <th>46</th>\n",
       "      <td>32381408</td>\n",
       "      <td>FIESTA</td>\n",
       "      <td>IZ*ONE (아이즈원)</td>\n",
       "      <td>BLOOM*IZ</td>\n",
       "      <td>https://cdnimg.melon.co.kr/cm2/album/images/10...</td>\n",
       "      <td>143252</td>\n",
       "    </tr>\n",
       "    <tr>\n",
       "      <th>47</th>\n",
       "      <td>32528369</td>\n",
       "      <td>덤더럼 (Dumhdurum)</td>\n",
       "      <td>Apink (에이핑크)</td>\n",
       "      <td>LOOK</td>\n",
       "      <td>https://cdnimg.melon.co.kr/cm2/album/images/10...</td>\n",
       "      <td>94896</td>\n",
       "    </tr>\n",
       "    <tr>\n",
       "      <th>48</th>\n",
       "      <td>32228058</td>\n",
       "      <td>아마두 (feat.우원재, 김효은, 넉살, Huckleberry P)</td>\n",
       "      <td>염따</td>\n",
       "      <td>Dingo X DAMOIM (Part 2)</td>\n",
       "      <td>https://cdnimg.melon.co.kr/cm2/album/images/10...</td>\n",
       "      <td>165258</td>\n",
       "    </tr>\n",
       "    <tr>\n",
       "      <th>49</th>\n",
       "      <td>32059630</td>\n",
       "      <td>조금 취했어 (Prod. 2soo)</td>\n",
       "      <td>임재현</td>\n",
       "      <td>조금 취했어</td>\n",
       "      <td>https://cdnimg.melon.co.kr/cm2/album/images/10...</td>\n",
       "      <td>128180</td>\n",
       "    </tr>\n",
       "  </tbody>\n",
       "</table>\n",
       "</div>"
      ],
      "text/plain": [
       "      songId                                      곡제목              아티스트   \n",
       "45  32243273                           Square (2017)   백예린 (Yerin Baek)  \\\n",
       "46  32381408                                  FIESTA      IZ*ONE (아이즈원)   \n",
       "47  32528369                         덤더럼 (Dumhdurum)       Apink (에이핑크)   \n",
       "48  32228058  아마두 (feat.우원재, 김효은, 넉살, Huckleberry P)                 염따   \n",
       "49  32059630                     조금 취했어 (Prod. 2soo)                임재현   \n",
       "\n",
       "                         앨범명   \n",
       "45  Every letter I sent you.  \\\n",
       "46                  BLOOM*IZ   \n",
       "47                      LOOK   \n",
       "48   Dingo X DAMOIM (Part 2)   \n",
       "49                    조금 취했어   \n",
       "\n",
       "                                              곡이미지url    좋아요수  \n",
       "45  https://cdnimg.melon.co.kr/cm2/album/images/10...  276276  \n",
       "46  https://cdnimg.melon.co.kr/cm2/album/images/10...  143252  \n",
       "47  https://cdnimg.melon.co.kr/cm2/album/images/10...   94896  \n",
       "48  https://cdnimg.melon.co.kr/cm2/album/images/10...  165258  \n",
       "49  https://cdnimg.melon.co.kr/cm2/album/images/10...  128180  "
      ]
     },
     "execution_count": 18,
     "metadata": {},
     "output_type": "execute_result"
    }
   ],
   "source": [
    "import requests\n",
    "from urllib.parse import quote\n",
    "import pandas as pd\n",
    "from bs4 import BeautifulSoup\n",
    "\n",
    "from selenium import webdriver\n",
    "import warnings\n",
    "warnings.filterwarnings('ignore')\n",
    "import time \n",
    "from tqdm import tqdm\n",
    "\n",
    "\n",
    "for i in tqdm(range(2010,2021)):\n",
    "    url = f'https://www.melon.com/chart/age/index.htm?chartType=YE&chartGenre=KPOP&chartDate={i}' \n",
    "    header = {'User-Agent': 'Mozilla/5.0 (Windows NT 10.0; Win64; x64) AppleWebKit/537.36 (KHTML, like Gecko) Chrome/112.0.0.0 Safari/537.36'}\n",
    "\n",
    "    options = webdriver.ChromeOptions()\n",
    "    options.add_argument('--headless')\n",
    "    options.add_argument('--no-sandbox')\n",
    "    options.add_argument(\"--single-process\")\n",
    "    options.add_argument(\"--disable-dev-shm-usage\")\n",
    "    driver = webdriver.Chrome('C:/Users/YONSAI/Downloads/chromedriver', options=options)\n",
    "    driver.get(url)\n",
    "    time.sleep(2)\n",
    "\n",
    "    soup = BeautifulSoup(driver.page_source,'html.parser')\n",
    "    lines = []\n",
    "    trs = soup.select('tbody > tr.lst50')\n",
    "\n",
    "    for tr in trs:\n",
    "        try:\n",
    "            songId  = tr.select_one('.btn.btn_icon_detail')['onclick'].split(\"'\")[-2]\n",
    "            title = tr.select_one('.ellipsis.rank01 > span > strong > a').text\n",
    "            artist = tr.select_one('.ellipsis.rank02 > a').text\n",
    "            album = tr.select_one('.ellipsis.rank03 > a').text\n",
    "            img = tr.select_one('#lst50 > td:nth-child(3) > div > a > img')['src']\n",
    "            like = tr.select_one('.cnt').contents[-1].strip()\n",
    "            like = int(like.replace(',', ''))\n",
    "            lines.append({ 'songId': songId, '곡제목':title, '아티스트':artist, '앨범명':album, '곡이미지url':img, '좋아요수':like})\n",
    "        except:\n",
    "            print(songId)\n",
    "df = pd.DataFrame(lines)\n",
    "df.tail()"
   ]
  },
  {
   "cell_type": "code",
   "execution_count": 21,
   "metadata": {},
   "outputs": [
    {
     "data": {
      "text/plain": [
       "'32313543'"
      ]
     },
     "execution_count": 21,
     "metadata": {},
     "output_type": "execute_result"
    }
   ],
   "source": [
    "df['songId'].values[0]"
   ]
  },
  {
   "cell_type": "code",
   "execution_count": null,
   "metadata": {},
   "outputs": [],
   "source": []
  },
  {
   "cell_type": "code",
   "execution_count": 157,
   "metadata": {},
   "outputs": [
    {
     "data": {
      "text/html": [
       "<div>\n",
       "<style scoped>\n",
       "    .dataframe tbody tr th:only-of-type {\n",
       "        vertical-align: middle;\n",
       "    }\n",
       "\n",
       "    .dataframe tbody tr th {\n",
       "        vertical-align: top;\n",
       "    }\n",
       "\n",
       "    .dataframe thead th {\n",
       "        text-align: right;\n",
       "    }\n",
       "</style>\n",
       "<table border=\"1\" class=\"dataframe\">\n",
       "  <thead>\n",
       "    <tr style=\"text-align: right;\">\n",
       "      <th></th>\n",
       "    </tr>\n",
       "  </thead>\n",
       "  <tbody>\n",
       "  </tbody>\n",
       "</table>\n",
       "</div>"
      ],
      "text/plain": [
       "Empty DataFrame\n",
       "Columns: []\n",
       "Index: []"
      ]
     },
     "execution_count": 157,
     "metadata": {},
     "output_type": "execute_result"
    }
   ],
   "source": [
    "options = webdriver.ChromeOptions()\n",
    "    options.add_argument('--headless')\n",
    "    options.add_argument('--no-sandbox')\n",
    "    options.add_argument(\"--single-process\")\n",
    "    options.add_argument(\"--disable-dev-shm-usage\")\n",
    "    driver = webdriver.Chrome('C:/Users/YONSAI/Downloads/chromedriver', options=options)"
   ]
  },
  {
   "cell_type": "code",
   "execution_count": null,
   "metadata": {},
   "outputs": [],
   "source": [
    "https://www.melon.com/song/detail.htm?songId=4433490"
   ]
  },
  {
   "cell_type": "code",
   "execution_count": 3,
   "metadata": {},
   "outputs": [
    {
     "ename": "NameError",
     "evalue": "name 'webdriver' is not defined",
     "output_type": "error",
     "traceback": [
      "\u001b[1;31m---------------------------------------------------------------------------\u001b[0m",
      "\u001b[1;31mNameError\u001b[0m                                 Traceback (most recent call last)",
      "Cell \u001b[1;32mIn[3], line 2\u001b[0m\n\u001b[0;32m      1\u001b[0m url \u001b[39m=\u001b[39m \u001b[39m'\u001b[39m\u001b[39mhttps://www.melon.com/song/detail.htm?songId=4433490\u001b[39m\u001b[39m'\u001b[39m\n\u001b[1;32m----> 2\u001b[0m driver \u001b[39m=\u001b[39m webdriver\u001b[39m.\u001b[39mChrome(\u001b[39m'\u001b[39m\u001b[39mC:/Users/YONSAI/Downloads/chromedriver.exe\u001b[39m\u001b[39m'\u001b[39m) \u001b[39m# chromedriver 위치\u001b[39;00m\n\u001b[0;32m      3\u001b[0m driver\u001b[39m.\u001b[39mget(url)\n\u001b[0;32m      4\u001b[0m time\u001b[39m.\u001b[39msleep(\u001b[39m1\u001b[39m)\n",
      "\u001b[1;31mNameError\u001b[0m: name 'webdriver' is not defined"
     ]
    }
   ],
   "source": [
    "url = 'https://www.melon.com/song/detail.htm?songId=4433490'\n",
    "driver = webdriver.Chrome('C:/Users/YONSAI/Downloads/chromedriver.exe') # chromedriver 위치\n",
    "driver.get(url)\n",
    "time.sleep(1)"
   ]
  },
  {
   "cell_type": "code",
   "execution_count": 4,
   "metadata": {},
   "outputs": [],
   "source": [
    "import requests\n",
    "from urllib.parse import quote\n",
    "import pandas as pd\n",
    "from bs4 import BeautifulSoup\n",
    "\n",
    "from selenium import webdriver\n",
    "import warnings\n",
    "warnings.filterwarnings('ignore')\n",
    "import time \n",
    "from tqdm import tqdm"
   ]
  },
  {
   "cell_type": "code",
   "execution_count": 5,
   "metadata": {},
   "outputs": [],
   "source": [
    "url = 'https://www.melon.com/song/detail.htm?songId=4433490'\n",
    "driver = webdriver.Chrome('C:/Users/YONSAI/Downloads/chromedriver.exe') # chromedriver 위치\n",
    "driver.get(url)\n",
    "time.sleep(1)"
   ]
  },
  {
   "cell_type": "code",
   "execution_count": 7,
   "metadata": {},
   "outputs": [],
   "source": [
    "soup = BeautifulSoup(driver.page_source,'html.parser')"
   ]
  },
  {
   "cell_type": "code",
   "execution_count": 10,
   "metadata": {},
   "outputs": [
    {
     "data": {
      "text/plain": [
       "'4433490'"
      ]
     },
     "execution_count": 10,
     "metadata": {},
     "output_type": "execute_result"
    }
   ],
   "source": [
    "songId = soup.select_one('.button_icons.type04.play')['onclick'].split(\"'\")[-2]\n",
    "songId"
   ]
  },
  {
   "cell_type": "code",
   "execution_count": 11,
   "metadata": {},
   "outputs": [
    {
     "data": {
      "text/plain": [
       "'R&B/Soul'"
      ]
     },
     "execution_count": 11,
     "metadata": {},
     "output_type": "execute_result"
    }
   ],
   "source": [
    "# genre\n",
    "genre = soup.select_one(' dl > dd:nth-child(6)').text\n",
    "genre"
   ]
  },
  {
   "cell_type": "code",
   "execution_count": 12,
   "metadata": {},
   "outputs": [
    {
     "data": {
      "text/plain": [
       "'20140207'"
      ]
     },
     "execution_count": 12,
     "metadata": {},
     "output_type": "execute_result"
    }
   ],
   "source": [
    "# date\n",
    "date = soup.select_one(' dl > dd:nth-child(4)').text.replace('.','')\n",
    "date"
   ]
  },
  {
   "cell_type": "code",
   "execution_count": 13,
   "metadata": {},
   "outputs": [
    {
     "data": {
      "text/plain": [
       "247"
      ]
     },
     "execution_count": 13,
     "metadata": {},
     "output_type": "execute_result"
    }
   ],
   "source": [
    "# coment\n",
    "coment = int(soup.select_one('.fc_point.d_cmtpgn_srch_cnt').text)\n",
    "coment"
   ]
  },
  {
   "cell_type": "code",
   "execution_count": 14,
   "metadata": {},
   "outputs": [
    {
     "data": {
      "text/plain": [
       "'썸 Feat. 릴보이 Of 긱스가끔씩 나도 모르게 짜증이나 너를 향한 맘은 변하지 않았는데혹시 내가 이상한 걸까 혼자 힘들게 지내고 있었어텅 빈 방 혼자 멍하니 뒤척이다 티비에는 어제 본 것 같은 드라마 잠이 들 때까지 한번도 울리지 않는 핸드폰을 들고 요즘 따라 내꺼인 듯 내꺼 아닌 내꺼 같은 너니꺼인 듯 니꺼 아닌 니꺼 같은 나이게 무슨 사이인 건지 사실 헷갈려 무뚝뚝하게 굴지마연인인 듯 연인 아닌연인 같은 너 나만 볼 듯 애매하게 날 대하는 너 때로는 친구 같다는 말이 괜히 요즘 난 듣기 싫어 졌어매일 아침 너의 문자에 눈을 뜨고 하루 끝에는 니 목소리에 잠들고 파주말에는 많은 사람 속에서 보란 듯이 널 끌어 안고 싶어요즘 따라 내꺼인 듯 내꺼 아닌 내꺼 같은 너니꺼인 듯 니꺼 아닌 니꺼 같은 나때로는 친구 같다는 말이 괜히 요즘 난 듣기 싫어 졌어너 요즘 너 별로야 너 별로야 나 근데 난 너뿐이야 난 너뿐이야분명하게 내게 선을 그어줘 자꾸 뒤로 빼지 말고 날 사랑한다 고백해 줘여전히 친구인척 또 연인인척 행동하는 모습을 전부다 돌이켜생각 할 수록 너의 진심이 더 궁금해지는 걸 girl you’re soambiguous 난 못해 무엇도 아니 어쩌면 기적을 바라지 lotto확실한 표현을 원하지만 너의 미소 띈 표정에 잊어버리지 난요즘 따라 내꺼인 듯 내꺼 아닌 내꺼 같은 너니꺼인 듯 니꺼 아닌 니꺼 같은 나순진한 척 웃지만 말고 그만 좀 해 너 솔직하게 좀 굴어봐니 맘 속에 날 놔두고 한 눈 팔지 마 너야말로 다 알면서 딴청 피우지 마피곤하게 힘 빼지 말고 어서 말해줘 사랑한단 말이야'"
      ]
     },
     "execution_count": 14,
     "metadata": {},
     "output_type": "execute_result"
    }
   ],
   "source": [
    "# lyric\n",
    "lyric = soup.select_one('.lyric').get_text().strip()\n",
    "lyric = lyric.replace('\\n', ' ').replace('(', '').replace(')', '')\n",
    "lyric"
   ]
  },
  {
   "cell_type": "code",
   "execution_count": 15,
   "metadata": {},
   "outputs": [
    {
     "data": {
      "text/plain": [
       "'민연재'"
      ]
     },
     "execution_count": 15,
     "metadata": {},
     "output_type": "execute_result"
    }
   ],
   "source": [
    "# Lyricist \n",
    "#conts > div.section_prdcr > ul > li:nth-child(1) > div.entry > div.ellipsis.artist > a\n",
    "Lyricist = soup.select_one('.ellipsis.artist > a').get_text().strip()\n",
    "Lyricist"
   ]
  },
  {
   "cell_type": "code",
   "execution_count": 16,
   "metadata": {},
   "outputs": [
    {
     "data": {
      "text/plain": [
       "'Xepy'"
      ]
     },
     "execution_count": 16,
     "metadata": {},
     "output_type": "execute_result"
    }
   ],
   "source": [
    "# composer \n",
    "#conts > div.section_prdcr > ul > li:nth-child(2) > div.entry > div.ellipsis.artist > a\n",
    "composer = soup.select_one('li:nth-child(2) > div.entry > div.ellipsis.artist > a').get_text().strip()\n",
    "composer"
   ]
  },
  {
   "cell_type": "code",
   "execution_count": null,
   "metadata": {},
   "outputs": [],
   "source": []
  },
  {
   "cell_type": "code",
   "execution_count": null,
   "metadata": {},
   "outputs": [],
   "source": [
    "sl = []\n",
    "for \n",
    "songId = soup.select_one('.button_icons.type04.play')['onclick'].split(\"'\")[-2]"
   ]
  },
  {
   "cell_type": "code",
   "execution_count": 17,
   "metadata": {},
   "outputs": [
    {
     "data": {
      "text/html": [
       "<div>\n",
       "<style scoped>\n",
       "    .dataframe tbody tr th:only-of-type {\n",
       "        vertical-align: middle;\n",
       "    }\n",
       "\n",
       "    .dataframe tbody tr th {\n",
       "        vertical-align: top;\n",
       "    }\n",
       "\n",
       "    .dataframe thead th {\n",
       "        text-align: right;\n",
       "    }\n",
       "</style>\n",
       "<table border=\"1\" class=\"dataframe\">\n",
       "  <thead>\n",
       "    <tr style=\"text-align: right;\">\n",
       "      <th></th>\n",
       "      <th>songId</th>\n",
       "      <th>장르</th>\n",
       "      <th>발매일</th>\n",
       "      <th>댓글수</th>\n",
       "      <th>가사</th>\n",
       "      <th>작사가</th>\n",
       "      <th>작곡가</th>\n",
       "    </tr>\n",
       "  </thead>\n",
       "  <tbody>\n",
       "    <tr>\n",
       "      <th>0</th>\n",
       "      <td>4433490</td>\n",
       "      <td>R&amp;B/Soul</td>\n",
       "      <td>20140207</td>\n",
       "      <td>247</td>\n",
       "      <td>썸 Feat. 릴보이 Of 긱스가끔씩 나도 모르게 짜증이나 너를 향한 맘은 변하지 ...</td>\n",
       "      <td>민연재</td>\n",
       "      <td>Xepy</td>\n",
       "    </tr>\n",
       "  </tbody>\n",
       "</table>\n",
       "</div>"
      ],
      "text/plain": [
       "    songId        장르       발매일  댓글수   \n",
       "0  4433490  R&B/Soul  20140207  247  \\\n",
       "\n",
       "                                                  가사  작사가   작곡가  \n",
       "0  썸 Feat. 릴보이 Of 긱스가끔씩 나도 모르게 짜증이나 너를 향한 맘은 변하지 ...  민연재  Xepy  "
      ]
     },
     "execution_count": 17,
     "metadata": {},
     "output_type": "execute_result"
    }
   ],
   "source": [
    "soup = BeautifulSoup(driver.page_source,'html.parser')\n",
    "lines = []\n",
    "for _ in soup:\n",
    "    songId = soup.select_one('.button_icons.type04.play')['onclick'].split(\"'\")[-2]\n",
    "    genre = soup.select_one(' dl > dd:nth-child(6)').text\n",
    "    date = soup.select_one(' dl > dd:nth-child(4)').text.replace('.','')\n",
    "    coment = int(soup.select_one('.fc_point.d_cmtpgn_srch_cnt').text)\n",
    "    lyric = soup.select_one('.lyric').get_text().strip()\n",
    "    lyric = lyric.replace('\\n', ' ').replace('(', '').replace(')', '')\n",
    "    Lyricist = soup.select_one('.ellipsis.artist > a').get_text().strip()\n",
    "    composer = soup.select_one('li:nth-child(2) > div.entry > div.ellipsis.artist > a').get_text().strip()\n",
    "    lines.append({'songId': songId, '장르':genre, '발매일':date, '댓글수':coment, '가사':lyric, '작사가':Lyricist, '작곡가':composer})\n",
    "\n",
    "df = pd.DataFrame(lines)\n",
    "df.tail()\n"
   ]
  },
  {
   "cell_type": "code",
   "execution_count": 23,
   "metadata": {},
   "outputs": [
    {
     "name": "stderr",
     "output_type": "stream",
     "text": [
      "100%|██████████| 11/11 [01:19<00:00,  7.19s/it]\n"
     ]
    },
    {
     "data": {
      "text/plain": [
       "['32313543', '32224272', '32491274', '32003395', '32578498']"
      ]
     },
     "execution_count": 23,
     "metadata": {},
     "output_type": "execute_result"
    }
   ],
   "source": [
    "for i in tqdm(range(2010,2021)):\n",
    "    url = f'https://www.melon.com/chart/age/index.htm?chartType=YE&chartGenre=KPOP&chartDate={i}' \n",
    "\n",
    "    options = webdriver.ChromeOptions()\n",
    "    options.add_argument('--headless')\n",
    "    options.add_argument('--no-sandbox')\n",
    "    options.add_argument(\"--single-process\")\n",
    "    options.add_argument(\"--disable-dev-shm-usage\")\n",
    "    driver = webdriver.Chrome('C:/Users/YONSAI/Downloads/chromedriver', options=options)\n",
    "    driver.get(url)\n",
    "    time.sleep(2)\n",
    "\n",
    "    soup = BeautifulSoup(driver.page_source,'html.parser')\n",
    "    lines = []\n",
    "    trs = soup.select('tbody > tr.lst50')\n",
    "\n",
    "    for tr in trs:\n",
    "        songId  = tr.select_one('.btn.btn_icon_detail')['onclick'].split(\"'\")[-2]\n",
    "        lines.append(songId)\n",
    "lines[:5]"
   ]
  },
  {
   "cell_type": "code",
   "execution_count": 1,
   "metadata": {},
   "outputs": [
    {
     "ename": "NameError",
     "evalue": "name 'lines' is not defined",
     "output_type": "error",
     "traceback": [
      "\u001b[1;31m---------------------------------------------------------------------------\u001b[0m",
      "\u001b[1;31mNameError\u001b[0m                                 Traceback (most recent call last)",
      "Cell \u001b[1;32mIn[1], line 1\u001b[0m\n\u001b[1;32m----> 1\u001b[0m \u001b[39mlen\u001b[39m(lines)\n",
      "\u001b[1;31mNameError\u001b[0m: name 'lines' is not defined"
     ]
    }
   ],
   "source": [
    "len(lines)"
   ]
  },
  {
   "cell_type": "code",
   "execution_count": 24,
   "metadata": {},
   "outputs": [
    {
     "name": "stderr",
     "output_type": "stream",
     "text": [
      " 56%|█████▌    | 28/50 [01:47<01:27,  3.98s/it]"
     ]
    }
   ],
   "source": [
    "options = webdriver.ChromeOptions()\n",
    "options.add_argument('--headless')\n",
    "options.add_argument('--no-sandbox')\n",
    "options.add_argument(\"--single-process\")\n",
    "options.add_argument(\"--disable-dev-shm-usage\")\n",
    "driver = webdriver.Chrome('C:/Users/YONSAI/Downloads/chromedriver', options=options)\n",
    "\n",
    "infos = []\n",
    "for songId in tqdm(lines):\n",
    "    try:\n",
    "        song_url = f'https://www.melon.com/song/detail.htm?songId={songId}'\n",
    "        driver.get(song_url)\n",
    "        time.sleep(2)\n",
    "        soup = BeautifulSoup(driver.page_source, 'html.parser')\n",
    "        info = soup.select_one('#conts')\n",
    "        songId = info.select_one('#btnLike')['data-song-no']\n",
    "        title = info.select_one('.song_name').get_text().strip().split('\\t')[-1]\n",
    "        artist = info.select_one('.artist_name').get_text()\n",
    "        genre = info.select_one('dl > dd:nth-child(6)').get_text()\n",
    "        album = info.select_one('.list > dd').get_text()\n",
    "        ul = info.select('.list_person.clfix > li')\n",
    "        lyricist = ul[0].select_one('.artist_name').get_text()\n",
    "        composer = ul[1].select_one('.artist_name').get_text()\n",
    "        date = info.select_one('dl > dd:nth-child(4)').get_text().replace('.','')\n",
    "        img = soup.select_one('.image_typeAll > img')['src']\n",
    "        comment = info.select_one('#revCnt').get_text().replace('개', '')\n",
    "        like = info.select_one('#d_like_count').get_text().replace(',', '')\n",
    "        lyric = info.select_one('.lyric').get_text().strip()\n",
    "        lyric = lyric.replace('\\n', ' ').replace('(', '').replace(')', '')\n",
    "        infos.append({'songId': songId, 'title': title, 'artist': artist, 'genre':genre,\n",
    "                    'album': album, 'lyricist': lyricist, 'composer': composer, 'date':date, 'img': img,\n",
    "                    'comment': comment, 'like': like, 'lyric': lyric})\n",
    "    except:\n",
    "        continue"
   ]
  },
  {
   "cell_type": "code",
   "execution_count": null,
   "metadata": {},
   "outputs": [],
   "source": [
    "import requests\n",
    "from urllib.parse import quote\n",
    "import pandas as pd\n",
    "from bs4 import BeautifulSoup\n",
    "\n",
    "from selenium import webdriver\n",
    "import warnings\n",
    "warnings.filterwarnings('ignore')\n",
    "import time \n",
    "from tqdm import tqdm\n",
    "\n",
    "\n",
    "\n",
    "for i in tqdm(range(2010,2021)):\n",
    "    url = f'https://www.melon.com/song/detail.htm?songId={4433490}' \n",
    "    # header = {'User-Agent': 'Mozilla/5.0 (Windows NT 10.0; Win64; x64) AppleWebKit/537.36 (KHTML, like Gecko) Chrome/112.0.0.0 Safari/537.36'}\n",
    "\n",
    "    options = webdriver.ChromeOptions()\n",
    "    options.add_argument('--headless')\n",
    "    options.add_argument('--no-sandbox')\n",
    "    options.add_argument(\"--single-process\")\n",
    "    options.add_argument(\"--disable-dev-shm-usage\")\n",
    "    driver = webdriver.Chrome('C:/Users/YONSAI/Downloads/chromedriver', options=options)\n",
    "    driver.get(url)\n",
    "    time.sleep(2)\n",
    "\n",
    "\n",
    "soup = BeautifulSoup(driver.page_source,'html.parser')\n",
    "lines = []\n",
    "for _ in soup:\n",
    "    songId = soup.select_one('.button_icons.type04.play')['onclick'].split(\"'\")[-2]\n",
    "    genre = soup.select_one(' dl > dd:nth-child(6)').text\n",
    "    date = soup.select_one(' dl > dd:nth-child(4)').text.replace('.','')\n",
    "    coment = int(soup.select_one('.fc_point.d_cmtpgn_srch_cnt').text)\n",
    "    lyric = soup.select_one('.lyric').get_text().strip()\n",
    "    lyric = lyric.replace('\\n', ' ').replace('(', '').replace(')', '')\n",
    "    Lyricist = soup.select_one('.ellipsis.artist > a').get_text().strip()\n",
    "    composer = soup.select_one('li:nth-child(2) > div.entry > div.ellipsis.artist > a').get_text().strip()\n",
    "    lines.append({'songId': songId, '장르':genre, '발매일':date, '댓글수':coment, '가사':lyric, '작사가':Lyricist, '작곡가':composer})\n",
    "\n",
    "df = pd.DataFrame(lines)\n",
    "df.tail()"
   ]
  }
 ],
 "metadata": {
  "kernelspec": {
   "display_name": "base",
   "language": "python",
   "name": "python3"
  },
  "language_info": {
   "codemirror_mode": {
    "name": "ipython",
    "version": 3
   },
   "file_extension": ".py",
   "mimetype": "text/x-python",
   "name": "python",
   "nbconvert_exporter": "python",
   "pygments_lexer": "ipython3",
   "version": "3.10.9"
  },
  "orig_nbformat": 4
 },
 "nbformat": 4,
 "nbformat_minor": 2
}
