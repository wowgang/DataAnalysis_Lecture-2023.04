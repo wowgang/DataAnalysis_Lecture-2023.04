{
 "cells": [
  {
   "cell_type": "code",
   "execution_count": null,
   "metadata": {},
   "outputs": [],
   "source": [
    "import pandas as pd\n",
    "import numpy as np\n",
    "from bs4 import BeautifulSoup\n",
    "\n",
    "from selenium import webdriver\n",
    "import warnings\n",
    "warnings.filterwarnings('ignore')\n",
    "import time \n",
    "from tqdm import tqdm"
   ]
  },
  {
   "cell_type": "code",
   "execution_count": null,
   "metadata": {},
   "outputs": [],
   "source": [
    "options = webdriver.ChromeOptions()\n",
    "options.add_argument('--headless')\n",
    "options.add_argument('--no-sandbox')\n",
    "options.add_argument(\"--single-process\")\n",
    "options.add_argument(\"--disable-dev-shm-usage\")\n",
    "driver = webdriver.Chrome('C:/Users/YONSAI/Downloads/chromedriver', options=options)\n",
    "\n",
    "songIds = []\n",
    "for i in tqdm(range(1964, 2023)):\n",
    "    url = f'https://www.melon.com/chart/age/index.htm?chartType=YE&chartGenre=KPOP&chartDate={i}' \n",
    "    driver.get(url)\n",
    "    time.sleep(2)\n",
    "\n",
    "    soup = BeautifulSoup(driver.page_source,'html.parser')\n",
    "    trs = soup.select('tbody > tr.lst50')\n",
    "\n",
    "    for tr in trs:\n",
    "        if tr.select_one('.bullet_icons.age_19'):\n",
    "            continue\n",
    "        songId  = tr.select_one('.btn.btn_icon_detail')['onclick'].split(\"'\")[-2]\n",
    "        songIds.append(songId)\n",
    "songIds[:5],len(songIds)"
   ]
  },
  {
   "cell_type": "code",
   "execution_count": null,
   "metadata": {},
   "outputs": [],
   "source": [
    "# 장르별 가져올때\n",
    "songIds = []\n",
    "base_url = 'https://www.melon.com/genre/song_list.htm?params%5BdtlGnrCode%5D=&params%5BorderBy%5D=POP&params%5BsteadyYn%5D=N&po=pageObj&params%5BdtlGnrCode%5D=params%5BorderBy%5D=POP&params%5BsteadyYn%5D=N&po=pageObj&gnrCode=GN0'\n",
    "genre_url = '#params%5BgnrCode%5D=GN0'\n",
    "index_url = '&startIndex='\n",
    "for i in tqdm(range(100, 801, 100)):\n",
    "    main_url = f'{base_url}{i}{genre_url}{i}&params%5BdtlGnrCode%5D=&params%5BorderBy%5D=POP&params%5BsteadyYn%5D=N&po=pageObj'\n",
    "    for k in range(1, 452, 50):\n",
    "        page_url = f'{main_url}{index_url}{k}'\n",
    "        driver.get(page_url)\n",
    "        time.sleep(2)\n",
    "        soup = BeautifulSoup(driver.page_source, 'html.parser')\n",
    "        trs = soup.select('tbody > tr')\n",
    "        for tr in trs:\n",
    "            try:\n",
    "                if tr.select_one('.bullet_icons.age_19'):\n",
    "                    continue\n",
    "                songId = tr.select_one('.btn.button_icons.type03.song_info')['href'].split(\"'\")[-2]\n",
    "                songIds.append(songId)\n",
    "            except:\n",
    "                print(page_url)"
   ]
  }
 ],
 "metadata": {
  "language_info": {
   "name": "python"
  },
  "orig_nbformat": 4
 },
 "nbformat": 4,
 "nbformat_minor": 2
}
