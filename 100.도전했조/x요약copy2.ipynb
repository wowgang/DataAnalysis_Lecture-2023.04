{
 "cells": [
  {
   "cell_type": "code",
   "execution_count": 308,
   "metadata": {},
   "outputs": [],
   "source": [
    "import pandas as pd\n",
    "from collections import Counter\n",
    "import re\n",
    "# df = pd.read_csv('data/melon_song_v2.csv')\n",
    "# df = pd.read_csv('data/chyo1.csv')\n",
    "df = pd.read_csv('data/check2.csv')\n",
    "# df = pd.read_csv('data/check3.csv')\n",
    "df.date.fillna(0, inplace=True)\n",
    "df['date'] = df.date.astype(int).astype(str)\n",
    "df.fillna('', inplace=True)\n",
    "df['songId'] = df.songId.astype(str)\n",
    "df.lyric = df.lyric.str.replace('\\r', '')"
   ]
  },
  {
   "cell_type": "code",
   "execution_count": 312,
   "metadata": {},
   "outputs": [
    {
     "data": {
      "text/plain": [
       "(6242, 14)"
      ]
     },
     "execution_count": 312,
     "metadata": {},
     "output_type": "execute_result"
    }
   ],
   "source": [
    "# 6244 * 2 12488\n",
    "# 인덱스 104 498948 삭제\n",
    "# 인덱스 990 33218415 삭제\n",
    "# 인덱스 1079 2667284 삭제 check2\n",
    "\n",
    "# 6243 * 2 12486\n",
    "# 인덱스 3949 31506637 대기중 check3\n",
    "# 인덱스 5672 2947004 check3\n",
    "df.shape"
   ]
  },
  {
   "cell_type": "code",
   "execution_count": 305,
   "metadata": {},
   "outputs": [],
   "source": [
    "# df = df.drop(index=5672,axis=0)\n",
    "# df.set_index('songId', inplace=True)\n",
    "# df.reset_index(inplace=True)"
   ]
  },
  {
   "cell_type": "code",
   "execution_count": 307,
   "metadata": {},
   "outputs": [],
   "source": [
    "# df.to_csv('data/check2.csv',index=False)"
   ]
  },
  {
   "cell_type": "code",
   "execution_count": 306,
   "metadata": {},
   "outputs": [
    {
     "data": {
      "text/html": [
       "<div>\n",
       "<style scoped>\n",
       "    .dataframe tbody tr th:only-of-type {\n",
       "        vertical-align: middle;\n",
       "    }\n",
       "\n",
       "    .dataframe tbody tr th {\n",
       "        vertical-align: top;\n",
       "    }\n",
       "\n",
       "    .dataframe thead th {\n",
       "        text-align: right;\n",
       "    }\n",
       "</style>\n",
       "<table border=\"1\" class=\"dataframe\">\n",
       "  <thead>\n",
       "    <tr style=\"text-align: right;\">\n",
       "      <th></th>\n",
       "      <th>songId</th>\n",
       "      <th>title</th>\n",
       "      <th>artist</th>\n",
       "      <th>genre</th>\n",
       "      <th>album</th>\n",
       "      <th>lyricist</th>\n",
       "      <th>composer</th>\n",
       "      <th>date</th>\n",
       "      <th>img</th>\n",
       "      <th>comment</th>\n",
       "      <th>like</th>\n",
       "      <th>lyric</th>\n",
       "      <th>plylstSeq</th>\n",
       "      <th>total</th>\n",
       "    </tr>\n",
       "  </thead>\n",
       "  <tbody>\n",
       "  </tbody>\n",
       "</table>\n",
       "</div>"
      ],
      "text/plain": [
       "Empty DataFrame\n",
       "Columns: [songId, title, artist, genre, album, lyricist, composer, date, img, comment, like, lyric, plylstSeq, total]\n",
       "Index: []"
      ]
     },
     "execution_count": 306,
     "metadata": {},
     "output_type": "execute_result"
    }
   ],
   "source": [
    "df[df.songId.str.contains('2947004')]"
   ]
  },
  {
   "cell_type": "code",
   "execution_count": 203,
   "metadata": {},
   "outputs": [
    {
     "name": "stderr",
     "output_type": "stream",
     "text": [
      "C:\\Users\\YONSAI\\AppData\\Local\\Temp\\ipykernel_8116\\2199285178.py:1: SettingWithCopyWarning: \n",
      "A value is trying to be set on a copy of a slice from a DataFrame\n",
      "\n",
      "See the caveats in the documentation: https://pandas.pydata.org/pandas-docs/stable/user_guide/indexing.html#returning-a-view-versus-a-copy\n",
      "  df.iloc[3949][11] = 'I like you babe\\n어디가 그렇게 좋으냐고 묻네\\nBaby wait a sec\\n손가락 열 개를 다 접어도\\n이유를 다 세지 못할 만큼\\nJust like you babe\\n이걸론 부족해\\n말해 뭐 해 거 아가씨\\n넌 조물주의 마스터피스\\n어제 마젤란이 말하길\\n너 찾아다닌 거래 지구 한 바퀴\\n반대로 반대로 넌 내가 왜 좋아\\n마 뜨면 혼나 야\\nMilli는 뭔 Milli 넌 Billi um\\nTrillion\\n말해줘 일일이 어\\n겉으로만 수백 가지\\n그 속엔 백만 가지\\n이유들로 네가 좋아 Baby\\n해가 두 번 뜰 때까지\\n옆에 있어 줄래 같이\\n다 말해주고 싶어\\n네가 좋은 이유\\nGot millions millions millions\\nThe reason I like you\\nOh yeah yeah yeah\\n네가 좋은 이유\\nGot millions millions millions\\nThe reason I like you\\nOh yeah yeah yeah yeah yeah\\nI like you babe\\n어디가 그렇게 좋으냐고 묻네\\nBaby wait a sec\\n이틀을 쉬지 않고 말해도\\n끝없이 말할 수 있을 만큼\\nJust like you babe\\n이걸론 부족해\\n네가 얼마큼 좋냐고\\n이 세상 컬러에 숫자를 매길게\\n어려운 수학은 몰라도\\n사랑은 더하고 제곱에 Babe\\n코끝을 간지럽히는\\n봄이 찾아온 듯이 꽃 피는\\n내 맘에 나비가 돼 날아와\\n날갯짓에 난 또 설레잖아\\n겉으로만 수백 가지\\n그 속엔 백만 가지\\n이유들로 네가 좋아 Baby\\n해가 두 번 뜰 때까지\\n옆에 있어 줄래 같이\\n다 말해주고 싶어\\n네가 좋은 이유\\nGot millions millions millions\\nThe reason I like you\\nOh yeah yeah yeah\\n네가 좋은 이유\\nGot millions millions millions\\nThe reason I like you\\nOh yeah yeah yeah yeah yeah\\nOne 원해 내 마음이 너를 원해\\nTwo 투정 부려도 예쁘네\\nThree 스릴러 영화는 싫은데\\n너와 함께면 열 번을 봐도 Ok\\nFour For me 나를 위해주네\\nFive Five star S라인 몸매\\nSix Sixth sense 반전 매력에\\n음\\n네가 좋은 이유\\nGot millions millions millions\\nThe reason I like you\\nOh yeah yeah yeah\\n네가 좋은 이유\\nGot millions millions millions\\nThe reason I like you\\nOh yeah yeah yeah\\n네가 좋은 이유 Got millions\\n듣고 싶을 때 언제든지 말만 해\\n이 노랠 불러줄게\\n네가 좋은 이유 Got millions\\n알고 싶을 때 언제든지 말만 해\\n내가 다 말해줄게\\n네가 좋은 이유 Got millions'\n"
     ]
    }
   ],
   "source": [
    "df.iloc[3949][11] = 'I like you babe\\n어디가 그렇게 좋으냐고 묻네\\nBaby wait a sec\\n손가락 열 개를 다 접어도\\n이유를 다 세지 못할 만큼\\nJust like you babe\\n이걸론 부족해\\n말해 뭐 해 거 아가씨\\n넌 조물주의 마스터피스\\n어제 마젤란이 말하길\\n너 찾아다닌 거래 지구 한 바퀴\\n반대로 반대로 넌 내가 왜 좋아\\n마 뜨면 혼나 야\\nMilli는 뭔 Milli 넌 Billi um\\nTrillion\\n말해줘 일일이 어\\n겉으로만 수백 가지\\n그 속엔 백만 가지\\n이유들로 네가 좋아 Baby\\n해가 두 번 뜰 때까지\\n옆에 있어 줄래 같이\\n다 말해주고 싶어\\n네가 좋은 이유\\nGot millions millions millions\\nThe reason I like you\\nOh yeah yeah yeah\\n네가 좋은 이유\\nGot millions millions millions\\nThe reason I like you\\nOh yeah yeah yeah yeah yeah\\nI like you babe\\n어디가 그렇게 좋으냐고 묻네\\nBaby wait a sec\\n이틀을 쉬지 않고 말해도\\n끝없이 말할 수 있을 만큼\\nJust like you babe\\n이걸론 부족해\\n네가 얼마큼 좋냐고\\n이 세상 컬러에 숫자를 매길게\\n어려운 수학은 몰라도\\n사랑은 더하고 제곱에 Babe\\n코끝을 간지럽히는\\n봄이 찾아온 듯이 꽃 피는\\n내 맘에 나비가 돼 날아와\\n날갯짓에 난 또 설레잖아\\n겉으로만 수백 가지\\n그 속엔 백만 가지\\n이유들로 네가 좋아 Baby\\n해가 두 번 뜰 때까지\\n옆에 있어 줄래 같이\\n다 말해주고 싶어\\n네가 좋은 이유\\nGot millions millions millions\\nThe reason I like you\\nOh yeah yeah yeah\\n네가 좋은 이유\\nGot millions millions millions\\nThe reason I like you\\nOh yeah yeah yeah yeah yeah\\nOne 원해 내 마음이 너를 원해\\nTwo 투정 부려도 예쁘네\\nThree 스릴러 영화는 싫은데\\n너와 함께면 열 번을 봐도 Ok\\nFour For me 나를 위해주네\\nFive Five star S라인 몸매\\nSix Sixth sense 반전 매력에\\n음\\n네가 좋은 이유\\nGot millions millions millions\\nThe reason I like you\\nOh yeah yeah yeah\\n네가 좋은 이유\\nGot millions millions millions\\nThe reason I like you\\nOh yeah yeah yeah\\n네가 좋은 이유 Got millions\\n듣고 싶을 때 언제든지 말만 해\\n이 노랠 불러줄게\\n네가 좋은 이유 Got millions\\n알고 싶을 때 언제든지 말만 해\\n내가 다 말해줄게\\n네가 좋은 이유 Got millions'"
   ]
  },
  {
   "cell_type": "code",
   "execution_count": 287,
   "metadata": {},
   "outputs": [
    {
     "data": {
      "text/plain": [
       "'I like you babe\\n어디가 그렇게 좋으냐고 묻네\\nBaby wait a sec\\n손가락 열 개를 다 접어도\\n이유를 다 세지 못할 만큼\\nJust like you babe\\n이걸론 부족해\\n말해 뭐 해 거 아가씨\\n넌 조물주의 마스터피스\\n어제 마젤란이 말하길\\n너 찾아다닌 거래 지구 한 바퀴\\n반대로 반대로 넌 내가 왜 좋아\\n마 뜨면 혼나 야\\nMilli는 뭔 Milli 넌 Billi um\\nTrillion\\n말해줘 일일이 어\\n겉으로만 수백 가지\\n그 속엔 백만 가지\\n이유들로 네가 좋아 Baby\\n해가 두 번 뜰 때까지\\n옆에 있어 줄래 같이\\n다 말해주고 싶어\\n네가 좋은 이유\\nGot millions millions millions\\nThe reason I like you\\nOh yeah yeah yeah\\n네가 좋은 이유\\nGot millions millions millions\\nThe reason I like you\\nOh yeah yeah yeah yeah yeah\\nI like you babe\\n어디가 그렇게 좋으냐고 묻네\\nBaby wait a sec\\n이틀을 쉬지 않고 말해도\\n끝없이 말할 수 있을 만큼\\nJust like you babe\\n이걸론 부족해\\n네가 얼마큼 좋냐고\\n이 세상 컬러에 숫자를 매길게\\n어려운 수학은 몰라도\\n사랑은 더하고 제곱에 Babe\\n코끝을 간지럽히는\\n봄이 찾아온 듯이 꽃 피는\\n내 맘에 나비가 돼 날아와\\n날갯짓에 난 또 설레잖아\\n겉으로만 수백 가지\\n그 속엔 백만 가지\\n이유들로 네가 좋아 Baby\\n해가 두 번 뜰 때까지\\n옆에 있어 줄래 같이\\n다 말해주고 싶어\\n네가 좋은 이유\\nGot millions millions millions\\nThe reason I like you\\nOh yeah yeah yeah\\n네가 좋은 이유\\nGot millions millions millions\\nThe reason I like you\\nOh yeah yeah yeah yeah yeah\\nOne 원해 내 마음이 너를 원해\\nTwo 투정 부려도 예쁘네\\nThree 스릴러 영화는 싫은데\\n너와 함께면 열 번을 봐도 Ok\\nFour For me 나를 위해주네\\nFive Five star S라인 몸매\\nSix Sixth sense 반전 매력에\\n음\\n네가 좋은 이유\\nGot millions millions millions\\nThe reason I like you\\nOh yeah yeah yeah\\n네가 좋은 이유\\nGot millions millions millions\\nThe reason I like you\\nOh yeah yeah yeah\\n네가 좋은 이유 Got millions\\n듣고 싶을 때 언제든지 말만 해\\n이 노랠 불러줄게\\n네가 좋은 이유 Got millions\\n알고 싶을 때 언제든지 말만 해\\n내가 다 말해줄게\\n네가 좋은 이유 Got millions'"
      ]
     },
     "execution_count": 287,
     "metadata": {},
     "output_type": "execute_result"
    }
   ],
   "source": [
    "df.iloc[3949][11] "
   ]
  },
  {
   "cell_type": "code",
   "execution_count": 309,
   "metadata": {},
   "outputs": [
    {
     "data": {
      "text/plain": [
       "12484"
      ]
     },
     "execution_count": 309,
     "metadata": {},
     "output_type": "execute_result"
    }
   ],
   "source": [
    "# df2 = df.head(6700)\n",
    "# df2 = df.head(5680).tail(8)\n",
    "yoyack = []\n",
    "for i in df['lyric']:\n",
    "    ego = i.split('\\n')\n",
    "    sentence_counts = Counter(ego)\n",
    "    most_common_sentences = sentence_counts.most_common(2)\n",
    "    for sentence, count in most_common_sentences:\n",
    "        yoyack.append(sentence)\n",
    "len(yoyack)"
   ]
  },
  {
   "cell_type": "code",
   "execution_count": 310,
   "metadata": {},
   "outputs": [],
   "source": [
    "yoyack_re = []\n",
    "for i in range(0, len(yoyack), 2):\n",
    "    sublist = '<br>'.join(yoyack[i:i+2]).strip()\n",
    "    yoyack_re.append(sublist)"
   ]
  },
  {
   "cell_type": "code",
   "execution_count": 311,
   "metadata": {},
   "outputs": [
    {
     "data": {
      "text/plain": [
       "(12484, 6242)"
      ]
     },
     "execution_count": 311,
     "metadata": {},
     "output_type": "execute_result"
    }
   ],
   "source": [
    "len(yoyack), len(yoyack_re)"
   ]
  },
  {
   "cell_type": "code",
   "execution_count": 313,
   "metadata": {},
   "outputs": [],
   "source": [
    "df['ly_summary'] = yoyack_re"
   ]
  },
  {
   "cell_type": "code",
   "execution_count": 314,
   "metadata": {},
   "outputs": [
    {
     "data": {
      "text/html": [
       "<div>\n",
       "<style scoped>\n",
       "    .dataframe tbody tr th:only-of-type {\n",
       "        vertical-align: middle;\n",
       "    }\n",
       "\n",
       "    .dataframe tbody tr th {\n",
       "        vertical-align: top;\n",
       "    }\n",
       "\n",
       "    .dataframe thead th {\n",
       "        text-align: right;\n",
       "    }\n",
       "</style>\n",
       "<table border=\"1\" class=\"dataframe\">\n",
       "  <thead>\n",
       "    <tr style=\"text-align: right;\">\n",
       "      <th></th>\n",
       "      <th>songId</th>\n",
       "      <th>title</th>\n",
       "      <th>artist</th>\n",
       "      <th>genre</th>\n",
       "      <th>album</th>\n",
       "      <th>lyricist</th>\n",
       "      <th>composer</th>\n",
       "      <th>date</th>\n",
       "      <th>img</th>\n",
       "      <th>comment</th>\n",
       "      <th>like</th>\n",
       "      <th>lyric</th>\n",
       "      <th>plylstSeq</th>\n",
       "      <th>total</th>\n",
       "      <th>ly_summary</th>\n",
       "    </tr>\n",
       "  </thead>\n",
       "  <tbody>\n",
       "    <tr>\n",
       "      <th>6240</th>\n",
       "      <td>34183979</td>\n",
       "      <td>인생 한잔</td>\n",
       "      <td>정은지</td>\n",
       "      <td>포크/블루스 국내드라마</td>\n",
       "      <td>술꾼도시여자들 OST Part 2</td>\n",
       "      <td>빨간양말</td>\n",
       "      <td>INAN</td>\n",
       "      <td>20211029</td>\n",
       "      <td>https://cdnimg.melon.co.kr/cm2/album/images/10...</td>\n",
       "      <td>12</td>\n",
       "      <td>4512</td>\n",
       "      <td>사랑도 이별도 오늘은 잠시 미뤄보자\\n불안한 청춘도 내일로 잠시 미뤄두자\\n떠나버린...</td>\n",
       "      <td>506225967 434154554</td>\n",
       "      <td>사랑 이별 오늘 잠시 미루다 보다 불안하다 청춘 내일 잠시 미루다 두다 떠나다 버리...</td>\n",
       "      <td>사랑도 이별도 오늘은 잠시 미뤄보자&lt;br&gt;한잔 들이켜 보자 나를 돌이켜보자</td>\n",
       "    </tr>\n",
       "    <tr>\n",
       "      <th>6241</th>\n",
       "      <td>31191637</td>\n",
       "      <td>6 o'clock</td>\n",
       "      <td>볼빨간사춘기</td>\n",
       "      <td>인디음악 포크/블루스</td>\n",
       "      <td>Red Diary 'Hidden Track'</td>\n",
       "      <td>안지영</td>\n",
       "      <td>안지영</td>\n",
       "      <td>20180717</td>\n",
       "      <td>https://cdnimg.melon.co.kr/cm/album/images/101...</td>\n",
       "      <td>87</td>\n",
       "      <td>15668</td>\n",
       "      <td>It s 6 o clock\\n너와 나는 시간이 빨라서\\n시간이 달라서\\n어쩔 수 없...</td>\n",
       "      <td>458080033 442957041</td>\n",
       "      <td>It ' s 6 o ' clock 너 와 나 시간 빨 라서 시간 달라 서 어쩔 없이...</td>\n",
       "      <td>Oh why does it feel stupid&lt;br&gt;I just don t know</td>\n",
       "    </tr>\n",
       "  </tbody>\n",
       "</table>\n",
       "</div>"
      ],
      "text/plain": [
       "        songId      title  artist         genre                     album   \n",
       "6240  34183979      인생 한잔     정은지  포크/블루스 국내드라마        술꾼도시여자들 OST Part 2  \\\n",
       "6241  31191637  6 o'clock  볼빨간사춘기   인디음악 포크/블루스  Red Diary 'Hidden Track'   \n",
       "\n",
       "     lyricist composer      date   \n",
       "6240     빨간양말     INAN  20211029  \\\n",
       "6241      안지영      안지영  20180717   \n",
       "\n",
       "                                                    img  comment   like   \n",
       "6240  https://cdnimg.melon.co.kr/cm2/album/images/10...       12   4512  \\\n",
       "6241  https://cdnimg.melon.co.kr/cm/album/images/101...       87  15668   \n",
       "\n",
       "                                                  lyric            plylstSeq   \n",
       "6240  사랑도 이별도 오늘은 잠시 미뤄보자\\n불안한 청춘도 내일로 잠시 미뤄두자\\n떠나버린...  506225967 434154554  \\\n",
       "6241  It s 6 o clock\\n너와 나는 시간이 빨라서\\n시간이 달라서\\n어쩔 수 없...  458080033 442957041   \n",
       "\n",
       "                                                  total   \n",
       "6240  사랑 이별 오늘 잠시 미루다 보다 불안하다 청춘 내일 잠시 미루다 두다 떠나다 버리...  \\\n",
       "6241  It ' s 6 o ' clock 너 와 나 시간 빨 라서 시간 달라 서 어쩔 없이...   \n",
       "\n",
       "                                           ly_summary  \n",
       "6240        사랑도 이별도 오늘은 잠시 미뤄보자<br>한잔 들이켜 보자 나를 돌이켜보자  \n",
       "6241  Oh why does it feel stupid<br>I just don t know  "
      ]
     },
     "execution_count": 314,
     "metadata": {},
     "output_type": "execute_result"
    }
   ],
   "source": [
    "df.tail(2)"
   ]
  },
  {
   "cell_type": "code",
   "execution_count": 274,
   "metadata": {},
   "outputs": [
    {
     "data": {
      "text/plain": [
       "6240          사랑도 이별도 오늘은 잠시 미뤄보자<br>한잔 들이켜 보자 나를 돌이켜보자\n",
       "6241    Oh why does it feel stupid<br>I just don t know\n",
       "Name: ly_summary, dtype: object"
      ]
     },
     "execution_count": 274,
     "metadata": {},
     "output_type": "execute_result"
    }
   ],
   "source": [
    "df['ly_summary'].tail(2)"
   ]
  },
  {
   "attachments": {},
   "cell_type": "markdown",
   "metadata": {},
   "source": [
    "> 1개씩 가사 확인"
   ]
  },
  {
   "cell_type": "code",
   "execution_count": 156,
   "metadata": {},
   "outputs": [
    {
     "data": {
      "text/plain": [
       "'웃기는 세상 사악한 자들이 판치는 곳 내게 소중한 걸 빼앗아 간 그 순간마저 짓밟은 비열한 것들 너희도 금방 겪게 해주지 저주와 분노에 불을 붙여 타들어 가게 해주마 벼랑 끝까지 너희를 몰아넣고 죄악의 대가 치뤄야겠지 선물할게 끔찍한 지옥 너희들에게 기대해도 좋을 걸 나의 심판을 나보다 더 참혹한 고통 겪게 해줄게 어서와 기다릴게 지옥의 문앞에 모두 거짓말 영원한 사랑 모두 거짓말 강한 햇살에 별빛 쫓기듯 한순간에 사라져 다 필요없어 널리고 또 널린게 여자야 일단 복수부터 해 주겠어 끔찍한 복수를 혹시 믿었나 영원한 행복을 설마 믿었나 완벽한 인생 선물할게 끔찍한 지옥 너희들에게 분노한 신의 뜻을 대신하겠어 부숴줄게 박살내줄게 너의 모든걸 마지막 행복즐겨 금방 끝날 테니 무릎 꿇어봐 나에게 애원해봐 무릎 꿇어봐 간절하게 제발 살려달라 애절하게 빌어봐 선물할게 끔찍한 지옥 너희들에게 어서와 기다릴게 지옥의 문 앞에서 더이상의 자비는 없어 막다른 곳에 공포와 두려움 뿐 용서는 바라지마 신의 뜻으로 아멘'"
      ]
     },
     "execution_count": 156,
     "metadata": {},
     "output_type": "execute_result"
    }
   ],
   "source": [
    "# 2667284\n",
    "df.iloc[1079]['lyric']"
   ]
  },
  {
   "cell_type": "code",
   "execution_count": 291,
   "metadata": {},
   "outputs": [],
   "source": [
    "a = 'I like you babe\\n어디가 그렇게 좋으냐고 묻네\\nBaby wait a sec\\n손가락 열 개를 다 접어도\\n이유를 다 세지 못할 만큼\\nJust like you babe\\n이걸론 부족해\\n말해 뭐 해 거 아가씨\\n넌 조물주의 마스터피스\\n어제 마젤란이 말하길\\n너 찾아다닌 거래 지구 한 바퀴\\n반대로 반대로 넌 내가 왜 좋아\\n마 뜨면 혼나 야\\nMilli는 뭔 Milli 넌 Billi um\\nTrillion\\n말해줘 일일이 어\\n겉으로만 수백 가지\\n그 속엔 백만 가지\\n이유들로 네가 좋아 Baby\\n해가 두 번 뜰 때까지\\n옆에 있어 줄래 같이\\n다 말해주고 싶어\\n네가 좋은 이유\\nGot millions millions millions\\nThe reason I like you\\nOh yeah yeah yeah\\n네가 좋은 이유\\nGot millions millions millions\\nThe reason I like you\\nOh yeah yeah yeah yeah yeah\\nI like you babe\\n어디가 그렇게 좋으냐고 묻네\\nBaby wait a sec\\n이틀을 쉬지 않고 말해도\\n끝없이 말할 수 있을 만큼\\nJust like you babe\\n이걸론 부족해\\n네가 얼마큼 좋냐고\\n이 세상 컬러에 숫자를 매길게\\n어려운 수학은 몰라도\\n사랑은 더하고 제곱에 Babe\\n코끝을 간지럽히는\\n봄이 찾아온 듯이 꽃 피는\\n내 맘에 나비가 돼 날아와\\n날갯짓에 난 또 설레잖아\\n겉으로만 수백 가지\\n그 속엔 백만 가지\\n이유들로 네가 좋아 Baby\\n해가 두 번 뜰 때까지\\n옆에 있어 줄래 같이\\n다 말해주고 싶어\\n네가 좋은 이유\\nGot millions millions millions\\nThe reason I like you\\nOh yeah yeah yeah\\n네가 좋은 이유\\nGot millions millions millions\\nThe reason I like you\\nOh yeah yeah yeah yeah yeah\\nOne 원해 내 마음이 너를 원해\\nTwo 투정 부려도 예쁘네\\nThree 스릴러 영화는 싫은데\\n너와 함께면 열 번을 봐도 Ok\\nFour For me 나를 위해주네\\nFive Five star S라인 몸매\\nSix Sixth sense 반전 매력에\\n음\\n네가 좋은 이유\\nGot millions millions millions\\nThe reason I like you\\nOh yeah yeah yeah\\n네가 좋은 이유\\nGot millions millions millions\\nThe reason I like you\\nOh yeah yeah yeah\\n네가 좋은 이유 Got millions\\n듣고 싶을 때 언제든지 말만 해\\n이 노랠 불러줄게\\n네가 좋은 이유 Got millions\\n알고 싶을 때 언제든지 말만 해\\n내가 다 말해줄게\\n네가 좋은 이유 Got millions'\n",
    "\n",
    "b = a.split('\\n')"
   ]
  },
  {
   "cell_type": "code",
   "execution_count": 292,
   "metadata": {},
   "outputs": [
    {
     "name": "stdout",
     "output_type": "stream",
     "text": [
      "네가 좋은 이유\n",
      "Got millions millions millions\n"
     ]
    }
   ],
   "source": [
    "from collections import Counter\n",
    "sentence_counts = Counter(b)  # 문장별 빈도 계산\n",
    "most_common_sentences = sentence_counts.most_common(2)  # 가장 빈도가 높은 문장 추출\n",
    "\n",
    "for sentence, count in most_common_sentences:\n",
    "    print(sentence)"
   ]
  },
  {
   "cell_type": "code",
   "execution_count": 62,
   "metadata": {},
   "outputs": [],
   "source": [
    "### 빈도수 가사 2개\n",
    "# yoyack_re = []\n",
    "# for i in range(0, len(yoyack), 2):\n",
    "#     sublist = '<br>'.join(yoyack[i:i+2]).strip()\n",
    "#     yoyack_re.append(sublist)"
   ]
  },
  {
   "cell_type": "code",
   "execution_count": null,
   "metadata": {},
   "outputs": [],
   "source": [
    "yoyack1 = []\n",
    "for i in df['lyric']:\n",
    "    ego = i.split('\\n')\n",
    "    sentence_counts = Counter(ego)\n",
    "    most_common_sentences = sentence_counts.most_common(1)\n",
    "    for sentence, count in most_common_sentences:\n",
    "        yoyack1.append(sentence)"
   ]
  },
  {
   "cell_type": "code",
   "execution_count": 141,
   "metadata": {},
   "outputs": [],
   "source": [
    "## 빈도수 가사 1개\n",
    "yoyack_re1 = []\n",
    "for i in range(0, len(yoyack1)):\n",
    "    sublist = yoyack[i].strip()\n",
    "    yoyack_re1.append(sublist)"
   ]
  },
  {
   "cell_type": "code",
   "execution_count": 142,
   "metadata": {},
   "outputs": [
    {
     "data": {
      "text/plain": [
       "(6247, 14)"
      ]
     },
     "execution_count": 142,
     "metadata": {},
     "output_type": "execute_result"
    }
   ],
   "source": [
    "df.shape"
   ]
  },
  {
   "cell_type": "code",
   "execution_count": 143,
   "metadata": {},
   "outputs": [
    {
     "data": {
      "text/plain": [
       "(6247, 6247)"
      ]
     },
     "execution_count": 143,
     "metadata": {},
     "output_type": "execute_result"
    }
   ],
   "source": [
    "len(yoyack1), len(yoyack_re1)"
   ]
  },
  {
   "cell_type": "code",
   "execution_count": 144,
   "metadata": {},
   "outputs": [
    {
     "data": {
      "text/plain": [
       "'정말로 울면 내가 그댈 보내'"
      ]
     },
     "execution_count": 144,
     "metadata": {},
     "output_type": "execute_result"
    }
   ],
   "source": [
    "yoyack_re1[0]"
   ]
  },
  {
   "cell_type": "code",
   "execution_count": 277,
   "metadata": {},
   "outputs": [
    {
     "data": {
      "text/html": [
       "<div>\n",
       "<style scoped>\n",
       "    .dataframe tbody tr th:only-of-type {\n",
       "        vertical-align: middle;\n",
       "    }\n",
       "\n",
       "    .dataframe tbody tr th {\n",
       "        vertical-align: top;\n",
       "    }\n",
       "\n",
       "    .dataframe thead th {\n",
       "        text-align: right;\n",
       "    }\n",
       "</style>\n",
       "<table border=\"1\" class=\"dataframe\">\n",
       "  <thead>\n",
       "    <tr style=\"text-align: right;\">\n",
       "      <th></th>\n",
       "      <th>songId</th>\n",
       "      <th>title</th>\n",
       "      <th>artist</th>\n",
       "      <th>genre</th>\n",
       "      <th>album</th>\n",
       "      <th>lyricist</th>\n",
       "      <th>composer</th>\n",
       "      <th>date</th>\n",
       "      <th>img</th>\n",
       "      <th>comment</th>\n",
       "      <th>like</th>\n",
       "      <th>lyric</th>\n",
       "      <th>plylstSeq</th>\n",
       "      <th>total</th>\n",
       "      <th>ly_summary</th>\n",
       "    </tr>\n",
       "  </thead>\n",
       "  <tbody>\n",
       "    <tr>\n",
       "      <th>6239</th>\n",
       "      <td>2981597</td>\n",
       "      <td>서른 즈음에</td>\n",
       "      <td>김광석</td>\n",
       "      <td>포크/블루스</td>\n",
       "      <td>김광석 네번째</td>\n",
       "      <td>강승원</td>\n",
       "      <td>강승원</td>\n",
       "      <td>19940625</td>\n",
       "      <td>https://cdnimg.melon.co.kr/cm/album/images/010...</td>\n",
       "      <td>13</td>\n",
       "      <td>5497</td>\n",
       "      <td>또 하루 멀어져 간다\\n내뿜은 담배연기처럼\\n작기만한 내 기억속에\\n무얼 채워 살고...</td>\n",
       "      <td>485926496 408723261</td>\n",
       "      <td>또 하루 멀어지다 간다 내뿜 담배 연기 처럼 작 기만 한 내 기 억 속 무얼 채우다...</td>\n",
       "      <td>매일 이별하며 살고 있구나&lt;br&gt;또 하루 멀어져 간다</td>\n",
       "    </tr>\n",
       "    <tr>\n",
       "      <th>6240</th>\n",
       "      <td>34183979</td>\n",
       "      <td>인생 한잔</td>\n",
       "      <td>정은지</td>\n",
       "      <td>포크/블루스 국내드라마</td>\n",
       "      <td>술꾼도시여자들 OST Part 2</td>\n",
       "      <td>빨간양말</td>\n",
       "      <td>INAN</td>\n",
       "      <td>20211029</td>\n",
       "      <td>https://cdnimg.melon.co.kr/cm2/album/images/10...</td>\n",
       "      <td>12</td>\n",
       "      <td>4512</td>\n",
       "      <td>사랑도 이별도 오늘은 잠시 미뤄보자\\n불안한 청춘도 내일로 잠시 미뤄두자\\n떠나버린...</td>\n",
       "      <td>506225967 434154554</td>\n",
       "      <td>사랑 이별 오늘 잠시 미루다 보다 불안하다 청춘 내일 잠시 미루다 두다 떠나다 버리...</td>\n",
       "      <td>사랑도 이별도 오늘은 잠시 미뤄보자&lt;br&gt;한잔 들이켜 보자 나를 돌이켜보자</td>\n",
       "    </tr>\n",
       "    <tr>\n",
       "      <th>6241</th>\n",
       "      <td>31191637</td>\n",
       "      <td>6 o'clock</td>\n",
       "      <td>볼빨간사춘기</td>\n",
       "      <td>인디음악 포크/블루스</td>\n",
       "      <td>Red Diary 'Hidden Track'</td>\n",
       "      <td>안지영</td>\n",
       "      <td>안지영</td>\n",
       "      <td>20180717</td>\n",
       "      <td>https://cdnimg.melon.co.kr/cm/album/images/101...</td>\n",
       "      <td>87</td>\n",
       "      <td>15668</td>\n",
       "      <td>It s 6 o clock\\n너와 나는 시간이 빨라서\\n시간이 달라서\\n어쩔 수 없...</td>\n",
       "      <td>458080033 442957041</td>\n",
       "      <td>It ' s 6 o ' clock 너 와 나 시간 빨 라서 시간 달라 서 어쩔 없이...</td>\n",
       "      <td>Oh why does it feel stupid&lt;br&gt;I just don t know</td>\n",
       "    </tr>\n",
       "  </tbody>\n",
       "</table>\n",
       "</div>"
      ],
      "text/plain": [
       "        songId      title  artist         genre                     album   \n",
       "6239   2981597     서른 즈음에     김광석        포크/블루스                   김광석 네번째  \\\n",
       "6240  34183979      인생 한잔     정은지  포크/블루스 국내드라마        술꾼도시여자들 OST Part 2   \n",
       "6241  31191637  6 o'clock  볼빨간사춘기   인디음악 포크/블루스  Red Diary 'Hidden Track'   \n",
       "\n",
       "     lyricist composer      date   \n",
       "6239      강승원      강승원  19940625  \\\n",
       "6240     빨간양말     INAN  20211029   \n",
       "6241      안지영      안지영  20180717   \n",
       "\n",
       "                                                    img  comment   like   \n",
       "6239  https://cdnimg.melon.co.kr/cm/album/images/010...       13   5497  \\\n",
       "6240  https://cdnimg.melon.co.kr/cm2/album/images/10...       12   4512   \n",
       "6241  https://cdnimg.melon.co.kr/cm/album/images/101...       87  15668   \n",
       "\n",
       "                                                  lyric            plylstSeq   \n",
       "6239  또 하루 멀어져 간다\\n내뿜은 담배연기처럼\\n작기만한 내 기억속에\\n무얼 채워 살고...  485926496 408723261  \\\n",
       "6240  사랑도 이별도 오늘은 잠시 미뤄보자\\n불안한 청춘도 내일로 잠시 미뤄두자\\n떠나버린...  506225967 434154554   \n",
       "6241  It s 6 o clock\\n너와 나는 시간이 빨라서\\n시간이 달라서\\n어쩔 수 없...  458080033 442957041   \n",
       "\n",
       "                                                  total   \n",
       "6239  또 하루 멀어지다 간다 내뿜 담배 연기 처럼 작 기만 한 내 기 억 속 무얼 채우다...  \\\n",
       "6240  사랑 이별 오늘 잠시 미루다 보다 불안하다 청춘 내일 잠시 미루다 두다 떠나다 버리...   \n",
       "6241  It ' s 6 o ' clock 너 와 나 시간 빨 라서 시간 달라 서 어쩔 없이...   \n",
       "\n",
       "                                           ly_summary  \n",
       "6239                    매일 이별하며 살고 있구나<br>또 하루 멀어져 간다  \n",
       "6240        사랑도 이별도 오늘은 잠시 미뤄보자<br>한잔 들이켜 보자 나를 돌이켜보자  \n",
       "6241  Oh why does it feel stupid<br>I just don t know  "
      ]
     },
     "execution_count": 277,
     "metadata": {},
     "output_type": "execute_result"
    }
   ],
   "source": [
    "df.tail(3)"
   ]
  },
  {
   "cell_type": "code",
   "execution_count": null,
   "metadata": {},
   "outputs": [],
   "source": []
  }
 ],
 "metadata": {
  "kernelspec": {
   "display_name": "base",
   "language": "python",
   "name": "python3"
  },
  "language_info": {
   "codemirror_mode": {
    "name": "ipython",
    "version": 3
   },
   "file_extension": ".py",
   "mimetype": "text/x-python",
   "name": "python",
   "nbconvert_exporter": "python",
   "pygments_lexer": "ipython3",
   "version": "3.10.9"
  },
  "orig_nbformat": 4
 },
 "nbformat": 4,
 "nbformat_minor": 2
}
