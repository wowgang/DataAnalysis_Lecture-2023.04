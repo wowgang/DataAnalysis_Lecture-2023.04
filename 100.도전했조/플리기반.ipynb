{
  "cells": [
    {
      "cell_type": "code",
      "execution_count": 1,
      "metadata": {
        "id": "EDwN4ZO7cNBZ"
      },
      "outputs": [],
      "source": [
        "import numpy as np\n",
        "import pandas as pd"
      ]
    },
    {
      "cell_type": "code",
      "execution_count": 2,
      "metadata": {
        "id": "FLzbFZbFcNBh"
      },
      "outputs": [],
      "source": [
        "filename = 'data/melon_song.csv'\n",
        "plist_filename1 = 'data/melon_playlist1.csv'\n",
        "plist_filename2 = 'data/melon_playlist2.csv'"
      ]
    },
    {
      "cell_type": "code",
      "execution_count": 3,
      "metadata": {
        "id": "0HFKakwAcNBi",
        "outputId": "35694827-f28d-435c-f4d2-fda8656883cb"
      },
      "outputs": [
        {
          "data": {
            "text/plain": [
              "((6247, 13), (3845, 5), (160459, 5))"
            ]
          },
          "execution_count": 3,
          "metadata": {},
          "output_type": "execute_result"
        }
      ],
      "source": [
        "df = pd.read_csv(filename)\n",
        "plist1 = pd.read_csv(plist_filename1)\n",
        "plist2 = pd.read_csv(plist_filename2)\n",
        "df.shape, plist1.shape, plist2.shape"
      ]
    },
    {
      "cell_type": "code",
      "execution_count": 4,
      "metadata": {
        "id": "XwZWgsRncNBk",
        "outputId": "4d9ad876-6165-4c83-8701-c976a1567a45"
      },
      "outputs": [
        {
          "name": "stdout",
          "output_type": "stream",
          "text": [
            "<class 'pandas.core.frame.DataFrame'>\n",
            "RangeIndex: 6247 entries, 0 to 6246\n",
            "Data columns (total 13 columns):\n",
            " #   Column     Non-Null Count  Dtype  \n",
            "---  ------     --------------  -----  \n",
            " 0   songId     6247 non-null   int64  \n",
            " 1   title      6247 non-null   object \n",
            " 2   artist     6247 non-null   object \n",
            " 3   genre      6245 non-null   object \n",
            " 4   album      6247 non-null   object \n",
            " 5   lyricist   5849 non-null   object \n",
            " 6   composer   5845 non-null   object \n",
            " 7   date       6202 non-null   float64\n",
            " 8   img        6247 non-null   object \n",
            " 9   comment    6247 non-null   int64  \n",
            " 10  like       6247 non-null   int64  \n",
            " 11  lyric      6247 non-null   object \n",
            " 12  plylstSeq  6126 non-null   object \n",
            "dtypes: float64(1), int64(3), object(9)\n",
            "memory usage: 634.6+ KB\n"
          ]
        }
      ],
      "source": [
        "df.info()"
      ]
    },
    {
      "cell_type": "code",
      "execution_count": 5,
      "metadata": {
        "id": "5bgYGDP0cNBl",
        "outputId": "5a61f85b-895e-4ef3-b95e-20cc5b66232e"
      },
      "outputs": [
        {
          "data": {
            "text/plain": [
              "songId         0\n",
              "title          0\n",
              "artist         0\n",
              "genre          2\n",
              "album          0\n",
              "lyricist     398\n",
              "composer     402\n",
              "date          45\n",
              "img            0\n",
              "comment        0\n",
              "like           0\n",
              "lyric          0\n",
              "plylstSeq    121\n",
              "dtype: int64"
            ]
          },
          "execution_count": 5,
          "metadata": {},
          "output_type": "execute_result"
        }
      ],
      "source": [
        "df.isna().sum()"
      ]
    },
    {
      "cell_type": "code",
      "execution_count": null,
      "metadata": {
        "id": "eauvtl9IcNBm",
        "outputId": "6170e64e-47f1-45d2-ab6f-bc0fe249eb33"
      },
      "outputs": [],
      "source": [
        "df.head()"
      ]
    },
    {
      "cell_type": "code",
      "execution_count": null,
      "metadata": {
        "id": "OZ5_fdzzcNBn",
        "outputId": "13543768-3f3b-4e82-b0ae-835b99b1c806"
      },
      "outputs": [],
      "source": [
        "df.date.fillna(0, inplace=True)\n",
        "df.date = df.date.astype(int).astype(str)\n",
        "df.songId = df.songId.astype(str)\n",
        "df.fillna('', inplace=True)\n",
        "df.head()"
      ]
    },
    {
      "attachments": {},
      "cell_type": "markdown",
      "metadata": {
        "id": "MymtdlLpcNBp"
      },
      "source": [
        "### 1. 찾을 노래 제목과 아티스트 입력 받기"
      ]
    },
    {
      "cell_type": "code",
      "execution_count": 8,
      "metadata": {
        "id": "zEHuMr9LcNBs"
      },
      "outputs": [],
      "source": [
        "# 키워드 바꿔가면서 찾아보기\n",
        "keyword_title = '안녕'\n",
        "keyword_artist = '성시경'"
      ]
    },
    {
      "cell_type": "code",
      "execution_count": null,
      "metadata": {
        "id": "0hHfpTnrcNBt",
        "outputId": "ebabed11-ff22-4422-bc53-0220b5314c29"
      },
      "outputs": [],
      "source": [
        "# 노래 제목으로 songId 찾기\n",
        "df[df.title.str.contains(keyword_title)]"
      ]
    },
    {
      "cell_type": "code",
      "execution_count": null,
      "metadata": {
        "id": "EUNF82oIcNBu"
      },
      "outputs": [],
      "source": [
        "df[df.artist.str.contains(keyword_artist)]"
      ]
    },
    {
      "cell_type": "code",
      "execution_count": 11,
      "metadata": {
        "id": "2JA0-M0-cNBv"
      },
      "outputs": [
        {
          "data": {
            "text/html": [
              "<div>\n",
              "<style scoped>\n",
              "    .dataframe tbody tr th:only-of-type {\n",
              "        vertical-align: middle;\n",
              "    }\n",
              "\n",
              "    .dataframe tbody tr th {\n",
              "        vertical-align: top;\n",
              "    }\n",
              "\n",
              "    .dataframe thead th {\n",
              "        text-align: right;\n",
              "    }\n",
              "</style>\n",
              "<table border=\"1\" class=\"dataframe\">\n",
              "  <thead>\n",
              "    <tr style=\"text-align: right;\">\n",
              "      <th></th>\n",
              "      <th>songId</th>\n",
              "      <th>title</th>\n",
              "      <th>artist</th>\n",
              "      <th>genre</th>\n",
              "      <th>album</th>\n",
              "      <th>lyricist</th>\n",
              "      <th>composer</th>\n",
              "      <th>date</th>\n",
              "      <th>img</th>\n",
              "      <th>comment</th>\n",
              "      <th>like</th>\n",
              "      <th>lyric</th>\n",
              "      <th>plylstSeq</th>\n",
              "    </tr>\n",
              "  </thead>\n",
              "  <tbody>\n",
              "    <tr>\n",
              "      <th>586</th>\n",
              "      <td>9646401</td>\n",
              "      <td>다정하게, 안녕히</td>\n",
              "      <td>성시경</td>\n",
              "      <td>발라드 국내드라마</td>\n",
              "      <td>구르미 그린 달빛 OST Part.5</td>\n",
              "      <td>심현보</td>\n",
              "      <td>성시경</td>\n",
              "      <td>20160914</td>\n",
              "      <td>https://cdnimg.melon.co.kr/cm/album/images/027...</td>\n",
              "      <td>95</td>\n",
              "      <td>55052</td>\n",
              "      <td>얼핏 스치는 니 생각에도\\n많은 밤들을 뒤척일 텐데\\n괜찮다 말하기 엔 \\n괜찮지가...</td>\n",
              "      <td>405737350 423448660</td>\n",
              "    </tr>\n",
              "    <tr>\n",
              "      <th>3729</th>\n",
              "      <td>1884329</td>\n",
              "      <td>안녕 나의 사랑</td>\n",
              "      <td>성시경</td>\n",
              "      <td>발라드</td>\n",
              "      <td>여기, 내 맘속에...</td>\n",
              "      <td>유희열</td>\n",
              "      <td>유희열</td>\n",
              "      <td>20080612</td>\n",
              "      <td>https://cdnimg.melon.co.kr/cm/album/images/003...</td>\n",
              "      <td>150</td>\n",
              "      <td>64320</td>\n",
              "      <td>여름 냄새 벌써 이 거리에\\n날 비웃듯 시간은 흐르네\\n눈부신 햇살 얼굴을 가리면\\...</td>\n",
              "      <td>424293700 432375006</td>\n",
              "    </tr>\n",
              "  </tbody>\n",
              "</table>\n",
              "</div>"
            ],
            "text/plain": [
              "       songId      title artist      genre                 album lyricist   \n",
              "586   9646401  다정하게, 안녕히    성시경  발라드 국내드라마  구르미 그린 달빛 OST Part.5      심현보  \\\n",
              "3729  1884329   안녕 나의 사랑    성시경        발라드          여기, 내 맘속에...      유희열   \n",
              "\n",
              "     composer      date                                                img   \n",
              "586       성시경  20160914  https://cdnimg.melon.co.kr/cm/album/images/027...  \\\n",
              "3729      유희열  20080612  https://cdnimg.melon.co.kr/cm/album/images/003...   \n",
              "\n",
              "      comment   like                                              lyric   \n",
              "586        95  55052  얼핏 스치는 니 생각에도\\n많은 밤들을 뒤척일 텐데\\n괜찮다 말하기 엔 \\n괜찮지가...  \\\n",
              "3729      150  64320  여름 냄새 벌써 이 거리에\\n날 비웃듯 시간은 흐르네\\n눈부신 햇살 얼굴을 가리면\\...   \n",
              "\n",
              "                plylstSeq  \n",
              "586   405737350 423448660  \n",
              "3729  424293700 432375006  "
            ]
          },
          "execution_count": 11,
          "metadata": {},
          "output_type": "execute_result"
        }
      ],
      "source": [
        "# 노래 제목과 가수로 찾기\n",
        "songIds = df[df.title.str.contains(keyword_title) & df.artist.str.contains(keyword_artist)]\n",
        "songIds"
      ]
    },
    {
      "cell_type": "code",
      "execution_count": 13,
      "metadata": {},
      "outputs": [
        {
          "data": {
            "text/plain": [
              "array(['9646401', '1884329'], dtype=object)"
            ]
          },
          "execution_count": 13,
          "metadata": {},
          "output_type": "execute_result"
        }
      ],
      "source": [
        "songIds.songId.values"
      ]
    },
    {
      "cell_type": "code",
      "execution_count": 14,
      "metadata": {
        "id": "aQi5UP0KcNBv",
        "outputId": "2d14f20d-4a45-4392-ee18-f6bfef6fb315"
      },
      "outputs": [
        {
          "data": {
            "text/plain": [
              "'1884329'"
            ]
          },
          "execution_count": 14,
          "metadata": {},
          "output_type": "execute_result"
        }
      ],
      "source": [
        "# 첫번째 songId로 검색해 보기 위해(원하는 것은 사용자가 선택하도록)\n",
        "songId = songIds.songId.values[1]\n",
        "songId"
      ]
    },
    {
      "cell_type": "code",
      "execution_count": 16,
      "metadata": {
        "id": "K7dXbPnTcNBv",
        "outputId": "343b5665-a42d-4456-c9fd-f81ca5cdab57"
      },
      "outputs": [
        {
          "data": {
            "text/html": [
              "<div>\n",
              "<style scoped>\n",
              "    .dataframe tbody tr th:only-of-type {\n",
              "        vertical-align: middle;\n",
              "    }\n",
              "\n",
              "    .dataframe tbody tr th {\n",
              "        vertical-align: top;\n",
              "    }\n",
              "\n",
              "    .dataframe thead th {\n",
              "        text-align: right;\n",
              "    }\n",
              "</style>\n",
              "<table border=\"1\" class=\"dataframe\">\n",
              "  <thead>\n",
              "    <tr style=\"text-align: right;\">\n",
              "      <th></th>\n",
              "      <th>plylstSeq</th>\n",
              "      <th>title</th>\n",
              "      <th>tag</th>\n",
              "      <th>like</th>\n",
              "      <th>songIds</th>\n",
              "    </tr>\n",
              "  </thead>\n",
              "  <tbody>\n",
              "    <tr>\n",
              "      <th>10</th>\n",
              "      <td>483086564</td>\n",
              "      <td>90년대생들 미치게 할 추억의 2000-10' 발라드</td>\n",
              "      <td>#발라드 #추억 #회상 #가요 #2000년대 #2010년대 #가을 #감성 #새벽감...</td>\n",
              "      <td>4985</td>\n",
              "      <td>1563237 104788 2289924 1746411 732373 2949854 ...</td>\n",
              "    </tr>\n",
              "    <tr>\n",
              "      <th>33</th>\n",
              "      <td>512030827</td>\n",
              "      <td>자꾸 듣고 싶은 멜로디의 미디엄템포 발라드</td>\n",
              "      <td>#기분전환 #발라드 #미디엄템포 #노래방 #멜로디 #출퇴근 #산뜻한 #가을 #작업...</td>\n",
              "      <td>614</td>\n",
              "      <td>35383397 34657844 2093361 33625988 33439096 16...</td>\n",
              "    </tr>\n",
              "    <tr>\n",
              "      <th>231</th>\n",
              "      <td>524843468</td>\n",
              "      <td>달콤한 사랑..</td>\n",
              "      <td>#사랑 #달콤한</td>\n",
              "      <td>17</td>\n",
              "      <td>34930368 31709523 35383397 34927767 34787226 3...</td>\n",
              "    </tr>\n",
              "    <tr>\n",
              "      <th>774</th>\n",
              "      <td>424293700</td>\n",
              "      <td>추천 ♬ 발라드 맛집♪ No.1</td>\n",
              "      <td>#명품 #발라드 #추억 #회상 #사랑 #기쁨 #이별 #슬픔 #ralalra #노랫...</td>\n",
              "      <td>9339</td>\n",
              "      <td>1622154 1622996 3980980 1418635 3560411 156323...</td>\n",
              "    </tr>\n",
              "    <tr>\n",
              "      <th>824</th>\n",
              "      <td>511797644</td>\n",
              "      <td>박찬욱 감독: 헤어질 결심 할 때 듣고 싶은 TOP100</td>\n",
              "      <td>#박찬욱 #이별 #헤어질결심 #감성 #슬픔 #위로 #헤어짐 #멜론 #TOP100</td>\n",
              "      <td>347</td>\n",
              "      <td>32436691 31049625 4023988 1549975 31618207 844...</td>\n",
              "    </tr>\n",
              "    <tr>\n",
              "      <th>1530</th>\n",
              "      <td>459121499</td>\n",
              "      <td>여름과 잘어울리는 곡들(좋아요 천개이상)</td>\n",
              "      <td>#여름 #여름노래 #Summer #노래모음 #댄스 #명곡 #드라이브 #매장 #매장...</td>\n",
              "      <td>172</td>\n",
              "      <td>30512671 32559781 31175119 4681146 8298724 312...</td>\n",
              "    </tr>\n",
              "    <tr>\n",
              "      <th>2427</th>\n",
              "      <td>508639525</td>\n",
              "      <td>연주곡~~</td>\n",
              "      <td>#피아노 #연주</td>\n",
              "      <td>14</td>\n",
              "      <td>30657307 3106066 1884329 31067065 31426882 320...</td>\n",
              "    </tr>\n",
              "    <tr>\n",
              "      <th>2788</th>\n",
              "      <td>402039676</td>\n",
              "      <td>요새 들어도 좋은 추억의 노래</td>\n",
              "      <td>#추억 #회상</td>\n",
              "      <td>2349</td>\n",
              "      <td>1632405 1467725 1885164 1285429 2670748 197251...</td>\n",
              "    </tr>\n",
              "    <tr>\n",
              "      <th>2845</th>\n",
              "      <td>447413687</td>\n",
              "      <td>옛날노래</td>\n",
              "      <td>#옛날노래</td>\n",
              "      <td>115</td>\n",
              "      <td>2001419 638570 1467722 2575587 3604753 505376 ...</td>\n",
              "    </tr>\n",
              "    <tr>\n",
              "      <th>3535</th>\n",
              "      <td>431495858</td>\n",
              "      <td>뉴이스트, 워너원 민현이 부르고 추천하는 노래</td>\n",
              "      <td>#뉴이스트 #발라드 #황민현 #민현</td>\n",
              "      <td>932</td>\n",
              "      <td>30836801 32129920 31249401 33179831 5700879 31...</td>\n",
              "    </tr>\n",
              "  </tbody>\n",
              "</table>\n",
              "</div>"
            ],
            "text/plain": [
              "      plylstSeq                            title   \n",
              "10    483086564    90년대생들 미치게 할 추억의 2000-10' 발라드  \\\n",
              "33    512030827          자꾸 듣고 싶은 멜로디의 미디엄템포 발라드   \n",
              "231   524843468                         달콤한 사랑..   \n",
              "774   424293700                추천 ♬ 발라드 맛집♪ No.1   \n",
              "824   511797644  박찬욱 감독: 헤어질 결심 할 때 듣고 싶은 TOP100   \n",
              "1530  459121499           여름과 잘어울리는 곡들(좋아요 천개이상)   \n",
              "2427  508639525                            연주곡~~   \n",
              "2788  402039676                 요새 들어도 좋은 추억의 노래   \n",
              "2845  447413687                             옛날노래   \n",
              "3535  431495858        뉴이스트, 워너원 민현이 부르고 추천하는 노래   \n",
              "\n",
              "                                                    tag  like   \n",
              "10     #발라드 #추억 #회상 #가요 #2000년대 #2010년대 #가을 #감성 #새벽감...  4985  \\\n",
              "33     #기분전환 #발라드 #미디엄템포 #노래방 #멜로디 #출퇴근 #산뜻한 #가을 #작업...   614   \n",
              "231                                           #사랑 #달콤한     17   \n",
              "774    #명품 #발라드 #추억 #회상 #사랑 #기쁨 #이별 #슬픔 #ralalra #노랫...  9339   \n",
              "824       #박찬욱 #이별 #헤어질결심 #감성 #슬픔 #위로 #헤어짐 #멜론 #TOP100    347   \n",
              "1530   #여름 #여름노래 #Summer #노래모음 #댄스 #명곡 #드라이브 #매장 #매장...   172   \n",
              "2427                                          #피아노 #연주     14   \n",
              "2788                                           #추억 #회상   2349   \n",
              "2845                                             #옛날노래    115   \n",
              "3535                               #뉴이스트 #발라드 #황민현 #민현    932   \n",
              "\n",
              "                                                songIds  \n",
              "10    1563237 104788 2289924 1746411 732373 2949854 ...  \n",
              "33    35383397 34657844 2093361 33625988 33439096 16...  \n",
              "231   34930368 31709523 35383397 34927767 34787226 3...  \n",
              "774   1622154 1622996 3980980 1418635 3560411 156323...  \n",
              "824   32436691 31049625 4023988 1549975 31618207 844...  \n",
              "1530  30512671 32559781 31175119 4681146 8298724 312...  \n",
              "2427  30657307 3106066 1884329 31067065 31426882 320...  \n",
              "2788  1632405 1467725 1885164 1285429 2670748 197251...  \n",
              "2845  2001419 638570 1467722 2575587 3604753 505376 ...  \n",
              "3535  30836801 32129920 31249401 33179831 5700879 31...  "
            ]
          },
          "execution_count": 16,
          "metadata": {},
          "output_type": "execute_result"
        }
      ],
      "source": [
        "# 플레이리스트1에서  해당 songId가 들어가 있는 데이터프레임 추출\n",
        "plist1[plist1.songIds.str.contains(songId)]"
      ]
    },
    {
      "cell_type": "code",
      "execution_count": 17,
      "metadata": {
        "id": "0Hem-SrwcNBw"
      },
      "outputs": [],
      "source": [
        "# 가장 많이 들어간 tag 찾기\n",
        "tags = ' '.join(plist1[plist1.songIds.str.contains(songId)]['tag'].values).split()\n",
        "# 태그 다 조인"
      ]
    },
    {
      "cell_type": "code",
      "execution_count": 22,
      "metadata": {},
      "outputs": [
        {
          "data": {
            "text/plain": [
              "(array(['#2000년대', '#2010년대', '#Summer', '#TOP100', '#ralalra', '#가요',\n",
              "        '#가을', '#감성', '#기분전환', '#기쁨', '#노래모음', '#노래방', '#노랫말을듣는다', '#뉴이스트',\n",
              "        '#달콤한', '#댄스', '#드라이브', '#매장', '#매장음악', '#멜로디', '#멜론', '#명곡',\n",
              "        '#명품', '#미디엄템포', '#민현', '#박찬욱', '#발라드', '#밤', '#사랑', '#산뜻한',\n",
              "        '#새벽감성', '#슬픔', '#여름', '#여름노래', '#연주', '#옛날노래', '#외출', '#위로',\n",
              "        '#이별', '#작업', '#추억', '#출퇴근', '#카페', '#피아노', '#헤어질결심', '#헤어짐',\n",
              "        '#황민현', '#회상'], dtype='<U8'),\n",
              " array([1, 1, 1, 1, 1, 1, 2, 2, 1, 1, 1, 1, 1, 1, 1, 1, 1, 1, 1, 1, 1, 1,\n",
              "        1, 1, 1, 1, 4, 1, 2, 1, 1, 2, 1, 1, 1, 1, 1, 1, 2, 1, 3, 1, 1, 1,\n",
              "        1, 1, 1, 3], dtype=int64))"
            ]
          },
          "execution_count": 22,
          "metadata": {},
          "output_type": "execute_result"
        }
      ],
      "source": [
        "np.unique(tags, return_counts=True)"
      ]
    },
    {
      "cell_type": "code",
      "execution_count": 25,
      "metadata": {},
      "outputs": [
        {
          "data": {
            "text/html": [
              "<div>\n",
              "<style scoped>\n",
              "    .dataframe tbody tr th:only-of-type {\n",
              "        vertical-align: middle;\n",
              "    }\n",
              "\n",
              "    .dataframe tbody tr th {\n",
              "        vertical-align: top;\n",
              "    }\n",
              "\n",
              "    .dataframe thead th {\n",
              "        text-align: right;\n",
              "    }\n",
              "</style>\n",
              "<table border=\"1\" class=\"dataframe\">\n",
              "  <thead>\n",
              "    <tr style=\"text-align: right;\">\n",
              "      <th></th>\n",
              "      <th>tag</th>\n",
              "      <th>count</th>\n",
              "    </tr>\n",
              "  </thead>\n",
              "  <tbody>\n",
              "    <tr>\n",
              "      <th>26</th>\n",
              "      <td>#발라드</td>\n",
              "      <td>4</td>\n",
              "    </tr>\n",
              "    <tr>\n",
              "      <th>40</th>\n",
              "      <td>#추억</td>\n",
              "      <td>3</td>\n",
              "    </tr>\n",
              "    <tr>\n",
              "      <th>47</th>\n",
              "      <td>#회상</td>\n",
              "      <td>3</td>\n",
              "    </tr>\n",
              "    <tr>\n",
              "      <th>38</th>\n",
              "      <td>#이별</td>\n",
              "      <td>2</td>\n",
              "    </tr>\n",
              "    <tr>\n",
              "      <th>6</th>\n",
              "      <td>#가을</td>\n",
              "      <td>2</td>\n",
              "    </tr>\n",
              "  </tbody>\n",
              "</table>\n",
              "</div>"
            ],
            "text/plain": [
              "     tag  count\n",
              "26  #발라드      4\n",
              "40   #추억      3\n",
              "47   #회상      3\n",
              "38   #이별      2\n",
              "6    #가을      2"
            ]
          },
          "execution_count": 25,
          "metadata": {},
          "output_type": "execute_result"
        }
      ],
      "source": [
        "pd.DataFrame({'tag' : np.unique(tags, return_counts=True)[0], 'count' : np.unique(tags, return_counts=True)[1]}).sort_values(by='count', ascending=False).head()"
      ]
    },
    {
      "cell_type": "code",
      "execution_count": 28,
      "metadata": {
        "id": "aekR7pxYcNBw",
        "outputId": "7ddca44a-d023-46de-a8a4-7f6b6d7a89fa"
      },
      "outputs": [
        {
          "data": {
            "text/html": [
              "<div>\n",
              "<style scoped>\n",
              "    .dataframe tbody tr th:only-of-type {\n",
              "        vertical-align: middle;\n",
              "    }\n",
              "\n",
              "    .dataframe tbody tr th {\n",
              "        vertical-align: top;\n",
              "    }\n",
              "\n",
              "    .dataframe thead th {\n",
              "        text-align: right;\n",
              "    }\n",
              "</style>\n",
              "<table border=\"1\" class=\"dataframe\">\n",
              "  <thead>\n",
              "    <tr style=\"text-align: right;\">\n",
              "      <th></th>\n",
              "      <th>tag</th>\n",
              "      <th>count</th>\n",
              "    </tr>\n",
              "  </thead>\n",
              "  <tbody>\n",
              "    <tr>\n",
              "      <th>0</th>\n",
              "      <td>#2000년대</td>\n",
              "      <td>1</td>\n",
              "    </tr>\n",
              "    <tr>\n",
              "      <th>1</th>\n",
              "      <td>#2010년대</td>\n",
              "      <td>1</td>\n",
              "    </tr>\n",
              "    <tr>\n",
              "      <th>2</th>\n",
              "      <td>#Summer</td>\n",
              "      <td>1</td>\n",
              "    </tr>\n",
              "    <tr>\n",
              "      <th>3</th>\n",
              "      <td>#TOP100</td>\n",
              "      <td>1</td>\n",
              "    </tr>\n",
              "    <tr>\n",
              "      <th>4</th>\n",
              "      <td>#ralalra</td>\n",
              "      <td>1</td>\n",
              "    </tr>\n",
              "  </tbody>\n",
              "</table>\n",
              "</div>"
            ],
            "text/plain": [
              "        tag  count\n",
              "0   #2000년대      1\n",
              "1   #2010년대      1\n",
              "2   #Summer      1\n",
              "3   #TOP100      1\n",
              "4  #ralalra      1"
            ]
          },
          "execution_count": 28,
          "metadata": {},
          "output_type": "execute_result"
        }
      ],
      "source": [
        "df_tags = pd.DataFrame({'tag' : np.unique(tags, return_counts=True)[0], 'count' : np.unique(tags, return_counts=True)[1]})\n",
        "df_tags.head()"
      ]
    },
    {
      "cell_type": "code",
      "execution_count": 29,
      "metadata": {
        "id": "pZ1DVchUcNBx",
        "outputId": "702a18ba-0a5e-40c4-a1cf-90d5dfc4a4f2"
      },
      "outputs": [
        {
          "data": {
            "text/plain": [
              "'#발라드 #추억'"
            ]
          },
          "execution_count": 29,
          "metadata": {},
          "output_type": "execute_result"
        }
      ],
      "source": [
        "str_tags = ' '.join(df_tags.sort_values('count', ascending=False).head(2)['tag'])\n",
        "str_tags"
      ]
    },
    {
      "cell_type": "code",
      "execution_count": null,
      "metadata": {
        "id": "8fqLZCefcNBx"
      },
      "outputs": [],
      "source": [
        "# 플레이리스트에서 \n",
        "songs = ' '.join(plist1[plist1.songIds.str.contains(songId)]['songIds'].values).replace(songId, '').split()"
      ]
    },
    {
      "cell_type": "code",
      "execution_count": null,
      "metadata": {
        "id": "NlTHYIuHcNBy",
        "outputId": "dde5fbc1-051d-4c69-e2e3-d2ce1d62b2c1"
      },
      "outputs": [
        {
          "name": "stdout",
          "output_type": "stream",
          "text": [
            "<class 'pandas.core.frame.DataFrame'>\n",
            "RangeIndex: 343 entries, 0 to 342\n",
            "Data columns (total 1 columns):\n",
            " #   Column  Non-Null Count  Dtype \n",
            "---  ------  --------------  ----- \n",
            " 0   songId  343 non-null    object\n",
            "dtypes: object(1)\n",
            "memory usage: 2.8+ KB\n"
          ]
        }
      ],
      "source": [
        "song_df = pd.DataFrame(songs, columns=['songId'])\n",
        "song_df.info()"
      ]
    },
    {
      "cell_type": "code",
      "execution_count": null,
      "metadata": {
        "id": "ARVP5YlRcNBy",
        "outputId": "9066e781-8a92-4545-8538-96120f0cca6c"
      },
      "outputs": [
        {
          "data": {
            "text/html": [
              "<div>\n",
              "<style scoped>\n",
              "    .dataframe tbody tr th:only-of-type {\n",
              "        vertical-align: middle;\n",
              "    }\n",
              "\n",
              "    .dataframe tbody tr th {\n",
              "        vertical-align: top;\n",
              "    }\n",
              "\n",
              "    .dataframe thead th {\n",
              "        text-align: right;\n",
              "    }\n",
              "</style>\n",
              "<table border=\"1\" class=\"dataframe\">\n",
              "  <thead>\n",
              "    <tr style=\"text-align: right;\">\n",
              "      <th></th>\n",
              "      <th>songId</th>\n",
              "    </tr>\n",
              "  </thead>\n",
              "  <tbody>\n",
              "    <tr>\n",
              "      <th>0</th>\n",
              "      <td>110893</td>\n",
              "    </tr>\n",
              "    <tr>\n",
              "      <th>1</th>\n",
              "      <td>686651</td>\n",
              "    </tr>\n",
              "    <tr>\n",
              "      <th>2</th>\n",
              "      <td>1778230</td>\n",
              "    </tr>\n",
              "    <tr>\n",
              "      <th>3</th>\n",
              "      <td>4079731</td>\n",
              "    </tr>\n",
              "    <tr>\n",
              "      <th>4</th>\n",
              "      <td>3486450</td>\n",
              "    </tr>\n",
              "  </tbody>\n",
              "</table>\n",
              "</div>"
            ],
            "text/plain": [
              "    songId\n",
              "0   110893\n",
              "1   686651\n",
              "2  1778230\n",
              "3  4079731\n",
              "4  3486450"
            ]
          },
          "execution_count": 39,
          "metadata": {},
          "output_type": "execute_result"
        }
      ],
      "source": [
        "song_df.head()"
      ]
    },
    {
      "cell_type": "code",
      "execution_count": null,
      "metadata": {
        "id": "vnBC2op6cNBy"
      },
      "outputs": [],
      "source": [
        "# 상위 5위까지\n",
        "songs = song_df.value_counts().head(5).keys()"
      ]
    },
    {
      "cell_type": "code",
      "execution_count": null,
      "metadata": {
        "id": "nhoE66ygcNBz",
        "outputId": "ea54fc5b-415b-4d0c-aea6-6c5c6da7e47e"
      },
      "outputs": [
        {
          "data": {
            "text/plain": [
              "['8067023', '8089568', '30190630', '686651', '619115']"
            ]
          },
          "execution_count": 44,
          "metadata": {},
          "output_type": "execute_result"
        }
      ],
      "source": [
        "song_list = [song[0] for song in songs]\n",
        "song_list"
      ]
    },
    {
      "cell_type": "code",
      "execution_count": null,
      "metadata": {
        "id": "uBXxFeyHcNBz",
        "outputId": "bd4ac73e-a447-497b-bbfc-d76564b8e56e"
      },
      "outputs": [
        {
          "data": {
            "text/html": [
              "<div>\n",
              "<style scoped>\n",
              "    .dataframe tbody tr th:only-of-type {\n",
              "        vertical-align: middle;\n",
              "    }\n",
              "\n",
              "    .dataframe tbody tr th {\n",
              "        vertical-align: top;\n",
              "    }\n",
              "\n",
              "    .dataframe thead th {\n",
              "        text-align: right;\n",
              "    }\n",
              "</style>\n",
              "<table border=\"1\" class=\"dataframe\">\n",
              "  <thead>\n",
              "    <tr style=\"text-align: right;\">\n",
              "      <th></th>\n",
              "      <th>songId</th>\n",
              "      <th>title</th>\n",
              "      <th>artist</th>\n",
              "      <th>genre</th>\n",
              "      <th>album</th>\n",
              "      <th>lyricist</th>\n",
              "      <th>composer</th>\n",
              "      <th>date</th>\n",
              "      <th>img</th>\n",
              "      <th>comment</th>\n",
              "      <th>like</th>\n",
              "      <th>lyric</th>\n",
              "      <th>plylstSeq</th>\n",
              "    </tr>\n",
              "  </thead>\n",
              "  <tbody>\n",
              "    <tr>\n",
              "      <th>355</th>\n",
              "      <td>30190630</td>\n",
              "      <td>첫눈처럼 너에게 가겠다</td>\n",
              "      <td>에일리(Ailee)</td>\n",
              "      <td>발라드 국내드라마</td>\n",
              "      <td>도깨비 OST Part.9</td>\n",
              "      <td>이미나</td>\n",
              "      <td>로코베리</td>\n",
              "      <td>20170107</td>\n",
              "      <td>https://cdnimg.melon.co.kr/cm/album/images/100...</td>\n",
              "      <td>1104</td>\n",
              "      <td>350646</td>\n",
              "      <td>널 품기 전 알지 못했다\\n내 머문 세상 이토록 찬란한 것을\\n작은 숨결로 닿은 사...</td>\n",
              "      <td>403014132 411111859</td>\n",
              "    </tr>\n",
              "    <tr>\n",
              "      <th>360</th>\n",
              "      <td>686651</td>\n",
              "      <td>응급실</td>\n",
              "      <td>izi</td>\n",
              "      <td>발라드 국내드라마</td>\n",
              "      <td>쾌걸춘향 OST</td>\n",
              "      <td>신피디</td>\n",
              "      <td>신피디</td>\n",
              "      <td>20050120</td>\n",
              "      <td>https://cdnimg.melon.co.kr/cm/album/images/000...</td>\n",
              "      <td>188</td>\n",
              "      <td>110187</td>\n",
              "      <td>후회 하고 있어요 \\n우리 다투던 그 날 \\n괜한 자존심 때문에 \\n끝내자고 말을 ...</td>\n",
              "      <td>442706386 403014132</td>\n",
              "    </tr>\n",
              "    <tr>\n",
              "      <th>386</th>\n",
              "      <td>8089568</td>\n",
              "      <td>You Are My Everything</td>\n",
              "      <td>거미</td>\n",
              "      <td>발라드 국내드라마</td>\n",
              "      <td>태양의 후예 OST Part.4</td>\n",
              "      <td>지훈</td>\n",
              "      <td>개미</td>\n",
              "      <td>20160310</td>\n",
              "      <td>https://cdnimg.melon.co.kr/cm/album/images/026...</td>\n",
              "      <td>89</td>\n",
              "      <td>137110</td>\n",
              "      <td>처음부터 그대였죠\\n나에게 다가올 한 사람\\n단 한 번의 스침에도\\n내 눈빛이 말을...</td>\n",
              "      <td>411111859 422704801</td>\n",
              "    </tr>\n",
              "    <tr>\n",
              "      <th>405</th>\n",
              "      <td>8067023</td>\n",
              "      <td>Everytime</td>\n",
              "      <td>첸 (CHEN)</td>\n",
              "      <td>발라드 국내드라마</td>\n",
              "      <td>태양의 후예 OST Part.2</td>\n",
              "      <td>지훈</td>\n",
              "      <td>로코베리</td>\n",
              "      <td>20160225</td>\n",
              "      <td>https://cdnimg.melon.co.kr/cm/album/images/026...</td>\n",
              "      <td>129</td>\n",
              "      <td>139640</td>\n",
              "      <td>OH EVERY TIME I SEE YOU\\n그대 눈을 볼 때면\\n자꾸 가슴이 또 ...</td>\n",
              "      <td>411111859 416545234</td>\n",
              "    </tr>\n",
              "    <tr>\n",
              "      <th>634</th>\n",
              "      <td>619115</td>\n",
              "      <td>I Think I</td>\n",
              "      <td>별</td>\n",
              "      <td>국내드라마</td>\n",
              "      <td>풀 하우스 (KBS 드라마) OST - II</td>\n",
              "      <td>박진영</td>\n",
              "      <td>박진영</td>\n",
              "      <td>20040719</td>\n",
              "      <td>https://cdnimg.melon.co.kr/cm/album/images/000...</td>\n",
              "      <td>41</td>\n",
              "      <td>22831</td>\n",
              "      <td>그럴리 없다고 \\n아닐꺼라고 믿었죠 um \\n내가 그댈 사랑한다니 \\n말도 안되죠 ...</td>\n",
              "      <td>442706386 434150864</td>\n",
              "    </tr>\n",
              "  </tbody>\n",
              "</table>\n",
              "</div>"
            ],
            "text/plain": [
              "       songId                  title      artist      genre   \n",
              "355  30190630           첫눈처럼 너에게 가겠다  에일리(Ailee)  발라드 국내드라마  \\\n",
              "360    686651                    응급실         izi  발라드 국내드라마   \n",
              "386   8089568  You Are My Everything          거미  발라드 국내드라마   \n",
              "405   8067023              Everytime    첸 (CHEN)  발라드 국내드라마   \n",
              "634    619115              I Think I           별      국내드라마   \n",
              "\n",
              "                        album lyricist composer      date   \n",
              "355            도깨비 OST Part.9      이미나     로코베리  20170107  \\\n",
              "360                  쾌걸춘향 OST      신피디      신피디  20050120   \n",
              "386         태양의 후예 OST Part.4       지훈       개미  20160310   \n",
              "405         태양의 후예 OST Part.2       지훈     로코베리  20160225   \n",
              "634  풀 하우스 (KBS 드라마) OST - II      박진영      박진영  20040719   \n",
              "\n",
              "                                                   img  comment    like   \n",
              "355  https://cdnimg.melon.co.kr/cm/album/images/100...     1104  350646  \\\n",
              "360  https://cdnimg.melon.co.kr/cm/album/images/000...      188  110187   \n",
              "386  https://cdnimg.melon.co.kr/cm/album/images/026...       89  137110   \n",
              "405  https://cdnimg.melon.co.kr/cm/album/images/026...      129  139640   \n",
              "634  https://cdnimg.melon.co.kr/cm/album/images/000...       41   22831   \n",
              "\n",
              "                                                 lyric            plylstSeq  \n",
              "355  널 품기 전 알지 못했다\\n내 머문 세상 이토록 찬란한 것을\\n작은 숨결로 닿은 사...  403014132 411111859  \n",
              "360  후회 하고 있어요 \\n우리 다투던 그 날 \\n괜한 자존심 때문에 \\n끝내자고 말을 ...  442706386 403014132  \n",
              "386  처음부터 그대였죠\\n나에게 다가올 한 사람\\n단 한 번의 스침에도\\n내 눈빛이 말을...  411111859 422704801  \n",
              "405  OH EVERY TIME I SEE YOU\\n그대 눈을 볼 때면\\n자꾸 가슴이 또 ...  411111859 416545234  \n",
              "634  그럴리 없다고 \\n아닐꺼라고 믿었죠 um \\n내가 그댈 사랑한다니 \\n말도 안되죠 ...  442706386 434150864  "
            ]
          },
          "execution_count": 45,
          "metadata": {},
          "output_type": "execute_result"
        }
      ],
      "source": [
        "# 해당 songId 들 정보 출력\n",
        "# 나중에 to_dict()로 반환\n",
        "df[df.songId.isin(song_list)]"
      ]
    },
    {
      "cell_type": "code",
      "execution_count": null,
      "metadata": {
        "id": "Y6iK1RIacNBz"
      },
      "outputs": [],
      "source": []
    }
  ],
  "metadata": {
    "colab": {
      "provenance": []
    },
    "kernelspec": {
      "display_name": "base",
      "language": "python",
      "name": "python3"
    },
    "language_info": {
      "codemirror_mode": {
        "name": "ipython",
        "version": 3
      },
      "file_extension": ".py",
      "mimetype": "text/x-python",
      "name": "python",
      "nbconvert_exporter": "python",
      "pygments_lexer": "ipython3",
      "version": "3.10.9"
    },
    "orig_nbformat": 4
  },
  "nbformat": 4,
  "nbformat_minor": 0
}
