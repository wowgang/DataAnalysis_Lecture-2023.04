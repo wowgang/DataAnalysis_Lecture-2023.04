{
 "cells": [
  {
   "cell_type": "code",
   "execution_count": 1,
   "metadata": {},
   "outputs": [],
   "source": [
    "import pandas as pd\n",
    "import numpy as np"
   ]
  },
  {
   "cell_type": "code",
   "execution_count": 2,
   "metadata": {},
   "outputs": [
    {
     "data": {
      "text/html": [
       "<div>\n",
       "<style scoped>\n",
       "    .dataframe tbody tr th:only-of-type {\n",
       "        vertical-align: middle;\n",
       "    }\n",
       "\n",
       "    .dataframe tbody tr th {\n",
       "        vertical-align: top;\n",
       "    }\n",
       "\n",
       "    .dataframe thead th {\n",
       "        text-align: right;\n",
       "    }\n",
       "</style>\n",
       "<table border=\"1\" class=\"dataframe\">\n",
       "  <thead>\n",
       "    <tr style=\"text-align: right;\">\n",
       "      <th></th>\n",
       "      <th>songId</th>\n",
       "      <th>title</th>\n",
       "      <th>artist</th>\n",
       "      <th>genre</th>\n",
       "      <th>album</th>\n",
       "      <th>lyricist</th>\n",
       "      <th>composer</th>\n",
       "      <th>date</th>\n",
       "      <th>img</th>\n",
       "      <th>comment</th>\n",
       "      <th>like</th>\n",
       "      <th>lyric</th>\n",
       "      <th>plylstSeq</th>\n",
       "    </tr>\n",
       "  </thead>\n",
       "  <tbody>\n",
       "    <tr>\n",
       "      <th>0</th>\n",
       "      <td>418168</td>\n",
       "      <td>희재</td>\n",
       "      <td>성시경</td>\n",
       "      <td>발라드 국내영화</td>\n",
       "      <td>국화꽃 향기 OST</td>\n",
       "      <td>양재선</td>\n",
       "      <td>MGR</td>\n",
       "      <td>20030201.0</td>\n",
       "      <td>https://cdnimg.melon.co.kr/cm/album/images/000...</td>\n",
       "      <td>332</td>\n",
       "      <td>138267</td>\n",
       "      <td>햇살은 우릴 위해 내리고 \\n바람도 서롤 감싸게 했죠 \\n우리 웃음속에 계절은 오고...</td>\n",
       "      <td>445029956 411111859</td>\n",
       "    </tr>\n",
       "  </tbody>\n",
       "</table>\n",
       "</div>"
      ],
      "text/plain": [
       "   songId title artist     genre       album lyricist composer        date   \n",
       "0  418168    희재    성시경  발라드 국내영화  국화꽃 향기 OST      양재선      MGR  20030201.0  \\\n",
       "\n",
       "                                                 img  comment    like   \n",
       "0  https://cdnimg.melon.co.kr/cm/album/images/000...      332  138267  \\\n",
       "\n",
       "                                               lyric            plylstSeq  \n",
       "0  햇살은 우릴 위해 내리고 \\n바람도 서롤 감싸게 했죠 \\n우리 웃음속에 계절은 오고...  445029956 411111859  "
      ]
     },
     "execution_count": 2,
     "metadata": {},
     "output_type": "execute_result"
    }
   ],
   "source": [
    "df = pd.read_csv('data/melon_song.csv')\n",
    "df.head(1)"
   ]
  },
  {
   "cell_type": "code",
   "execution_count": 3,
   "metadata": {},
   "outputs": [
    {
     "name": "stdout",
     "output_type": "stream",
     "text": [
      "<class 'pandas.core.frame.DataFrame'>\n",
      "RangeIndex: 6247 entries, 0 to 6246\n",
      "Data columns (total 13 columns):\n",
      " #   Column     Non-Null Count  Dtype  \n",
      "---  ------     --------------  -----  \n",
      " 0   songId     6247 non-null   int64  \n",
      " 1   title      6247 non-null   object \n",
      " 2   artist     6247 non-null   object \n",
      " 3   genre      6245 non-null   object \n",
      " 4   album      6247 non-null   object \n",
      " 5   lyricist   5849 non-null   object \n",
      " 6   composer   5845 non-null   object \n",
      " 7   date       6202 non-null   float64\n",
      " 8   img        6247 non-null   object \n",
      " 9   comment    6247 non-null   int64  \n",
      " 10  like       6247 non-null   int64  \n",
      " 11  lyric      6247 non-null   object \n",
      " 12  plylstSeq  6126 non-null   object \n",
      "dtypes: float64(1), int64(3), object(9)\n",
      "memory usage: 634.6+ KB\n"
     ]
    }
   ],
   "source": [
    "df.info()"
   ]
  },
  {
   "cell_type": "code",
   "execution_count": 4,
   "metadata": {},
   "outputs": [],
   "source": [
    "#  1. 컨텐츠기반 추천\n",
    "#    Input(title, artist) : contains 로 찾기 => 결과 songId 한 개만 반환하도록 한다.\n",
    "#    songId로 추천시스템에서 비슷한 노래 5개 찾아서 songId로 반환\n",
    "#    반환된 songId 들의 정보 출력\n",
    "\n",
    "# 가사에서 \\r -> replace하기"
   ]
  },
  {
   "cell_type": "code",
   "execution_count": 5,
   "metadata": {},
   "outputs": [],
   "source": [
    "df['songId'] = df.songId.astype(str)"
   ]
  },
  {
   "cell_type": "code",
   "execution_count": 6,
   "metadata": {},
   "outputs": [],
   "source": [
    "df.fillna('', inplace=True)"
   ]
  },
  {
   "cell_type": "code",
   "execution_count": 7,
   "metadata": {},
   "outputs": [],
   "source": [
    "# df[df.title.str.contains('희재') & df.artist.str.contains('성시경')]"
   ]
  },
  {
   "cell_type": "code",
   "execution_count": 8,
   "metadata": {},
   "outputs": [],
   "source": [
    "# title, artist = map(input().split())\n",
    "\n",
    "# df[df.title.str.contains('title') & df.artist.str.contains('artist')]"
   ]
  },
  {
   "cell_type": "code",
   "execution_count": 9,
   "metadata": {},
   "outputs": [],
   "source": [
    "def songid_find(title, artist):\n",
    "    ss = df[df.title.str.contains(title) & df.artist.str.contains(artist)]\n",
    "    return ss.songId"
   ]
  },
  {
   "cell_type": "code",
   "execution_count": 10,
   "metadata": {},
   "outputs": [
    {
     "data": {
      "text/plain": [
       "0     418168\n",
       "55    418200\n",
       "Name: songId, dtype: object"
      ]
     },
     "execution_count": 10,
     "metadata": {},
     "output_type": "execute_result"
    }
   ],
   "source": [
    "songid_find('희재','성시경')"
   ]
  },
  {
   "cell_type": "code",
   "execution_count": 11,
   "metadata": {},
   "outputs": [
    {
     "data": {
      "text/plain": [
       "'햇살은 우릴 위해 내리고 \\n바람도 서롤 감싸게 했죠 \\n우리 웃음속에 계절은 오고 \\n또 갔죠 \\n바람에 흔들리는 머릿결 \\n내게 불어오는 그대 향기 \\n예쁜 두눈도 웃음 소리도 \\n모두가 내 것이었죠\\n이런 사랑 이런 행복 쉽다 \\n했었죠 이런 웃음 \\n이런 축복 내게 쉽게 올리 없죠 \\n눈물 조차 울음조차 닦지 \\n못한 나 \\n정말로 울면 내가 그댈 보내 \\n준 것 같아서 \\n그대 떠나가는 그 순간도 \\n나를 걱정했었나요 \\n무엇도 해줄 수 없는 내 맘\\n앞에서 \\n그대 나를 떠나 간다해도 \\n난 그댈 보낸적 없죠 \\n여전히 그댄 나를 살게 하는 \\n이율테니 \\n이런 사랑 이런 행복 쉽다 했었죠 \\n이런 웃음 이런 축복 내게 \\n쉽게 올리 없죠 \\n눈물 조차 울음 조차 닦지 못한 나 \\n정말로 울면 내가 그댈 보내 \\n준 것 같아서 \\n그대 떠나가는 그 순간도 \\n나를 걱정했었나요 \\n무엇도 해줄 수 없는 내 맘앞에서 \\n그대 나를 떠나 간다해도 난 \\n그댈 보낸적 없죠 \\n기다림으로 다시 시작일테니 \\n얼마나 사랑했는지 얼마나 \\n또 울었는지 \\n그대여 한순간 조차 잊지 말아요 \\n거기 떠나간 그곳에서 날\\n기억하며 기다려요\\n하루씩 그대에게 다가가는 \\n나 일테니 성시경 성시경 MGR MGR 양재선 양재선 발라드 국내영화 발라드 국내영화 희재'"
      ]
     },
     "execution_count": 11,
     "metadata": {},
     "output_type": "execute_result"
    }
   ],
   "source": [
    "df['total'] = df.lyric + (' ' + df.artist) * 2 + (' ' + df.composer) * 2 + (' ' + df.lyricist) * 2 + (' ' + df.genre) * 2 + (' ' + df.title)\n",
    "df.total[0]"
   ]
  },
  {
   "cell_type": "code",
   "execution_count": 12,
   "metadata": {},
   "outputs": [
    {
     "data": {
      "text/plain": [
       "'햇살은 우릴 위해 내리고 \\n바람도 서롤 감싸게 했죠 \\n우리 웃음속에 계절은 오고 \\n또 갔죠 \\n바람에 흔들리는 머릿결 \\n내게 불어오는 그대 향기 \\n예쁜 두눈도 웃음 소리도 \\n모두가 내 것이었죠\\n이런 사랑 이런 행복 쉽다 \\n했었죠 이런 웃음 \\n이런 축복 내게 쉽게 올리 없죠 \\n눈물 조차 울음조차 닦지 \\n못한 나 \\n정말로 울면 내가 그댈 보내 \\n준 것 같아서 \\n그대 떠나가는 그 순간도 \\n나를 걱정했었나요 \\n무엇도 해줄 수 없는 내 맘\\n앞에서 \\n그대 나를 떠나 간다해도 \\n난 그댈 보낸적 없죠 \\n여전히 그댄 나를 살게 하는 \\n이율테니 \\n이런 사랑 이런 행복 쉽다 했었죠 \\n이런 웃음 이런 축복 내게 \\n쉽게 올리 없죠 \\n눈물 조차 울음 조차 닦지 못한 나 \\n정말로 울면 내가 그댈 보내 \\n준 것 같아서 \\n그대 떠나가는 그 순간도 \\n나를 걱정했었나요 \\n무엇도 해줄 수 없는 내 맘앞에서 \\n그대 나를 떠나 간다해도 난 \\n그댈 보낸적 없죠 \\n기다림으로 다시 시작일테니 \\n얼마나 사랑했는지 얼마나 \\n또 울었는지 \\n그대여 한순간 조차 잊지 말아요 \\n거기 떠나간 그곳에서 날\\n기억하며 기다려요\\n하루씩 그대에게 다가가는 \\n나 일테니'"
      ]
     },
     "execution_count": 12,
     "metadata": {},
     "output_type": "execute_result"
    }
   ],
   "source": [
    "df.lyric[0]"
   ]
  },
  {
   "cell_type": "code",
   "execution_count": 13,
   "metadata": {},
   "outputs": [
    {
     "data": {
      "text/plain": [
       "'햇살은 우릴 위해 내리고 \\n바람도 서롤 감싸게 했죠 \\n우리 웃음속에 계절은 오고 \\n또 갔죠 \\n바람에 흔들리는 머릿결 \\n내게 불어오는 그대 향기 \\n예쁜 두눈도 웃음 소리도 \\n모두가 내 것이었죠\\n이런 사랑 이런 행복 쉽다 \\n했었죠 이런 웃음 \\n이런 축복 내게 쉽게 올리 없죠 \\n눈물 조차 울음조차 닦지 \\n못한 나 \\n정말로 울면 내가 그댈 보내 \\n준 것 같아서 \\n그대 떠나가는 그 순간도 \\n나를 걱정했었나요 \\n무엇도 해줄 수 없는 내 맘\\n앞에서 \\n그대 나를 떠나 간다해도 \\n난 그댈 보낸적 없죠 \\n여전히 그댄 나를 살게 하는 \\n이율테니 \\n이런 사랑 이런 행복 쉽다 했었죠 \\n이런 웃음 이런 축복 내게 \\n쉽게 올리 없죠 \\n눈물 조차 울음 조차 닦지 못한 나 \\n정말로 울면 내가 그댈 보내 \\n준 것 같아서 \\n그대 떠나가는 그 순간도 \\n나를 걱정했었나요 \\n무엇도 해줄 수 없는 내 맘앞에서 \\n그대 나를 떠나 간다해도 난 \\n그댈 보낸적 없죠 \\n기다림으로 다시 시작일테니 \\n얼마나 사랑했는지 얼마나 \\n또 울었는지 \\n그대여 한순간 조차 잊지 말아요 \\n거기 떠나간 그곳에서 날\\n기억하며 기다려요\\n하루씩 그대에게 다가가는 \\n나 일테니 성시경 성시경 MGR MGR 양재선 양재선 발라드 국내영화 발라드 국내영화 희재'"
      ]
     },
     "execution_count": 13,
     "metadata": {},
     "output_type": "execute_result"
    }
   ],
   "source": [
    "df.set_index('songId', inplace=True)\n",
    "df.reset_index(inplace=True)\n",
    "df.total[0]"
   ]
  },
  {
   "cell_type": "code",
   "execution_count": 14,
   "metadata": {},
   "outputs": [
    {
     "data": {
      "text/plain": [
       "(6247, 95076)"
      ]
     },
     "execution_count": 14,
     "metadata": {},
     "output_type": "execute_result"
    }
   ],
   "source": [
    "from sklearn.feature_extraction.text import TfidfVectorizer\n",
    "tvect = TfidfVectorizer()\n",
    "total_tv = tvect.fit_transform(df.total)\n",
    "total_tv.shape"
   ]
  },
  {
   "cell_type": "code",
   "execution_count": 15,
   "metadata": {},
   "outputs": [
    {
     "data": {
      "text/plain": [
       "songId\n",
       "418168         0\n",
       "35609035       1\n",
       "1046278        2\n",
       "35609034       3\n",
       "35728845       4\n",
       "            ... \n",
       "33013736    6242\n",
       "3080890     6243\n",
       "2981597     6244\n",
       "34183979    6245\n",
       "31191637    6246\n",
       "Length: 6247, dtype: int64"
      ]
     },
     "execution_count": 15,
     "metadata": {},
     "output_type": "execute_result"
    }
   ],
   "source": [
    "indices = pd.Series(df.index, index=df.songId)\n",
    "indices"
   ]
  },
  {
   "cell_type": "code",
   "execution_count": 16,
   "metadata": {},
   "outputs": [],
   "source": [
    "from sklearn.metrics.pairwise import cosine_similarity\n",
    "cosine_sim = cosine_similarity(total_tv)"
   ]
  },
  {
   "cell_type": "code",
   "execution_count": 17,
   "metadata": {},
   "outputs": [],
   "source": [
    "def get_recommendation(songId, cos_sim):\n",
    "    index = indices[songId]\n",
    "    sim_scores = pd.Series(cos_sim[index])\n",
    "    song_indices = sim_scores.sort_values(ascending=False).head(6).tail(5).index\n",
    "    return df.songId.iloc[song_indices]"
   ]
  },
  {
   "cell_type": "code",
   "execution_count": 18,
   "metadata": {},
   "outputs": [
    {
     "data": {
      "text/plain": [
       "array(['35609034', '35307770', '4381724', '1925230', '32323332'],\n",
       "      dtype=object)"
      ]
     },
     "execution_count": 18,
     "metadata": {},
     "output_type": "execute_result"
    }
   ],
   "source": [
    "a = get_recommendation('35609035', cosine_sim)\n",
    "a.values"
   ]
  },
  {
   "cell_type": "code",
   "execution_count": 19,
   "metadata": {},
   "outputs": [
    {
     "data": {
      "text/plain": [
       "'35609034'"
      ]
     },
     "execution_count": 19,
     "metadata": {},
     "output_type": "execute_result"
    }
   ],
   "source": [
    "a.values[0]"
   ]
  },
  {
   "cell_type": "code",
   "execution_count": 20,
   "metadata": {},
   "outputs": [
    {
     "data": {
      "text/html": [
       "<div>\n",
       "<style scoped>\n",
       "    .dataframe tbody tr th:only-of-type {\n",
       "        vertical-align: middle;\n",
       "    }\n",
       "\n",
       "    .dataframe tbody tr th {\n",
       "        vertical-align: top;\n",
       "    }\n",
       "\n",
       "    .dataframe thead th {\n",
       "        text-align: right;\n",
       "    }\n",
       "</style>\n",
       "<table border=\"1\" class=\"dataframe\">\n",
       "  <thead>\n",
       "    <tr style=\"text-align: right;\">\n",
       "      <th></th>\n",
       "      <th>songId</th>\n",
       "      <th>title</th>\n",
       "      <th>artist</th>\n",
       "      <th>genre</th>\n",
       "      <th>album</th>\n",
       "      <th>lyricist</th>\n",
       "      <th>composer</th>\n",
       "      <th>date</th>\n",
       "      <th>img</th>\n",
       "      <th>comment</th>\n",
       "      <th>like</th>\n",
       "      <th>lyric</th>\n",
       "      <th>plylstSeq</th>\n",
       "      <th>total</th>\n",
       "    </tr>\n",
       "  </thead>\n",
       "  <tbody>\n",
       "    <tr>\n",
       "      <th>3</th>\n",
       "      <td>35609034</td>\n",
       "      <td>슬픈등</td>\n",
       "      <td>김호중</td>\n",
       "      <td>발라드 국내영화</td>\n",
       "      <td>인생은 뷰티풀: 비타돌체</td>\n",
       "      <td>김호중</td>\n",
       "      <td>김호중</td>\n",
       "      <td>20220907.0</td>\n",
       "      <td>https://cdnimg.melon.co.kr/cm2/album/images/11...</td>\n",
       "      <td>145</td>\n",
       "      <td>15389</td>\n",
       "      <td>누군가를 다시 만난다면\\n여전히 나는 너를\\n누군가를 다시 사랑하면\\n영원히 나는 ...</td>\n",
       "      <td>457536944 515278519</td>\n",
       "      <td>누군가를 다시 만난다면\\n여전히 나는 너를\\n누군가를 다시 사랑하면\\n영원히 나는 ...</td>\n",
       "    </tr>\n",
       "    <tr>\n",
       "      <th>1593</th>\n",
       "      <td>1925230</td>\n",
       "      <td>저꽃속에 찬란한 빛이</td>\n",
       "      <td>박경희</td>\n",
       "      <td>성인가요/트로트</td>\n",
       "      <td>김기웅 걸작선</td>\n",
       "      <td>전우</td>\n",
       "      <td>김기웅</td>\n",
       "      <td>19920701.0</td>\n",
       "      <td>https://cdnimg.melon.co.kr/cm/album/images/003...</td>\n",
       "      <td>1</td>\n",
       "      <td>25</td>\n",
       "      <td>어둠에 묻혀 흘러간 그 세월의 눈물은\\n사랑을 잃어 흩어진 옛 추억의 그림자\\n잊을...</td>\n",
       "      <td>460454143</td>\n",
       "      <td>어둠에 묻혀 흘러간 그 세월의 눈물은\\n사랑을 잃어 흩어진 옛 추억의 그림자\\n잊을...</td>\n",
       "    </tr>\n",
       "    <tr>\n",
       "      <th>3201</th>\n",
       "      <td>4381724</td>\n",
       "      <td>그대가 분다</td>\n",
       "      <td>엠씨더맥스 (M.C the MAX)</td>\n",
       "      <td>발라드</td>\n",
       "      <td>UNVEILING</td>\n",
       "      <td>최성일</td>\n",
       "      <td>민연재</td>\n",
       "      <td>20140102.0</td>\n",
       "      <td>https://cdnimg.melon.co.kr/cm/album/images/022...</td>\n",
       "      <td>110</td>\n",
       "      <td>107402</td>\n",
       "      <td>옅은 바람 냄새에 \\n두 눈을 감아본다\\n낡은 가슴 여전한 떨림 \\n그대가 그대가 ...</td>\n",
       "      <td>403014132 445029956</td>\n",
       "      <td>옅은 바람 냄새에 \\n두 눈을 감아본다\\n낡은 가슴 여전한 떨림 \\n그대가 그대가 ...</td>\n",
       "    </tr>\n",
       "    <tr>\n",
       "      <th>3673</th>\n",
       "      <td>35307770</td>\n",
       "      <td>빛이 나는 사람</td>\n",
       "      <td>김호중</td>\n",
       "      <td>발라드</td>\n",
       "      <td>빛이 나는 사람</td>\n",
       "      <td>김호중</td>\n",
       "      <td>김호중</td>\n",
       "      <td>20220618.0</td>\n",
       "      <td>https://cdnimg.melon.co.kr/cm2/album/images/10...</td>\n",
       "      <td>545</td>\n",
       "      <td>20680</td>\n",
       "      <td>내가 긴밤을 헤매고 있을때\\n때론 슬픔에 잠겨있을때\\n거친 세상에 지독한 외로움속에...</td>\n",
       "      <td>482887327 476517031</td>\n",
       "      <td>내가 긴밤을 헤매고 있을때\\n때론 슬픔에 잠겨있을때\\n거친 세상에 지독한 외로움속에...</td>\n",
       "    </tr>\n",
       "    <tr>\n",
       "      <th>5691</th>\n",
       "      <td>32323332</td>\n",
       "      <td>태클을 걸지마</td>\n",
       "      <td>김호중</td>\n",
       "      <td>성인가요/트로트</td>\n",
       "      <td>내일은 미스터트롯 예선곡 베스트</td>\n",
       "      <td>진성</td>\n",
       "      <td>진성철</td>\n",
       "      <td>20200117.0</td>\n",
       "      <td>https://cdnimg.melon.co.kr/cm2/album/images/10...</td>\n",
       "      <td>1265</td>\n",
       "      <td>26549</td>\n",
       "      <td>어떻게 살았냐고 묻지를 마라\\n이리저리 살았을 거란\\n착각도 마라\\n그래 한때 삶에...</td>\n",
       "      <td>475427896 478284381</td>\n",
       "      <td>어떻게 살았냐고 묻지를 마라\\n이리저리 살았을 거란\\n착각도 마라\\n그래 한때 삶에...</td>\n",
       "    </tr>\n",
       "  </tbody>\n",
       "</table>\n",
       "</div>"
      ],
      "text/plain": [
       "        songId        title               artist     genre              album   \n",
       "3     35609034          슬픈등                  김호중  발라드 국내영화      인생은 뷰티풀: 비타돌체  \\\n",
       "1593   1925230  저꽃속에 찬란한 빛이                  박경희  성인가요/트로트            김기웅 걸작선   \n",
       "3201   4381724       그대가 분다  엠씨더맥스 (M.C the MAX)       발라드          UNVEILING   \n",
       "3673  35307770     빛이 나는 사람                  김호중       발라드           빛이 나는 사람   \n",
       "5691  32323332      태클을 걸지마                  김호중  성인가요/트로트  내일은 미스터트롯 예선곡 베스트   \n",
       "\n",
       "     lyricist composer        date   \n",
       "3         김호중      김호중  20220907.0  \\\n",
       "1593       전우      김기웅  19920701.0   \n",
       "3201      최성일      민연재  20140102.0   \n",
       "3673      김호중      김호중  20220618.0   \n",
       "5691       진성      진성철  20200117.0   \n",
       "\n",
       "                                                    img  comment    like   \n",
       "3     https://cdnimg.melon.co.kr/cm2/album/images/11...      145   15389  \\\n",
       "1593  https://cdnimg.melon.co.kr/cm/album/images/003...        1      25   \n",
       "3201  https://cdnimg.melon.co.kr/cm/album/images/022...      110  107402   \n",
       "3673  https://cdnimg.melon.co.kr/cm2/album/images/10...      545   20680   \n",
       "5691  https://cdnimg.melon.co.kr/cm2/album/images/10...     1265   26549   \n",
       "\n",
       "                                                  lyric            plylstSeq   \n",
       "3     누군가를 다시 만난다면\\n여전히 나는 너를\\n누군가를 다시 사랑하면\\n영원히 나는 ...  457536944 515278519  \\\n",
       "1593  어둠에 묻혀 흘러간 그 세월의 눈물은\\n사랑을 잃어 흩어진 옛 추억의 그림자\\n잊을...            460454143   \n",
       "3201  옅은 바람 냄새에 \\n두 눈을 감아본다\\n낡은 가슴 여전한 떨림 \\n그대가 그대가 ...  403014132 445029956   \n",
       "3673  내가 긴밤을 헤매고 있을때\\n때론 슬픔에 잠겨있을때\\n거친 세상에 지독한 외로움속에...  482887327 476517031   \n",
       "5691  어떻게 살았냐고 묻지를 마라\\n이리저리 살았을 거란\\n착각도 마라\\n그래 한때 삶에...  475427896 478284381   \n",
       "\n",
       "                                                  total  \n",
       "3     누군가를 다시 만난다면\\n여전히 나는 너를\\n누군가를 다시 사랑하면\\n영원히 나는 ...  \n",
       "1593  어둠에 묻혀 흘러간 그 세월의 눈물은\\n사랑을 잃어 흩어진 옛 추억의 그림자\\n잊을...  \n",
       "3201  옅은 바람 냄새에 \\n두 눈을 감아본다\\n낡은 가슴 여전한 떨림 \\n그대가 그대가 ...  \n",
       "3673  내가 긴밤을 헤매고 있을때\\n때론 슬픔에 잠겨있을때\\n거친 세상에 지독한 외로움속에...  \n",
       "5691  어떻게 살았냐고 묻지를 마라\\n이리저리 살았을 거란\\n착각도 마라\\n그래 한때 삶에...  "
      ]
     },
     "execution_count": 20,
     "metadata": {},
     "output_type": "execute_result"
    }
   ],
   "source": [
    "df[df['songId'].isin(a)]"
   ]
  },
  {
   "cell_type": "code",
   "execution_count": 24,
   "metadata": {},
   "outputs": [
    {
     "data": {
      "text/plain": [
       "{'songId': {3: '35609034',\n",
       "  1593: '1925230',\n",
       "  3201: '4381724',\n",
       "  3673: '35307770',\n",
       "  5691: '32323332'},\n",
       " 'title': {3: '슬픈등',\n",
       "  1593: '저꽃속에 찬란한 빛이',\n",
       "  3201: '그대가 분다',\n",
       "  3673: '빛이 나는 사람',\n",
       "  5691: '태클을 걸지마'},\n",
       " 'artist': {3: '김호중',\n",
       "  1593: '박경희',\n",
       "  3201: '엠씨더맥스 (M.C the MAX)',\n",
       "  3673: '김호중',\n",
       "  5691: '김호중'},\n",
       " 'genre': {3: '발라드 국내영화',\n",
       "  1593: '성인가요/트로트',\n",
       "  3201: '발라드',\n",
       "  3673: '발라드',\n",
       "  5691: '성인가요/트로트'},\n",
       " 'album': {3: '인생은 뷰티풀: 비타돌체',\n",
       "  1593: '김기웅 걸작선',\n",
       "  3201: 'UNVEILING',\n",
       "  3673: '빛이 나는 사람',\n",
       "  5691: '내일은 미스터트롯 예선곡 베스트'},\n",
       " 'lyricist': {3: '김호중', 1593: '전우', 3201: '최성일', 3673: '김호중', 5691: '진성'},\n",
       " 'composer': {3: '김호중', 1593: '김기웅', 3201: '민연재', 3673: '김호중', 5691: '진성철'},\n",
       " 'date': {3: 20220907.0,\n",
       "  1593: 19920701.0,\n",
       "  3201: 20140102.0,\n",
       "  3673: 20220618.0,\n",
       "  5691: 20200117.0},\n",
       " 'img': {3: 'https://cdnimg.melon.co.kr/cm2/album/images/110/48/906/11048906_20220906180454_500.jpg?d530d42b8ca05e5fe8c89007570a3d26/melon/resize/282/quality/80/optimize',\n",
       "  1593: 'https://cdnimg.melon.co.kr/cm/album/images/003/97/295/397295_500.jpg/melon/resize/282/quality/80/optimize',\n",
       "  3201: 'https://cdnimg.melon.co.kr/cm/album/images/022/24/057/2224057_500.jpg/melon/resize/282/quality/80/optimize',\n",
       "  3673: 'https://cdnimg.melon.co.kr/cm2/album/images/109/85/673/10985673_20220617143044_500.jpg?333a4c513134cac79eff0b0172d02615/melon/resize/282/quality/80/optimize',\n",
       "  5691: 'https://cdnimg.melon.co.kr/cm2/album/images/103/77/157/10377157_20200117113740_500.jpg?85e87be209a62ebaff2bc7fe49005d4c/melon/resize/282/quality/80/optimize'},\n",
       " 'comment': {3: 145, 1593: 1, 3201: 110, 3673: 545, 5691: 1265},\n",
       " 'like': {3: 15389, 1593: 25, 3201: 107402, 3673: 20680, 5691: 26549},\n",
       " 'lyric': {3: '누군가를 다시 만난다면\\n여전히 나는 너를\\n누군가를 다시 사랑하면\\n영원히 나는 너를\\n다시 또 누군가를 그리라면\\n망설임 하나 없이 나는 너를\\n하나 누군가 다시 떠나보내라면\\n두 번 죽어도 너와는\\n못다 한 사랑이라 부르지 마\\n덧없는 미련이라 탓하지 마\\n꺼지지 않는 밤 하늘\\n별빛이 사라질 때까지\\n외로움아 거기 서 있거라\\n보내지 않았으니\\n그리움아 그냥 스쳐 가라\\n시작도 못 했으니\\n바람이 부는 언덕길을 걷는 그녀와\\n그녀의 긴 그림자가\\n다정한 연인처럼 내 마음을\\n지나 날 떠나가고 있지만\\n못다 한 사랑이라 말하지 마\\n덧없는 미련이라 탓하지 마\\n꺼지지 않는 밤 하늘 별빛이\\n사라질 때까지\\n한 번만이라도 듣고 싶어\\n그녀가 부르는 내 이름을\\n한 번 더 바라보고 싶어\\n날 바라보는 그 얼굴\\n바람이 불어오는 언덕길을\\n그녀와 그녀의 긴 그림자 되어\\n단 한 번만 더 걸을 수 있다면\\n죽어도 좋으리',\n",
       "  1593: '어둠에 묻혀 흘러간 그 세월의 눈물은\\n사랑을 잃어 흩어진 옛 추억의 그림자\\n잊을 수 없어 미련에 사무치던 슬픔은\\n상처로 아픈 내가슴 깊은 곳의 그리움\\n다시 한번 돌아 오라 눈물 없던 시절 그 노래여\\n찬란한 태양이 빛나는 거리 꽃피는 마음이 열리는 꿈길\\n사랑의 기쁨이 샘솟는 곳에 행복의 날개여 활짝 펴라\\n(처음부터 반복)',\n",
       "  3201: '옅은 바람 냄새에 \\n두 눈을 감아본다\\n낡은 가슴 여전한 떨림 \\n그대가 그대가 온다\\n어렴풋이 피어오르는\\n그 옛날의 기억이\\n두 눈에 소리 없이 흘러 \\n이 가슴을 울려온다\\n내 맘속에 그대가 분다\\n그 시절 그때처럼 \\n웃으며 나에게 불어와\\n소리 없이 그대가 분다\\n내 가슴 한가운데 \\n보고 싶은 그대가 분다\\n앙상해진 너의 계절에 \\n가슴이 시려 와도\\n돌아보면 어제 같은 날들 \\n그 시절은 영원하다\\n내 맘속에 그대가 분다\\n그 시절 그때처럼 \\n웃으며 나에게 불어와\\n소리 없이 그대가 분다\\n내 가슴 한가운데 \\n보고 싶은 그대가 분다\\n정말 사랑했구나 \\n그댈 매일 돌아보며 사는 나\\n내 맘속에 그대가 분다\\n어디선가 그대가 운다\\n안아주고 싶지만 \\n자꾸만 멀어지잖아\\n온 맘 다해 그댈 부른다\\n이 세상 한가운데 \\n눈물로 그댈 불러본다\\n하루 종일 그대가 분다',\n",
       "  3673: '내가 긴밤을 헤매고 있을때\\n때론 슬픔에 잠겨있을때\\n거친 세상에 지독한 외로움속에\\n혼자라 느껴질때\\n음 한줄기 빛처럼 음 다가온 그대\\n그대가 있어 그대가 있어 숨을 쉰다\\n지치지않는 걸음으로\\n빛이 나는 사람\\n빛이 나는 사람\\n때론 하늘아래 홀로 있는 외로움\\n비춰 주는 사람 바로 그대\\n영원한 사랑으로\\n음 한줄기 빛처럼 음 다가온 그대\\n그대가 있어 그대가 있어 살아간다\\n지치지않는 걸음으로\\n빛이 나는 사람\\n빛이 나는 사람\\n때론 하늘아래 홀로 있는 외로움\\n비춰주는 사람 바로 그대\\n영원한 사랑으로\\n영원한 사랑으로\\n빛이 나는 사람 빛이 나는 사람\\n때론 하늘아래 홀로 있는 외로움\\n비춰주는 사람 바로 그대\\n영원한 사랑으로\\n영원한 사랑으로',\n",
       "  5691: '어떻게 살았냐고 묻지를 마라\\n이리저리 살았을 거란\\n착각도 마라\\n그래 한때 삶에 무게\\n견디지 못해\\n긴긴 세월 방황 속에\\n청춘을 묻었다\\n어허허 어허허\\n속절 없는 세월\\n탓해서 무얼해\\n되돌릴 수 없는 인생인 것을\\n지금부터 뛰어\\n앞만 보고 뛰어\\n내 인생에 태클을 걸지마\\n속절 없는 세월\\n탓해서 무얼해\\n되돌릴 수 없는 인생인 것을\\n지금부터 뛰어\\n앞만 보고뛰어\\n내 인생에 태클을 걸지마\\n내 인생에 태클을 걸지마'},\n",
       " 'plylstSeq': {3: '457536944 515278519',\n",
       "  1593: '460454143',\n",
       "  3201: '403014132 445029956',\n",
       "  3673: '482887327 476517031',\n",
       "  5691: '475427896 478284381'},\n",
       " 'total': {3: '누군가를 다시 만난다면\\n여전히 나는 너를\\n누군가를 다시 사랑하면\\n영원히 나는 너를\\n다시 또 누군가를 그리라면\\n망설임 하나 없이 나는 너를\\n하나 누군가 다시 떠나보내라면\\n두 번 죽어도 너와는\\n못다 한 사랑이라 부르지 마\\n덧없는 미련이라 탓하지 마\\n꺼지지 않는 밤 하늘\\n별빛이 사라질 때까지\\n외로움아 거기 서 있거라\\n보내지 않았으니\\n그리움아 그냥 스쳐 가라\\n시작도 못 했으니\\n바람이 부는 언덕길을 걷는 그녀와\\n그녀의 긴 그림자가\\n다정한 연인처럼 내 마음을\\n지나 날 떠나가고 있지만\\n못다 한 사랑이라 말하지 마\\n덧없는 미련이라 탓하지 마\\n꺼지지 않는 밤 하늘 별빛이\\n사라질 때까지\\n한 번만이라도 듣고 싶어\\n그녀가 부르는 내 이름을\\n한 번 더 바라보고 싶어\\n날 바라보는 그 얼굴\\n바람이 불어오는 언덕길을\\n그녀와 그녀의 긴 그림자 되어\\n단 한 번만 더 걸을 수 있다면\\n죽어도 좋으리 김호중 김호중 김호중 김호중 김호중 김호중 발라드 국내영화 발라드 국내영화 슬픈등',\n",
       "  1593: '어둠에 묻혀 흘러간 그 세월의 눈물은\\n사랑을 잃어 흩어진 옛 추억의 그림자\\n잊을 수 없어 미련에 사무치던 슬픔은\\n상처로 아픈 내가슴 깊은 곳의 그리움\\n다시 한번 돌아 오라 눈물 없던 시절 그 노래여\\n찬란한 태양이 빛나는 거리 꽃피는 마음이 열리는 꿈길\\n사랑의 기쁨이 샘솟는 곳에 행복의 날개여 활짝 펴라\\n(처음부터 반복) 박경희 박경희 김기웅 김기웅 전우 전우 성인가요/트로트 성인가요/트로트 저꽃속에 찬란한 빛이',\n",
       "  3201: '옅은 바람 냄새에 \\n두 눈을 감아본다\\n낡은 가슴 여전한 떨림 \\n그대가 그대가 온다\\n어렴풋이 피어오르는\\n그 옛날의 기억이\\n두 눈에 소리 없이 흘러 \\n이 가슴을 울려온다\\n내 맘속에 그대가 분다\\n그 시절 그때처럼 \\n웃으며 나에게 불어와\\n소리 없이 그대가 분다\\n내 가슴 한가운데 \\n보고 싶은 그대가 분다\\n앙상해진 너의 계절에 \\n가슴이 시려 와도\\n돌아보면 어제 같은 날들 \\n그 시절은 영원하다\\n내 맘속에 그대가 분다\\n그 시절 그때처럼 \\n웃으며 나에게 불어와\\n소리 없이 그대가 분다\\n내 가슴 한가운데 \\n보고 싶은 그대가 분다\\n정말 사랑했구나 \\n그댈 매일 돌아보며 사는 나\\n내 맘속에 그대가 분다\\n어디선가 그대가 운다\\n안아주고 싶지만 \\n자꾸만 멀어지잖아\\n온 맘 다해 그댈 부른다\\n이 세상 한가운데 \\n눈물로 그댈 불러본다\\n하루 종일 그대가 분다 엠씨더맥스 (M.C the MAX) 엠씨더맥스 (M.C the MAX) 민연재 민연재 최성일 최성일 발라드 발라드 그대가 분다',\n",
       "  3673: '내가 긴밤을 헤매고 있을때\\n때론 슬픔에 잠겨있을때\\n거친 세상에 지독한 외로움속에\\n혼자라 느껴질때\\n음 한줄기 빛처럼 음 다가온 그대\\n그대가 있어 그대가 있어 숨을 쉰다\\n지치지않는 걸음으로\\n빛이 나는 사람\\n빛이 나는 사람\\n때론 하늘아래 홀로 있는 외로움\\n비춰 주는 사람 바로 그대\\n영원한 사랑으로\\n음 한줄기 빛처럼 음 다가온 그대\\n그대가 있어 그대가 있어 살아간다\\n지치지않는 걸음으로\\n빛이 나는 사람\\n빛이 나는 사람\\n때론 하늘아래 홀로 있는 외로움\\n비춰주는 사람 바로 그대\\n영원한 사랑으로\\n영원한 사랑으로\\n빛이 나는 사람 빛이 나는 사람\\n때론 하늘아래 홀로 있는 외로움\\n비춰주는 사람 바로 그대\\n영원한 사랑으로\\n영원한 사랑으로 김호중 김호중 김호중 김호중 김호중 김호중 발라드 발라드 빛이 나는 사람',\n",
       "  5691: '어떻게 살았냐고 묻지를 마라\\n이리저리 살았을 거란\\n착각도 마라\\n그래 한때 삶에 무게\\n견디지 못해\\n긴긴 세월 방황 속에\\n청춘을 묻었다\\n어허허 어허허\\n속절 없는 세월\\n탓해서 무얼해\\n되돌릴 수 없는 인생인 것을\\n지금부터 뛰어\\n앞만 보고 뛰어\\n내 인생에 태클을 걸지마\\n속절 없는 세월\\n탓해서 무얼해\\n되돌릴 수 없는 인생인 것을\\n지금부터 뛰어\\n앞만 보고뛰어\\n내 인생에 태클을 걸지마\\n내 인생에 태클을 걸지마 김호중 김호중 진성철 진성철 진성 진성 성인가요/트로트 성인가요/트로트 태클을 걸지마'}}"
      ]
     },
     "execution_count": 24,
     "metadata": {},
     "output_type": "execute_result"
    }
   ],
   "source": [
    "filtered_df = df[df['songId'].isin(a)]\n",
    "# filtered_df.to_dict('recodes')\n",
    "filtered_df.to_dict()"
   ]
  },
  {
   "cell_type": "code",
   "execution_count": null,
   "metadata": {},
   "outputs": [],
   "source": []
  }
 ],
 "metadata": {
  "kernelspec": {
   "display_name": "base",
   "language": "python",
   "name": "python3"
  },
  "language_info": {
   "codemirror_mode": {
    "name": "ipython",
    "version": 3
   },
   "file_extension": ".py",
   "mimetype": "text/x-python",
   "name": "python",
   "nbconvert_exporter": "python",
   "pygments_lexer": "ipython3",
   "version": "3.10.9"
  },
  "orig_nbformat": 4
 },
 "nbformat": 4,
 "nbformat_minor": 2
}
