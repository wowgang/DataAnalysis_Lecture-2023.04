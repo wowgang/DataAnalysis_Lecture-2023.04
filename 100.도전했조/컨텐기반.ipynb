{
 "cells": [
  {
   "cell_type": "code",
   "execution_count": 1,
   "metadata": {},
   "outputs": [],
   "source": [
    "import pandas as pd\n",
    "import numpy as np"
   ]
  },
  {
   "cell_type": "code",
   "execution_count": 2,
   "metadata": {},
   "outputs": [
    {
     "data": {
      "text/html": [
       "<div>\n",
       "<style scoped>\n",
       "    .dataframe tbody tr th:only-of-type {\n",
       "        vertical-align: middle;\n",
       "    }\n",
       "\n",
       "    .dataframe tbody tr th {\n",
       "        vertical-align: top;\n",
       "    }\n",
       "\n",
       "    .dataframe thead th {\n",
       "        text-align: right;\n",
       "    }\n",
       "</style>\n",
       "<table border=\"1\" class=\"dataframe\">\n",
       "  <thead>\n",
       "    <tr style=\"text-align: right;\">\n",
       "      <th></th>\n",
       "      <th>songId</th>\n",
       "      <th>title</th>\n",
       "      <th>artist</th>\n",
       "      <th>genre</th>\n",
       "      <th>album</th>\n",
       "      <th>lyricist</th>\n",
       "      <th>composer</th>\n",
       "      <th>date</th>\n",
       "      <th>img</th>\n",
       "      <th>comment</th>\n",
       "      <th>like</th>\n",
       "      <th>lyric</th>\n",
       "      <th>plylstSeq</th>\n",
       "    </tr>\n",
       "  </thead>\n",
       "  <tbody>\n",
       "    <tr>\n",
       "      <th>0</th>\n",
       "      <td>418168</td>\n",
       "      <td>희재</td>\n",
       "      <td>성시경</td>\n",
       "      <td>발라드 국내영화</td>\n",
       "      <td>국화꽃 향기 OST</td>\n",
       "      <td>양재선</td>\n",
       "      <td>MGR</td>\n",
       "      <td>20030201.0</td>\n",
       "      <td>https://cdnimg.melon.co.kr/cm/album/images/000...</td>\n",
       "      <td>332</td>\n",
       "      <td>138267</td>\n",
       "      <td>햇살은 우릴 위해 내리고 \\n바람도 서롤 감싸게 했죠 \\n우리 웃음속에 계절은 오고...</td>\n",
       "      <td>445029956 411111859</td>\n",
       "    </tr>\n",
       "  </tbody>\n",
       "</table>\n",
       "</div>"
      ],
      "text/plain": [
       "   songId title artist     genre       album lyricist composer        date   \n",
       "0  418168    희재    성시경  발라드 국내영화  국화꽃 향기 OST      양재선      MGR  20030201.0  \\\n",
       "\n",
       "                                                 img  comment    like   \n",
       "0  https://cdnimg.melon.co.kr/cm/album/images/000...      332  138267  \\\n",
       "\n",
       "                                               lyric            plylstSeq  \n",
       "0  햇살은 우릴 위해 내리고 \\n바람도 서롤 감싸게 했죠 \\n우리 웃음속에 계절은 오고...  445029956 411111859  "
      ]
     },
     "execution_count": 2,
     "metadata": {},
     "output_type": "execute_result"
    }
   ],
   "source": [
    "df = pd.read_csv('data/melon_song.csv')\n",
    "df.head(1)"
   ]
  },
  {
   "cell_type": "code",
   "execution_count": 3,
   "metadata": {},
   "outputs": [
    {
     "name": "stdout",
     "output_type": "stream",
     "text": [
      "<class 'pandas.core.frame.DataFrame'>\n",
      "RangeIndex: 6247 entries, 0 to 6246\n",
      "Data columns (total 13 columns):\n",
      " #   Column     Non-Null Count  Dtype  \n",
      "---  ------     --------------  -----  \n",
      " 0   songId     6247 non-null   int64  \n",
      " 1   title      6247 non-null   object \n",
      " 2   artist     6247 non-null   object \n",
      " 3   genre      6245 non-null   object \n",
      " 4   album      6247 non-null   object \n",
      " 5   lyricist   5849 non-null   object \n",
      " 6   composer   5845 non-null   object \n",
      " 7   date       6202 non-null   float64\n",
      " 8   img        6247 non-null   object \n",
      " 9   comment    6247 non-null   int64  \n",
      " 10  like       6247 non-null   int64  \n",
      " 11  lyric      6247 non-null   object \n",
      " 12  plylstSeq  6126 non-null   object \n",
      "dtypes: float64(1), int64(3), object(9)\n",
      "memory usage: 634.6+ KB\n"
     ]
    }
   ],
   "source": [
    "df.info()"
   ]
  },
  {
   "cell_type": "code",
   "execution_count": 4,
   "metadata": {},
   "outputs": [],
   "source": [
    "#  1. 컨텐츠기반 추천\n",
    "#    Input(title, artist) : contains 로 찾기 => 결과 songId 한 개만 반환하도록 한다.\n",
    "#    songId로 추천시스템에서 비슷한 노래 5개 찾아서 songId로 반환\n",
    "#    반환된 songId 들의 정보 출력\n",
    "\n",
    "# 가사에서 \\r -> replace하기"
   ]
  },
  {
   "cell_type": "code",
   "execution_count": 4,
   "metadata": {},
   "outputs": [],
   "source": [
    "df.date.fillna(0, inplace=True)\n",
    "df.date = df.date.astype(int).astype(str)\n",
    "df.songId = df.songId.astype(str)\n",
    "df.fillna('', inplace=True)"
   ]
  },
  {
   "cell_type": "code",
   "execution_count": 7,
   "metadata": {},
   "outputs": [],
   "source": [
    "# df[df.title.str.contains('희재') & df.artist.str.contains('성시경')]"
   ]
  },
  {
   "cell_type": "code",
   "execution_count": 8,
   "metadata": {},
   "outputs": [],
   "source": [
    "# title, artist = map(input().split())\n",
    "\n",
    "# df[df.title.str.contains('title') & df.artist.str.contains('artist')]"
   ]
  },
  {
   "cell_type": "code",
   "execution_count": 9,
   "metadata": {},
   "outputs": [],
   "source": [
    "def songid_find(title, artist):\n",
    "    ss = df[df.title.str.contains(title) & df.artist.str.contains(artist)]\n",
    "    return ss.songId"
   ]
  },
  {
   "cell_type": "code",
   "execution_count": 10,
   "metadata": {},
   "outputs": [
    {
     "data": {
      "text/plain": [
       "0     418168\n",
       "55    418200\n",
       "Name: songId, dtype: object"
      ]
     },
     "execution_count": 10,
     "metadata": {},
     "output_type": "execute_result"
    }
   ],
   "source": [
    "songid_find('희재','성시경')"
   ]
  },
  {
   "cell_type": "code",
   "execution_count": 6,
   "metadata": {},
   "outputs": [],
   "source": [
    "# 한글 불용어 처리\n",
    "with open('data/한글불용어.txt') as st:\n",
    "    lines = st.readlines()\n",
    "stop_words = [line.split('\\t')[0] for line in lines]\n",
    "stop_words.extend('은 는 를 도 을 며 의 에 게 니 거 로 요 과 래 랑 파 여 에게'.split())"
   ]
  },
  {
   "cell_type": "code",
   "execution_count": 7,
   "metadata": {},
   "outputs": [],
   "source": [
    "from konlpy.tag import Okt\n",
    "okt = Okt()"
   ]
  },
  {
   "cell_type": "code",
   "execution_count": 12,
   "metadata": {},
   "outputs": [
    {
     "data": {
      "text/plain": [
       "'햇살은 우릴 위해 내리고 \\n바람도 서롤 감싸게 했죠 \\n우리 웃음속에 계절은 오고 \\n또 갔죠 \\n바람에 흔들리는 머릿결 \\n내게 불어오는 그대 향기 \\n예쁜 두눈도 웃음 소리도 \\n모두가 내 것이었죠\\n이런 사랑 이런 행복 쉽다 \\n했었죠 이런 웃음 \\n이런 축복 내게 쉽게 올리 없죠 \\n눈물 조차 울음조차 닦지 \\n못한 나 \\n정말로 울면 내가 그댈 보내 \\n준 것 같아서 \\n그대 떠나가는 그 순간도 \\n나를 걱정했었나요 \\n무엇도 해줄 수 없는 내 맘\\n앞에서 \\n그대 나를 떠나 간다해도 \\n난 그댈 보낸적 없죠 \\n여전히 그댄 나를 살게 하는 \\n이율테니 \\n이런 사랑 이런 행복 쉽다 했었죠 \\n이런 웃음 이런 축복 내게 \\n쉽게 올리 없죠 \\n눈물 조차 울음 조차 닦지 못한 나 \\n정말로 울면 내가 그댈 보내 \\n준 것 같아서 \\n그대 떠나가는 그 순간도 \\n나를 걱정했었나요 \\n무엇도 해줄 수 없는 내 맘앞에서 \\n그대 나를 떠나 간다해도 난 \\n그댈 보낸적 없죠 \\n기다림으로 다시 시작일테니 \\n얼마나 사랑했는지 얼마나 \\n또 울었는지 \\n그대여 한순간 조차 잊지 말아요 \\n거기 떠나간 그곳에서 날\\n기억하며 기다려요\\n하루씩 그대에게 다가가는 \\n나 일테니'"
      ]
     },
     "execution_count": 12,
     "metadata": {},
     "output_type": "execute_result"
    }
   ],
   "source": [
    "df.lyric[0]"
   ]
  },
  {
   "cell_type": "code",
   "execution_count": 8,
   "metadata": {},
   "outputs": [],
   "source": [
    "lyrics = []\n",
    "for lyric in df.lyric:\n",
    "    lyric = lyric.replace('\\n', ' ')\n",
    "    morphs = okt.morphs(lyric, stem=True)\n",
    "    tmp = [word for word in morphs if word not in stop_words]\n",
    "    lyrics.append(' '.join(tmp))\n",
    "df['morphs'] = lyrics"
   ]
  },
  {
   "cell_type": "code",
   "execution_count": 9,
   "metadata": {},
   "outputs": [
    {
     "data": {
      "text/plain": [
       "'햇살 우릴 위해 내리다 바람 서 롤 감싸다 하다 우리 웃음 속 계절 오다 또 가다 바람 흔들리다 머릿결 내다 불어오다 그대 향기 예쁘다 눈 웃음 소리 모두 가 내 이다 이렇다 사랑 이렇다 행복 쉬다 하다 이렇다 웃음 이렇다 축복 내다 쉬다 올리다 없다 눈물 조차 울음 조차 닦다 못 한 나 정말로 울면 내 가 대다 보내다 준 같다 그대 떠나가다 순간 나르다 걱정 하다 무엇 해주다 없다 내 맘 앞 에서 그대 나르다 떠나다 간다 하다 난 대다 보내다 적 없다 여전하다 대다 나르다 살 하다 이율 테 이렇다 사랑 이렇다 행복 쉬다 하다 이렇다 웃음 이렇다 축복 내다 쉬다 올리다 없다 눈물 조차 울음 조차 닦다 못 한 나 정말로 울면 내 가 대다 보내다 준 같다 그대 떠나가다 순간 나르다 걱정 하다 무엇 해주다 없다 내 맘앞 에서 그대 나르다 떠나다 간다 하다 난 대다 보내다 적 없다 기다림 으로 다시 시 작 일 테 얼마나 사랑 하다 얼마나 또 울다 그대 한순간 조차 잊다 말다 거기 떠나가다 곳 에서 날 기억 하다 기다리다 하루 씩 그대 다가가다 나 이다햇살은 우릴 위해 내리고 \\n바람도 서롤 감싸게 했죠 \\n우리 웃음속에 계절은 오고 \\n또 갔죠 \\n바람에 흔들리는 머릿결 \\n내게 불어오는 그대 향기 \\n예쁜 두눈도 웃음 소리도 \\n모두가 내 것이었죠\\n이런 사랑 이런 행복 쉽다 \\n했었죠 이런 웃음 \\n이런 축복 내게 쉽게 올리 없죠 \\n눈물 조차 울음조차 닦지 \\n못한 나 \\n정말로 울면 내가 그댈 보내 \\n준 것 같아서 \\n그대 떠나가는 그 순간도 \\n나를 걱정했었나요 \\n무엇도 해줄 수 없는 내 맘\\n앞에서 \\n그대 나를 떠나 간다해도 \\n난 그댈 보낸적 없죠 \\n여전히 그댄 나를 살게 하는 \\n이율테니 \\n이런 사랑 이런 행복 쉽다 했었죠 \\n이런 웃음 이런 축복 내게 \\n쉽게 올리 없죠 \\n눈물 조차 울음 조차 닦지 못한 나 \\n정말로 울면 내가 그댈 보내 \\n준 것 같아서 \\n그대 떠나가는 그 순간도 \\n나를 걱정했었나요 \\n무엇도 해줄 수 없는 내 맘앞에서 \\n그대 나를 떠나 간다해도 난 \\n그댈 보낸적 없죠 \\n기다림으로 다시 시작일테니 \\n얼마나 사랑했는지 얼마나 \\n또 울었는지 \\n그대여 한순간 조차 잊지 말아요 \\n거기 떠나간 그곳에서 날\\n기억하며 기다려요\\n하루씩 그대에게 다가가는 \\n나 일테니 성시경 성시경 MGR MGR 양재선 양재선 발라드 국내영화 발라드 국내영화 희재'"
      ]
     },
     "execution_count": 9,
     "metadata": {},
     "output_type": "execute_result"
    }
   ],
   "source": [
    "df['total'] = df.morphs + df.lyric + (' ' + df.artist) * 2 + (' ' + df.composer) * 2 + (' ' + df.lyricist) * 2 + (' ' + df.genre) * 2 + (' ' + df.title)\n",
    "df.total[0]"
   ]
  },
  {
   "cell_type": "code",
   "execution_count": 10,
   "metadata": {},
   "outputs": [
    {
     "data": {
      "text/plain": [
       "'햇살 우릴 위해 내리다 바람 서 롤 감싸다 하다 우리 웃음 속 계절 오다 또 가다 바람 흔들리다 머릿결 내다 불어오다 그대 향기 예쁘다 눈 웃음 소리 모두 가 내 이다 이렇다 사랑 이렇다 행복 쉬다 하다 이렇다 웃음 이렇다 축복 내다 쉬다 올리다 없다 눈물 조차 울음 조차 닦다 못 한 나 정말로 울면 내 가 대다 보내다 준 같다 그대 떠나가다 순간 나르다 걱정 하다 무엇 해주다 없다 내 맘 앞 에서 그대 나르다 떠나다 간다 하다 난 대다 보내다 적 없다 여전하다 대다 나르다 살 하다 이율 테 이렇다 사랑 이렇다 행복 쉬다 하다 이렇다 웃음 이렇다 축복 내다 쉬다 올리다 없다 눈물 조차 울음 조차 닦다 못 한 나 정말로 울면 내 가 대다 보내다 준 같다 그대 떠나가다 순간 나르다 걱정 하다 무엇 해주다 없다 내 맘앞 에서 그대 나르다 떠나다 간다 하다 난 대다 보내다 적 없다 기다림 으로 다시 시 작 일 테 얼마나 사랑 하다 얼마나 또 울다 그대 한순간 조차 잊다 말다 거기 떠나가다 곳 에서 날 기억 하다 기다리다 하루 씩 그대 다가가다 나 이다햇살은 우릴 위해 내리고 \\n바람도 서롤 감싸게 했죠 \\n우리 웃음속에 계절은 오고 \\n또 갔죠 \\n바람에 흔들리는 머릿결 \\n내게 불어오는 그대 향기 \\n예쁜 두눈도 웃음 소리도 \\n모두가 내 것이었죠\\n이런 사랑 이런 행복 쉽다 \\n했었죠 이런 웃음 \\n이런 축복 내게 쉽게 올리 없죠 \\n눈물 조차 울음조차 닦지 \\n못한 나 \\n정말로 울면 내가 그댈 보내 \\n준 것 같아서 \\n그대 떠나가는 그 순간도 \\n나를 걱정했었나요 \\n무엇도 해줄 수 없는 내 맘\\n앞에서 \\n그대 나를 떠나 간다해도 \\n난 그댈 보낸적 없죠 \\n여전히 그댄 나를 살게 하는 \\n이율테니 \\n이런 사랑 이런 행복 쉽다 했었죠 \\n이런 웃음 이런 축복 내게 \\n쉽게 올리 없죠 \\n눈물 조차 울음 조차 닦지 못한 나 \\n정말로 울면 내가 그댈 보내 \\n준 것 같아서 \\n그대 떠나가는 그 순간도 \\n나를 걱정했었나요 \\n무엇도 해줄 수 없는 내 맘앞에서 \\n그대 나를 떠나 간다해도 난 \\n그댈 보낸적 없죠 \\n기다림으로 다시 시작일테니 \\n얼마나 사랑했는지 얼마나 \\n또 울었는지 \\n그대여 한순간 조차 잊지 말아요 \\n거기 떠나간 그곳에서 날\\n기억하며 기다려요\\n하루씩 그대에게 다가가는 \\n나 일테니 성시경 성시경 MGR MGR 양재선 양재선 발라드 국내영화 발라드 국내영화 희재'"
      ]
     },
     "execution_count": 10,
     "metadata": {},
     "output_type": "execute_result"
    }
   ],
   "source": [
    "df.set_index('songId', inplace=True)\n",
    "df.reset_index(inplace=True)\n",
    "df.total[0]"
   ]
  },
  {
   "cell_type": "code",
   "execution_count": 11,
   "metadata": {},
   "outputs": [
    {
     "data": {
      "text/plain": [
       "(6247, 106774)"
      ]
     },
     "execution_count": 11,
     "metadata": {},
     "output_type": "execute_result"
    }
   ],
   "source": [
    "from sklearn.feature_extraction.text import TfidfVectorizer\n",
    "tvect = TfidfVectorizer(stop_words='english')\n",
    "total_tv = tvect.fit_transform(df.total)\n",
    "total_tv.shape"
   ]
  },
  {
   "cell_type": "code",
   "execution_count": 12,
   "metadata": {},
   "outputs": [
    {
     "data": {
      "text/plain": [
       "songId\n",
       "418168         0\n",
       "35609035       1\n",
       "1046278        2\n",
       "35609034       3\n",
       "35728845       4\n",
       "            ... \n",
       "33013736    6242\n",
       "3080890     6243\n",
       "2981597     6244\n",
       "34183979    6245\n",
       "31191637    6246\n",
       "Length: 6247, dtype: int64"
      ]
     },
     "execution_count": 12,
     "metadata": {},
     "output_type": "execute_result"
    }
   ],
   "source": [
    "indices = pd.Series(df.index, index=df.songId)\n",
    "indices"
   ]
  },
  {
   "cell_type": "code",
   "execution_count": 13,
   "metadata": {},
   "outputs": [],
   "source": [
    "from sklearn.metrics.pairwise import cosine_similarity\n",
    "cosine_sim = cosine_similarity(total_tv)"
   ]
  },
  {
   "cell_type": "code",
   "execution_count": 22,
   "metadata": {},
   "outputs": [
    {
     "data": {
      "text/plain": [
       "array([[1.        , 0.01866516, 0.05685873, ..., 0.0812984 , 0.02361475,\n",
       "        0.00949515],\n",
       "       [0.01866516, 1.        , 0.03522961, ..., 0.01664912, 0.0074854 ,\n",
       "        0.00290335],\n",
       "       [0.05685873, 0.03522961, 1.        , ..., 0.02145126, 0.00939362,\n",
       "        0.01317641],\n",
       "       ...,\n",
       "       [0.0812984 , 0.01664912, 0.02145126, ..., 1.        , 0.01884183,\n",
       "        0.033759  ],\n",
       "       [0.02361475, 0.0074854 , 0.00939362, ..., 0.01884183, 1.        ,\n",
       "        0.01260118],\n",
       "       [0.00949515, 0.00290335, 0.01317641, ..., 0.033759  , 0.01260118,\n",
       "        1.        ]])"
      ]
     },
     "execution_count": 22,
     "metadata": {},
     "output_type": "execute_result"
    }
   ],
   "source": [
    "cosine_sim"
   ]
  },
  {
   "cell_type": "code",
   "execution_count": 14,
   "metadata": {},
   "outputs": [],
   "source": [
    "def get_recommendation(songId, cos_sim):\n",
    "    index = indices[songId]\n",
    "    sim_scores = pd.Series(cos_sim[index])\n",
    "    song_indices = sim_scores.sort_values(ascending=False).head(6).tail(5).index\n",
    "    return df.songId.iloc[song_indices]"
   ]
  },
  {
   "cell_type": "code",
   "execution_count": 15,
   "metadata": {},
   "outputs": [
    {
     "data": {
      "text/plain": [
       "array(['35609034', '4381724', '35307770', '1053842', '1925230'],\n",
       "      dtype=object)"
      ]
     },
     "execution_count": 15,
     "metadata": {},
     "output_type": "execute_result"
    }
   ],
   "source": [
    "a = get_recommendation('35609035', cosine_sim)\n",
    "a.values"
   ]
  },
  {
   "cell_type": "code",
   "execution_count": 16,
   "metadata": {},
   "outputs": [
    {
     "data": {
      "text/plain": [
       "'35609034'"
      ]
     },
     "execution_count": 16,
     "metadata": {},
     "output_type": "execute_result"
    }
   ],
   "source": [
    "a.values[0]"
   ]
  },
  {
   "cell_type": "code",
   "execution_count": 17,
   "metadata": {},
   "outputs": [
    {
     "data": {
      "text/plain": [
       "4144    0.607869\n",
       "3822    0.470227\n",
       "6100    0.342800\n",
       "3511    0.323353\n",
       "3118    0.320993\n",
       "4414    0.294566\n",
       "4040    0.293420\n",
       "6047    0.289387\n",
       "3816    0.286265\n",
       "4773    0.286147\n",
       "dtype: float64"
      ]
     },
     "execution_count": 17,
     "metadata": {},
     "output_type": "execute_result"
    }
   ],
   "source": [
    "# 유사도 1에 가까울수록 유사함\n",
    "from sklearn.metrics.pairwise import linear_kernel\n",
    "cosine_sim_total = linear_kernel(total_tv, total_tv)\n",
    "sim_scores = pd.Series(cosine_sim_total[indices['32720013']])\n",
    "sim_scores.sort_values(ascending=False).head(11).tail(10)"
   ]
  },
  {
   "cell_type": "code",
   "execution_count": 19,
   "metadata": {},
   "outputs": [
    {
     "data": {
      "text/plain": [
       "[{'songId': '35609034',\n",
       "  'title': '슬픈등',\n",
       "  'artist': '김호중',\n",
       "  'genre': '발라드 국내영화',\n",
       "  'album': '인생은 뷰티풀: 비타돌체',\n",
       "  'lyricist': '김호중',\n",
       "  'composer': '김호중',\n",
       "  'date': '20220907',\n",
       "  'img': 'https://cdnimg.melon.co.kr/cm2/album/images/110/48/906/11048906_20220906180454_500.jpg?d530d42b8ca05e5fe8c89007570a3d26/melon/resize/282/quality/80/optimize',\n",
       "  'comment': 145,\n",
       "  'like': 15389,\n",
       "  'lyric': '누군가를 다시 만난다면\\n여전히 나는 너를\\n누군가를 다시 사랑하면\\n영원히 나는 너를\\n다시 또 누군가를 그리라면\\n망설임 하나 없이 나는 너를\\n하나 누군가 다시 떠나보내라면\\n두 번 죽어도 너와는\\n못다 한 사랑이라 부르지 마\\n덧없는 미련이라 탓하지 마\\n꺼지지 않는 밤 하늘\\n별빛이 사라질 때까지\\n외로움아 거기 서 있거라\\n보내지 않았으니\\n그리움아 그냥 스쳐 가라\\n시작도 못 했으니\\n바람이 부는 언덕길을 걷는 그녀와\\n그녀의 긴 그림자가\\n다정한 연인처럼 내 마음을\\n지나 날 떠나가고 있지만\\n못다 한 사랑이라 말하지 마\\n덧없는 미련이라 탓하지 마\\n꺼지지 않는 밤 하늘 별빛이\\n사라질 때까지\\n한 번만이라도 듣고 싶어\\n그녀가 부르는 내 이름을\\n한 번 더 바라보고 싶어\\n날 바라보는 그 얼굴\\n바람이 불어오는 언덕길을\\n그녀와 그녀의 긴 그림자 되어\\n단 한 번만 더 걸을 수 있다면\\n죽어도 좋으리',\n",
       "  'plylstSeq': '457536944 515278519',\n",
       "  'total': '누군가 다시 만나다 여전하다 나 너 누군가 다시 사랑 하다 영원하다 나 너 다시 또 누군가 그리다 망설이다 하나 없이 나 너 하나 누군가 다시 떠나다 보내다 죽다 너 와는 못 다 하다 사랑 이라 부르다 마 덧 없다 미련 이라 탓 하다 마 꺼지다 않다 밤 하늘 별빛 사라지다 때 까지 외로움 아 거기 서다 있다 보내다 않다 그리움 아 그냥 스치다 가라 시작 못 하다 바람 불다 언덕길 걷다 그녀 와 그녀 기다 그림자 가 다정하다 연인 처럼 내 마음 지나 날 떠나가다 있다 못 다 하다 사랑 이라 말 하다 마 덧 없다 미련 이라 탓 하다 마 꺼지다 않다 밤 하늘 별빛 사라지다 때 까지 하다 번만 이라도 듣다 싶다 그녀 가 부르다 내 이름 하다 더 바라보다 싶다 날 바라보다 얼굴 바람 불어오다 언덕길 그녀 와 그녀 기다 그림자 되어다 단 하다 번만 더 걸 있다 죽다 좋다누군가를 다시 만난다면\\n여전히 나는 너를\\n누군가를 다시 사랑하면\\n영원히 나는 너를\\n다시 또 누군가를 그리라면\\n망설임 하나 없이 나는 너를\\n하나 누군가 다시 떠나보내라면\\n두 번 죽어도 너와는\\n못다 한 사랑이라 부르지 마\\n덧없는 미련이라 탓하지 마\\n꺼지지 않는 밤 하늘\\n별빛이 사라질 때까지\\n외로움아 거기 서 있거라\\n보내지 않았으니\\n그리움아 그냥 스쳐 가라\\n시작도 못 했으니\\n바람이 부는 언덕길을 걷는 그녀와\\n그녀의 긴 그림자가\\n다정한 연인처럼 내 마음을\\n지나 날 떠나가고 있지만\\n못다 한 사랑이라 말하지 마\\n덧없는 미련이라 탓하지 마\\n꺼지지 않는 밤 하늘 별빛이\\n사라질 때까지\\n한 번만이라도 듣고 싶어\\n그녀가 부르는 내 이름을\\n한 번 더 바라보고 싶어\\n날 바라보는 그 얼굴\\n바람이 불어오는 언덕길을\\n그녀와 그녀의 긴 그림자 되어\\n단 한 번만 더 걸을 수 있다면\\n죽어도 좋으리 김호중 김호중 김호중 김호중 김호중 김호중 발라드 국내영화 발라드 국내영화 슬픈등',\n",
       "  'morphs': '누군가 다시 만나다 여전하다 나 너 누군가 다시 사랑 하다 영원하다 나 너 다시 또 누군가 그리다 망설이다 하나 없이 나 너 하나 누군가 다시 떠나다 보내다 죽다 너 와는 못 다 하다 사랑 이라 부르다 마 덧 없다 미련 이라 탓 하다 마 꺼지다 않다 밤 하늘 별빛 사라지다 때 까지 외로움 아 거기 서다 있다 보내다 않다 그리움 아 그냥 스치다 가라 시작 못 하다 바람 불다 언덕길 걷다 그녀 와 그녀 기다 그림자 가 다정하다 연인 처럼 내 마음 지나 날 떠나가다 있다 못 다 하다 사랑 이라 말 하다 마 덧 없다 미련 이라 탓 하다 마 꺼지다 않다 밤 하늘 별빛 사라지다 때 까지 하다 번만 이라도 듣다 싶다 그녀 가 부르다 내 이름 하다 더 바라보다 싶다 날 바라보다 얼굴 바람 불어오다 언덕길 그녀 와 그녀 기다 그림자 되어다 단 하다 번만 더 걸 있다 죽다 좋다'},\n",
       " {'songId': '1925230',\n",
       "  'title': '저꽃속에 찬란한 빛이',\n",
       "  'artist': '박경희',\n",
       "  'genre': '성인가요/트로트',\n",
       "  'album': '김기웅 걸작선',\n",
       "  'lyricist': '전우',\n",
       "  'composer': '김기웅',\n",
       "  'date': '19920701',\n",
       "  'img': 'https://cdnimg.melon.co.kr/cm/album/images/003/97/295/397295_500.jpg/melon/resize/282/quality/80/optimize',\n",
       "  'comment': 1,\n",
       "  'like': 25,\n",
       "  'lyric': '어둠에 묻혀 흘러간 그 세월의 눈물은\\n사랑을 잃어 흩어진 옛 추억의 그림자\\n잊을 수 없어 미련에 사무치던 슬픔은\\n상처로 아픈 내가슴 깊은 곳의 그리움\\n다시 한번 돌아 오라 눈물 없던 시절 그 노래여\\n찬란한 태양이 빛나는 거리 꽃피는 마음이 열리는 꿈길\\n사랑의 기쁨이 샘솟는 곳에 행복의 날개여 활짝 펴라\\n(처음부터 반복)',\n",
       "  'plylstSeq': '460454143',\n",
       "  'total': '어둠 묻히다 흘러가다 세월 눈물 사랑 잃다 흩어지다 옛 추억 그림자 잊다 없다 미련 사무치다 슬픔 상처 아프다 내 가슴 깊다 곳 그리움 다시 한번 돌다 오라 눈물 없다 시절 노래 찬란하다 태양 빛나다 거리 꽃 피다 마음 열리다 꾸다 사랑 기쁨 샘솟다 곳 행복 날개 활짝 펴다 ( 처음 부터 반복 )어둠에 묻혀 흘러간 그 세월의 눈물은\\n사랑을 잃어 흩어진 옛 추억의 그림자\\n잊을 수 없어 미련에 사무치던 슬픔은\\n상처로 아픈 내가슴 깊은 곳의 그리움\\n다시 한번 돌아 오라 눈물 없던 시절 그 노래여\\n찬란한 태양이 빛나는 거리 꽃피는 마음이 열리는 꿈길\\n사랑의 기쁨이 샘솟는 곳에 행복의 날개여 활짝 펴라\\n(처음부터 반복) 박경희 박경희 김기웅 김기웅 전우 전우 성인가요/트로트 성인가요/트로트 저꽃속에 찬란한 빛이',\n",
       "  'morphs': '어둠 묻히다 흘러가다 세월 눈물 사랑 잃다 흩어지다 옛 추억 그림자 잊다 없다 미련 사무치다 슬픔 상처 아프다 내 가슴 깊다 곳 그리움 다시 한번 돌다 오라 눈물 없다 시절 노래 찬란하다 태양 빛나다 거리 꽃 피다 마음 열리다 꾸다 사랑 기쁨 샘솟다 곳 행복 날개 활짝 펴다 ( 처음 부터 반복 )'},\n",
       " {'songId': '1053842',\n",
       "  'title': '기분 좋은 날',\n",
       "  'artist': '김완선',\n",
       "  'genre': '댄스',\n",
       "  'album': 'Kim Wan Sun Vol 4',\n",
       "  'lyricist': '이남우',\n",
       "  'composer': '박청귀',\n",
       "  'date': '19890610',\n",
       "  'img': 'https://cdnimg.melon.co.kr/cm/album/images/000/78/043/78043_500.jpg/melon/resize/282/quality/80/optimize',\n",
       "  'comment': 15,\n",
       "  'like': 3254,\n",
       "  'lyric': '토요일 오후\\n그렇게 망설이지 말고\\n춤을 춰봐요 나와 함께\\n오늘 하루는\\n피곤한 얘기하긴 싫어\\n춤을 춰봐요 아우 하호\\n왠지 바쁜 월요일\\n정신없던 화요일\\n지루했던 수요일은 가고\\n황금같은 토요일이\\n바로 오늘이잖아요\\n나와 함께 춤을 춰봐요\\n토요일 오후\\n모두가 기다리던 시간\\n그냥 보낼 수 없잖아요\\n오늘 하루는\\n하던 일 잠시라도 잊고\\n춤을 춰봐요 아우 하호\\n왠지 바쁜 월요일\\n정신없던 화요일\\n지루했던 수요일은 가고\\n황금같은 토요일이\\n바로 오늘이잖아요\\n나와 함께 춤을 춰봐요\\n여러분 나를 봐요\\n그리고 일어나서 춤을 춰요\\n나와 함께 춤추고 싶은 사람\\n모두 나와 하던 일 잠시 잊고\\n춤을 춰요 내 모습이\\n부럽지 않나요\\n언제라도 가슴이 답답할땐\\n춤을 춰요\\n기분이 정말로 상쾌해요',\n",
       "  'plylstSeq': '413491319 416506592',\n",
       "  'total': '토요일 오후 그렇게 망설이다 말고 춤 추다 보다 나오다 함께 오늘 하루 피곤하다 얘기 하다 싫다 춤 추다 보다 아우 하호 왠지 바쁘다 월요일 정신 없다 화요일 지루하다 수요일 가다 황금 같다 토요일 바로 오늘이 잖다 나오다 함께 춤 추다 보다 토요일 오후 모두 가 기다리다 시간 그냥 보내다 없다 오늘 하루 하다 일 잠시 라도 잊다 춤 추다 보다 아우 하호 왠지 바쁘다 월요일 정신 없다 화요일 지루하다 수요일 가다 황금 같다 토요일 바로 오늘이 잖다 나오다 함께 춤 추다 보다 여러분 나르다 보다 그리고 일어나서 춤 추다 나오다 함께 춤추다 싶다 사람 모두 나오다 하다 일 잠시 잊다 춤 추다 내 모습 부럽다 않다 언제 라도 가슴 답답하다 땐 춤 추다 기분 정말로 상쾌하다토요일 오후\\n그렇게 망설이지 말고\\n춤을 춰봐요 나와 함께\\n오늘 하루는\\n피곤한 얘기하긴 싫어\\n춤을 춰봐요 아우 하호\\n왠지 바쁜 월요일\\n정신없던 화요일\\n지루했던 수요일은 가고\\n황금같은 토요일이\\n바로 오늘이잖아요\\n나와 함께 춤을 춰봐요\\n토요일 오후\\n모두가 기다리던 시간\\n그냥 보낼 수 없잖아요\\n오늘 하루는\\n하던 일 잠시라도 잊고\\n춤을 춰봐요 아우 하호\\n왠지 바쁜 월요일\\n정신없던 화요일\\n지루했던 수요일은 가고\\n황금같은 토요일이\\n바로 오늘이잖아요\\n나와 함께 춤을 춰봐요\\n여러분 나를 봐요\\n그리고 일어나서 춤을 춰요\\n나와 함께 춤추고 싶은 사람\\n모두 나와 하던 일 잠시 잊고\\n춤을 춰요 내 모습이\\n부럽지 않나요\\n언제라도 가슴이 답답할땐\\n춤을 춰요\\n기분이 정말로 상쾌해요 김완선 김완선 박청귀 박청귀 이남우 이남우 댄스 댄스 기분 좋은 날',\n",
       "  'morphs': '토요일 오후 그렇게 망설이다 말고 춤 추다 보다 나오다 함께 오늘 하루 피곤하다 얘기 하다 싫다 춤 추다 보다 아우 하호 왠지 바쁘다 월요일 정신 없다 화요일 지루하다 수요일 가다 황금 같다 토요일 바로 오늘이 잖다 나오다 함께 춤 추다 보다 토요일 오후 모두 가 기다리다 시간 그냥 보내다 없다 오늘 하루 하다 일 잠시 라도 잊다 춤 추다 보다 아우 하호 왠지 바쁘다 월요일 정신 없다 화요일 지루하다 수요일 가다 황금 같다 토요일 바로 오늘이 잖다 나오다 함께 춤 추다 보다 여러분 나르다 보다 그리고 일어나서 춤 추다 나오다 함께 춤추다 싶다 사람 모두 나오다 하다 일 잠시 잊다 춤 추다 내 모습 부럽다 않다 언제 라도 가슴 답답하다 땐 춤 추다 기분 정말로 상쾌하다'},\n",
       " {'songId': '4381724',\n",
       "  'title': '그대가 분다',\n",
       "  'artist': '엠씨더맥스 (M.C the MAX)',\n",
       "  'genre': '발라드',\n",
       "  'album': 'UNVEILING',\n",
       "  'lyricist': '최성일',\n",
       "  'composer': '민연재',\n",
       "  'date': '20140102',\n",
       "  'img': 'https://cdnimg.melon.co.kr/cm/album/images/022/24/057/2224057_500.jpg/melon/resize/282/quality/80/optimize',\n",
       "  'comment': 110,\n",
       "  'like': 107402,\n",
       "  'lyric': '옅은 바람 냄새에 \\n두 눈을 감아본다\\n낡은 가슴 여전한 떨림 \\n그대가 그대가 온다\\n어렴풋이 피어오르는\\n그 옛날의 기억이\\n두 눈에 소리 없이 흘러 \\n이 가슴을 울려온다\\n내 맘속에 그대가 분다\\n그 시절 그때처럼 \\n웃으며 나에게 불어와\\n소리 없이 그대가 분다\\n내 가슴 한가운데 \\n보고 싶은 그대가 분다\\n앙상해진 너의 계절에 \\n가슴이 시려 와도\\n돌아보면 어제 같은 날들 \\n그 시절은 영원하다\\n내 맘속에 그대가 분다\\n그 시절 그때처럼 \\n웃으며 나에게 불어와\\n소리 없이 그대가 분다\\n내 가슴 한가운데 \\n보고 싶은 그대가 분다\\n정말 사랑했구나 \\n그댈 매일 돌아보며 사는 나\\n내 맘속에 그대가 분다\\n어디선가 그대가 운다\\n안아주고 싶지만 \\n자꾸만 멀어지잖아\\n온 맘 다해 그댈 부른다\\n이 세상 한가운데 \\n눈물로 그댈 불러본다\\n하루 종일 그대가 분다',\n",
       "  'plylstSeq': '403014132 445029956',\n",
       "  'total': '옅다 바람 냄새 눈 감다 보다 낡다 가슴 여전하다 떨리다 그대 가 그대 가 오다 어렴풋이 피어 오르다 옛날 기억 눈 소리 없이 흐르다 가슴 울리다 오다 내 맘속 그대 가 분다 시절 그때 처럼 웃다 나 불어오다 소리 없이 그대 가 분다 내 가슴 한가운데 보고 싶다 그대 가 분다 앙상하다 너 계절 가슴 시리다 와도 돌아보다 어제 같다 날 시절 영원하다 내 맘속 그대 가 분다 시절 그때 처럼 웃다 나 불어오다 소리 없이 그대 가 분다 내 가슴 한가운데 보고 싶다 그대 가 분다 정말 사랑 하다 대다 매일 돌아보다 살다 나 내 맘속 그대 가 분다 어디 선 가 그대 가 울다 안다 싶다 자꾸만 멀어지다 온 맘 다해 대다 부르다 세상 한가운데 눈물 대다 불다 보다 하루 종일 그대 가 분다옅은 바람 냄새에 \\n두 눈을 감아본다\\n낡은 가슴 여전한 떨림 \\n그대가 그대가 온다\\n어렴풋이 피어오르는\\n그 옛날의 기억이\\n두 눈에 소리 없이 흘러 \\n이 가슴을 울려온다\\n내 맘속에 그대가 분다\\n그 시절 그때처럼 \\n웃으며 나에게 불어와\\n소리 없이 그대가 분다\\n내 가슴 한가운데 \\n보고 싶은 그대가 분다\\n앙상해진 너의 계절에 \\n가슴이 시려 와도\\n돌아보면 어제 같은 날들 \\n그 시절은 영원하다\\n내 맘속에 그대가 분다\\n그 시절 그때처럼 \\n웃으며 나에게 불어와\\n소리 없이 그대가 분다\\n내 가슴 한가운데 \\n보고 싶은 그대가 분다\\n정말 사랑했구나 \\n그댈 매일 돌아보며 사는 나\\n내 맘속에 그대가 분다\\n어디선가 그대가 운다\\n안아주고 싶지만 \\n자꾸만 멀어지잖아\\n온 맘 다해 그댈 부른다\\n이 세상 한가운데 \\n눈물로 그댈 불러본다\\n하루 종일 그대가 분다 엠씨더맥스 (M.C the MAX) 엠씨더맥스 (M.C the MAX) 민연재 민연재 최성일 최성일 발라드 발라드 그대가 분다',\n",
       "  'morphs': '옅다 바람 냄새 눈 감다 보다 낡다 가슴 여전하다 떨리다 그대 가 그대 가 오다 어렴풋이 피어 오르다 옛날 기억 눈 소리 없이 흐르다 가슴 울리다 오다 내 맘속 그대 가 분다 시절 그때 처럼 웃다 나 불어오다 소리 없이 그대 가 분다 내 가슴 한가운데 보고 싶다 그대 가 분다 앙상하다 너 계절 가슴 시리다 와도 돌아보다 어제 같다 날 시절 영원하다 내 맘속 그대 가 분다 시절 그때 처럼 웃다 나 불어오다 소리 없이 그대 가 분다 내 가슴 한가운데 보고 싶다 그대 가 분다 정말 사랑 하다 대다 매일 돌아보다 살다 나 내 맘속 그대 가 분다 어디 선 가 그대 가 울다 안다 싶다 자꾸만 멀어지다 온 맘 다해 대다 부르다 세상 한가운데 눈물 대다 불다 보다 하루 종일 그대 가 분다'},\n",
       " {'songId': '35307770',\n",
       "  'title': '빛이 나는 사람',\n",
       "  'artist': '김호중',\n",
       "  'genre': '발라드',\n",
       "  'album': '빛이 나는 사람',\n",
       "  'lyricist': '김호중',\n",
       "  'composer': '김호중',\n",
       "  'date': '20220618',\n",
       "  'img': 'https://cdnimg.melon.co.kr/cm2/album/images/109/85/673/10985673_20220617143044_500.jpg?333a4c513134cac79eff0b0172d02615/melon/resize/282/quality/80/optimize',\n",
       "  'comment': 545,\n",
       "  'like': 20680,\n",
       "  'lyric': '내가 긴밤을 헤매고 있을때\\n때론 슬픔에 잠겨있을때\\n거친 세상에 지독한 외로움속에\\n혼자라 느껴질때\\n음 한줄기 빛처럼 음 다가온 그대\\n그대가 있어 그대가 있어 숨을 쉰다\\n지치지않는 걸음으로\\n빛이 나는 사람\\n빛이 나는 사람\\n때론 하늘아래 홀로 있는 외로움\\n비춰 주는 사람 바로 그대\\n영원한 사랑으로\\n음 한줄기 빛처럼 음 다가온 그대\\n그대가 있어 그대가 있어 살아간다\\n지치지않는 걸음으로\\n빛이 나는 사람\\n빛이 나는 사람\\n때론 하늘아래 홀로 있는 외로움\\n비춰주는 사람 바로 그대\\n영원한 사랑으로\\n영원한 사랑으로\\n빛이 나는 사람 빛이 나는 사람\\n때론 하늘아래 홀로 있는 외로움\\n비춰주는 사람 바로 그대\\n영원한 사랑으로\\n영원한 사랑으로',\n",
       "  'plylstSeq': '482887327 476517031',\n",
       "  'total': '내 가 기다 밤 헤매다 있다 때 때론 슬픔 잠기다 때 거치다 세상 지독하다 외로움 속 혼자 라 느껴지다 때 음 한 줄기 빛 처럼 음 다가오다 그대 그대 가 있다 그대 가 있다 숨 쉬다 지치다 않다 걸음 으로 빛 나 사람 빛 나 사람 때론 하늘아래 홀로 있다 외로움 비추다 주다 사람 바로 그대 영원하다 사랑 으로 음 한 줄기 빛 처럼 음 다가오다 그대 그대 가 있다 그대 가 있다 살아가다 지치다 않다 걸음 으로 빛 나 사람 빛 나 사람 때론 하늘아래 홀로 있다 외로움 비추다 사람 바로 그대 영원하다 사랑 으로 영원하다 사랑 으로 빛 나 사람 빛 나 사람 때론 하늘아래 홀로 있다 외로움 비추다 사람 바로 그대 영원하다 사랑 으로 영원하다 사랑 으로내가 긴밤을 헤매고 있을때\\n때론 슬픔에 잠겨있을때\\n거친 세상에 지독한 외로움속에\\n혼자라 느껴질때\\n음 한줄기 빛처럼 음 다가온 그대\\n그대가 있어 그대가 있어 숨을 쉰다\\n지치지않는 걸음으로\\n빛이 나는 사람\\n빛이 나는 사람\\n때론 하늘아래 홀로 있는 외로움\\n비춰 주는 사람 바로 그대\\n영원한 사랑으로\\n음 한줄기 빛처럼 음 다가온 그대\\n그대가 있어 그대가 있어 살아간다\\n지치지않는 걸음으로\\n빛이 나는 사람\\n빛이 나는 사람\\n때론 하늘아래 홀로 있는 외로움\\n비춰주는 사람 바로 그대\\n영원한 사랑으로\\n영원한 사랑으로\\n빛이 나는 사람 빛이 나는 사람\\n때론 하늘아래 홀로 있는 외로움\\n비춰주는 사람 바로 그대\\n영원한 사랑으로\\n영원한 사랑으로 김호중 김호중 김호중 김호중 김호중 김호중 발라드 발라드 빛이 나는 사람',\n",
       "  'morphs': '내 가 기다 밤 헤매다 있다 때 때론 슬픔 잠기다 때 거치다 세상 지독하다 외로움 속 혼자 라 느껴지다 때 음 한 줄기 빛 처럼 음 다가오다 그대 그대 가 있다 그대 가 있다 숨 쉬다 지치다 않다 걸음 으로 빛 나 사람 빛 나 사람 때론 하늘아래 홀로 있다 외로움 비추다 주다 사람 바로 그대 영원하다 사랑 으로 음 한 줄기 빛 처럼 음 다가오다 그대 그대 가 있다 그대 가 있다 살아가다 지치다 않다 걸음 으로 빛 나 사람 빛 나 사람 때론 하늘아래 홀로 있다 외로움 비추다 사람 바로 그대 영원하다 사랑 으로 영원하다 사랑 으로 빛 나 사람 빛 나 사람 때론 하늘아래 홀로 있다 외로움 비추다 사람 바로 그대 영원하다 사랑 으로 영원하다 사랑 으로'}]"
      ]
     },
     "execution_count": 19,
     "metadata": {},
     "output_type": "execute_result"
    }
   ],
   "source": [
    "filtered_df = df[df['songId'].isin(a)].to_dict('records')\n",
    "# filtered_df.to_dict('recodes')\n",
    "filtered_df"
   ]
  },
  {
   "cell_type": "code",
   "execution_count": null,
   "metadata": {},
   "outputs": [],
   "source": []
  }
 ],
 "metadata": {
  "kernelspec": {
   "display_name": "base",
   "language": "python",
   "name": "python3"
  },
  "language_info": {
   "codemirror_mode": {
    "name": "ipython",
    "version": 3
   },
   "file_extension": ".py",
   "mimetype": "text/x-python",
   "name": "python",
   "nbconvert_exporter": "python",
   "pygments_lexer": "ipython3",
   "version": "3.10.9"
  },
  "orig_nbformat": 4
 },
 "nbformat": 4,
 "nbformat_minor": 2
}
