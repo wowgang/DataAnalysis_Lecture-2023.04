{
 "cells": [
  {
   "cell_type": "code",
   "execution_count": null,
   "metadata": {},
   "outputs": [],
   "source": [
    "import pandas as pd\n",
    "from glob import glob\n",
    "\n",
    "file_names = glob(\"data/*.csv\") #폴더 내의 모든 csv파일 목록을 불러온다\n",
    "total = pd.DataFrame() #빈 데이터프레임 하나를 생성한다\n",
    "\n",
    "for file_name in file_names:\n",
    "    temp = pd.read_csv(file_name, sep='구분자', encoding='utf-8') #csv파일을 하나씩 열어 임시 데이터프레임으로 생성한다\n",
    "    total = pd.concat([total, temp]) #전체 데이터프레임에 추가하여 넣는다\n",
    "\n",
    "total.to_csv(\"data/total.csv\")\n",
    "[출처] 같은 폴더 안에 있는 여러개의 csv파일을 하나로 합치는 방법 - 파이썬 이용 또는 배치파일 활용|작성자 코딩하는 약사"
   ]
  },
  {
   "cell_type": "code",
   "execution_count": 5,
   "metadata": {},
   "outputs": [],
   "source": [
    "import os\n",
    "import pandas as pd\n",
    "from glob import glob"
   ]
  },
  {
   "cell_type": "code",
   "execution_count": 9,
   "metadata": {},
   "outputs": [
    {
     "data": {
      "text/plain": [
       "['C:/Users/user/workspace/DataAnalysis_Lecture-2023.04/100.도전했조/concat\\\\melon_year1.csv',\n",
       " 'C:/Users/user/workspace/DataAnalysis_Lecture-2023.04/100.도전했조/concat\\\\melon_year2.csv',\n",
       " 'C:/Users/user/workspace/DataAnalysis_Lecture-2023.04/100.도전했조/concat\\\\melon_year3.csv',\n",
       " 'C:/Users/user/workspace/DataAnalysis_Lecture-2023.04/100.도전했조/concat\\\\melon_year4.csv',\n",
       " 'C:/Users/user/workspace/DataAnalysis_Lecture-2023.04/100.도전했조/concat\\\\melon_year5.csv',\n",
       " 'C:/Users/user/workspace/DataAnalysis_Lecture-2023.04/100.도전했조/concat\\\\melon_year6.csv',\n",
       " 'C:/Users/user/workspace/DataAnalysis_Lecture-2023.04/100.도전했조/concat\\\\melon_year7.csv',\n",
       " 'C:/Users/user/workspace/DataAnalysis_Lecture-2023.04/100.도전했조/concat\\\\melon_year8.csv',\n",
       " 'C:/Users/user/workspace/DataAnalysis_Lecture-2023.04/100.도전했조/concat\\\\melon_year9.csv']"
      ]
     },
     "execution_count": 9,
     "metadata": {},
     "output_type": "execute_result"
    }
   ],
   "source": [
    "glob('C:/Users/user/workspace/DataAnalysis_Lecture-2023.04/100.도전했조/concat/melon_year*.csv')"
   ]
  },
  {
   "cell_type": "code",
   "execution_count": 10,
   "metadata": {},
   "outputs": [
    {
     "data": {
      "text/plain": [
       "(2363, 13)"
      ]
     },
     "execution_count": 10,
     "metadata": {},
     "output_type": "execute_result"
    }
   ],
   "source": [
    "df_list = []\n",
    "for file in glob('C:/Users/user/workspace/DataAnalysis_Lecture-2023.04/100.도전했조/concat/melon_year*.csv'):\n",
    "    df = pd.read_csv(file)\n",
    "    df_list.append(df)\n",
    "df = pd.concat(df_list)\n",
    "df.shape"
   ]
  },
  {
   "cell_type": "code",
   "execution_count": 18,
   "metadata": {},
   "outputs": [],
   "source": []
  },
  {
   "cell_type": "code",
   "execution_count": 20,
   "metadata": {},
   "outputs": [
    {
     "data": {
      "text/html": [
       "<div>\n",
       "<style scoped>\n",
       "    .dataframe tbody tr th:only-of-type {\n",
       "        vertical-align: middle;\n",
       "    }\n",
       "\n",
       "    .dataframe tbody tr th {\n",
       "        vertical-align: top;\n",
       "    }\n",
       "\n",
       "    .dataframe thead th {\n",
       "        text-align: right;\n",
       "    }\n",
       "</style>\n",
       "<table border=\"1\" class=\"dataframe\">\n",
       "  <thead>\n",
       "    <tr style=\"text-align: right;\">\n",
       "      <th></th>\n",
       "      <th>songId</th>\n",
       "      <th>title</th>\n",
       "      <th>artist</th>\n",
       "      <th>genre</th>\n",
       "      <th>album</th>\n",
       "      <th>lyricist</th>\n",
       "      <th>composer</th>\n",
       "      <th>date</th>\n",
       "      <th>img</th>\n",
       "      <th>comment</th>\n",
       "      <th>like</th>\n",
       "      <th>lyric</th>\n",
       "      <th>plylstSeq</th>\n",
       "    </tr>\n",
       "  </thead>\n",
       "  <tbody>\n",
       "    <tr>\n",
       "      <th>2353</th>\n",
       "      <td>30962526</td>\n",
       "      <td>모든 날, 모든 순간 (Every day, Every Moment)</td>\n",
       "      <td>폴킴</td>\n",
       "      <td>발라드 국내드라마</td>\n",
       "      <td>'키스 먼저 할까요?' OST Part.3</td>\n",
       "      <td>어깨깡패</td>\n",
       "      <td>어깨깡패</td>\n",
       "      <td>20180320.0</td>\n",
       "      <td>https://cdnimg.melon.co.kr/cm/album/images/101...</td>\n",
       "      <td>1073</td>\n",
       "      <td>421793</td>\n",
       "      <td>네가 없이 웃을 수 있을까\\n생각만 해도 눈물이나\\n힘든 시간 날 지켜준 사람\\n이...</td>\n",
       "      <td>403014132 411111859</td>\n",
       "    </tr>\n",
       "    <tr>\n",
       "      <th>2354</th>\n",
       "      <td>34360855</td>\n",
       "      <td>눈이 오잖아(Feat.헤이즈)</td>\n",
       "      <td>이무진</td>\n",
       "      <td>발라드</td>\n",
       "      <td>눈이 오잖아(Feat.헤이즈)</td>\n",
       "      <td>이무진</td>\n",
       "      <td>교교 (gyogyo)</td>\n",
       "      <td>20211203.0</td>\n",
       "      <td>https://cdnimg.melon.co.kr/cm2/album/images/10...</td>\n",
       "      <td>569</td>\n",
       "      <td>115565</td>\n",
       "      <td>한 달 좀 덜 된 기억들\\n주머니에 넣은 채\\n걷고 있어 몇 시간을\\n혹시 몰라 네...</td>\n",
       "      <td>411111859 457536543</td>\n",
       "    </tr>\n",
       "    <tr>\n",
       "      <th>2355</th>\n",
       "      <td>32508053</td>\n",
       "      <td>이제 나만 믿어요</td>\n",
       "      <td>임영웅</td>\n",
       "      <td>성인가요/트로트</td>\n",
       "      <td>내일은 미스터트롯 우승자 특전곡</td>\n",
       "      <td>김이나</td>\n",
       "      <td>조영수</td>\n",
       "      <td>20200403.0</td>\n",
       "      <td>https://cdnimg.melon.co.kr/cm2/album/images/10...</td>\n",
       "      <td>6016</td>\n",
       "      <td>167184</td>\n",
       "      <td>무얼 믿은 걸까 부족했던 내게서\\n나조차 못 믿던 내게 여태 머문 사람\\n무얼 봤던...</td>\n",
       "      <td>411111859 474532958</td>\n",
       "    </tr>\n",
       "    <tr>\n",
       "      <th>2356</th>\n",
       "      <td>32698101</td>\n",
       "      <td>OHAYO MY NIGHT</td>\n",
       "      <td>디핵 (D-Hack)</td>\n",
       "      <td>랩/힙합</td>\n",
       "      <td>OHAYO MY NIGHT</td>\n",
       "      <td>디핵 (D-Hack)</td>\n",
       "      <td>PATEKO (파테코)</td>\n",
       "      <td>20200620.0</td>\n",
       "      <td>https://cdnimg.melon.co.kr/cm2/album/images/10...</td>\n",
       "      <td>959</td>\n",
       "      <td>208769</td>\n",
       "      <td>너를 사랑하고 있어\\n너를 사랑하고 있어\\n자기야 날 사랑해주면 안 될까\\n말처럼 ...</td>\n",
       "      <td>466256773 411111859</td>\n",
       "    </tr>\n",
       "    <tr>\n",
       "      <th>2357</th>\n",
       "      <td>3414749</td>\n",
       "      <td>내 손을 잡아</td>\n",
       "      <td>아이유</td>\n",
       "      <td>발라드 국내드라마</td>\n",
       "      <td>최고의 사랑 OST Part.4</td>\n",
       "      <td>아이유</td>\n",
       "      <td>아이유</td>\n",
       "      <td>20110525.0</td>\n",
       "      <td>https://cdnimg.melon.co.kr/cm/album/images/012...</td>\n",
       "      <td>1117</td>\n",
       "      <td>207987</td>\n",
       "      <td>느낌이 오잖아 \\n\\n떨리고 있잖아\\n\\n언제까지 눈치만 볼 거니\\n\\n네 맘을 말...</td>\n",
       "      <td>503547414 411111859</td>\n",
       "    </tr>\n",
       "    <tr>\n",
       "      <th>2358</th>\n",
       "      <td>33666269</td>\n",
       "      <td>Permission to Dance</td>\n",
       "      <td>방탄소년단</td>\n",
       "      <td>댄스</td>\n",
       "      <td>Butter / Permission to Dance</td>\n",
       "      <td>Ed Sheeran</td>\n",
       "      <td>Steve Mac</td>\n",
       "      <td>20210709.0</td>\n",
       "      <td>https://cdnimg.melon.co.kr/cm2/album/images/10...</td>\n",
       "      <td>4367</td>\n",
       "      <td>223266</td>\n",
       "      <td>It’s the thought of being young\\nWhen your hea...</td>\n",
       "      <td>478102836 411111859</td>\n",
       "    </tr>\n",
       "    <tr>\n",
       "      <th>2359</th>\n",
       "      <td>34908740</td>\n",
       "      <td>우리들의 블루스</td>\n",
       "      <td>임영웅</td>\n",
       "      <td>발라드</td>\n",
       "      <td>IM HERO</td>\n",
       "      <td>지훈</td>\n",
       "      <td>이승주</td>\n",
       "      <td>20220502.0</td>\n",
       "      <td>https://cdnimg.melon.co.kr/cm2/album/images/10...</td>\n",
       "      <td>3824</td>\n",
       "      <td>92266</td>\n",
       "      <td>잊지는 말아요 함께 했던 날들\\n눈물이 날 때면\\n그대 뒤를 돌아보면 돼요\\n아프지...</td>\n",
       "      <td>457536543 474532958</td>\n",
       "    </tr>\n",
       "    <tr>\n",
       "      <th>2360</th>\n",
       "      <td>33625988</td>\n",
       "      <td>바라만 본다</td>\n",
       "      <td>MSG워너비(M.O.M)</td>\n",
       "      <td>발라드</td>\n",
       "      <td>MSG워너비 1집</td>\n",
       "      <td>강은경</td>\n",
       "      <td>김도훈 (RBW)</td>\n",
       "      <td>20210626.0</td>\n",
       "      <td>https://cdnimg.melon.co.kr/cm2/album/images/10...</td>\n",
       "      <td>1944</td>\n",
       "      <td>184213</td>\n",
       "      <td>내가 너라면 다 알아볼 텐데\\n널 위할 사람 찾아낼 텐데\\n지난 오랜 시간 너의 그...</td>\n",
       "      <td>411111859 457536543</td>\n",
       "    </tr>\n",
       "    <tr>\n",
       "      <th>2361</th>\n",
       "      <td>34819473</td>\n",
       "      <td>사건의 지평선</td>\n",
       "      <td>윤하 (YOUNHA)</td>\n",
       "      <td>록/메탈</td>\n",
       "      <td>YOUNHA 6th Album Repackage 'END THEORY : Final...</td>\n",
       "      <td>윤하 (YOUNHA)</td>\n",
       "      <td>윤하 (YOUNHA)</td>\n",
       "      <td>20220330.0</td>\n",
       "      <td>https://cdnimg.melon.co.kr/cm2/album/images/10...</td>\n",
       "      <td>3142</td>\n",
       "      <td>302316</td>\n",
       "      <td>생각이 많은 건 말이야\\n당연히 해야 할 일이야\\n나에겐 우리가 지금 1순위야\\n안...</td>\n",
       "      <td>411111859 439284456</td>\n",
       "    </tr>\n",
       "    <tr>\n",
       "      <th>2362</th>\n",
       "      <td>34494149</td>\n",
       "      <td>Step Back</td>\n",
       "      <td>GOT the beat</td>\n",
       "      <td>댄스</td>\n",
       "      <td>Step Back</td>\n",
       "      <td>유영진</td>\n",
       "      <td>유영진</td>\n",
       "      <td>20220103.0</td>\n",
       "      <td>https://cdnimg.melon.co.kr/cm2/album/images/10...</td>\n",
       "      <td>1417</td>\n",
       "      <td>98157</td>\n",
       "      <td>You must step back\\n어델 어델 봐\\n너 감히 누구라고 날 제껴\\n이...</td>\n",
       "      <td>478102836 421731133</td>\n",
       "    </tr>\n",
       "  </tbody>\n",
       "</table>\n",
       "</div>"
      ],
      "text/plain": [
       "        songId                                  title         artist  \\\n",
       "2353  30962526  모든 날, 모든 순간 (Every day, Every Moment)             폴킴   \n",
       "2354  34360855                       눈이 오잖아(Feat.헤이즈)            이무진   \n",
       "2355  32508053                              이제 나만 믿어요            임영웅   \n",
       "2356  32698101                         OHAYO MY NIGHT    디핵 (D-Hack)   \n",
       "2357   3414749                                내 손을 잡아            아이유   \n",
       "2358  33666269                    Permission to Dance          방탄소년단   \n",
       "2359  34908740                               우리들의 블루스            임영웅   \n",
       "2360  33625988                                 바라만 본다  MSG워너비(M.O.M)   \n",
       "2361  34819473                                사건의 지평선    윤하 (YOUNHA)   \n",
       "2362  34494149                              Step Back   GOT the beat   \n",
       "\n",
       "          genre                                              album  \\\n",
       "2353  발라드 국내드라마                            '키스 먼저 할까요?' OST Part.3   \n",
       "2354        발라드                                   눈이 오잖아(Feat.헤이즈)   \n",
       "2355   성인가요/트로트                                  내일은 미스터트롯 우승자 특전곡   \n",
       "2356       랩/힙합                                     OHAYO MY NIGHT   \n",
       "2357  발라드 국내드라마                                  최고의 사랑 OST Part.4   \n",
       "2358         댄스                       Butter / Permission to Dance   \n",
       "2359        발라드                                            IM HERO   \n",
       "2360        발라드                                          MSG워너비 1집   \n",
       "2361       록/메탈  YOUNHA 6th Album Repackage 'END THEORY : Final...   \n",
       "2362         댄스                                          Step Back   \n",
       "\n",
       "         lyricist      composer        date  \\\n",
       "2353         어깨깡패          어깨깡패  20180320.0   \n",
       "2354          이무진   교교 (gyogyo)  20211203.0   \n",
       "2355          김이나           조영수  20200403.0   \n",
       "2356  디핵 (D-Hack)  PATEKO (파테코)  20200620.0   \n",
       "2357          아이유           아이유  20110525.0   \n",
       "2358   Ed Sheeran     Steve Mac  20210709.0   \n",
       "2359           지훈           이승주  20220502.0   \n",
       "2360          강은경     김도훈 (RBW)  20210626.0   \n",
       "2361  윤하 (YOUNHA)   윤하 (YOUNHA)  20220330.0   \n",
       "2362          유영진           유영진  20220103.0   \n",
       "\n",
       "                                                    img comment    like  \\\n",
       "2353  https://cdnimg.melon.co.kr/cm/album/images/101...    1073  421793   \n",
       "2354  https://cdnimg.melon.co.kr/cm2/album/images/10...     569  115565   \n",
       "2355  https://cdnimg.melon.co.kr/cm2/album/images/10...    6016  167184   \n",
       "2356  https://cdnimg.melon.co.kr/cm2/album/images/10...     959  208769   \n",
       "2357  https://cdnimg.melon.co.kr/cm/album/images/012...    1117  207987   \n",
       "2358  https://cdnimg.melon.co.kr/cm2/album/images/10...    4367  223266   \n",
       "2359  https://cdnimg.melon.co.kr/cm2/album/images/10...    3824   92266   \n",
       "2360  https://cdnimg.melon.co.kr/cm2/album/images/10...    1944  184213   \n",
       "2361  https://cdnimg.melon.co.kr/cm2/album/images/10...    3142  302316   \n",
       "2362  https://cdnimg.melon.co.kr/cm2/album/images/10...    1417   98157   \n",
       "\n",
       "                                                  lyric            plylstSeq  \n",
       "2353  네가 없이 웃을 수 있을까\\n생각만 해도 눈물이나\\n힘든 시간 날 지켜준 사람\\n이...  403014132 411111859  \n",
       "2354  한 달 좀 덜 된 기억들\\n주머니에 넣은 채\\n걷고 있어 몇 시간을\\n혹시 몰라 네...  411111859 457536543  \n",
       "2355  무얼 믿은 걸까 부족했던 내게서\\n나조차 못 믿던 내게 여태 머문 사람\\n무얼 봤던...  411111859 474532958  \n",
       "2356  너를 사랑하고 있어\\n너를 사랑하고 있어\\n자기야 날 사랑해주면 안 될까\\n말처럼 ...  466256773 411111859  \n",
       "2357  느낌이 오잖아 \\n\\n떨리고 있잖아\\n\\n언제까지 눈치만 볼 거니\\n\\n네 맘을 말...  503547414 411111859  \n",
       "2358  It’s the thought of being young\\nWhen your hea...  478102836 411111859  \n",
       "2359  잊지는 말아요 함께 했던 날들\\n눈물이 날 때면\\n그대 뒤를 돌아보면 돼요\\n아프지...  457536543 474532958  \n",
       "2360  내가 너라면 다 알아볼 텐데\\n널 위할 사람 찾아낼 텐데\\n지난 오랜 시간 너의 그...  411111859 457536543  \n",
       "2361  생각이 많은 건 말이야\\n당연히 해야 할 일이야\\n나에겐 우리가 지금 1순위야\\n안...  411111859 439284456  \n",
       "2362  You must step back\\n어델 어델 봐\\n너 감히 누구라고 날 제껴\\n이...  478102836 421731133  "
      ]
     },
     "execution_count": 20,
     "metadata": {},
     "output_type": "execute_result"
    }
   ],
   "source": [
    "df.tail(10)"
   ]
  },
  {
   "cell_type": "code",
   "execution_count": 21,
   "metadata": {},
   "outputs": [
    {
     "data": {
      "text/plain": [
       "(2363, 2264)"
      ]
     },
     "execution_count": 21,
     "metadata": {},
     "output_type": "execute_result"
    }
   ],
   "source": [
    "df.shape[0], df.songId.nunique()"
   ]
  },
  {
   "cell_type": "code",
   "execution_count": 22,
   "metadata": {},
   "outputs": [
    {
     "data": {
      "text/plain": [
       "(2264, 13)"
      ]
     },
     "execution_count": 22,
     "metadata": {},
     "output_type": "execute_result"
    }
   ],
   "source": [
    "df.drop_duplicates(subset=['songId'], inplace=True)\n",
    "df.shape"
   ]
  },
  {
   "cell_type": "code",
   "execution_count": 23,
   "metadata": {},
   "outputs": [],
   "source": [
    "df.to_csv('data/melon_year_concat.csv', index=False)\n",
    "df = pd.read_csv('data/melon_year_concat.csv', dtype=str)"
   ]
  },
  {
   "cell_type": "code",
   "execution_count": 24,
   "metadata": {},
   "outputs": [
    {
     "data": {
      "text/plain": [
       "(2264, 2264)"
      ]
     },
     "execution_count": 24,
     "metadata": {},
     "output_type": "execute_result"
    }
   ],
   "source": [
    "df.shape[0], df.songId.nunique()"
   ]
  }
 ],
 "metadata": {
  "kernelspec": {
   "display_name": "base",
   "language": "python",
   "name": "python3"
  },
  "language_info": {
   "codemirror_mode": {
    "name": "ipython",
    "version": 3
   },
   "file_extension": ".py",
   "mimetype": "text/x-python",
   "name": "python",
   "nbconvert_exporter": "python",
   "pygments_lexer": "ipython3",
   "version": "3.10.9"
  },
  "orig_nbformat": 4
 },
 "nbformat": 4,
 "nbformat_minor": 2
}
