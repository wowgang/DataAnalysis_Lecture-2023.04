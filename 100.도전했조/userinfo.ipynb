{
 "cells": [
  {
   "cell_type": "code",
   "execution_count": 3,
   "metadata": {},
   "outputs": [],
   "source": [
    "import sqlite3 as sq"
   ]
  },
  {
   "cell_type": "code",
   "execution_count": 6,
   "metadata": {},
   "outputs": [],
   "source": [
    "# 회원가입\n",
    "def insert_member(params):\n",
    "    conn = sq.connect('../100.도전했조/static/DB/userinfo.db')\n",
    "    cur = conn.cursor()\n",
    "\n",
    "    sql = 'insert into user(uid, uname, pwd, gender, email, birthday) values( ?, ?, ?, ?, ?, ?);'\n",
    "    cur.execute(sql, params)\n",
    "    conn.commit()\n",
    "\n",
    "    cur.close()\n",
    "    conn.close()"
   ]
  },
  {
   "cell_type": "code",
   "execution_count": 7,
   "metadata": {},
   "outputs": [],
   "source": [
    "params = ('na', 'naram', '1234', 2, 'abcda@gmail.com', '19940602')\n",
    "insert_member(params)"
   ]
  },
  {
   "cell_type": "code",
   "execution_count": 27,
   "metadata": {},
   "outputs": [],
   "source": [
    "# 회원정보 조회\n",
    "def get_users():\n",
    "    conn = sq.connect('../100.도전했조/static/DB/userinfo.db')\n",
    "    cur = conn.cursor()\n",
    "\n",
    "    sql = 'select * from user;'\n",
    "    cur.execute(sql)\n",
    "    rows = cur.fetchall()\n",
    "\n",
    "    cur.close()\n",
    "    conn.close()\n",
    "    return rows"
   ]
  },
  {
   "cell_type": "code",
   "execution_count": 24,
   "metadata": {},
   "outputs": [
    {
     "name": "stdout",
     "output_type": "stream",
     "text": [
      "('ga', 'garam', '1234', '19940602', 2, 'abcda@gmail.com', '2023-06-05')\n"
     ]
    }
   ],
   "source": [
    "for row in rows:\n",
    "    print(row)"
   ]
  },
  {
   "cell_type": "code",
   "execution_count": 16,
   "metadata": {},
   "outputs": [],
   "source": [
    "# 정보수정\n",
    "def update_member(params):\n",
    "    conn = sq.connect('../100.도전했조/static/DB/userinfo.db')\n",
    "    cur = conn.cursor()\n",
    "\n",
    "    sql = 'update user set uname=?, pwd=?, gender=?, email=?, birthday=?'\n",
    "    cur.execute(sql, params)\n",
    "    conn.commit()\n",
    "\n",
    "    cur.close()\n",
    "    conn.close()"
   ]
  },
  {
   "cell_type": "code",
   "execution_count": 17,
   "metadata": {},
   "outputs": [],
   "source": [
    "params = ('gaga', '4567', 2, 'abcda@gmail.com', '19940601')\n",
    "update_member(params)"
   ]
  },
  {
   "cell_type": "code",
   "execution_count": 8,
   "metadata": {},
   "outputs": [],
   "source": [
    "# 탈퇴\n",
    "def delete_member(uid):\n",
    "    conn = sq.connect('../100.도전했조/static/DB/userinfo.db')\n",
    "    cur = conn.cursor()\n",
    "\n",
    "    sql = 'delete from user where uid =?;'\n",
    "    cur.execute(sql, (uid,))\n",
    "    conn.commit()\n",
    "\n",
    "    cur.close()\n",
    "    conn.close()"
   ]
  },
  {
   "cell_type": "code",
   "execution_count": 10,
   "metadata": {},
   "outputs": [],
   "source": [
    "delete_member('na')"
   ]
  },
  {
   "cell_type": "code",
   "execution_count": 25,
   "metadata": {},
   "outputs": [],
   "source": [
    "# mid 한건만\n",
    "def get_user_by_uid(uid):\n",
    "    conn = sq.connect('../100.도전했조/static/DB/userinfo.db')\n",
    "    cur = conn.cursor()\n",
    "\n",
    "    sql = 'select count(*) from user where uid=?;'\n",
    "    cur.execsute(sql, (uid,))\n",
    "    row = cur.fetchone()\n",
    "\n",
    "    cur.close()\n",
    "    conn.close()\n",
    "    return row[0]"
   ]
  },
  {
   "cell_type": "code",
   "execution_count": 26,
   "metadata": {},
   "outputs": [
    {
     "data": {
      "text/plain": [
       "1"
      ]
     },
     "execution_count": 26,
     "metadata": {},
     "output_type": "execute_result"
    }
   ],
   "source": [
    "get_user_by_mid('ga')"
   ]
  },
  {
   "cell_type": "code",
   "execution_count": 28,
   "metadata": {},
   "outputs": [
    {
     "data": {
      "text/plain": [
       "[('ga', 'garam', '1234', '19940602', 2, 'abcda@gmail.com', '2023-06-05')]"
      ]
     },
     "execution_count": 28,
     "metadata": {},
     "output_type": "execute_result"
    }
   ],
   "source": [
    "get_users()"
   ]
  },
  {
   "cell_type": "code",
   "execution_count": null,
   "metadata": {},
   "outputs": [],
   "source": [
    "CREATE TABLE \"user\" (\n",
    "\t\"uid\"\tTEXT NOT NULL,\n",
    "\t\"uname\"\tTEXT NOT NULL,\n",
    "\t\"pwd\"\tTEXT,\n",
    "\t\"birthday\"\tTEXT NOT NULL,\n",
    "\t\"gender\"\tINTEGER NOT NULL,\n",
    "\t\"email\"\tTEXT,\n",
    "\t\"regdate\"\tDATE NOT NULL DEFAULT CURRENT_DATE,\n",
    "\tPRIMARY KEY(\"uid\")\n",
    ");"
   ]
  },
  {
   "cell_type": "code",
   "execution_count": null,
   "metadata": {},
   "outputs": [],
   "source": [
    "def create_table():\n",
    "    conn = sq.connect('test22.db')\n",
    "    cur = conn.cursor()\n",
    "\n",
    "    sql = 'CREATE TABLE ttable(\n",
    "    \"uid\"\tTEXT NOT NULL,\n",
    "    \"uname\"\tTEXT NOT NULL,\n",
    "    \"pwd\"\tTEXT,\n",
    "    \"birthday\"\tTEXT NOT NULL,\n",
    "    \"gender\"\tINTEGER NOT NULL,\n",
    "    \"email\"\tTEXT,\n",
    "    \"regdate\"\tDATE NOT NULL DEFAULT CURRENT_DATE,\n",
    "    PRIMARY KEY(\"uid\")\n",
    "    );'"
   ]
  }
 ],
 "metadata": {
  "kernelspec": {
   "display_name": "base",
   "language": "python",
   "name": "python3"
  },
  "language_info": {
   "codemirror_mode": {
    "name": "ipython",
    "version": 3
   },
   "file_extension": ".py",
   "mimetype": "text/x-python",
   "name": "python",
   "nbconvert_exporter": "python",
   "pygments_lexer": "ipython3",
   "version": "3.10.9"
  },
  "orig_nbformat": 4
 },
 "nbformat": 4,
 "nbformat_minor": 2
}
