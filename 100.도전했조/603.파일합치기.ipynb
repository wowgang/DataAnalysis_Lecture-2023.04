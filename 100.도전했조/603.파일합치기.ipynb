{
 "cells": [
  {
   "cell_type": "code",
   "execution_count": null,
   "metadata": {},
   "outputs": [],
   "source": [
    "import pandas as pd\n",
    "from glob import glob\n",
    "\n",
    "file_names = glob(\"data/*.csv\") #폴더 내의 모든 csv파일 목록을 불러온다\n",
    "total = pd.DataFrame() #빈 데이터프레임 하나를 생성한다\n",
    "\n",
    "for file_name in file_names:\n",
    "    temp = pd.read_csv(file_name, sep='구분자', encoding='utf-8') #csv파일을 하나씩 열어 임시 데이터프레임으로 생성한다\n",
    "    total = pd.concat([total, temp]) #전체 데이터프레임에 추가하여 넣는다\n",
    "\n",
    "total.to_csv(\"data/total.csv\")\n",
    "[출처] 같은 폴더 안에 있는 여러개의 csv파일을 하나로 합치는 방법 - 파이썬 이용 또는 배치파일 활용|작성자 코딩하는 약사"
   ]
  },
  {
   "cell_type": "code",
   "execution_count": 1,
   "metadata": {},
   "outputs": [],
   "source": [
    "import os\n",
    "import pandas as pd\n",
    "from glob import glob"
   ]
  },
  {
   "cell_type": "code",
   "execution_count": 5,
   "metadata": {},
   "outputs": [
    {
     "data": {
      "text/plain": [
       "[]"
      ]
     },
     "execution_count": 5,
     "metadata": {},
     "output_type": "execute_result"
    }
   ],
   "source": [
    "# glob('C:/Users/user/workspace/DataAnalysis_Lecture-2023.04/100.도전했조/concat/melon_year*.csv')\n",
    "glob('D:/Workspace/03.DataAnalysis/100.도전했조/concat/melon_year*.csv')"
   ]
  },
  {
   "cell_type": "code",
   "execution_count": 6,
   "metadata": {},
   "outputs": [
    {
     "data": {
      "text/plain": [
       "(427, 13)"
      ]
     },
     "execution_count": 6,
     "metadata": {},
     "output_type": "execute_result"
    }
   ],
   "source": [
    "df_list = []\n",
    "for file in glob('D:/Workspace/03.DataAnalysis/100.도전했조/concat/melon_year*.csv'):\n",
    "    df = pd.read_csv(file)\n",
    "    df_list.append(df)\n",
    "df = pd.concat(df_list)\n",
    "df.shape"
   ]
  },
  {
   "cell_type": "code",
   "execution_count": 7,
   "metadata": {},
   "outputs": [
    {
     "data": {
      "text/html": [
       "<div>\n",
       "<style scoped>\n",
       "    .dataframe tbody tr th:only-of-type {\n",
       "        vertical-align: middle;\n",
       "    }\n",
       "\n",
       "    .dataframe tbody tr th {\n",
       "        vertical-align: top;\n",
       "    }\n",
       "\n",
       "    .dataframe thead th {\n",
       "        text-align: right;\n",
       "    }\n",
       "</style>\n",
       "<table border=\"1\" class=\"dataframe\">\n",
       "  <thead>\n",
       "    <tr style=\"text-align: right;\">\n",
       "      <th></th>\n",
       "      <th>songId</th>\n",
       "      <th>title</th>\n",
       "      <th>artist</th>\n",
       "      <th>genre</th>\n",
       "      <th>album</th>\n",
       "      <th>lyricist</th>\n",
       "      <th>composer</th>\n",
       "      <th>date</th>\n",
       "      <th>img</th>\n",
       "      <th>comment</th>\n",
       "      <th>like</th>\n",
       "      <th>lyric</th>\n",
       "      <th>plylstSeq</th>\n",
       "    </tr>\n",
       "  </thead>\n",
       "  <tbody>\n",
       "    <tr>\n",
       "      <th>195</th>\n",
       "      <td>60738</td>\n",
       "      <td>이 거리를 생각하세요</td>\n",
       "      <td>장은아</td>\n",
       "      <td>포크/블루스</td>\n",
       "      <td>장은아 베스트</td>\n",
       "      <td>박건호</td>\n",
       "      <td>오동식</td>\n",
       "      <td>19931130.0</td>\n",
       "      <td>https://cdnimg.melon.co.kr/cm/album/images/000...</td>\n",
       "      <td>3</td>\n",
       "      <td>471</td>\n",
       "      <td>외로울때면 생각하세요 \\r\\n아름다운 이거리를 생각하세요\\r\\n잊을수없는 옛날을 찾...</td>\n",
       "      <td>439476159 436050976</td>\n",
       "    </tr>\n",
       "    <tr>\n",
       "      <th>196</th>\n",
       "      <td>445859</td>\n",
       "      <td>이빠진 동그라미</td>\n",
       "      <td>활주로</td>\n",
       "      <td>록/메탈</td>\n",
       "      <td>활주로</td>\n",
       "      <td>나원주</td>\n",
       "      <td>나원주</td>\n",
       "      <td>19790111.0</td>\n",
       "      <td>https://cdnimg.melon.co.kr/cm/album/images/000...</td>\n",
       "      <td>4</td>\n",
       "      <td>658</td>\n",
       "      <td>한 조각을 잃어 버려\\r\\n이가 빠진 동그라미\\r\\n슬픔에 찬 동그라미\\r\\n잃어 ...</td>\n",
       "      <td>438230238 454914652</td>\n",
       "    </tr>\n",
       "    <tr>\n",
       "      <th>197</th>\n",
       "      <td>52347</td>\n",
       "      <td>입영 전야</td>\n",
       "      <td>최백호</td>\n",
       "      <td>성인가요/트로트</td>\n",
       "      <td>최백호 전집</td>\n",
       "      <td>최백호</td>\n",
       "      <td>최백호</td>\n",
       "      <td>19890101.0</td>\n",
       "      <td>https://cdnimg.melon.co.kr/cm/album/images/000...</td>\n",
       "      <td>0</td>\n",
       "      <td>55</td>\n",
       "      <td>아쉬운 밤 흐뭇한 밤\\r\\n뽀얀 담배 연기\\r\\n둥근 너의 얼굴 보이고\\r\\n넘치는...</td>\n",
       "      <td>460454148 482436070</td>\n",
       "    </tr>\n",
       "    <tr>\n",
       "      <th>198</th>\n",
       "      <td>3891949</td>\n",
       "      <td>장미</td>\n",
       "      <td>4월과 5월</td>\n",
       "      <td>포크/블루스</td>\n",
       "      <td>한밤중 / 장미</td>\n",
       "      <td>김미선</td>\n",
       "      <td>이정선</td>\n",
       "      <td>19781115.0</td>\n",
       "      <td>https://cdnimg.melon.co.kr/cm/album/images/021...</td>\n",
       "      <td>2</td>\n",
       "      <td>386</td>\n",
       "      <td>당신에게선 꽃내음이 나네요\\r\\n잠자는 나를 깨우고 가네요\\r\\n싱 그런 잎사귀 돋...</td>\n",
       "      <td>417390002 442717875</td>\n",
       "    </tr>\n",
       "    <tr>\n",
       "      <th>199</th>\n",
       "      <td>1008922</td>\n",
       "      <td>제3한강교</td>\n",
       "      <td>혜은이</td>\n",
       "      <td>성인가요/트로트</td>\n",
       "      <td>골든 베스트</td>\n",
       "      <td>길옥윤</td>\n",
       "      <td>길옥윤</td>\n",
       "      <td>1991.0</td>\n",
       "      <td>https://cdnimg.melon.co.kr/cm/album/images/003...</td>\n",
       "      <td>5</td>\n",
       "      <td>1114</td>\n",
       "      <td>강물은 흘러갑니다\\r\\n제3한강교 밑을\\r\\n당신과 나의 꿈을\\r\\n싣고서 마음을 ...</td>\n",
       "      <td>424813774 457738153</td>\n",
       "    </tr>\n",
       "    <tr>\n",
       "      <th>200</th>\n",
       "      <td>1074359</td>\n",
       "      <td>탈춤 (은상)</td>\n",
       "      <td>활주로</td>\n",
       "      <td>발라드</td>\n",
       "      <td>제2회 78 MBC 대학가요제</td>\n",
       "      <td>김종태</td>\n",
       "      <td>지덕엽</td>\n",
       "      <td>19780901.0</td>\n",
       "      <td>https://cdnimg.melon.co.kr/cm/album/images/000...</td>\n",
       "      <td>0</td>\n",
       "      <td>120</td>\n",
       "      <td>얼굴을 가리고 마음을 숨기고\\r\\n어깨를 흔들며 고개를 저어라\\r\\n마당엔 모닥불 ...</td>\n",
       "      <td>422381081 408543604</td>\n",
       "    </tr>\n",
       "    <tr>\n",
       "      <th>201</th>\n",
       "      <td>600948</td>\n",
       "      <td>하얀 면사포</td>\n",
       "      <td>어니언스 (이수영)</td>\n",
       "      <td>발라드</td>\n",
       "      <td>Precious Memories</td>\n",
       "      <td>어니언스</td>\n",
       "      <td>오준형</td>\n",
       "      <td>20040908.0</td>\n",
       "      <td>https://cdnimg.melon.co.kr/cm/album/images/000...</td>\n",
       "      <td>0</td>\n",
       "      <td>239</td>\n",
       "      <td>창밖에 낙엽지고 그대 떠나가면 \\r\\n허전한 내마음은 달랠 길 없다오 \\r\\n웃으며...</td>\n",
       "      <td>458979225 460454148</td>\n",
       "    </tr>\n",
       "    <tr>\n",
       "      <th>202</th>\n",
       "      <td>1008555</td>\n",
       "      <td>한동안 뜸 했었지</td>\n",
       "      <td>사랑과 평화</td>\n",
       "      <td>록/메탈</td>\n",
       "      <td>사랑과 평화 골든앨범(노래는 숲에 흐르고/겨울바다)</td>\n",
       "      <td>이장희</td>\n",
       "      <td>이장희</td>\n",
       "      <td>198909.0</td>\n",
       "      <td>https://cdnimg.melon.co.kr/cm/album/images/003...</td>\n",
       "      <td>0</td>\n",
       "      <td>126</td>\n",
       "      <td>한동안 뜸했었지\\r\\n웬일일까 궁금 했었지\\r\\n혹시 병이 났을까\\r\\n너무 답답 ...</td>\n",
       "      <td>408543604 439176495</td>\n",
       "    </tr>\n",
       "    <tr>\n",
       "      <th>203</th>\n",
       "      <td>2467819</td>\n",
       "      <td>행복이란</td>\n",
       "      <td>조경수</td>\n",
       "      <td>성인가요/트로트</td>\n",
       "      <td>골든 베스트 콜렉션</td>\n",
       "      <td>이준례</td>\n",
       "      <td>이준례</td>\n",
       "      <td>19950101.0</td>\n",
       "      <td>https://cdnimg.melon.co.kr/cm/album/images/007...</td>\n",
       "      <td>2</td>\n",
       "      <td>267</td>\n",
       "      <td>행복이 무엇인지 알 수는 없잖아요 \\r\\n당신 없는 행복이란\\r\\n있을 수 없잖아요...</td>\n",
       "      <td>439176495 404064869</td>\n",
       "    </tr>\n",
       "    <tr>\n",
       "      <th>204</th>\n",
       "      <td>2983459</td>\n",
       "      <td>회상</td>\n",
       "      <td>정태춘</td>\n",
       "      <td>포크/블루스</td>\n",
       "      <td>발췌곡집1</td>\n",
       "      <td>정태춘</td>\n",
       "      <td>정태춘</td>\n",
       "      <td>19871130.0</td>\n",
       "      <td>https://cdnimg.melon.co.kr/cm/album/images/010...</td>\n",
       "      <td>0</td>\n",
       "      <td>201</td>\n",
       "      <td>해지고 노을 물드는 바닷가\\r\\n이제 또 다시 찾아온 저녁에 \\r\\n물새들의 울음소...</td>\n",
       "      <td>470825901 460454148</td>\n",
       "    </tr>\n",
       "  </tbody>\n",
       "</table>\n",
       "</div>"
      ],
      "text/plain": [
       "      songId        title      artist     genre                         album   \n",
       "195    60738  이 거리를 생각하세요         장은아    포크/블루스                       장은아 베스트  \\\n",
       "196   445859     이빠진 동그라미         활주로      록/메탈                           활주로   \n",
       "197    52347        입영 전야         최백호  성인가요/트로트                        최백호 전집   \n",
       "198  3891949           장미      4월과 5월    포크/블루스                      한밤중 / 장미   \n",
       "199  1008922        제3한강교         혜은이  성인가요/트로트                        골든 베스트   \n",
       "200  1074359      탈춤 (은상)         활주로       발라드              제2회 78 MBC 대학가요제   \n",
       "201   600948       하얀 면사포  어니언스 (이수영)       발라드             Precious Memories   \n",
       "202  1008555    한동안 뜸 했었지      사랑과 평화      록/메탈  사랑과 평화 골든앨범(노래는 숲에 흐르고/겨울바다)   \n",
       "203  2467819         행복이란         조경수  성인가요/트로트                    골든 베스트 콜렉션   \n",
       "204  2983459           회상         정태춘    포크/블루스                         발췌곡집1   \n",
       "\n",
       "    lyricist composer        date   \n",
       "195      박건호      오동식  19931130.0  \\\n",
       "196      나원주      나원주  19790111.0   \n",
       "197      최백호      최백호  19890101.0   \n",
       "198      김미선      이정선  19781115.0   \n",
       "199      길옥윤      길옥윤      1991.0   \n",
       "200      김종태      지덕엽  19780901.0   \n",
       "201     어니언스      오준형  20040908.0   \n",
       "202      이장희      이장희    198909.0   \n",
       "203      이준례      이준례  19950101.0   \n",
       "204      정태춘      정태춘  19871130.0   \n",
       "\n",
       "                                                   img  comment  like   \n",
       "195  https://cdnimg.melon.co.kr/cm/album/images/000...        3   471  \\\n",
       "196  https://cdnimg.melon.co.kr/cm/album/images/000...        4   658   \n",
       "197  https://cdnimg.melon.co.kr/cm/album/images/000...        0    55   \n",
       "198  https://cdnimg.melon.co.kr/cm/album/images/021...        2   386   \n",
       "199  https://cdnimg.melon.co.kr/cm/album/images/003...        5  1114   \n",
       "200  https://cdnimg.melon.co.kr/cm/album/images/000...        0   120   \n",
       "201  https://cdnimg.melon.co.kr/cm/album/images/000...        0   239   \n",
       "202  https://cdnimg.melon.co.kr/cm/album/images/003...        0   126   \n",
       "203  https://cdnimg.melon.co.kr/cm/album/images/007...        2   267   \n",
       "204  https://cdnimg.melon.co.kr/cm/album/images/010...        0   201   \n",
       "\n",
       "                                                 lyric            plylstSeq  \n",
       "195  외로울때면 생각하세요 \\r\\n아름다운 이거리를 생각하세요\\r\\n잊을수없는 옛날을 찾...  439476159 436050976  \n",
       "196  한 조각을 잃어 버려\\r\\n이가 빠진 동그라미\\r\\n슬픔에 찬 동그라미\\r\\n잃어 ...  438230238 454914652  \n",
       "197  아쉬운 밤 흐뭇한 밤\\r\\n뽀얀 담배 연기\\r\\n둥근 너의 얼굴 보이고\\r\\n넘치는...  460454148 482436070  \n",
       "198  당신에게선 꽃내음이 나네요\\r\\n잠자는 나를 깨우고 가네요\\r\\n싱 그런 잎사귀 돋...  417390002 442717875  \n",
       "199  강물은 흘러갑니다\\r\\n제3한강교 밑을\\r\\n당신과 나의 꿈을\\r\\n싣고서 마음을 ...  424813774 457738153  \n",
       "200  얼굴을 가리고 마음을 숨기고\\r\\n어깨를 흔들며 고개를 저어라\\r\\n마당엔 모닥불 ...  422381081 408543604  \n",
       "201  창밖에 낙엽지고 그대 떠나가면 \\r\\n허전한 내마음은 달랠 길 없다오 \\r\\n웃으며...  458979225 460454148  \n",
       "202  한동안 뜸했었지\\r\\n웬일일까 궁금 했었지\\r\\n혹시 병이 났을까\\r\\n너무 답답 ...  408543604 439176495  \n",
       "203  행복이 무엇인지 알 수는 없잖아요 \\r\\n당신 없는 행복이란\\r\\n있을 수 없잖아요...  439176495 404064869  \n",
       "204  해지고 노을 물드는 바닷가\\r\\n이제 또 다시 찾아온 저녁에 \\r\\n물새들의 울음소...  470825901 460454148  "
      ]
     },
     "execution_count": 7,
     "metadata": {},
     "output_type": "execute_result"
    }
   ],
   "source": [
    "df.tail(10)"
   ]
  },
  {
   "cell_type": "code",
   "execution_count": 21,
   "metadata": {},
   "outputs": [
    {
     "data": {
      "text/plain": [
       "(2363, 2264)"
      ]
     },
     "execution_count": 21,
     "metadata": {},
     "output_type": "execute_result"
    }
   ],
   "source": [
    "df.shape[0], df.songId.nunique()"
   ]
  },
  {
   "cell_type": "code",
   "execution_count": 22,
   "metadata": {},
   "outputs": [
    {
     "data": {
      "text/plain": [
       "(2264, 13)"
      ]
     },
     "execution_count": 22,
     "metadata": {},
     "output_type": "execute_result"
    }
   ],
   "source": [
    "df.drop_duplicates(subset=['songId'], inplace=True)\n",
    "df.shape"
   ]
  },
  {
   "cell_type": "code",
   "execution_count": 8,
   "metadata": {},
   "outputs": [],
   "source": [
    "df.to_csv('data/melon_year6070_concat.csv', index=False)\n",
    "df = pd.read_csv('data/melon_year6070_concat.csv', dtype=str)"
   ]
  },
  {
   "cell_type": "code",
   "execution_count": 24,
   "metadata": {},
   "outputs": [
    {
     "data": {
      "text/plain": [
       "(2264, 2264)"
      ]
     },
     "execution_count": 24,
     "metadata": {},
     "output_type": "execute_result"
    }
   ],
   "source": [
    "df.shape[0], df.songId.nunique()"
   ]
  }
 ],
 "metadata": {
  "kernelspec": {
   "display_name": "base",
   "language": "python",
   "name": "python3"
  },
  "language_info": {
   "codemirror_mode": {
    "name": "ipython",
    "version": 3
   },
   "file_extension": ".py",
   "mimetype": "text/x-python",
   "name": "python",
   "nbconvert_exporter": "python",
   "pygments_lexer": "ipython3",
   "version": "3.10.9"
  },
  "orig_nbformat": 4
 },
 "nbformat": 4,
 "nbformat_minor": 2
}
