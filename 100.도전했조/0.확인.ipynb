{
 "cells": [
  {
   "cell_type": "code",
   "execution_count": 1,
   "metadata": {},
   "outputs": [],
   "source": [
    "import requests\n",
    "from urllib.parse import quote\n",
    "import pandas as pd\n",
    "import numpy as np\n",
    "from bs4 import BeautifulSoup\n",
    "from selenium import webdriver\n",
    "import warnings\n",
    "warnings.filterwarnings('ignore')\n",
    "import time "
   ]
  },
  {
   "cell_type": "code",
   "execution_count": 97,
   "metadata": {},
   "outputs": [],
   "source": [
    "driver = webdriver.Chrome('C:/Users/YONSAI/Downloads/chromedriver.exe') # chromedriver 위치\n",
    "song_url = f'https://www.melon.com/song/detail.htm?songId=3319849'\n",
    "driver.get(song_url)\n",
    "time.sleep(2)\n",
    "soup = BeautifulSoup(driver.page_source, 'html.parser')\n",
    "info = soup.select_one('#conts')"
   ]
  },
  {
   "cell_type": "code",
   "execution_count": 60,
   "metadata": {},
   "outputs": [],
   "source": [
    "def nan(data):\n",
    "    if data != '-':\n",
    "        return data\n",
    "    else:\n",
    "        return np.nan"
   ]
  },
  {
   "cell_type": "code",
   "execution_count": 61,
   "metadata": {},
   "outputs": [
    {
     "data": {
      "text/plain": [
       "<span class=\"cnt\" id=\"d_like_count\">33,095</span>"
      ]
     },
     "execution_count": 61,
     "metadata": {},
     "output_type": "execute_result"
    }
   ],
   "source": [
    "info.select_one('#d_like_count')"
   ]
  },
  {
   "cell_type": "code",
   "execution_count": 52,
   "metadata": {},
   "outputs": [
    {
     "data": {
      "text/plain": [
       "'\\n총건수\\n\\t\\t\\t\\t\\t\\t\\t\\t\\t\\t\\t0\\n\\t\\t\\t\\t\\t\\t\\t\\t\\t\\t'"
      ]
     },
     "execution_count": 52,
     "metadata": {},
     "output_type": "execute_result"
    }
   ],
   "source": [
    "like = info.select_one('#d_like_count').get_text().replace(',', '')\n",
    "like"
   ]
  },
  {
   "cell_type": "code",
   "execution_count": 98,
   "metadata": {},
   "outputs": [
    {
     "data": {
      "text/plain": [
       "'<div class=\"lyric\" id=\"d_video_summary\"><!-- height:auto; 로 변경시, 확장됨 -->\\n\\t\\t\\t\\t\\t\\t\\tGirls Day Do you hear me Listen\\n<br/><br/>내 말을 좀 들어봐\\n<br/><br/>오빤 정말 나빴어\\n<br/><br/>내 맘을 왜 훔쳤어\\n<br/><br/>오빤 정말 못됐어\\n<br/><br/>어쩜어쩜 어떡하면 난 좋아\\n<br/><br/>웃지마 웃지마 너무 멋져 난 몰라\\n<br/><br/>하지마 하지마 마마마마마마마마\\n<br/><br/>가지마 가지마 마마마마마마마마\\n<br/><br/>I Love you\\n<br/><br/>슬쩍슬쩍 바라보지마\\n<br/><br/>반짝반짝 내 입술 바라보지마\\n<br/><br/>좋아하는 우리사이 멀어질까봐\\n<br/><br/>멀어질까 두려워\\n<br/><br/>Hey Boy\\n<br/><br/>You make me feel like weak girl\\n<br/><br/>Don\\'t worry baby\\n<br/><br/>Now I\\'m falling love\\n<br/><br/>With U\\n<br/><br/>내 입술만 바라보는\\n<br/><br/>나쁜 오빠 오오오\\n<br/><br/>틈만나면 힐끔힐끔\\n<br/><br/>오빤 나빠 오오오\\n<br/><br/>몰라몰라 싫어져도 난 몰라\\n<br/><br/>웃지마 웃지마 장난만 좀 치지마\\n<br/><br/>하지마 하지마 마마마마마마마마\\n<br/><br/>가지마 가지마 마마마마마마마마\\n<br/><br/>I Love you\\n<br/><br/>슬쩍슬쩍 바라보지마\\n<br/><br/>반짝반짝 내 입술 바라보지마\\n<br/><br/>좋아하는 우리사이 멀어질까봐\\n<br/><br/>멀어질까 두려워\\n<br/><br/>나의 사랑은 달라\\n<br/><br/>Come Come I feel inside\\n<br/><br/>자꾸자꾸 좋아져\\n<br/><br/>Love Love in sweety mind\\n<br/><br/>We make it so good\\n<br/><br/>We make it so Hot\\n<br/><br/>I wanna be your girl\\n<br/><br/>Let it all change\\n<br/><br/>가까운 듯 멀어질 듯 알수가 없어\\n<br/><br/>너와 빙글빙글 돌고도는 사랑은 싫어\\n<br/><br/>이젠 그만 할까봐 너무 아파서 미워\\n<br/><br/>하지마 하지마 마마마마마마마마\\n<br/><br/>가지마 가지마 마마마마마마마마\\n<br/><br/>I Love you\\n<br/><br/>슬쩍슬쩍 바라보지마\\n<br/><br/>반짝반짝 내 입술 바라보지마\\n<br/><br/>좋아하는 우리사이 멀어질까봐\\n<br/><br/>멀어질까 두려워\\n<br/><br/>슬쩍슬쩍 바라보지마\\n<br/><br/>반짝반짝 내 입술 바라보지마\\n<br/><br/>좋아하는 우리사이 멀어질까봐\\n<br/><br/>멀어질까 두려워\\n<br/><br/>G I R L 너만의 Lady\\n<br/><br/>D A Y Oh 난 너의 Medic\\n<br/><br/>G I R L\\n<br/><br/>This is the Girls Day\\n<br/><br/>\\n<br/><br/>\\n<br/><br/>\\n</div>'"
      ]
     },
     "execution_count": 98,
     "metadata": {},
     "output_type": "execute_result"
    }
   ],
   "source": [
    "str(info.select_one('#d_video_summary'))"
   ]
  },
  {
   "cell_type": "code",
   "execution_count": 50,
   "metadata": {},
   "outputs": [
    {
     "data": {
      "text/plain": [
       "'I love U oh thank U\\n언제나 내 맘속엔 나는 니가 있어 \\n나는 느낄 수 있어 \\n니가 어디에 있던 나는 갈수 있어 \\n그래야 이 힘든 삶을 살수 있어 \\nI love U oh thank U\\n난 사랑을 몰랐어 \\n못났어 욕심과 자만을 멈출줄 몰랐어 \\n잘났어 항상 제멋에 나는 살았어 \\n시작과 끝을 알수 없는 길을 걸었어 \\n그래 결코 넌 내게 쉽지 않은 사람이야\\n우린 저 높은 태양처럼 식지 않는 사랑이야 \\n수많은 별들도 우릴 축복해주는 밤이야 \\n이제야 내가 너로 인해 변할수 있는 기회야 \\n너로 인해 난 사랑을 알고 사랑을 믿고\\n너로 인해 난 믿음을 알고 꿈을 꾸고 \\nI love U oh thank U 고마워 사랑을 배웠어 \\nI love U oh thank U \\n너보다 좋은건 이 세상에 없는걸\\n너의 사랑 그보다 큰 선물은 없어 \\n늘 곁에 있어준 그 하나로 충분해 \\nI want U so I love U so thank U \\n때론 내 이기심에 너를 가둬둘지도 몰라\\n힘든 날이 많아 니가 많이 울지도 몰라 \\n내가 못나 부족하고 모잘라 \\n니가 견디기 힘들지도 몰라 날 떠날지 몰라 \\n하지만 날 놓치면 결국 후회할지도 몰라 \\n감히 어떤 누구도 우리 사이는 못 갈라 \\n우리 같은 인연은 다시 태어나도 못 만나 \\n너만을 지켜주며 숨 쉬게 할 수 있는 나\\n그래 결코 넌 내게 쉽지 않은 사람이야\\n우린 저 높은 태양처럼 식지 않는 사랑이야 \\n수많은 별들도 우릴 축복해주는 밤이야 \\n이제야 내가 너로 인해 변할수 있는 기회야 \\n오늘도 눈을 감아 니 얼굴을 상상하고\\n내일도 눈을 감아 우리 미래를 그려보고 \\nI love U oh thank U 고마워 사랑을 배웠어 \\nI love U oh thank U 고마워 \\n너보다 좋은건 이 세상에 없는걸\\n너의 사랑 그보다 큰 선물은 없어 \\n늘 곁에 있어준 그 하나로 충분해 \\nI want U so I love U so thank U \\n검은 머리 파 뿌리 될 때까지 널 사랑할께\\n세상이 반쪽이 되도 끝까지 널 지켜줄께 \\n슬플때는 기대 나는 어깨가 되어줄께 \\n아플때면 기대 나는 너의 약이 되어줄께 \\n고마워 날 웃게해준 너의 미소가 \\n고마워 날 일깨워준 너의 충고가 \\n고마워 미래를 만들어준 믿음과 \\nI love U oh thank U 고마워 고마워 \\n너에게 약속해 변하지 않는 나를\\n누구보다 너에게 잘할수 있는 날 \\n부족해 보여도 항상 웃어주는 너 \\nI want U so I love U so thank U \\n그래 결코 넌 내게 쉽지 않은 사람이야 \\n우린 저 높은 태양처럼 식지 않는 사랑이야 \\n수많은 별들도 우릴 축복해주는 밤이야 \\n이제야 내가 너로 인해 변할수 있는 기회야 \\n결코 넌 내게 쉽지 않은 사람이야\\n우린 저 높은 태양처럼 식지 않는 사랑이야 \\n수많은 별들도 우릴 축복해주는 밤이야 \\nI love U oh thank U 고마워 고마워 \\nI want U I love U thank U \\nmy baby my lady \\nmy lovely yeah'"
      ]
     },
     "execution_count": 50,
     "metadata": {},
     "output_type": "execute_result"
    }
   ],
   "source": [
    "str(info.select_one('#d_video_summary')).split('\"\">')[1].replace('\\xa0',' ').replace('<br/>', '\\n').replace('\\n\\n', '\\n').replace('</div>','').split('-')[0].strip()"
   ]
  },
  {
   "cell_type": "code",
   "execution_count": 99,
   "metadata": {},
   "outputs": [
    {
     "data": {
      "text/plain": [
       "\"Girls Day Do you hear me Listen\\n\\n내 말을 좀 들어봐\\n\\n오빤 정말 나빴어\\n\\n내 맘을 왜 훔쳤어\\n\\n오빤 정말 못됐어\\n\\n어쩜어쩜 어떡하면 난 좋아\\n\\n웃지마 웃지마 너무 멋져 난 몰라\\n\\n하지마 하지마 마마마마마마마마\\n\\n가지마 가지마 마마마마마마마마\\n\\nI Love you\\n\\n슬쩍슬쩍 바라보지마\\n\\n반짝반짝 내 입술 바라보지마\\n\\n좋아하는 우리사이 멀어질까봐\\n\\n멀어질까 두려워\\n\\nHey Boy\\n\\nYou make me feel like weak girl\\n\\nDon't worry baby\\n\\nNow I'm falling love\\n\\nWith U\\n\\n내 입술만 바라보는\\n\\n나쁜 오빠 오오오\\n\\n틈만나면 힐끔힐끔\\n\\n오빤 나빠 오오오\\n\\n몰라몰라 싫어져도 난 몰라\\n\\n웃지마 웃지마 장난만 좀 치지마\\n\\n하지마 하지마 마마마마마마마마\\n\\n가지마 가지마 마마마마마마마마\\n\\nI Love you\\n\\n슬쩍슬쩍 바라보지마\\n\\n반짝반짝 내 입술 바라보지마\\n\\n좋아하는 우리사이 멀어질까봐\\n\\n멀어질까 두려워\\n\\n나의 사랑은 달라\\n\\nCome Come I feel inside\\n\\n자꾸자꾸 좋아져\\n\\nLove Love in sweety mind\\n\\nWe make it so good\\n\\nWe make it so Hot\\n\\nI wanna be your girl\\n\\nLet it all change\\n\\n가까운 듯 멀어질 듯 알수가 없어\\n\\n너와 빙글빙글 돌고도는 사랑은 싫어\\n\\n이젠 그만 할까봐 너무 아파서 미워\\n\\n하지마 하지마 마마마마마마마마\\n\\n가지마 가지마 마마마마마마마마\\n\\nI Love you\\n\\n슬쩍슬쩍 바라보지마\\n\\n반짝반짝 내 입술 바라보지마\\n\\n좋아하는 우리사이 멀어질까봐\\n\\n멀어질까 두려워\\n\\n슬쩍슬쩍 바라보지마\\n\\n반짝반짝 내 입술 바라보지마\\n\\n좋아하는 우리사이 멀어질까봐\\n\\n멀어질까 두려워\\n\\nG I R L 너만의 Lady\\n\\nD A Y Oh 난 너의 Medic\\n\\nG I R L\\n\\nThis is the Girls Day\""
      ]
     },
     "execution_count": 99,
     "metadata": {},
     "output_type": "execute_result"
    }
   ],
   "source": [
    "str(info.select_one('#d_video_summary')).split('\\t\\t\\t\\t\\t\\t\\t')[1].replace('\\t', '').replace('<br/>', '\\n').replace('\\n\\n', '\\n').replace('</div>','').strip()"
   ]
  },
  {
   "cell_type": "code",
   "execution_count": 23,
   "metadata": {},
   "outputs": [
    {
     "data": {
      "text/plain": [
       "''"
      ]
     },
     "execution_count": 23,
     "metadata": {},
     "output_type": "execute_result"
    }
   ],
   "source": [
    "lyric = str(info.select_one('#d_video_summary')).split('\\n')[-2].replace('\\t', '').replace('<br/>', '\\n').replace('\\n\\n', '\\n').strip()\n",
    "lyric"
   ]
  },
  {
   "cell_type": "code",
   "execution_count": 20,
   "metadata": {},
   "outputs": [
    {
     "data": {
      "text/plain": [
       "'유리같이 맑은 아침처럼 \\n이슬을 좋아하는 마음처럼 \\n당신의 그 고운 눈을 사랑합니다 \\n랄랄 랄랄랄 랄랄랄 \\n랄랄랄 랄랄랄 랄랄랄 \\n타오르는 붉은 햇살처럼 \\n탐스러운 사과처럼 \\n당신의 그 고운 볼을 사랑합니다 \\n랄랄 랄랄랄 랄랄랄 \\n랄랄랄 랄랄랄 랄랄랄 \\n고요하고 깊은 가을 밤에 \\n귀뚜라미 울음처럼 \\n당신의 그윽한 음성을 사랑합니다 \\n랄랄 랄랄랄 랄랄랄 \\n랄랄랄 랄랄랄 랄랄랄'"
      ]
     },
     "execution_count": 20,
     "metadata": {},
     "output_type": "execute_result"
    }
   ],
   "source": [
    "str(info.select_one('#d_video_summary')).split('\\t\\t\\t\\t\\t\\t\\t')[1].replace('\\t', '').replace('<br/>', '\\n').split('<b')[0].strip()"
   ]
  },
  {
   "cell_type": "code",
   "execution_count": null,
   "metadata": {},
   "outputs": [],
   "source": []
  }
 ],
 "metadata": {
  "kernelspec": {
   "display_name": "base",
   "language": "python",
   "name": "python3"
  },
  "language_info": {
   "codemirror_mode": {
    "name": "ipython",
    "version": 3
   },
   "file_extension": ".py",
   "mimetype": "text/x-python",
   "name": "python",
   "nbconvert_exporter": "python",
   "pygments_lexer": "ipython3",
   "version": "3.10.9"
  },
  "orig_nbformat": 4
 },
 "nbformat": 4,
 "nbformat_minor": 2
}
