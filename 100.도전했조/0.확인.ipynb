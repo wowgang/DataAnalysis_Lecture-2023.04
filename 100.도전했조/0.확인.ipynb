{
 "cells": [
  {
   "cell_type": "code",
   "execution_count": 1,
   "metadata": {},
   "outputs": [],
   "source": [
    "import requests\n",
    "from urllib.parse import quote\n",
    "import pandas as pd\n",
    "import numpy as np\n",
    "from bs4 import BeautifulSoup\n",
    "from selenium import webdriver\n",
    "import warnings\n",
    "warnings.filterwarnings('ignore')\n",
    "import time "
   ]
  },
  {
   "cell_type": "code",
   "execution_count": 9,
   "metadata": {},
   "outputs": [],
   "source": [
    "driver = webdriver.Chrome('C:/Users/YONSAI/Downloads/chromedriver.exe') # chromedriver 위치\n",
    "song_url = f'https://www.melon.com/song/detail.htm?songId=2947004'\n",
    "driver.get(song_url)\n",
    "time.sleep(2)\n",
    "soup = BeautifulSoup(driver.page_source, 'html.parser')\n",
    "info = soup.select_one('#conts')"
   ]
  },
  {
   "cell_type": "code",
   "execution_count": 10,
   "metadata": {},
   "outputs": [],
   "source": [
    "def nan(data):\n",
    "    if data != '-':\n",
    "        return data\n",
    "    else:\n",
    "        return np.nan"
   ]
  },
  {
   "cell_type": "code",
   "execution_count": 11,
   "metadata": {},
   "outputs": [
    {
     "data": {
      "text/plain": [
       "<span class=\"cnt\" id=\"d_like_count\">1,022</span>"
      ]
     },
     "execution_count": 11,
     "metadata": {},
     "output_type": "execute_result"
    }
   ],
   "source": [
    "info.select_one('#d_like_count')"
   ]
  },
  {
   "cell_type": "code",
   "execution_count": 52,
   "metadata": {},
   "outputs": [
    {
     "data": {
      "text/plain": [
       "'\\n총건수\\n\\t\\t\\t\\t\\t\\t\\t\\t\\t\\t\\t0\\n\\t\\t\\t\\t\\t\\t\\t\\t\\t\\t'"
      ]
     },
     "execution_count": 52,
     "metadata": {},
     "output_type": "execute_result"
    }
   ],
   "source": [
    "like = info.select_one('#d_like_count').get_text().replace(',', '')\n",
    "like"
   ]
  },
  {
   "cell_type": "code",
   "execution_count": 14,
   "metadata": {},
   "outputs": [
    {
     "data": {
      "text/plain": [
       "'<div class=\"lyric\" id=\"d_video_summary\"><!-- height:auto; 로 변경시, 확장됨 -->\\n\\t\\t\\t\\t\\t\\t\\t1  당신은 나에게 할말이없나요                                   아직도나는 할말이많은데                                           당신의눈엔 한방울눈물이                                           이별의 진실인가요                                                    사랑은 정녕 무었인가요                                             가슴하나 태우면 그만인가요                                       이별은정녕무었인가요                                               또다른 만남의 시작인가요                                          돌아서는 그대 마지막눈물에 나는바람되어 웁니다             2당신의 진실은 무었인가요                                         나에겐오직당신뿐인데                                               우리가나눈 사랑의 기쁨이                                           이별을 막을수는 없었나요                                          사랑은 정녕 무었인가요                                             가슴하나 태우면 그만인가요                                       이별은 정녕 무었인가요                                             또다른 만남의 시작인가요 돌아서는 그대 마지막눈물에       나는 바람되어웁니다 \\n\\t\\t\\t\\t\\t</div>'"
      ]
     },
     "execution_count": 14,
     "metadata": {},
     "output_type": "execute_result"
    }
   ],
   "source": [
    "str(info.select_one('#d_video_summary'))"
   ]
  },
  {
   "cell_type": "code",
   "execution_count": 7,
   "metadata": {},
   "outputs": [
    {
     "ename": "IndexError",
     "evalue": "list index out of range",
     "output_type": "error",
     "traceback": [
      "\u001b[1;31m---------------------------------------------------------------------------\u001b[0m",
      "\u001b[1;31mIndexError\u001b[0m                                Traceback (most recent call last)",
      "Cell \u001b[1;32mIn[7], line 1\u001b[0m\n\u001b[1;32m----> 1\u001b[0m \u001b[39mstr\u001b[39;49m(info\u001b[39m.\u001b[39;49mselect_one(\u001b[39m'\u001b[39;49m\u001b[39m#d_video_summary\u001b[39;49m\u001b[39m'\u001b[39;49m))\u001b[39m.\u001b[39;49msplit(\u001b[39m'\u001b[39;49m\u001b[39m\"\u001b[39;49m\u001b[39m\"\u001b[39;49m\u001b[39m>\u001b[39;49m\u001b[39m'\u001b[39;49m)[\u001b[39m1\u001b[39;49m]\u001b[39m.\u001b[39mreplace(\u001b[39m'\u001b[39m\u001b[39m\\xa0\u001b[39;00m\u001b[39m'\u001b[39m,\u001b[39m'\u001b[39m\u001b[39m \u001b[39m\u001b[39m'\u001b[39m)\u001b[39m.\u001b[39mreplace(\u001b[39m'\u001b[39m\u001b[39m<br/>\u001b[39m\u001b[39m'\u001b[39m, \u001b[39m'\u001b[39m\u001b[39m\\n\u001b[39;00m\u001b[39m'\u001b[39m)\u001b[39m.\u001b[39mreplace(\u001b[39m'\u001b[39m\u001b[39m\\n\u001b[39;00m\u001b[39m\\n\u001b[39;00m\u001b[39m'\u001b[39m, \u001b[39m'\u001b[39m\u001b[39m\\n\u001b[39;00m\u001b[39m'\u001b[39m)\u001b[39m.\u001b[39mreplace(\u001b[39m'\u001b[39m\u001b[39m</div>\u001b[39m\u001b[39m'\u001b[39m,\u001b[39m'\u001b[39m\u001b[39m'\u001b[39m)\u001b[39m.\u001b[39msplit(\u001b[39m'\u001b[39m\u001b[39m-\u001b[39m\u001b[39m'\u001b[39m)[\u001b[39m0\u001b[39m]\u001b[39m.\u001b[39mstrip()\n",
      "\u001b[1;31mIndexError\u001b[0m: list index out of range"
     ]
    }
   ],
   "source": [
    "str(info.select_one('#d_video_summary')).split('\"\">')[1].replace('\\xa0',' ').replace('<br/>', '\\n').replace('\\n\\n', '\\n').replace('</div>','').split('-')[0].strip()"
   ]
  },
  {
   "cell_type": "code",
   "execution_count": 13,
   "metadata": {},
   "outputs": [
    {
     "data": {
      "text/plain": [
       "'1  당신은 나에게 할말이없나요                                   아직도나는 할말이많은데                                           당신의눈엔 한방울눈물이                                           이별의 진실인가요                                                    사랑은 정녕 무었인가요                                             가슴하나 태우면 그만인가요                                       이별은정녕무었인가요                                               또다른 만남의 시작인가요                                          돌아서는 그대 마지막눈물에 나는바람되어 웁니다             2당신의 진실은 무었인가요                                         나에겐오직당신뿐인데                                               우리가나눈 사랑의 기쁨이                                           이별을 막을수는 없었나요                                          사랑은 정녕 무었인가요                                             가슴하나 태우면 그만인가요                                       이별은 정녕 무었인가요                                             또다른 만남의 시작인가요 돌아서는 그대 마지막눈물에       나는 바람되어웁니다'"
      ]
     },
     "execution_count": 13,
     "metadata": {},
     "output_type": "execute_result"
    }
   ],
   "source": [
    "str(info.select_one('#d_video_summary')).split('\\t\\t\\t\\t\\t\\t\\t')[1].replace('\\t', '').replace('<br/>', '\\n').replace('\\n\\n', '\\n').replace('</div>','').strip()"
   ]
  },
  {
   "cell_type": "code",
   "execution_count": 23,
   "metadata": {},
   "outputs": [
    {
     "data": {
      "text/plain": [
       "''"
      ]
     },
     "execution_count": 23,
     "metadata": {},
     "output_type": "execute_result"
    }
   ],
   "source": [
    "lyric = str(info.select_one('#d_video_summary')).split('\\n')[-2].replace('\\t', '').replace('<br/>', '\\n').replace('\\n\\n', '\\n').strip()\n",
    "lyric"
   ]
  },
  {
   "cell_type": "code",
   "execution_count": 12,
   "metadata": {},
   "outputs": [
    {
     "data": {
      "text/plain": [
       "'1  당신은 나에게 할말이없나요                                   아직도나는 할말이많은데                                           당신의눈엔 한방울눈물이                                           이별의 진실인가요                                                    사랑은 정녕 무었인가요                                             가슴하나 태우면 그만인가요                                       이별은정녕무었인가요                                               또다른 만남의 시작인가요                                          돌아서는 그대 마지막눈물에 나는바람되어 웁니다             2당신의 진실은 무었인가요                                         나에겐오직당신뿐인데                                               우리가나눈 사랑의 기쁨이                                           이별을 막을수는 없었나요                                          사랑은 정녕 무었인가요                                             가슴하나 태우면 그만인가요                                       이별은 정녕 무었인가요                                             또다른 만남의 시작인가요 돌아서는 그대 마지막눈물에       나는 바람되어웁니다 \\n</div>'"
      ]
     },
     "execution_count": 12,
     "metadata": {},
     "output_type": "execute_result"
    }
   ],
   "source": [
    "str(info.select_one('#d_video_summary')).split('\\t\\t\\t\\t\\t\\t\\t')[1].replace('\\t', '').replace('<br/>', '\\n').split('<b')[0].strip()"
   ]
  },
  {
   "cell_type": "code",
   "execution_count": null,
   "metadata": {},
   "outputs": [],
   "source": []
  }
 ],
 "metadata": {
  "kernelspec": {
   "display_name": "base",
   "language": "python",
   "name": "python3"
  },
  "language_info": {
   "codemirror_mode": {
    "name": "ipython",
    "version": 3
   },
   "file_extension": ".py",
   "mimetype": "text/x-python",
   "name": "python",
   "nbconvert_exporter": "python",
   "pygments_lexer": "ipython3",
   "version": "3.10.9"
  },
  "orig_nbformat": 4
 },
 "nbformat": 4,
 "nbformat_minor": 2
}
