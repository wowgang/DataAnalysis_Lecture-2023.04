{
 "cells": [
  {
   "cell_type": "code",
   "execution_count": 14,
   "metadata": {},
   "outputs": [],
   "source": [
    "import pandas as pd\n",
    "from collections import Counter\n",
    "import re\n",
    "# df = pd.read_csv('data/melon_song_v2.csv')\n",
    "df = pd.read_csv('data/check5.csv')"
   ]
  },
  {
   "cell_type": "code",
   "execution_count": 15,
   "metadata": {},
   "outputs": [],
   "source": [
    "df.date.fillna(0, inplace=True)\n",
    "df['date'] = df.date.astype(int).astype(str)\n",
    "df.fillna('', inplace=True)\n",
    "df['songId'] = df.songId.astype(str)\n",
    "df.date = df.date.apply(lambda x: '-' if x == '0' else (x[:4] + '.' + x[4:6] + '.' + x[6:]) )\n",
    "# df.lyric = df.lyric.str.replace('\\r', '').str.replace('\\n\\n','\\n').str.replace(' \\n','\\n').str.replace('\\n\\n  \\n','\\n').str.strip()\n",
    "# df.lyric = df.lyric.str.replace('\\n    반복\\n','\\n').str.replace('\\n    반복','').str.replace(' x ','').str.replace('\\n  ','').str.replace('\\n\\n','\\n').str.replace(' \\n\\n','\\n').str.replace(' \\n','\\n').str.strip()\n",
    "# df.lyric = df.lyric.str.replace(\"[^0-9A-Za-zㄱ-ㅎㅏ-ㅣ가-힣'\\n]\", ' ', regex=True).str.replace(\"'\",'').str.strip()"
   ]
  },
  {
   "cell_type": "code",
   "execution_count": 17,
   "metadata": {},
   "outputs": [
    {
     "data": {
      "text/html": [
       "<div>\n",
       "<style scoped>\n",
       "    .dataframe tbody tr th:only-of-type {\n",
       "        vertical-align: middle;\n",
       "    }\n",
       "\n",
       "    .dataframe tbody tr th {\n",
       "        vertical-align: top;\n",
       "    }\n",
       "\n",
       "    .dataframe thead th {\n",
       "        text-align: right;\n",
       "    }\n",
       "</style>\n",
       "<table border=\"1\" class=\"dataframe\">\n",
       "  <thead>\n",
       "    <tr style=\"text-align: right;\">\n",
       "      <th></th>\n",
       "      <th>songId</th>\n",
       "      <th>title</th>\n",
       "      <th>artist</th>\n",
       "      <th>genre</th>\n",
       "      <th>album</th>\n",
       "      <th>lyricist</th>\n",
       "      <th>composer</th>\n",
       "      <th>date</th>\n",
       "      <th>img</th>\n",
       "      <th>comment</th>\n",
       "      <th>like</th>\n",
       "      <th>lyric</th>\n",
       "      <th>plylstSeq</th>\n",
       "      <th>ly_summary</th>\n",
       "    </tr>\n",
       "  </thead>\n",
       "  <tbody>\n",
       "    <tr>\n",
       "      <th>0</th>\n",
       "      <td>418168</td>\n",
       "      <td>희재</td>\n",
       "      <td>성시경</td>\n",
       "      <td>발라드 국내영화</td>\n",
       "      <td>국화꽃 향기 OST</td>\n",
       "      <td>양재선</td>\n",
       "      <td>MGR</td>\n",
       "      <td>2003.02.01</td>\n",
       "      <td>https://cdnimg.melon.co.kr/cm/album/images/000...</td>\n",
       "      <td>332</td>\n",
       "      <td>138267</td>\n",
       "      <td>햇살은 우릴 위해 내리고\\n바람도 서롤 감싸게 했죠\\n우리 웃음속에 계절은 오고\\n...</td>\n",
       "      <td>445029956 411111859</td>\n",
       "      <td>정말로 울면 내가 그댈 보내&lt;br&gt;준 것 같아서</td>\n",
       "    </tr>\n",
       "  </tbody>\n",
       "</table>\n",
       "</div>"
      ],
      "text/plain": [
       "   songId title artist     genre       album lyricist composer        date   \n",
       "0  418168    희재    성시경  발라드 국내영화  국화꽃 향기 OST      양재선      MGR  2003.02.01  \\\n",
       "\n",
       "                                                 img  comment    like   \n",
       "0  https://cdnimg.melon.co.kr/cm/album/images/000...      332  138267  \\\n",
       "\n",
       "                                               lyric            plylstSeq   \n",
       "0  햇살은 우릴 위해 내리고\\n바람도 서롤 감싸게 했죠\\n우리 웃음속에 계절은 오고\\n...  445029956 411111859  \\\n",
       "\n",
       "                   ly_summary  \n",
       "0  정말로 울면 내가 그댈 보내<br>준 것 같아서  "
      ]
     },
     "execution_count": 17,
     "metadata": {},
     "output_type": "execute_result"
    }
   ],
   "source": [
    "del df['total']\n",
    "df.head(1)"
   ]
  },
  {
   "cell_type": "code",
   "execution_count": 73,
   "metadata": {},
   "outputs": [
    {
     "data": {
      "text/plain": [
       "(6243, 14)"
      ]
     },
     "execution_count": 73,
     "metadata": {},
     "output_type": "execute_result"
    }
   ],
   "source": [
    "df.shape"
   ]
  },
  {
   "cell_type": "code",
   "execution_count": 68,
   "metadata": {},
   "outputs": [
    {
     "data": {
      "text/html": [
       "<div>\n",
       "<style scoped>\n",
       "    .dataframe tbody tr th:only-of-type {\n",
       "        vertical-align: middle;\n",
       "    }\n",
       "\n",
       "    .dataframe tbody tr th {\n",
       "        vertical-align: top;\n",
       "    }\n",
       "\n",
       "    .dataframe thead th {\n",
       "        text-align: right;\n",
       "    }\n",
       "</style>\n",
       "<table border=\"1\" class=\"dataframe\">\n",
       "  <thead>\n",
       "    <tr style=\"text-align: right;\">\n",
       "      <th></th>\n",
       "      <th>songId</th>\n",
       "      <th>title</th>\n",
       "      <th>artist</th>\n",
       "      <th>genre</th>\n",
       "      <th>album</th>\n",
       "      <th>lyricist</th>\n",
       "      <th>composer</th>\n",
       "      <th>date</th>\n",
       "      <th>img</th>\n",
       "      <th>comment</th>\n",
       "      <th>like</th>\n",
       "      <th>lyric</th>\n",
       "      <th>plylstSeq</th>\n",
       "      <th>total</th>\n",
       "    </tr>\n",
       "  </thead>\n",
       "  <tbody>\n",
       "    <tr>\n",
       "      <th>5673</th>\n",
       "      <td>2947004</td>\n",
       "      <td>정녕</td>\n",
       "      <td>조항조</td>\n",
       "      <td>성인가요/트로트</td>\n",
       "      <td>2010 Johangjo Emotion2</td>\n",
       "      <td>조운파</td>\n",
       "      <td>임종수</td>\n",
       "      <td>20100927</td>\n",
       "      <td>https://cdnimg.melon.co.kr/cm/album/images/010...</td>\n",
       "      <td>4</td>\n",
       "      <td>1021</td>\n",
       "      <td>1  당신은 나에게 할말이없나요                             ...</td>\n",
       "      <td>518850417 519085207</td>\n",
       "      <td>1 당신 나 하다 없다 아직 도나 하다 많다 당신 눈 엔 한 방울 눈물 이별 진실 ...</td>\n",
       "    </tr>\n",
       "  </tbody>\n",
       "</table>\n",
       "</div>"
      ],
      "text/plain": [
       "       songId title artist     genre                   album lyricist   \n",
       "5673  2947004    정녕    조항조  성인가요/트로트  2010 Johangjo Emotion2      조운파  \\\n",
       "\n",
       "     composer      date                                                img   \n",
       "5673      임종수  20100927  https://cdnimg.melon.co.kr/cm/album/images/010...  \\\n",
       "\n",
       "      comment  like                                              lyric   \n",
       "5673        4  1021  1  당신은 나에게 할말이없나요                             ...  \\\n",
       "\n",
       "                plylstSeq                                              total  \n",
       "5673  518850417 519085207  1 당신 나 하다 없다 아직 도나 하다 많다 당신 눈 엔 한 방울 눈물 이별 진실 ...  "
      ]
     },
     "execution_count": 68,
     "metadata": {},
     "output_type": "execute_result"
    }
   ],
   "source": [
    "df[df.songId.str.contains('2947004')]"
   ]
  },
  {
   "cell_type": "code",
   "execution_count": null,
   "metadata": {},
   "outputs": [],
   "source": [
    "# 6244 * 2 12488\n",
    "# 인덱스 104 498948 삭제\n",
    "# 인덱스 990 33218415 삭제\n",
    "# 인덱스 1079 2667284 삭제 check2\n",
    "\n",
    "# 6243 * 2 12486\n",
    "# 인덱스 3949 31506637 대기중 check3\n",
    "# 인덱스 5672 2947004 check3\n",
    "df.shape"
   ]
  },
  {
   "cell_type": "code",
   "execution_count": 69,
   "metadata": {},
   "outputs": [],
   "source": [
    "# df = df.drop(index=5673,axis=0)\n",
    "# df.set_index('songId', inplace=True)\n",
    "# df.reset_index(inplace=True)"
   ]
  },
  {
   "cell_type": "code",
   "execution_count": 18,
   "metadata": {},
   "outputs": [],
   "source": [
    "df.to_csv('data/check5.csv', index=False)\n",
    "# ch = pd.read_csv('data/check1.csv', dtype=str)"
   ]
  },
  {
   "cell_type": "code",
   "execution_count": 74,
   "metadata": {},
   "outputs": [
    {
     "data": {
      "text/plain": [
       "12486"
      ]
     },
     "execution_count": 74,
     "metadata": {},
     "output_type": "execute_result"
    }
   ],
   "source": [
    "# df2 = df.head(6700)\n",
    "# df2 = df.head(5680).tail(8)\n",
    "yoyack = []\n",
    "for i in df['lyric']:\n",
    "    ego = i.split('\\n')\n",
    "    sentence_counts = Counter(ego)\n",
    "    most_common_sentences = sentence_counts.most_common(2)\n",
    "    for sentence, count in most_common_sentences:\n",
    "        yoyack.append(sentence)\n",
    "len(yoyack)"
   ]
  },
  {
   "cell_type": "code",
   "execution_count": 75,
   "metadata": {},
   "outputs": [],
   "source": [
    "yoyack_re = []\n",
    "for i in range(0, len(yoyack), 2):\n",
    "    sublist = '<br>'.join(yoyack[i:i+2]).strip()\n",
    "    yoyack_re.append(sublist)"
   ]
  },
  {
   "cell_type": "code",
   "execution_count": 76,
   "metadata": {},
   "outputs": [
    {
     "data": {
      "text/plain": [
       "(12486, 6243)"
      ]
     },
     "execution_count": 76,
     "metadata": {},
     "output_type": "execute_result"
    }
   ],
   "source": [
    "len(yoyack), len(yoyack_re)"
   ]
  },
  {
   "cell_type": "code",
   "execution_count": 77,
   "metadata": {},
   "outputs": [],
   "source": [
    "df['ly_summary'] = yoyack_re"
   ]
  },
  {
   "cell_type": "code",
   "execution_count": 78,
   "metadata": {},
   "outputs": [
    {
     "data": {
      "text/html": [
       "<div>\n",
       "<style scoped>\n",
       "    .dataframe tbody tr th:only-of-type {\n",
       "        vertical-align: middle;\n",
       "    }\n",
       "\n",
       "    .dataframe tbody tr th {\n",
       "        vertical-align: top;\n",
       "    }\n",
       "\n",
       "    .dataframe thead th {\n",
       "        text-align: right;\n",
       "    }\n",
       "</style>\n",
       "<table border=\"1\" class=\"dataframe\">\n",
       "  <thead>\n",
       "    <tr style=\"text-align: right;\">\n",
       "      <th></th>\n",
       "      <th>songId</th>\n",
       "      <th>title</th>\n",
       "      <th>artist</th>\n",
       "      <th>genre</th>\n",
       "      <th>album</th>\n",
       "      <th>lyricist</th>\n",
       "      <th>composer</th>\n",
       "      <th>date</th>\n",
       "      <th>img</th>\n",
       "      <th>comment</th>\n",
       "      <th>like</th>\n",
       "      <th>lyric</th>\n",
       "      <th>plylstSeq</th>\n",
       "      <th>total</th>\n",
       "      <th>ly_summary</th>\n",
       "    </tr>\n",
       "  </thead>\n",
       "  <tbody>\n",
       "    <tr>\n",
       "      <th>6241</th>\n",
       "      <td>34183979</td>\n",
       "      <td>인생 한잔</td>\n",
       "      <td>정은지</td>\n",
       "      <td>포크/블루스 국내드라마</td>\n",
       "      <td>술꾼도시여자들 OST Part 2</td>\n",
       "      <td>빨간양말</td>\n",
       "      <td>INAN</td>\n",
       "      <td>20211029</td>\n",
       "      <td>https://cdnimg.melon.co.kr/cm2/album/images/10...</td>\n",
       "      <td>12</td>\n",
       "      <td>4512</td>\n",
       "      <td>사랑도 이별도 오늘은 잠시 미뤄보자\\n불안한 청춘도 내일로 잠시 미뤄두자\\n떠나버린...</td>\n",
       "      <td>506225967 434154554</td>\n",
       "      <td>사랑 이별 오늘 잠시 미루다 보다 불안하다 청춘 내일 잠시 미루다 두다 떠나다 버리...</td>\n",
       "      <td>사랑도 이별도 오늘은 잠시 미뤄보자&lt;br&gt;한잔 들이켜 보자 나를 돌이켜보자</td>\n",
       "    </tr>\n",
       "    <tr>\n",
       "      <th>6242</th>\n",
       "      <td>31191637</td>\n",
       "      <td>6 o'clock</td>\n",
       "      <td>볼빨간사춘기</td>\n",
       "      <td>인디음악 포크/블루스</td>\n",
       "      <td>Red Diary 'Hidden Track'</td>\n",
       "      <td>안지영</td>\n",
       "      <td>안지영</td>\n",
       "      <td>20180717</td>\n",
       "      <td>https://cdnimg.melon.co.kr/cm/album/images/101...</td>\n",
       "      <td>87</td>\n",
       "      <td>15668</td>\n",
       "      <td>Its 6 oclock\\n너와 나는 시간이 빨라서\\n시간이 달라서\\n어쩔 수 없이 ...</td>\n",
       "      <td>458080033 442957041</td>\n",
       "      <td>It ' s 6 o ' clock 너 와 나 시간 빨 라서 시간 달라 서 어쩔 없이...</td>\n",
       "      <td>Oh why does it feel stupid&lt;br&gt;I just dont know</td>\n",
       "    </tr>\n",
       "  </tbody>\n",
       "</table>\n",
       "</div>"
      ],
      "text/plain": [
       "        songId      title  artist         genre                     album   \n",
       "6241  34183979      인생 한잔     정은지  포크/블루스 국내드라마        술꾼도시여자들 OST Part 2  \\\n",
       "6242  31191637  6 o'clock  볼빨간사춘기   인디음악 포크/블루스  Red Diary 'Hidden Track'   \n",
       "\n",
       "     lyricist composer      date   \n",
       "6241     빨간양말     INAN  20211029  \\\n",
       "6242      안지영      안지영  20180717   \n",
       "\n",
       "                                                    img  comment   like   \n",
       "6241  https://cdnimg.melon.co.kr/cm2/album/images/10...       12   4512  \\\n",
       "6242  https://cdnimg.melon.co.kr/cm/album/images/101...       87  15668   \n",
       "\n",
       "                                                  lyric            plylstSeq   \n",
       "6241  사랑도 이별도 오늘은 잠시 미뤄보자\\n불안한 청춘도 내일로 잠시 미뤄두자\\n떠나버린...  506225967 434154554  \\\n",
       "6242  Its 6 oclock\\n너와 나는 시간이 빨라서\\n시간이 달라서\\n어쩔 수 없이 ...  458080033 442957041   \n",
       "\n",
       "                                                  total   \n",
       "6241  사랑 이별 오늘 잠시 미루다 보다 불안하다 청춘 내일 잠시 미루다 두다 떠나다 버리...  \\\n",
       "6242  It ' s 6 o ' clock 너 와 나 시간 빨 라서 시간 달라 서 어쩔 없이...   \n",
       "\n",
       "                                          ly_summary  \n",
       "6241       사랑도 이별도 오늘은 잠시 미뤄보자<br>한잔 들이켜 보자 나를 돌이켜보자  \n",
       "6242  Oh why does it feel stupid<br>I just dont know  "
      ]
     },
     "execution_count": 78,
     "metadata": {},
     "output_type": "execute_result"
    }
   ],
   "source": [
    "df.tail(2)"
   ]
  },
  {
   "cell_type": "code",
   "execution_count": 3,
   "metadata": {},
   "outputs": [
    {
     "data": {
      "text/plain": [
       "0       20030201\n",
       "1       20220907\n",
       "2       20051220\n",
       "3       20220907\n",
       "4       20221016\n",
       "          ...   \n",
       "6238    20201026\n",
       "6239    20050501\n",
       "6240    19940625\n",
       "6241    20211029\n",
       "6242    20180717\n",
       "Name: date, Length: 6243, dtype: int64"
      ]
     },
     "execution_count": 3,
     "metadata": {},
     "output_type": "execute_result"
    }
   ],
   "source": [
    "df.date"
   ]
  },
  {
   "cell_type": "code",
   "execution_count": 10,
   "metadata": {},
   "outputs": [
    {
     "ename": "IndexError",
     "evalue": "invalid index to scalar variable.",
     "output_type": "error",
     "traceback": [
      "\u001b[1;31m---------------------------------------------------------------------------\u001b[0m",
      "\u001b[1;31mIndexError\u001b[0m                                Traceback (most recent call last)",
      "Cell \u001b[1;32mIn[10], line 1\u001b[0m\n\u001b[1;32m----> 1\u001b[0m \u001b[39mf\u001b[39m\u001b[39m'\u001b[39m\u001b[39m{\u001b[39;00mdf\u001b[39m.\u001b[39;49mdate[\u001b[39m0\u001b[39;49m][:\u001b[39m4\u001b[39;49m]\u001b[39m}\u001b[39;00m\u001b[39m.\u001b[39m\u001b[39m{\u001b[39;00mdf\u001b[39m.\u001b[39mdate[\u001b[39m0\u001b[39m][\u001b[39m4\u001b[39m:\u001b[39m6\u001b[39m]\u001b[39m}\u001b[39;00m\u001b[39m.\u001b[39m\u001b[39m{\u001b[39;00mdf\u001b[39m.\u001b[39mdate[\u001b[39m0\u001b[39m][\u001b[39m6\u001b[39m:]\u001b[39m}\u001b[39;00m\u001b[39m'\u001b[39m\n",
      "\u001b[1;31mIndexError\u001b[0m: invalid index to scalar variable."
     ]
    }
   ],
   "source": [
    "f'{df.date[0][:4]}.{df.date[0][4:6]}.{df.date[0][6:]}'"
   ]
  },
  {
   "cell_type": "code",
   "execution_count": null,
   "metadata": {},
   "outputs": [],
   "source": [
    "k = df.date\n",
    "for i in k:\n",
    "    if i != '0':\n",
    "        new = i"
   ]
  },
  {
   "cell_type": "code",
   "execution_count": null,
   "metadata": {},
   "outputs": [],
   "source": [
    "df.date = df.date.apply(lambda x: '-' if x == '0' else (x[:4] + '.' + x[4:6] + '.' + x[6:]) )"
   ]
  },
  {
   "cell_type": "code",
   "execution_count": 13,
   "metadata": {},
   "outputs": [
    {
     "ename": "IndexError",
     "evalue": "invalid index to scalar variable.",
     "output_type": "error",
     "traceback": [
      "\u001b[1;31m---------------------------------------------------------------------------\u001b[0m",
      "\u001b[1;31mIndexError\u001b[0m                                Traceback (most recent call last)",
      "Cell \u001b[1;32mIn[13], line 1\u001b[0m\n\u001b[1;32m----> 1\u001b[0m formatted_date \u001b[39m=\u001b[39m \u001b[39mf\u001b[39m\u001b[39m'\u001b[39m\u001b[39m{\u001b[39;00mdf\u001b[39m.\u001b[39;49mdate[\u001b[39m0\u001b[39;49m][:\u001b[39m4\u001b[39;49m]\u001b[39m}\u001b[39;00m\u001b[39m.\u001b[39m\u001b[39m{\u001b[39;00mdf\u001b[39m.\u001b[39mdate[\u001b[39m0\u001b[39m][\u001b[39m4\u001b[39m:\u001b[39m6\u001b[39m]\u001b[39m}\u001b[39;00m\u001b[39m.\u001b[39m\u001b[39m{\u001b[39;00mdf\u001b[39m.\u001b[39mdate[\u001b[39m0\u001b[39m][\u001b[39m6\u001b[39m:]\u001b[39m}\u001b[39;00m\u001b[39m'\u001b[39m\n",
      "\u001b[1;31mIndexError\u001b[0m: invalid index to scalar variable."
     ]
    }
   ],
   "source": [
    "formatted_date = f'{df.date[0][:4]}.{df.date[0][4:6]}.{df.date[0][6:]}'"
   ]
  },
  {
   "cell_type": "code",
   "execution_count": 79,
   "metadata": {},
   "outputs": [],
   "source": [
    "df.to_csv('data/check5.csv', index=False)\n",
    "# ch = pd.read_csv('data/check1.csv', dtype=str)"
   ]
  }
 ],
 "metadata": {
  "kernelspec": {
   "display_name": "base",
   "language": "python",
   "name": "python3"
  },
  "language_info": {
   "codemirror_mode": {
    "name": "ipython",
    "version": 3
   },
   "file_extension": ".py",
   "mimetype": "text/x-python",
   "name": "python",
   "nbconvert_exporter": "python",
   "pygments_lexer": "ipython3",
   "version": "3.10.9"
  },
  "orig_nbformat": 4
 },
 "nbformat": 4,
 "nbformat_minor": 2
}
