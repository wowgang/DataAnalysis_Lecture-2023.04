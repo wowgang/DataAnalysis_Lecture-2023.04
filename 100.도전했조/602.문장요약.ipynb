{
 "cells": [
  {
   "cell_type": "code",
   "execution_count": 1,
   "metadata": {},
   "outputs": [
    {
     "name": "stderr",
     "output_type": "stream",
     "text": [
      "[nltk_data] Downloading package stopwords to\n",
      "[nltk_data]     C:\\Users\\YONSAI\\AppData\\Roaming\\nltk_data...\n",
      "[nltk_data]   Package stopwords is already up-to-date!\n"
     ]
    },
    {
     "data": {
      "text/plain": [
       "True"
      ]
     },
     "execution_count": 1,
     "metadata": {},
     "output_type": "execute_result"
    }
   ],
   "source": [
    "import nltk\n",
    "nltk.download('stopwords')"
   ]
  },
  {
   "cell_type": "code",
   "execution_count": 2,
   "metadata": {},
   "outputs": [
    {
     "name": "stdout",
     "output_type": "stream",
     "text": [
      "['NTLK는', '한국어', '불용어', '데이터를', '제공하지', '않습니다', '.', '왜냐하면', '토큰화', '단계에서', '필요없는', '조사', ',', '접속사를', '제거하면', '되기', '때문입니다', '.'] \n",
      "\n",
      "['NTLK는', '한국어', '불용어', '데이터를', '제공하지', '않습니다', '.', '토큰화', '단계에서', '필요없는', '조사', ',', '접속사를', '제거하면', '되기', '때문입니다', '.']\n"
     ]
    }
   ],
   "source": [
    "from nltk.corpus import stopwords \n",
    "from nltk.tokenize import word_tokenize\n",
    "example = \"NTLK는 한국어 불용어 데이터를 제공하지 않습니다. 왜냐하면 토큰화 단계에서 필요없는 조사, 접속사를 제거하면 되기 때문입니다.\"\n",
    "stop_words = \"아 휴 아이구 아이쿠 아이고 어 나 우리 저희 따라 의해 을 를 에 의 가 으로 로 에게 뿐이다 의거하여 근거하여 입각하여 기준으로 예하면 예를 들면 예를 들자면 저 소인 소생 저희 지말고 하지마 하지마라 다른 물론 또한 그리고 비길수 없다 해서는 안된다 뿐만 아니라 만이 아니다 만은 아니다 막론하고 관계없이 그치지 않다 그러나 그런데 하지만 든간에 논하지 않다 따지지 않다 설사 비록 더라도 아니면 만 못하다 하는 편이 낫다 불문하고 향하여 향해서 향하다 쪽으로 틈타 이용하여 타다 오르다 제외하고 이 외에 이 밖에 하여야 비로소 한다면 몰라도 외에도 이곳 여기 부터 기점으로 따라서 할 생각이다 하려고하다 이리하여 그리하여 그렇게 함으로써 하지만 일때 할때 앞에서 중에서 보는데서 으로써 로써 까지 해야한다 일것이다 반드시 할줄알다 할수있다 할수있어 임에 틀림없다 한다면 등 등등 제 겨우 단지 다만 할뿐 딩동 댕그 대해서 대하여 대하면 훨씬 얼마나 얼마만큼 얼마큼 남짓 여 얼마간 약간 다소 좀 조금 다수 몇 얼마 지만 하물며 또한 그러나 그렇지만 하지만 이외에도 대해 말하자면 뿐이다 다음에 반대로 반대로 말하자면 이와 반대로 바꾸어서 말하면 바꾸어서 한다면 만약 그렇지않으면 까악 툭 딱 삐걱거리다 보드득 비걱거리다 꽈당 응당 해야한다 에 가서 각 각각 여러분 각종 각자 제각기 하도록하다 와 과 그러므로 그래서 고로 한 까닭에 하기 때문에 거니와 이지만 대하여 관하여 관한 과연 실로 아니나다를가 생각한대로 진짜로 한적이있다 하곤하였다 하 하하 허허 아하 거바 와 오 왜 어째서 무엇때문에 어찌 하겠는가 무슨 어디 어느곳 더군다나 하물며 더욱이는 어느때 언제 야 이봐 어이 여보시오 흐흐 흥 휴 헉헉 헐떡헐떡 영차 여차 어기여차 끙끙 아야 앗 아야 콸콸 졸졸 좍좍 뚝뚝 주룩주룩 솨 우르르 그래도 또 그리고 바꾸어말하면 바꾸어말하자면 혹은 혹시 답다 및 그에 따르는 때가 되어 즉 지든지 설령 가령 하더라도 할지라도 일지라도 지든지 몇 거의 하마터면 인젠 이젠 된바에야 된이상 만큼 어찌됏든 그위에 게다가 점에서 보아 비추어 보아 고려하면 하게될것이다 일것이다 비교적 좀 보다더 비하면 시키다 하게하다 할만하다 의해서 연이서 이어서 잇따라 뒤따라 뒤이어 결국 의지하여 기대여 통하여 자마자 더욱더 불구하고 얼마든지 마음대로 주저하지 않고 곧 즉시 바로 당장 하자마자 밖에 안된다 하면된다 그래 그렇지 요컨대 다시 말하자면 바꿔 말하면 즉 구체적으로 말하자면 시작하여 시초에 이상 허 헉 허걱 바와같이 해도좋다 해도된다 게다가 더구나 하물며 와르르 팍 퍽 펄렁 동안 이래 하고있었다 이었다 에서 로부터 까지 예하면 했어요 해요 함께 같이 더불어 마저 마저도 양자 모두 습니다 가까스로 하려고하다 즈음하여 다른 다른 방면으로 해봐요 습니까 했어요 말할것도 없고 무릎쓰고 개의치않고 하는것만 못하다 하는것이 낫다 매 매번 들 모 어느것 어느 로써 갖고말하자면 어디 어느쪽 어느것 어느해 어느 년도 라 해도 언젠가 어떤것 어느것 저기 저쪽 저것 그때 그럼 그러면 요만한걸 그래 그때 저것만큼 그저 이르기까지 할 줄 안다 할 힘이 있다 너 너희 당신 어찌 설마 차라리 할지언정 할지라도 할망정 할지언정 구토하다 게우다 토하다 메쓰겁다 옆사람 퉤 쳇 의거하여 근거하여 의해 따라 힘입어 그 다음 버금 두번째로 기타 첫번째로 나머지는 그중에서 견지에서 형식으로 쓰여 입장에서 위해서 단지 의해되다 하도록시키다 뿐만아니라 반대로 전후 전자 앞의것 잠시 잠깐 하면서 그렇지만 다음에 그러한즉 그런즉 남들 아무거나 어찌하든지 같다 비슷하다 예컨대 이럴정도로 어떻게 만약 만일 위에서 서술한바와같이 인 듯하다 하지 않는다면 만약에 무엇 무슨 어느 어떤 아래윗 조차 한데 그럼에도 불구하고 여전히 심지어 까지도 조차도 하지 않도록 않기 위하여 때 시각 무렵 시간 동안 어때 어떠한 하여금 네 예 우선 누구 누가 알겠는가 아무도 줄은모른다 줄은 몰랏다 하는 김에 겸사겸사 하는바 그런 까닭에 한 이유는 그러니 그러니까 때문에 그 너희 그들 너희들 타인 것 것들 너 위하여 공동으로 동시에 하기 위하여 어찌하여 무엇때문에 붕붕 윙윙 나 우리 엉엉 휘익 윙윙 오호 아하 어쨋든 만 못하다 하기보다는 차라리 하는 편이 낫다 흐흐 놀라다 상대적으로 말하자면 마치 아니라면 쉿 그렇지 않으면 그렇지 않다면 안 그러면 아니었다면 하든지 아니면 이라면 좋아 알았어 하는것도 그만이다 어쩔수 없다 하나 일 일반적으로 일단 한켠으로는 오자마자 이렇게되면 이와같다면 전부 한마디 한항목 근거로 하기에 아울러 하지 않도록 않기 위해서 이르기까지 이 되다 로 인하여 까닭으로 이유만으로 이로 인하여 그래서 이 때문에 그러므로 그런 까닭에 알 수 있다 결론을 낼 수 있다 으로 인하여 있다 어떤것 관계가 있다 관련이 있다 연관되다 어떤것들 에 대해 이리하여 그리하여 여부 하기보다는 하느니 하면 할수록 운운 이러이러하다 하구나 하도다 다시말하면 다음으로 에 있다 에 달려 있다 우리 우리들 오히려 하기는한데 어떻게 어떻해 어찌됏어 어때 어째서 본대로 자 이 이쪽 여기 이것 이번 이렇게말하자면 이런 이러한 이와 같은 요만큼 요만한 것 얼마 안 되는 것 이만큼 이 정도의 이렇게 많은 것 이와 같다 이때 이렇구나 것과 같이 끼익 삐걱 따위 와 같은 사람들 부류의 사람들 왜냐하면 중의하나 오직 오로지 에 한하다 하기만 하면 도착하다 까지 미치다 도달하다 정도에 이르다 할 지경이다 결과에 이르다 관해서는 여러분 하고 있다 한 후 혼자 자기 자기집 자신 우에 종합한것과같이 총적으로 보면 총적으로 말하면 총적으로 대로 하다 으로서 참 그만이다 할 따름이다 쿵 탕탕 쾅쾅 둥둥 봐 봐라 아이야 아니 와아 응 아이 참나 년 월 일 령 영 일 이 삼 사 오 육 륙 칠 팔 구 이천육 이천칠 이천팔 이천구 하나 둘 셋 넷 다섯 여섯 일곱 여덟 아홉 령 영 이 있 하 것 들 그 되 수 이 보 않 없 나 사람 주 아니 등 같 우리 때 년 가 한 지 대하 오 말 일 그렇 위하 때문 그것 두 말하 알 그러나 받 못하 일 그런 또 문제 더 사회 많 그리고 좋 크 따르 중 나오 가지 씨 시키 만들 지금 생각하 그러 속 하나 집 살 모르 적 월 데 자신 안 어떤 내 내 경우 명 생각 시간 그녀 다시 이런 앞 보이 번 나 다른 어떻 여자 개 전 들 사실 이렇 점 싶 말 정도 좀 원 잘 통하 놓 \"\n",
    "\n",
    "word_tokens = word_tokenize(example)\n",
    "stop_words=stop_words.split(' ')\n",
    "\n",
    "result = [] \n",
    "for w in word_tokens: \n",
    "    if w not in stop_words: \n",
    "        result.append(w) \n",
    "\n",
    "print(word_tokens,'\\n') \n",
    "print(result)"
   ]
  },
  {
   "cell_type": "code",
   "execution_count": 9,
   "metadata": {},
   "outputs": [
    {
     "data": {
      "text/html": [
       "<div>\n",
       "<style scoped>\n",
       "    .dataframe tbody tr th:only-of-type {\n",
       "        vertical-align: middle;\n",
       "    }\n",
       "\n",
       "    .dataframe tbody tr th {\n",
       "        vertical-align: top;\n",
       "    }\n",
       "\n",
       "    .dataframe thead th {\n",
       "        text-align: right;\n",
       "    }\n",
       "</style>\n",
       "<table border=\"1\" class=\"dataframe\">\n",
       "  <thead>\n",
       "    <tr style=\"text-align: right;\">\n",
       "      <th></th>\n",
       "      <th>songId</th>\n",
       "      <th>title</th>\n",
       "      <th>artist</th>\n",
       "      <th>genre</th>\n",
       "      <th>album</th>\n",
       "      <th>lyricist</th>\n",
       "      <th>composer</th>\n",
       "      <th>date</th>\n",
       "      <th>img</th>\n",
       "      <th>comment</th>\n",
       "      <th>like</th>\n",
       "      <th>lyric</th>\n",
       "      <th>plylstSeq</th>\n",
       "      <th>total</th>\n",
       "    </tr>\n",
       "  </thead>\n",
       "  <tbody>\n",
       "    <tr>\n",
       "      <th>0</th>\n",
       "      <td>418168</td>\n",
       "      <td>희재</td>\n",
       "      <td>성시경</td>\n",
       "      <td>발라드 국내영화</td>\n",
       "      <td>국화꽃 향기 OST</td>\n",
       "      <td>양재선</td>\n",
       "      <td>MGR</td>\n",
       "      <td>20030201</td>\n",
       "      <td>https://cdnimg.melon.co.kr/cm/album/images/000...</td>\n",
       "      <td>332</td>\n",
       "      <td>138267</td>\n",
       "      <td>햇살은 우릴 위해 내리고 \\n바람도 서롤 감싸게 했죠 \\n우리 웃음속에 계절은 오고...</td>\n",
       "      <td>445029956 411111859</td>\n",
       "      <td>햇살 우릴 위해 내리다 바람 서 롤 감싸다 하다 우리 웃음 속 계절 오다 또 가다 ...</td>\n",
       "    </tr>\n",
       "  </tbody>\n",
       "</table>\n",
       "</div>"
      ],
      "text/plain": [
       "   songId title artist     genre       album lyricist composer      date   \n",
       "0  418168    희재    성시경  발라드 국내영화  국화꽃 향기 OST      양재선      MGR  20030201  \\\n",
       "\n",
       "                                                 img  comment    like   \n",
       "0  https://cdnimg.melon.co.kr/cm/album/images/000...      332  138267  \\\n",
       "\n",
       "                                               lyric            plylstSeq   \n",
       "0  햇살은 우릴 위해 내리고 \\n바람도 서롤 감싸게 했죠 \\n우리 웃음속에 계절은 오고...  445029956 411111859  \\\n",
       "\n",
       "                                               total  \n",
       "0  햇살 우릴 위해 내리다 바람 서 롤 감싸다 하다 우리 웃음 속 계절 오다 또 가다 ...  "
      ]
     },
     "execution_count": 9,
     "metadata": {},
     "output_type": "execute_result"
    }
   ],
   "source": [
    "import pandas as pd\n",
    "df = pd.read_csv('data/melon_song_v2.csv')\n",
    "df.head(1)"
   ]
  },
  {
   "cell_type": "code",
   "execution_count": 10,
   "metadata": {},
   "outputs": [
    {
     "data": {
      "text/plain": [
       "0       햇살은 우릴 위해 내리고 \\n바람도 서롤 감싸게 했죠 \\n우리 웃음속에 계절은 오고...\n",
       "1       하나만 알고 둘은\\n잘 모르는 사람입니다\\n하루는 비틀거리고\\n하루는 뒤뚱거리고\\n...\n",
       "2       서쪽하늘로 노을은 지고  \\n이젠 슬픔이 돼버린 그대를  \\n다시 부를수 없을 것 ...\n",
       "3       누군가를 다시 만난다면\\n여전히 나는 너를\\n누군가를 다시 사랑하면\\n영원히 나는 ...\n",
       "4       말해야 하는데 네 앞에 서면\\n아무 말 못 하는 내가 미워져\\n용기를 내야 해 후회...\n",
       "                              ...                        \n",
       "6242    그대 곁에 있으면 아무 생각 안 나요\\n사소한 고민도 잊어버리죠\\n그대 숨소리 맞춰...\n",
       "6243    내가 가는 길이 험하고 멀지라도 그대 함께 간다면 좋겠네 \\n우리가는 길에 아침햇살...\n",
       "6244    또 하루 멀어져 간다\\n내뿜은 담배연기처럼\\n작기만한 내 기억속에\\n무얼 채워 살고...\n",
       "6245    사랑도 이별도 오늘은 잠시 미뤄보자\\n불안한 청춘도 내일로 잠시 미뤄두자\\n떠나버린...\n",
       "6246    It's 6 o'clock\\n너와 나는 시간이 빨라서\\n시간이 달라서\\n어쩔 수 없...\n",
       "Name: lyric, Length: 6247, dtype: object"
      ]
     },
     "execution_count": 10,
     "metadata": {},
     "output_type": "execute_result"
    }
   ],
   "source": [
    "df['lyric'] "
   ]
  },
  {
   "cell_type": "code",
   "execution_count": 17,
   "metadata": {},
   "outputs": [],
   "source": [
    "ga = df.head(3)"
   ]
  },
  {
   "cell_type": "code",
   "execution_count": 11,
   "metadata": {},
   "outputs": [
    {
     "data": {
      "text/plain": [
       "0    햇살은 우릴 위해 내리고 \\n바람도 서롤 감싸게 했죠 \\n우리 웃음속에 계절은 오고...\n",
       "1    하나만 알고 둘은\\n잘 모르는 사람입니다\\n하루는 비틀거리고\\n하루는 뒤뚱거리고\\n...\n",
       "2    서쪽하늘로 노을은 지고  \\n이젠 슬픔이 돼버린 그대를  \\n다시 부를수 없을 것 ...\n",
       "Name: lyric, dtype: object"
      ]
     },
     "execution_count": 11,
     "metadata": {},
     "output_type": "execute_result"
    }
   ],
   "source": [
    "nana = df['lyric'].head(3)\n",
    "nana"
   ]
  },
  {
   "cell_type": "code",
   "execution_count": 14,
   "metadata": {},
   "outputs": [],
   "source": [
    "ly_s = []\n",
    "for i in nana:\n",
    "    ly_s.append(i)\n",
    "ly_s[0]"
   ]
  },
  {
   "cell_type": "code",
   "execution_count": 18,
   "metadata": {},
   "outputs": [
    {
     "name": "stderr",
     "output_type": "stream",
     "text": [
      "C:\\Users\\YONSAI\\AppData\\Local\\Temp\\ipykernel_8376\\346659908.py:1: SettingWithCopyWarning: \n",
      "A value is trying to be set on a copy of a slice from a DataFrame.\n",
      "Try using .loc[row_indexer,col_indexer] = value instead\n",
      "\n",
      "See the caveats in the documentation: https://pandas.pydata.org/pandas-docs/stable/user_guide/indexing.html#returning-a-view-versus-a-copy\n",
      "  ga['cu'] = [i for i in nana]\n"
     ]
    },
    {
     "data": {
      "text/html": [
       "<div>\n",
       "<style scoped>\n",
       "    .dataframe tbody tr th:only-of-type {\n",
       "        vertical-align: middle;\n",
       "    }\n",
       "\n",
       "    .dataframe tbody tr th {\n",
       "        vertical-align: top;\n",
       "    }\n",
       "\n",
       "    .dataframe thead th {\n",
       "        text-align: right;\n",
       "    }\n",
       "</style>\n",
       "<table border=\"1\" class=\"dataframe\">\n",
       "  <thead>\n",
       "    <tr style=\"text-align: right;\">\n",
       "      <th></th>\n",
       "      <th>songId</th>\n",
       "      <th>title</th>\n",
       "      <th>artist</th>\n",
       "      <th>genre</th>\n",
       "      <th>album</th>\n",
       "      <th>lyricist</th>\n",
       "      <th>composer</th>\n",
       "      <th>date</th>\n",
       "      <th>img</th>\n",
       "      <th>comment</th>\n",
       "      <th>like</th>\n",
       "      <th>lyric</th>\n",
       "      <th>plylstSeq</th>\n",
       "      <th>total</th>\n",
       "      <th>cu</th>\n",
       "    </tr>\n",
       "  </thead>\n",
       "  <tbody>\n",
       "    <tr>\n",
       "      <th>0</th>\n",
       "      <td>418168</td>\n",
       "      <td>희재</td>\n",
       "      <td>성시경</td>\n",
       "      <td>발라드 국내영화</td>\n",
       "      <td>국화꽃 향기 OST</td>\n",
       "      <td>양재선</td>\n",
       "      <td>MGR</td>\n",
       "      <td>20030201</td>\n",
       "      <td>https://cdnimg.melon.co.kr/cm/album/images/000...</td>\n",
       "      <td>332</td>\n",
       "      <td>138267</td>\n",
       "      <td>햇살은 우릴 위해 내리고 \\n바람도 서롤 감싸게 했죠 \\n우리 웃음속에 계절은 오고...</td>\n",
       "      <td>445029956 411111859</td>\n",
       "      <td>햇살 우릴 위해 내리다 바람 서 롤 감싸다 하다 우리 웃음 속 계절 오다 또 가다 ...</td>\n",
       "      <td>햇살은 우릴 위해 내리고 \\n바람도 서롤 감싸게 했죠 \\n우리 웃음속에 계절은 오고...</td>\n",
       "    </tr>\n",
       "    <tr>\n",
       "      <th>1</th>\n",
       "      <td>35609035</td>\n",
       "      <td>인생은 뷰티풀</td>\n",
       "      <td>김호중</td>\n",
       "      <td>발라드 국내영화</td>\n",
       "      <td>인생은 뷰티풀: 비타돌체</td>\n",
       "      <td>김호중</td>\n",
       "      <td>김호중</td>\n",
       "      <td>20220907</td>\n",
       "      <td>https://cdnimg.melon.co.kr/cm2/album/images/11...</td>\n",
       "      <td>197</td>\n",
       "      <td>17322</td>\n",
       "      <td>하나만 알고 둘은\\n잘 모르는 사람입니다\\n하루는 비틀거리고\\n하루는 뒤뚱거리고\\n...</td>\n",
       "      <td>457536944 474137187</td>\n",
       "      <td>하나 만 고 둘 자다 모르다 사람 이다 하루 비틀 거리 고 하루 뒤뚱거리 고 월요일...</td>\n",
       "      <td>하나만 알고 둘은\\n잘 모르는 사람입니다\\n하루는 비틀거리고\\n하루는 뒤뚱거리고\\n...</td>\n",
       "    </tr>\n",
       "    <tr>\n",
       "      <th>2</th>\n",
       "      <td>1046278</td>\n",
       "      <td>서쪽 하늘</td>\n",
       "      <td>이승철</td>\n",
       "      <td>발라드 국내영화</td>\n",
       "      <td>청연 OST</td>\n",
       "      <td>이승철</td>\n",
       "      <td>윤명선</td>\n",
       "      <td>20051220</td>\n",
       "      <td>https://cdnimg.melon.co.kr/cm/album/images/003...</td>\n",
       "      <td>84</td>\n",
       "      <td>48109</td>\n",
       "      <td>서쪽하늘로 노을은 지고  \\n이젠 슬픔이 돼버린 그대를  \\n다시 부를수 없을 것 ...</td>\n",
       "      <td>426571097 405285190</td>\n",
       "      <td>서쪽하늘 노을 지고 젠 슬픔 돼다 버리다 그대 다시 부르다 없다 같다 또 한번 불다...</td>\n",
       "      <td>서쪽하늘로 노을은 지고  \\n이젠 슬픔이 돼버린 그대를  \\n다시 부를수 없을 것 ...</td>\n",
       "    </tr>\n",
       "  </tbody>\n",
       "</table>\n",
       "</div>"
      ],
      "text/plain": [
       "     songId    title artist     genre          album lyricist composer   \n",
       "0    418168       희재    성시경  발라드 국내영화     국화꽃 향기 OST      양재선      MGR  \\\n",
       "1  35609035  인생은 뷰티풀    김호중  발라드 국내영화  인생은 뷰티풀: 비타돌체      김호중      김호중   \n",
       "2   1046278    서쪽 하늘    이승철  발라드 국내영화         청연 OST      이승철      윤명선   \n",
       "\n",
       "       date                                                img  comment   \n",
       "0  20030201  https://cdnimg.melon.co.kr/cm/album/images/000...      332  \\\n",
       "1  20220907  https://cdnimg.melon.co.kr/cm2/album/images/11...      197   \n",
       "2  20051220  https://cdnimg.melon.co.kr/cm/album/images/003...       84   \n",
       "\n",
       "     like                                              lyric   \n",
       "0  138267  햇살은 우릴 위해 내리고 \\n바람도 서롤 감싸게 했죠 \\n우리 웃음속에 계절은 오고...  \\\n",
       "1   17322  하나만 알고 둘은\\n잘 모르는 사람입니다\\n하루는 비틀거리고\\n하루는 뒤뚱거리고\\n...   \n",
       "2   48109  서쪽하늘로 노을은 지고  \\n이젠 슬픔이 돼버린 그대를  \\n다시 부를수 없을 것 ...   \n",
       "\n",
       "             plylstSeq                                              total   \n",
       "0  445029956 411111859  햇살 우릴 위해 내리다 바람 서 롤 감싸다 하다 우리 웃음 속 계절 오다 또 가다 ...  \\\n",
       "1  457536944 474137187  하나 만 고 둘 자다 모르다 사람 이다 하루 비틀 거리 고 하루 뒤뚱거리 고 월요일...   \n",
       "2  426571097 405285190  서쪽하늘 노을 지고 젠 슬픔 돼다 버리다 그대 다시 부르다 없다 같다 또 한번 불다...   \n",
       "\n",
       "                                                  cu  \n",
       "0  햇살은 우릴 위해 내리고 \\n바람도 서롤 감싸게 했죠 \\n우리 웃음속에 계절은 오고...  \n",
       "1  하나만 알고 둘은\\n잘 모르는 사람입니다\\n하루는 비틀거리고\\n하루는 뒤뚱거리고\\n...  \n",
       "2  서쪽하늘로 노을은 지고  \\n이젠 슬픔이 돼버린 그대를  \\n다시 부를수 없을 것 ...  "
      ]
     },
     "execution_count": 18,
     "metadata": {},
     "output_type": "execute_result"
    }
   ],
   "source": [
    "ga['cu'] = [i for i in nana]\n",
    "ga\n"
   ]
  },
  {
   "cell_type": "code",
   "execution_count": 13,
   "metadata": {},
   "outputs": [],
   "source": [
    "import nltk\n",
    "\n",
    "def summarize_sentence(sentence):\n",
    "    # Tokenize the sentence.\n",
    "    tokens = nltk.word_tokenize(sentence)\n",
    "\n",
    "    # Remove stop words.\n",
    "    stop_words = []  # Add appropriate Korean stop words\n",
    "    tokens = [word for word in tokens if word not in stop_words]\n",
    "\n",
    "    # Stemming.  # stem =lowercase소문자 어간추출 (정해진 규칙만 보고 단어의 어미를 자르는 어림짐작의 작업)\n",
    "    stemmer = nltk.stem.PorterStemmer()\n",
    "    tokens = [stemmer.stem(word) for word in tokens]\n",
    "\n",
    "    # Lemmatization. 기본 사전형 단어 n.lemmatize('dies', 'v') =>'die'\n",
    "    lemmatizer = nltk.stem.WordNetLemmatizer()\n",
    "    tokens = [lemmatizer.lemmatize(word) for word in tokens]\n",
    "\n",
    "    # Calculate the frequency of each word. 단어의 빈도계산\n",
    "    frequencies = nltk.FreqDist(tokens)\n",
    "\n",
    "    # Select the top k most frequent words.\n",
    "    k = 5\n",
    "    most_frequent_words = frequencies.most_common(k)\n",
    "\n",
    "    # Create a summary sentence from the top k most frequent words.\n",
    "    summary_words = [word for word, _ in most_frequent_words]\n",
    "    summary_sentence = \" \".join(summary_words)\n",
    "\n",
    "    return summary_sentence"
   ]
  },
  {
   "cell_type": "code",
   "execution_count": 6,
   "metadata": {},
   "outputs": [
    {
     "name": "stdout",
     "output_type": "stream",
     "text": [
      "너 같은 듯 아닌 요즘\n"
     ]
    }
   ],
   "source": [
    "a = summarize_sentence('''가끔씩 나도 모르게 짜증이나 \n",
    "너를 향한 맘은 변하지 않았는데\n",
    "혹시 내가 이상한 걸까\n",
    "혼자 힘들게 지내고 있었어\n",
    "텅 빈 방 혼자 멍하니 뒤척이다\n",
    "티비에는 어제 본 것 같은 드라마\n",
    "잠이 들 때까지 한번도\n",
    "울리지 않는 핸드폰을 들고\n",
    "요즘 따라 내꺼인 듯\n",
    "내꺼 아닌 내꺼 같은 너\n",
    "니꺼인 듯 니꺼 아닌\n",
    "니꺼 같은 나\n",
    "이게 무슨 사이인 건지 사실\n",
    "헷갈려 무뚝뚝하게 굴지마\n",
    "연인인 듯 연인 아닌\n",
    "연인 같은 너 나만 볼 듯\n",
    "애매하게 날 대하는 너\n",
    "때로는 친구 같다는 말이\n",
    "괜히 요즘 난 듣기 싫어 졌어\n",
    "매일 아침 너의 문자에\n",
    "눈을 뜨고 하루 끝에는\n",
    "니 목소리에 잠들고 파\n",
    "주말에는 많은 사람 속에서\n",
    "보란 듯이 널 끌어 안고 싶어\n",
    "요즘 따라 내꺼인 듯\n",
    "내꺼 아닌 내꺼 같은 너\n",
    "니꺼인 듯 니꺼 아닌\n",
    "니꺼 같은 나\n",
    "때로는 친구 같다는 말이\n",
    "괜히 요즘 난 듣기 싫어 졌어\n",
    "너 요즘 너 별로야 너 별로야\n",
    "나 근데 난 너뿐이야\n",
    "난 너뿐이야\n",
    "분명하게 내게 선을 그어줘\n",
    "자꾸 뒤로 빼지 말고\n",
    "날 사랑한다 고백해 줘\n",
    "여전히 친구인척 또 연인인척\n",
    "행동하는 모습을 전부다 돌이켜\n",
    "생각 할 수록 너의 진심이\n",
    "더 궁금해지는 걸 girl you’re so\n",
    "ambiguous 난 못해\n",
    "무엇도 아니 어쩌면\n",
    "기적을 바라지 lotto\n",
    "확실한 표현을 원하지만\n",
    "너의 미소 띈 표정에\n",
    "잊어버리지 난\n",
    "요즘 따라 내꺼인 듯\n",
    "내꺼 아닌 내꺼 같은 너\n",
    "니꺼인 듯 니꺼 아닌\n",
    "니꺼 같은 나\n",
    "순진한 척 웃지만 말고\n",
    "그만 좀 해\n",
    "너 솔직하게 좀 굴어봐\n",
    "니 맘 속에 날 놔두고\n",
    "한 눈 팔지 마 너야말로\n",
    "다 알면서 딴청 피우지 마\n",
    "피곤하게 힘 빼지 말고\n",
    "어서 말해줘 사랑한단 말이야''')\n",
    "print(a)"
   ]
  },
  {
   "cell_type": "code",
   "execution_count": 7,
   "metadata": {},
   "outputs": [],
   "source": [
    "a = '''\"I found the way to\\nlet you leave \\nI never really had\\nit coming \\nI can't be in the \\nsight of you \\nI want you to stay \\naway from my heart \\n너의 집 앞으로 가고 있어 \\n빨리 전화 받어 \\n내가 아파서 죽을 것 같거든 \\n너 못보면 내가 진짜 \\n죽을 것 같애 \\n전화 좀 받아줘 1분만 \\n내 말좀 들어줘봐 잠깐만 \\n죽을 것 같애서 \\n난 숨도 못쉬어 \\n나좀 살자 제발 한번만 \\n너의 집 앞에서 네시간째 \\n찢어지는 내 맘 넌 모른채 \\n웃고있니 행복하니 \\n모든 추억과 날 버린채 \\n아프고 숨이 막히는 침묵 \\n어느 새 내 눈물을 \\n가려버린 빗물 \\n머리에서 발끝까지\\n소름이 끼칠 듯 \\n내 피가 솟구치는 기분 \\n중독된것처럼 \\n하루종일 온통 고통스런 \\nBut she's gone \\n바라보는 너의 시선 그리워 \\nThat's why sing \\nthis song \\n제발 지옥같은 여기서\\n날 꺼내줘 \\n이게 꿈이라면 어서 날 깨워줘 \\n모든것이 다 거짓말이라고 해줘 \\n내게 말해줘 말해줘 \\n나 살 수 있게 \\nI found the way to\\nlet you leave \\nI never really had\\nit coming \\nI can't be in the \\nsight of you \\nI want you to stay \\naway from my heart \\nEvery day and night\\n난 술에 만취 \\n마음이 안심하는 것도 잠시 \\n시간이 약이면 왜 낫질 않지 \\n이럴 순 없어 이건 사랑의 반칙 \\n미안해 난 참 욕심이 많아 \\n수면제도 나를 돕지를 않아 \\n밤낮이 바껴 니 생각마다 \\n이리저리 돌아다녀\\n몸부림 치나봐 \\n하늘이 내게 내린 벌인가 \\n아님 그리 쉽게 나를 버릴까 \\n억지로 누군가를 사랑하며 \\n또 살아갈까 \\n별들 사이를 누비고 \\n내 맘을 노래로 채우고 \\nDon't leave let me freez \\n날 좀 도와줘 Help me please \\n제발 지옥같은 여기서 \\n날 꺼내줘 \\n이게 꿈이라면 어서 \\n날 깨워줘 \\n모든것이 다 거짓말이라고 해줘 \\n내게 말해줘 말해줘 \\n나 살 수 있게 \\nI found the way to\\nlet you leave \\nI never really had\\nit coming \\nI can't be in the \\nsight of you \\nI want you to stay \\naway from my heart \\nI don't want you to leave \\n나를 두고 가지 마 \\n정말 끝이라고 내게 말하지 마 \\n단 하루조차도 너 없인\\n살 수 없어 \\nI want you back \\nwant you back in to \\nmy life \\nI found the way to\\nlet you leave \\nI never really had\\nit coming \\nI can't be in the \\nsight of you \\nI want you to stay \\naway from my heart \\n하늘이 내게 내린 벌인가 \\n아님 그리 쉽게 나를 버릴까 \\n억지로 누군가를 사랑하며 \\n또 살아갈까 \\n별들 사이를 누비고 \\n내 맘을 노래로 채우고 \\nDon't leave let me freez \\n날 좀 도와줘 Help me please \\n죽을 때까지 기다릴거야 \\n니가 아무리 뭐라 그래도 \\n난 기다릴거야 \\n내일 다시 올게 \\n내일 다시 올게\"t'''\n",
    "b = a.split('\\n')"
   ]
  },
  {
   "cell_type": "code",
   "execution_count": 8,
   "metadata": {},
   "outputs": [
    {
     "name": "stdout",
     "output_type": "stream",
     "text": [
      "let you leave \n",
      "I never really had\n",
      "it coming \n",
      "I can't be in the \n"
     ]
    }
   ],
   "source": [
    "from collections import Counter\n",
    "\n",
    "sentence_counts = Counter(b)  # 문장별 빈도 계산\n",
    "\n",
    "most_common_sentences = sentence_counts.most_common(4)  # 가장 빈도가 높은 문장 추출\n",
    "\n",
    "for sentence, count in most_common_sentences:\n",
    "    print(sentence)"
   ]
  },
  {
   "cell_type": "code",
   "execution_count": 25,
   "metadata": {},
   "outputs": [
    {
     "data": {
      "text/plain": [
       "'햇살은 우릴 위해 내리고 \\n바람도 서롤 감싸게 했죠 \\n우리 웃음속에 계절은 오고 \\n또 갔죠 \\n바람에 흔들리는 머릿결 \\n내게 불어오는 그대 향기 \\n예쁜 두눈도 웃음 소리도 \\n모두가 내 것이었죠\\n이런 사랑 이런 행복 쉽다 \\n했었죠 이런 웃음 \\n이런 축복 내게 쉽게 올리 없죠 \\n눈물 조차 울음조차 닦지 \\n못한 나 \\n정말로 울면 내가 그댈 보내 \\n준 것 같아서 \\n그대 떠나가는 그 순간도 \\n나를 걱정했었나요 \\n무엇도 해줄 수 없는 내 맘\\n앞에서 \\n그대 나를 떠나 간다해도 \\n난 그댈 보낸적 없죠 \\n여전히 그댄 나를 살게 하는 \\n이율테니 \\n이런 사랑 이런 행복 쉽다 했었죠 \\n이런 웃음 이런 축복 내게 \\n쉽게 올리 없죠 \\n눈물 조차 울음 조차 닦지 못한 나 \\n정말로 울면 내가 그댈 보내 \\n준 것 같아서 \\n그대 떠나가는 그 순간도 \\n나를 걱정했었나요 \\n무엇도 해줄 수 없는 내 맘앞에서 \\n그대 나를 떠나 간다해도 난 \\n그댈 보낸적 없죠 \\n기다림으로 다시 시작일테니 \\n얼마나 사랑했는지 얼마나 \\n또 울었는지 \\n그대여 한순간 조차 잊지 말아요 \\n거기 떠나간 그곳에서 날\\n기억하며 기다려요\\n하루씩 그대에게 다가가는 \\n나 일테니'"
      ]
     },
     "execution_count": 25,
     "metadata": {},
     "output_type": "execute_result"
    }
   ],
   "source": [
    "nana[0]"
   ]
  },
  {
   "cell_type": "code",
   "execution_count": 34,
   "metadata": {},
   "outputs": [
    {
     "data": {
      "text/plain": [
       "'준 것 같아서 '"
      ]
     },
     "execution_count": 34,
     "metadata": {},
     "output_type": "execute_result"
    }
   ],
   "source": [
    "dd = []\n",
    "for i in nana:\n",
    "    ego = i.split('\\n')\n",
    "    sentence_counts = Counter(ego)\n",
    "    most_common_sentences = sentence_counts.most_common(10)\n",
    "    for sentence, count in most_common_sentences:\n",
    "        dd.append(sentence)\n",
    "dd[1]"
   ]
  }
 ],
 "metadata": {
  "kernelspec": {
   "display_name": "base",
   "language": "python",
   "name": "python3"
  },
  "language_info": {
   "codemirror_mode": {
    "name": "ipython",
    "version": 3
   },
   "file_extension": ".py",
   "mimetype": "text/x-python",
   "name": "python",
   "nbconvert_exporter": "python",
   "pygments_lexer": "ipython3",
   "version": "3.10.9"
  },
  "orig_nbformat": 4
 },
 "nbformat": 4,
 "nbformat_minor": 2
}
