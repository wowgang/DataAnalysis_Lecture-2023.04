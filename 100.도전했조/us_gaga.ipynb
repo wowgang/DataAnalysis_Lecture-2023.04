{
 "cells": [
  {
   "cell_type": "code",
   "execution_count": 1,
   "metadata": {},
   "outputs": [],
   "source": [
    "import sqlite3 as sq"
   ]
  },
  {
   "cell_type": "code",
   "execution_count": null,
   "metadata": {},
   "outputs": [],
   "source": [
    "# 검색기록\n",
    "def insert_user_record(params):\n",
    "    conn = sq.connect('./static/DB/usearched.db')\n",
    "    cur = conn.cursor()\n",
    "\n",
    "    sql = 'insert into user_searched(sid, uid, stime, songId, img, title, artist, album) values( ?, ?, ?, ?, ?, ?, ?, ?);'\n",
    "    cur.execute(sql, params)\n",
    "    conn.commit()\n",
    "\n",
    "    cur.close()\n",
    "    conn.close()"
   ]
  },
  {
   "cell_type": "code",
   "execution_count": null,
   "metadata": {},
   "outputs": [],
   "source": [
    "# uid 한건에 해당하는 모든 정보\n",
    "def get_user_by_search_record(uid):\n",
    "    conn = sq.connect('./static/DB/usearched.db')\n",
    "    cur = conn.cursor()\n",
    "\n",
    "    sql = 'select * from user_searched where uid=?;'\n",
    "    cur.execute(sql, (uid,))\n",
    "    row = cur.fetchone()\n",
    "    return row"
   ]
  }
 ],
 "metadata": {
  "kernelspec": {
   "display_name": "base",
   "language": "python",
   "name": "python3"
  },
  "language_info": {
   "codemirror_mode": {
    "name": "ipython",
    "version": 3
   },
   "file_extension": ".py",
   "mimetype": "text/x-python",
   "name": "python",
   "nbconvert_exporter": "python",
   "pygments_lexer": "ipython3",
   "version": "3.10.9"
  },
  "orig_nbformat": 4
 },
 "nbformat": 4,
 "nbformat_minor": 2
}
