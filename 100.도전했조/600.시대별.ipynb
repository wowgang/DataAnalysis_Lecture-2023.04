{
 "cells": [
  {
   "cell_type": "code",
   "execution_count": 1,
   "metadata": {},
   "outputs": [],
   "source": [
    "import pandas as pd\n",
    "import numpy as np\n",
    "from bs4 import BeautifulSoup\n",
    "\n",
    "from selenium import webdriver\n",
    "import warnings\n",
    "warnings.filterwarnings('ignore')\n",
    "import time \n",
    "from tqdm import tqdm"
   ]
  },
  {
   "cell_type": "code",
   "execution_count": 3,
   "metadata": {},
   "outputs": [
    {
     "name": "stderr",
     "output_type": "stream",
     "text": [
      "100%|██████████| 59/59 [03:06<00:00,  3.17s/it]\n"
     ]
    },
    {
     "data": {
      "text/plain": [
       "(['4083218', '1003023', '1754987', '1002782', '1003568'], 2646)"
      ]
     },
     "execution_count": 3,
     "metadata": {},
     "output_type": "execute_result"
    }
   ],
   "source": [
    "options = webdriver.ChromeOptions()\n",
    "options.add_argument('--headless')\n",
    "options.add_argument('--no-sandbox')\n",
    "options.add_argument(\"--single-process\")\n",
    "options.add_argument(\"--disable-dev-shm-usage\")\n",
    "driver = webdriver.Chrome('C:/Users/YONSAI/Downloads/chromedriver', options=options)\n",
    "\n",
    "songIds = []\n",
    "for i in tqdm(range(1964, 2023)):\n",
    "    url = f'https://www.melon.com/chart/age/index.htm?chartType=YE&chartGenre=KPOP&chartDate={i}' \n",
    "    driver.get(url)\n",
    "    time.sleep(2)\n",
    "\n",
    "    soup = BeautifulSoup(driver.page_source,'html.parser')\n",
    "    trs = soup.select('tbody > tr.lst50')\n",
    "\n",
    "    for tr in trs:\n",
    "        if tr.select_one('.bullet_icons.age_19'):\n",
    "            continue\n",
    "        songId  = tr.select_one('.btn.btn_icon_detail')['onclick'].split(\"'\")[-2]\n",
    "        songIds.append(songId)\n",
    "songIds[:5],len(songIds)"
   ]
  },
  {
   "cell_type": "code",
   "execution_count": null,
   "metadata": {},
   "outputs": [],
   "source": [
    "# 시대별 1964 ~ 2022 (59년)\n",
    "# 2646곡에서 중복제거시 2544\n",
    "# 300곡씩 파일 저장하기\n",
    "# songIds가 1964~ 2022까지  set 전 2646\n",
    "# set(songIds) = 2544개  \n",
    "# songIds[:300]\n",
    "# songIds[300:600]\n",
    "# songIds[600:900]\n",
    "# songIds[900:1200]\n",
    "# songIds[1200:1500]\n",
    "# songIds[1500:1800]\n",
    "# songIds[1800:2100]\n",
    "# songIds[2100:2400]\n",
    "# songIds[2400:]"
   ]
  },
  {
   "cell_type": "code",
   "execution_count": null,
   "metadata": {},
   "outputs": [],
   "source": [
    "infos = []\n",
    "for songId in tqdm(songIds[300:600]):\n",
    "    try:\n",
    "        song_url = f'https://www.melon.com/song/detail.htm?songId={songId}'\n",
    "        driver.get(song_url)\n",
    "        time.sleep(2)\n",
    "        soup = BeautifulSoup(driver.page_source, 'html.parser')\n",
    "        info = soup.select_one('#conts')\n",
    "        # songId = info.select_one('#btnLike')['data-song-no']\n",
    "        title = info.select_one('.song_name').get_text().strip().split('\\t')[-1]\n",
    "        artist = info.select_one('.artist_name').get_text()\n",
    "        genre = info.select_one('dl > dd:nth-child(6)').get_text().replace(',', '')\n",
    "        album = info.select_one('.list > dd').get_text()\n",
    "        ul = info.select('.list_person.clfix > li')\n",
    "        lyricist = ul[0].select_one('.artist_name').get_text()\n",
    "        composer = ul[1].select_one('.artist_name').get_text()\n",
    "        date = info.select_one('dl > dd:nth-child(4)').get_text().replace('.','')\n",
    "        img = info.select_one('.image_typeAll > img')['src']\n",
    "        comment = info.select_one('#revCnt').get_text().replace('개', '')\n",
    "        like = info.select_one('#d_like_count').get_text().replace(',', '')\n",
    "        lyric = str(info.select_one('.lyric')).split('\\t\\t\\t')[-1].replace('\\t', '').replace('<br/>', '\\n').split('</div>')[0].strip()\n",
    "        try:\n",
    "            buttons = soup.select('.meta > button')\n",
    "            plylstSeq = ' '.join([button['data-djcol-no'] for button in buttons])\n",
    "            infos.append({'songId': songId, 'title': title, 'artist': artist, 'genre':genre,\n",
    "                        'album': album, 'lyricist': lyricist, 'composer': composer, 'date':date, 'img': img,\n",
    "                        'comment': comment, 'like': like, 'lyric': lyric, 'plylstSeq': plylstSeq})\n",
    "        except:\n",
    "            plylstSeq = np.nan\n",
    "            infos.append({'songId': songId, 'title': title, 'artist': artist, 'genre':genre,\n",
    "                        'album': album, 'lyricist': lyricist, 'composer': composer, 'date':date, 'img': img,\n",
    "                        'comment': comment, 'like': like, 'lyric': lyric, 'plylstSeq': plylstSeq})\n",
    "\n",
    "    except:\n",
    "        continue"
   ]
  },
  {
   "cell_type": "code",
   "execution_count": 6,
   "metadata": {},
   "outputs": [
    {
     "data": {
      "text/html": [
       "<div>\n",
       "<style scoped>\n",
       "    .dataframe tbody tr th:only-of-type {\n",
       "        vertical-align: middle;\n",
       "    }\n",
       "\n",
       "    .dataframe tbody tr th {\n",
       "        vertical-align: top;\n",
       "    }\n",
       "\n",
       "    .dataframe thead th {\n",
       "        text-align: right;\n",
       "    }\n",
       "</style>\n",
       "<table border=\"1\" class=\"dataframe\">\n",
       "  <thead>\n",
       "    <tr style=\"text-align: right;\">\n",
       "      <th></th>\n",
       "      <th>songId</th>\n",
       "      <th>title</th>\n",
       "      <th>artist</th>\n",
       "      <th>genre</th>\n",
       "      <th>album</th>\n",
       "      <th>lyricist</th>\n",
       "      <th>composer</th>\n",
       "      <th>date</th>\n",
       "      <th>img</th>\n",
       "      <th>comment</th>\n",
       "      <th>like</th>\n",
       "      <th>lyric</th>\n",
       "      <th>plylstSeq</th>\n",
       "    </tr>\n",
       "  </thead>\n",
       "  <tbody>\n",
       "    <tr>\n",
       "      <th>138</th>\n",
       "      <td>3128693</td>\n",
       "      <td>송학사</td>\n",
       "      <td>김태곤</td>\n",
       "      <td>성인가요/트로트</td>\n",
       "      <td>골든 디럭스 20</td>\n",
       "      <td>김태곤</td>\n",
       "      <td>김태곤</td>\n",
       "      <td>19900101</td>\n",
       "      <td>https://cdnimg.melon.co.kr/cm/album/images/011...</td>\n",
       "      <td>2</td>\n",
       "      <td>398</td>\n",
       "      <td></td>\n",
       "      <td>454914652 439176495</td>\n",
       "    </tr>\n",
       "    <tr>\n",
       "      <th>139</th>\n",
       "      <td>1374303</td>\n",
       "      <td>흐린 가을 하늘에 편지를 써</td>\n",
       "      <td>김광석</td>\n",
       "      <td>포크/블루스</td>\n",
       "      <td>김광석 다시부르기 1, 2 (Remasterd)</td>\n",
       "      <td>김창기</td>\n",
       "      <td>김창기</td>\n",
       "      <td>20060826</td>\n",
       "      <td>https://cdnimg.melon.co.kr/cm/album/images/003...</td>\n",
       "      <td>3</td>\n",
       "      <td>513</td>\n",
       "      <td>비가 내리면\\n음 나를 둘러싸는\\n시간의 숨결이 떨쳐질까\\n비가 내리면\\n음 내가 ...</td>\n",
       "      <td>439176590 480935329</td>\n",
       "    </tr>\n",
       "  </tbody>\n",
       "</table>\n",
       "</div>"
      ],
      "text/plain": [
       "      songId            title artist     genre                       album   \n",
       "138  3128693              송학사    김태곤  성인가요/트로트                   골든 디럭스 20  \\\n",
       "139  1374303  흐린 가을 하늘에 편지를 써    김광석    포크/블루스  김광석 다시부르기 1, 2 (Remasterd)   \n",
       "\n",
       "    lyricist composer      date   \n",
       "138      김태곤      김태곤  19900101  \\\n",
       "139      김창기      김창기  20060826   \n",
       "\n",
       "                                                   img comment like   \n",
       "138  https://cdnimg.melon.co.kr/cm/album/images/011...       2  398  \\\n",
       "139  https://cdnimg.melon.co.kr/cm/album/images/003...       3  513   \n",
       "\n",
       "                                                 lyric            plylstSeq  \n",
       "138                                                     454914652 439176495  \n",
       "139  비가 내리면\\n음 나를 둘러싸는\\n시간의 숨결이 떨쳐질까\\n비가 내리면\\n음 내가 ...  439176590 480935329  "
      ]
     },
     "execution_count": 6,
     "metadata": {},
     "output_type": "execute_result"
    }
   ],
   "source": [
    "df = pd.DataFrame(infos)\n",
    "df.tail(2)"
   ]
  },
  {
   "cell_type": "code",
   "execution_count": 7,
   "metadata": {},
   "outputs": [
    {
     "data": {
      "text/plain": [
       "(140, 140)"
      ]
     },
     "execution_count": 7,
     "metadata": {},
     "output_type": "execute_result"
    }
   ],
   "source": [
    "df.shape[0], df.songId.nunique()"
   ]
  },
  {
   "cell_type": "code",
   "execution_count": 8,
   "metadata": {},
   "outputs": [
    {
     "data": {
      "text/html": [
       "<div>\n",
       "<style scoped>\n",
       "    .dataframe tbody tr th:only-of-type {\n",
       "        vertical-align: middle;\n",
       "    }\n",
       "\n",
       "    .dataframe tbody tr th {\n",
       "        vertical-align: top;\n",
       "    }\n",
       "\n",
       "    .dataframe thead th {\n",
       "        text-align: right;\n",
       "    }\n",
       "</style>\n",
       "<table border=\"1\" class=\"dataframe\">\n",
       "  <thead>\n",
       "    <tr style=\"text-align: right;\">\n",
       "      <th></th>\n",
       "      <th>songId</th>\n",
       "      <th>title</th>\n",
       "      <th>artist</th>\n",
       "      <th>genre</th>\n",
       "      <th>album</th>\n",
       "      <th>lyricist</th>\n",
       "      <th>composer</th>\n",
       "      <th>date</th>\n",
       "      <th>img</th>\n",
       "      <th>comment</th>\n",
       "      <th>like</th>\n",
       "      <th>lyric</th>\n",
       "      <th>plylstSeq</th>\n",
       "    </tr>\n",
       "  </thead>\n",
       "  <tbody>\n",
       "    <tr>\n",
       "      <th>0</th>\n",
       "      <td>1936373</td>\n",
       "      <td>영등포의 밤</td>\n",
       "      <td>오기택</td>\n",
       "      <td>성인가요/트로트</td>\n",
       "      <td>20골드 (영등포의 밤,바닷가에서)</td>\n",
       "      <td>김부해</td>\n",
       "      <td>김부해</td>\n",
       "      <td>19700101</td>\n",
       "      <td>https://cdnimg.melon.co.kr/cm/album/images/003...</td>\n",
       "      <td>0</td>\n",
       "      <td>44</td>\n",
       "      <td>NaN</td>\n",
       "      <td>460454132 518268022</td>\n",
       "    </tr>\n",
       "    <tr>\n",
       "      <th>1</th>\n",
       "      <td>57313</td>\n",
       "      <td>미소</td>\n",
       "      <td>서유석</td>\n",
       "      <td>포크/블루스</td>\n",
       "      <td>서유석 골든 힛트 앨범</td>\n",
       "      <td>주석천 (Sok-Chon Joo)</td>\n",
       "      <td>주석천 (Sok-Chon Joo)</td>\n",
       "      <td>19781025</td>\n",
       "      <td>https://cdnimg.melon.co.kr/cm/album/images/000...</td>\n",
       "      <td>0</td>\n",
       "      <td>37</td>\n",
       "      <td>NaN</td>\n",
       "      <td>460454148 483794266</td>\n",
       "    </tr>\n",
       "  </tbody>\n",
       "</table>\n",
       "</div>"
      ],
      "text/plain": [
       "    songId   title artist     genre                album            lyricist   \n",
       "0  1936373  영등포의 밤    오기택  성인가요/트로트  20골드 (영등포의 밤,바닷가에서)                 김부해  \\\n",
       "1    57313      미소    서유석    포크/블루스         서유석 골든 힛트 앨범  주석천 (Sok-Chon Joo)   \n",
       "\n",
       "             composer      date   \n",
       "0                 김부해  19700101  \\\n",
       "1  주석천 (Sok-Chon Joo)  19781025   \n",
       "\n",
       "                                                 img comment  like lyric   \n",
       "0  https://cdnimg.melon.co.kr/cm/album/images/003...       0    44   NaN  \\\n",
       "1  https://cdnimg.melon.co.kr/cm/album/images/000...       0    37   NaN   \n",
       "\n",
       "             plylstSeq  \n",
       "0  460454132 518268022  \n",
       "1  460454148 483794266  "
      ]
     },
     "execution_count": 8,
     "metadata": {},
     "output_type": "execute_result"
    }
   ],
   "source": [
    "df.to_csv('data/melon_year1.csv', index=False, encoding='utf-8')\n",
    "pd.read_csv('data/melon_year1.csv').head(2)"
   ]
  }
 ],
 "metadata": {
  "kernelspec": {
   "display_name": "base",
   "language": "python",
   "name": "python3"
  },
  "language_info": {
   "codemirror_mode": {
    "name": "ipython",
    "version": 3
   },
   "file_extension": ".py",
   "mimetype": "text/x-python",
   "name": "python",
   "nbconvert_exporter": "python",
   "pygments_lexer": "ipython3",
   "version": "3.10.9"
  },
  "orig_nbformat": 4
 },
 "nbformat": 4,
 "nbformat_minor": 2
}
