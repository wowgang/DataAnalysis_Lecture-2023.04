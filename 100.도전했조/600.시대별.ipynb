{
 "cells": [
  {
   "cell_type": "code",
   "execution_count": 67,
   "metadata": {},
   "outputs": [],
   "source": [
    "import pandas as pd\n",
    "import numpy as np\n",
    "import numpy as np\n",
    "from bs4 import BeautifulSoup\n",
    "\n",
    "from selenium import webdriver\n",
    "import warnings\n",
    "warnings.filterwarnings('ignore')\n",
    "import time \n",
    "from tqdm import tqdm"
   ]
  },
  {
   "cell_type": "code",
   "execution_count": 76,
   "metadata": {},
   "outputs": [
    {
     "name": "stderr",
     "output_type": "stream",
     "text": [
      "100%|██████████| 59/59 [02:57<00:00,  3.01s/it]\n"
     ]
    },
    {
     "data": {
      "text/plain": [
       "(['4083218', '1003023', '1754987', '1002782', '1003568'], 2646)"
      ]
     },
     "execution_count": 76,
     "metadata": {},
     "output_type": "execute_result"
    }
   ],
   "source": [
    "options = webdriver.ChromeOptions()\n",
    "options.add_argument('--headless')\n",
    "options.add_argument('--no-sandbox')\n",
    "options.add_argument(\"--single-process\")\n",
    "options.add_argument(\"--disable-dev-shm-usage\")\n",
    "driver = webdriver.Chrome('C:/Users/YONSAI/Downloads/chromedriver', options=options)\n",
    "\n",
    "songIds = []\n",
    "for i in tqdm(range(1964, 2023)):\n",
    "    url = f'https://www.melon.com/chart/age/index.htm?chartType=YE&chartGenre=KPOP&chartDate={i}' \n",
    "    driver.get(url)\n",
    "    time.sleep(2)\n",
    "\n",
    "    soup = BeautifulSoup(driver.page_source,'html.parser')\n",
    "    trs = soup.select('tbody > tr.lst50')\n",
    "\n",
    "    for tr in trs:\n",
    "        if tr.select_one('.bullet_icons.age_19'):\n",
    "            continue\n",
    "        songId  = tr.select_one('.btn.btn_icon_detail')['onclick'].split(\"'\")[-2]\n",
    "        songIds.append(songId)\n",
    "songIds[:5],len(songIds)"
   ]
  },
  {
   "cell_type": "code",
   "execution_count": 77,
   "metadata": {},
   "outputs": [],
   "source": [
    "df_songIds = pd.DataFrame(songIds)\n",
    "df_songIds.to_csv('data/melon_year_songIds.csv', index=False)"
   ]
  },
  {
   "cell_type": "code",
   "execution_count": null,
   "metadata": {},
   "outputs": [],
   "source": [
    "# 시대별 1964 ~ 2022 (59년)\n",
    "# 2646곡에서 중복제거시 2544\n",
    "# 300곡씩 파일 저장하기\n",
    "# songIds가 1964~ 2022까지  set 전 2646\n",
    "# set(songIds) = 2544개\n",
    "  \n",
    "# songIds[:300]     (247, 247)  (222, 222) \n",
    "# songIds[300:600]  (244, 242)  (237, 235) \n",
    "# songIds[600:900]  (257, 253)  (257, 253) \n",
    "# songIds[900:1200] (272, 258)  (269, 255) \n",
    "# songIds[1200:1500](273, 268)  (272, 267) \n",
    "# songIds[1500:1800](283, 281)  (283, 281) \n",
    "# songIds[1800:2100](288, 287)  (286, 285) \n",
    "# songIds[2100:2400](298, 284)  (292, 278) \n",
    "# songIds[2400:]    (245, 206)  (245, 206) "
   ]
  },
  {
   "cell_type": "code",
   "execution_count": 79,
   "metadata": {},
   "outputs": [],
   "source": [
    "def nan(data):\n",
    "    if data != '-':\n",
    "        return data\n",
    "    else:\n",
    "        return np.nan"
   ]
  },
  {
   "cell_type": "code",
   "execution_count": 90,
   "metadata": {},
   "outputs": [
    {
     "name": "stderr",
     "output_type": "stream",
     "text": [
      "100%|██████████| 300/300 [15:31<00:00,  3.11s/it]\n"
     ]
    }
   ],
   "source": [
    "infos = []\n",
    "for songId in tqdm(songIds[1800:2100]):\n",
    "    try:\n",
    "        song_url = f'https://www.melon.com/song/detail.htm?songId={songId}'\n",
    "        driver.get(song_url)\n",
    "        time.sleep(2)\n",
    "        soup = BeautifulSoup(driver.page_source, 'html.parser')\n",
    "        info = soup.select_one('#conts')\n",
    "        # songId = info.select_one('#btnLike')['data-song-no']\n",
    "        title = info.select_one('.song_name').get_text().strip().split('\\t')[-1]\n",
    "        artist = info.select_one('.artist_name').get_text()\n",
    "        genre = info.select_one('dl > dd:nth-child(6)').get_text().replace(',', '')\n",
    "        album = info.select_one('.list > dd').get_text()\n",
    "        ul = info.select('.list_person.clfix > li')\n",
    "        lyricist = nan(ul[0].select_one('.artist_name').get_text().strip())\n",
    "        composer = nan(ul[1].select_one('.artist_name').get_text().strip())\n",
    "        date = nan(info.select_one('dl > dd:nth-child(4)').get_text().replace('.',''))\n",
    "        img = info.select_one('.image_typeAll > img')['src']\n",
    "        comment = info.select_one('#revCnt').get_text().replace('개', '').replace(',', '')\n",
    "        like = info.select_one('#d_like_count').get_text().replace(',', '')\n",
    "        lyric = str(info.select_one('#d_video_summary')).split('\\n')[-2].replace('\\t', '').replace('<br/>', '\\n').replace('\\n\\n', '\\n').strip()\n",
    "        buttons = info.select('.d_djcol_list > ul > li > .thumb > a ')\n",
    "        plylstSeq = nan(' '.join([button['href'].split(',\\'')[-1][:-3] for button in buttons]))\n",
    "        infos.append({'songId': songId, 'title': title, 'artist': artist, 'genre':genre,\n",
    "                    'album': album, 'lyricist': lyricist, 'composer': composer, 'date':date, 'img': img,\n",
    "                    'comment': comment, 'like': like, 'lyric': lyric, 'plylstSeq': plylstSeq})\n",
    "    except:\n",
    "        continue"
   ]
  },
  {
   "cell_type": "code",
   "execution_count": 91,
   "metadata": {},
   "outputs": [
    {
     "data": {
      "text/html": [
       "<div>\n",
       "<style scoped>\n",
       "    .dataframe tbody tr th:only-of-type {\n",
       "        vertical-align: middle;\n",
       "    }\n",
       "\n",
       "    .dataframe tbody tr th {\n",
       "        vertical-align: top;\n",
       "    }\n",
       "\n",
       "    .dataframe thead th {\n",
       "        text-align: right;\n",
       "    }\n",
       "</style>\n",
       "<table border=\"1\" class=\"dataframe\">\n",
       "  <thead>\n",
       "    <tr style=\"text-align: right;\">\n",
       "      <th></th>\n",
       "      <th>songId</th>\n",
       "      <th>title</th>\n",
       "      <th>artist</th>\n",
       "      <th>genre</th>\n",
       "      <th>album</th>\n",
       "      <th>lyricist</th>\n",
       "      <th>composer</th>\n",
       "      <th>date</th>\n",
       "      <th>img</th>\n",
       "      <th>comment</th>\n",
       "      <th>like</th>\n",
       "      <th>lyric</th>\n",
       "      <th>plylstSeq</th>\n",
       "    </tr>\n",
       "  </thead>\n",
       "  <tbody>\n",
       "    <tr>\n",
       "      <th>0</th>\n",
       "      <td>1204915</td>\n",
       "      <td>Hold the line</td>\n",
       "      <td>조pd (ZoPD)</td>\n",
       "      <td>랩/힙합</td>\n",
       "      <td>HOLD THE LINE</td>\n",
       "      <td>조pd (ZoPD)</td>\n",
       "      <td>윤일상</td>\n",
       "      <td>20060530</td>\n",
       "      <td>https://cdnimg.melon.co.kr/cm/album/images/003...</td>\n",
       "      <td>35</td>\n",
       "      <td>17526</td>\n",
       "      <td>nu music for summer 2 double O 6 \\nmost wanted...</td>\n",
       "      <td>442706386 100098263</td>\n",
       "    </tr>\n",
       "    <tr>\n",
       "      <th>1</th>\n",
       "      <td>1459449</td>\n",
       "      <td>까만안경 (Feat. Day Light)</td>\n",
       "      <td>이루</td>\n",
       "      <td>발라드</td>\n",
       "      <td>이루 LEVEL II</td>\n",
       "      <td>윤명선</td>\n",
       "      <td>윤명선</td>\n",
       "      <td>20061009</td>\n",
       "      <td>https://cdnimg.melon.co.kr/cm/album/images/003...</td>\n",
       "      <td>106</td>\n",
       "      <td>62017</td>\n",
       "      <td>까만 안경을 써요\\n아주 까만 밤인데 말이죠  \\n앞이 보이지 않아도 \\n괜찮아요 ...</td>\n",
       "      <td>442706386 417639180</td>\n",
       "    </tr>\n",
       "  </tbody>\n",
       "</table>\n",
       "</div>"
      ],
      "text/plain": [
       "    songId                   title      artist genre          album  \\\n",
       "0  1204915           Hold the line  조pd (ZoPD)  랩/힙합  HOLD THE LINE   \n",
       "1  1459449  까만안경 (Feat. Day Light)          이루   발라드    이루 LEVEL II   \n",
       "\n",
       "     lyricist composer      date  \\\n",
       "0  조pd (ZoPD)      윤일상  20060530   \n",
       "1         윤명선      윤명선  20061009   \n",
       "\n",
       "                                                 img comment   like  \\\n",
       "0  https://cdnimg.melon.co.kr/cm/album/images/003...      35  17526   \n",
       "1  https://cdnimg.melon.co.kr/cm/album/images/003...     106  62017   \n",
       "\n",
       "                                               lyric            plylstSeq  \n",
       "0  nu music for summer 2 double O 6 \\nmost wanted...  442706386 100098263  \n",
       "1  까만 안경을 써요\\n아주 까만 밤인데 말이죠  \\n앞이 보이지 않아도 \\n괜찮아요 ...  442706386 417639180  "
      ]
     },
     "execution_count": 91,
     "metadata": {},
     "output_type": "execute_result"
    }
   ],
   "source": [
    "df = pd.DataFrame(infos)\n",
    "df.head(2)"
   ]
  },
  {
   "cell_type": "code",
   "execution_count": 92,
   "metadata": {},
   "outputs": [
    {
     "data": {
      "text/plain": [
       "(286, 285)"
      ]
     },
     "execution_count": 92,
     "metadata": {},
     "output_type": "execute_result"
    }
   ],
   "source": [
    "df.shape[0], df.songId.nunique()"
   ]
  },
  {
   "cell_type": "code",
   "execution_count": 93,
   "metadata": {},
   "outputs": [
    {
     "data": {
      "text/html": [
       "<div>\n",
       "<style scoped>\n",
       "    .dataframe tbody tr th:only-of-type {\n",
       "        vertical-align: middle;\n",
       "    }\n",
       "\n",
       "    .dataframe tbody tr th {\n",
       "        vertical-align: top;\n",
       "    }\n",
       "\n",
       "    .dataframe thead th {\n",
       "        text-align: right;\n",
       "    }\n",
       "</style>\n",
       "<table border=\"1\" class=\"dataframe\">\n",
       "  <thead>\n",
       "    <tr style=\"text-align: right;\">\n",
       "      <th></th>\n",
       "      <th>songId</th>\n",
       "      <th>title</th>\n",
       "      <th>artist</th>\n",
       "      <th>genre</th>\n",
       "      <th>album</th>\n",
       "      <th>lyricist</th>\n",
       "      <th>composer</th>\n",
       "      <th>date</th>\n",
       "      <th>img</th>\n",
       "      <th>comment</th>\n",
       "      <th>like</th>\n",
       "      <th>lyric</th>\n",
       "      <th>plylstSeq</th>\n",
       "    </tr>\n",
       "  </thead>\n",
       "  <tbody>\n",
       "    <tr>\n",
       "      <th>0</th>\n",
       "      <td>1204915</td>\n",
       "      <td>Hold the line</td>\n",
       "      <td>조pd (ZoPD)</td>\n",
       "      <td>랩/힙합</td>\n",
       "      <td>HOLD THE LINE</td>\n",
       "      <td>조pd (ZoPD)</td>\n",
       "      <td>윤일상</td>\n",
       "      <td>20060530</td>\n",
       "      <td>https://cdnimg.melon.co.kr/cm/album/images/003...</td>\n",
       "      <td>35</td>\n",
       "      <td>17526</td>\n",
       "      <td>nu music for summer 2 double O 6 \\nmost wanted...</td>\n",
       "      <td>442706386 100098263</td>\n",
       "    </tr>\n",
       "    <tr>\n",
       "      <th>1</th>\n",
       "      <td>1459449</td>\n",
       "      <td>까만안경 (Feat. Day Light)</td>\n",
       "      <td>이루</td>\n",
       "      <td>발라드</td>\n",
       "      <td>이루 LEVEL II</td>\n",
       "      <td>윤명선</td>\n",
       "      <td>윤명선</td>\n",
       "      <td>20061009</td>\n",
       "      <td>https://cdnimg.melon.co.kr/cm/album/images/003...</td>\n",
       "      <td>106</td>\n",
       "      <td>62017</td>\n",
       "      <td>까만 안경을 써요\\n아주 까만 밤인데 말이죠  \\n앞이 보이지 않아도 \\n괜찮아요 ...</td>\n",
       "      <td>442706386 417639180</td>\n",
       "    </tr>\n",
       "  </tbody>\n",
       "</table>\n",
       "</div>"
      ],
      "text/plain": [
       "    songId                   title      artist genre          album  \\\n",
       "0  1204915           Hold the line  조pd (ZoPD)  랩/힙합  HOLD THE LINE   \n",
       "1  1459449  까만안경 (Feat. Day Light)          이루   발라드    이루 LEVEL II   \n",
       "\n",
       "     lyricist composer      date  \\\n",
       "0  조pd (ZoPD)      윤일상  20060530   \n",
       "1         윤명선      윤명선  20061009   \n",
       "\n",
       "                                                 img comment   like  \\\n",
       "0  https://cdnimg.melon.co.kr/cm/album/images/003...      35  17526   \n",
       "1  https://cdnimg.melon.co.kr/cm/album/images/003...     106  62017   \n",
       "\n",
       "                                               lyric            plylstSeq  \n",
       "0  nu music for summer 2 double O 6 \\nmost wanted...  442706386 100098263  \n",
       "1  까만 안경을 써요\\n아주 까만 밤인데 말이죠  \\n앞이 보이지 않아도 \\n괜찮아요 ...  442706386 417639180  "
      ]
     },
     "execution_count": 93,
     "metadata": {},
     "output_type": "execute_result"
    }
   ],
   "source": [
    "df.to_csv('data/melon_year7.csv', index=False)\n",
    "df.head(2)"
   ]
  },
  {
   "cell_type": "code",
   "execution_count": 94,
   "metadata": {},
   "outputs": [
    {
     "data": {
      "text/html": [
       "<div>\n",
       "<style scoped>\n",
       "    .dataframe tbody tr th:only-of-type {\n",
       "        vertical-align: middle;\n",
       "    }\n",
       "\n",
       "    .dataframe tbody tr th {\n",
       "        vertical-align: top;\n",
       "    }\n",
       "\n",
       "    .dataframe thead th {\n",
       "        text-align: right;\n",
       "    }\n",
       "</style>\n",
       "<table border=\"1\" class=\"dataframe\">\n",
       "  <thead>\n",
       "    <tr style=\"text-align: right;\">\n",
       "      <th></th>\n",
       "      <th>songId</th>\n",
       "      <th>title</th>\n",
       "      <th>artist</th>\n",
       "      <th>genre</th>\n",
       "      <th>album</th>\n",
       "      <th>lyricist</th>\n",
       "      <th>composer</th>\n",
       "      <th>date</th>\n",
       "      <th>img</th>\n",
       "      <th>comment</th>\n",
       "      <th>like</th>\n",
       "      <th>lyric</th>\n",
       "      <th>plylstSeq</th>\n",
       "    </tr>\n",
       "  </thead>\n",
       "  <tbody>\n",
       "    <tr>\n",
       "      <th>284</th>\n",
       "      <td>3753304</td>\n",
       "      <td>벚꽃 엔딩</td>\n",
       "      <td>버스커 버스커</td>\n",
       "      <td>록/메탈</td>\n",
       "      <td>버스커 버스커 1집</td>\n",
       "      <td>장범준</td>\n",
       "      <td>장범준</td>\n",
       "      <td>20120329</td>\n",
       "      <td>https://cdnimg.melon.co.kr/cm/album/images/020...</td>\n",
       "      <td>2270</td>\n",
       "      <td>335073</td>\n",
       "      <td>그대여 그대여 그대여  \\n그대여 그대여 \\n오늘은 우리 같이 걸어요 이 거리를 \\...</td>\n",
       "      <td>411111859 101565452</td>\n",
       "    </tr>\n",
       "    <tr>\n",
       "      <th>285</th>\n",
       "      <td>3837683</td>\n",
       "      <td>Loving U (러빙유)</td>\n",
       "      <td>씨스타</td>\n",
       "      <td>댄스</td>\n",
       "      <td>Summer Special 'Loving U'</td>\n",
       "      <td>이단옆차기</td>\n",
       "      <td>이단옆차기</td>\n",
       "      <td>20120628</td>\n",
       "      <td>https://cdnimg.melon.co.kr/cm/album/images/021...</td>\n",
       "      <td>152</td>\n",
       "      <td>79100</td>\n",
       "      <td>Hey 참 이상해 정말 strange\\n이런 적 없었는데 널 볼때마다\\n나 두근두근...</td>\n",
       "      <td>508457531 477814461</td>\n",
       "    </tr>\n",
       "  </tbody>\n",
       "</table>\n",
       "</div>"
      ],
      "text/plain": [
       "      songId           title   artist genre                      album  \\\n",
       "284  3753304           벚꽃 엔딩  버스커 버스커  록/메탈                 버스커 버스커 1집   \n",
       "285  3837683  Loving U (러빙유)      씨스타    댄스  Summer Special 'Loving U'   \n",
       "\n",
       "    lyricist composer      date  \\\n",
       "284      장범준      장범준  20120329   \n",
       "285    이단옆차기    이단옆차기  20120628   \n",
       "\n",
       "                                                   img comment    like  \\\n",
       "284  https://cdnimg.melon.co.kr/cm/album/images/020...    2270  335073   \n",
       "285  https://cdnimg.melon.co.kr/cm/album/images/021...     152   79100   \n",
       "\n",
       "                                                 lyric            plylstSeq  \n",
       "284  그대여 그대여 그대여  \\n그대여 그대여 \\n오늘은 우리 같이 걸어요 이 거리를 \\...  411111859 101565452  \n",
       "285  Hey 참 이상해 정말 strange\\n이런 적 없었는데 널 볼때마다\\n나 두근두근...  508457531 477814461  "
      ]
     },
     "execution_count": 94,
     "metadata": {},
     "output_type": "execute_result"
    }
   ],
   "source": [
    "pd.read_csv('data/melon_year7.csv', dtype=str).tail(2)"
   ]
  },
  {
   "cell_type": "code",
   "execution_count": null,
   "metadata": {},
   "outputs": [],
   "source": []
  },
  {
   "cell_type": "code",
   "execution_count": null,
   "metadata": {},
   "outputs": [],
   "source": []
  }
 ],
 "metadata": {
  "kernelspec": {
   "display_name": "base",
   "language": "python",
   "name": "python3"
  },
  "language_info": {
   "codemirror_mode": {
    "name": "ipython",
    "version": 3
   },
   "file_extension": ".py",
   "mimetype": "text/x-python",
   "name": "python",
   "nbconvert_exporter": "python",
   "pygments_lexer": "ipython3",
   "version": "3.10.9"
  },
  "orig_nbformat": 4
 },
 "nbformat": 4,
 "nbformat_minor": 2
}
