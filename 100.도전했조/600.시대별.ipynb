{
 "cells": [
  {
   "cell_type": "code",
   "execution_count": 1,
   "metadata": {},
   "outputs": [],
   "source": [
    "import pandas as pd\n",
    "import numpy as np\n",
    "from bs4 import BeautifulSoup\n",
    "\n",
    "from selenium import webdriver\n",
    "import warnings\n",
    "warnings.filterwarnings('ignore')\n",
    "import time \n",
    "from tqdm import tqdm"
   ]
  },
  {
   "cell_type": "code",
   "execution_count": 2,
   "metadata": {},
   "outputs": [
    {
     "name": "stderr",
     "output_type": "stream",
     "text": [
      "100%|██████████| 59/59 [03:06<00:00,  3.17s/it]\n"
     ]
    },
    {
     "data": {
      "text/plain": [
       "(['4083218', '1003023', '1754987', '1002782', '1003568'], 2646)"
      ]
     },
     "execution_count": 2,
     "metadata": {},
     "output_type": "execute_result"
    }
   ],
   "source": [
    "options = webdriver.ChromeOptions()\n",
    "options.add_argument('--headless')\n",
    "options.add_argument('--no-sandbox')\n",
    "options.add_argument(\"--single-process\")\n",
    "options.add_argument(\"--disable-dev-shm-usage\")\n",
    "driver = webdriver.Chrome('C:/Users/YONSAI/Downloads/chromedriver', options=options)\n",
    "\n",
    "songIds = []\n",
    "for i in tqdm(range(1964, 2023)):\n",
    "    url = f'https://www.melon.com/chart/age/index.htm?chartType=YE&chartGenre=KPOP&chartDate={i}' \n",
    "    driver.get(url)\n",
    "    time.sleep(2)\n",
    "\n",
    "    soup = BeautifulSoup(driver.page_source,'html.parser')\n",
    "    trs = soup.select('tbody > tr.lst50')\n",
    "\n",
    "    for tr in trs:\n",
    "        if tr.select_one('.bullet_icons.age_19'):\n",
    "            continue\n",
    "        songId  = tr.select_one('.btn.btn_icon_detail')['onclick'].split(\"'\")[-2]\n",
    "        songIds.append(songId)\n",
    "songIds[:5],len(songIds)"
   ]
  },
  {
   "cell_type": "code",
   "execution_count": null,
   "metadata": {},
   "outputs": [],
   "source": [
    "# 시대별 1964 ~ 2022 (59년)\n",
    "# 2646곡에서 중복제거시 2544\n",
    "# 300곡씩 파일 저장하기\n",
    "# songIds가 1964~ 2022까지  set 전 2646\n",
    "# set(songIds) = 2544개  \n",
    "# songIds[:300]     (247, 247)\n",
    "# songIds[300:600]  (244, 242)\n",
    "# songIds[600:900]  (257, 253)\n",
    "# songIds[900:1200] (272, 258)\n",
    "# songIds[1200:1500]    (273, 268)\n",
    "# songIds[1500:1800]    (283, 281)\n",
    "# songIds[1800:2100]    (288, 287)\n",
    "# songIds[2100:2400]    (298, 284)\n",
    "# songIds[2400:]    (245, 206)"
   ]
  },
  {
   "cell_type": "code",
   "execution_count": 35,
   "metadata": {},
   "outputs": [
    {
     "name": "stderr",
     "output_type": "stream",
     "text": [
      "100%|██████████| 246/246 [15:54<00:00,  3.88s/it]\n"
     ]
    }
   ],
   "source": [
    "infos = []\n",
    "for songId in tqdm(songIds[2400:]):\n",
    "    try:\n",
    "        song_url = f'https://www.melon.com/song/detail.htm?songId={songId}'\n",
    "        driver.get(song_url)\n",
    "        time.sleep(2)\n",
    "        soup = BeautifulSoup(driver.page_source, 'html.parser')\n",
    "        info = soup.select_one('#conts')\n",
    "        # songId = info.select_one('#btnLike')['data-song-no']\n",
    "        title = info.select_one('.song_name').get_text().strip().split('\\t')[-1]\n",
    "        artist = info.select_one('.artist_name').get_text()\n",
    "        genre = info.select_one('dl > dd:nth-child(6)').get_text().replace(',', '')\n",
    "        album = info.select_one('.list > dd').get_text()\n",
    "        ul = info.select('.list_person.clfix > li')\n",
    "        lyricist = ul[0].select_one('.artist_name').get_text()\n",
    "        composer = ul[1].select_one('.artist_name').get_text()\n",
    "        date = info.select_one('dl > dd:nth-child(4)').get_text().replace('.','')\n",
    "        img = info.select_one('.image_typeAll > img')['src']\n",
    "        comment = info.select_one('#revCnt').get_text().replace('개', '')\n",
    "        like = info.select_one('#d_like_count').get_text().replace(',', '')\n",
    "        lyric = str(info.select_one('.lyric')).split('\\t\\t\\t')[-1].replace('\\t', '').replace('<br/>', '\\n').split('</div>')[0].strip()\n",
    "        try:\n",
    "            buttons = soup.select('.meta > button')\n",
    "            plylstSeq = ' '.join([button['data-djcol-no'] for button in buttons])\n",
    "            infos.append({'songId': songId, 'title': title, 'artist': artist, 'genre':genre,\n",
    "                        'album': album, 'lyricist': lyricist, 'composer': composer, 'date':date, 'img': img,\n",
    "                        'comment': comment, 'like': like, 'lyric': lyric, 'plylstSeq': plylstSeq})\n",
    "        except:\n",
    "            plylstSeq = np.nan\n",
    "            infos.append({'songId': songId, 'title': title, 'artist': artist, 'genre':genre,\n",
    "                        'album': album, 'lyricist': lyricist, 'composer': composer, 'date':date, 'img': img,\n",
    "                        'comment': comment, 'like': like, 'lyric': lyric, 'plylstSeq': plylstSeq})\n",
    "\n",
    "    except:\n",
    "        continue"
   ]
  },
  {
   "cell_type": "code",
   "execution_count": 36,
   "metadata": {},
   "outputs": [
    {
     "data": {
      "text/html": [
       "<div>\n",
       "<style scoped>\n",
       "    .dataframe tbody tr th:only-of-type {\n",
       "        vertical-align: middle;\n",
       "    }\n",
       "\n",
       "    .dataframe tbody tr th {\n",
       "        vertical-align: top;\n",
       "    }\n",
       "\n",
       "    .dataframe thead th {\n",
       "        text-align: right;\n",
       "    }\n",
       "</style>\n",
       "<table border=\"1\" class=\"dataframe\">\n",
       "  <thead>\n",
       "    <tr style=\"text-align: right;\">\n",
       "      <th></th>\n",
       "      <th>songId</th>\n",
       "      <th>title</th>\n",
       "      <th>artist</th>\n",
       "      <th>genre</th>\n",
       "      <th>album</th>\n",
       "      <th>lyricist</th>\n",
       "      <th>composer</th>\n",
       "      <th>date</th>\n",
       "      <th>img</th>\n",
       "      <th>comment</th>\n",
       "      <th>like</th>\n",
       "      <th>lyric</th>\n",
       "      <th>plylstSeq</th>\n",
       "    </tr>\n",
       "  </thead>\n",
       "  <tbody>\n",
       "    <tr>\n",
       "      <th>243</th>\n",
       "      <td>34819473</td>\n",
       "      <td>사건의 지평선</td>\n",
       "      <td>윤하 (YOUNHA)</td>\n",
       "      <td>록/메탈</td>\n",
       "      <td>YOUNHA 6th Album Repackage 'END THEORY : Final...</td>\n",
       "      <td>윤하 (YOUNHA)</td>\n",
       "      <td>윤하 (YOUNHA)</td>\n",
       "      <td>20220330</td>\n",
       "      <td>https://cdnimg.melon.co.kr/cm2/album/images/10...</td>\n",
       "      <td>3,142</td>\n",
       "      <td>302118</td>\n",
       "      <td></td>\n",
       "      <td>NaN</td>\n",
       "    </tr>\n",
       "    <tr>\n",
       "      <th>244</th>\n",
       "      <td>34494149</td>\n",
       "      <td>Step Back</td>\n",
       "      <td>GOT the beat</td>\n",
       "      <td>댄스</td>\n",
       "      <td>Step Back</td>\n",
       "      <td>유영진</td>\n",
       "      <td>유영진</td>\n",
       "      <td>20220103</td>\n",
       "      <td>https://cdnimg.melon.co.kr/cm2/album/images/10...</td>\n",
       "      <td>1,417</td>\n",
       "      <td>98139</td>\n",
       "      <td>You must step back\\n어델 어델 봐\\n너 감히 누구라고 날 제껴\\n이...</td>\n",
       "      <td>NaN</td>\n",
       "    </tr>\n",
       "  </tbody>\n",
       "</table>\n",
       "</div>"
      ],
      "text/plain": [
       "       songId      title        artist genre   \n",
       "243  34819473    사건의 지평선   윤하 (YOUNHA)  록/메탈  \\\n",
       "244  34494149  Step Back  GOT the beat    댄스   \n",
       "\n",
       "                                                 album     lyricist   \n",
       "243  YOUNHA 6th Album Repackage 'END THEORY : Final...  윤하 (YOUNHA)  \\\n",
       "244                                          Step Back          유영진   \n",
       "\n",
       "        composer      date                                                img   \n",
       "243  윤하 (YOUNHA)  20220330  https://cdnimg.melon.co.kr/cm2/album/images/10...  \\\n",
       "244          유영진  20220103  https://cdnimg.melon.co.kr/cm2/album/images/10...   \n",
       "\n",
       "    comment    like                                              lyric   \n",
       "243   3,142  302118                                                     \\\n",
       "244   1,417   98139  You must step back\\n어델 어델 봐\\n너 감히 누구라고 날 제껴\\n이...   \n",
       "\n",
       "    plylstSeq  \n",
       "243       NaN  \n",
       "244       NaN  "
      ]
     },
     "execution_count": 36,
     "metadata": {},
     "output_type": "execute_result"
    }
   ],
   "source": [
    "df = pd.DataFrame(infos)\n",
    "df.tail(2)"
   ]
  },
  {
   "cell_type": "code",
   "execution_count": 37,
   "metadata": {},
   "outputs": [
    {
     "data": {
      "text/plain": [
       "(245, 206)"
      ]
     },
     "execution_count": 37,
     "metadata": {},
     "output_type": "execute_result"
    }
   ],
   "source": [
    "df.shape[0], df.songId.nunique()"
   ]
  },
  {
   "cell_type": "code",
   "execution_count": 38,
   "metadata": {},
   "outputs": [
    {
     "data": {
      "text/html": [
       "<div>\n",
       "<style scoped>\n",
       "    .dataframe tbody tr th:only-of-type {\n",
       "        vertical-align: middle;\n",
       "    }\n",
       "\n",
       "    .dataframe tbody tr th {\n",
       "        vertical-align: top;\n",
       "    }\n",
       "\n",
       "    .dataframe thead th {\n",
       "        text-align: right;\n",
       "    }\n",
       "</style>\n",
       "<table border=\"1\" class=\"dataframe\">\n",
       "  <thead>\n",
       "    <tr style=\"text-align: right;\">\n",
       "      <th></th>\n",
       "      <th>songId</th>\n",
       "      <th>title</th>\n",
       "      <th>artist</th>\n",
       "      <th>genre</th>\n",
       "      <th>album</th>\n",
       "      <th>lyricist</th>\n",
       "      <th>composer</th>\n",
       "      <th>date</th>\n",
       "      <th>img</th>\n",
       "      <th>comment</th>\n",
       "      <th>like</th>\n",
       "      <th>lyric</th>\n",
       "      <th>plylstSeq</th>\n",
       "    </tr>\n",
       "  </thead>\n",
       "  <tbody>\n",
       "    <tr>\n",
       "      <th>0</th>\n",
       "      <td>30816860</td>\n",
       "      <td>뿜뿜</td>\n",
       "      <td>모모랜드 (MOMOLAND)</td>\n",
       "      <td>댄스</td>\n",
       "      <td>GREAT!</td>\n",
       "      <td>신사동 호랭이</td>\n",
       "      <td>범이</td>\n",
       "      <td>20180103</td>\n",
       "      <td>https://cdnimg.melon.co.kr/cm/album/images/101...</td>\n",
       "      <td>1,428</td>\n",
       "      <td>150387</td>\n",
       "      <td>설레어 너와 나의 랑데뷰 \\n랑데뷰\\n내 마음을 들었다 놨다 해 맘대루 \\n맘대루\\...</td>\n",
       "      <td>NaN</td>\n",
       "    </tr>\n",
       "    <tr>\n",
       "      <th>1</th>\n",
       "      <td>31131273</td>\n",
       "      <td>뚜두뚜두 (DDU-DU DDU-DU)</td>\n",
       "      <td>BLACKPINK</td>\n",
       "      <td>랩/힙합</td>\n",
       "      <td>SQUARE UP</td>\n",
       "      <td>TEDDY</td>\n",
       "      <td>TEDDY</td>\n",
       "      <td>20180615</td>\n",
       "      <td>https://cdnimg.melon.co.kr/cm/album/images/101...</td>\n",
       "      <td>2,240</td>\n",
       "      <td>257646</td>\n",
       "      <td>착한 얼굴에 그렇지 못한 태도\\n가녀린 몸매 속\\n가려진 volume은 두 배로\\n...</td>\n",
       "      <td>NaN</td>\n",
       "    </tr>\n",
       "  </tbody>\n",
       "</table>\n",
       "</div>"
      ],
      "text/plain": [
       "     songId                 title           artist genre      album lyricist   \n",
       "0  30816860                    뿜뿜  모모랜드 (MOMOLAND)    댄스     GREAT!  신사동 호랭이  \\\n",
       "1  31131273  뚜두뚜두 (DDU-DU DDU-DU)        BLACKPINK  랩/힙합  SQUARE UP    TEDDY   \n",
       "\n",
       "  composer      date                                                img   \n",
       "0       범이  20180103  https://cdnimg.melon.co.kr/cm/album/images/101...  \\\n",
       "1    TEDDY  20180615  https://cdnimg.melon.co.kr/cm/album/images/101...   \n",
       "\n",
       "  comment    like                                              lyric plylstSeq  \n",
       "0   1,428  150387  설레어 너와 나의 랑데뷰 \\n랑데뷰\\n내 마음을 들었다 놨다 해 맘대루 \\n맘대루\\...       NaN  \n",
       "1   2,240  257646  착한 얼굴에 그렇지 못한 태도\\n가녀린 몸매 속\\n가려진 volume은 두 배로\\n...       NaN  "
      ]
     },
     "execution_count": 38,
     "metadata": {},
     "output_type": "execute_result"
    }
   ],
   "source": [
    "df.to_csv('data/melon_year9.csv', index=False, encoding='utf-8')\n",
    "pd.read_csv('data/melon_year9.csv').head(2)"
   ]
  }
 ],
 "metadata": {
  "kernelspec": {
   "display_name": "base",
   "language": "python",
   "name": "python3"
  },
  "language_info": {
   "codemirror_mode": {
    "name": "ipython",
    "version": 3
   },
   "file_extension": ".py",
   "mimetype": "text/x-python",
   "name": "python",
   "nbconvert_exporter": "python",
   "pygments_lexer": "ipython3",
   "version": "3.10.9"
  },
  "orig_nbformat": 4
 },
 "nbformat": 4,
 "nbformat_minor": 2
}
