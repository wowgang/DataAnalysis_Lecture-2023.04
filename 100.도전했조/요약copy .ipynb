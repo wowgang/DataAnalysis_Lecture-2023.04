{
 "cells": [
  {
   "cell_type": "code",
   "execution_count": 47,
   "metadata": {},
   "outputs": [],
   "source": [
    "import pandas as pd\n",
    "from collections import Counter\n",
    "df = pd.read_csv('data/melon_song_v2.csv')"
   ]
  },
  {
   "cell_type": "code",
   "execution_count": 48,
   "metadata": {},
   "outputs": [],
   "source": [
    "# df.lyric = df['lyric'].str.replace('\\r','').str.replace('\\n')\n",
    "df.lyric = df['lyric'].str.replace('\\r','').str.replace('\\n\\n','\\n').str.replace(' \\n','\\n')"
   ]
  },
  {
   "cell_type": "code",
   "execution_count": 49,
   "metadata": {},
   "outputs": [],
   "source": [
    "df.songId = df.songId.astype(str)"
   ]
  },
  {
   "cell_type": "code",
   "execution_count": 92,
   "metadata": {},
   "outputs": [
    {
     "data": {
      "text/html": [
       "<div>\n",
       "<style scoped>\n",
       "    .dataframe tbody tr th:only-of-type {\n",
       "        vertical-align: middle;\n",
       "    }\n",
       "\n",
       "    .dataframe tbody tr th {\n",
       "        vertical-align: top;\n",
       "    }\n",
       "\n",
       "    .dataframe thead th {\n",
       "        text-align: right;\n",
       "    }\n",
       "</style>\n",
       "<table border=\"1\" class=\"dataframe\">\n",
       "  <thead>\n",
       "    <tr style=\"text-align: right;\">\n",
       "      <th></th>\n",
       "      <th>songId</th>\n",
       "      <th>title</th>\n",
       "      <th>artist</th>\n",
       "      <th>genre</th>\n",
       "      <th>album</th>\n",
       "      <th>lyricist</th>\n",
       "      <th>composer</th>\n",
       "      <th>date</th>\n",
       "      <th>img</th>\n",
       "      <th>comment</th>\n",
       "      <th>like</th>\n",
       "      <th>lyric</th>\n",
       "      <th>plylstSeq</th>\n",
       "      <th>total</th>\n",
       "    </tr>\n",
       "  </thead>\n",
       "  <tbody>\n",
       "    <tr>\n",
       "      <th>2091</th>\n",
       "      <td>2944413</td>\n",
       "      <td>널 그리며</td>\n",
       "      <td>박남정</td>\n",
       "      <td>댄스</td>\n",
       "      <td>박남정 Best</td>\n",
       "      <td>박남정</td>\n",
       "      <td>박남정</td>\n",
       "      <td>19940701</td>\n",
       "      <td>https://cdnimg.melon.co.kr/cm/album/images/010...</td>\n",
       "      <td>0</td>\n",
       "      <td>147</td>\n",
       "      <td>별빛 반짝이는 저하늘아래\\n도시의 가로등 웃음지을때\\n난무슨 생각에 잠겨있는지\\n아...</td>\n",
       "      <td>439176590 408543604</td>\n",
       "      <td>별빛 반짝이다 저 하늘아래 도시 가로등 웃음 지다 때 난 무슨 생각 잠기다 아무렇다...</td>\n",
       "    </tr>\n",
       "  </tbody>\n",
       "</table>\n",
       "</div>"
      ],
      "text/plain": [
       "       songId  title artist genre     album lyricist composer      date  \\\n",
       "2091  2944413  널 그리며    박남정    댄스  박남정 Best      박남정      박남정  19940701   \n",
       "\n",
       "                                                    img  comment  like  \\\n",
       "2091  https://cdnimg.melon.co.kr/cm/album/images/010...        0   147   \n",
       "\n",
       "                                                  lyric            plylstSeq  \\\n",
       "2091  별빛 반짝이는 저하늘아래\\n도시의 가로등 웃음지을때\\n난무슨 생각에 잠겨있는지\\n아...  439176590 408543604   \n",
       "\n",
       "                                                  total  \n",
       "2091  별빛 반짝이다 저 하늘아래 도시 가로등 웃음 지다 때 난 무슨 생각 잠기다 아무렇다...  "
      ]
     },
     "execution_count": 92,
     "metadata": {},
     "output_type": "execute_result"
    }
   ],
   "source": [
    "# df[df.songId.str.contains('1594085')]\n",
    "df[df.songId.str.contains('2944413')]"
   ]
  },
  {
   "cell_type": "code",
   "execution_count": 93,
   "metadata": {},
   "outputs": [
    {
     "data": {
      "text/plain": [
       "'별빛 반짝이는 저하늘아래\\n도시의 가로등 웃음지을때\\n난무슨 생각에 잠겨있는지\\n아무런 말없이 홀로거니네\\n외로운밤 소리없이\\n어디론지 가고싶어\\n흘러가는 구름처럼\\n정처없는 이내 발걸음\\n허전한 내마음 그대는 알거야\\n귓가에 맴도는 그대의 속삭임\\n왜이리 내마음 적시어 있는지\\n애타는 마음을 너는 알겠지\\n*왜 난이리 널 그리는 걸까\\n왜 내모습 보이지 않는걸까\\n너는 내 마음을 알고있겠지\\n우린 서로 사랑하니까*\\n어둑 어둑해진 밤하늘 아래\\n어딘가 들리는휘파람 소리\\n난무슨 생각에 잠겨있는지\\n아무른 말없이 홀로거니네\\n외로운밤 소리없이\\n어디론지 가고싶어\\n흘러가는 구름처럼\\n정처없는 이내 발걸음\\n허전한 내마음 그대는알거야\\n귓가에 맴도는 그대의 속삭임\\n왜이리 내마음 적시어 있는지\\n애타는 마음을 너는 알겠지\\n*왜 난 이리 널 그리는 걸까\\n왜 내모습 보이지 않는걸까\\n너는 내 마음을 알고 있겠지\\n우린 서로 사랑하니까*\\n&lt;반복&gt;'"
      ]
     },
     "execution_count": 93,
     "metadata": {},
     "output_type": "execute_result"
    }
   ],
   "source": [
    "df.iloc[2091]['lyric']"
   ]
  },
  {
   "cell_type": "code",
   "execution_count": 45,
   "metadata": {},
   "outputs": [],
   "source": [
    "df.to_csv('data/check1.csv', index=False)\n",
    "ch = pd.read_csv('data/check1.csv', dtype=str)"
   ]
  },
  {
   "cell_type": "code",
   "execution_count": 65,
   "metadata": {},
   "outputs": [
    {
     "data": {
      "text/html": [
       "<div>\n",
       "<style scoped>\n",
       "    .dataframe tbody tr th:only-of-type {\n",
       "        vertical-align: middle;\n",
       "    }\n",
       "\n",
       "    .dataframe tbody tr th {\n",
       "        vertical-align: top;\n",
       "    }\n",
       "\n",
       "    .dataframe thead th {\n",
       "        text-align: right;\n",
       "    }\n",
       "</style>\n",
       "<table border=\"1\" class=\"dataframe\">\n",
       "  <thead>\n",
       "    <tr style=\"text-align: right;\">\n",
       "      <th></th>\n",
       "      <th>songId</th>\n",
       "      <th>title</th>\n",
       "      <th>artist</th>\n",
       "      <th>genre</th>\n",
       "      <th>album</th>\n",
       "      <th>lyricist</th>\n",
       "      <th>composer</th>\n",
       "      <th>date</th>\n",
       "      <th>img</th>\n",
       "      <th>comment</th>\n",
       "      <th>like</th>\n",
       "      <th>lyric</th>\n",
       "      <th>plylstSeq</th>\n",
       "      <th>total</th>\n",
       "    </tr>\n",
       "  </thead>\n",
       "  <tbody>\n",
       "    <tr>\n",
       "      <th>2037</th>\n",
       "      <td>52505</td>\n",
       "      <td>바라볼 수 없는 그대</td>\n",
       "      <td>양수경</td>\n",
       "      <td>발라드</td>\n",
       "      <td>사랑은 창밖에 빗물같아요</td>\n",
       "      <td>박강성</td>\n",
       "      <td>박강성</td>\n",
       "      <td>19900301</td>\n",
       "      <td>https://cdnimg.melon.co.kr/cm/album/images/000...</td>\n",
       "      <td>3</td>\n",
       "      <td>1960</td>\n",
       "      <td>그대 가슴에 기대고 싶은 나의\\n여린 눈길에 왜 그대는 아픔으로\\n돌아서고 있나 흐...</td>\n",
       "      <td>413491319 468339973</td>\n",
       "      <td>그대 가슴 기대다 싶다 나 여리다 눈길 왜 그대 아픔 으로 돌아서다 있다 흐느껴 울...</td>\n",
       "    </tr>\n",
       "  </tbody>\n",
       "</table>\n",
       "</div>"
      ],
      "text/plain": [
       "     songId        title artist genre          album lyricist composer  \\\n",
       "2037  52505  바라볼 수 없는 그대    양수경   발라드  사랑은 창밖에 빗물같아요      박강성      박강성   \n",
       "\n",
       "          date                                                img comment  \\\n",
       "2037  19900301  https://cdnimg.melon.co.kr/cm/album/images/000...       3   \n",
       "\n",
       "      like                                              lyric  \\\n",
       "2037  1960  그대 가슴에 기대고 싶은 나의\\n여린 눈길에 왜 그대는 아픔으로\\n돌아서고 있나 흐...   \n",
       "\n",
       "                plylstSeq                                              total  \n",
       "2037  413491319 468339973  그대 가슴 기대다 싶다 나 여리다 눈길 왜 그대 아픔 으로 돌아서다 있다 흐느껴 울...  "
      ]
     },
     "execution_count": 65,
     "metadata": {},
     "output_type": "execute_result"
    }
   ],
   "source": [
    "ch[ch.songId.str.contains('52505')]"
   ]
  },
  {
   "cell_type": "code",
   "execution_count": 61,
   "metadata": {},
   "outputs": [],
   "source": [
    "ch.lyric = ch['lyric'].str.replace('\\n\\n','\\n').str.replace(' \\n','\\n').str.replace('\\n\\n\\n','\\n').str.replace('\\n ','\\n')"
   ]
  },
  {
   "cell_type": "code",
   "execution_count": 66,
   "metadata": {},
   "outputs": [
    {
     "data": {
      "text/plain": [
       "'그대 가슴에 기대고 싶은 나의\\n여린 눈길에 왜 그대는 아픔으로\\n돌아서고 있나 흐느껴 울면 바라볼까\\n가만히 그댈 보아도 왜 가까이\\n불렀어도 그렇게 멀리 떠나나\\n정말로 나를 사랑하고 있다면\\n이별이란 있을 수 없어\\n그리움 속에 기다릴 수 있다면\\n이렇게 애원하진 않아\\n그렇게 떠나가는 사람\\n난 정말 울어 버렸네\\n흐느껴 울면 바라볼까 가만히 그댈\\n보아도 왜 가까이 불렀어도\\n그렇게 멀리 떠나나 정말로 나를\\n사랑하고 있다면 이별이란 있을 수없어\\n그리움 속에 기다릴 수 있다면\\n이렇게 애원하진 않아\\n그렇게 떠나가는 사람\\n난 정말 울어버렸네\\n그렇게 떠나가는 사람\\n난 정말 울어버렸네'"
      ]
     },
     "execution_count": 66,
     "metadata": {},
     "output_type": "execute_result"
    }
   ],
   "source": [
    "ch.iloc[2037]['lyric']"
   ]
  },
  {
   "cell_type": "code",
   "execution_count": 63,
   "metadata": {},
   "outputs": [],
   "source": [
    "ch.to_csv('data/check1.csv', index=False)"
   ]
  },
  {
   "attachments": {},
   "cell_type": "markdown",
   "metadata": {},
   "source": [
    "> 찐 "
   ]
  },
  {
   "cell_type": "code",
   "execution_count": 84,
   "metadata": {},
   "outputs": [],
   "source": [
    "df2 = pd.read_csv('data/check1.csv')"
   ]
  },
  {
   "cell_type": "code",
   "execution_count": 85,
   "metadata": {},
   "outputs": [
    {
     "data": {
      "text/plain": [
       "0       햇살은 우릴 위해 내리고\\n바람도 서롤 감싸게 했죠\\n우리 웃음속에 계절은 오고\\n...\n",
       "1       하나만 알고 둘은\\n잘 모르는 사람입니다\\n하루는 비틀거리고\\n하루는 뒤뚱거리고\\n...\n",
       "2       서쪽하늘로 노을은 지고\\n이젠 슬픔이 돼버린 그대를\\n다시 부를수 없을 것 같아\\n...\n",
       "3       누군가를 다시 만난다면\\n여전히 나는 너를\\n누군가를 다시 사랑하면\\n영원히 나는 ...\n",
       "4       말해야 하는데 네 앞에 서면\\n아무 말 못 하는 내가 미워져\\n용기를 내야 해 후회...\n",
       "                              ...                        \n",
       "6294    그대 곁에 있으면 아무 생각 안 나요\\n사소한 고민도 잊어버리죠\\n그대 숨소리 맞춰...\n",
       "6295    내가 가는 길이 험하고 멀지라도 그대 함께 간다면 좋겠네\\n우리가는 길에 아침햇살 ...\n",
       "6296    또 하루 멀어져 간다\\n내뿜은 담배연기처럼\\n작기만한 내 기억속에\\n무얼 채워 살고...\n",
       "6297    사랑도 이별도 오늘은 잠시 미뤄보자\\n불안한 청춘도 내일로 잠시 미뤄두자\\n떠나버린...\n",
       "6298    It's 6 o'clock\\n너와 나는 시간이 빨라서\\n시간이 달라서\\n어쩔 수 없...\n",
       "Name: lyric, Length: 6299, dtype: object"
      ]
     },
     "execution_count": 85,
     "metadata": {},
     "output_type": "execute_result"
    }
   ],
   "source": [
    "df2['lyric']"
   ]
  },
  {
   "cell_type": "code",
   "execution_count": 86,
   "metadata": {},
   "outputs": [],
   "source": [
    "df2.date.fillna(0, inplace=True)\n",
    "df2['date'] = df2.date.astype(int).astype(str)\n",
    "df2.fillna('', inplace=True)\n",
    "df2['songId'] = df2.songId.astype(str)\n",
    "df2.lyric = df2.lyric.str.replace('\\r', '')"
   ]
  },
  {
   "cell_type": "code",
   "execution_count": 87,
   "metadata": {},
   "outputs": [
    {
     "data": {
      "text/html": [
       "<div>\n",
       "<style scoped>\n",
       "    .dataframe tbody tr th:only-of-type {\n",
       "        vertical-align: middle;\n",
       "    }\n",
       "\n",
       "    .dataframe tbody tr th {\n",
       "        vertical-align: top;\n",
       "    }\n",
       "\n",
       "    .dataframe thead th {\n",
       "        text-align: right;\n",
       "    }\n",
       "</style>\n",
       "<table border=\"1\" class=\"dataframe\">\n",
       "  <thead>\n",
       "    <tr style=\"text-align: right;\">\n",
       "      <th></th>\n",
       "      <th>songId</th>\n",
       "      <th>title</th>\n",
       "      <th>artist</th>\n",
       "      <th>genre</th>\n",
       "      <th>album</th>\n",
       "      <th>lyricist</th>\n",
       "      <th>composer</th>\n",
       "      <th>date</th>\n",
       "      <th>img</th>\n",
       "      <th>comment</th>\n",
       "      <th>like</th>\n",
       "      <th>lyric</th>\n",
       "      <th>plylstSeq</th>\n",
       "      <th>total</th>\n",
       "    </tr>\n",
       "  </thead>\n",
       "  <tbody>\n",
       "    <tr>\n",
       "      <th>0</th>\n",
       "      <td>418168</td>\n",
       "      <td>희재</td>\n",
       "      <td>성시경</td>\n",
       "      <td>발라드 국내영화</td>\n",
       "      <td>국화꽃 향기 OST</td>\n",
       "      <td>양재선</td>\n",
       "      <td>MGR</td>\n",
       "      <td>20030201</td>\n",
       "      <td>https://cdnimg.melon.co.kr/cm/album/images/000...</td>\n",
       "      <td>332.0</td>\n",
       "      <td>138267.0</td>\n",
       "      <td>햇살은 우릴 위해 내리고\\n바람도 서롤 감싸게 했죠\\n우리 웃음속에 계절은 오고\\n...</td>\n",
       "      <td>445029956 411111859</td>\n",
       "      <td>햇살 우릴 위해 내리다 바람 서 롤 감싸다 하다 우리 웃음 속 계절 오다 또 가다 ...</td>\n",
       "    </tr>\n",
       "    <tr>\n",
       "      <th>1</th>\n",
       "      <td>35609035</td>\n",
       "      <td>인생은 뷰티풀</td>\n",
       "      <td>김호중</td>\n",
       "      <td>발라드 국내영화</td>\n",
       "      <td>인생은 뷰티풀: 비타돌체</td>\n",
       "      <td>김호중</td>\n",
       "      <td>김호중</td>\n",
       "      <td>20220907</td>\n",
       "      <td>https://cdnimg.melon.co.kr/cm2/album/images/11...</td>\n",
       "      <td>197.0</td>\n",
       "      <td>17322.0</td>\n",
       "      <td>하나만 알고 둘은\\n잘 모르는 사람입니다\\n하루는 비틀거리고\\n하루는 뒤뚱거리고\\n...</td>\n",
       "      <td>457536944 474137187</td>\n",
       "      <td>하나 만 고 둘 자다 모르다 사람 이다 하루 비틀 거리 고 하루 뒤뚱거리 고 월요일...</td>\n",
       "    </tr>\n",
       "    <tr>\n",
       "      <th>2</th>\n",
       "      <td>1046278</td>\n",
       "      <td>서쪽 하늘</td>\n",
       "      <td>이승철</td>\n",
       "      <td>발라드 국내영화</td>\n",
       "      <td>청연 OST</td>\n",
       "      <td>이승철</td>\n",
       "      <td>윤명선</td>\n",
       "      <td>20051220</td>\n",
       "      <td>https://cdnimg.melon.co.kr/cm/album/images/003...</td>\n",
       "      <td>84.0</td>\n",
       "      <td>48109.0</td>\n",
       "      <td>서쪽하늘로 노을은 지고\\n이젠 슬픔이 돼버린 그대를\\n다시 부를수 없을 것 같아\\n...</td>\n",
       "      <td>426571097 405285190</td>\n",
       "      <td>서쪽하늘 노을 지고 젠 슬픔 돼다 버리다 그대 다시 부르다 없다 같다 또 한번 불다...</td>\n",
       "    </tr>\n",
       "    <tr>\n",
       "      <th>3</th>\n",
       "      <td>35609034</td>\n",
       "      <td>슬픈등</td>\n",
       "      <td>김호중</td>\n",
       "      <td>발라드 국내영화</td>\n",
       "      <td>인생은 뷰티풀: 비타돌체</td>\n",
       "      <td>김호중</td>\n",
       "      <td>김호중</td>\n",
       "      <td>20220907</td>\n",
       "      <td>https://cdnimg.melon.co.kr/cm2/album/images/11...</td>\n",
       "      <td>145.0</td>\n",
       "      <td>15389.0</td>\n",
       "      <td>누군가를 다시 만난다면\\n여전히 나는 너를\\n누군가를 다시 사랑하면\\n영원히 나는 ...</td>\n",
       "      <td>457536944 515278519</td>\n",
       "      <td>누군가 다시 만나다 여전하다 나 너 누군가 다시 사랑 하다 영원하다 나 너 다시 또...</td>\n",
       "    </tr>\n",
       "    <tr>\n",
       "      <th>4</th>\n",
       "      <td>35728845</td>\n",
       "      <td>고백 (영화 '동감' X 츄 (이달의 소녀))</td>\n",
       "      <td>츄(Chuu)</td>\n",
       "      <td>록/메탈 국내영화</td>\n",
       "      <td>고백 (영화 '동감' X 츄 (이달의 소녀))</td>\n",
       "      <td>강현민</td>\n",
       "      <td>강현민</td>\n",
       "      <td>20221016</td>\n",
       "      <td>https://cdnimg.melon.co.kr/cm2/album/images/11...</td>\n",
       "      <td>80.0</td>\n",
       "      <td>16902.0</td>\n",
       "      <td>말해야 하는데 네 앞에 서면\\n아무 말 못 하는 내가 미워져\\n용기를 내야 해 후회...</td>\n",
       "      <td>484732185 513801514</td>\n",
       "      <td>말 하다 하다 네 앞 서면 아무 말 못 하다 내 가 미우다 용기 내야 해 후회 하다...</td>\n",
       "    </tr>\n",
       "  </tbody>\n",
       "</table>\n",
       "</div>"
      ],
      "text/plain": [
       "     songId                      title   artist      genre  \\\n",
       "0    418168                         희재      성시경   발라드 국내영화   \n",
       "1  35609035                    인생은 뷰티풀      김호중   발라드 국내영화   \n",
       "2   1046278                      서쪽 하늘      이승철   발라드 국내영화   \n",
       "3  35609034                        슬픈등      김호중   발라드 국내영화   \n",
       "4  35728845  고백 (영화 '동감' X 츄 (이달의 소녀))  츄(Chuu)  록/메탈 국내영화   \n",
       "\n",
       "                       album lyricist composer      date  \\\n",
       "0                 국화꽃 향기 OST      양재선      MGR  20030201   \n",
       "1              인생은 뷰티풀: 비타돌체      김호중      김호중  20220907   \n",
       "2                     청연 OST      이승철      윤명선  20051220   \n",
       "3              인생은 뷰티풀: 비타돌체      김호중      김호중  20220907   \n",
       "4  고백 (영화 '동감' X 츄 (이달의 소녀))      강현민      강현민  20221016   \n",
       "\n",
       "                                                 img comment      like  \\\n",
       "0  https://cdnimg.melon.co.kr/cm/album/images/000...   332.0  138267.0   \n",
       "1  https://cdnimg.melon.co.kr/cm2/album/images/11...   197.0   17322.0   \n",
       "2  https://cdnimg.melon.co.kr/cm/album/images/003...    84.0   48109.0   \n",
       "3  https://cdnimg.melon.co.kr/cm2/album/images/11...   145.0   15389.0   \n",
       "4  https://cdnimg.melon.co.kr/cm2/album/images/11...    80.0   16902.0   \n",
       "\n",
       "                                               lyric            plylstSeq  \\\n",
       "0  햇살은 우릴 위해 내리고\\n바람도 서롤 감싸게 했죠\\n우리 웃음속에 계절은 오고\\n...  445029956 411111859   \n",
       "1  하나만 알고 둘은\\n잘 모르는 사람입니다\\n하루는 비틀거리고\\n하루는 뒤뚱거리고\\n...  457536944 474137187   \n",
       "2  서쪽하늘로 노을은 지고\\n이젠 슬픔이 돼버린 그대를\\n다시 부를수 없을 것 같아\\n...  426571097 405285190   \n",
       "3  누군가를 다시 만난다면\\n여전히 나는 너를\\n누군가를 다시 사랑하면\\n영원히 나는 ...  457536944 515278519   \n",
       "4  말해야 하는데 네 앞에 서면\\n아무 말 못 하는 내가 미워져\\n용기를 내야 해 후회...  484732185 513801514   \n",
       "\n",
       "                                               total  \n",
       "0  햇살 우릴 위해 내리다 바람 서 롤 감싸다 하다 우리 웃음 속 계절 오다 또 가다 ...  \n",
       "1  하나 만 고 둘 자다 모르다 사람 이다 하루 비틀 거리 고 하루 뒤뚱거리 고 월요일...  \n",
       "2  서쪽하늘 노을 지고 젠 슬픔 돼다 버리다 그대 다시 부르다 없다 같다 또 한번 불다...  \n",
       "3  누군가 다시 만나다 여전하다 나 너 누군가 다시 사랑 하다 영원하다 나 너 다시 또...  \n",
       "4  말 하다 하다 네 앞 서면 아무 말 못 하다 내 가 미우다 용기 내야 해 후회 하다...  "
      ]
     },
     "execution_count": 87,
     "metadata": {},
     "output_type": "execute_result"
    }
   ],
   "source": [
    "df2.head()"
   ]
  },
  {
   "cell_type": "code",
   "execution_count": 88,
   "metadata": {},
   "outputs": [
    {
     "data": {
      "text/plain": [
       "songId       0\n",
       "title        0\n",
       "artist       0\n",
       "genre        0\n",
       "album        0\n",
       "lyricist     0\n",
       "composer     0\n",
       "date         0\n",
       "img          0\n",
       "comment      0\n",
       "like         0\n",
       "lyric        0\n",
       "plylstSeq    0\n",
       "total        0\n",
       "dtype: int64"
      ]
     },
     "execution_count": 88,
     "metadata": {},
     "output_type": "execute_result"
    }
   ],
   "source": [
    "df2.isna().sum()"
   ]
  },
  {
   "cell_type": "code",
   "execution_count": 91,
   "metadata": {},
   "outputs": [
    {
     "data": {
      "text/plain": [
       "(6299, 14)"
      ]
     },
     "execution_count": 91,
     "metadata": {},
     "output_type": "execute_result"
    }
   ],
   "source": [
    "df2.shape"
   ]
  },
  {
   "cell_type": "code",
   "execution_count": 89,
   "metadata": {},
   "outputs": [],
   "source": [
    "yoyack = []\n",
    "for i in df2['lyric']:\n",
    "    ego = i.split('\\n')\n",
    "    sentence_counts = Counter(ego)\n",
    "    most_common_sentences = sentence_counts.most_common(2)\n",
    "    for sentence, count in most_common_sentences:\n",
    "        yoyack.append(sentence)"
   ]
  },
  {
   "cell_type": "code",
   "execution_count": 90,
   "metadata": {},
   "outputs": [
    {
     "data": {
      "text/plain": [
       "12539"
      ]
     },
     "execution_count": 90,
     "metadata": {},
     "output_type": "execute_result"
    }
   ],
   "source": [
    "len(yoyack)"
   ]
  },
  {
   "cell_type": "code",
   "execution_count": 41,
   "metadata": {},
   "outputs": [
    {
     "name": "stdout",
     "output_type": "stream",
     "text": [
      "[0, 1]\n",
      "[2, 3]\n",
      "[4, 5]\n",
      "[6]\n"
     ]
    }
   ],
   "source": [
    "a = [0,1,2,3,4,5,6]\n",
    "for i in range(0, len(a), 2):\n",
    "    b = a[i:i+2]\n",
    "    print(b)"
   ]
  },
  {
   "cell_type": "code",
   "execution_count": 78,
   "metadata": {},
   "outputs": [],
   "source": [
    "yoyack_re = []\n",
    "for i in range(0, len(yoyack), 2):\n",
    "    sublist = '<br>'.join(yoyack[i:i+2]).strip()\n",
    "    yoyack_re.append(sublist)"
   ]
  },
  {
   "cell_type": "code",
   "execution_count": 62,
   "metadata": {},
   "outputs": [],
   "source": [
    "# yoyack_re = []\n",
    "# for i in range(0, len(yoyack)):\n",
    "#     sublist = yoyack[i].strip()\n",
    "#     yoyack_re.append(sublist)"
   ]
  },
  {
   "cell_type": "code",
   "execution_count": 79,
   "metadata": {},
   "outputs": [
    {
     "data": {
      "text/plain": [
       "(6299, 14)"
      ]
     },
     "execution_count": 79,
     "metadata": {},
     "output_type": "execute_result"
    }
   ],
   "source": [
    "df2.shape"
   ]
  },
  {
   "cell_type": "code",
   "execution_count": 80,
   "metadata": {},
   "outputs": [
    {
     "data": {
      "text/plain": [
       "(6270, 6270)"
      ]
     },
     "execution_count": 80,
     "metadata": {},
     "output_type": "execute_result"
    }
   ],
   "source": [
    "len(yoyack_re), len(yoyack_re)"
   ]
  },
  {
   "cell_type": "code",
   "execution_count": 81,
   "metadata": {},
   "outputs": [
    {
     "data": {
      "text/plain": [
       "'정말로 울면 내가 그댈 보내<br>준 것 같아서'"
      ]
     },
     "execution_count": 81,
     "metadata": {},
     "output_type": "execute_result"
    }
   ],
   "source": [
    "yoyack_re[0]"
   ]
  },
  {
   "cell_type": "code",
   "execution_count": 83,
   "metadata": {},
   "outputs": [
    {
     "ename": "ValueError",
     "evalue": "Length of values (6270) does not match length of index (6299)",
     "output_type": "error",
     "traceback": [
      "\u001b[1;31m---------------------------------------------------------------------------\u001b[0m",
      "\u001b[1;31mValueError\u001b[0m                                Traceback (most recent call last)",
      "Cell \u001b[1;32mIn[83], line 1\u001b[0m\n\u001b[1;32m----> 1\u001b[0m df2[\u001b[39m'\u001b[39m\u001b[39mly_summary\u001b[39m\u001b[39m'\u001b[39m] \u001b[39m=\u001b[39m yoyack_re\n",
      "File \u001b[1;32mc:\\Users\\user\\anaconda3\\lib\\site-packages\\pandas\\core\\frame.py:3980\u001b[0m, in \u001b[0;36mDataFrame.__setitem__\u001b[1;34m(self, key, value)\u001b[0m\n\u001b[0;32m   3977\u001b[0m     \u001b[39mself\u001b[39m\u001b[39m.\u001b[39m_setitem_array([key], value)\n\u001b[0;32m   3978\u001b[0m \u001b[39melse\u001b[39;00m:\n\u001b[0;32m   3979\u001b[0m     \u001b[39m# set column\u001b[39;00m\n\u001b[1;32m-> 3980\u001b[0m     \u001b[39mself\u001b[39;49m\u001b[39m.\u001b[39;49m_set_item(key, value)\n",
      "File \u001b[1;32mc:\\Users\\user\\anaconda3\\lib\\site-packages\\pandas\\core\\frame.py:4174\u001b[0m, in \u001b[0;36mDataFrame._set_item\u001b[1;34m(self, key, value)\u001b[0m\n\u001b[0;32m   4164\u001b[0m \u001b[39mdef\u001b[39;00m \u001b[39m_set_item\u001b[39m(\u001b[39mself\u001b[39m, key, value) \u001b[39m-\u001b[39m\u001b[39m>\u001b[39m \u001b[39mNone\u001b[39;00m:\n\u001b[0;32m   4165\u001b[0m \u001b[39m    \u001b[39m\u001b[39m\"\"\"\u001b[39;00m\n\u001b[0;32m   4166\u001b[0m \u001b[39m    Add series to DataFrame in specified column.\u001b[39;00m\n\u001b[0;32m   4167\u001b[0m \n\u001b[1;32m   (...)\u001b[0m\n\u001b[0;32m   4172\u001b[0m \u001b[39m    ensure homogeneity.\u001b[39;00m\n\u001b[0;32m   4173\u001b[0m \u001b[39m    \"\"\"\u001b[39;00m\n\u001b[1;32m-> 4174\u001b[0m     value \u001b[39m=\u001b[39m \u001b[39mself\u001b[39;49m\u001b[39m.\u001b[39;49m_sanitize_column(value)\n\u001b[0;32m   4176\u001b[0m     \u001b[39mif\u001b[39;00m (\n\u001b[0;32m   4177\u001b[0m         key \u001b[39min\u001b[39;00m \u001b[39mself\u001b[39m\u001b[39m.\u001b[39mcolumns\n\u001b[0;32m   4178\u001b[0m         \u001b[39mand\u001b[39;00m value\u001b[39m.\u001b[39mndim \u001b[39m==\u001b[39m \u001b[39m1\u001b[39m\n\u001b[0;32m   4179\u001b[0m         \u001b[39mand\u001b[39;00m \u001b[39mnot\u001b[39;00m is_extension_array_dtype(value)\n\u001b[0;32m   4180\u001b[0m     ):\n\u001b[0;32m   4181\u001b[0m         \u001b[39m# broadcast across multiple columns if necessary\u001b[39;00m\n\u001b[0;32m   4182\u001b[0m         \u001b[39mif\u001b[39;00m \u001b[39mnot\u001b[39;00m \u001b[39mself\u001b[39m\u001b[39m.\u001b[39mcolumns\u001b[39m.\u001b[39mis_unique \u001b[39mor\u001b[39;00m \u001b[39misinstance\u001b[39m(\u001b[39mself\u001b[39m\u001b[39m.\u001b[39mcolumns, MultiIndex):\n",
      "File \u001b[1;32mc:\\Users\\user\\anaconda3\\lib\\site-packages\\pandas\\core\\frame.py:4915\u001b[0m, in \u001b[0;36mDataFrame._sanitize_column\u001b[1;34m(self, value)\u001b[0m\n\u001b[0;32m   4912\u001b[0m     \u001b[39mreturn\u001b[39;00m _reindex_for_setitem(Series(value), \u001b[39mself\u001b[39m\u001b[39m.\u001b[39mindex)\n\u001b[0;32m   4914\u001b[0m \u001b[39mif\u001b[39;00m is_list_like(value):\n\u001b[1;32m-> 4915\u001b[0m     com\u001b[39m.\u001b[39;49mrequire_length_match(value, \u001b[39mself\u001b[39;49m\u001b[39m.\u001b[39;49mindex)\n\u001b[0;32m   4916\u001b[0m \u001b[39mreturn\u001b[39;00m sanitize_array(value, \u001b[39mself\u001b[39m\u001b[39m.\u001b[39mindex, copy\u001b[39m=\u001b[39m\u001b[39mTrue\u001b[39;00m, allow_2d\u001b[39m=\u001b[39m\u001b[39mTrue\u001b[39;00m)\n",
      "File \u001b[1;32mc:\\Users\\user\\anaconda3\\lib\\site-packages\\pandas\\core\\common.py:571\u001b[0m, in \u001b[0;36mrequire_length_match\u001b[1;34m(data, index)\u001b[0m\n\u001b[0;32m    567\u001b[0m \u001b[39m\u001b[39m\u001b[39m\"\"\"\u001b[39;00m\n\u001b[0;32m    568\u001b[0m \u001b[39mCheck the length of data matches the length of the index.\u001b[39;00m\n\u001b[0;32m    569\u001b[0m \u001b[39m\"\"\"\u001b[39;00m\n\u001b[0;32m    570\u001b[0m \u001b[39mif\u001b[39;00m \u001b[39mlen\u001b[39m(data) \u001b[39m!=\u001b[39m \u001b[39mlen\u001b[39m(index):\n\u001b[1;32m--> 571\u001b[0m     \u001b[39mraise\u001b[39;00m \u001b[39mValueError\u001b[39;00m(\n\u001b[0;32m    572\u001b[0m         \u001b[39m\"\u001b[39m\u001b[39mLength of values \u001b[39m\u001b[39m\"\u001b[39m\n\u001b[0;32m    573\u001b[0m         \u001b[39mf\u001b[39m\u001b[39m\"\u001b[39m\u001b[39m(\u001b[39m\u001b[39m{\u001b[39;00m\u001b[39mlen\u001b[39m(data)\u001b[39m}\u001b[39;00m\u001b[39m) \u001b[39m\u001b[39m\"\u001b[39m\n\u001b[0;32m    574\u001b[0m         \u001b[39m\"\u001b[39m\u001b[39mdoes not match length of index \u001b[39m\u001b[39m\"\u001b[39m\n\u001b[0;32m    575\u001b[0m         \u001b[39mf\u001b[39m\u001b[39m\"\u001b[39m\u001b[39m(\u001b[39m\u001b[39m{\u001b[39;00m\u001b[39mlen\u001b[39m(index)\u001b[39m}\u001b[39;00m\u001b[39m)\u001b[39m\u001b[39m\"\u001b[39m\n\u001b[0;32m    576\u001b[0m     )\n",
      "\u001b[1;31mValueError\u001b[0m: Length of values (6270) does not match length of index (6299)"
     ]
    }
   ],
   "source": [
    "df2['ly_summary'] = yoyack_re"
   ]
  },
  {
   "cell_type": "code",
   "execution_count": 67,
   "metadata": {},
   "outputs": [
    {
     "data": {
      "text/html": [
       "<div>\n",
       "<style scoped>\n",
       "    .dataframe tbody tr th:only-of-type {\n",
       "        vertical-align: middle;\n",
       "    }\n",
       "\n",
       "    .dataframe tbody tr th {\n",
       "        vertical-align: top;\n",
       "    }\n",
       "\n",
       "    .dataframe thead th {\n",
       "        text-align: right;\n",
       "    }\n",
       "</style>\n",
       "<table border=\"1\" class=\"dataframe\">\n",
       "  <thead>\n",
       "    <tr style=\"text-align: right;\">\n",
       "      <th></th>\n",
       "      <th>songId</th>\n",
       "      <th>title</th>\n",
       "      <th>artist</th>\n",
       "      <th>genre</th>\n",
       "      <th>album</th>\n",
       "      <th>lyricist</th>\n",
       "      <th>composer</th>\n",
       "      <th>date</th>\n",
       "      <th>img</th>\n",
       "      <th>comment</th>\n",
       "      <th>like</th>\n",
       "      <th>lyric</th>\n",
       "      <th>plylstSeq</th>\n",
       "      <th>total</th>\n",
       "      <th>ly_summary</th>\n",
       "    </tr>\n",
       "  </thead>\n",
       "  <tbody>\n",
       "    <tr>\n",
       "      <th>6245</th>\n",
       "      <td>34183979</td>\n",
       "      <td>인생 한잔</td>\n",
       "      <td>정은지</td>\n",
       "      <td>포크/블루스 국내드라마</td>\n",
       "      <td>술꾼도시여자들 OST Part 2</td>\n",
       "      <td>빨간양말</td>\n",
       "      <td>INAN</td>\n",
       "      <td>20211029</td>\n",
       "      <td>https://cdnimg.melon.co.kr/cm2/album/images/10...</td>\n",
       "      <td>12</td>\n",
       "      <td>4512</td>\n",
       "      <td>사랑도 이별도 오늘은 잠시 미뤄보자\\n불안한 청춘도 내일로 잠시 미뤄두자\\n떠나버린...</td>\n",
       "      <td>506225967 434154554</td>\n",
       "      <td>사랑 이별 오늘 잠시 미루다 보다 불안하다 청춘 내일 잠시 미루다 두다 떠나다 버리...</td>\n",
       "      <td>사랑도 이별도 오늘은 잠시 미뤄보자</td>\n",
       "    </tr>\n",
       "    <tr>\n",
       "      <th>6246</th>\n",
       "      <td>31191637</td>\n",
       "      <td>6 o'clock</td>\n",
       "      <td>볼빨간사춘기</td>\n",
       "      <td>인디음악 포크/블루스</td>\n",
       "      <td>Red Diary 'Hidden Track'</td>\n",
       "      <td>안지영</td>\n",
       "      <td>안지영</td>\n",
       "      <td>20180717</td>\n",
       "      <td>https://cdnimg.melon.co.kr/cm/album/images/101...</td>\n",
       "      <td>87</td>\n",
       "      <td>15668</td>\n",
       "      <td>It's 6 o'clock\\n너와 나는 시간이 빨라서\\n시간이 달라서\\n어쩔 수 없...</td>\n",
       "      <td>458080033 442957041</td>\n",
       "      <td>It ' s 6 o ' clock 너 와 나 시간 빨 라서 시간 달라 서 어쩔 없이...</td>\n",
       "      <td>Oh why does it feel stupid</td>\n",
       "    </tr>\n",
       "  </tbody>\n",
       "</table>\n",
       "</div>"
      ],
      "text/plain": [
       "        songId      title  artist         genre                     album  \\\n",
       "6245  34183979      인생 한잔     정은지  포크/블루스 국내드라마        술꾼도시여자들 OST Part 2   \n",
       "6246  31191637  6 o'clock  볼빨간사춘기   인디음악 포크/블루스  Red Diary 'Hidden Track'   \n",
       "\n",
       "     lyricist composer      date  \\\n",
       "6245     빨간양말     INAN  20211029   \n",
       "6246      안지영      안지영  20180717   \n",
       "\n",
       "                                                    img  comment   like  \\\n",
       "6245  https://cdnimg.melon.co.kr/cm2/album/images/10...       12   4512   \n",
       "6246  https://cdnimg.melon.co.kr/cm/album/images/101...       87  15668   \n",
       "\n",
       "                                                  lyric            plylstSeq  \\\n",
       "6245  사랑도 이별도 오늘은 잠시 미뤄보자\\n불안한 청춘도 내일로 잠시 미뤄두자\\n떠나버린...  506225967 434154554   \n",
       "6246  It's 6 o'clock\\n너와 나는 시간이 빨라서\\n시간이 달라서\\n어쩔 수 없...  458080033 442957041   \n",
       "\n",
       "                                                  total  \\\n",
       "6245  사랑 이별 오늘 잠시 미루다 보다 불안하다 청춘 내일 잠시 미루다 두다 떠나다 버리...   \n",
       "6246  It ' s 6 o ' clock 너 와 나 시간 빨 라서 시간 달라 서 어쩔 없이...   \n",
       "\n",
       "                      ly_summary  \n",
       "6245         사랑도 이별도 오늘은 잠시 미뤄보자  \n",
       "6246  Oh why does it feel stupid  "
      ]
     },
     "execution_count": 67,
     "metadata": {},
     "output_type": "execute_result"
    }
   ],
   "source": [
    "df.tail(2)"
   ]
  },
  {
   "cell_type": "code",
   "execution_count": 31,
   "metadata": {},
   "outputs": [],
   "source": [
    "a = '''\"It's 6 o'clock\\n너와 나는 시간이 빨라서\\n시간이 달라서\\n어쩔 수 없이 자꾸만 멀어져 가\\nYeah 단 하루만이라도\\n같은 시간 속에서\\n널 그려 보고 싶어\\n네 곁에 있고 싶어\\n난 왜 이렇게 느린 걸까\\n아니 왜 이렇게 서툰 걸까\\n사랑을 받는데도 그게 아닌 것 같아\\n사실 나 가끔은 울기도 해\\ncry cry\\n시간은 빨라 자꾸만 달라\\n너와 내 시간이 엇갈려져만 가 왜\\n붙잡고 싶어 네 초침이 되어\\n너보다 빨리\\n다가가고 싶어\\nOh why does it feel stupid\\nI just don't know\\nOh why d'you sing your song\\nI wonder what for\\nOh damn I feel so stupid\\nOh why I feel so\\n너의 미소가 점점 흐릿해져\\n내 기억들이 자꾸만 사라져 가\\n네가 없는 텅 빈 기억들이 나\\n시계가 멈춰지지 않고 계속 돌아가\\n아 왜 oh shit\\nOh why does it feel stupid\\nI just don't know\\nOh why d'you sing your song\\nI wonder what for\\nOh damn I feel so stupid\"\n",
    "'''\n",
    "b = a.split('\\n')"
   ]
  },
  {
   "cell_type": "code",
   "execution_count": 32,
   "metadata": {},
   "outputs": [
    {
     "name": "stdout",
     "output_type": "stream",
     "text": [
      "Oh why does it feel stupid\n",
      "I just don't know\n"
     ]
    }
   ],
   "source": [
    "from collections import Counter\n",
    "sentence_counts = Counter(b)  # 문장별 빈도 계산\n",
    "most_common_sentences = sentence_counts.most_common(2)  # 가장 빈도가 높은 문장 추출\n",
    "\n",
    "for sentence, count in most_common_sentences:\n",
    "    print(sentence)"
   ]
  },
  {
   "cell_type": "code",
   "execution_count": 20,
   "metadata": {},
   "outputs": [
    {
     "data": {
      "text/plain": [
       "songId         0\n",
       "title          0\n",
       "artist         0\n",
       "genre          2\n",
       "album          0\n",
       "lyricist     398\n",
       "composer     402\n",
       "date           0\n",
       "img            0\n",
       "comment        0\n",
       "like           0\n",
       "lyric          0\n",
       "plylstSeq    121\n",
       "total          0\n",
       "dtype: int64"
      ]
     },
     "execution_count": 20,
     "metadata": {},
     "output_type": "execute_result"
    }
   ],
   "source": [
    "df.isna().sum()"
   ]
  },
  {
   "cell_type": "code",
   "execution_count": 30,
   "metadata": {},
   "outputs": [
    {
     "data": {
      "text/plain": [
       "\"It's 6 o'clock\\n너와 나는 시간이 빨라서\\n시간이 달라서\\n어쩔 수 없이 자꾸만 멀어져 가\\nYeah 단 하루만이라도\\n같은 시간 속에서\\n널 그려 보고 싶어\\n네 곁에 있고 싶어\\n난 왜 이렇게 느린 걸까\\n아니 왜 이렇게 서툰 걸까\\n사랑을 받는데도 그게 아닌 것 같아\\n사실 나 가끔은 울기도 해\\ncry cry\\n시간은 빨라 자꾸만 달라\\n너와 내 시간이 엇갈려져만 가 왜\\n붙잡고 싶어 네 초침이 되어\\n너보다 빨리\\n다가가고 싶어\\nOh why does it feel stupid\\nI just don't know\\nOh why d'you sing your song\\nI wonder what for\\nOh damn I feel so stupid\\nOh why I feel so\\n너의 미소가 점점 흐릿해져\\n내 기억들이 자꾸만 사라져 가\\n네가 없는 텅 빈 기억들이 나\\n시계가 멈춰지지 않고 계속 돌아가\\n아 왜 oh shit\\nOh why does it feel stupid\\nI just don't know\\nOh why d'you sing your song\\nI wonder what for\\nOh damn I feel so stupid\""
      ]
     },
     "execution_count": 30,
     "metadata": {},
     "output_type": "execute_result"
    }
   ],
   "source": [
    "df.iloc[6246]['lyric']"
   ]
  },
  {
   "cell_type": "code",
   "execution_count": 23,
   "metadata": {},
   "outputs": [
    {
     "data": {
      "text/plain": [
       "nan"
      ]
     },
     "execution_count": 23,
     "metadata": {},
     "output_type": "execute_result"
    }
   ],
   "source": [
    "df.iloc[6246]['ly_summary'] = \"Oh why does it feel stupid <br>I just don't know'\""
   ]
  },
  {
   "cell_type": "code",
   "execution_count": 18,
   "metadata": {},
   "outputs": [
    {
     "data": {
      "text/html": [
       "<div>\n",
       "<style scoped>\n",
       "    .dataframe tbody tr th:only-of-type {\n",
       "        vertical-align: middle;\n",
       "    }\n",
       "\n",
       "    .dataframe tbody tr th {\n",
       "        vertical-align: top;\n",
       "    }\n",
       "\n",
       "    .dataframe thead th {\n",
       "        text-align: right;\n",
       "    }\n",
       "</style>\n",
       "<table border=\"1\" class=\"dataframe\">\n",
       "  <thead>\n",
       "    <tr style=\"text-align: right;\">\n",
       "      <th></th>\n",
       "      <th>songId</th>\n",
       "      <th>title</th>\n",
       "      <th>artist</th>\n",
       "      <th>genre</th>\n",
       "      <th>album</th>\n",
       "      <th>lyricist</th>\n",
       "      <th>composer</th>\n",
       "      <th>date</th>\n",
       "      <th>img</th>\n",
       "      <th>comment</th>\n",
       "      <th>like</th>\n",
       "      <th>lyric</th>\n",
       "      <th>plylstSeq</th>\n",
       "      <th>total</th>\n",
       "    </tr>\n",
       "  </thead>\n",
       "  <tbody>\n",
       "    <tr>\n",
       "      <th>3498</th>\n",
       "      <td>34847378</td>\n",
       "      <td>LOVE DIVE</td>\n",
       "      <td>IVE (아이브)</td>\n",
       "      <td>댄스</td>\n",
       "      <td>LOVE DIVE</td>\n",
       "      <td>서지음</td>\n",
       "      <td>Sophia Brenan</td>\n",
       "      <td>20220405</td>\n",
       "      <td>https://cdnimg.melon.co.kr/cm2/album/images/10...</td>\n",
       "      <td>2737</td>\n",
       "      <td>235956</td>\n",
       "      <td>네가 참 궁금해 그건 너도 마찬가지\\n이거면 충분해 쫓고 쫓는 이런 놀이\\n참을 수...</td>\n",
       "      <td>478102836 411111859</td>\n",
       "      <td>네 가 차다 궁금하다 그건 너 마찬가지 면 충분하다 쫓다 쫓다 이렇다 놀이 차다 없...</td>\n",
       "    </tr>\n",
       "    <tr>\n",
       "      <th>3501</th>\n",
       "      <td>34349913</td>\n",
       "      <td>ELEVEN</td>\n",
       "      <td>IVE (아이브)</td>\n",
       "      <td>댄스</td>\n",
       "      <td>ELEVEN</td>\n",
       "      <td>서지음</td>\n",
       "      <td>Peter Rycroft (aka Lostboy)</td>\n",
       "      <td>20211201</td>\n",
       "      <td>https://cdnimg.melon.co.kr/cm2/album/images/10...</td>\n",
       "      <td>1632</td>\n",
       "      <td>183796</td>\n",
       "      <td>따분한 나의 눈빛이\\n무표정했던 얼굴이\\n널 보며 빛나고 있어\\n널 담은 눈동자는 ...</td>\n",
       "      <td>478102836 411111859</td>\n",
       "      <td>따분하다 나 눈빛 무표정 하다 얼굴 널 보다 빛나다 있다 널 담다 눈동자 odd 내...</td>\n",
       "    </tr>\n",
       "    <tr>\n",
       "      <th>3511</th>\n",
       "      <td>35546497</td>\n",
       "      <td>After LIKE</td>\n",
       "      <td>IVE (아이브)</td>\n",
       "      <td>댄스</td>\n",
       "      <td>After LIKE</td>\n",
       "      <td>서지음</td>\n",
       "      <td>RYAN JHUN</td>\n",
       "      <td>20220822</td>\n",
       "      <td>https://cdnimg.melon.co.kr/cm2/album/images/11...</td>\n",
       "      <td>3557</td>\n",
       "      <td>228833</td>\n",
       "      <td>또 모르지 내 마음이\\n저 날씨처럼 바뀔지\\n날 나조차 다 알 수 없으니\\n그게 뭐...</td>\n",
       "      <td>478102836 411111859</td>\n",
       "      <td>또 모르다 내 마음 저 날씨 처럼 바뀌다 날 나 조차 다 없다 그게 뭐 가 중요하다...</td>\n",
       "    </tr>\n",
       "    <tr>\n",
       "      <th>3694</th>\n",
       "      <td>36357001</td>\n",
       "      <td>Shine With Me</td>\n",
       "      <td>IVE (아이브)</td>\n",
       "      <td>발라드</td>\n",
       "      <td>I've IVE</td>\n",
       "      <td>장원영 (IVE)</td>\n",
       "      <td>라이언 전</td>\n",
       "      <td>20230410</td>\n",
       "      <td>https://cdnimg.melon.co.kr/cm2/album/images/11...</td>\n",
       "      <td>326</td>\n",
       "      <td>17476</td>\n",
       "      <td>Used to cry\\nUsed to cry\\n우리 처음 만난 추웠던 decembe...</td>\n",
       "      <td>100098227 474517361</td>\n",
       "      <td>Used to cry Used to cry 우리 처음 만난 춥다 december 버...</td>\n",
       "    </tr>\n",
       "    <tr>\n",
       "      <th>3802</th>\n",
       "      <td>36356993</td>\n",
       "      <td>I AM</td>\n",
       "      <td>IVE (아이브)</td>\n",
       "      <td>댄스</td>\n",
       "      <td>I've IVE</td>\n",
       "      <td>김이나</td>\n",
       "      <td>라이언 전</td>\n",
       "      <td>20230410</td>\n",
       "      <td>https://cdnimg.melon.co.kr/cm2/album/images/11...</td>\n",
       "      <td>2604</td>\n",
       "      <td>156948</td>\n",
       "      <td>다른 문을 열어 따라 갈 필요는 없어\\n넌 너의 길로 난 나의 길로 음\\n하루하루마...</td>\n",
       "      <td>478102836 411111859</td>\n",
       "      <td>다른 문 열다 따르다 갈다 필요 없다 넌 너 길 난 나 길 음 하루하루 마다 색 달...</td>\n",
       "    </tr>\n",
       "    <tr>\n",
       "      <th>3804</th>\n",
       "      <td>36318125</td>\n",
       "      <td>Kitsch</td>\n",
       "      <td>IVE (아이브)</td>\n",
       "      <td>댄스</td>\n",
       "      <td>I've IVE</td>\n",
       "      <td>이스란</td>\n",
       "      <td>황현 (MonoTree)</td>\n",
       "      <td>20230410</td>\n",
       "      <td>https://cdnimg.melon.co.kr/cm2/album/images/11...</td>\n",
       "      <td>2140</td>\n",
       "      <td>130450</td>\n",
       "      <td>It's our time 우린 달라 특별한 게 좋아\\nOh What a good t...</td>\n",
       "      <td>478102836 411111859</td>\n",
       "      <td>It ' s our time 우린 달라 특별하다 좋다 Oh What a good t...</td>\n",
       "    </tr>\n",
       "    <tr>\n",
       "      <th>3849</th>\n",
       "      <td>36356992</td>\n",
       "      <td>Blue Blood</td>\n",
       "      <td>IVE (아이브)</td>\n",
       "      <td>댄스</td>\n",
       "      <td>I've IVE</td>\n",
       "      <td>서지음</td>\n",
       "      <td>Nick Hahn</td>\n",
       "      <td>20230410</td>\n",
       "      <td>https://cdnimg.melon.co.kr/cm2/album/images/11...</td>\n",
       "      <td>251</td>\n",
       "      <td>22666</td>\n",
       "      <td>Time’s up 설명할 시간 없어\\n내 손을 잡아 어서\\n널 나에게 맡겨줘\\nRe...</td>\n",
       "      <td>421731133 457450899</td>\n",
       "      <td>Time ’ s up 설명 하다 시간 없다 내 손 잡다 어서 널 나 맡기다 Real...</td>\n",
       "    </tr>\n",
       "    <tr>\n",
       "      <th>3861</th>\n",
       "      <td>36356994</td>\n",
       "      <td>Lips</td>\n",
       "      <td>IVE (아이브)</td>\n",
       "      <td>댄스</td>\n",
       "      <td>I've IVE</td>\n",
       "      <td>엑시 (우주소녀)</td>\n",
       "      <td>솔희 (SOHLHEE)</td>\n",
       "      <td>20230410</td>\n",
       "      <td>https://cdnimg.melon.co.kr/cm2/album/images/11...</td>\n",
       "      <td>168</td>\n",
       "      <td>19287</td>\n",
       "      <td>Lights out 잠 못 드는 밤\\n이런 날도 몇 번짼지\\nNo doubt I k...</td>\n",
       "      <td>443147074 457450899</td>\n",
       "      <td>Lights out 잠 못 들다 밤 이렇다 날 몇 째다 No doubt I know...</td>\n",
       "    </tr>\n",
       "    <tr>\n",
       "      <th>3874</th>\n",
       "      <td>36356998</td>\n",
       "      <td>NOT YOUR GIRL</td>\n",
       "      <td>IVE (아이브)</td>\n",
       "      <td>댄스</td>\n",
       "      <td>I've IVE</td>\n",
       "      <td>황현 (MonoTree)</td>\n",
       "      <td>라이언 전</td>\n",
       "      <td>20230410</td>\n",
       "      <td>https://cdnimg.melon.co.kr/cm2/album/images/11...</td>\n",
       "      <td>200</td>\n",
       "      <td>17308</td>\n",
       "      <td>Okay\\nLet’s go!\\nLet’s play, girls!\\nNa na na ...</td>\n",
       "      <td>478102836 421731133</td>\n",
       "      <td>Okay Let ’ s go ! Let ’ s play , girls ! Na na...</td>\n",
       "    </tr>\n",
       "    <tr>\n",
       "      <th>3915</th>\n",
       "      <td>36356996</td>\n",
       "      <td>Mine</td>\n",
       "      <td>IVE (아이브)</td>\n",
       "      <td>댄스</td>\n",
       "      <td>I've IVE</td>\n",
       "      <td>장원영 (IVE)</td>\n",
       "      <td>라이언 전</td>\n",
       "      <td>20230410</td>\n",
       "      <td>https://cdnimg.melon.co.kr/cm2/album/images/11...</td>\n",
       "      <td>144</td>\n",
       "      <td>15471</td>\n",
       "      <td>사랑보단 나, 너 보단 me \\nIt's for sure 근데 널 보면 \\n초코 라...</td>\n",
       "      <td>504103372 477128519</td>\n",
       "      <td>사랑 보단 나 , 너 보단 me It ' s for sure 근데 널 보다 초코 라...</td>\n",
       "    </tr>\n",
       "    <tr>\n",
       "      <th>3929</th>\n",
       "      <td>36356997</td>\n",
       "      <td>섬찟 (Hypnosis)</td>\n",
       "      <td>IVE (아이브)</td>\n",
       "      <td>댄스</td>\n",
       "      <td>I've IVE</td>\n",
       "      <td>서정아</td>\n",
       "      <td>Lauren Aquilina</td>\n",
       "      <td>20230410</td>\n",
       "      <td>https://cdnimg.melon.co.kr/cm2/album/images/11...</td>\n",
       "      <td>185</td>\n",
       "      <td>14092</td>\n",
       "      <td>집중해 눈 감고 다음 순간\\n머릿속을 맴도는 merry go round\\n무의식 속...</td>\n",
       "      <td>493149817 523189015</td>\n",
       "      <td>집중 하다 눈 감고 다음 순간 머릿속 맴도 merry go round 무의식 속 으...</td>\n",
       "    </tr>\n",
       "    <tr>\n",
       "      <th>3930</th>\n",
       "      <td>34847379</td>\n",
       "      <td>ROYAL</td>\n",
       "      <td>IVE (아이브)</td>\n",
       "      <td>댄스</td>\n",
       "      <td>LOVE DIVE</td>\n",
       "      <td>이스란</td>\n",
       "      <td>Rick Bridges</td>\n",
       "      <td>20220405</td>\n",
       "      <td>https://cdnimg.melon.co.kr/cm2/album/images/10...</td>\n",
       "      <td>393</td>\n",
       "      <td>59592</td>\n",
       "      <td>Royal Royal\\n두 발끝을 뗀 순간\\n내게로 집중되는 vibe (woah w...</td>\n",
       "      <td>478102836 478656372</td>\n",
       "      <td>Royal Royal 발끝 떼다 순간 내게로 집중 되다 vibe ( woah woa...</td>\n",
       "    </tr>\n",
       "    <tr>\n",
       "      <th>3950</th>\n",
       "      <td>36356995</td>\n",
       "      <td>Heroine</td>\n",
       "      <td>IVE (아이브)</td>\n",
       "      <td>댄스</td>\n",
       "      <td>I've IVE</td>\n",
       "      <td>안유진 (IVE)</td>\n",
       "      <td>라이언 전</td>\n",
       "      <td>20230410</td>\n",
       "      <td>https://cdnimg.melon.co.kr/cm2/album/images/11...</td>\n",
       "      <td>106</td>\n",
       "      <td>13367</td>\n",
       "      <td>감은 두 눈 위 스쳐간 검은 기억들\\n날 쏘아보며 버티는 날 서 있는 말들\\nBut...</td>\n",
       "      <td>523189015 523237139</td>\n",
       "      <td>감다 눈 위 스치다 간 검다 기억 날 쏘아보다 버티다 날 서다 있다 말 But oo...</td>\n",
       "    </tr>\n",
       "    <tr>\n",
       "      <th>3956</th>\n",
       "      <td>36357000</td>\n",
       "      <td>Cherish</td>\n",
       "      <td>IVE (아이브)</td>\n",
       "      <td>댄스</td>\n",
       "      <td>I've IVE</td>\n",
       "      <td>이스란</td>\n",
       "      <td>라이언 전</td>\n",
       "      <td>20230410</td>\n",
       "      <td>https://cdnimg.melon.co.kr/cm2/album/images/11...</td>\n",
       "      <td>114</td>\n",
       "      <td>12770</td>\n",
       "      <td>나로 가득했던 selfie\\n난 너도 알다시피 selfish\\n멋대로인 게 좋으니까...</td>\n",
       "      <td>523189015 523237139</td>\n",
       "      <td>나로 가득하다 selfie 난 너 알다 selfish 멋대로 인 좋다 근데 이렇다 ...</td>\n",
       "    </tr>\n",
       "    <tr>\n",
       "      <th>3970</th>\n",
       "      <td>36356999</td>\n",
       "      <td>궁금해 (Next Page)</td>\n",
       "      <td>IVE (아이브)</td>\n",
       "      <td>댄스</td>\n",
       "      <td>I've IVE</td>\n",
       "      <td>황현 (MonoTree)</td>\n",
       "      <td>라이언 전</td>\n",
       "      <td>20230410</td>\n",
       "      <td>https://cdnimg.melon.co.kr/cm2/album/images/11...</td>\n",
       "      <td>78</td>\n",
       "      <td>11786</td>\n",
       "      <td>Baby, 난 이 다음이 다음이 궁금해\\nOh I love you so I love...</td>\n",
       "      <td>523189015 523237139</td>\n",
       "      <td>Baby , 난 다음 다음 궁금하다 Oh I love you so I love yo...</td>\n",
       "    </tr>\n",
       "    <tr>\n",
       "      <th>4054</th>\n",
       "      <td>35546498</td>\n",
       "      <td>My Satisfaction</td>\n",
       "      <td>IVE (아이브)</td>\n",
       "      <td>댄스</td>\n",
       "      <td>After LIKE</td>\n",
       "      <td>이스란</td>\n",
       "      <td>RYAN JHUN</td>\n",
       "      <td>20220822</td>\n",
       "      <td>https://cdnimg.melon.co.kr/cm2/album/images/11...</td>\n",
       "      <td>394</td>\n",
       "      <td>37462</td>\n",
       "      <td>Let me show ya 날 비추는 빛\\n기분 좋아 너만의 그 눈빛\\n가슴 뛰는 ...</td>\n",
       "      <td>478656372 517318215</td>\n",
       "      <td>Let me show ya 날 비추다 빛 기분 좋다 너 만의 눈빛 가슴 뛰다 설레다...</td>\n",
       "    </tr>\n",
       "  </tbody>\n",
       "</table>\n",
       "</div>"
      ],
      "text/plain": [
       "        songId            title     artist genre       album       lyricist   \n",
       "3498  34847378        LOVE DIVE  IVE (아이브)    댄스   LOVE DIVE            서지음  \\\n",
       "3501  34349913           ELEVEN  IVE (아이브)    댄스      ELEVEN            서지음   \n",
       "3511  35546497       After LIKE  IVE (아이브)    댄스  After LIKE            서지음   \n",
       "3694  36357001    Shine With Me  IVE (아이브)   발라드    I've IVE      장원영 (IVE)   \n",
       "3802  36356993             I AM  IVE (아이브)    댄스    I've IVE            김이나   \n",
       "3804  36318125           Kitsch  IVE (아이브)    댄스    I've IVE            이스란   \n",
       "3849  36356992       Blue Blood  IVE (아이브)    댄스    I've IVE            서지음   \n",
       "3861  36356994             Lips  IVE (아이브)    댄스    I've IVE      엑시 (우주소녀)   \n",
       "3874  36356998    NOT YOUR GIRL  IVE (아이브)    댄스    I've IVE  황현 (MonoTree)   \n",
       "3915  36356996             Mine  IVE (아이브)    댄스    I've IVE      장원영 (IVE)   \n",
       "3929  36356997    섬찟 (Hypnosis)  IVE (아이브)    댄스    I've IVE            서정아   \n",
       "3930  34847379            ROYAL  IVE (아이브)    댄스   LOVE DIVE            이스란   \n",
       "3950  36356995          Heroine  IVE (아이브)    댄스    I've IVE      안유진 (IVE)   \n",
       "3956  36357000          Cherish  IVE (아이브)    댄스    I've IVE            이스란   \n",
       "3970  36356999  궁금해 (Next Page)  IVE (아이브)    댄스    I've IVE  황현 (MonoTree)   \n",
       "4054  35546498  My Satisfaction  IVE (아이브)    댄스  After LIKE            이스란   \n",
       "\n",
       "                         composer      date   \n",
       "3498                Sophia Brenan  20220405  \\\n",
       "3501  Peter Rycroft (aka Lostboy)  20211201   \n",
       "3511                    RYAN JHUN  20220822   \n",
       "3694                        라이언 전  20230410   \n",
       "3802                        라이언 전  20230410   \n",
       "3804                황현 (MonoTree)  20230410   \n",
       "3849                    Nick Hahn  20230410   \n",
       "3861                 솔희 (SOHLHEE)  20230410   \n",
       "3874                        라이언 전  20230410   \n",
       "3915                        라이언 전  20230410   \n",
       "3929              Lauren Aquilina  20230410   \n",
       "3930                 Rick Bridges  20220405   \n",
       "3950                        라이언 전  20230410   \n",
       "3956                        라이언 전  20230410   \n",
       "3970                        라이언 전  20230410   \n",
       "4054                    RYAN JHUN  20220822   \n",
       "\n",
       "                                                    img  comment    like   \n",
       "3498  https://cdnimg.melon.co.kr/cm2/album/images/10...     2737  235956  \\\n",
       "3501  https://cdnimg.melon.co.kr/cm2/album/images/10...     1632  183796   \n",
       "3511  https://cdnimg.melon.co.kr/cm2/album/images/11...     3557  228833   \n",
       "3694  https://cdnimg.melon.co.kr/cm2/album/images/11...      326   17476   \n",
       "3802  https://cdnimg.melon.co.kr/cm2/album/images/11...     2604  156948   \n",
       "3804  https://cdnimg.melon.co.kr/cm2/album/images/11...     2140  130450   \n",
       "3849  https://cdnimg.melon.co.kr/cm2/album/images/11...      251   22666   \n",
       "3861  https://cdnimg.melon.co.kr/cm2/album/images/11...      168   19287   \n",
       "3874  https://cdnimg.melon.co.kr/cm2/album/images/11...      200   17308   \n",
       "3915  https://cdnimg.melon.co.kr/cm2/album/images/11...      144   15471   \n",
       "3929  https://cdnimg.melon.co.kr/cm2/album/images/11...      185   14092   \n",
       "3930  https://cdnimg.melon.co.kr/cm2/album/images/10...      393   59592   \n",
       "3950  https://cdnimg.melon.co.kr/cm2/album/images/11...      106   13367   \n",
       "3956  https://cdnimg.melon.co.kr/cm2/album/images/11...      114   12770   \n",
       "3970  https://cdnimg.melon.co.kr/cm2/album/images/11...       78   11786   \n",
       "4054  https://cdnimg.melon.co.kr/cm2/album/images/11...      394   37462   \n",
       "\n",
       "                                                  lyric            plylstSeq   \n",
       "3498  네가 참 궁금해 그건 너도 마찬가지\\n이거면 충분해 쫓고 쫓는 이런 놀이\\n참을 수...  478102836 411111859  \\\n",
       "3501  따분한 나의 눈빛이\\n무표정했던 얼굴이\\n널 보며 빛나고 있어\\n널 담은 눈동자는 ...  478102836 411111859   \n",
       "3511  또 모르지 내 마음이\\n저 날씨처럼 바뀔지\\n날 나조차 다 알 수 없으니\\n그게 뭐...  478102836 411111859   \n",
       "3694  Used to cry\\nUsed to cry\\n우리 처음 만난 추웠던 decembe...  100098227 474517361   \n",
       "3802  다른 문을 열어 따라 갈 필요는 없어\\n넌 너의 길로 난 나의 길로 음\\n하루하루마...  478102836 411111859   \n",
       "3804  It's our time 우린 달라 특별한 게 좋아\\nOh What a good t...  478102836 411111859   \n",
       "3849  Time’s up 설명할 시간 없어\\n내 손을 잡아 어서\\n널 나에게 맡겨줘\\nRe...  421731133 457450899   \n",
       "3861  Lights out 잠 못 드는 밤\\n이런 날도 몇 번짼지\\nNo doubt I k...  443147074 457450899   \n",
       "3874  Okay\\nLet’s go!\\nLet’s play, girls!\\nNa na na ...  478102836 421731133   \n",
       "3915  사랑보단 나, 너 보단 me \\nIt's for sure 근데 널 보면 \\n초코 라...  504103372 477128519   \n",
       "3929  집중해 눈 감고 다음 순간\\n머릿속을 맴도는 merry go round\\n무의식 속...  493149817 523189015   \n",
       "3930  Royal Royal\\n두 발끝을 뗀 순간\\n내게로 집중되는 vibe (woah w...  478102836 478656372   \n",
       "3950  감은 두 눈 위 스쳐간 검은 기억들\\n날 쏘아보며 버티는 날 서 있는 말들\\nBut...  523189015 523237139   \n",
       "3956  나로 가득했던 selfie\\n난 너도 알다시피 selfish\\n멋대로인 게 좋으니까...  523189015 523237139   \n",
       "3970  Baby, 난 이 다음이 다음이 궁금해\\nOh I love you so I love...  523189015 523237139   \n",
       "4054  Let me show ya 날 비추는 빛\\n기분 좋아 너만의 그 눈빛\\n가슴 뛰는 ...  478656372 517318215   \n",
       "\n",
       "                                                  total  \n",
       "3498  네 가 차다 궁금하다 그건 너 마찬가지 면 충분하다 쫓다 쫓다 이렇다 놀이 차다 없...  \n",
       "3501  따분하다 나 눈빛 무표정 하다 얼굴 널 보다 빛나다 있다 널 담다 눈동자 odd 내...  \n",
       "3511  또 모르다 내 마음 저 날씨 처럼 바뀌다 날 나 조차 다 없다 그게 뭐 가 중요하다...  \n",
       "3694  Used to cry Used to cry 우리 처음 만난 춥다 december 버...  \n",
       "3802  다른 문 열다 따르다 갈다 필요 없다 넌 너 길 난 나 길 음 하루하루 마다 색 달...  \n",
       "3804  It ' s our time 우린 달라 특별하다 좋다 Oh What a good t...  \n",
       "3849  Time ’ s up 설명 하다 시간 없다 내 손 잡다 어서 널 나 맡기다 Real...  \n",
       "3861  Lights out 잠 못 들다 밤 이렇다 날 몇 째다 No doubt I know...  \n",
       "3874  Okay Let ’ s go ! Let ’ s play , girls ! Na na...  \n",
       "3915  사랑 보단 나 , 너 보단 me It ' s for sure 근데 널 보다 초코 라...  \n",
       "3929  집중 하다 눈 감고 다음 순간 머릿속 맴도 merry go round 무의식 속 으...  \n",
       "3930  Royal Royal 발끝 떼다 순간 내게로 집중 되다 vibe ( woah woa...  \n",
       "3950  감다 눈 위 스치다 간 검다 기억 날 쏘아보다 버티다 날 서다 있다 말 But oo...  \n",
       "3956  나로 가득하다 selfie 난 너 알다 selfish 멋대로 인 좋다 근데 이렇다 ...  \n",
       "3970  Baby , 난 다음 다음 궁금하다 Oh I love you so I love yo...  \n",
       "4054  Let me show ya 날 비추다 빛 기분 좋다 너 만의 눈빛 가슴 뛰다 설레다...  "
      ]
     },
     "execution_count": 18,
     "metadata": {},
     "output_type": "execute_result"
    }
   ],
   "source": [
    "df[df.artist.str.contains('아이브')]"
   ]
  },
  {
   "cell_type": "code",
   "execution_count": 14,
   "metadata": {},
   "outputs": [],
   "source": [
    "df.to_csv('data/melon_song_v3.csv', index=False)\n",
    "df = pd.read_csv('data/melon_song_v3.csv', dtype=str)"
   ]
  },
  {
   "cell_type": "code",
   "execution_count": 15,
   "metadata": {},
   "outputs": [
    {
     "data": {
      "text/html": [
       "<div>\n",
       "<style scoped>\n",
       "    .dataframe tbody tr th:only-of-type {\n",
       "        vertical-align: middle;\n",
       "    }\n",
       "\n",
       "    .dataframe tbody tr th {\n",
       "        vertical-align: top;\n",
       "    }\n",
       "\n",
       "    .dataframe thead th {\n",
       "        text-align: right;\n",
       "    }\n",
       "</style>\n",
       "<table border=\"1\" class=\"dataframe\">\n",
       "  <thead>\n",
       "    <tr style=\"text-align: right;\">\n",
       "      <th></th>\n",
       "      <th>songId</th>\n",
       "      <th>title</th>\n",
       "      <th>artist</th>\n",
       "      <th>genre</th>\n",
       "      <th>album</th>\n",
       "      <th>lyricist</th>\n",
       "      <th>composer</th>\n",
       "      <th>date</th>\n",
       "      <th>img</th>\n",
       "      <th>comment</th>\n",
       "      <th>like</th>\n",
       "      <th>lyric</th>\n",
       "      <th>plylstSeq</th>\n",
       "      <th>total</th>\n",
       "      <th>ly_summary</th>\n",
       "    </tr>\n",
       "  </thead>\n",
       "  <tbody>\n",
       "    <tr>\n",
       "      <th>0</th>\n",
       "      <td>418168</td>\n",
       "      <td>희재</td>\n",
       "      <td>성시경</td>\n",
       "      <td>발라드 국내영화</td>\n",
       "      <td>국화꽃 향기 OST</td>\n",
       "      <td>양재선</td>\n",
       "      <td>MGR</td>\n",
       "      <td>20030201</td>\n",
       "      <td>https://cdnimg.melon.co.kr/cm/album/images/000...</td>\n",
       "      <td>332</td>\n",
       "      <td>138267</td>\n",
       "      <td>햇살은 우릴 위해 내리고 \\n바람도 서롤 감싸게 했죠 \\n우리 웃음속에 계절은 오고...</td>\n",
       "      <td>445029956 411111859</td>\n",
       "      <td>햇살 우릴 위해 내리다 바람 서 롤 감싸다 하다 우리 웃음 속 계절 오다 또 가다 ...</td>\n",
       "      <td>정말로 울면 내가 그댈 보내 &lt;br&gt;준 것 같아서</td>\n",
       "    </tr>\n",
       "    <tr>\n",
       "      <th>1</th>\n",
       "      <td>35609035</td>\n",
       "      <td>인생은 뷰티풀</td>\n",
       "      <td>김호중</td>\n",
       "      <td>발라드 국내영화</td>\n",
       "      <td>인생은 뷰티풀: 비타돌체</td>\n",
       "      <td>김호중</td>\n",
       "      <td>김호중</td>\n",
       "      <td>20220907</td>\n",
       "      <td>https://cdnimg.melon.co.kr/cm2/album/images/11...</td>\n",
       "      <td>197</td>\n",
       "      <td>17322</td>\n",
       "      <td>하나만 알고 둘은\\n잘 모르는 사람입니다\\n하루는 비틀거리고\\n하루는 뒤뚱거리고\\n...</td>\n",
       "      <td>457536944 474137187</td>\n",
       "      <td>하나 만 고 둘 자다 모르다 사람 이다 하루 비틀 거리 고 하루 뒤뚱거리 고 월요일...</td>\n",
       "      <td>외로움 가득 채우고&lt;br&gt;춤춰라 머리카락아</td>\n",
       "    </tr>\n",
       "    <tr>\n",
       "      <th>2</th>\n",
       "      <td>1046278</td>\n",
       "      <td>서쪽 하늘</td>\n",
       "      <td>이승철</td>\n",
       "      <td>발라드 국내영화</td>\n",
       "      <td>청연 OST</td>\n",
       "      <td>이승철</td>\n",
       "      <td>윤명선</td>\n",
       "      <td>20051220</td>\n",
       "      <td>https://cdnimg.melon.co.kr/cm/album/images/003...</td>\n",
       "      <td>84</td>\n",
       "      <td>48109</td>\n",
       "      <td>서쪽하늘로 노을은 지고  \\n이젠 슬픔이 돼버린 그대를  \\n다시 부를수 없을 것 ...</td>\n",
       "      <td>426571097 405285190</td>\n",
       "      <td>서쪽하늘 노을 지고 젠 슬픔 돼다 버리다 그대 다시 부르다 없다 같다 또 한번 불다...</td>\n",
       "      <td>비가오는 날엔 난 항상  &lt;br&gt;널 그리워해</td>\n",
       "    </tr>\n",
       "    <tr>\n",
       "      <th>3</th>\n",
       "      <td>35609034</td>\n",
       "      <td>슬픈등</td>\n",
       "      <td>김호중</td>\n",
       "      <td>발라드 국내영화</td>\n",
       "      <td>인생은 뷰티풀: 비타돌체</td>\n",
       "      <td>김호중</td>\n",
       "      <td>김호중</td>\n",
       "      <td>20220907</td>\n",
       "      <td>https://cdnimg.melon.co.kr/cm2/album/images/11...</td>\n",
       "      <td>145</td>\n",
       "      <td>15389</td>\n",
       "      <td>누군가를 다시 만난다면\\n여전히 나는 너를\\n누군가를 다시 사랑하면\\n영원히 나는 ...</td>\n",
       "      <td>457536944 515278519</td>\n",
       "      <td>누군가 다시 만나다 여전하다 나 너 누군가 다시 사랑 하다 영원하다 나 너 다시 또...</td>\n",
       "      <td>덧없는 미련이라 탓하지 마&lt;br&gt;누군가를 다시 만난다면</td>\n",
       "    </tr>\n",
       "    <tr>\n",
       "      <th>4</th>\n",
       "      <td>35728845</td>\n",
       "      <td>고백 (영화 '동감' X 츄 (이달의 소녀))</td>\n",
       "      <td>츄(Chuu)</td>\n",
       "      <td>록/메탈 국내영화</td>\n",
       "      <td>고백 (영화 '동감' X 츄 (이달의 소녀))</td>\n",
       "      <td>강현민</td>\n",
       "      <td>강현민</td>\n",
       "      <td>20221016</td>\n",
       "      <td>https://cdnimg.melon.co.kr/cm2/album/images/11...</td>\n",
       "      <td>80</td>\n",
       "      <td>16902</td>\n",
       "      <td>말해야 하는데 네 앞에 서면\\n아무 말 못 하는 내가 미워져\\n용기를 내야 해 후회...</td>\n",
       "      <td>484732185 513801514</td>\n",
       "      <td>말 하다 하다 네 앞 서면 아무 말 못 하다 내 가 미우다 용기 내야 해 후회 하다...</td>\n",
       "      <td>용기를 내야 해 후회하지 않게&lt;br&gt;아무 말 못 하는 내가 미워져</td>\n",
       "    </tr>\n",
       "  </tbody>\n",
       "</table>\n",
       "</div>"
      ],
      "text/plain": [
       "     songId                      title   artist      genre   \n",
       "0    418168                         희재      성시경   발라드 국내영화  \\\n",
       "1  35609035                    인생은 뷰티풀      김호중   발라드 국내영화   \n",
       "2   1046278                      서쪽 하늘      이승철   발라드 국내영화   \n",
       "3  35609034                        슬픈등      김호중   발라드 국내영화   \n",
       "4  35728845  고백 (영화 '동감' X 츄 (이달의 소녀))  츄(Chuu)  록/메탈 국내영화   \n",
       "\n",
       "                       album lyricist composer      date   \n",
       "0                 국화꽃 향기 OST      양재선      MGR  20030201  \\\n",
       "1              인생은 뷰티풀: 비타돌체      김호중      김호중  20220907   \n",
       "2                     청연 OST      이승철      윤명선  20051220   \n",
       "3              인생은 뷰티풀: 비타돌체      김호중      김호중  20220907   \n",
       "4  고백 (영화 '동감' X 츄 (이달의 소녀))      강현민      강현민  20221016   \n",
       "\n",
       "                                                 img comment    like   \n",
       "0  https://cdnimg.melon.co.kr/cm/album/images/000...     332  138267  \\\n",
       "1  https://cdnimg.melon.co.kr/cm2/album/images/11...     197   17322   \n",
       "2  https://cdnimg.melon.co.kr/cm/album/images/003...      84   48109   \n",
       "3  https://cdnimg.melon.co.kr/cm2/album/images/11...     145   15389   \n",
       "4  https://cdnimg.melon.co.kr/cm2/album/images/11...      80   16902   \n",
       "\n",
       "                                               lyric            plylstSeq   \n",
       "0  햇살은 우릴 위해 내리고 \\n바람도 서롤 감싸게 했죠 \\n우리 웃음속에 계절은 오고...  445029956 411111859  \\\n",
       "1  하나만 알고 둘은\\n잘 모르는 사람입니다\\n하루는 비틀거리고\\n하루는 뒤뚱거리고\\n...  457536944 474137187   \n",
       "2  서쪽하늘로 노을은 지고  \\n이젠 슬픔이 돼버린 그대를  \\n다시 부를수 없을 것 ...  426571097 405285190   \n",
       "3  누군가를 다시 만난다면\\n여전히 나는 너를\\n누군가를 다시 사랑하면\\n영원히 나는 ...  457536944 515278519   \n",
       "4  말해야 하는데 네 앞에 서면\\n아무 말 못 하는 내가 미워져\\n용기를 내야 해 후회...  484732185 513801514   \n",
       "\n",
       "                                               total   \n",
       "0  햇살 우릴 위해 내리다 바람 서 롤 감싸다 하다 우리 웃음 속 계절 오다 또 가다 ...  \\\n",
       "1  하나 만 고 둘 자다 모르다 사람 이다 하루 비틀 거리 고 하루 뒤뚱거리 고 월요일...   \n",
       "2  서쪽하늘 노을 지고 젠 슬픔 돼다 버리다 그대 다시 부르다 없다 같다 또 한번 불다...   \n",
       "3  누군가 다시 만나다 여전하다 나 너 누군가 다시 사랑 하다 영원하다 나 너 다시 또...   \n",
       "4  말 하다 하다 네 앞 서면 아무 말 못 하다 내 가 미우다 용기 내야 해 후회 하다...   \n",
       "\n",
       "                             ly_summary  \n",
       "0           정말로 울면 내가 그댈 보내 <br>준 것 같아서  \n",
       "1               외로움 가득 채우고<br>춤춰라 머리카락아  \n",
       "2              비가오는 날엔 난 항상  <br>널 그리워해  \n",
       "3        덧없는 미련이라 탓하지 마<br>누군가를 다시 만난다면  \n",
       "4  용기를 내야 해 후회하지 않게<br>아무 말 못 하는 내가 미워져  "
      ]
     },
     "execution_count": 15,
     "metadata": {},
     "output_type": "execute_result"
    }
   ],
   "source": [
    "df.head()"
   ]
  },
  {
   "cell_type": "code",
   "execution_count": 33,
   "metadata": {},
   "outputs": [
    {
     "data": {
      "text/html": [
       "<div>\n",
       "<style scoped>\n",
       "    .dataframe tbody tr th:only-of-type {\n",
       "        vertical-align: middle;\n",
       "    }\n",
       "\n",
       "    .dataframe tbody tr th {\n",
       "        vertical-align: top;\n",
       "    }\n",
       "\n",
       "    .dataframe thead th {\n",
       "        text-align: right;\n",
       "    }\n",
       "</style>\n",
       "<table border=\"1\" class=\"dataframe\">\n",
       "  <thead>\n",
       "    <tr style=\"text-align: right;\">\n",
       "      <th></th>\n",
       "      <th>songId</th>\n",
       "      <th>title</th>\n",
       "      <th>artist</th>\n",
       "      <th>genre</th>\n",
       "      <th>album</th>\n",
       "      <th>lyricist</th>\n",
       "      <th>composer</th>\n",
       "      <th>date</th>\n",
       "      <th>img</th>\n",
       "      <th>comment</th>\n",
       "      <th>like</th>\n",
       "      <th>lyric</th>\n",
       "      <th>plylstSeq</th>\n",
       "      <th>total</th>\n",
       "      <th>ly_summary</th>\n",
       "    </tr>\n",
       "  </thead>\n",
       "  <tbody>\n",
       "    <tr>\n",
       "      <th>6245</th>\n",
       "      <td>34183979</td>\n",
       "      <td>인생 한잔</td>\n",
       "      <td>정은지</td>\n",
       "      <td>포크/블루스 국내드라마</td>\n",
       "      <td>술꾼도시여자들 OST Part 2</td>\n",
       "      <td>빨간양말</td>\n",
       "      <td>INAN</td>\n",
       "      <td>20211029</td>\n",
       "      <td>https://cdnimg.melon.co.kr/cm2/album/images/10...</td>\n",
       "      <td>12</td>\n",
       "      <td>4512</td>\n",
       "      <td>사랑도 이별도 오늘은 잠시 미뤄보자\\n불안한 청춘도 내일로 잠시 미뤄두자\\n떠나버린...</td>\n",
       "      <td>506225967 434154554</td>\n",
       "      <td>사랑 이별 오늘 잠시 미루다 보다 불안하다 청춘 내일 잠시 미루다 두다 떠나다 버리...</td>\n",
       "      <td>한잔 들이켜 보자 나를 돌이켜보자 &lt;br&gt;사랑의 아픔도 모두 추억인 거야</td>\n",
       "    </tr>\n",
       "    <tr>\n",
       "      <th>6246</th>\n",
       "      <td>31191637</td>\n",
       "      <td>6 o'clock</td>\n",
       "      <td>볼빨간사춘기</td>\n",
       "      <td>인디음악 포크/블루스</td>\n",
       "      <td>Red Diary 'Hidden Track'</td>\n",
       "      <td>안지영</td>\n",
       "      <td>안지영</td>\n",
       "      <td>20180717</td>\n",
       "      <td>https://cdnimg.melon.co.kr/cm/album/images/101...</td>\n",
       "      <td>87</td>\n",
       "      <td>15668</td>\n",
       "      <td>It's 6 o'clock\\n너와 나는 시간이 빨라서\\n시간이 달라서\\n어쩔 수 없...</td>\n",
       "      <td>458080033 442957041</td>\n",
       "      <td>It ' s 6 o ' clock 너 와 나 시간 빨 라서 시간 달라 서 어쩔 없이...</td>\n",
       "      <td>Oh why does it feel stupid &lt;br&gt;I just don't know'</td>\n",
       "    </tr>\n",
       "  </tbody>\n",
       "</table>\n",
       "</div>"
      ],
      "text/plain": [
       "        songId      title  artist         genre                     album   \n",
       "6245  34183979      인생 한잔     정은지  포크/블루스 국내드라마        술꾼도시여자들 OST Part 2  \\\n",
       "6246  31191637  6 o'clock  볼빨간사춘기   인디음악 포크/블루스  Red Diary 'Hidden Track'   \n",
       "\n",
       "     lyricist composer      date   \n",
       "6245     빨간양말     INAN  20211029  \\\n",
       "6246      안지영      안지영  20180717   \n",
       "\n",
       "                                                    img comment   like   \n",
       "6245  https://cdnimg.melon.co.kr/cm2/album/images/10...      12   4512  \\\n",
       "6246  https://cdnimg.melon.co.kr/cm/album/images/101...      87  15668   \n",
       "\n",
       "                                                  lyric            plylstSeq   \n",
       "6245  사랑도 이별도 오늘은 잠시 미뤄보자\\n불안한 청춘도 내일로 잠시 미뤄두자\\n떠나버린...  506225967 434154554  \\\n",
       "6246  It's 6 o'clock\\n너와 나는 시간이 빨라서\\n시간이 달라서\\n어쩔 수 없...  458080033 442957041   \n",
       "\n",
       "                                                  total   \n",
       "6245  사랑 이별 오늘 잠시 미루다 보다 불안하다 청춘 내일 잠시 미루다 두다 떠나다 버리...  \\\n",
       "6246  It ' s 6 o ' clock 너 와 나 시간 빨 라서 시간 달라 서 어쩔 없이...   \n",
       "\n",
       "                                             ly_summary  \n",
       "6245           한잔 들이켜 보자 나를 돌이켜보자 <br>사랑의 아픔도 모두 추억인 거야  \n",
       "6246  Oh why does it feel stupid <br>I just don't know'  "
      ]
     },
     "execution_count": 33,
     "metadata": {},
     "output_type": "execute_result"
    }
   ],
   "source": [
    "df = pd.read_csv('data/melon_song_v3.csv', dtype=str)\n",
    "df.tail(2)"
   ]
  },
  {
   "cell_type": "code",
   "execution_count": 35,
   "metadata": {},
   "outputs": [
    {
     "ename": "ValueError",
     "evalue": "Length of values (6245) does not match length of index (6247)",
     "output_type": "error",
     "traceback": [
      "\u001b[1;31m---------------------------------------------------------------------------\u001b[0m",
      "\u001b[1;31mValueError\u001b[0m                                Traceback (most recent call last)",
      "Cell \u001b[1;32mIn[35], line 2\u001b[0m\n\u001b[0;32m      1\u001b[0m \u001b[39m# df['ly_summary'] = pd.Series(yoyack_re)\u001b[39;00m\n\u001b[1;32m----> 2\u001b[0m df[\u001b[39m'\u001b[39;49m\u001b[39mly_summary\u001b[39;49m\u001b[39m'\u001b[39;49m] \u001b[39m=\u001b[39m yoyack_re\n",
      "File \u001b[1;32mc:\\Users\\YONSAI\\anaconda3\\lib\\site-packages\\pandas\\core\\frame.py:3959\u001b[0m, in \u001b[0;36mDataFrame.__setitem__\u001b[1;34m(self, key, value)\u001b[0m\n\u001b[0;32m   3956\u001b[0m     \u001b[39mself\u001b[39m\u001b[39m.\u001b[39m_setitem_array([key], value)\n\u001b[0;32m   3957\u001b[0m \u001b[39melse\u001b[39;00m:\n\u001b[0;32m   3958\u001b[0m     \u001b[39m# set column\u001b[39;00m\n\u001b[1;32m-> 3959\u001b[0m     \u001b[39mself\u001b[39;49m\u001b[39m.\u001b[39;49m_set_item(key, value)\n",
      "File \u001b[1;32mc:\\Users\\YONSAI\\anaconda3\\lib\\site-packages\\pandas\\core\\frame.py:4152\u001b[0m, in \u001b[0;36mDataFrame._set_item\u001b[1;34m(self, key, value)\u001b[0m\n\u001b[0;32m   4142\u001b[0m \u001b[39mdef\u001b[39;00m \u001b[39m_set_item\u001b[39m(\u001b[39mself\u001b[39m, key, value) \u001b[39m-\u001b[39m\u001b[39m>\u001b[39m \u001b[39mNone\u001b[39;00m:\n\u001b[0;32m   4143\u001b[0m \u001b[39m    \u001b[39m\u001b[39m\"\"\"\u001b[39;00m\n\u001b[0;32m   4144\u001b[0m \u001b[39m    Add series to DataFrame in specified column.\u001b[39;00m\n\u001b[0;32m   4145\u001b[0m \n\u001b[1;32m   (...)\u001b[0m\n\u001b[0;32m   4150\u001b[0m \u001b[39m    ensure homogeneity.\u001b[39;00m\n\u001b[0;32m   4151\u001b[0m \u001b[39m    \"\"\"\u001b[39;00m\n\u001b[1;32m-> 4152\u001b[0m     value \u001b[39m=\u001b[39m \u001b[39mself\u001b[39;49m\u001b[39m.\u001b[39;49m_sanitize_column(value)\n\u001b[0;32m   4154\u001b[0m     \u001b[39mif\u001b[39;00m (\n\u001b[0;32m   4155\u001b[0m         key \u001b[39min\u001b[39;00m \u001b[39mself\u001b[39m\u001b[39m.\u001b[39mcolumns\n\u001b[0;32m   4156\u001b[0m         \u001b[39mand\u001b[39;00m value\u001b[39m.\u001b[39mndim \u001b[39m==\u001b[39m \u001b[39m1\u001b[39m\n\u001b[0;32m   4157\u001b[0m         \u001b[39mand\u001b[39;00m \u001b[39mnot\u001b[39;00m is_extension_array_dtype(value)\n\u001b[0;32m   4158\u001b[0m     ):\n\u001b[0;32m   4159\u001b[0m         \u001b[39m# broadcast across multiple columns if necessary\u001b[39;00m\n\u001b[0;32m   4160\u001b[0m         \u001b[39mif\u001b[39;00m \u001b[39mnot\u001b[39;00m \u001b[39mself\u001b[39m\u001b[39m.\u001b[39mcolumns\u001b[39m.\u001b[39mis_unique \u001b[39mor\u001b[39;00m \u001b[39misinstance\u001b[39m(\u001b[39mself\u001b[39m\u001b[39m.\u001b[39mcolumns, MultiIndex):\n",
      "File \u001b[1;32mc:\\Users\\YONSAI\\anaconda3\\lib\\site-packages\\pandas\\core\\frame.py:4878\u001b[0m, in \u001b[0;36mDataFrame._sanitize_column\u001b[1;34m(self, value)\u001b[0m\n\u001b[0;32m   4875\u001b[0m     \u001b[39mreturn\u001b[39;00m _reindex_for_setitem(Series(value), \u001b[39mself\u001b[39m\u001b[39m.\u001b[39mindex)\n\u001b[0;32m   4877\u001b[0m \u001b[39mif\u001b[39;00m is_list_like(value):\n\u001b[1;32m-> 4878\u001b[0m     com\u001b[39m.\u001b[39;49mrequire_length_match(value, \u001b[39mself\u001b[39;49m\u001b[39m.\u001b[39;49mindex)\n\u001b[0;32m   4879\u001b[0m \u001b[39mreturn\u001b[39;00m sanitize_array(value, \u001b[39mself\u001b[39m\u001b[39m.\u001b[39mindex, copy\u001b[39m=\u001b[39m\u001b[39mTrue\u001b[39;00m, allow_2d\u001b[39m=\u001b[39m\u001b[39mTrue\u001b[39;00m)\n",
      "File \u001b[1;32mc:\\Users\\YONSAI\\anaconda3\\lib\\site-packages\\pandas\\core\\common.py:576\u001b[0m, in \u001b[0;36mrequire_length_match\u001b[1;34m(data, index)\u001b[0m\n\u001b[0;32m    572\u001b[0m \u001b[39m\u001b[39m\u001b[39m\"\"\"\u001b[39;00m\n\u001b[0;32m    573\u001b[0m \u001b[39mCheck the length of data matches the length of the index.\u001b[39;00m\n\u001b[0;32m    574\u001b[0m \u001b[39m\"\"\"\u001b[39;00m\n\u001b[0;32m    575\u001b[0m \u001b[39mif\u001b[39;00m \u001b[39mlen\u001b[39m(data) \u001b[39m!=\u001b[39m \u001b[39mlen\u001b[39m(index):\n\u001b[1;32m--> 576\u001b[0m     \u001b[39mraise\u001b[39;00m \u001b[39mValueError\u001b[39;00m(\n\u001b[0;32m    577\u001b[0m         \u001b[39m\"\u001b[39m\u001b[39mLength of values \u001b[39m\u001b[39m\"\u001b[39m\n\u001b[0;32m    578\u001b[0m         \u001b[39mf\u001b[39m\u001b[39m\"\u001b[39m\u001b[39m(\u001b[39m\u001b[39m{\u001b[39;00m\u001b[39mlen\u001b[39m(data)\u001b[39m}\u001b[39;00m\u001b[39m) \u001b[39m\u001b[39m\"\u001b[39m\n\u001b[0;32m    579\u001b[0m         \u001b[39m\"\u001b[39m\u001b[39mdoes not match length of index \u001b[39m\u001b[39m\"\u001b[39m\n\u001b[0;32m    580\u001b[0m         \u001b[39mf\u001b[39m\u001b[39m\"\u001b[39m\u001b[39m(\u001b[39m\u001b[39m{\u001b[39;00m\u001b[39mlen\u001b[39m(index)\u001b[39m}\u001b[39;00m\u001b[39m)\u001b[39m\u001b[39m\"\u001b[39m\n\u001b[0;32m    581\u001b[0m     )\n",
      "\u001b[1;31mValueError\u001b[0m: Length of values (6245) does not match length of index (6247)"
     ]
    }
   ],
   "source": [
    "# df['ly_summary'] = pd.Series(yoyack_re)\n",
    "df['ly_summary'] = yoyack_re"
   ]
  },
  {
   "cell_type": "code",
   "execution_count": null,
   "metadata": {},
   "outputs": [],
   "source": []
  }
 ],
 "metadata": {
  "kernelspec": {
   "display_name": "base",
   "language": "python",
   "name": "python3"
  },
  "language_info": {
   "codemirror_mode": {
    "name": "ipython",
    "version": 3
   },
   "file_extension": ".py",
   "mimetype": "text/x-python",
   "name": "python",
   "nbconvert_exporter": "python",
   "pygments_lexer": "ipython3",
   "version": "3.10.9"
  },
  "orig_nbformat": 4
 },
 "nbformat": 4,
 "nbformat_minor": 2
}
