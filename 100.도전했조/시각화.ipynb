{
 "cells": [
  {
   "cell_type": "code",
   "execution_count": 10,
   "metadata": {},
   "outputs": [],
   "source": [
    "import numpy as np\n",
    "import pandas as pd\n",
    "import matplotlib.pyplot as plt\n",
    "import seaborn as sns\n",
    "plt.rcParams['font.family'] = 'Malgun Gothic'\n",
    "plt.rcParams['axes.unicode_minus'] = False"
   ]
  },
  {
   "cell_type": "code",
   "execution_count": 11,
   "metadata": {},
   "outputs": [],
   "source": [
    "filename = 'static/data/melon_song_v3.csv'\n",
    "plist_filename1 = 'static/data/melon_playlist1.csv'\n",
    "plist_filename2 = 'static/data/melon_playlist2_v2.csv'"
   ]
  },
  {
   "cell_type": "code",
   "execution_count": 12,
   "metadata": {},
   "outputs": [
    {
     "data": {
      "text/plain": [
       "((6243, 14), (3845, 5), (60264, 5))"
      ]
     },
     "execution_count": 12,
     "metadata": {},
     "output_type": "execute_result"
    }
   ],
   "source": [
    "df = pd.read_csv(filename)\n",
    "plist1 = pd.read_csv(plist_filename1)\n",
    "plist2 = pd.read_csv(plist_filename2)\n",
    "df.shape, plist1.shape, plist2.shape"
   ]
  },
  {
   "cell_type": "code",
   "execution_count": 13,
   "metadata": {},
   "outputs": [
    {
     "data": {
      "text/html": [
       "<div>\n",
       "<style scoped>\n",
       "    .dataframe tbody tr th:only-of-type {\n",
       "        vertical-align: middle;\n",
       "    }\n",
       "\n",
       "    .dataframe tbody tr th {\n",
       "        vertical-align: top;\n",
       "    }\n",
       "\n",
       "    .dataframe thead th {\n",
       "        text-align: right;\n",
       "    }\n",
       "</style>\n",
       "<table border=\"1\" class=\"dataframe\">\n",
       "  <thead>\n",
       "    <tr style=\"text-align: right;\">\n",
       "      <th></th>\n",
       "      <th>songId</th>\n",
       "      <th>title</th>\n",
       "      <th>artist</th>\n",
       "      <th>genre</th>\n",
       "      <th>album</th>\n",
       "      <th>lyricist</th>\n",
       "      <th>composer</th>\n",
       "      <th>date</th>\n",
       "      <th>img</th>\n",
       "      <th>comment</th>\n",
       "      <th>like</th>\n",
       "      <th>lyric</th>\n",
       "      <th>plylstSeq</th>\n",
       "      <th>ly_summary</th>\n",
       "    </tr>\n",
       "  </thead>\n",
       "  <tbody>\n",
       "    <tr>\n",
       "      <th>0</th>\n",
       "      <td>418168</td>\n",
       "      <td>희재</td>\n",
       "      <td>성시경</td>\n",
       "      <td>발라드 국내영화</td>\n",
       "      <td>국화꽃 향기 OST</td>\n",
       "      <td>양재선</td>\n",
       "      <td>MGR</td>\n",
       "      <td>2003.02.01</td>\n",
       "      <td>https://cdnimg.melon.co.kr/cm/album/images/000...</td>\n",
       "      <td>332</td>\n",
       "      <td>138267</td>\n",
       "      <td>햇살은 우릴 위해 내리고\\n바람도 서롤 감싸게 했죠\\n우리 웃음속에 계절은 오고\\n...</td>\n",
       "      <td>445029956 411111859</td>\n",
       "      <td>정말로 울면 내가 그댈 보내&lt;br&gt;준 것 같아서</td>\n",
       "    </tr>\n",
       "  </tbody>\n",
       "</table>\n",
       "</div>"
      ],
      "text/plain": [
       "   songId title artist     genre       album lyricist composer        date   \n",
       "0  418168    희재    성시경  발라드 국내영화  국화꽃 향기 OST      양재선      MGR  2003.02.01  \\\n",
       "\n",
       "                                                 img  comment    like   \n",
       "0  https://cdnimg.melon.co.kr/cm/album/images/000...      332  138267  \\\n",
       "\n",
       "                                               lyric            plylstSeq   \n",
       "0  햇살은 우릴 위해 내리고\\n바람도 서롤 감싸게 했죠\\n우리 웃음속에 계절은 오고\\n...  445029956 411111859  \\\n",
       "\n",
       "                   ly_summary  \n",
       "0  정말로 울면 내가 그댈 보내<br>준 것 같아서  "
      ]
     },
     "execution_count": 13,
     "metadata": {},
     "output_type": "execute_result"
    }
   ],
   "source": [
    "df.head(1)"
   ]
  },
  {
   "cell_type": "code",
   "execution_count": 73,
   "metadata": {},
   "outputs": [
    {
     "data": {
      "text/plain": [
       "0       2003\n",
       "1       2022\n",
       "2       2005\n",
       "3       2022\n",
       "4       2022\n",
       "        ... \n",
       "6238    2020\n",
       "6239    2005\n",
       "6240    1994\n",
       "6241    2021\n",
       "6242    2018\n",
       "Name: date, Length: 6243, dtype: int32"
      ]
     },
     "execution_count": 73,
     "metadata": {},
     "output_type": "execute_result"
    }
   ],
   "source": [
    "# df['date'][:4]\n",
    "df.date.apply(lambda x :0 if x == '-' else x[:4]).astype(int)"
   ]
  },
  {
   "cell_type": "code",
   "execution_count": 74,
   "metadata": {},
   "outputs": [],
   "source": [
    "df['year'] = df.date.apply(lambda x :0 if x == '-' else x[:4]).astype(int)"
   ]
  },
  {
   "cell_type": "code",
   "execution_count": 28,
   "metadata": {},
   "outputs": [
    {
     "data": {
      "text/plain": [
       "6242     인디음악 포크/블루스\n",
       "6241    포크/블루스 국내드라마\n",
       "6240          포크/블루스\n",
       "6239          포크/블루스\n",
       "6238          포크/블루스\n",
       "            ...     \n",
       "4          록/메탈 국내영화\n",
       "3           발라드 국내영화\n",
       "2           발라드 국내영화\n",
       "1           발라드 국내영화\n",
       "0           발라드 국내영화\n",
       "Name: genre, Length: 6243, dtype: object"
      ]
     },
     "execution_count": 28,
     "metadata": {},
     "output_type": "execute_result"
    }
   ],
   "source": [
    "df.genre.sort_index(ascending=False)"
   ]
  },
  {
   "cell_type": "code",
   "execution_count": 34,
   "metadata": {},
   "outputs": [
    {
     "data": {
      "text/html": [
       "<div>\n",
       "<style scoped>\n",
       "    .dataframe tbody tr th:only-of-type {\n",
       "        vertical-align: middle;\n",
       "    }\n",
       "\n",
       "    .dataframe tbody tr th {\n",
       "        vertical-align: top;\n",
       "    }\n",
       "\n",
       "    .dataframe thead th {\n",
       "        text-align: right;\n",
       "    }\n",
       "</style>\n",
       "<table border=\"1\" class=\"dataframe\">\n",
       "  <thead>\n",
       "    <tr style=\"text-align: right;\">\n",
       "      <th></th>\n",
       "      <th>count</th>\n",
       "    </tr>\n",
       "    <tr>\n",
       "      <th>genre</th>\n",
       "      <th></th>\n",
       "    </tr>\n",
       "  </thead>\n",
       "  <tbody>\n",
       "    <tr>\n",
       "      <th>발라드</th>\n",
       "      <td>957</td>\n",
       "    </tr>\n",
       "    <tr>\n",
       "      <th>성인가요/트로트</th>\n",
       "      <td>818</td>\n",
       "    </tr>\n",
       "    <tr>\n",
       "      <th>댄스</th>\n",
       "      <td>692</td>\n",
       "    </tr>\n",
       "    <tr>\n",
       "      <th>랩/힙합</th>\n",
       "      <td>473</td>\n",
       "    </tr>\n",
       "    <tr>\n",
       "      <th>국내뮤지컬</th>\n",
       "      <td>470</td>\n",
       "    </tr>\n",
       "    <tr>\n",
       "      <th>록/메탈</th>\n",
       "      <td>467</td>\n",
       "    </tr>\n",
       "    <tr>\n",
       "      <th>R&amp;B/Soul</th>\n",
       "      <td>458</td>\n",
       "    </tr>\n",
       "    <tr>\n",
       "      <th>발라드 국내드라마</th>\n",
       "      <td>350</td>\n",
       "    </tr>\n",
       "    <tr>\n",
       "      <th>포크/블루스</th>\n",
       "      <td>295</td>\n",
       "    </tr>\n",
       "    <tr>\n",
       "      <th>인디음악 포크/블루스</th>\n",
       "      <td>275</td>\n",
       "    </tr>\n",
       "  </tbody>\n",
       "</table>\n",
       "</div>"
      ],
      "text/plain": [
       "             count\n",
       "genre             \n",
       "발라드            957\n",
       "성인가요/트로트       818\n",
       "댄스             692\n",
       "랩/힙합           473\n",
       "국내뮤지컬          470\n",
       "록/메탈           467\n",
       "R&B/Soul       458\n",
       "발라드 국내드라마      350\n",
       "포크/블루스         295\n",
       "인디음악 포크/블루스    275"
      ]
     },
     "execution_count": 34,
     "metadata": {},
     "output_type": "execute_result"
    }
   ],
   "source": [
    "a = df.genre.value_counts().head(10).to_frame()\n",
    "a"
   ]
  },
  {
   "cell_type": "code",
   "execution_count": 64,
   "metadata": {},
   "outputs": [
    {
     "data": {
      "text/plain": [
       "genre\n",
       "발라드            957\n",
       "성인가요/트로트       818\n",
       "댄스             692\n",
       "랩/힙합           473\n",
       "국내뮤지컬          470\n",
       "록/메탈           467\n",
       "R&B/Soul       458\n",
       "발라드 국내드라마      350\n",
       "포크/블루스         295\n",
       "인디음악 포크/블루스    275\n",
       "Name: count, dtype: int64"
      ]
     },
     "execution_count": 64,
     "metadata": {},
     "output_type": "execute_result"
    }
   ],
   "source": [
    "a['count']"
   ]
  },
  {
   "cell_type": "code",
   "execution_count": 67,
   "metadata": {},
   "outputs": [
    {
     "data": {
      "image/png": "[encoded data removed]",
      "text/plain": [
       "<Figure size 1000x300 with 1 Axes>"
      ]
     },
     "metadata": {},
     "output_type": "display_data"
    }
   ],
   "source": [
    "plt.figure(figsize=(10,3))\n",
    "plt.barh(a.index, a['count'])\n",
    "plt.title('요일별 팁의 비율')\n",
    "plt.show()"
   ]
  },
  {
   "cell_type": "code",
   "execution_count": 75,
   "metadata": {},
   "outputs": [],
   "source": [
    "# ab = a.pivot_table('genre','count')\n",
    "# df.date.apply(lambda x :0 if x == '-' else x[:4] ).astype(int)\n",
    "year = []\n",
    "for i in df.date.values:\n",
    "    if i == '-':\n",
    "        year.append(0)\n",
    "    else:\n",
    "        a = int(i[:4])\n",
    "        if 1960 <= a < 1970:\n",
    "            year.append(1960)\n",
    "        elif 1970 <= a < 1980: \n",
    "            year.append(1970)\n",
    "        elif 1980 <= a < 1990: \n",
    "            year.append(1980)\n",
    "        elif 1990 <= a < 2000: \n",
    "            year.append(1990)\n",
    "        elif 2000 <= a < 2010: \n",
    "            year.append(2000)\n",
    "        elif 2010 <= a < 2020: \n",
    "            year.append(2010)\n",
    "        else:\n",
    "            year.append(2020)"
   ]
  },
  {
   "cell_type": "code",
   "execution_count": null,
   "metadata": {},
   "outputs": [],
   "source": [
    "df['year'] = year\n",
    "df.tail()"
   ]
  },
  {
   "cell_type": "code",
   "execution_count": 95,
   "metadata": {},
   "outputs": [
    {
     "data": {
      "text/html": [
       "<div>\n",
       "<style scoped>\n",
       "    .dataframe tbody tr th:only-of-type {\n",
       "        vertical-align: middle;\n",
       "    }\n",
       "\n",
       "    .dataframe tbody tr th {\n",
       "        vertical-align: top;\n",
       "    }\n",
       "\n",
       "    .dataframe thead th {\n",
       "        text-align: right;\n",
       "    }\n",
       "</style>\n",
       "<table border=\"1\" class=\"dataframe\">\n",
       "  <thead>\n",
       "    <tr style=\"text-align: right;\">\n",
       "      <th></th>\n",
       "      <th>count</th>\n",
       "    </tr>\n",
       "    <tr>\n",
       "      <th>year</th>\n",
       "      <th></th>\n",
       "    </tr>\n",
       "  </thead>\n",
       "  <tbody>\n",
       "    <tr>\n",
       "      <th>2020</th>\n",
       "      <td>2182</td>\n",
       "    </tr>\n",
       "    <tr>\n",
       "      <th>2010</th>\n",
       "      <td>1899</td>\n",
       "    </tr>\n",
       "    <tr>\n",
       "      <th>2000</th>\n",
       "      <td>994</td>\n",
       "    </tr>\n",
       "    <tr>\n",
       "      <th>1990</th>\n",
       "      <td>678</td>\n",
       "    </tr>\n",
       "    <tr>\n",
       "      <th>1980</th>\n",
       "      <td>401</td>\n",
       "    </tr>\n",
       "    <tr>\n",
       "      <th>0</th>\n",
       "      <td>45</td>\n",
       "    </tr>\n",
       "    <tr>\n",
       "      <th>1970</th>\n",
       "      <td>42</td>\n",
       "    </tr>\n",
       "    <tr>\n",
       "      <th>1960</th>\n",
       "      <td>2</td>\n",
       "    </tr>\n",
       "  </tbody>\n",
       "</table>\n",
       "</div>"
      ],
      "text/plain": [
       "      count\n",
       "year       \n",
       "2020   2182\n",
       "2010   1899\n",
       "2000    994\n",
       "1990    678\n",
       "1980    401\n",
       "0        45\n",
       "1970     42\n",
       "1960      2"
      ]
     },
     "execution_count": 95,
     "metadata": {},
     "output_type": "execute_result"
    }
   ],
   "source": [
    "g = df.year.value_counts().astype(int).to_frame()\n",
    "g"
   ]
  },
  {
   "cell_type": "code",
   "execution_count": 141,
   "metadata": {},
   "outputs": [
    {
     "data": {
      "text/plain": [
       "8"
      ]
     },
     "execution_count": 141,
     "metadata": {},
     "output_type": "execute_result"
    }
   ],
   "source": [
    "len(g.values)"
   ]
  },
  {
   "cell_type": "code",
   "execution_count": 161,
   "metadata": {},
   "outputs": [
    {
     "data": {
      "text/plain": [
       "array([2020, 2010, 2000, 1990, 1980,    0, 1970, 1960], dtype=int64)"
      ]
     },
     "execution_count": 161,
     "metadata": {},
     "output_type": "execute_result"
    }
   ],
   "source": [
    "g.index.values"
   ]
  },
  {
   "cell_type": "code",
   "execution_count": 173,
   "metadata": {},
   "outputs": [
    {
     "data": {
      "text/plain": [
       "array([[2182],\n",
       "       [1899],\n",
       "       [ 994],\n",
       "       [ 678],\n",
       "       [ 401],\n",
       "       [  45],\n",
       "       [  42],\n",
       "       [   2]])"
      ]
     },
     "execution_count": 173,
     "metadata": {},
     "output_type": "execute_result"
    }
   ],
   "source": [
    "g.values"
   ]
  },
  {
   "cell_type": "code",
   "execution_count": 162,
   "metadata": {},
   "outputs": [
    {
     "data": {
      "text/plain": [
       "[2182]"
      ]
     },
     "execution_count": 162,
     "metadata": {},
     "output_type": "execute_result"
    }
   ],
   "source": [
    "[g.iloc[0][0]]"
   ]
  },
  {
   "cell_type": "code",
   "execution_count": 174,
   "metadata": {},
   "outputs": [
    {
     "data": {
      "text/plain": [
       "[2182, 1899, 994, 678, 401, 45, 42, 2]"
      ]
     },
     "execution_count": 174,
     "metadata": {},
     "output_type": "execute_result"
    }
   ],
   "source": [
    "li = []\n",
    "for i in range(len(g.values)):\n",
    "    abc = g.values[i][0]\n",
    "    li.append(abc)\n",
    "li"
   ]
  },
  {
   "cell_type": "code",
   "execution_count": 96,
   "metadata": {},
   "outputs": [
    {
     "data": {
      "text/plain": [
       "Index(['count'], dtype='object')"
      ]
     },
     "execution_count": 96,
     "metadata": {},
     "output_type": "execute_result"
    }
   ],
   "source": [
    "g.columns"
   ]
  },
  {
   "cell_type": "code",
   "execution_count": 175,
   "metadata": {},
   "outputs": [
    {
     "data": {
      "image/png": "[encoded data removed]",
      "text/plain": [
       "<Figure size 640x480 with 1 Axes>"
      ]
     },
     "metadata": {},
     "output_type": "display_data"
    }
   ],
   "source": [
    "ratio = li #합이 100이 아니어도 됨\n",
    "labels = g.index\n",
    "colors = ['yellowgreen', 'gold', 'lightskyblue', 'lightcoral']\n",
    "explode = (0, 0.1, 0, 0,0,0,0,0) # 두번째 값이 밖으로 튀어 나오게해줘라\n",
    "plt.pie(ratio, labels=labels , autopct='%.1f%%', colors=colors, explode=explode,\n",
    "         startangle=90, shadow=True) # 시작위치 90도 \n",
    "plt.title('파이 차트')\n",
    "plt.show()"
   ]
  },
  {
   "cell_type": "code",
   "execution_count": 148,
   "metadata": {},
   "outputs": [
    {
     "data": {
      "image/png": "[encoded data removed]",
      "text/plain": [
       "<Figure size 640x480 with 1 Axes>"
      ]
     },
     "metadata": {},
     "output_type": "display_data"
    }
   ],
   "source": [
    "plt.pie(ratio, labels=labels , autopct='%.1f%%') # 소숫점한자리까지 %% 맥프로우?\n",
    "plt.title('파이 차트')\n",
    "plt.show()"
   ]
  },
  {
   "cell_type": "code",
   "execution_count": null,
   "metadata": {},
   "outputs": [],
   "source": [
    "df = df.pivot_table('genre','count')\n",
    "dt = df.pivot_table(values='genre',index='class', columns='sex', aggfunc='count')\n",
    "\n",
    "df.pivot(values='genre' ,index='count', columns=df.iloc[0]['date'][0:4])"
   ]
  },
  {
   "cell_type": "code",
   "execution_count": 156,
   "metadata": {},
   "outputs": [
    {
     "data": {
      "text/html": [
       "<div>\n",
       "<style scoped>\n",
       "    .dataframe tbody tr th:only-of-type {\n",
       "        vertical-align: middle;\n",
       "    }\n",
       "\n",
       "    .dataframe tbody tr th {\n",
       "        vertical-align: top;\n",
       "    }\n",
       "\n",
       "    .dataframe thead th {\n",
       "        text-align: right;\n",
       "    }\n",
       "</style>\n",
       "<table border=\"1\" class=\"dataframe\">\n",
       "  <thead>\n",
       "    <tr style=\"text-align: right;\">\n",
       "      <th></th>\n",
       "      <th>count</th>\n",
       "    </tr>\n",
       "    <tr>\n",
       "      <th>genre</th>\n",
       "      <th></th>\n",
       "    </tr>\n",
       "  </thead>\n",
       "  <tbody>\n",
       "    <tr>\n",
       "      <th>발라드</th>\n",
       "      <td>957</td>\n",
       "    </tr>\n",
       "    <tr>\n",
       "      <th>성인가요/트로트</th>\n",
       "      <td>818</td>\n",
       "    </tr>\n",
       "    <tr>\n",
       "      <th>댄스</th>\n",
       "      <td>692</td>\n",
       "    </tr>\n",
       "    <tr>\n",
       "      <th>랩/힙합</th>\n",
       "      <td>473</td>\n",
       "    </tr>\n",
       "    <tr>\n",
       "      <th>국내뮤지컬</th>\n",
       "      <td>470</td>\n",
       "    </tr>\n",
       "    <tr>\n",
       "      <th>록/메탈</th>\n",
       "      <td>467</td>\n",
       "    </tr>\n",
       "    <tr>\n",
       "      <th>R&amp;B/Soul</th>\n",
       "      <td>458</td>\n",
       "    </tr>\n",
       "  </tbody>\n",
       "</table>\n",
       "</div>"
      ],
      "text/plain": [
       "          count\n",
       "genre          \n",
       "발라드         957\n",
       "성인가요/트로트    818\n",
       "댄스          692\n",
       "랩/힙합        473\n",
       "국내뮤지컬       470\n",
       "록/메탈        467\n",
       "R&B/Soul    458"
      ]
     },
     "execution_count": 156,
     "metadata": {},
     "output_type": "execute_result"
    }
   ],
   "source": [
    "# df.pivot_table('genre', 'year')\n",
    "# df.groupby('genre')['year'].agg(['count'])\n",
    "df.groupby('genre')['year'].agg(['count']).sort_values(by='count', ascending=False).head(7)"
   ]
  },
  {
   "cell_type": "code",
   "execution_count": 176,
   "metadata": {},
   "outputs": [
    {
     "data": {
      "text/plain": [
       "[957, 818, 692, 473, 470, 467, 458]"
      ]
     },
     "execution_count": 176,
     "metadata": {},
     "output_type": "execute_result"
    }
   ],
   "source": [
    "gg = df.groupby('genre')['year'].agg(['count']).sort_values(by='count', ascending=False).head(7)\n",
    "gli = []\n",
    "for i in range(len(gg.values)):\n",
    "    abc = gg.values[i][0]\n",
    "    gli.append(abc)\n",
    "gli"
   ]
  },
  {
   "cell_type": "code",
   "execution_count": 178,
   "metadata": {},
   "outputs": [
    {
     "data": {
      "image/png": "[encoded data removed]",
      "text/plain": [
       "<Figure size 640x480 with 1 Axes>"
      ]
     },
     "metadata": {},
     "output_type": "display_data"
    }
   ],
   "source": [
    "ratio = gli\n",
    "labels = gg.index\n",
    "colors = ['yellowgreen', 'gold', 'lightskyblue', 'lightcoral']\n",
    "explode = (0, 0.1, 0, 0,0,0,0) # 두번째 값이 밖으로 튀어 나오게해줘라\n",
    "plt.pie(ratio, labels=labels , autopct='%.1f%%', colors=colors, explode=explode,\n",
    "         startangle=90, shadow=True) # 시작위치 90도 \n",
    "plt.title('파이 차트')\n",
    "plt.show()"
   ]
  },
  {
   "cell_type": "code",
   "execution_count": 180,
   "metadata": {},
   "outputs": [
    {
     "data": {
      "text/html": [
       "<div>\n",
       "<style scoped>\n",
       "    .dataframe tbody tr th:only-of-type {\n",
       "        vertical-align: middle;\n",
       "    }\n",
       "\n",
       "    .dataframe tbody tr th {\n",
       "        vertical-align: top;\n",
       "    }\n",
       "\n",
       "    .dataframe thead th {\n",
       "        text-align: right;\n",
       "    }\n",
       "</style>\n",
       "<table border=\"1\" class=\"dataframe\">\n",
       "  <thead>\n",
       "    <tr style=\"text-align: right;\">\n",
       "      <th></th>\n",
       "      <th>songId</th>\n",
       "      <th>title</th>\n",
       "      <th>artist</th>\n",
       "      <th>genre</th>\n",
       "      <th>album</th>\n",
       "      <th>lyricist</th>\n",
       "      <th>composer</th>\n",
       "      <th>date</th>\n",
       "      <th>img</th>\n",
       "      <th>comment</th>\n",
       "      <th>like</th>\n",
       "      <th>lyric</th>\n",
       "      <th>plylstSeq</th>\n",
       "      <th>ly_summary</th>\n",
       "      <th>year</th>\n",
       "    </tr>\n",
       "  </thead>\n",
       "  <tbody>\n",
       "    <tr>\n",
       "      <th>0</th>\n",
       "      <td>418168</td>\n",
       "      <td>희재</td>\n",
       "      <td>성시경</td>\n",
       "      <td>발라드 국내영화</td>\n",
       "      <td>국화꽃 향기 OST</td>\n",
       "      <td>양재선</td>\n",
       "      <td>MGR</td>\n",
       "      <td>2003.02.01</td>\n",
       "      <td>https://cdnimg.melon.co.kr/cm/album/images/000...</td>\n",
       "      <td>332</td>\n",
       "      <td>138267</td>\n",
       "      <td>햇살은 우릴 위해 내리고\\n바람도 서롤 감싸게 했죠\\n우리 웃음속에 계절은 오고\\n...</td>\n",
       "      <td>445029956 411111859</td>\n",
       "      <td>정말로 울면 내가 그댈 보내&lt;br&gt;준 것 같아서</td>\n",
       "      <td>2000</td>\n",
       "    </tr>\n",
       "  </tbody>\n",
       "</table>\n",
       "</div>"
      ],
      "text/plain": [
       "   songId title artist     genre       album lyricist composer        date   \n",
       "0  418168    희재    성시경  발라드 국내영화  국화꽃 향기 OST      양재선      MGR  2003.02.01  \\\n",
       "\n",
       "                                                 img  comment    like   \n",
       "0  https://cdnimg.melon.co.kr/cm/album/images/000...      332  138267  \\\n",
       "\n",
       "                                               lyric            plylstSeq   \n",
       "0  햇살은 우릴 위해 내리고\\n바람도 서롤 감싸게 했죠\\n우리 웃음속에 계절은 오고\\n...  445029956 411111859  \\\n",
       "\n",
       "                   ly_summary  year  \n",
       "0  정말로 울면 내가 그댈 보내<br>준 것 같아서  2000  "
      ]
     },
     "execution_count": 180,
     "metadata": {},
     "output_type": "execute_result"
    }
   ],
   "source": [
    "df.head(1)"
   ]
  },
  {
   "cell_type": "code",
   "execution_count": 201,
   "metadata": {},
   "outputs": [
    {
     "data": {
      "text/plain": [
       "42"
      ]
     },
     "execution_count": 201,
     "metadata": {},
     "output_type": "execute_result"
    }
   ],
   "source": [
    "len(df[df['year'] == 1970])"
   ]
  },
  {
   "cell_type": "code",
   "execution_count": null,
   "metadata": {},
   "outputs": [],
   "source": [
    "# df[df.date.str.contains('196')]"
   ]
  },
  {
   "cell_type": "code",
   "execution_count": 359,
   "metadata": {},
   "outputs": [
    {
     "data": {
      "text/html": [
       "<div>\n",
       "<style scoped>\n",
       "    .dataframe tbody tr th:only-of-type {\n",
       "        vertical-align: middle;\n",
       "    }\n",
       "\n",
       "    .dataframe tbody tr th {\n",
       "        vertical-align: top;\n",
       "    }\n",
       "\n",
       "    .dataframe thead th {\n",
       "        text-align: right;\n",
       "    }\n",
       "</style>\n",
       "<table border=\"1\" class=\"dataframe\">\n",
       "  <thead>\n",
       "    <tr style=\"text-align: right;\">\n",
       "      <th></th>\n",
       "      <th>songId</th>\n",
       "      <th>title</th>\n",
       "      <th>artist</th>\n",
       "      <th>genre</th>\n",
       "      <th>album</th>\n",
       "      <th>lyricist</th>\n",
       "      <th>composer</th>\n",
       "      <th>date</th>\n",
       "      <th>img</th>\n",
       "      <th>comment</th>\n",
       "      <th>like</th>\n",
       "      <th>lyric</th>\n",
       "      <th>plylstSeq</th>\n",
       "    </tr>\n",
       "  </thead>\n",
       "  <tbody>\n",
       "    <tr>\n",
       "      <th>0</th>\n",
       "      <td>4083218</td>\n",
       "      <td>내일또 만납시다</td>\n",
       "      <td>금호동</td>\n",
       "      <td>성인가요/트로트</td>\n",
       "      <td>여인을 못잊어/그정 못잊어</td>\n",
       "      <td>전우</td>\n",
       "      <td>박춘석</td>\n",
       "      <td>20130401.0</td>\n",
       "      <td>https://cdnimg.melon.co.kr/cm/album/images/021...</td>\n",
       "      <td>13</td>\n",
       "      <td>263</td>\n",
       "      <td>하루의 일을 끝내고 돌아가는\\r\\n거리엔 사람의 물결\\r\\n하늘엔 별이 하나 둘 반...</td>\n",
       "      <td>460454132 518268022</td>\n",
       "    </tr>\n",
       "  </tbody>\n",
       "</table>\n",
       "</div>"
      ],
      "text/plain": [
       "    songId     title artist     genre           album lyricist composer   \n",
       "0  4083218  내일또 만납시다    금호동  성인가요/트로트  여인을 못잊어/그정 못잊어       전우      박춘석  \\\n",
       "\n",
       "         date                                                img  comment   \n",
       "0  20130401.0  https://cdnimg.melon.co.kr/cm/album/images/021...       13  \\\n",
       "\n",
       "   like                                              lyric   \n",
       "0   263  하루의 일을 끝내고 돌아가는\\r\\n거리엔 사람의 물결\\r\\n하늘엔 별이 하나 둘 반...  \\\n",
       "\n",
       "             plylstSeq  \n",
       "0  460454132 518268022  "
      ]
     },
     "execution_count": 359,
     "metadata": {},
     "output_type": "execute_result"
    }
   ],
   "source": [
    "g6070 = pd.read_csv('static/data/melon_year6070_concat.csv')\n",
    "g6070.head(1)"
   ]
  },
  {
   "cell_type": "code",
   "execution_count": 360,
   "metadata": {},
   "outputs": [
    {
     "data": {
      "text/html": [
       "<div>\n",
       "<style scoped>\n",
       "    .dataframe tbody tr th:only-of-type {\n",
       "        vertical-align: middle;\n",
       "    }\n",
       "\n",
       "    .dataframe tbody tr th {\n",
       "        vertical-align: top;\n",
       "    }\n",
       "\n",
       "    .dataframe thead th {\n",
       "        text-align: right;\n",
       "    }\n",
       "</style>\n",
       "<table border=\"1\" class=\"dataframe\">\n",
       "  <thead>\n",
       "    <tr style=\"text-align: right;\">\n",
       "      <th></th>\n",
       "      <th>count</th>\n",
       "    </tr>\n",
       "    <tr>\n",
       "      <th>genre</th>\n",
       "      <th></th>\n",
       "    </tr>\n",
       "  </thead>\n",
       "  <tbody>\n",
       "    <tr>\n",
       "      <th>성인가요/트로트</th>\n",
       "      <td>270</td>\n",
       "    </tr>\n",
       "    <tr>\n",
       "      <th>포크/블루스</th>\n",
       "      <td>85</td>\n",
       "    </tr>\n",
       "    <tr>\n",
       "      <th>발라드</th>\n",
       "      <td>39</td>\n",
       "    </tr>\n",
       "    <tr>\n",
       "      <th>록/메탈</th>\n",
       "      <td>17</td>\n",
       "    </tr>\n",
       "    <tr>\n",
       "      <th>국악 국악가요</th>\n",
       "      <td>5</td>\n",
       "    </tr>\n",
       "    <tr>\n",
       "      <th>발라드 성인가요/트로트</th>\n",
       "      <td>4</td>\n",
       "    </tr>\n",
       "    <tr>\n",
       "      <th>R&amp;B/Soul</th>\n",
       "      <td>3</td>\n",
       "    </tr>\n",
       "    <tr>\n",
       "      <th>댄스</th>\n",
       "      <td>3</td>\n",
       "    </tr>\n",
       "  </tbody>\n",
       "</table>\n",
       "</div>"
      ],
      "text/plain": [
       "              count\n",
       "genre              \n",
       "성인가요/트로트        270\n",
       "포크/블루스           85\n",
       "발라드              39\n",
       "록/메탈             17\n",
       "국악 국악가요           5\n",
       "발라드 성인가요/트로트      4\n",
       "R&B/Soul          3\n",
       "댄스                3"
      ]
     },
     "execution_count": 360,
     "metadata": {},
     "output_type": "execute_result"
    }
   ],
   "source": [
    "gaga6070 = g6070.genre.value_counts().head(10).to_frame()\n",
    "gaga6070"
   ]
  },
  {
   "cell_type": "code",
   "execution_count": 234,
   "metadata": {},
   "outputs": [
    {
     "data": {
      "text/plain": [
       "count    15\n",
       "dtype: int64"
      ]
     },
     "execution_count": 234,
     "metadata": {},
     "output_type": "execute_result"
    }
   ],
   "source": [
    "gaga.tail(4).sum()"
   ]
  },
  {
   "cell_type": "code",
   "execution_count": null,
   "metadata": {},
   "outputs": [],
   "source": [
    "gaga.append(new_row, ignore_index=True)"
   ]
  },
  {
   "cell_type": "code",
   "execution_count": 211,
   "metadata": {},
   "outputs": [
    {
     "data": {
      "text/plain": [
       "85"
      ]
     },
     "execution_count": 211,
     "metadata": {},
     "output_type": "execute_result"
    }
   ],
   "source": [
    "gaga.values[1][0]"
   ]
  },
  {
   "cell_type": "code",
   "execution_count": 235,
   "metadata": {},
   "outputs": [
    {
     "data": {
      "image/png": "[encoded data removed]",
      "text/plain": [
       "<Figure size 640x480 with 1 Axes>"
      ]
     },
     "metadata": {},
     "output_type": "display_data"
    }
   ],
   "source": [
    "import matplotlib.pyplot as plt\n",
    "\n",
    "# 데이터 설정\n",
    "labels = ['A', 'B', 'C', 'D', 'E']\n",
    "sizes = [15, 30, 10, 5, 20]\n",
    "\n",
    "# 파이차트 생성\n",
    "fig, ax = plt.subplots()\n",
    "threshold = 10  # 레이블을 표시하지 않을 기준 퍼센트 값\n",
    "\n",
    "# 퍼센트 값을 포매팅하는 함수 정의\n",
    "def label_func(pct):\n",
    "    if pct < threshold:\n",
    "        return ''\n",
    "    else:\n",
    "        return f'{pct:.1f}%'\n",
    "\n",
    "# 파이차트에 autopct 함수 설정 적용\n",
    "ax.pie(sizes, labels=labels, autopct=label_func)\n",
    "\n",
    "# 원 모양 유지\n",
    "ax.axis('equal')\n",
    "\n",
    "# 차트 표시\n",
    "plt.show()"
   ]
  },
  {
   "cell_type": "code",
   "execution_count": 361,
   "metadata": {},
   "outputs": [
    {
     "data": {
      "text/plain": [
       "[270, 85, 39, 17, 5, 4, 3, 3]"
      ]
     },
     "execution_count": 361,
     "metadata": {},
     "output_type": "execute_result"
    }
   ],
   "source": [
    "g6070li = []\n",
    "for i in range(len(gaga6070.values)):\n",
    "    abc = gaga6070.values[i][0]\n",
    "    g6070li.append(abc)\n",
    "g6070li"
   ]
  },
  {
   "cell_type": "code",
   "execution_count": 237,
   "metadata": {},
   "outputs": [],
   "source": [
    "threshold = 8 \n",
    "def label_func(pct):\n",
    "    if pct < threshold:\n",
    "        return ''\n",
    "    else:\n",
    "        return f'{pct:.1f}%'"
   ]
  },
  {
   "cell_type": "code",
   "execution_count": 362,
   "metadata": {},
   "outputs": [
    {
     "data": {
      "image/png": "[encoded data removed]",
      "text/plain": [
       "<Figure size 640x480 with 1 Axes>"
      ]
     },
     "metadata": {},
     "output_type": "display_data"
    }
   ],
   "source": [
    "ratio = g6070li\n",
    "labels = ['성인가요/트로트', '포크/블루스', '발라드', '록/메탈', '', '', '', '기타']\n",
    "# colors = ['yellowgreen', 'gold', 'lightskyblue', 'lightcoral']\n",
    "# colors = ['#ff9999', '#ffc000', '#8fd9b6', '#d395d0']\n",
    "colors = ['lightcoral', 'gold', 'lightskyblue', 'yellowgreen' ]\n",
    "explode = (0, 0.0, 0, 0,0,0,0,0) # 두번째 값이 밖으로 튀어 나오게해줘라\n",
    "plt.pie(ratio, labels=labels , autopct=label_func, colors=colors, explode=explode,\n",
    "         startangle=90, shadow=True) # 시작위치 90도 \n",
    "plt.title('1960~70년 장르분포')\n",
    "plt.show()"
   ]
  },
  {
   "cell_type": "code",
   "execution_count": null,
   "metadata": {},
   "outputs": [],
   "source": [
    "g80 = df[df['year']== 1980] \n",
    "# g80.genre.value_counts().to_frame()"
   ]
  },
  {
   "cell_type": "code",
   "execution_count": 356,
   "metadata": {},
   "outputs": [
    {
     "data": {
      "text/html": [
       "<div>\n",
       "<style scoped>\n",
       "    .dataframe tbody tr th:only-of-type {\n",
       "        vertical-align: middle;\n",
       "    }\n",
       "\n",
       "    .dataframe tbody tr th {\n",
       "        vertical-align: top;\n",
       "    }\n",
       "\n",
       "    .dataframe thead th {\n",
       "        text-align: right;\n",
       "    }\n",
       "</style>\n",
       "<table border=\"1\" class=\"dataframe\">\n",
       "  <thead>\n",
       "    <tr style=\"text-align: right;\">\n",
       "      <th></th>\n",
       "      <th>count</th>\n",
       "    </tr>\n",
       "    <tr>\n",
       "      <th>genre</th>\n",
       "      <th></th>\n",
       "    </tr>\n",
       "  </thead>\n",
       "  <tbody>\n",
       "    <tr>\n",
       "      <th>성인가요/트로트</th>\n",
       "      <td>153</td>\n",
       "    </tr>\n",
       "    <tr>\n",
       "      <th>발라드</th>\n",
       "      <td>100</td>\n",
       "    </tr>\n",
       "    <tr>\n",
       "      <th>포크/블루스</th>\n",
       "      <td>77</td>\n",
       "    </tr>\n",
       "    <tr>\n",
       "      <th>록/메탈</th>\n",
       "      <td>52</td>\n",
       "    </tr>\n",
       "    <tr>\n",
       "      <th>댄스</th>\n",
       "      <td>9</td>\n",
       "    </tr>\n",
       "    <tr>\n",
       "      <th>R&amp;B/Soul</th>\n",
       "      <td>3</td>\n",
       "    </tr>\n",
       "    <tr>\n",
       "      <th>발라드 성인가요/트로트</th>\n",
       "      <td>2</td>\n",
       "    </tr>\n",
       "    <tr>\n",
       "      <th>국내영화</th>\n",
       "      <td>1</td>\n",
       "    </tr>\n",
       "  </tbody>\n",
       "</table>\n",
       "</div>"
      ],
      "text/plain": [
       "              count\n",
       "genre              \n",
       "성인가요/트로트        153\n",
       "발라드             100\n",
       "포크/블루스           77\n",
       "록/메탈             52\n",
       "댄스                9\n",
       "R&B/Soul          3\n",
       "발라드 성인가요/트로트      2\n",
       "국내영화              1"
      ]
     },
     "execution_count": 356,
     "metadata": {},
     "output_type": "execute_result"
    }
   ],
   "source": [
    "g80 = df[df['year']== 1980] \n",
    "g80.groupby('genre')['year'].agg(['count']).sort_values(by='count', ascending=False).head(8)"
   ]
  },
  {
   "cell_type": "code",
   "execution_count": 366,
   "metadata": {},
   "outputs": [
    {
     "data": {
      "image/png": "[encoded data removed]",
      "text/plain": [
       "<Figure size 500x500 with 1 Axes>"
      ]
     },
     "metadata": {},
     "output_type": "display_data"
    }
   ],
   "source": [
    "# g80 = df[df['year']== 1990] \n",
    "gg = g80.groupby('genre')['year'].agg(['count']).sort_values(by='count', ascending=False).head(8)\n",
    "gli = []\n",
    "for i in range(len(gg.values)):\n",
    "    abc = gg.values[i][0]\n",
    "    gli.append(abc)\n",
    "\n",
    "threshold = 3 \n",
    "def label_func(pct):\n",
    "    if pct < threshold:\n",
    "        return ''\n",
    "    else:\n",
    "        return f'{pct:.1f}%'\n",
    "# autopct='%.1f%%'\n",
    "# ratio = gli\n",
    "ratio = g6070li\n",
    "labels = ['성인가요/트로트', '포크/블루스', '발라드', '록/메탈', '', '', '', '기타']\n",
    "# colors = ['yellowgreen', 'gold', 'lightskyblue', 'lightcoral', '#d395d0']\n",
    "# colors = ['#ff9999', '#ffc000', '#8fd9b6', '#d395d0']\n",
    "colors = ['lightcoral','#ffa500', 'gold', 'yellowgreen', 'lightskyblue', '#5656dd', '#d395d0', '#939695']\n",
    "# colors = ['#FFB3BA', '#FFDAB9', '#FFFFBA', '#B9FFC9', '#BAE1FF']\n",
    "# colors = ['#ff9999', '#ffc000', '#8fd9b6','#BAE1FF' , '#d395d0']\n",
    "explode = (0.1, 0.0, 0, 0,0,0,0,0) # 두번째 값이 밖으로 튀어 나오게해줘라\n",
    "\n",
    "plt.figure(figsize=(5,5))\n",
    "plt.pie(ratio ,labels=labels, autopct=label_func, colors=colors, explode=explode,\n",
    "         startangle=90, shadow=True) # 시작위치 90도 \n",
    "\n",
    "plt.title('1960~70년 장르분포')\n",
    "plt.show()"
   ]
  },
  {
   "cell_type": "code",
   "execution_count": null,
   "metadata": {},
   "outputs": [],
   "source": [
    "import matplotlib.pyplot as plt\n",
    "\n",
    "# 데이터 설정\n",
    "labels = ['A', 'B', 'C', 'D', 'E']\n",
    "sizes = [15, 30, 25, 10, 20]\n",
    "colors = ['red', 'blue', 'green', 'yellow', 'orange']\n",
    "\n",
    "# 파이차트 그리기\n",
    "wedges, texts, autotexts = plt.pie(sizes,  colors=colors, autopct='%1.1f%%', startangle=90)\n",
    "\n",
    "# 퍼센트와 레이블 위치 조정\n",
    "plt.gca().set_aspect('equal')\n",
    "plt.gca().set_position([0, 0, 0.5, 1])\n",
    "\n",
    "# 레벨과 퍼센트 표시\n",
    "for i, text in enumerate(autotexts):\n",
    "    percentage = sizes[i]\n",
    "    level = labels[i]\n",
    "    text.set_text(f'{level}\\n{percentage}%')\n",
    "\n",
    "# 제목 설정\n",
    "plt.title('Pie Chart')\n",
    "\n",
    "# 차트 표시\n",
    "plt.show()"
   ]
  }
 ],
 "metadata": {
  "kernelspec": {
   "display_name": "base",
   "language": "python",
   "name": "python3"
  },
  "language_info": {
   "codemirror_mode": {
    "name": "ipython",
    "version": 3
   },
   "file_extension": ".py",
   "mimetype": "text/x-python",
   "name": "python",
   "nbconvert_exporter": "python",
   "pygments_lexer": "ipython3",
   "version": "3.10.9"
  },
  "orig_nbformat": 4
 },
 "nbformat": 4,
 "nbformat_minor": 2
}
