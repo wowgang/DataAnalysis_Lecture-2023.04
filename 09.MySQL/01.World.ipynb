{
 "cells": [
  {
   "attachments": {},
   "cell_type": "markdown",
   "metadata": {},
   "source": [
    "### MySQL 접속용 샘플 프로그램"
   ]
  },
  {
   "attachments": {},
   "cell_type": "markdown",
   "metadata": {},
   "source": [
    "##### 1. 접속 정보가 들어 있는 파일 읽기"
   ]
  },
  {
   "cell_type": "code",
   "execution_count": 1,
   "metadata": {},
   "outputs": [],
   "source": [
    "import json\n",
    "with open('./mysql.json') as f:\n",
    "    config_str = f.read()\n",
    "config = json.loads(config_str)\n",
    "config"
   ]
  },
  {
   "cell_type": "code",
   "execution_count": 2,
   "metadata": {},
   "outputs": [
    {
     "data": {
      "text/plain": [
       "{'host': 'localhost',\n",
       " 'user': 'ysuser',\n",
       " 'password': 'yspass',\n",
       " 'database': 'world',\n",
       " 'port': 3306}"
      ]
     },
     "execution_count": 2,
     "metadata": {},
     "output_type": "execute_result"
    }
   ],
   "source": [
    "config"
   ]
  },
  {
   "cell_type": "code",
   "execution_count": null,
   "metadata": {},
   "outputs": [],
   "source": [
    "#  이렇게 하니 로드 안됨\n",
    "# a = json.load('mysql.json')\n",
    "# a"
   ]
  },
  {
   "attachments": {},
   "cell_type": "markdown",
   "metadata": {},
   "source": [
    "##### 2. MySQL에 접속"
   ]
  },
  {
   "cell_type": "code",
   "execution_count": 5,
   "metadata": {},
   "outputs": [],
   "source": [
    "import pymysql\n",
    "conn = pymysql.connect(\n",
    "    host = config['host'],\n",
    "    user = config['user'],\n",
    "    password = config['password'],\n",
    "    database = config['database'],\n",
    "    port = config['port']\n",
    ")\n",
    "# conn = pymysql.connect(**config) 과 같이 사용할 수 있음"
   ]
  },
  {
   "cell_type": "code",
   "execution_count": 6,
   "metadata": {},
   "outputs": [
    {
     "data": {
      "text/plain": [
       "<pymysql.connections.Connection at 0x16423ae8a60>"
      ]
     },
     "execution_count": 6,
     "metadata": {},
     "output_type": "execute_result"
    }
   ],
   "source": [
    "conn"
   ]
  },
  {
   "attachments": {},
   "cell_type": "markdown",
   "metadata": {},
   "source": [
    "##### 2. MySQL접속하기"
   ]
  },
  {
   "cell_type": "code",
   "execution_count": 7,
   "metadata": {},
   "outputs": [
    {
     "name": "stdout",
     "output_type": "stream",
     "text": [
      "(1, 'Kabul', 'AFG', 'Kabol', 1780000)\n",
      "(2, 'Qandahar', 'AFG', 'Qandahar', 237500)\n",
      "(3, 'Herat', 'AFG', 'Herat', 186800)\n",
      "(4, 'Mazar-e-Sharif', 'AFG', 'Balkh', 127800)\n",
      "(5, 'Amsterdam', 'NLD', 'Noord-Holland', 731200)\n",
      "(6, 'Rotterdam', 'NLD', 'Zuid-Holland', 593321)\n",
      "(7, 'Haag', 'NLD', 'Zuid-Holland', 440900)\n",
      "(8, 'Utrecht', 'NLD', 'Utrecht', 234323)\n",
      "(9, 'Eindhoven', 'NLD', 'Noord-Brabant', 201843)\n",
      "(10, 'Tilburg', 'NLD', 'Noord-Brabant', 193238)\n"
     ]
    }
   ],
   "source": [
    "# city table에서 10개 데이터 읽기\n",
    "cur = conn.cursor()\n",
    "sql = \"SELECT * FROM city LIMIT 10;\"\n",
    "# ; 세미콜론은 프로그램안에서 생략가능\n",
    "cur.execute(sql)\n",
    "rows = cur.fetchall() # 조건에 맞는 tabel에 있는 데이터 몽땅다 \n",
    "cur.close()\n",
    "\n",
    "for row in rows:\n",
    "    print(row)"
   ]
  },
  {
   "cell_type": "code",
   "execution_count": 9,
   "metadata": {},
   "outputs": [
    {
     "data": {
      "text/html": [
       "<div>\n",
       "<style scoped>\n",
       "    .dataframe tbody tr th:only-of-type {\n",
       "        vertical-align: middle;\n",
       "    }\n",
       "\n",
       "    .dataframe tbody tr th {\n",
       "        vertical-align: top;\n",
       "    }\n",
       "\n",
       "    .dataframe thead th {\n",
       "        text-align: right;\n",
       "    }\n",
       "</style>\n",
       "<table border=\"1\" class=\"dataframe\">\n",
       "  <thead>\n",
       "    <tr style=\"text-align: right;\">\n",
       "      <th></th>\n",
       "      <th>name</th>\n",
       "      <th>country_code</th>\n",
       "      <th>district</th>\n",
       "      <th>population</th>\n",
       "    </tr>\n",
       "    <tr>\n",
       "      <th>id</th>\n",
       "      <th></th>\n",
       "      <th></th>\n",
       "      <th></th>\n",
       "      <th></th>\n",
       "    </tr>\n",
       "  </thead>\n",
       "  <tbody>\n",
       "    <tr>\n",
       "      <th>1</th>\n",
       "      <td>Kabul</td>\n",
       "      <td>AFG</td>\n",
       "      <td>Kabol</td>\n",
       "      <td>1780000</td>\n",
       "    </tr>\n",
       "    <tr>\n",
       "      <th>2</th>\n",
       "      <td>Qandahar</td>\n",
       "      <td>AFG</td>\n",
       "      <td>Qandahar</td>\n",
       "      <td>237500</td>\n",
       "    </tr>\n",
       "    <tr>\n",
       "      <th>3</th>\n",
       "      <td>Herat</td>\n",
       "      <td>AFG</td>\n",
       "      <td>Herat</td>\n",
       "      <td>186800</td>\n",
       "    </tr>\n",
       "    <tr>\n",
       "      <th>4</th>\n",
       "      <td>Mazar-e-Sharif</td>\n",
       "      <td>AFG</td>\n",
       "      <td>Balkh</td>\n",
       "      <td>127800</td>\n",
       "    </tr>\n",
       "    <tr>\n",
       "      <th>5</th>\n",
       "      <td>Amsterdam</td>\n",
       "      <td>NLD</td>\n",
       "      <td>Noord-Holland</td>\n",
       "      <td>731200</td>\n",
       "    </tr>\n",
       "    <tr>\n",
       "      <th>6</th>\n",
       "      <td>Rotterdam</td>\n",
       "      <td>NLD</td>\n",
       "      <td>Zuid-Holland</td>\n",
       "      <td>593321</td>\n",
       "    </tr>\n",
       "    <tr>\n",
       "      <th>7</th>\n",
       "      <td>Haag</td>\n",
       "      <td>NLD</td>\n",
       "      <td>Zuid-Holland</td>\n",
       "      <td>440900</td>\n",
       "    </tr>\n",
       "    <tr>\n",
       "      <th>8</th>\n",
       "      <td>Utrecht</td>\n",
       "      <td>NLD</td>\n",
       "      <td>Utrecht</td>\n",
       "      <td>234323</td>\n",
       "    </tr>\n",
       "    <tr>\n",
       "      <th>9</th>\n",
       "      <td>Eindhoven</td>\n",
       "      <td>NLD</td>\n",
       "      <td>Noord-Brabant</td>\n",
       "      <td>201843</td>\n",
       "    </tr>\n",
       "    <tr>\n",
       "      <th>10</th>\n",
       "      <td>Tilburg</td>\n",
       "      <td>NLD</td>\n",
       "      <td>Noord-Brabant</td>\n",
       "      <td>193238</td>\n",
       "    </tr>\n",
       "  </tbody>\n",
       "</table>\n",
       "</div>"
      ],
      "text/plain": [
       "              name country_code       district  population\n",
       "id                                                        \n",
       "1            Kabul          AFG          Kabol     1780000\n",
       "2         Qandahar          AFG       Qandahar      237500\n",
       "3            Herat          AFG          Herat      186800\n",
       "4   Mazar-e-Sharif          AFG          Balkh      127800\n",
       "5        Amsterdam          NLD  Noord-Holland      731200\n",
       "6        Rotterdam          NLD   Zuid-Holland      593321\n",
       "7             Haag          NLD   Zuid-Holland      440900\n",
       "8          Utrecht          NLD        Utrecht      234323\n",
       "9        Eindhoven          NLD  Noord-Brabant      201843\n",
       "10         Tilburg          NLD  Noord-Brabant      193238"
      ]
     },
     "execution_count": 9,
     "metadata": {},
     "output_type": "execute_result"
    }
   ],
   "source": [
    "import pandas as pd\n",
    "df = pd.DataFrame(rows, columns=['id', 'name', 'country_code', 'district', 'population'])\n",
    "df.set_index('id', inplace=True)\n",
    "df"
   ]
  },
  {
   "attachments": {},
   "cell_type": "markdown",
   "metadata": {},
   "source": [
    "- 검색: 국가코드 KOR 의 인구수 TOP 10 "
   ]
  },
  {
   "cell_type": "code",
   "execution_count": 14,
   "metadata": {},
   "outputs": [],
   "source": [
    "cur = conn.cursor()\n",
    "# sql = \"SELECT * FROM city WHERE countrycode='KOR' ORDER BY popilation DESC LIMIT 10;\"\n",
    "# 검색을 하면 sqllite나 자바는 ? 인데 파이썬은 %s 파라미터로 받겠다\n",
    "sql = \"SELECT * FROM city WHERE countrycode=%s ORDER BY population DESC LIMIT 10;\"\n",
    "cur.execute(sql, ('KOR',))  # 파라메터는 반드시 튜플로 전달해야 하기 때문에 ('KOR', ) 콤마를 적어준것임\n",
    "rows = cur.fetchall()\n",
    "cur.close()"
   ]
  },
  {
   "cell_type": "code",
   "execution_count": 15,
   "metadata": {},
   "outputs": [
    {
     "name": "stdout",
     "output_type": "stream",
     "text": [
      "(2331, 'Seoul', 'KOR', 'Seoul', 9981619)\n",
      "(2332, 'Pusan', 'KOR', 'Pusan', 3804522)\n",
      "(2333, 'Inchon', 'KOR', 'Inchon', 2559424)\n",
      "(2334, 'Taegu', 'KOR', 'Taegu', 2548568)\n",
      "(2335, 'Taejon', 'KOR', 'Taejon', 1425835)\n",
      "(2336, 'Kwangju', 'KOR', 'Kwangju', 1368341)\n",
      "(2340, '수원', 'KOR', 'Kyonggi', 1200000)\n",
      "(2337, 'Ulsan', 'KOR', 'Kyongsangnam', 1084891)\n",
      "(2338, 'Songnam', 'KOR', 'Kyonggi', 869094)\n",
      "(2339, 'Puchon', 'KOR', 'Kyonggi', 779412)\n"
     ]
    }
   ],
   "source": [
    "for row in rows:\n",
    "    print(row)"
   ]
  },
  {
   "attachments": {},
   "cell_type": "markdown",
   "metadata": {},
   "source": [
    "- 데이터 추가(Insert)"
   ]
  },
  {
   "cell_type": "code",
   "execution_count": 16,
   "metadata": {},
   "outputs": [],
   "source": [
    "cur = conn.cursor()\n",
    "sql = \"INSERT INTO city VALUES(DEFAULT, '자바','KOR','Kyonggi', 6000000);\"\n",
    "# cur.execute(sql, ('KOR',))  # 파라메터는 반드시 튜플로 전달해야 하기 때문에 ('KOR', ) 콤마를 적어준것임\n",
    "cur.execute(sql)  # 파라메터로 받을게 없기 때문에 sql만\n",
    "# rows = cur.fetchall() # 결과로 오는게 없기 때문에 필요 없음\n",
    "conn.commit() # DB가 변화되는 SQL(Insert, Update, Delete)에서는 필수\n",
    "cur.close()"
   ]
  },
  {
   "cell_type": "code",
   "execution_count": 17,
   "metadata": {},
   "outputs": [],
   "source": [
    "params = ('노드', 'KOR', 'Kyonggi', 6000000)\n",
    "\n",
    "cur = conn.cursor()\n",
    "sql = \"INSERT INTO city VALUES(DEFAULT, %s, %s, %s, %s);\"\n",
    "cur.execute(sql, params) \n",
    "conn.commit()       # DB가 변화되는 SQL(Insert, Update, Delete)에서는 필수\n",
    "cur.close()"
   ]
  },
  {
   "cell_type": "code",
   "execution_count": 19,
   "metadata": {},
   "outputs": [],
   "source": [
    "params_list = [\n",
    "    ('HTML', 'KOR', 'Kyonggi', 7000000), ('CSS', 'KOR', 'Kyonggi', 7200000)\n",
    "]"
   ]
  },
  {
   "cell_type": "code",
   "execution_count": 20,
   "metadata": {},
   "outputs": [
    {
     "name": "stdout",
     "output_type": "stream",
     "text": [
      "('HTML', 'KOR', 'Kyonggi', 7000000)\n",
      "('CSS', 'KOR', 'Kyonggi', 7200000)\n"
     ]
    }
   ],
   "source": [
    "for params in params_list:\n",
    "    print(params)"
   ]
  },
  {
   "cell_type": "code",
   "execution_count": 21,
   "metadata": {},
   "outputs": [],
   "source": [
    "params_list = [\n",
    "    ('HTML', 'KOR', 'Kyonggi', 7000000), ('CSS', 'KOR', 'Kyonggi', 7200000)\n",
    "]\n",
    "\n",
    "cur = conn.cursor()\n",
    "sql = \"INSERT INTO city VALUES(DEFAULT, %s, %s, %s, %s);\"\n",
    "\n",
    "for params in params_list:\n",
    "    cur.execute(sql, params) # 두줄이 들어감 html,css\n",
    "\n",
    "conn.commit()\n",
    "cur.close()"
   ]
  },
  {
   "cell_type": "code",
   "execution_count": 22,
   "metadata": {},
   "outputs": [],
   "source": [
    "params_list = [\n",
    "    ('HTML', 'KOR', 'Kyonggi', 7000000), ('CSS', 'KOR', 'Kyonggi', 7200000)\n",
    "]\n",
    "\n",
    "cur = conn.cursor()\n",
    "sql = \"INSERT INTO city VALUES(DEFAULT, %s, %s, %s, %s);\"\n",
    "\n",
    "# for params in params_list:\n",
    "#     cur.execute(sql, params) # 두줄이 들어감\n",
    "\n",
    "cur.executemany(sql, params_list) \n",
    "# for 문 대신 executemany 사용해도됨 \n",
    "# 그러나 몇건은 가능하지만 대량은 어려울 수 있음. 코드가 안정적이지 않음. 100건,1000건일 경우는 사용하면 속도가 느림..\n",
    "conn.commit()\n",
    "cur.close()"
   ]
  },
  {
   "attachments": {},
   "cell_type": "markdown",
   "metadata": {},
   "source": [
    "- 데이터 수정(Update)"
   ]
  },
  {
   "cell_type": "code",
   "execution_count": 23,
   "metadata": {},
   "outputs": [],
   "source": [
    "cur = conn.cursor()\n",
    "sql = \"UPDATE city SET `Name`='CSS3' WHERE id=5008;\"\n",
    "cur.execute(sql) \n",
    "conn.commit()\n",
    "cur.close()"
   ]
  },
  {
   "cell_type": "code",
   "execution_count": 26,
   "metadata": {},
   "outputs": [],
   "source": [
    "#  HTML -> HTML5 로 네임변경\n",
    "params_list = [('HTHML5',5007), ('HTML5',5009)]\n",
    "cur = conn.cursor()\n",
    "# sql = \"UPDATE city SET `Name`='HTML5' WHERE id=5007;\"\n",
    "sql = \"UPDATE city SET `Name`=%s WHERE id=%s;\"\n",
    "# cur.execute(sql, params) \n",
    "cur.executemany(sql, params_list) \n",
    "conn.commit()\n",
    "cur.close()"
   ]
  },
  {
   "attachments": {},
   "cell_type": "markdown",
   "metadata": {},
   "source": [
    "- 데이터 삭제(Delete)"
   ]
  },
  {
   "cell_type": "code",
   "execution_count": 27,
   "metadata": {},
   "outputs": [],
   "source": [
    "cur = conn.cursor()\n",
    "# sql = \"DELETE FROM city WHERE id >= 5000;\"\n",
    "sql = \"DELETE FROM city WHERE id >= %s;\"\n",
    "cur.execute(sql, (5000,)) \n",
    "conn.commit()\n",
    "cur.close()"
   ]
  },
  {
   "cell_type": "code",
   "execution_count": 28,
   "metadata": {},
   "outputs": [
    {
     "data": {
      "text/plain": [
       "(2340, '수원', 'KOR', 'Kyonggi', 1200000)"
      ]
     },
     "execution_count": 28,
     "metadata": {},
     "output_type": "execute_result"
    }
   ],
   "source": [
    "cur = conn.cursor()\n",
    "sql = \"SELECT * FROM city WHERE name=%s;\"\n",
    "cur.execute(sql, ('수원', ))  # 파라메터는 반드시 튜플로 전달\n",
    "row = cur.fetchone()    # 하나의 데이터(레코드) / 한건만 오기 때문에 테이블에 수원은 한줄만있음\n",
    "conn.commit()\n",
    "cur.close()\n",
    "row"
   ]
  },
  {
   "attachments": {},
   "cell_type": "markdown",
   "metadata": {},
   "source": [
    "##### 4. MySQL 접속 해제"
   ]
  },
  {
   "cell_type": "code",
   "execution_count": 29,
   "metadata": {},
   "outputs": [],
   "source": [
    "conn.close()"
   ]
  }
 ],
 "metadata": {
  "kernelspec": {
   "display_name": "base",
   "language": "python",
   "name": "python3"
  },
  "language_info": {
   "codemirror_mode": {
    "name": "ipython",
    "version": 3
   },
   "file_extension": ".py",
   "mimetype": "text/x-python",
   "name": "python",
   "nbconvert_exporter": "python",
   "pygments_lexer": "ipython3",
   "version": "3.10.9"
  },
  "orig_nbformat": 4
 },
 "nbformat": 4,
 "nbformat_minor": 2
}
