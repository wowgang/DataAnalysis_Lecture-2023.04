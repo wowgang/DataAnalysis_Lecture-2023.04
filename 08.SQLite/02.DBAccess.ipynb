{
 "cells": [
  {
   "attachments": {},
   "cell_type": "markdown",
   "metadata": {},
   "source": [
    "### DAO를 이용하여 데이터 베이스 활용하기"
   ]
  },
  {
   "cell_type": "code",
   "execution_count": 1,
   "metadata": {},
   "outputs": [],
   "source": [
    "import member_dao as mdao"
   ]
  },
  {
   "cell_type": "code",
   "execution_count": 2,
   "metadata": {},
   "outputs": [
    {
     "name": "stdout",
     "output_type": "stream",
     "text": [
      "mid: 1, mname: 제임스, gender: 1\n",
      "mid: 2, mname: 마리아, gender: 2\n",
      "mid: 3, mname: 홍길동, gender: 1\n",
      "mid: 4, mname: 차정숙, gender: 2\n"
     ]
    }
   ],
   "source": [
    "rows = mdao.get_members()\n",
    "for row in rows:\n",
    "    print(f'mid: {row[0]}, mname: {row[1]}, gender: {row[2]}')"
   ]
  },
  {
   "cell_type": "code",
   "execution_count": 6,
   "metadata": {},
   "outputs": [],
   "source": [
    "# name = request.form['name']\n",
    "# gender = request.form['gender']\n",
    "# 위 형식은 input으로 받을 때\n",
    "name, gender = '테스트', 1\n",
    "params = (name, gender)\n",
    "mdao.insert_member(params)\n"
   ]
  },
  {
   "cell_type": "code",
   "execution_count": null,
   "metadata": {},
   "outputs": [],
   "source": [
    "rows = mdao.get_members()\n",
    "for row in rows:\n",
    "    print(f'mid: {row[0]}, mname: {row[1]}, gender: {row[2]}') # 하나지워진거 확인"
   ]
  },
  {
   "cell_type": "code",
   "execution_count": 7,
   "metadata": {},
   "outputs": [],
   "source": [
    "params = ('테스트2',2,6)\n",
    "mdao.update_member(params)"
   ]
  },
  {
   "cell_type": "code",
   "execution_count": 8,
   "metadata": {},
   "outputs": [
    {
     "ename": "AttributeError",
     "evalue": "module 'member_dao' has no attribute 'get_members'",
     "output_type": "error",
     "traceback": [
      "\u001b[1;31m---------------------------------------------------------------------------\u001b[0m",
      "\u001b[1;31mAttributeError\u001b[0m                            Traceback (most recent call last)",
      "Cell \u001b[1;32mIn[8], line 1\u001b[0m\n\u001b[1;32m----> 1\u001b[0m rows \u001b[39m=\u001b[39m mdao\u001b[39m.\u001b[39;49mget_members()\n\u001b[0;32m      2\u001b[0m \u001b[39mfor\u001b[39;00m row \u001b[39min\u001b[39;00m rows:\n\u001b[0;32m      3\u001b[0m     \u001b[39mprint\u001b[39m(\u001b[39mf\u001b[39m\u001b[39m'\u001b[39m\u001b[39mmid: \u001b[39m\u001b[39m{\u001b[39;00mrow[\u001b[39m0\u001b[39m]\u001b[39m}\u001b[39;00m\u001b[39m, mname: \u001b[39m\u001b[39m{\u001b[39;00mrow[\u001b[39m1\u001b[39m]\u001b[39m}\u001b[39;00m\u001b[39m, gender: \u001b[39m\u001b[39m{\u001b[39;00mrow[\u001b[39m2\u001b[39m]\u001b[39m}\u001b[39;00m\u001b[39m'\u001b[39m) \n",
      "\u001b[1;31mAttributeError\u001b[0m: module 'member_dao' has no attribute 'get_members'"
     ]
    }
   ],
   "source": [
    "rows = mdao.get_members()\n",
    "for row in rows:\n",
    "    print(f'mid: {row[0]}, mname: {row[1]}, gender: {row[2]}') "
   ]
  },
  {
   "cell_type": "code",
   "execution_count": 9,
   "metadata": {},
   "outputs": [],
   "source": [
    "mdao.delete_member(6)"
   ]
  },
  {
   "cell_type": "code",
   "execution_count": null,
   "metadata": {},
   "outputs": [],
   "source": [
    "rows = mdao.get_members()\n",
    "for row in rows:\n",
    "    print(f'mid: {row[0]}, mname: {row[1]}, gender: {row[2]}') "
   ]
  }
 ],
 "metadata": {
  "kernelspec": {
   "display_name": "base",
   "language": "python",
   "name": "python3"
  },
  "language_info": {
   "codemirror_mode": {
    "name": "ipython",
    "version": 3
   },
   "file_extension": ".py",
   "mimetype": "text/x-python",
   "name": "python",
   "nbconvert_exporter": "python",
   "pygments_lexer": "ipython3",
   "version": "3.10.9"
  },
  "orig_nbformat": 4
 },
 "nbformat": 4,
 "nbformat_minor": 2
}
