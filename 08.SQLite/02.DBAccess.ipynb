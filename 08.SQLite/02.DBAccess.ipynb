{
 "cells": [
  {
   "attachments": {},
   "cell_type": "markdown",
   "metadata": {},
   "source": [
    "### DAO를 이용하여 데이터 베이스 활용하기"
   ]
  },
  {
   "cell_type": "code",
   "execution_count": 1,
   "metadata": {},
   "outputs": [],
   "source": [
    "import member_dao as mdao"
   ]
  },
  {
   "cell_type": "code",
   "execution_count": 2,
   "metadata": {},
   "outputs": [
    {
     "name": "stdout",
     "output_type": "stream",
     "text": [
      "mid: 1, mname: 제임스, gender: 1\n",
      "mid: 2, mname: 마리아, gender: 2\n",
      "mid: 3, mname: 홍길동, gender: 1\n",
      "mid: 4, mname: 차정숙, gender: 2\n"
     ]
    }
   ],
   "source": [
    "rows = mdao.get_members()\n",
    "for row in rows:\n",
    "    print(f'mid: {row[0]}, mname: {row[1]}, gender: {row[2]}')"
   ]
  },
  {
   "cell_type": "code",
   "execution_count": 3,
   "metadata": {},
   "outputs": [],
   "source": [
    "# name = request.form['name']\n",
    "# gender = request.form['gender']\n",
    "# 위 형식은 input으로 받을 때\n",
    "name, gender = '테스트', 1\n",
    "params = (name, gender)\n",
    "mdao.insert_member(params)\n"
   ]
  },
  {
   "cell_type": "code",
   "execution_count": 4,
   "metadata": {},
   "outputs": [
    {
     "name": "stdout",
     "output_type": "stream",
     "text": [
      "mid: 1, mname: 제임스, gender: 1\n",
      "mid: 2, mname: 마리아, gender: 2\n",
      "mid: 3, mname: 홍길동, gender: 1\n",
      "mid: 4, mname: 차정숙, gender: 2\n",
      "mid: 7, mname: 테스트, gender: 1\n"
     ]
    }
   ],
   "source": [
    "rows = mdao.get_members()\n",
    "for row in rows:\n",
    "    print(f'mid: {row[0]}, mname: {row[1]}, gender: {row[2]}') # 하나지워진거 확인"
   ]
  },
  {
   "cell_type": "code",
   "execution_count": 5,
   "metadata": {},
   "outputs": [],
   "source": [
    "params = ('테스트2',2,6)\n",
    "mdao.update_member(params)"
   ]
  },
  {
   "cell_type": "code",
   "execution_count": 6,
   "metadata": {},
   "outputs": [
    {
     "name": "stdout",
     "output_type": "stream",
     "text": [
      "mid: 1, mname: 제임스, gender: 1\n",
      "mid: 2, mname: 마리아, gender: 2\n",
      "mid: 3, mname: 홍길동, gender: 1\n",
      "mid: 4, mname: 차정숙, gender: 2\n",
      "mid: 7, mname: 테스트, gender: 1\n"
     ]
    }
   ],
   "source": [
    "rows = mdao.get_members()\n",
    "for row in rows:\n",
    "    print(f'mid: {row[0]}, mname: {row[1]}, gender: {row[2]}') "
   ]
  },
  {
   "cell_type": "code",
   "execution_count": 7,
   "metadata": {},
   "outputs": [],
   "source": [
    "mdao.delete_member(6)"
   ]
  },
  {
   "cell_type": "code",
   "execution_count": 8,
   "metadata": {},
   "outputs": [
    {
     "name": "stdout",
     "output_type": "stream",
     "text": [
      "mid: 1, mname: 제임스, gender: 1\n",
      "mid: 2, mname: 마리아, gender: 2\n",
      "mid: 3, mname: 홍길동, gender: 1\n",
      "mid: 4, mname: 차정숙, gender: 2\n",
      "mid: 7, mname: 테스트, gender: 1\n"
     ]
    }
   ],
   "source": [
    "rows = mdao.get_members()\n",
    "for row in rows:\n",
    "    print(f'mid: {row[0]}, mname: {row[1]}, gender: {row[2]}') "
   ]
  }
 ],
 "metadata": {
  "kernelspec": {
   "display_name": "base",
   "language": "python",
   "name": "python3"
  },
  "language_info": {
   "codemirror_mode": {
    "name": "ipython",
    "version": 3
   },
   "file_extension": ".py",
   "mimetype": "text/x-python",
   "name": "python",
   "nbconvert_exporter": "python",
   "pygments_lexer": "ipython3",
   "version": "3.10.9"
  },
  "orig_nbformat": 4
 },
 "nbformat": 4,
 "nbformat_minor": 2
}
